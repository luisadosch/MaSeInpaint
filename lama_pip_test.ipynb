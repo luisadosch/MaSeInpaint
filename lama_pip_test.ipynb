{
 "cells": [
  {
   "cell_type": "code",
   "execution_count": 5,
   "id": "0e87b171-14db-4189-8677-b9f9737bdd2c",
   "metadata": {},
   "outputs": [],
   "source": [
    "from simple_lama_inpainting import SimpleLama\n",
    "from PIL import Image, ImageChops, ImageDraw\n",
    "import numpy as np\n",
    "import cv2\n",
    "\n",
    "# Function to narrow the mask (erosion)\n",
    "def narrow_mask(mask, iterations=1):\n",
    "    mask_array = np.array(mask)\n",
    "    kernel = np.ones((3, 3), np.uint8)\n",
    "    narrowed_mask = mask_array\n",
    "    for _ in range(iterations):\n",
    "        narrowed_mask = cv2.erode(narrowed_mask, kernel, iterations=1)\n",
    "    return Image.fromarray(narrowed_mask)\n",
    "\n",
    "# Function to expand the mask (dilation)\n",
    "def expand_mask(mask, iterations=1):\n",
    "    mask_array = np.array(mask)\n",
    "    kernel = np.ones((3, 3), np.uint8)\n",
    "    expanded_mask = mask_array\n",
    "    for _ in range(iterations):\n",
    "        expanded_mask = cv2.dilate(expanded_mask, kernel, iterations=1)\n",
    "    return Image.fromarray(expanded_mask)\n",
    "\n",
    "# Initialize SimpleLama\n",
    "simple_lama = SimpleLama()\n",
    "\n",
    "# Load image and initial mask\n",
    "img_path = \"images/image.png\"\n",
    "mask_path = \"images/mask.png\"\n",
    "\n",
    "image = Image.open(img_path)\n",
    "mask = Image.open(mask_path).convert('L')\n",
    "\n",
    "ITERATIONS = 5\n",
    "\n",
    "# Step 1: Narrow the mask (shrink the inpainting region)\n",
    "mask = narrow_mask(mask, iterations=ITERATIONS)  # Narrow the mask\n",
    "\n",
    "# Step 2: Progressive inpainting by expanding the mask\n",
    "for step in range(ITERATIONS +1):  # Number of progressive steps\n",
    "    result = simple_lama(image, mask)\n",
    "    mask = expand_mask(mask, iterations=1)  # Expand mask gradually\n",
    "    image = result  # Use the result as input for the next step\n",
    "\n",
    "# Save the final result\n",
    "result.save(f\"images/inpainted_progressive_{ITERATIONS}.png\")\n"
   ]
  },
  {
   "cell_type": "code",
   "execution_count": null,
   "id": "75389c1b-7d62-4fc2-8180-435c36504101",
   "metadata": {},
   "outputs": [],
   "source": []
  }
 ],
 "metadata": {
  "kernelspec": {
   "display_name": "lama-simple-kernel",
   "language": "python",
   "name": "lama-simple-kernel"
  },
  "language_info": {
   "codemirror_mode": {
    "name": "ipython",
    "version": 3
   },
   "file_extension": ".py",
   "mimetype": "text/x-python",
   "name": "python",
   "nbconvert_exporter": "python",
   "pygments_lexer": "ipython3",
   "version": "3.10.16"
  }
 },
 "nbformat": 4,
 "nbformat_minor": 5
}
