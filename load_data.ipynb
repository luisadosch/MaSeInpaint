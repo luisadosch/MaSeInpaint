{
 "cells": [
  {
   "cell_type": "code",
   "execution_count": 1,
   "metadata": {},
   "outputs": [],
   "source": [
    "import os"
   ]
  },
  {
   "cell_type": "code",
   "execution_count": 2,
   "metadata": {},
   "outputs": [],
   "source": [
    "directory = 'Dataset_new/masks'"
   ]
  },
  {
   "cell_type": "code",
   "execution_count": 3,
   "metadata": {},
   "outputs": [
    {
     "name": "stdout",
     "output_type": "stream",
     "text": [
      "Umbenannt: instance_011_ADE_train_00001408.png -> ADE_train_00001408.png\n"
     ]
    }
   ],
   "source": [
    "# Alle Dateien im Verzeichnis durchgehen\n",
    "for filename in os.listdir(directory):\n",
    "    if filename.startswith(\"instance_\") and \"ADE_train_\" in filename:\n",
    "        # Neuen Dateinamen erstellen, der nur den relevanten Teil enthält\n",
    "        new_name = filename.split(\"instance_\")[1]\n",
    "        new_name = new_name[new_name.index(\"ADE_train_\"):]\n",
    "        \n",
    "        # Vollständige Pfade für Umbenennung\n",
    "        old_path = os.path.join(directory, filename)\n",
    "        new_path = os.path.join(directory, new_name)\n",
    "        \n",
    "        # Datei umbenennen\n",
    "        os.rename(old_path, new_path)\n",
    "        print(f\"Umbenannt: {filename} -> {new_name}\")\n",
    "\n",
    "    elif filename.startswith(\"instance_\") and \"ADE_frame_\" in filename:\n",
    "        # Neuen Dateinamen erstellen, der nur den relevanten Teil enthält\n",
    "        new_name = filename.split(\"instance_\")[1]\n",
    "        new_name = new_name[new_name.index(\"ADE_frame_\"):]\n",
    "        \n",
    "        # Vollständige Pfade für Umbenennung\n",
    "        old_path = os.path.join(directory, filename)\n",
    "        new_path = os.path.join(directory, new_name)\n",
    "        \n",
    "        # Datei umbenennen\n",
    "        os.rename(old_path, new_path)\n",
    "        print(f\"Umbenannt: {filename} -> {new_name}\")\n"
   ]
  },
  {
   "cell_type": "code",
   "execution_count": 4,
   "metadata": {},
   "outputs": [
    {
     "name": "stdout",
     "output_type": "stream",
     "text": [
      "Umbenannt: ADE_train_00001408.png -> ADE_train_00001408.jpg\n"
     ]
    }
   ],
   "source": [
    "# Alle Dateien im Verzeichnis durchgehen\n",
    "for filename in os.listdir(directory):\n",
    "    if filename.endswith(\".png\"):  # Prüfen, ob die Datei auf .png endet\n",
    "        # Neuen Dateinamen mit .jpg statt .png erstellen\n",
    "        new_name = filename.replace(\".png\", \".jpg\")\n",
    "        \n",
    "        # Vollständige Pfade für Umbenennung\n",
    "        old_path = os.path.join(directory, filename)\n",
    "        new_path = os.path.join(directory, new_name)\n",
    "        \n",
    "        # Datei umbenennen\n",
    "        os.rename(old_path, new_path)\n",
    "        print(f\"Umbenannt: {filename} -> {new_name}\")"
   ]
  }
 ],
 "metadata": {
  "kernelspec": {
   "display_name": "BA",
   "language": "python",
   "name": "python3"
  },
  "language_info": {
   "codemirror_mode": {
    "name": "ipython",
    "version": 3
   },
   "file_extension": ".py",
   "mimetype": "text/x-python",
   "name": "python",
   "nbconvert_exporter": "python",
   "pygments_lexer": "ipython3",
   "version": "3.12.4"
  }
 },
 "nbformat": 4,
 "nbformat_minor": 2
}
