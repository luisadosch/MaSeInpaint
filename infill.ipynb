{
 "cells": [
  {
   "cell_type": "code",
   "execution_count": 1,
   "id": "98773f81-b57f-4df9-bd25-d26e3b804605",
   "metadata": {},
   "outputs": [
    {
     "name": "stderr",
     "output_type": "stream",
     "text": [
      "/home/ludo/.local/lib/python3.10/site-packages/tqdm/auto.py:21: TqdmWarning: IProgress not found. Please update jupyter and ipywidgets. See https://ipywidgets.readthedocs.io/en/stable/user_install.html\n",
      "  from .autonotebook import tqdm as notebook_tqdm\n"
     ]
    }
   ],
   "source": [
    "from simple_lama_inpainting import SimpleLama\n",
    "from PIL import Image, ImageChops, ImageDraw\n",
    "import numpy as np\n",
    "import cv2\n",
    "import os\n",
    "from torchmetrics.image.fid import FrechetInceptionDistance\n",
    "import torch\n",
    "from diffusers import AutoPipelineForInpainting\n",
    "from diffusers.utils import load_image, make_image_grid\n",
    "from PIL import Image\n",
    "import numpy as np\n"
   ]
  },
  {
   "cell_type": "code",
   "execution_count": 2,
   "id": "f3c94963-5e5b-4abb-9c8d-7dbc540ef35b",
   "metadata": {},
   "outputs": [],
   "source": [
    "# 1. Lama"
   ]
  },
  {
   "cell_type": "code",
   "execution_count": 3,
   "id": "6b9c044a-9e70-4def-b63d-5c326e043084",
   "metadata": {},
   "outputs": [],
   "source": [
    "# Iterationen für Maskenmanipulation\n",
    "ITERATIONS = 10\n",
    "\n",
    "# Funktion, um die Maske zu erweitern (Dilation)\n",
    "def expand_mask(mask, iterations=ITERATIONS):\n",
    "    mask_array = np.array(mask)\n",
    "    kernel = np.ones((3, 3), np.uint8)\n",
    "    expanded_mask = mask_array\n",
    "    for _ in range(iterations):\n",
    "        expanded_mask = cv2.dilate(expanded_mask, kernel, iterations=1)\n",
    "    return Image.fromarray(expanded_mask)"
   ]
  },
  {
   "cell_type": "code",
   "execution_count": 4,
   "id": "84811d0d-d005-4501-8c1f-a7869ffdddd3",
   "metadata": {},
   "outputs": [
    {
     "name": "stdout",
     "output_type": "stream",
     "text": [
      "Found 230 images\n"
     ]
    }
   ],
   "source": [
    "\n",
    "# Directories\n",
    "images_dir = './Dataset_new/images'\n",
    "masks_dir = './Dataset_new/masks'\n",
    "\n",
    "# Initialize output\n",
    "image_files = {}\n",
    "\n",
    "# List all files in images and masks directories\n",
    "image_files = [f for f in os.listdir(images_dir) if f.endswith('.jpg') and f in os.listdir(masks_dir)]\n",
    "\n",
    "print(f'Found {len(image_files)} images')\n"
   ]
  },
  {
   "cell_type": "code",
   "execution_count": 5,
   "id": "3a725d5f-01d3-4e7a-8a4b-221c1a8a95f0",
   "metadata": {},
   "outputs": [],
   "source": [
    "# Initialisiere SimpleLama\n",
    "simple_lama = SimpleLama()"
   ]
  },
  {
   "cell_type": "code",
   "execution_count": 6,
   "id": "64eebae8-2c57-4e24-99b9-c8a0983607b1",
   "metadata": {},
   "outputs": [],
   "source": [
    "def image_mask_generator(images_dir, masks_dir, image_files):\n",
    "    \"\"\"\n",
    "    Generator to read images and their corresponding masks.\n",
    "\n",
    "    Args:\n",
    "    - images_dir (str): Directory containing the images.\n",
    "    - masks_dir (str): Directory containing the masks.\n",
    "    - image_files (list): List of filenames (same for both images and masks).\n",
    "\n",
    "    Yields:\n",
    "    - tuple: A tuple containing a PIL image and a corresponding mask (PIL image).\n",
    "    \"\"\"\n",
    "    for fname in image_files:\n",
    "        image_path = os.path.join(images_dir, fname)  # Full path to the image\n",
    "        mask_path = os.path.join(masks_dir, fname)  # Full path to the mask\n",
    "        \n",
    "        # Load image and mask\n",
    "        try:\n",
    "            image = Image.open(image_path).convert('RGB')  # Convert image to RGB\n",
    "            mask = Image.open(mask_path).convert('L')  # Convert mask to grayscale (L)\n",
    "\n",
    "            mask = expand_mask(mask) # Expand mask \n",
    "            \n",
    "            # Yield image and mask\n",
    "            yield fname, image, mask\n",
    "        except Exception as e:\n",
    "            print(f\"Error loading {fname}: {e}\")"
   ]
  },
  {
   "cell_type": "code",
   "execution_count": 7,
   "id": "d08c78e8-e28f-48af-9e8b-81f342350977",
   "metadata": {},
   "outputs": [],
   "source": [
    "import os\n",
    "\n",
    "def save_result(image, result, fname, results_folder):\n",
    "    \"\"\"\n",
    "    Save the result to a directory.\n",
    "    \n",
    "    Args:\n",
    "    - image (PIL.Image): The input image.\n",
    "    - result (PIL.Image): The result of the inpainting or processing.\n",
    "    - fname (str): The filename of the current image.\n",
    "    - results_folder (str): Folder where results will be saved.\n",
    "    \n",
    "    Returns:\n",
    "    - None\n",
    "    \"\"\"\n",
    "\n",
    "    results_dir = f'results/{results_folder}'\n",
    "    \n",
    "    # Ensure the result directory exists\n",
    "    os.makedirs(results_dir, exist_ok=True)\n",
    "    \n",
    "    \n",
    "    # Create the result path for saving the image\n",
    "    result_path = os.path.join(results_dir, fname)\n",
    "    \n",
    "    # Save the result\n",
    "    result.save(result_path)\n",
    "    \n",
    "    # Print the success message\n",
    "    print(f\"Ergebnis für Bild {fname} gespeichert: {result_path}\")\n",
    "\n",
    "\n",
    "\n"
   ]
  },
  {
   "cell_type": "code",
   "execution_count": 8,
   "id": "1f575b53-98e5-4c93-961f-7cb775a0e640",
   "metadata": {},
   "outputs": [],
   "source": [
    "import torch\n",
    "from torchvision.transforms import ToTensor, Resize, Compose\n",
    "from torchmetrics.image.fid import FrechetInceptionDistance\n",
    "import lpips\n",
    "\n",
    "# Define a fixed image size\n",
    "target_size = (256, 256)  # Resize all images to this size\n",
    "\n",
    "# Preprocessing function to resize and convert images to tensors\n",
    "def preprocess_images(images, target_size=(256, 256)):\n",
    "    \"\"\"\n",
    "    Preprocess images by resizing them to the target size and converting to tensors.\n",
    "\n",
    "    Args:\n",
    "    - images (list of PIL Images): The list of images to preprocess.\n",
    "    - target_size (tuple): The target size to resize images to (default is 256x256).\n",
    "\n",
    "    Returns:\n",
    "    - torch.Tensor: A tensor containing all preprocessed images, stacked in a batch.\n",
    "    \"\"\"\n",
    "    transform = Compose([\n",
    "        Resize(target_size),  # Resize the images to the target size\n",
    "        ToTensor(),  # Convert the images to tensor\n",
    "    ])\n",
    "\n",
    "    # Apply the transformation to each image in the list\n",
    "    image_tensors = [transform(image) for image in images]\n",
    "\n",
    "    # Stack the tensors into a single batch\n",
    "    stacked_tensor = torch.stack(image_tensors)\n",
    "    \n",
    "    return stacked_tensor\n",
    "\n",
    "\n",
    "# Error calculation function to compute the FID score\n",
    "def calculate_fid(real_images_tensor, infilled_images_tensor):\n",
    "    \"\"\"\n",
    "    Calculate the Fréchet Inception Distance (FID) between real and Lama generated images.\n",
    "\n",
    "    Args:\n",
    "    - real_images_tensor (tensor): The tensor of real images.\n",
    "    - infilled_images_tensor (list of PIL Images): The tensor of infilled images.\n",
    "\n",
    "    Returns:\n",
    "    - float: The FID score.\n",
    "    \"\"\"\n",
    "    # Initialize the FID metric\n",
    "    fid = FrechetInceptionDistance(normalize=True)\n",
    "\n",
    "    # Update the FID with the preprocessed images\n",
    "    fid.update(real_images_tensor, real=True)\n",
    "    fid.update(infilled_images_tensor, real=False)\n",
    "\n",
    "    # Calculate and return the FID score\n",
    "    return float(fid.compute())\n",
    "\n",
    "\n",
    "# LPIPS calculation function to compute the LPIPS score\n",
    "def calculate_lpips(real_images_tensor, infilled_images_tensor):\n",
    "    \"\"\"\n",
    "    Calculate the Learned Perceptual Image Patch Similarity (LPIPS) between real and Lama generated images.\n",
    "\n",
    "    Args:\n",
    "    - real_images_tensor (tensor): The tensor of real images.\n",
    "    - infilled_images_tensor (list of PIL Images): The tensor of infilled images.\n",
    "\n",
    "    Returns:\n",
    "    - float: The LPIPS score.\n",
    "    \"\"\"\n",
    "\n",
    "    # Load the LPIPS model\n",
    "    loss_fn = lpips.LPIPS(net='alex')  # Using AlexNet architecture for LPIPS\n",
    "\n",
    "\n",
    "    # Compute the LPIPS score\n",
    "    lpips_score = loss_fn(real_images_tensor, infilled_images_tensor)\n",
    "\n",
    "    # Return the average LPIPS score\n",
    "    return lpips_score.mean().item()\n",
    "\n"
   ]
  },
  {
   "cell_type": "code",
   "execution_count": 9,
   "id": "2052f419-cbe7-4512-aaf6-73de47bdb4d4",
   "metadata": {},
   "outputs": [
    {
     "name": "stdout",
     "output_type": "stream",
     "text": [
      "Ergebnis für Bild ADE_train_00001504.jpg gespeichert: results/lama/ADE_train_00001504.jpg\n",
      "Ergebnis für Bild ADE_train_00003093.jpg gespeichert: results/lama/ADE_train_00003093.jpg\n",
      "Ergebnis für Bild ADE_train_00001850.jpg gespeichert: results/lama/ADE_train_00001850.jpg\n",
      "Ergebnis für Bild ADE_train_00008819.jpg gespeichert: results/lama/ADE_train_00008819.jpg\n",
      "Ergebnis für Bild ADE_train_00008798.jpg gespeichert: results/lama/ADE_train_00008798.jpg\n",
      "Ergebnis für Bild ADE_train_00025047.jpg gespeichert: results/lama/ADE_train_00025047.jpg\n",
      "Ergebnis für Bild ADE_train_00005350.jpg gespeichert: results/lama/ADE_train_00005350.jpg\n",
      "Ergebnis für Bild ADE_train_00022999.jpg gespeichert: results/lama/ADE_train_00022999.jpg\n",
      "Ergebnis für Bild ADE_train_00002279.jpg gespeichert: results/lama/ADE_train_00002279.jpg\n",
      "Ergebnis für Bild ADE_train_00019283.jpg gespeichert: results/lama/ADE_train_00019283.jpg\n",
      "Ergebnis für Bild ADE_train_00008815.jpg gespeichert: results/lama/ADE_train_00008815.jpg\n",
      "Ergebnis für Bild ADE_train_00003088.jpg gespeichert: results/lama/ADE_train_00003088.jpg\n",
      "Ergebnis für Bild ADE_train_00016147.jpg gespeichert: results/lama/ADE_train_00016147.jpg\n",
      "Ergebnis für Bild ADE_train_00002461.jpg gespeichert: results/lama/ADE_train_00002461.jpg\n",
      "Ergebnis für Bild ADE_train_00003089.jpg gespeichert: results/lama/ADE_train_00003089.jpg\n",
      "Ergebnis für Bild ADE_train_00001502.jpg gespeichert: results/lama/ADE_train_00001502.jpg\n",
      "Ergebnis für Bild ADE_train_00002296.jpg gespeichert: results/lama/ADE_train_00002296.jpg\n",
      "Ergebnis für Bild ADE_train_00002287.jpg gespeichert: results/lama/ADE_train_00002287.jpg\n",
      "Ergebnis für Bild ADE_train_00001490.jpg gespeichert: results/lama/ADE_train_00001490.jpg\n",
      "Ergebnis für Bild ADE_train_00019290.jpg gespeichert: results/lama/ADE_train_00019290.jpg\n",
      "Ergebnis für Bild ADE_train_00000651.jpg gespeichert: results/lama/ADE_train_00000651.jpg\n",
      "Ergebnis für Bild ADE_train_00002293.jpg gespeichert: results/lama/ADE_train_00002293.jpg\n",
      "Ergebnis für Bild ADE_train_00008801.jpg gespeichert: results/lama/ADE_train_00008801.jpg\n",
      "Ergebnis für Bild ADE_train_00002281.jpg gespeichert: results/lama/ADE_train_00002281.jpg\n",
      "Ergebnis für Bild ADE_train_00001499.jpg gespeichert: results/lama/ADE_train_00001499.jpg\n",
      "Ergebnis für Bild ADE_train_00002140.jpg gespeichert: results/lama/ADE_train_00002140.jpg\n",
      "Ergebnis für Bild ADE_train_00003094.jpg gespeichert: results/lama/ADE_train_00003094.jpg\n",
      "Ergebnis für Bild ADE_train_00000663.jpg gespeichert: results/lama/ADE_train_00000663.jpg\n",
      "Ergebnis für Bild ADE_train_00002291.jpg gespeichert: results/lama/ADE_train_00002291.jpg\n",
      "Ergebnis für Bild ADE_train_00019294.jpg gespeichert: results/lama/ADE_train_00019294.jpg\n",
      "Ergebnis für Bild ADE_train_00011671.jpg gespeichert: results/lama/ADE_train_00011671.jpg\n",
      "Ergebnis für Bild ADE_train_00001500.jpg gespeichert: results/lama/ADE_train_00001500.jpg\n",
      "Ergebnis für Bild ADE_train_00011663.jpg gespeichert: results/lama/ADE_train_00011663.jpg\n",
      "Ergebnis für Bild ADE_train_00004955.jpg gespeichert: results/lama/ADE_train_00004955.jpg\n",
      "Ergebnis für Bild ADE_train_00022635.jpg gespeichert: results/lama/ADE_train_00022635.jpg\n",
      "Ergebnis für Bild ADE_train_00000664.jpg gespeichert: results/lama/ADE_train_00000664.jpg\n",
      "Ergebnis für Bild ADE_train_00004951.jpg gespeichert: results/lama/ADE_train_00004951.jpg\n",
      "Ergebnis für Bild ADE_train_00002462.jpg gespeichert: results/lama/ADE_train_00002462.jpg\n",
      "Ergebnis für Bild ADE_train_00002301.jpg gespeichert: results/lama/ADE_train_00002301.jpg\n",
      "Ergebnis für Bild ADE_train_00004950.jpg gespeichert: results/lama/ADE_train_00004950.jpg\n",
      "Ergebnis für Bild ADE_train_00000656.jpg gespeichert: results/lama/ADE_train_00000656.jpg\n",
      "Ergebnis für Bild ADE_train_00000667.jpg gespeichert: results/lama/ADE_train_00000667.jpg\n",
      "Ergebnis für Bild ADE_train_00019281.jpg gespeichert: results/lama/ADE_train_00019281.jpg\n",
      "Ergebnis für Bild ADE_train_00002298.jpg gespeichert: results/lama/ADE_train_00002298.jpg\n",
      "Ergebnis für Bild ADE_train_00003095.jpg gespeichert: results/lama/ADE_train_00003095.jpg\n",
      "Ergebnis für Bild ADE_train_00005345.jpg gespeichert: results/lama/ADE_train_00005345.jpg\n",
      "Ergebnis für Bild ADE_train_00004952.jpg gespeichert: results/lama/ADE_train_00004952.jpg\n",
      "Ergebnis für Bild ADE_train_00011664.jpg gespeichert: results/lama/ADE_train_00011664.jpg\n",
      "Ergebnis für Bild ADE_train_00020475.jpg gespeichert: results/lama/ADE_train_00020475.jpg\n",
      "Ergebnis für Bild ADE_train_00003083.jpg gespeichert: results/lama/ADE_train_00003083.jpg\n",
      "Ergebnis für Bild ADE_train_00024577.jpg gespeichert: results/lama/ADE_train_00024577.jpg\n",
      "Ergebnis für Bild ADE_train_00001498.jpg gespeichert: results/lama/ADE_train_00001498.jpg\n",
      "Ergebnis für Bild ADE_train_00008812.jpg gespeichert: results/lama/ADE_train_00008812.jpg\n",
      "Ergebnis für Bild ADE_train_00019286.jpg gespeichert: results/lama/ADE_train_00019286.jpg\n",
      "Ergebnis für Bild ADE_train_00008803.jpg gespeichert: results/lama/ADE_train_00008803.jpg\n",
      "Ergebnis für Bild ADE_train_00019291.jpg gespeichert: results/lama/ADE_train_00019291.jpg\n",
      "Ergebnis für Bild ADE_train_00019004.jpg gespeichert: results/lama/ADE_train_00019004.jpg\n",
      "Ergebnis für Bild ADE_train_00003079.jpg gespeichert: results/lama/ADE_train_00003079.jpg\n",
      "Ergebnis für Bild ADE_train_00003078.jpg gespeichert: results/lama/ADE_train_00003078.jpg\n",
      "Ergebnis für Bild ADE_train_00022762.jpg gespeichert: results/lama/ADE_train_00022762.jpg\n",
      "Ergebnis für Bild ADE_train_00008808.jpg gespeichert: results/lama/ADE_train_00008808.jpg\n",
      "Ergebnis für Bild ADE_train_00019288.jpg gespeichert: results/lama/ADE_train_00019288.jpg\n",
      "Ergebnis für Bild ADE_train_00024362.jpg gespeichert: results/lama/ADE_train_00024362.jpg\n",
      "Ergebnis für Bild ADE_train_00003077.jpg gespeichert: results/lama/ADE_train_00003077.jpg\n",
      "Ergebnis für Bild ADE_train_00002274.jpg gespeichert: results/lama/ADE_train_00002274.jpg\n",
      "Ergebnis für Bild ADE_train_00005419.jpg gespeichert: results/lama/ADE_train_00005419.jpg\n",
      "Ergebnis für Bild ADE_train_00022758.jpg gespeichert: results/lama/ADE_train_00022758.jpg\n",
      "Ergebnis für Bild ADE_train_00020471.jpg gespeichert: results/lama/ADE_train_00020471.jpg\n",
      "Ergebnis für Bild ADE_train_00022761.jpg gespeichert: results/lama/ADE_train_00022761.jpg\n",
      "Ergebnis für Bild ADE_train_00002270.jpg gespeichert: results/lama/ADE_train_00002270.jpg\n",
      "Ergebnis für Bild ADE_train_00003082.jpg gespeichert: results/lama/ADE_train_00003082.jpg\n",
      "Ergebnis für Bild ADE_train_00001497.jpg gespeichert: results/lama/ADE_train_00001497.jpg\n",
      "Ergebnis für Bild ADE_train_00003091.jpg gespeichert: results/lama/ADE_train_00003091.jpg\n",
      "Ergebnis für Bild ADE_train_00003084.jpg gespeichert: results/lama/ADE_train_00003084.jpg\n",
      "Ergebnis für Bild ADE_train_00002289.jpg gespeichert: results/lama/ADE_train_00002289.jpg\n",
      "Ergebnis für Bild ADE_frame_00000293.jpg gespeichert: results/lama/ADE_frame_00000293.jpg\n",
      "Ergebnis für Bild ADE_train_00008810.jpg gespeichert: results/lama/ADE_train_00008810.jpg\n",
      "Ergebnis für Bild ADE_train_00000653.jpg gespeichert: results/lama/ADE_train_00000653.jpg\n",
      "Ergebnis für Bild ADE_train_00001495.jpg gespeichert: results/lama/ADE_train_00001495.jpg\n",
      "Ergebnis für Bild ADE_train_00016149.jpg gespeichert: results/lama/ADE_train_00016149.jpg\n",
      "Ergebnis für Bild ADE_train_00002143.jpg gespeichert: results/lama/ADE_train_00002143.jpg\n",
      "Ergebnis für Bild ADE_train_00002295.jpg gespeichert: results/lama/ADE_train_00002295.jpg\n",
      "Ergebnis für Bild ADE_train_00001496.jpg gespeichert: results/lama/ADE_train_00001496.jpg\n",
      "Ergebnis für Bild ADE_train_00002271.jpg gespeichert: results/lama/ADE_train_00002271.jpg\n",
      "Ergebnis für Bild ADE_train_00011666.jpg gespeichert: results/lama/ADE_train_00011666.jpg\n",
      "Ergebnis für Bild ADE_train_00002302.jpg gespeichert: results/lama/ADE_train_00002302.jpg\n",
      "Ergebnis für Bild ADE_train_00000674.jpg gespeichert: results/lama/ADE_train_00000674.jpg\n",
      "Ergebnis für Bild ADE_train_00000655.jpg gespeichert: results/lama/ADE_train_00000655.jpg\n",
      "Ergebnis für Bild ADE_train_00019298.jpg gespeichert: results/lama/ADE_train_00019298.jpg\n",
      "Ergebnis für Bild ADE_train_00002286.jpg gespeichert: results/lama/ADE_train_00002286.jpg\n",
      "Ergebnis für Bild ADE_train_00003090.jpg gespeichert: results/lama/ADE_train_00003090.jpg\n",
      "Ergebnis für Bild ADE_train_00002141.jpg gespeichert: results/lama/ADE_train_00002141.jpg\n",
      "Ergebnis für Bild ADE_train_00000668.jpg gespeichert: results/lama/ADE_train_00000668.jpg\n",
      "Ergebnis für Bild ADE_train_00008799.jpg gespeichert: results/lama/ADE_train_00008799.jpg\n",
      "Ergebnis für Bild ADE_train_00008805.jpg gespeichert: results/lama/ADE_train_00008805.jpg\n",
      "Ergebnis für Bild ADE_train_00019289.jpg gespeichert: results/lama/ADE_train_00019289.jpg\n",
      "Ergebnis für Bild ADE_train_00008806.jpg gespeichert: results/lama/ADE_train_00008806.jpg\n",
      "Ergebnis für Bild ADE_train_00011668.jpg gespeichert: results/lama/ADE_train_00011668.jpg\n",
      "Ergebnis für Bild ADE_train_00005348.jpg gespeichert: results/lama/ADE_train_00005348.jpg\n",
      "Ergebnis für Bild ADE_train_00003098.jpg gespeichert: results/lama/ADE_train_00003098.jpg\n",
      "Ergebnis für Bild ADE_train_00003081.jpg gespeichert: results/lama/ADE_train_00003081.jpg\n",
      "Ergebnis für Bild ADE_train_00000670.jpg gespeichert: results/lama/ADE_train_00000670.jpg\n",
      "Ergebnis für Bild ADE_train_00020473.jpg gespeichert: results/lama/ADE_train_00020473.jpg\n",
      "Ergebnis für Bild ADE_train_00002284.jpg gespeichert: results/lama/ADE_train_00002284.jpg\n",
      "Ergebnis für Bild ADE_train_00002300.jpg gespeichert: results/lama/ADE_train_00002300.jpg\n",
      "Ergebnis für Bild ADE_train_00002463.jpg gespeichert: results/lama/ADE_train_00002463.jpg\n",
      "Ergebnis für Bild ADE_train_00008807.jpg gespeichert: results/lama/ADE_train_00008807.jpg\n",
      "Ergebnis für Bild ADE_train_00011662.jpg gespeichert: results/lama/ADE_train_00011662.jpg\n",
      "Ergebnis für Bild ADE_frame_00000071.jpg gespeichert: results/lama/ADE_frame_00000071.jpg\n",
      "Ergebnis für Bild ADE_train_00002146.jpg gespeichert: results/lama/ADE_train_00002146.jpg\n",
      "Ergebnis für Bild ADE_train_00005349.jpg gespeichert: results/lama/ADE_train_00005349.jpg\n",
      "Ergebnis für Bild ADE_train_00000665.jpg gespeichert: results/lama/ADE_train_00000665.jpg\n",
      "Ergebnis für Bild ADE_train_00000654.jpg gespeichert: results/lama/ADE_train_00000654.jpg\n",
      "Ergebnis für Bild ADE_train_00011667.jpg gespeichert: results/lama/ADE_train_00011667.jpg\n",
      "Ergebnis für Bild ADE_train_00003087.jpg gespeichert: results/lama/ADE_train_00003087.jpg\n",
      "Ergebnis für Bild ADE_train_00000662.jpg gespeichert: results/lama/ADE_train_00000662.jpg\n",
      "Ergebnis für Bild ADE_frame_00000255.jpg gespeichert: results/lama/ADE_frame_00000255.jpg\n",
      "Ergebnis für Bild ADE_train_00003085.jpg gespeichert: results/lama/ADE_train_00003085.jpg\n",
      "Ergebnis für Bild ADE_train_00019282.jpg gespeichert: results/lama/ADE_train_00019282.jpg\n",
      "Ergebnis für Bild ADE_train_00022759.jpg gespeichert: results/lama/ADE_train_00022759.jpg\n",
      "Ergebnis für Bild ADE_train_00000669.jpg gespeichert: results/lama/ADE_train_00000669.jpg\n",
      "Ergebnis für Bild ADE_train_00020469.jpg gespeichert: results/lama/ADE_train_00020469.jpg\n",
      "Ergebnis für Bild ADE_train_00002299.jpg gespeichert: results/lama/ADE_train_00002299.jpg\n",
      "Ergebnis für Bild ADE_train_00022636.jpg gespeichert: results/lama/ADE_train_00022636.jpg\n",
      "Ergebnis für Bild ADE_train_00022632.jpg gespeichert: results/lama/ADE_train_00022632.jpg\n",
      "Ergebnis für Bild ADE_train_00000671.jpg gespeichert: results/lama/ADE_train_00000671.jpg\n",
      "Ergebnis für Bild ADE_train_00019005.jpg gespeichert: results/lama/ADE_train_00019005.jpg\n",
      "Ergebnis für Bild ADE_train_00008811.jpg gespeichert: results/lama/ADE_train_00008811.jpg\n",
      "Ergebnis für Bild ADE_train_00000652.jpg gespeichert: results/lama/ADE_train_00000652.jpg\n",
      "Ergebnis für Bild ADE_train_00022760.jpg gespeichert: results/lama/ADE_train_00022760.jpg\n",
      "Ergebnis für Bild ADE_train_00008814.jpg gespeichert: results/lama/ADE_train_00008814.jpg\n",
      "Ergebnis für Bild ADE_train_00008809.jpg gespeichert: results/lama/ADE_train_00008809.jpg\n",
      "Ergebnis für Bild ADE_train_00008813.jpg gespeichert: results/lama/ADE_train_00008813.jpg\n",
      "Ergebnis für Bild ADE_train_00008800.jpg gespeichert: results/lama/ADE_train_00008800.jpg\n",
      "Ergebnis für Bild ADE_train_00005346.jpg gespeichert: results/lama/ADE_train_00005346.jpg\n",
      "Ergebnis für Bild ADE_train_00003080.jpg gespeichert: results/lama/ADE_train_00003080.jpg\n",
      "Ergebnis für Bild ADE_train_00024363.jpg gespeichert: results/lama/ADE_train_00024363.jpg\n",
      "Ergebnis für Bild ADE_train_00004956.jpg gespeichert: results/lama/ADE_train_00004956.jpg\n",
      "Ergebnis für Bild ADE_train_00000584.jpg gespeichert: results/lama/ADE_train_00000584.jpg\n",
      "Ergebnis für Bild ADE_train_00002282.jpg gespeichert: results/lama/ADE_train_00002282.jpg\n",
      "Ergebnis für Bild ADE_train_00008816.jpg gespeichert: results/lama/ADE_train_00008816.jpg\n",
      "Ergebnis für Bild ADE_train_00020470.jpg gespeichert: results/lama/ADE_train_00020470.jpg\n",
      "Ergebnis für Bild ADE_train_00002148.jpg gespeichert: results/lama/ADE_train_00002148.jpg\n",
      "Ergebnis für Bild ADE_train_00005418.jpg gespeichert: results/lama/ADE_train_00005418.jpg\n",
      "Ergebnis für Bild ADE_train_00003092.jpg gespeichert: results/lama/ADE_train_00003092.jpg\n",
      "Ergebnis für Bild ADE_train_00001849.jpg gespeichert: results/lama/ADE_train_00001849.jpg\n",
      "Ergebnis für Bild ADE_frame_00000043.jpg gespeichert: results/lama/ADE_frame_00000043.jpg\n",
      "Ergebnis für Bild ADE_train_00019300.jpg gespeichert: results/lama/ADE_train_00019300.jpg\n",
      "Ergebnis für Bild ADE_frame_00000045.jpg gespeichert: results/lama/ADE_frame_00000045.jpg\n",
      "Ergebnis für Bild ADE_train_00011670.jpg gespeichert: results/lama/ADE_train_00011670.jpg\n",
      "Ergebnis für Bild ADE_train_00019293.jpg gespeichert: results/lama/ADE_train_00019293.jpg\n",
      "Ergebnis für Bild ADE_train_00002269.jpg gespeichert: results/lama/ADE_train_00002269.jpg\n",
      "Ergebnis für Bild ADE_train_00004948.jpg gespeichert: results/lama/ADE_train_00004948.jpg\n",
      "Ergebnis für Bild ADE_train_00022764.jpg gespeichert: results/lama/ADE_train_00022764.jpg\n",
      "Ergebnis für Bild ADE_train_00019296.jpg gespeichert: results/lama/ADE_train_00019296.jpg\n",
      "Ergebnis für Bild ADE_train_00001851.jpg gespeichert: results/lama/ADE_train_00001851.jpg\n",
      "Ergebnis für Bild ADE_train_00000673.jpg gespeichert: results/lama/ADE_train_00000673.jpg\n",
      "Ergebnis für Bild ADE_train_00002277.jpg gespeichert: results/lama/ADE_train_00002277.jpg\n",
      "Ergebnis für Bild ADE_train_00022765.jpg gespeichert: results/lama/ADE_train_00022765.jpg\n",
      "Ergebnis für Bild ADE_frame_00000041.jpg gespeichert: results/lama/ADE_frame_00000041.jpg\n",
      "Ergebnis für Bild ADE_frame_00000025.jpg gespeichert: results/lama/ADE_frame_00000025.jpg\n",
      "Ergebnis für Bild ADE_train_00019292.jpg gespeichert: results/lama/ADE_train_00019292.jpg\n",
      "Ergebnis für Bild ADE_train_00002268.jpg gespeichert: results/lama/ADE_train_00002268.jpg\n",
      "Ergebnis für Bild ADE_train_00019285.jpg gespeichert: results/lama/ADE_train_00019285.jpg\n",
      "Ergebnis für Bild ADE_train_00020474.jpg gespeichert: results/lama/ADE_train_00020474.jpg\n",
      "Ergebnis für Bild ADE_train_00008817.jpg gespeichert: results/lama/ADE_train_00008817.jpg\n",
      "Ergebnis für Bild ADE_train_00011665.jpg gespeichert: results/lama/ADE_train_00011665.jpg\n",
      "Ergebnis für Bild ADE_train_00002283.jpg gespeichert: results/lama/ADE_train_00002283.jpg\n",
      "Ergebnis für Bild ADE_train_00002147.jpg gespeichert: results/lama/ADE_train_00002147.jpg\n",
      "Ergebnis für Bild ADE_train_00002142.jpg gespeichert: results/lama/ADE_train_00002142.jpg\n",
      "Ergebnis für Bild ADE_train_00005414.jpg gespeichert: results/lama/ADE_train_00005414.jpg\n",
      "Ergebnis für Bild ADE_train_00002278.jpg gespeichert: results/lama/ADE_train_00002278.jpg\n",
      "Ergebnis für Bild ADE_train_00019295.jpg gespeichert: results/lama/ADE_train_00019295.jpg\n",
      "Ergebnis für Bild ADE_train_00001853.jpg gespeichert: results/lama/ADE_train_00001853.jpg\n",
      "Ergebnis für Bild ADE_train_00019279.jpg gespeichert: results/lama/ADE_train_00019279.jpg\n",
      "Ergebnis für Bild ADE_train_00000666.jpg gespeichert: results/lama/ADE_train_00000666.jpg\n",
      "Ergebnis für Bild ADE_train_00002144.jpg gespeichert: results/lama/ADE_train_00002144.jpg\n",
      "Ergebnis für Bild ADE_train_00001848.jpg gespeichert: results/lama/ADE_train_00001848.jpg\n",
      "Ergebnis für Bild ADE_train_00002292.jpg gespeichert: results/lama/ADE_train_00002292.jpg\n",
      "Ergebnis für Bild ADE_train_00002294.jpg gespeichert: results/lama/ADE_train_00002294.jpg\n",
      "Ergebnis für Bild ADE_train_00008802.jpg gespeichert: results/lama/ADE_train_00008802.jpg\n",
      "Ergebnis für Bild ADE_train_00008804.jpg gespeichert: results/lama/ADE_train_00008804.jpg\n",
      "Ergebnis für Bild ADE_train_00000661.jpg gespeichert: results/lama/ADE_train_00000661.jpg\n",
      "Ergebnis für Bild ADE_train_00004953.jpg gespeichert: results/lama/ADE_train_00004953.jpg\n",
      "Ergebnis für Bild ADE_train_00003097.jpg gespeichert: results/lama/ADE_train_00003097.jpg\n",
      "Ergebnis für Bild ADE_train_00004949.jpg gespeichert: results/lama/ADE_train_00004949.jpg\n",
      "Ergebnis für Bild ADE_train_00002275.jpg gespeichert: results/lama/ADE_train_00002275.jpg\n",
      "Ergebnis für Bild ADE_train_00002290.jpg gespeichert: results/lama/ADE_train_00002290.jpg\n",
      "Ergebnis für Bild ADE_train_00002276.jpg gespeichert: results/lama/ADE_train_00002276.jpg\n",
      "Ergebnis für Bild ADE_train_00005417.jpg gespeichert: results/lama/ADE_train_00005417.jpg\n",
      "Ergebnis für Bild ADE_train_00019297.jpg gespeichert: results/lama/ADE_train_00019297.jpg\n",
      "Ergebnis für Bild ADE_train_00000658.jpg gespeichert: results/lama/ADE_train_00000658.jpg\n",
      "Ergebnis für Bild ADE_train_00019280.jpg gespeichert: results/lama/ADE_train_00019280.jpg\n",
      "Ergebnis für Bild ADE_train_00005344.jpg gespeichert: results/lama/ADE_train_00005344.jpg\n",
      "Ergebnis für Bild ADE_train_00019299.jpg gespeichert: results/lama/ADE_train_00019299.jpg\n",
      "Ergebnis für Bild ADE_train_00002145.jpg gespeichert: results/lama/ADE_train_00002145.jpg\n",
      "Ergebnis für Bild ADE_train_00005347.jpg gespeichert: results/lama/ADE_train_00005347.jpg\n",
      "Ergebnis für Bild ADE_train_00016148.jpg gespeichert: results/lama/ADE_train_00016148.jpg\n",
      "Ergebnis für Bild ADE_train_00002288.jpg gespeichert: results/lama/ADE_train_00002288.jpg\n",
      "Ergebnis für Bild ADE_train_00022763.jpg gespeichert: results/lama/ADE_train_00022763.jpg\n",
      "Ergebnis für Bild ADE_train_00019287.jpg gespeichert: results/lama/ADE_train_00019287.jpg\n",
      "Ergebnis für Bild ADE_train_00020276.jpg gespeichert: results/lama/ADE_train_00020276.jpg\n",
      "Ergebnis für Bild ADE_train_00024361.jpg gespeichert: results/lama/ADE_train_00024361.jpg\n",
      "Ergebnis für Bild ADE_train_00003086.jpg gespeichert: results/lama/ADE_train_00003086.jpg\n",
      "Ergebnis für Bild ADE_train_00019284.jpg gespeichert: results/lama/ADE_train_00019284.jpg\n",
      "Ergebnis für Bild ADE_frame_00000042.jpg gespeichert: results/lama/ADE_frame_00000042.jpg\n",
      "Ergebnis für Bild ADE_train_00001503.jpg gespeichert: results/lama/ADE_train_00001503.jpg\n",
      "Ergebnis für Bild ADE_train_00004954.jpg gespeichert: results/lama/ADE_train_00004954.jpg\n",
      "Ergebnis für Bild ADE_train_00002273.jpg gespeichert: results/lama/ADE_train_00002273.jpg\n",
      "Ergebnis für Bild ADE_train_00000672.jpg gespeichert: results/lama/ADE_train_00000672.jpg\n",
      "Ergebnis für Bild ADE_train_00000191.jpg gespeichert: results/lama/ADE_train_00000191.jpg\n",
      "Ergebnis für Bild ADE_train_00002280.jpg gespeichert: results/lama/ADE_train_00002280.jpg\n",
      "Ergebnis für Bild ADE_train_00000659.jpg gespeichert: results/lama/ADE_train_00000659.jpg\n",
      "Ergebnis für Bild ADE_train_00002297.jpg gespeichert: results/lama/ADE_train_00002297.jpg\n",
      "Ergebnis für Bild ADE_train_00001852.jpg gespeichert: results/lama/ADE_train_00001852.jpg\n",
      "Ergebnis für Bild ADE_train_00000657.jpg gespeichert: results/lama/ADE_train_00000657.jpg\n",
      "Ergebnis für Bild ADE_train_00011669.jpg gespeichert: results/lama/ADE_train_00011669.jpg\n",
      "Ergebnis für Bild ADE_train_00019006.jpg gespeichert: results/lama/ADE_train_00019006.jpg\n",
      "Ergebnis für Bild ADE_train_00000675.jpg gespeichert: results/lama/ADE_train_00000675.jpg\n",
      "Ergebnis für Bild ADE_frame_00000026.jpg gespeichert: results/lama/ADE_frame_00000026.jpg\n",
      "Ergebnis für Bild ADE_train_00001501.jpg gespeichert: results/lama/ADE_train_00001501.jpg\n",
      "Ergebnis für Bild ADE_frame_00000044.jpg gespeichert: results/lama/ADE_frame_00000044.jpg\n",
      "Ergebnis für Bild ADE_train_00003096.jpg gespeichert: results/lama/ADE_train_00003096.jpg\n",
      "Ergebnis für Bild ADE_train_00005416.jpg gespeichert: results/lama/ADE_train_00005416.jpg\n",
      "Ergebnis für Bild ADE_train_00005415.jpg gespeichert: results/lama/ADE_train_00005415.jpg\n",
      "Ergebnis für Bild ADE_train_00002285.jpg gespeichert: results/lama/ADE_train_00002285.jpg\n",
      "Ergebnis für Bild ADE_train_00002272.jpg gespeichert: results/lama/ADE_train_00002272.jpg\n",
      "Ergebnis für Bild ADE_train_00000660.jpg gespeichert: results/lama/ADE_train_00000660.jpg\n",
      "Ergebnis für Bild ADE_train_00008818.jpg gespeichert: results/lama/ADE_train_00008818.jpg\n",
      "Ergebnis für Bild ADE_train_00003099.jpg gespeichert: results/lama/ADE_train_00003099.jpg\n"
     ]
    }
   ],
   "source": [
    "real_images = []\n",
    "lama_images = []\n",
    "\n",
    "# Schleife durch alle Bilder und Masken\n",
    "\n",
    "image_gen = image_mask_generator(images_dir, masks_dir, image_files)\n",
    "for fname, image, mask in image_gen:\n",
    "\n",
    "    result = simple_lama(image, mask) # Infill mit Lama und der neuen Maske\n",
    "\n",
    "    real_images.append(image)\n",
    "    lama_images.append(result)\n",
    "\n",
    "    # Append and save result\n",
    "    save_result(image, result, fname, 'lama')\n",
    "    "
   ]
  },
  {
   "cell_type": "code",
   "execution_count": 10,
   "id": "3988f83e-390b-4664-bc1a-1b0dcd52307b",
   "metadata": {},
   "outputs": [
    {
     "name": "stdout",
     "output_type": "stream",
     "text": [
      "Setting up [LPIPS] perceptual loss: trunk [alex], v[0.1], spatial [off]\n"
     ]
    },
    {
     "name": "stderr",
     "output_type": "stream",
     "text": [
      "/home/ludo/.conda/envs/lama/lib/python3.10/site-packages/torchvision/models/_utils.py:208: UserWarning: The parameter 'pretrained' is deprecated since 0.13 and may be removed in the future, please use 'weights' instead.\n",
      "  warnings.warn(\n",
      "/home/ludo/.conda/envs/lama/lib/python3.10/site-packages/torchvision/models/_utils.py:223: UserWarning: Arguments other than a weight enum or `None` for 'weights' are deprecated since 0.13 and may be removed in the future. The current behavior is equivalent to passing `weights=AlexNet_Weights.IMAGENET1K_V1`. You can also use `weights=AlexNet_Weights.DEFAULT` to get the most up-to-date weights.\n",
      "  warnings.warn(msg)\n"
     ]
    },
    {
     "name": "stdout",
     "output_type": "stream",
     "text": [
      "Loading model from: /home/ludo/.conda/envs/lama/lib/python3.10/site-packages/lpips/weights/v0.1/alex.pth\n"
     ]
    },
    {
     "name": "stderr",
     "output_type": "stream",
     "text": [
      "/home/ludo/.conda/envs/lama/lib/python3.10/site-packages/lpips/lpips.py:107: FutureWarning: You are using `torch.load` with `weights_only=False` (the current default value), which uses the default pickle module implicitly. It is possible to construct malicious pickle data which will execute arbitrary code during unpickling (See https://github.com/pytorch/pytorch/blob/main/SECURITY.md#untrusted-models for more details). In a future release, the default value for `weights_only` will be flipped to `True`. This limits the functions that could be executed during unpickling. Arbitrary objects will no longer be allowed to be loaded via this mode unless they are explicitly allowlisted by the user via `torch.serialization.add_safe_globals`. We recommend you start setting `weights_only=True` for any use case where you don't have full control of the loaded file. Please open an issue on GitHub for any issues related to this experimental feature.\n",
      "  self.load_state_dict(torch.load(model_path, map_location='cpu'), strict=False)\n"
     ]
    },
    {
     "name": "stdout",
     "output_type": "stream",
     "text": [
      "FID: 66.4185562133789\n",
      "LPIPS: 0.19224275648593903\n"
     ]
    }
   ],
   "source": [
    "# Preprocess the images (resize and convert to tensors)\n",
    "real_images_tensor = preprocess_images(real_images, target_size)\n",
    "lama_images_tensor = preprocess_images(lama_images, target_size)\n",
    "\n",
    "fid_score = calculate_fid(real_images_tensor, lama_images_tensor)\n",
    "\n",
    "lpips_score = calculate_lpips(real_images_tensor, lama_images_tensor)\n",
    "\n",
    "print(f\"FID: {fid_score}\")\n",
    "print(f\"LPIPS: {lpips_score}\")"
   ]
  },
  {
   "cell_type": "code",
   "execution_count": 11,
   "id": "bfc68d8e-27e2-41c4-b205-a70c586c692f",
   "metadata": {},
   "outputs": [],
   "source": [
    "# Funktion, um OpenCV-Inpainting durchzuführen\n",
    "def inpaint_with_opencv(image, mask, inpaint_radius=3, method=cv2.INPAINT_TELEA):\n",
    "    # Konvertiere das PIL-Image zu einem OpenCV-kompatiblen NumPy-Array\n",
    "    image_array = np.array(image)\n",
    "    mask_array = np.array(mask)\n",
    "\n",
    "    # Sicherstellen, dass Maske binär ist (0 und 255)\n",
    "    _, mask_array = cv2.threshold(mask_array, 1, 255, cv2.THRESH_BINARY)\n",
    "\n",
    "    # OpenCV-Inpainting\n",
    "    inpainted_image = cv2.inpaint(image_array, mask_array, inpaint_radius, method)\n",
    "\n",
    "    return Image.fromarray(cv2.cvtColor(inpainted_image, cv2.COLOR_BGR2RGB))"
   ]
  },
  {
   "cell_type": "code",
   "execution_count": 12,
   "id": "50f80a0a-1343-4f82-b7b4-dd4a40fae5c8",
   "metadata": {},
   "outputs": [],
   "source": [
    "# Baseline - Opencv"
   ]
  },
  {
   "cell_type": "code",
   "execution_count": 13,
   "id": "e8d47d3d-cc4f-4f54-b7cf-c69d1408fd47",
   "metadata": {},
   "outputs": [
    {
     "name": "stdout",
     "output_type": "stream",
     "text": [
      "Ergebnis für Bild ADE_train_00001504.jpg gespeichert: results/opencv/ADE_train_00001504.jpg\n",
      "Ergebnis für Bild ADE_train_00003093.jpg gespeichert: results/opencv/ADE_train_00003093.jpg\n",
      "Ergebnis für Bild ADE_train_00001850.jpg gespeichert: results/opencv/ADE_train_00001850.jpg\n",
      "Ergebnis für Bild ADE_train_00008819.jpg gespeichert: results/opencv/ADE_train_00008819.jpg\n",
      "Ergebnis für Bild ADE_train_00008798.jpg gespeichert: results/opencv/ADE_train_00008798.jpg\n",
      "Ergebnis für Bild ADE_train_00025047.jpg gespeichert: results/opencv/ADE_train_00025047.jpg\n",
      "Ergebnis für Bild ADE_train_00005350.jpg gespeichert: results/opencv/ADE_train_00005350.jpg\n",
      "Ergebnis für Bild ADE_train_00022999.jpg gespeichert: results/opencv/ADE_train_00022999.jpg\n",
      "Ergebnis für Bild ADE_train_00002279.jpg gespeichert: results/opencv/ADE_train_00002279.jpg\n",
      "Ergebnis für Bild ADE_train_00019283.jpg gespeichert: results/opencv/ADE_train_00019283.jpg\n",
      "Ergebnis für Bild ADE_train_00008815.jpg gespeichert: results/opencv/ADE_train_00008815.jpg\n",
      "Ergebnis für Bild ADE_train_00003088.jpg gespeichert: results/opencv/ADE_train_00003088.jpg\n",
      "Ergebnis für Bild ADE_train_00016147.jpg gespeichert: results/opencv/ADE_train_00016147.jpg\n",
      "Ergebnis für Bild ADE_train_00002461.jpg gespeichert: results/opencv/ADE_train_00002461.jpg\n",
      "Ergebnis für Bild ADE_train_00003089.jpg gespeichert: results/opencv/ADE_train_00003089.jpg\n",
      "Ergebnis für Bild ADE_train_00001502.jpg gespeichert: results/opencv/ADE_train_00001502.jpg\n",
      "Ergebnis für Bild ADE_train_00002296.jpg gespeichert: results/opencv/ADE_train_00002296.jpg\n",
      "Ergebnis für Bild ADE_train_00002287.jpg gespeichert: results/opencv/ADE_train_00002287.jpg\n",
      "Ergebnis für Bild ADE_train_00001490.jpg gespeichert: results/opencv/ADE_train_00001490.jpg\n",
      "Ergebnis für Bild ADE_train_00019290.jpg gespeichert: results/opencv/ADE_train_00019290.jpg\n",
      "Ergebnis für Bild ADE_train_00000651.jpg gespeichert: results/opencv/ADE_train_00000651.jpg\n",
      "Ergebnis für Bild ADE_train_00002293.jpg gespeichert: results/opencv/ADE_train_00002293.jpg\n",
      "Ergebnis für Bild ADE_train_00008801.jpg gespeichert: results/opencv/ADE_train_00008801.jpg\n",
      "Ergebnis für Bild ADE_train_00002281.jpg gespeichert: results/opencv/ADE_train_00002281.jpg\n",
      "Ergebnis für Bild ADE_train_00001499.jpg gespeichert: results/opencv/ADE_train_00001499.jpg\n",
      "Ergebnis für Bild ADE_train_00002140.jpg gespeichert: results/opencv/ADE_train_00002140.jpg\n",
      "Ergebnis für Bild ADE_train_00003094.jpg gespeichert: results/opencv/ADE_train_00003094.jpg\n",
      "Ergebnis für Bild ADE_train_00000663.jpg gespeichert: results/opencv/ADE_train_00000663.jpg\n",
      "Ergebnis für Bild ADE_train_00002291.jpg gespeichert: results/opencv/ADE_train_00002291.jpg\n",
      "Ergebnis für Bild ADE_train_00019294.jpg gespeichert: results/opencv/ADE_train_00019294.jpg\n",
      "Ergebnis für Bild ADE_train_00011671.jpg gespeichert: results/opencv/ADE_train_00011671.jpg\n",
      "Ergebnis für Bild ADE_train_00001500.jpg gespeichert: results/opencv/ADE_train_00001500.jpg\n",
      "Ergebnis für Bild ADE_train_00011663.jpg gespeichert: results/opencv/ADE_train_00011663.jpg\n",
      "Ergebnis für Bild ADE_train_00004955.jpg gespeichert: results/opencv/ADE_train_00004955.jpg\n",
      "Ergebnis für Bild ADE_train_00022635.jpg gespeichert: results/opencv/ADE_train_00022635.jpg\n",
      "Ergebnis für Bild ADE_train_00000664.jpg gespeichert: results/opencv/ADE_train_00000664.jpg\n",
      "Ergebnis für Bild ADE_train_00004951.jpg gespeichert: results/opencv/ADE_train_00004951.jpg\n",
      "Ergebnis für Bild ADE_train_00002462.jpg gespeichert: results/opencv/ADE_train_00002462.jpg\n",
      "Ergebnis für Bild ADE_train_00002301.jpg gespeichert: results/opencv/ADE_train_00002301.jpg\n",
      "Ergebnis für Bild ADE_train_00004950.jpg gespeichert: results/opencv/ADE_train_00004950.jpg\n",
      "Ergebnis für Bild ADE_train_00000656.jpg gespeichert: results/opencv/ADE_train_00000656.jpg\n",
      "Ergebnis für Bild ADE_train_00000667.jpg gespeichert: results/opencv/ADE_train_00000667.jpg\n",
      "Ergebnis für Bild ADE_train_00019281.jpg gespeichert: results/opencv/ADE_train_00019281.jpg\n",
      "Ergebnis für Bild ADE_train_00002298.jpg gespeichert: results/opencv/ADE_train_00002298.jpg\n",
      "Ergebnis für Bild ADE_train_00003095.jpg gespeichert: results/opencv/ADE_train_00003095.jpg\n",
      "Ergebnis für Bild ADE_train_00005345.jpg gespeichert: results/opencv/ADE_train_00005345.jpg\n",
      "Ergebnis für Bild ADE_train_00004952.jpg gespeichert: results/opencv/ADE_train_00004952.jpg\n",
      "Ergebnis für Bild ADE_train_00011664.jpg gespeichert: results/opencv/ADE_train_00011664.jpg\n",
      "Ergebnis für Bild ADE_train_00020475.jpg gespeichert: results/opencv/ADE_train_00020475.jpg\n",
      "Ergebnis für Bild ADE_train_00003083.jpg gespeichert: results/opencv/ADE_train_00003083.jpg\n",
      "Ergebnis für Bild ADE_train_00024577.jpg gespeichert: results/opencv/ADE_train_00024577.jpg\n",
      "Ergebnis für Bild ADE_train_00001498.jpg gespeichert: results/opencv/ADE_train_00001498.jpg\n",
      "Ergebnis für Bild ADE_train_00008812.jpg gespeichert: results/opencv/ADE_train_00008812.jpg\n",
      "Ergebnis für Bild ADE_train_00019286.jpg gespeichert: results/opencv/ADE_train_00019286.jpg\n",
      "Ergebnis für Bild ADE_train_00008803.jpg gespeichert: results/opencv/ADE_train_00008803.jpg\n",
      "Ergebnis für Bild ADE_train_00019291.jpg gespeichert: results/opencv/ADE_train_00019291.jpg\n",
      "Ergebnis für Bild ADE_train_00019004.jpg gespeichert: results/opencv/ADE_train_00019004.jpg\n",
      "Ergebnis für Bild ADE_train_00003079.jpg gespeichert: results/opencv/ADE_train_00003079.jpg\n",
      "Ergebnis für Bild ADE_train_00003078.jpg gespeichert: results/opencv/ADE_train_00003078.jpg\n",
      "Ergebnis für Bild ADE_train_00022762.jpg gespeichert: results/opencv/ADE_train_00022762.jpg\n",
      "Ergebnis für Bild ADE_train_00008808.jpg gespeichert: results/opencv/ADE_train_00008808.jpg\n",
      "Ergebnis für Bild ADE_train_00019288.jpg gespeichert: results/opencv/ADE_train_00019288.jpg\n",
      "Ergebnis für Bild ADE_train_00024362.jpg gespeichert: results/opencv/ADE_train_00024362.jpg\n",
      "Ergebnis für Bild ADE_train_00003077.jpg gespeichert: results/opencv/ADE_train_00003077.jpg\n",
      "Ergebnis für Bild ADE_train_00002274.jpg gespeichert: results/opencv/ADE_train_00002274.jpg\n",
      "Ergebnis für Bild ADE_train_00005419.jpg gespeichert: results/opencv/ADE_train_00005419.jpg\n",
      "Ergebnis für Bild ADE_train_00022758.jpg gespeichert: results/opencv/ADE_train_00022758.jpg\n",
      "Ergebnis für Bild ADE_train_00020471.jpg gespeichert: results/opencv/ADE_train_00020471.jpg\n",
      "Ergebnis für Bild ADE_train_00022761.jpg gespeichert: results/opencv/ADE_train_00022761.jpg\n",
      "Ergebnis für Bild ADE_train_00002270.jpg gespeichert: results/opencv/ADE_train_00002270.jpg\n",
      "Ergebnis für Bild ADE_train_00003082.jpg gespeichert: results/opencv/ADE_train_00003082.jpg\n",
      "Ergebnis für Bild ADE_train_00001497.jpg gespeichert: results/opencv/ADE_train_00001497.jpg\n",
      "Ergebnis für Bild ADE_train_00003091.jpg gespeichert: results/opencv/ADE_train_00003091.jpg\n",
      "Ergebnis für Bild ADE_train_00003084.jpg gespeichert: results/opencv/ADE_train_00003084.jpg\n",
      "Ergebnis für Bild ADE_train_00002289.jpg gespeichert: results/opencv/ADE_train_00002289.jpg\n",
      "Ergebnis für Bild ADE_frame_00000293.jpg gespeichert: results/opencv/ADE_frame_00000293.jpg\n",
      "Ergebnis für Bild ADE_train_00008810.jpg gespeichert: results/opencv/ADE_train_00008810.jpg\n",
      "Ergebnis für Bild ADE_train_00000653.jpg gespeichert: results/opencv/ADE_train_00000653.jpg\n",
      "Ergebnis für Bild ADE_train_00001495.jpg gespeichert: results/opencv/ADE_train_00001495.jpg\n",
      "Ergebnis für Bild ADE_train_00016149.jpg gespeichert: results/opencv/ADE_train_00016149.jpg\n",
      "Ergebnis für Bild ADE_train_00002143.jpg gespeichert: results/opencv/ADE_train_00002143.jpg\n",
      "Ergebnis für Bild ADE_train_00002295.jpg gespeichert: results/opencv/ADE_train_00002295.jpg\n",
      "Ergebnis für Bild ADE_train_00001496.jpg gespeichert: results/opencv/ADE_train_00001496.jpg\n",
      "Ergebnis für Bild ADE_train_00002271.jpg gespeichert: results/opencv/ADE_train_00002271.jpg\n",
      "Ergebnis für Bild ADE_train_00011666.jpg gespeichert: results/opencv/ADE_train_00011666.jpg\n",
      "Ergebnis für Bild ADE_train_00002302.jpg gespeichert: results/opencv/ADE_train_00002302.jpg\n",
      "Ergebnis für Bild ADE_train_00000674.jpg gespeichert: results/opencv/ADE_train_00000674.jpg\n",
      "Ergebnis für Bild ADE_train_00000655.jpg gespeichert: results/opencv/ADE_train_00000655.jpg\n",
      "Ergebnis für Bild ADE_train_00019298.jpg gespeichert: results/opencv/ADE_train_00019298.jpg\n",
      "Ergebnis für Bild ADE_train_00002286.jpg gespeichert: results/opencv/ADE_train_00002286.jpg\n",
      "Ergebnis für Bild ADE_train_00003090.jpg gespeichert: results/opencv/ADE_train_00003090.jpg\n",
      "Ergebnis für Bild ADE_train_00002141.jpg gespeichert: results/opencv/ADE_train_00002141.jpg\n",
      "Ergebnis für Bild ADE_train_00000668.jpg gespeichert: results/opencv/ADE_train_00000668.jpg\n",
      "Ergebnis für Bild ADE_train_00008799.jpg gespeichert: results/opencv/ADE_train_00008799.jpg\n",
      "Ergebnis für Bild ADE_train_00008805.jpg gespeichert: results/opencv/ADE_train_00008805.jpg\n",
      "Ergebnis für Bild ADE_train_00019289.jpg gespeichert: results/opencv/ADE_train_00019289.jpg\n",
      "Ergebnis für Bild ADE_train_00008806.jpg gespeichert: results/opencv/ADE_train_00008806.jpg\n",
      "Ergebnis für Bild ADE_train_00011668.jpg gespeichert: results/opencv/ADE_train_00011668.jpg\n",
      "Ergebnis für Bild ADE_train_00005348.jpg gespeichert: results/opencv/ADE_train_00005348.jpg\n",
      "Ergebnis für Bild ADE_train_00003098.jpg gespeichert: results/opencv/ADE_train_00003098.jpg\n",
      "Ergebnis für Bild ADE_train_00003081.jpg gespeichert: results/opencv/ADE_train_00003081.jpg\n",
      "Ergebnis für Bild ADE_train_00000670.jpg gespeichert: results/opencv/ADE_train_00000670.jpg\n",
      "Ergebnis für Bild ADE_train_00020473.jpg gespeichert: results/opencv/ADE_train_00020473.jpg\n",
      "Ergebnis für Bild ADE_train_00002284.jpg gespeichert: results/opencv/ADE_train_00002284.jpg\n",
      "Ergebnis für Bild ADE_train_00002300.jpg gespeichert: results/opencv/ADE_train_00002300.jpg\n",
      "Ergebnis für Bild ADE_train_00002463.jpg gespeichert: results/opencv/ADE_train_00002463.jpg\n",
      "Ergebnis für Bild ADE_train_00008807.jpg gespeichert: results/opencv/ADE_train_00008807.jpg\n",
      "Ergebnis für Bild ADE_train_00011662.jpg gespeichert: results/opencv/ADE_train_00011662.jpg\n",
      "Ergebnis für Bild ADE_frame_00000071.jpg gespeichert: results/opencv/ADE_frame_00000071.jpg\n",
      "Ergebnis für Bild ADE_train_00002146.jpg gespeichert: results/opencv/ADE_train_00002146.jpg\n",
      "Ergebnis für Bild ADE_train_00005349.jpg gespeichert: results/opencv/ADE_train_00005349.jpg\n",
      "Ergebnis für Bild ADE_train_00000665.jpg gespeichert: results/opencv/ADE_train_00000665.jpg\n",
      "Ergebnis für Bild ADE_train_00000654.jpg gespeichert: results/opencv/ADE_train_00000654.jpg\n",
      "Ergebnis für Bild ADE_train_00011667.jpg gespeichert: results/opencv/ADE_train_00011667.jpg\n",
      "Ergebnis für Bild ADE_train_00003087.jpg gespeichert: results/opencv/ADE_train_00003087.jpg\n",
      "Ergebnis für Bild ADE_train_00000662.jpg gespeichert: results/opencv/ADE_train_00000662.jpg\n",
      "Ergebnis für Bild ADE_frame_00000255.jpg gespeichert: results/opencv/ADE_frame_00000255.jpg\n",
      "Ergebnis für Bild ADE_train_00003085.jpg gespeichert: results/opencv/ADE_train_00003085.jpg\n",
      "Ergebnis für Bild ADE_train_00019282.jpg gespeichert: results/opencv/ADE_train_00019282.jpg\n",
      "Ergebnis für Bild ADE_train_00022759.jpg gespeichert: results/opencv/ADE_train_00022759.jpg\n",
      "Ergebnis für Bild ADE_train_00000669.jpg gespeichert: results/opencv/ADE_train_00000669.jpg\n",
      "Ergebnis für Bild ADE_train_00020469.jpg gespeichert: results/opencv/ADE_train_00020469.jpg\n",
      "Ergebnis für Bild ADE_train_00002299.jpg gespeichert: results/opencv/ADE_train_00002299.jpg\n",
      "Ergebnis für Bild ADE_train_00022636.jpg gespeichert: results/opencv/ADE_train_00022636.jpg\n",
      "Ergebnis für Bild ADE_train_00022632.jpg gespeichert: results/opencv/ADE_train_00022632.jpg\n",
      "Ergebnis für Bild ADE_train_00000671.jpg gespeichert: results/opencv/ADE_train_00000671.jpg\n",
      "Ergebnis für Bild ADE_train_00019005.jpg gespeichert: results/opencv/ADE_train_00019005.jpg\n",
      "Ergebnis für Bild ADE_train_00008811.jpg gespeichert: results/opencv/ADE_train_00008811.jpg\n",
      "Ergebnis für Bild ADE_train_00000652.jpg gespeichert: results/opencv/ADE_train_00000652.jpg\n",
      "Ergebnis für Bild ADE_train_00022760.jpg gespeichert: results/opencv/ADE_train_00022760.jpg\n",
      "Ergebnis für Bild ADE_train_00008814.jpg gespeichert: results/opencv/ADE_train_00008814.jpg\n",
      "Ergebnis für Bild ADE_train_00008809.jpg gespeichert: results/opencv/ADE_train_00008809.jpg\n",
      "Ergebnis für Bild ADE_train_00008813.jpg gespeichert: results/opencv/ADE_train_00008813.jpg\n",
      "Ergebnis für Bild ADE_train_00008800.jpg gespeichert: results/opencv/ADE_train_00008800.jpg\n",
      "Ergebnis für Bild ADE_train_00005346.jpg gespeichert: results/opencv/ADE_train_00005346.jpg\n",
      "Ergebnis für Bild ADE_train_00003080.jpg gespeichert: results/opencv/ADE_train_00003080.jpg\n",
      "Ergebnis für Bild ADE_train_00024363.jpg gespeichert: results/opencv/ADE_train_00024363.jpg\n",
      "Ergebnis für Bild ADE_train_00004956.jpg gespeichert: results/opencv/ADE_train_00004956.jpg\n",
      "Ergebnis für Bild ADE_train_00000584.jpg gespeichert: results/opencv/ADE_train_00000584.jpg\n",
      "Ergebnis für Bild ADE_train_00002282.jpg gespeichert: results/opencv/ADE_train_00002282.jpg\n",
      "Ergebnis für Bild ADE_train_00008816.jpg gespeichert: results/opencv/ADE_train_00008816.jpg\n",
      "Ergebnis für Bild ADE_train_00020470.jpg gespeichert: results/opencv/ADE_train_00020470.jpg\n",
      "Ergebnis für Bild ADE_train_00002148.jpg gespeichert: results/opencv/ADE_train_00002148.jpg\n",
      "Ergebnis für Bild ADE_train_00005418.jpg gespeichert: results/opencv/ADE_train_00005418.jpg\n",
      "Ergebnis für Bild ADE_train_00003092.jpg gespeichert: results/opencv/ADE_train_00003092.jpg\n",
      "Ergebnis für Bild ADE_train_00001849.jpg gespeichert: results/opencv/ADE_train_00001849.jpg\n",
      "Ergebnis für Bild ADE_frame_00000043.jpg gespeichert: results/opencv/ADE_frame_00000043.jpg\n",
      "Ergebnis für Bild ADE_train_00019300.jpg gespeichert: results/opencv/ADE_train_00019300.jpg\n",
      "Ergebnis für Bild ADE_frame_00000045.jpg gespeichert: results/opencv/ADE_frame_00000045.jpg\n",
      "Ergebnis für Bild ADE_train_00011670.jpg gespeichert: results/opencv/ADE_train_00011670.jpg\n",
      "Ergebnis für Bild ADE_train_00019293.jpg gespeichert: results/opencv/ADE_train_00019293.jpg\n",
      "Ergebnis für Bild ADE_train_00002269.jpg gespeichert: results/opencv/ADE_train_00002269.jpg\n",
      "Ergebnis für Bild ADE_train_00004948.jpg gespeichert: results/opencv/ADE_train_00004948.jpg\n",
      "Ergebnis für Bild ADE_train_00022764.jpg gespeichert: results/opencv/ADE_train_00022764.jpg\n",
      "Ergebnis für Bild ADE_train_00019296.jpg gespeichert: results/opencv/ADE_train_00019296.jpg\n",
      "Ergebnis für Bild ADE_train_00001851.jpg gespeichert: results/opencv/ADE_train_00001851.jpg\n",
      "Ergebnis für Bild ADE_train_00000673.jpg gespeichert: results/opencv/ADE_train_00000673.jpg\n",
      "Ergebnis für Bild ADE_train_00002277.jpg gespeichert: results/opencv/ADE_train_00002277.jpg\n",
      "Ergebnis für Bild ADE_train_00022765.jpg gespeichert: results/opencv/ADE_train_00022765.jpg\n",
      "Ergebnis für Bild ADE_frame_00000041.jpg gespeichert: results/opencv/ADE_frame_00000041.jpg\n",
      "Ergebnis für Bild ADE_frame_00000025.jpg gespeichert: results/opencv/ADE_frame_00000025.jpg\n",
      "Ergebnis für Bild ADE_train_00019292.jpg gespeichert: results/opencv/ADE_train_00019292.jpg\n",
      "Ergebnis für Bild ADE_train_00002268.jpg gespeichert: results/opencv/ADE_train_00002268.jpg\n",
      "Ergebnis für Bild ADE_train_00019285.jpg gespeichert: results/opencv/ADE_train_00019285.jpg\n",
      "Ergebnis für Bild ADE_train_00020474.jpg gespeichert: results/opencv/ADE_train_00020474.jpg\n",
      "Ergebnis für Bild ADE_train_00008817.jpg gespeichert: results/opencv/ADE_train_00008817.jpg\n",
      "Ergebnis für Bild ADE_train_00011665.jpg gespeichert: results/opencv/ADE_train_00011665.jpg\n",
      "Ergebnis für Bild ADE_train_00002283.jpg gespeichert: results/opencv/ADE_train_00002283.jpg\n",
      "Ergebnis für Bild ADE_train_00002147.jpg gespeichert: results/opencv/ADE_train_00002147.jpg\n",
      "Ergebnis für Bild ADE_train_00002142.jpg gespeichert: results/opencv/ADE_train_00002142.jpg\n",
      "Ergebnis für Bild ADE_train_00005414.jpg gespeichert: results/opencv/ADE_train_00005414.jpg\n",
      "Ergebnis für Bild ADE_train_00002278.jpg gespeichert: results/opencv/ADE_train_00002278.jpg\n",
      "Ergebnis für Bild ADE_train_00019295.jpg gespeichert: results/opencv/ADE_train_00019295.jpg\n",
      "Ergebnis für Bild ADE_train_00001853.jpg gespeichert: results/opencv/ADE_train_00001853.jpg\n",
      "Ergebnis für Bild ADE_train_00019279.jpg gespeichert: results/opencv/ADE_train_00019279.jpg\n",
      "Ergebnis für Bild ADE_train_00000666.jpg gespeichert: results/opencv/ADE_train_00000666.jpg\n",
      "Ergebnis für Bild ADE_train_00002144.jpg gespeichert: results/opencv/ADE_train_00002144.jpg\n",
      "Ergebnis für Bild ADE_train_00001848.jpg gespeichert: results/opencv/ADE_train_00001848.jpg\n",
      "Ergebnis für Bild ADE_train_00002292.jpg gespeichert: results/opencv/ADE_train_00002292.jpg\n",
      "Ergebnis für Bild ADE_train_00002294.jpg gespeichert: results/opencv/ADE_train_00002294.jpg\n",
      "Ergebnis für Bild ADE_train_00008802.jpg gespeichert: results/opencv/ADE_train_00008802.jpg\n",
      "Ergebnis für Bild ADE_train_00008804.jpg gespeichert: results/opencv/ADE_train_00008804.jpg\n",
      "Ergebnis für Bild ADE_train_00000661.jpg gespeichert: results/opencv/ADE_train_00000661.jpg\n",
      "Ergebnis für Bild ADE_train_00004953.jpg gespeichert: results/opencv/ADE_train_00004953.jpg\n",
      "Ergebnis für Bild ADE_train_00003097.jpg gespeichert: results/opencv/ADE_train_00003097.jpg\n",
      "Ergebnis für Bild ADE_train_00004949.jpg gespeichert: results/opencv/ADE_train_00004949.jpg\n",
      "Ergebnis für Bild ADE_train_00002275.jpg gespeichert: results/opencv/ADE_train_00002275.jpg\n",
      "Ergebnis für Bild ADE_train_00002290.jpg gespeichert: results/opencv/ADE_train_00002290.jpg\n",
      "Ergebnis für Bild ADE_train_00002276.jpg gespeichert: results/opencv/ADE_train_00002276.jpg\n",
      "Ergebnis für Bild ADE_train_00005417.jpg gespeichert: results/opencv/ADE_train_00005417.jpg\n",
      "Ergebnis für Bild ADE_train_00019297.jpg gespeichert: results/opencv/ADE_train_00019297.jpg\n",
      "Ergebnis für Bild ADE_train_00000658.jpg gespeichert: results/opencv/ADE_train_00000658.jpg\n",
      "Ergebnis für Bild ADE_train_00019280.jpg gespeichert: results/opencv/ADE_train_00019280.jpg\n",
      "Ergebnis für Bild ADE_train_00005344.jpg gespeichert: results/opencv/ADE_train_00005344.jpg\n",
      "Ergebnis für Bild ADE_train_00019299.jpg gespeichert: results/opencv/ADE_train_00019299.jpg\n",
      "Ergebnis für Bild ADE_train_00002145.jpg gespeichert: results/opencv/ADE_train_00002145.jpg\n",
      "Ergebnis für Bild ADE_train_00005347.jpg gespeichert: results/opencv/ADE_train_00005347.jpg\n",
      "Ergebnis für Bild ADE_train_00016148.jpg gespeichert: results/opencv/ADE_train_00016148.jpg\n",
      "Ergebnis für Bild ADE_train_00002288.jpg gespeichert: results/opencv/ADE_train_00002288.jpg\n",
      "Ergebnis für Bild ADE_train_00022763.jpg gespeichert: results/opencv/ADE_train_00022763.jpg\n",
      "Ergebnis für Bild ADE_train_00019287.jpg gespeichert: results/opencv/ADE_train_00019287.jpg\n",
      "Ergebnis für Bild ADE_train_00020276.jpg gespeichert: results/opencv/ADE_train_00020276.jpg\n",
      "Ergebnis für Bild ADE_train_00024361.jpg gespeichert: results/opencv/ADE_train_00024361.jpg\n",
      "Ergebnis für Bild ADE_train_00003086.jpg gespeichert: results/opencv/ADE_train_00003086.jpg\n",
      "Ergebnis für Bild ADE_train_00019284.jpg gespeichert: results/opencv/ADE_train_00019284.jpg\n",
      "Ergebnis für Bild ADE_frame_00000042.jpg gespeichert: results/opencv/ADE_frame_00000042.jpg\n",
      "Ergebnis für Bild ADE_train_00001503.jpg gespeichert: results/opencv/ADE_train_00001503.jpg\n",
      "Ergebnis für Bild ADE_train_00004954.jpg gespeichert: results/opencv/ADE_train_00004954.jpg\n",
      "Ergebnis für Bild ADE_train_00002273.jpg gespeichert: results/opencv/ADE_train_00002273.jpg\n",
      "Ergebnis für Bild ADE_train_00000672.jpg gespeichert: results/opencv/ADE_train_00000672.jpg\n",
      "Ergebnis für Bild ADE_train_00000191.jpg gespeichert: results/opencv/ADE_train_00000191.jpg\n",
      "Ergebnis für Bild ADE_train_00002280.jpg gespeichert: results/opencv/ADE_train_00002280.jpg\n",
      "Ergebnis für Bild ADE_train_00000659.jpg gespeichert: results/opencv/ADE_train_00000659.jpg\n",
      "Ergebnis für Bild ADE_train_00002297.jpg gespeichert: results/opencv/ADE_train_00002297.jpg\n",
      "Ergebnis für Bild ADE_train_00001852.jpg gespeichert: results/opencv/ADE_train_00001852.jpg\n",
      "Ergebnis für Bild ADE_train_00000657.jpg gespeichert: results/opencv/ADE_train_00000657.jpg\n",
      "Ergebnis für Bild ADE_train_00011669.jpg gespeichert: results/opencv/ADE_train_00011669.jpg\n",
      "Ergebnis für Bild ADE_train_00019006.jpg gespeichert: results/opencv/ADE_train_00019006.jpg\n",
      "Ergebnis für Bild ADE_train_00000675.jpg gespeichert: results/opencv/ADE_train_00000675.jpg\n",
      "Ergebnis für Bild ADE_frame_00000026.jpg gespeichert: results/opencv/ADE_frame_00000026.jpg\n",
      "Ergebnis für Bild ADE_train_00001501.jpg gespeichert: results/opencv/ADE_train_00001501.jpg\n",
      "Ergebnis für Bild ADE_frame_00000044.jpg gespeichert: results/opencv/ADE_frame_00000044.jpg\n",
      "Ergebnis für Bild ADE_train_00003096.jpg gespeichert: results/opencv/ADE_train_00003096.jpg\n",
      "Ergebnis für Bild ADE_train_00005416.jpg gespeichert: results/opencv/ADE_train_00005416.jpg\n",
      "Ergebnis für Bild ADE_train_00005415.jpg gespeichert: results/opencv/ADE_train_00005415.jpg\n",
      "Ergebnis für Bild ADE_train_00002285.jpg gespeichert: results/opencv/ADE_train_00002285.jpg\n",
      "Ergebnis für Bild ADE_train_00002272.jpg gespeichert: results/opencv/ADE_train_00002272.jpg\n",
      "Ergebnis für Bild ADE_train_00000660.jpg gespeichert: results/opencv/ADE_train_00000660.jpg\n",
      "Ergebnis für Bild ADE_train_00008818.jpg gespeichert: results/opencv/ADE_train_00008818.jpg\n",
      "Ergebnis für Bild ADE_train_00003099.jpg gespeichert: results/opencv/ADE_train_00003099.jpg\n"
     ]
    }
   ],
   "source": [
    "\n",
    "\n",
    "real_images = []\n",
    "opencv_images = []\n",
    "\n",
    "# Schleife durch alle Bilder und Masken\n",
    "\n",
    "image_gen = image_mask_generator(images_dir, masks_dir, image_files)\n",
    "for fname, image, mask in image_gen:\n",
    "\n",
    "    result = inpaint_with_opencv(image, mask) # Infill mit Lama und der neuen Maske\n",
    "\n",
    "    real_images.append(image)\n",
    "    opencv_images.append(result)\n",
    "\n",
    "    # Append and save result\n",
    "    save_result(image, result, fname, 'opencv')"
   ]
  },
  {
   "cell_type": "code",
   "execution_count": 14,
   "id": "e6ec5aeb-fa66-46bf-be7a-d3a8dfbc0468",
   "metadata": {},
   "outputs": [
    {
     "name": "stdout",
     "output_type": "stream",
     "text": [
      "Setting up [LPIPS] perceptual loss: trunk [alex], v[0.1], spatial [off]\n",
      "Loading model from: /home/ludo/.conda/envs/lama/lib/python3.10/site-packages/lpips/weights/v0.1/alex.pth\n",
      "FID: 142.9036865234375\n",
      "LPIPS: 0.33470818400382996\n"
     ]
    }
   ],
   "source": [
    "# Preprocess the images (resize and convert to tensors)\n",
    "real_images_tensor = preprocess_images(real_images, target_size)\n",
    "opencv_images_tensor = preprocess_images(opencv_images, target_size)\n",
    "\n",
    "fid_score = calculate_fid(real_images_tensor, opencv_images_tensor)\n",
    "\n",
    "lpips_score = calculate_lpips(real_images_tensor, opencv_images_tensor)\n",
    "\n",
    "print(f\"FID: {fid_score}\")\n",
    "print(f\"LPIPS: {lpips_score}\")"
   ]
  },
  {
   "cell_type": "code",
   "execution_count": 15,
   "id": "e4f61e52-9003-462c-beda-44bfdd384ff3",
   "metadata": {},
   "outputs": [],
   "source": [
    "## Stable Diffusion"
   ]
  },
  {
   "cell_type": "code",
   "execution_count": 23,
   "id": "8e9f0837-038d-4c22-8d53-b255ce0541a4",
   "metadata": {},
   "outputs": [
    {
     "name": "stderr",
     "output_type": "stream",
     "text": [
      "Loading pipeline components...: 100%|██████████| 3/3 [00:00<00:00,  7.03it/s]\n",
      "Loading pipeline components...: 100%|██████████| 6/6 [00:00<00:00,  6.47it/s]\n",
      "It seems like you have activated model offloading by calling `enable_model_cpu_offload`, but are now manually moving the pipeline to GPU. It is strongly recommended against doing so as memory gains from offloading are likely to be lost. Offloading automatically takes care of moving the individual components unet, scheduler, movq, prior_prior, prior_image_encoder, prior_text_encoder, prior_tokenizer, prior_scheduler, prior_image_processor to GPU when needed. To make sure offloading works as expected, you should consider moving the pipeline back to CPU: `pipeline.to('cpu')` or removing the move altogether if you use offloading.\n"
     ]
    },
    {
     "data": {
      "text/plain": [
       "KandinskyV22InpaintCombinedPipeline {\n",
       "  \"_class_name\": \"KandinskyV22InpaintCombinedPipeline\",\n",
       "  \"_diffusers_version\": \"0.32.2\",\n",
       "  \"_name_or_path\": \"kandinsky-community/kandinsky-2-2-decoder-inpaint\",\n",
       "  \"movq\": [\n",
       "    \"diffusers\",\n",
       "    \"VQModel\"\n",
       "  ],\n",
       "  \"prior_image_encoder\": [\n",
       "    \"transformers\",\n",
       "    \"CLIPVisionModelWithProjection\"\n",
       "  ],\n",
       "  \"prior_image_processor\": [\n",
       "    \"transformers\",\n",
       "    \"CLIPImageProcessor\"\n",
       "  ],\n",
       "  \"prior_prior\": [\n",
       "    \"diffusers\",\n",
       "    \"PriorTransformer\"\n",
       "  ],\n",
       "  \"prior_scheduler\": [\n",
       "    \"diffusers\",\n",
       "    \"UnCLIPScheduler\"\n",
       "  ],\n",
       "  \"prior_text_encoder\": [\n",
       "    \"transformers\",\n",
       "    \"CLIPTextModelWithProjection\"\n",
       "  ],\n",
       "  \"prior_tokenizer\": [\n",
       "    \"transformers\",\n",
       "    \"CLIPTokenizer\"\n",
       "  ],\n",
       "  \"scheduler\": [\n",
       "    \"diffusers\",\n",
       "    \"DDPMScheduler\"\n",
       "  ],\n",
       "  \"unet\": [\n",
       "    \"diffusers\",\n",
       "    \"UNet2DConditionModel\"\n",
       "  ]\n",
       "}"
      ]
     },
     "execution_count": 23,
     "metadata": {},
     "output_type": "execute_result"
    }
   ],
   "source": [
    "import torch\n",
    "from diffusers import AutoPipelineForInpainting\n",
    "from diffusers.utils import load_image, make_image_grid\n",
    "from PIL import Image\n",
    "import numpy as np\n",
    "\n",
    "# Pipeline initialisieren\n",
    "pipeline = AutoPipelineForInpainting.from_pretrained(\n",
    "    \"kandinsky-community/kandinsky-2-2-decoder-inpaint\", torch_dtype=torch.float16\n",
    ")\n",
    "pipeline.enable_model_cpu_offload()\n",
    "\n",
    "pipeline.to(\"cuda\")\n",
    "\n",
    "\n"
   ]
  },
  {
   "cell_type": "code",
   "execution_count": 26,
   "id": "1e862e37-3c21-4e1e-aff1-da9396e7d6a0",
   "metadata": {},
   "outputs": [],
   "source": [
    "from torchvision import transforms\n",
    "\n",
    "\n",
    "def sd_inpaint(image, mask):\n",
    "\n",
    "    # Generator mit festem Seed für reproduzierbare Ergebnisse\n",
    "    generator = torch.Generator(\"cuda\").manual_seed(92)\n",
    "\n",
    "    # Define a transformation to convert PIL.Image to a PyTorch tensor\n",
    "    transform = transforms.ToTensor()\n",
    "    \n",
    "    # Convert image and mask to tensors\n",
    "    image_tensor = transform(image).unsqueeze(0)  # Add batch dimension\n",
    "    mask_tensor = transform(mask).unsqueeze(0)\n",
    "    \n",
    "    # Move tensors to the GPU\n",
    "    image_tensor = image_tensor.to(\"cuda\")\n",
    "    mask_tensor = mask_tensor.to(\"cuda\")\n",
    "\n",
    "    \n",
    "    # Inpainting mit Stable Diffusion\n",
    "    result = pipeline(\n",
    "        prompt='background',\n",
    "        image=image,\n",
    "        mask_image=mask,\n",
    "        generator=generator\n",
    "    ).images[0]\n",
    "\n",
    "    return result\n",
    "\n",
    "    "
   ]
  },
  {
   "cell_type": "code",
   "execution_count": null,
   "id": "4eb9d9a4-70a1-48c8-a5f2-a8ea6527de4a",
   "metadata": {},
   "outputs": [
    {
     "name": "stderr",
     "output_type": "stream",
     "text": [
      "100%|██████████| 25/25 [00:00<00:00, 139.57it/s]\n",
      "100%|██████████| 100/100 [00:05<00:00, 17.02it/s]\n"
     ]
    },
    {
     "name": "stdout",
     "output_type": "stream",
     "text": [
      "Ergebnis für Bild ADE_train_00001504.jpg gespeichert: results/sd/ADE_train_00001504.jpg\n"
     ]
    },
    {
     "name": "stderr",
     "output_type": "stream",
     "text": [
      "100%|██████████| 25/25 [00:00<00:00, 146.14it/s]\n",
      "100%|██████████| 100/100 [00:04<00:00, 21.11it/s]\n"
     ]
    },
    {
     "name": "stdout",
     "output_type": "stream",
     "text": [
      "Ergebnis für Bild ADE_train_00003093.jpg gespeichert: results/sd/ADE_train_00003093.jpg\n"
     ]
    },
    {
     "name": "stderr",
     "output_type": "stream",
     "text": [
      "100%|██████████| 25/25 [00:00<00:00, 141.12it/s]\n",
      "100%|██████████| 100/100 [00:04<00:00, 21.13it/s]\n"
     ]
    },
    {
     "name": "stdout",
     "output_type": "stream",
     "text": [
      "Ergebnis für Bild ADE_train_00001850.jpg gespeichert: results/sd/ADE_train_00001850.jpg\n"
     ]
    },
    {
     "name": "stderr",
     "output_type": "stream",
     "text": [
      "100%|██████████| 25/25 [00:00<00:00, 147.09it/s]\n",
      "100%|██████████| 100/100 [00:04<00:00, 21.00it/s]\n"
     ]
    },
    {
     "name": "stdout",
     "output_type": "stream",
     "text": [
      "Ergebnis für Bild ADE_train_00008819.jpg gespeichert: results/sd/ADE_train_00008819.jpg\n"
     ]
    },
    {
     "name": "stderr",
     "output_type": "stream",
     "text": [
      "100%|██████████| 25/25 [00:00<00:00, 141.68it/s]\n",
      "100%|██████████| 100/100 [00:04<00:00, 20.96it/s]\n"
     ]
    },
    {
     "name": "stdout",
     "output_type": "stream",
     "text": [
      "Ergebnis für Bild ADE_train_00008798.jpg gespeichert: results/sd/ADE_train_00008798.jpg\n"
     ]
    },
    {
     "name": "stderr",
     "output_type": "stream",
     "text": [
      "100%|██████████| 25/25 [00:00<00:00, 140.72it/s]\n",
      "100%|██████████| 100/100 [00:04<00:00, 21.09it/s]\n"
     ]
    },
    {
     "name": "stdout",
     "output_type": "stream",
     "text": [
      "Ergebnis für Bild ADE_train_00025047.jpg gespeichert: results/sd/ADE_train_00025047.jpg\n"
     ]
    },
    {
     "name": "stderr",
     "output_type": "stream",
     "text": [
      "100%|██████████| 25/25 [00:00<00:00, 140.68it/s]\n",
      "100%|██████████| 100/100 [00:04<00:00, 21.12it/s]\n"
     ]
    },
    {
     "name": "stdout",
     "output_type": "stream",
     "text": [
      "Ergebnis für Bild ADE_train_00005350.jpg gespeichert: results/sd/ADE_train_00005350.jpg\n"
     ]
    },
    {
     "name": "stderr",
     "output_type": "stream",
     "text": [
      "100%|██████████| 25/25 [00:00<00:00, 140.63it/s]\n",
      "100%|██████████| 100/100 [00:04<00:00, 21.08it/s]\n"
     ]
    },
    {
     "name": "stdout",
     "output_type": "stream",
     "text": [
      "Ergebnis für Bild ADE_train_00022999.jpg gespeichert: results/sd/ADE_train_00022999.jpg\n"
     ]
    },
    {
     "name": "stderr",
     "output_type": "stream",
     "text": [
      "100%|██████████| 25/25 [00:00<00:00, 140.89it/s]\n",
      "100%|██████████| 100/100 [00:04<00:00, 21.15it/s]\n"
     ]
    },
    {
     "name": "stdout",
     "output_type": "stream",
     "text": [
      "Ergebnis für Bild ADE_train_00002279.jpg gespeichert: results/sd/ADE_train_00002279.jpg\n"
     ]
    },
    {
     "name": "stderr",
     "output_type": "stream",
     "text": [
      "100%|██████████| 25/25 [00:00<00:00, 141.66it/s]\n",
      "100%|██████████| 100/100 [00:04<00:00, 21.14it/s]\n"
     ]
    },
    {
     "name": "stdout",
     "output_type": "stream",
     "text": [
      "Ergebnis für Bild ADE_train_00019283.jpg gespeichert: results/sd/ADE_train_00019283.jpg\n"
     ]
    },
    {
     "name": "stderr",
     "output_type": "stream",
     "text": [
      "100%|██████████| 25/25 [00:00<00:00, 140.70it/s]\n",
      "100%|██████████| 100/100 [00:04<00:00, 21.24it/s]\n"
     ]
    },
    {
     "name": "stdout",
     "output_type": "stream",
     "text": [
      "Ergebnis für Bild ADE_train_00008815.jpg gespeichert: results/sd/ADE_train_00008815.jpg\n"
     ]
    },
    {
     "name": "stderr",
     "output_type": "stream",
     "text": [
      "100%|██████████| 25/25 [00:00<00:00, 140.18it/s]\n",
      "100%|██████████| 100/100 [00:04<00:00, 21.24it/s]\n"
     ]
    },
    {
     "name": "stdout",
     "output_type": "stream",
     "text": [
      "Ergebnis für Bild ADE_train_00003088.jpg gespeichert: results/sd/ADE_train_00003088.jpg\n"
     ]
    },
    {
     "name": "stderr",
     "output_type": "stream",
     "text": [
      "100%|██████████| 25/25 [00:00<00:00, 140.29it/s]\n",
      "100%|██████████| 100/100 [00:04<00:00, 21.00it/s]\n"
     ]
    },
    {
     "name": "stdout",
     "output_type": "stream",
     "text": [
      "Ergebnis für Bild ADE_train_00016147.jpg gespeichert: results/sd/ADE_train_00016147.jpg\n"
     ]
    },
    {
     "name": "stderr",
     "output_type": "stream",
     "text": [
      "100%|██████████| 25/25 [00:00<00:00, 141.30it/s]\n",
      "100%|██████████| 100/100 [00:04<00:00, 21.14it/s]\n"
     ]
    },
    {
     "name": "stdout",
     "output_type": "stream",
     "text": [
      "Ergebnis für Bild ADE_train_00002461.jpg gespeichert: results/sd/ADE_train_00002461.jpg\n"
     ]
    },
    {
     "name": "stderr",
     "output_type": "stream",
     "text": [
      "100%|██████████| 25/25 [00:00<00:00, 140.94it/s]\n",
      "100%|██████████| 100/100 [00:04<00:00, 20.86it/s]\n"
     ]
    },
    {
     "name": "stdout",
     "output_type": "stream",
     "text": [
      "Ergebnis für Bild ADE_train_00003089.jpg gespeichert: results/sd/ADE_train_00003089.jpg\n"
     ]
    },
    {
     "name": "stderr",
     "output_type": "stream",
     "text": [
      "100%|██████████| 25/25 [00:00<00:00, 141.01it/s]\n",
      "100%|██████████| 100/100 [00:04<00:00, 20.72it/s]\n"
     ]
    },
    {
     "name": "stdout",
     "output_type": "stream",
     "text": [
      "Ergebnis für Bild ADE_train_00001502.jpg gespeichert: results/sd/ADE_train_00001502.jpg\n"
     ]
    },
    {
     "name": "stderr",
     "output_type": "stream",
     "text": [
      "100%|██████████| 25/25 [00:00<00:00, 142.41it/s]\n",
      "100%|██████████| 100/100 [00:04<00:00, 20.98it/s]\n"
     ]
    },
    {
     "name": "stdout",
     "output_type": "stream",
     "text": [
      "Ergebnis für Bild ADE_train_00002296.jpg gespeichert: results/sd/ADE_train_00002296.jpg\n"
     ]
    },
    {
     "name": "stderr",
     "output_type": "stream",
     "text": [
      "100%|██████████| 25/25 [00:00<00:00, 140.67it/s]\n",
      "100%|██████████| 100/100 [00:04<00:00, 21.18it/s]\n"
     ]
    },
    {
     "name": "stdout",
     "output_type": "stream",
     "text": [
      "Ergebnis für Bild ADE_train_00002287.jpg gespeichert: results/sd/ADE_train_00002287.jpg\n"
     ]
    },
    {
     "name": "stderr",
     "output_type": "stream",
     "text": [
      "100%|██████████| 25/25 [00:00<00:00, 141.13it/s]\n",
      "100%|██████████| 100/100 [00:04<00:00, 21.05it/s]\n"
     ]
    },
    {
     "name": "stdout",
     "output_type": "stream",
     "text": [
      "Ergebnis für Bild ADE_train_00001490.jpg gespeichert: results/sd/ADE_train_00001490.jpg\n"
     ]
    },
    {
     "name": "stderr",
     "output_type": "stream",
     "text": [
      "100%|██████████| 25/25 [00:00<00:00, 141.32it/s]\n",
      "100%|██████████| 100/100 [00:04<00:00, 20.97it/s]\n"
     ]
    },
    {
     "name": "stdout",
     "output_type": "stream",
     "text": [
      "Ergebnis für Bild ADE_train_00019290.jpg gespeichert: results/sd/ADE_train_00019290.jpg\n"
     ]
    },
    {
     "name": "stderr",
     "output_type": "stream",
     "text": [
      "100%|██████████| 25/25 [00:00<00:00, 141.49it/s]\n",
      "100%|██████████| 100/100 [00:04<00:00, 21.21it/s]\n"
     ]
    },
    {
     "name": "stdout",
     "output_type": "stream",
     "text": [
      "Ergebnis für Bild ADE_train_00000651.jpg gespeichert: results/sd/ADE_train_00000651.jpg\n"
     ]
    },
    {
     "name": "stderr",
     "output_type": "stream",
     "text": [
      "100%|██████████| 25/25 [00:00<00:00, 140.94it/s]\n",
      "100%|██████████| 100/100 [00:04<00:00, 21.23it/s]\n"
     ]
    },
    {
     "name": "stdout",
     "output_type": "stream",
     "text": [
      "Ergebnis für Bild ADE_train_00002293.jpg gespeichert: results/sd/ADE_train_00002293.jpg\n"
     ]
    },
    {
     "name": "stderr",
     "output_type": "stream",
     "text": [
      "100%|██████████| 25/25 [00:00<00:00, 139.25it/s]\n",
      "100%|██████████| 100/100 [00:04<00:00, 21.29it/s]\n"
     ]
    },
    {
     "name": "stdout",
     "output_type": "stream",
     "text": [
      "Ergebnis für Bild ADE_train_00008801.jpg gespeichert: results/sd/ADE_train_00008801.jpg\n"
     ]
    },
    {
     "name": "stderr",
     "output_type": "stream",
     "text": [
      "100%|██████████| 25/25 [00:00<00:00, 139.27it/s]\n",
      "100%|██████████| 100/100 [00:04<00:00, 21.39it/s]\n"
     ]
    },
    {
     "name": "stdout",
     "output_type": "stream",
     "text": [
      "Ergebnis für Bild ADE_train_00002281.jpg gespeichert: results/sd/ADE_train_00002281.jpg\n"
     ]
    },
    {
     "name": "stderr",
     "output_type": "stream",
     "text": [
      "100%|██████████| 25/25 [00:00<00:00, 141.14it/s]\n",
      "100%|██████████| 100/100 [00:04<00:00, 21.02it/s]\n"
     ]
    },
    {
     "name": "stdout",
     "output_type": "stream",
     "text": [
      "Ergebnis für Bild ADE_train_00001499.jpg gespeichert: results/sd/ADE_train_00001499.jpg\n"
     ]
    },
    {
     "name": "stderr",
     "output_type": "stream",
     "text": [
      "100%|██████████| 25/25 [00:00<00:00, 145.46it/s]\n",
      "100%|██████████| 100/100 [00:04<00:00, 21.39it/s]\n"
     ]
    },
    {
     "name": "stdout",
     "output_type": "stream",
     "text": [
      "Ergebnis für Bild ADE_train_00002140.jpg gespeichert: results/sd/ADE_train_00002140.jpg\n"
     ]
    },
    {
     "name": "stderr",
     "output_type": "stream",
     "text": [
      "100%|██████████| 25/25 [00:00<00:00, 140.51it/s]\n",
      "100%|██████████| 100/100 [00:04<00:00, 20.97it/s]\n"
     ]
    },
    {
     "name": "stdout",
     "output_type": "stream",
     "text": [
      "Ergebnis für Bild ADE_train_00003094.jpg gespeichert: results/sd/ADE_train_00003094.jpg\n"
     ]
    },
    {
     "name": "stderr",
     "output_type": "stream",
     "text": [
      "100%|██████████| 25/25 [00:00<00:00, 140.84it/s]\n",
      "100%|██████████| 100/100 [00:04<00:00, 21.16it/s]\n"
     ]
    },
    {
     "name": "stdout",
     "output_type": "stream",
     "text": [
      "Ergebnis für Bild ADE_train_00000663.jpg gespeichert: results/sd/ADE_train_00000663.jpg\n"
     ]
    },
    {
     "name": "stderr",
     "output_type": "stream",
     "text": [
      "100%|██████████| 25/25 [00:00<00:00, 139.79it/s]\n",
      "100%|██████████| 100/100 [00:04<00:00, 21.37it/s]\n"
     ]
    },
    {
     "name": "stdout",
     "output_type": "stream",
     "text": [
      "Ergebnis für Bild ADE_train_00002291.jpg gespeichert: results/sd/ADE_train_00002291.jpg\n"
     ]
    },
    {
     "name": "stderr",
     "output_type": "stream",
     "text": [
      "100%|██████████| 25/25 [00:00<00:00, 140.03it/s]\n",
      "100%|██████████| 100/100 [00:04<00:00, 21.35it/s]\n"
     ]
    },
    {
     "name": "stdout",
     "output_type": "stream",
     "text": [
      "Ergebnis für Bild ADE_train_00019294.jpg gespeichert: results/sd/ADE_train_00019294.jpg\n"
     ]
    },
    {
     "name": "stderr",
     "output_type": "stream",
     "text": [
      "100%|██████████| 25/25 [00:00<00:00, 139.53it/s]\n",
      "100%|██████████| 100/100 [00:04<00:00, 20.97it/s]\n"
     ]
    },
    {
     "name": "stdout",
     "output_type": "stream",
     "text": [
      "Ergebnis für Bild ADE_train_00011671.jpg gespeichert: results/sd/ADE_train_00011671.jpg\n"
     ]
    },
    {
     "name": "stderr",
     "output_type": "stream",
     "text": [
      "100%|██████████| 25/25 [00:00<00:00, 145.15it/s]\n",
      "100%|██████████| 100/100 [00:04<00:00, 21.01it/s]\n"
     ]
    },
    {
     "name": "stdout",
     "output_type": "stream",
     "text": [
      "Ergebnis für Bild ADE_train_00001500.jpg gespeichert: results/sd/ADE_train_00001500.jpg\n"
     ]
    },
    {
     "name": "stderr",
     "output_type": "stream",
     "text": [
      "100%|██████████| 25/25 [00:00<00:00, 140.16it/s]\n",
      "100%|██████████| 100/100 [00:04<00:00, 20.94it/s]\n"
     ]
    },
    {
     "name": "stdout",
     "output_type": "stream",
     "text": [
      "Ergebnis für Bild ADE_train_00011663.jpg gespeichert: results/sd/ADE_train_00011663.jpg\n"
     ]
    },
    {
     "name": "stderr",
     "output_type": "stream",
     "text": [
      "100%|██████████| 25/25 [00:00<00:00, 140.60it/s]\n",
      " 55%|█████▌    | 55/100 [00:02<00:01, 23.32it/s]"
     ]
    }
   ],
   "source": [
    "real_images = []\n",
    "sd_images = []\n",
    "\n",
    "# Schleife durch alle Bilder und Masken\n",
    "\n",
    "image_gen = image_mask_generator(images_dir, masks_dir, image_files)\n",
    "for fname, image, mask in image_gen:\n",
    "\n",
    "    result = sd_inpaint(image, mask) # Infill mit sd und neuer maske\n",
    "\n",
    "    real_images.append(image)\n",
    "    sd_images.append(result)\n",
    "\n",
    "    # Append and save result\n",
    "    save_result(image, result, fname, 'sd')"
   ]
  },
  {
   "cell_type": "code",
   "execution_count": null,
   "id": "b479783f-2932-4596-bbf2-0b0e43156e75",
   "metadata": {},
   "outputs": [],
   "source": [
    "# Preprocess the images (resize and convert to tensors)\n",
    "real_images_tensor = preprocess_images(real_images, target_size)\n",
    "sd_images_tensor = preprocess_images(sd_images, target_size)\n",
    "\n",
    "fid_score = calculate_fid(real_images_tensor, sd_images_tensor)\n",
    "\n",
    "lpips_score = calculate_lpips(real_images_tensor, sd_images_tensor)\n",
    "\n",
    "print(f\"FID: {fid_score}\")\n",
    "print(f\"LPIPS: {lpips_score}\")"
   ]
  }
 ],
 "metadata": {
  "kernelspec": {
   "display_name": "lama-simple-kernel",
   "language": "python",
   "name": "lama-simple-kernel"
  },
  "language_info": {
   "codemirror_mode": {
    "name": "ipython",
    "version": 3
   },
   "file_extension": ".py",
   "mimetype": "text/x-python",
   "name": "python",
   "nbconvert_exporter": "python",
   "pygments_lexer": "ipython3",
   "version": "3.10.16"
  }
 },
 "nbformat": 4,
 "nbformat_minor": 5
}
