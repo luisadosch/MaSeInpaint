{
 "cells": [
  {
   "cell_type": "code",
   "execution_count": 1,
   "id": "98773f81-b57f-4df9-bd25-d26e3b804605",
   "metadata": {},
   "outputs": [
    {
     "name": "stderr",
     "output_type": "stream",
     "text": [
      "/home/ludo/.local/lib/python3.10/site-packages/tqdm/auto.py:21: TqdmWarning: IProgress not found. Please update jupyter and ipywidgets. See https://ipywidgets.readthedocs.io/en/stable/user_install.html\n",
      "  from .autonotebook import tqdm as notebook_tqdm\n",
      "/home/ludo/.local/lib/python3.10/site-packages/diffusers/models/transformers/transformer_2d.py:34: FutureWarning: `Transformer2DModelOutput` is deprecated and will be removed in version 1.0.0. Importing `Transformer2DModelOutput` from `diffusers.models.transformer_2d` is deprecated and this will be removed in a future version. Please use `from diffusers.models.modeling_outputs import Transformer2DModelOutput`, instead.\n",
      "  deprecate(\"Transformer2DModelOutput\", \"1.0.0\", deprecation_message)\n",
      "/home/ludo/.local/lib/python3.10/site-packages/diffusers/models/vq_model.py:20: FutureWarning: `VQEncoderOutput` is deprecated and will be removed in version 0.31. Importing `VQEncoderOutput` from `diffusers.models.vq_model` is deprecated and this will be removed in a future version. Please use `from diffusers.models.autoencoders.vq_model import VQEncoderOutput`, instead.\n",
      "  deprecate(\"VQEncoderOutput\", \"0.31\", deprecation_message)\n",
      "/home/ludo/.local/lib/python3.10/site-packages/diffusers/models/vq_model.py:25: FutureWarning: `VQModel` is deprecated and will be removed in version 0.31. Importing `VQModel` from `diffusers.models.vq_model` is deprecated and this will be removed in a future version. Please use `from diffusers.models.autoencoders.vq_model import VQModel`, instead.\n",
      "  deprecate(\"VQModel\", \"0.31\", deprecation_message)\n"
     ]
    }
   ],
   "source": [
    "from simple_lama_inpainting import SimpleLama\n",
    "from PIL import Image, ImageChops, ImageDraw\n",
    "import numpy as np\n",
    "import cv2\n",
    "import os\n",
    "from torchmetrics.image.fid import FrechetInceptionDistance\n",
    "import torch\n",
    "from diffusers import AutoPipelineForInpainting\n",
    "from diffusers.utils import load_image, make_image_grid\n",
    "from PIL import Image\n",
    "import numpy as np\n"
   ]
  },
  {
   "cell_type": "code",
   "execution_count": 2,
   "id": "f3c94963-5e5b-4abb-9c8d-7dbc540ef35b",
   "metadata": {},
   "outputs": [],
   "source": [
    "# 1. Lama"
   ]
  },
  {
   "cell_type": "code",
   "execution_count": 3,
   "id": "6b9c044a-9e70-4def-b63d-5c326e043084",
   "metadata": {},
   "outputs": [],
   "source": [
    "# Iterationen für Maskenmanipulation\n",
    "ITERATIONS = 10\n",
    "\n",
    "# Funktion, um die Maske zu erweitern (Dilation)\n",
    "def expand_mask(mask, iterations=ITERATIONS):\n",
    "    mask_array = np.array(mask)\n",
    "    kernel = np.ones((3, 3), np.uint8)\n",
    "    expanded_mask = mask_array\n",
    "    for _ in range(iterations):\n",
    "        expanded_mask = cv2.dilate(expanded_mask, kernel, iterations=1)\n",
    "    return Image.fromarray(expanded_mask)"
   ]
  },
  {
   "cell_type": "code",
   "execution_count": 4,
   "id": "84811d0d-d005-4501-8c1f-a7869ffdddd3",
   "metadata": {},
   "outputs": [
    {
     "name": "stdout",
     "output_type": "stream",
     "text": [
      "Found 1000 images\n"
     ]
    }
   ],
   "source": [
    "\n",
    "# Directories\n",
    "images_dir = './Dataset_new/images'\n",
    "masks_dir = './Dataset_new/masks'\n",
    "\n",
    "# Initialize output\n",
    "image_files = {}\n",
    "\n",
    "# List all files in images and masks directories\n",
    "image_files = [f for f in os.listdir(images_dir) if f.endswith('.jpg') and f in os.listdir(masks_dir)]\n",
    "\n",
    "print(f'Found {len(image_files)} images')\n"
   ]
  },
  {
   "cell_type": "code",
   "execution_count": 5,
   "id": "3a725d5f-01d3-4e7a-8a4b-221c1a8a95f0",
   "metadata": {},
   "outputs": [],
   "source": [
    "# Initialisiere SimpleLama\n",
    "simple_lama = SimpleLama()"
   ]
  },
  {
   "cell_type": "code",
   "execution_count": 6,
   "id": "64eebae8-2c57-4e24-99b9-c8a0983607b1",
   "metadata": {},
   "outputs": [],
   "source": [
    "def image_mask_generator(images_dir, masks_dir, image_files):\n",
    "    \"\"\"\n",
    "    Generator to read images and their corresponding masks.\n",
    "\n",
    "    Args:\n",
    "    - images_dir (str): Directory containing the images.\n",
    "    - masks_dir (str): Directory containing the masks.\n",
    "    - image_files (list): List of filenames (same for both images and masks).\n",
    "\n",
    "    Yields:\n",
    "    - tuple: A tuple containing a PIL image and a corresponding mask (PIL image).\n",
    "    \"\"\"\n",
    "    for fname in image_files:\n",
    "        image_path = os.path.join(images_dir, fname)  # Full path to the image\n",
    "        mask_path = os.path.join(masks_dir, fname)  # Full path to the mask\n",
    "        \n",
    "        # Load image and mask\n",
    "        try:\n",
    "            image = Image.open(image_path).convert('RGB')  # Convert image to RGB\n",
    "            mask = Image.open(mask_path).convert('L')  # Convert mask to grayscale (L)\n",
    "\n",
    "            mask = expand_mask(mask) # Expand mask \n",
    "            \n",
    "            # Yield image and mask\n",
    "            yield fname, image, mask\n",
    "        except Exception as e:\n",
    "            print(f\"Error loading {fname}: {e}\")"
   ]
  },
  {
   "cell_type": "code",
   "execution_count": 7,
   "id": "d08c78e8-e28f-48af-9e8b-81f342350977",
   "metadata": {},
   "outputs": [],
   "source": [
    "import os\n",
    "\n",
    "def save_result(image, result, fname, results_folder):\n",
    "    \"\"\"\n",
    "    Save the result to a directory.\n",
    "    \n",
    "    Args:\n",
    "    - image (PIL.Image): The input image.\n",
    "    - result (PIL.Image): The result of the inpainting or processing.\n",
    "    - fname (str): The filename of the current image.\n",
    "    - results_folder (str): Folder where results will be saved.\n",
    "    \n",
    "    Returns:\n",
    "    - None\n",
    "    \"\"\"\n",
    "\n",
    "    results_dir = f'results/{results_folder}'\n",
    "    \n",
    "    # Ensure the result directory exists\n",
    "    os.makedirs(results_dir, exist_ok=True)\n",
    "    \n",
    "    \n",
    "    # Create the result path for saving the image\n",
    "    result_path = os.path.join(results_dir, fname)\n",
    "    \n",
    "    # Save the result\n",
    "    result.save(result_path)\n",
    "    \n",
    "    # Print the success message\n",
    "    print(f\"Ergebnis für Bild {fname} gespeichert: {result_path}\")\n",
    "\n",
    "\n",
    "\n"
   ]
  },
  {
   "cell_type": "code",
   "execution_count": 8,
   "id": "1f575b53-98e5-4c93-961f-7cb775a0e640",
   "metadata": {},
   "outputs": [],
   "source": [
    "import torch\n",
    "from torchvision.transforms import ToTensor, Resize, Compose\n",
    "from torchmetrics.image.fid import FrechetInceptionDistance\n",
    "import lpips\n",
    "\n",
    "# Define a fixed image size\n",
    "target_size = (256, 256)  # Resize all images to this size\n",
    "\n",
    "# Preprocessing function to resize and convert images to tensors\n",
    "def preprocess_images(images, target_size=(256, 256)):\n",
    "    \"\"\"\n",
    "    Preprocess images by resizing them to the target size and converting to tensors.\n",
    "\n",
    "    Args:\n",
    "    - images (list of PIL Images): The list of images to preprocess.\n",
    "    - target_size (tuple): The target size to resize images to (default is 256x256).\n",
    "\n",
    "    Returns:\n",
    "    - torch.Tensor: A tensor containing all preprocessed images, stacked in a batch.\n",
    "    \"\"\"\n",
    "    transform = Compose([\n",
    "        Resize(target_size),  # Resize the images to the target size\n",
    "        ToTensor(),  # Convert the images to tensor\n",
    "    ])\n",
    "\n",
    "    # Apply the transformation to each image in the list\n",
    "    image_tensors = [transform(image) for image in images]\n",
    "\n",
    "    # Stack the tensors into a single batch\n",
    "    stacked_tensor = torch.stack(image_tensors)\n",
    "    \n",
    "    return stacked_tensor\n",
    "\n",
    "\n",
    "# Error calculation function to compute the FID score\n",
    "def calculate_fid(real_images_tensor, infilled_images_tensor):\n",
    "    \"\"\"\n",
    "    Calculate the Fréchet Inception Distance (FID) between real and Lama generated images.\n",
    "\n",
    "    Args:\n",
    "    - real_images_tensor (tensor): The tensor of real images.\n",
    "    - infilled_images_tensor (list of PIL Images): The tensor of infilled images.\n",
    "\n",
    "    Returns:\n",
    "    - float: The FID score.\n",
    "    \"\"\"\n",
    "    # Initialize the FID metric\n",
    "    fid = FrechetInceptionDistance(normalize=True)\n",
    "\n",
    "    # Update the FID with the preprocessed images\n",
    "    fid.update(real_images_tensor, real=True)\n",
    "    fid.update(infilled_images_tensor, real=False)\n",
    "\n",
    "    # Calculate and return the FID score\n",
    "    return float(fid.compute())\n",
    "\n",
    "\n",
    "# LPIPS calculation function to compute the LPIPS score\n",
    "def calculate_lpips(real_images_tensor, infilled_images_tensor):\n",
    "    \"\"\"\n",
    "    Calculate the Learned Perceptual Image Patch Similarity (LPIPS) between real and Lama generated images.\n",
    "\n",
    "    Args:\n",
    "    - real_images_tensor (tensor): The tensor of real images.\n",
    "    - infilled_images_tensor (list of PIL Images): The tensor of infilled images.\n",
    "\n",
    "    Returns:\n",
    "    - float: The LPIPS score.\n",
    "    \"\"\"\n",
    "\n",
    "    # Load the LPIPS model\n",
    "    loss_fn = lpips.LPIPS(net='alex')  # Using AlexNet architecture for LPIPS\n",
    "\n",
    "\n",
    "    # Compute the LPIPS score\n",
    "    lpips_score = loss_fn(real_images_tensor, infilled_images_tensor)\n",
    "\n",
    "    # Return the average LPIPS score\n",
    "    return lpips_score.mean().item()\n",
    "\n"
   ]
  },
  {
   "cell_type": "code",
   "execution_count": 9,
   "id": "2052f419-cbe7-4512-aaf6-73de47bdb4d4",
   "metadata": {},
   "outputs": [
    {
     "name": "stdout",
     "output_type": "stream",
     "text": [
      "Ergebnis für Bild ADE_train_00003173.jpg gespeichert: results/lama/ADE_train_00003173.jpg\n",
      "Ergebnis für Bild ADE_train_00023741.jpg gespeichert: results/lama/ADE_train_00023741.jpg\n",
      "Ergebnis für Bild ADE_train_00022732.jpg gespeichert: results/lama/ADE_train_00022732.jpg\n",
      "Ergebnis für Bild ADE_train_00001504.jpg gespeichert: results/lama/ADE_train_00001504.jpg\n",
      "Ergebnis für Bild ADE_frame_00000204.jpg gespeichert: results/lama/ADE_frame_00000204.jpg\n",
      "Ergebnis für Bild ADE_train_00003171.jpg gespeichert: results/lama/ADE_train_00003171.jpg\n",
      "Ergebnis für Bild ADE_train_00012219.jpg gespeichert: results/lama/ADE_train_00012219.jpg\n",
      "Ergebnis für Bild ADE_train_00001961.jpg gespeichert: results/lama/ADE_train_00001961.jpg\n",
      "Ergebnis für Bild ADE_train_00024430.jpg gespeichert: results/lama/ADE_train_00024430.jpg\n",
      "Ergebnis für Bild ADE_train_00001716.jpg gespeichert: results/lama/ADE_train_00001716.jpg\n",
      "Ergebnis für Bild ADE_train_00001676.jpg gespeichert: results/lama/ADE_train_00001676.jpg\n",
      "Ergebnis für Bild ADE_train_00001758.jpg gespeichert: results/lama/ADE_train_00001758.jpg\n",
      "Ergebnis für Bild ADE_train_00001561.jpg gespeichert: results/lama/ADE_train_00001561.jpg\n",
      "Ergebnis für Bild ADE_train_00022769.jpg gespeichert: results/lama/ADE_train_00022769.jpg\n",
      "Ergebnis für Bild ADE_train_00022744.jpg gespeichert: results/lama/ADE_train_00022744.jpg\n",
      "Ergebnis für Bild ADE_frame_00000203.jpg gespeichert: results/lama/ADE_frame_00000203.jpg\n",
      "Ergebnis für Bild ADE_train_00012246.jpg gespeichert: results/lama/ADE_train_00012246.jpg\n",
      "Ergebnis für Bild ADE_train_00001522.jpg gespeichert: results/lama/ADE_train_00001522.jpg\n",
      "Ergebnis für Bild ADE_train_00002378.jpg gespeichert: results/lama/ADE_train_00002378.jpg\n",
      "Ergebnis für Bild ADE_train_00023725.jpg gespeichert: results/lama/ADE_train_00023725.jpg\n",
      "Ergebnis für Bild ADE_train_00005280.jpg gespeichert: results/lama/ADE_train_00005280.jpg\n",
      "Ergebnis für Bild ADE_train_00001763.jpg gespeichert: results/lama/ADE_train_00001763.jpg\n",
      "Ergebnis für Bild ADE_train_00012220.jpg gespeichert: results/lama/ADE_train_00012220.jpg\n",
      "Ergebnis für Bild ADE_train_00016340.jpg gespeichert: results/lama/ADE_train_00016340.jpg\n",
      "Ergebnis für Bild ADE_train_00019507.jpg gespeichert: results/lama/ADE_train_00019507.jpg\n",
      "Ergebnis für Bild ADE_train_00003093.jpg gespeichert: results/lama/ADE_train_00003093.jpg\n",
      "Ergebnis für Bild ADE_train_00002042.jpg gespeichert: results/lama/ADE_train_00002042.jpg\n",
      "Ergebnis für Bild ADE_train_00012286.jpg gespeichert: results/lama/ADE_train_00012286.jpg\n",
      "Ergebnis für Bild ADE_train_00023671.jpg gespeichert: results/lama/ADE_train_00023671.jpg\n",
      "Ergebnis für Bild ADE_train_00020088.jpg gespeichert: results/lama/ADE_train_00020088.jpg\n",
      "Ergebnis für Bild ADE_train_00022041.jpg gespeichert: results/lama/ADE_train_00022041.jpg\n",
      "Ergebnis für Bild ADE_train_00001635.jpg gespeichert: results/lama/ADE_train_00001635.jpg\n",
      "Ergebnis für Bild ADE_train_00019095.jpg gespeichert: results/lama/ADE_train_00019095.jpg\n",
      "Ergebnis für Bild ADE_train_00008819.jpg gespeichert: results/lama/ADE_train_00008819.jpg\n",
      "Ergebnis für Bild ADE_train_00012185.jpg gespeichert: results/lama/ADE_train_00012185.jpg\n",
      "Ergebnis für Bild ADE_train_00022681.jpg gespeichert: results/lama/ADE_train_00022681.jpg\n",
      "Ergebnis für Bild ADE_train_00015457.jpg gespeichert: results/lama/ADE_train_00015457.jpg\n",
      "Ergebnis für Bild ADE_train_00022684.jpg gespeichert: results/lama/ADE_train_00022684.jpg\n",
      "Ergebnis für Bild ADE_train_00001222.jpg gespeichert: results/lama/ADE_train_00001222.jpg\n",
      "Ergebnis für Bild ADE_train_00008798.jpg gespeichert: results/lama/ADE_train_00008798.jpg\n",
      "Ergebnis für Bild ADE_train_00001746.jpg gespeichert: results/lama/ADE_train_00001746.jpg\n",
      "Ergebnis für Bild ADE_train_00025047.jpg gespeichert: results/lama/ADE_train_00025047.jpg\n",
      "Ergebnis für Bild ADE_train_00002031.jpg gespeichert: results/lama/ADE_train_00002031.jpg\n",
      "Ergebnis für Bild ADE_train_00001240.jpg gespeichert: results/lama/ADE_train_00001240.jpg\n",
      "Ergebnis für Bild ADE_train_00022698.jpg gespeichert: results/lama/ADE_train_00022698.jpg\n",
      "Ergebnis für Bild ADE_train_00009373.jpg gespeichert: results/lama/ADE_train_00009373.jpg\n",
      "Ergebnis für Bild ADE_train_00011721.jpg gespeichert: results/lama/ADE_train_00011721.jpg\n",
      "Ergebnis für Bild ADE_frame_00000210.jpg gespeichert: results/lama/ADE_frame_00000210.jpg\n",
      "Ergebnis für Bild ADE_train_00001735.jpg gespeichert: results/lama/ADE_train_00001735.jpg\n",
      "Ergebnis für Bild ADE_train_00002056.jpg gespeichert: results/lama/ADE_train_00002056.jpg\n",
      "Ergebnis für Bild ADE_train_00019017.jpg gespeichert: results/lama/ADE_train_00019017.jpg\n",
      "Ergebnis für Bild ADE_train_00001726.jpg gespeichert: results/lama/ADE_train_00001726.jpg\n",
      "Ergebnis für Bild ADE_train_00022999.jpg gespeichert: results/lama/ADE_train_00022999.jpg\n",
      "Ergebnis für Bild ADE_train_00001720.jpg gespeichert: results/lama/ADE_train_00001720.jpg\n",
      "Ergebnis für Bild ADE_train_00001346.jpg gespeichert: results/lama/ADE_train_00001346.jpg\n",
      "Ergebnis für Bild ADE_train_00001787.jpg gespeichert: results/lama/ADE_train_00001787.jpg\n",
      "Ergebnis für Bild ADE_frame_00000267.jpg gespeichert: results/lama/ADE_frame_00000267.jpg\n",
      "Ergebnis für Bild ADE_train_00006419.jpg gespeichert: results/lama/ADE_train_00006419.jpg\n",
      "Ergebnis für Bild ADE_train_00004842.jpg gespeichert: results/lama/ADE_train_00004842.jpg\n",
      "Ergebnis für Bild ADE_train_00019603.jpg gespeichert: results/lama/ADE_train_00019603.jpg\n",
      "Ergebnis für Bild ADE_train_00012252.jpg gespeichert: results/lama/ADE_train_00012252.jpg\n",
      "Ergebnis für Bild ADE_train_00002372.jpg gespeichert: results/lama/ADE_train_00002372.jpg\n",
      "Ergebnis für Bild ADE_train_00022695.jpg gespeichert: results/lama/ADE_train_00022695.jpg\n",
      "Ergebnis für Bild ADE_train_00002423.jpg gespeichert: results/lama/ADE_train_00002423.jpg\n",
      "Ergebnis für Bild ADE_frame_00000015.jpg gespeichert: results/lama/ADE_frame_00000015.jpg\n",
      "Ergebnis für Bild ADE_train_00004251.jpg gespeichert: results/lama/ADE_train_00004251.jpg\n",
      "Ergebnis für Bild ADE_train_00002390.jpg gespeichert: results/lama/ADE_train_00002390.jpg\n",
      "Ergebnis für Bild ADE_train_00005541.jpg gespeichert: results/lama/ADE_train_00005541.jpg\n",
      "Ergebnis für Bild ADE_train_00022700.jpg gespeichert: results/lama/ADE_train_00022700.jpg\n",
      "Ergebnis für Bild ADE_train_00001713.jpg gespeichert: results/lama/ADE_train_00001713.jpg\n",
      "Ergebnis für Bild ADE_train_00001554.jpg gespeichert: results/lama/ADE_train_00001554.jpg\n",
      "Ergebnis für Bild ADE_train_00024549.jpg gespeichert: results/lama/ADE_train_00024549.jpg\n",
      "Ergebnis für Bild ADE_train_00009972.jpg gespeichert: results/lama/ADE_train_00009972.jpg\n",
      "Ergebnis für Bild ADE_train_00002396.jpg gespeichert: results/lama/ADE_train_00002396.jpg\n",
      "Ergebnis für Bild ADE_train_00001822.jpg gespeichert: results/lama/ADE_train_00001822.jpg\n",
      "Ergebnis für Bild ADE_train_00004399.jpg gespeichert: results/lama/ADE_train_00004399.jpg\n",
      "Ergebnis für Bild ADE_train_00012289.jpg gespeichert: results/lama/ADE_train_00012289.jpg\n",
      "Ergebnis für Bild ADE_train_00002279.jpg gespeichert: results/lama/ADE_train_00002279.jpg\n",
      "Ergebnis für Bild ADE_frame_00000302.jpg gespeichert: results/lama/ADE_frame_00000302.jpg\n",
      "Ergebnis für Bild ADE_train_00002059.jpg gespeichert: results/lama/ADE_train_00002059.jpg\n",
      "Ergebnis für Bild ADE_train_00001759.jpg gespeichert: results/lama/ADE_train_00001759.jpg\n",
      "Ergebnis für Bild ADE_train_00023815.jpg gespeichert: results/lama/ADE_train_00023815.jpg\n",
      "Ergebnis für Bild ADE_train_00001552.jpg gespeichert: results/lama/ADE_train_00001552.jpg\n",
      "Ergebnis für Bild ADE_train_00008815.jpg gespeichert: results/lama/ADE_train_00008815.jpg\n",
      "Ergebnis für Bild ADE_train_00024551.jpg gespeichert: results/lama/ADE_train_00024551.jpg\n",
      "Ergebnis für Bild ADE_train_00001649.jpg gespeichert: results/lama/ADE_train_00001649.jpg\n",
      "Ergebnis für Bild ADE_train_00001633.jpg gespeichert: results/lama/ADE_train_00001633.jpg\n",
      "Ergebnis für Bild ADE_train_00016147.jpg gespeichert: results/lama/ADE_train_00016147.jpg\n",
      "Ergebnis für Bild ADE_train_00015772.jpg gespeichert: results/lama/ADE_train_00015772.jpg\n",
      "Ergebnis für Bild ADE_train_00001728.jpg gespeichert: results/lama/ADE_train_00001728.jpg\n",
      "Ergebnis für Bild ADE_train_00012248.jpg gespeichert: results/lama/ADE_train_00012248.jpg\n",
      "Ergebnis für Bild ADE_train_00012213.jpg gespeichert: results/lama/ADE_train_00012213.jpg\n",
      "Ergebnis für Bild ADE_train_00011596.jpg gespeichert: results/lama/ADE_train_00011596.jpg\n",
      "Ergebnis für Bild ADE_train_00001949.jpg gespeichert: results/lama/ADE_train_00001949.jpg\n",
      "Ergebnis für Bild ADE_train_00002200.jpg gespeichert: results/lama/ADE_train_00002200.jpg\n",
      "Ergebnis für Bild ADE_train_00010920.jpg gespeichert: results/lama/ADE_train_00010920.jpg\n",
      "Ergebnis für Bild ADE_train_00007695.jpg gespeichert: results/lama/ADE_train_00007695.jpg\n",
      "Ergebnis für Bild ADE_train_00010068.jpg gespeichert: results/lama/ADE_train_00010068.jpg\n",
      "Ergebnis für Bild ADE_train_00001562.jpg gespeichert: results/lama/ADE_train_00001562.jpg\n",
      "Ergebnis für Bild ADE_train_00007682.jpg gespeichert: results/lama/ADE_train_00007682.jpg\n",
      "Ergebnis für Bild ADE_train_00002461.jpg gespeichert: results/lama/ADE_train_00002461.jpg\n",
      "Ergebnis für Bild ADE_train_00022240.jpg gespeichert: results/lama/ADE_train_00022240.jpg\n",
      "Ergebnis für Bild ADE_train_00010766.jpg gespeichert: results/lama/ADE_train_00010766.jpg\n",
      "Ergebnis für Bild ADE_train_00001502.jpg gespeichert: results/lama/ADE_train_00001502.jpg\n",
      "Ergebnis für Bild ADE_train_00010062.jpg gespeichert: results/lama/ADE_train_00010062.jpg\n",
      "Ergebnis für Bild ADE_train_00019144.jpg gespeichert: results/lama/ADE_train_00019144.jpg\n",
      "Ergebnis für Bild ADE_train_00001663.jpg gespeichert: results/lama/ADE_train_00001663.jpg\n",
      "Ergebnis für Bild ADE_frame_00000292.jpg gespeichert: results/lama/ADE_frame_00000292.jpg\n",
      "Ergebnis für Bild ADE_train_00001727.jpg gespeichert: results/lama/ADE_train_00001727.jpg\n",
      "Ergebnis für Bild ADE_train_00001750.jpg gespeichert: results/lama/ADE_train_00001750.jpg\n",
      "Ergebnis für Bild ADE_train_00002287.jpg gespeichert: results/lama/ADE_train_00002287.jpg\n",
      "Ergebnis für Bild ADE_train_00022701.jpg gespeichert: results/lama/ADE_train_00022701.jpg\n",
      "Ergebnis für Bild ADE_train_00009354.jpg gespeichert: results/lama/ADE_train_00009354.jpg\n",
      "Ergebnis für Bild ADE_train_00011720.jpg gespeichert: results/lama/ADE_train_00011720.jpg\n",
      "Ergebnis für Bild ADE_train_00002351.jpg gespeichert: results/lama/ADE_train_00002351.jpg\n",
      "Ergebnis für Bild ADE_train_00002381.jpg gespeichert: results/lama/ADE_train_00002381.jpg\n",
      "Ergebnis für Bild ADE_train_00012227.jpg gespeichert: results/lama/ADE_train_00012227.jpg\n",
      "Ergebnis für Bild ADE_frame_00000268.jpg gespeichert: results/lama/ADE_frame_00000268.jpg\n",
      "Ergebnis für Bild ADE_train_00019508.jpg gespeichert: results/lama/ADE_train_00019508.jpg\n",
      "Ergebnis für Bild ADE_train_00001765.jpg gespeichert: results/lama/ADE_train_00001765.jpg\n",
      "Ergebnis für Bild ADE_train_00001490.jpg gespeichert: results/lama/ADE_train_00001490.jpg\n",
      "Ergebnis für Bild ADE_train_00019290.jpg gespeichert: results/lama/ADE_train_00019290.jpg\n",
      "Ergebnis für Bild ADE_train_00024826.jpg gespeichert: results/lama/ADE_train_00024826.jpg\n",
      "Ergebnis für Bild ADE_train_00002172.jpg gespeichert: results/lama/ADE_train_00002172.jpg\n",
      "Ergebnis für Bild ADE_train_00012270.jpg gespeichert: results/lama/ADE_train_00012270.jpg\n",
      "Ergebnis für Bild ADE_train_00001753.jpg gespeichert: results/lama/ADE_train_00001753.jpg\n",
      "Ergebnis für Bild ADE_train_00020206.jpg gespeichert: results/lama/ADE_train_00020206.jpg\n",
      "Ergebnis für Bild ADE_train_00022735.jpg gespeichert: results/lama/ADE_train_00022735.jpg\n",
      "Ergebnis für Bild ADE_train_00009812.jpg gespeichert: results/lama/ADE_train_00009812.jpg\n",
      "Ergebnis für Bild ADE_train_00019145.jpg gespeichert: results/lama/ADE_train_00019145.jpg\n",
      "Ergebnis für Bild ADE_train_00002386.jpg gespeichert: results/lama/ADE_train_00002386.jpg\n",
      "Ergebnis für Bild ADE_train_00001773.jpg gespeichert: results/lama/ADE_train_00001773.jpg\n",
      "Ergebnis für Bild ADE_train_00002174.jpg gespeichert: results/lama/ADE_train_00002174.jpg\n",
      "Ergebnis für Bild ADE_train_00019509.jpg gespeichert: results/lama/ADE_train_00019509.jpg\n",
      "Ergebnis für Bild ADE_train_00019512.jpg gespeichert: results/lama/ADE_train_00019512.jpg\n",
      "Ergebnis für Bild ADE_train_00001788.jpg gespeichert: results/lama/ADE_train_00001788.jpg\n",
      "Ergebnis für Bild ADE_train_00002417.jpg gespeichert: results/lama/ADE_train_00002417.jpg\n",
      "Ergebnis für Bild ADE_train_00001761.jpg gespeichert: results/lama/ADE_train_00001761.jpg\n",
      "Ergebnis für Bild ADE_train_00001689.jpg gespeichert: results/lama/ADE_train_00001689.jpg\n",
      "Ergebnis für Bild ADE_train_00001657.jpg gespeichert: results/lama/ADE_train_00001657.jpg\n",
      "Ergebnis für Bild ADE_train_00000651.jpg gespeichert: results/lama/ADE_train_00000651.jpg\n",
      "Ergebnis für Bild ADE_train_00001824.jpg gespeichert: results/lama/ADE_train_00001824.jpg\n",
      "Ergebnis für Bild ADE_train_00002293.jpg gespeichert: results/lama/ADE_train_00002293.jpg\n",
      "Ergebnis für Bild ADE_train_00020241.jpg gespeichert: results/lama/ADE_train_00020241.jpg\n",
      "Ergebnis für Bild ADE_train_00008801.jpg gespeichert: results/lama/ADE_train_00008801.jpg\n",
      "Ergebnis für Bild ADE_train_00002192.jpg gespeichert: results/lama/ADE_train_00002192.jpg\n",
      "Ergebnis für Bild ADE_train_00023669.jpg gespeichert: results/lama/ADE_train_00023669.jpg\n",
      "Ergebnis für Bild ADE_train_00006613.jpg gespeichert: results/lama/ADE_train_00006613.jpg\n",
      "Ergebnis für Bild ADE_train_00002140.jpg gespeichert: results/lama/ADE_train_00002140.jpg\n",
      "Ergebnis für Bild ADE_train_00001667.jpg gespeichert: results/lama/ADE_train_00001667.jpg\n",
      "Ergebnis für Bild ADE_train_00000663.jpg gespeichert: results/lama/ADE_train_00000663.jpg\n",
      "Ergebnis für Bild ADE_train_00011594.jpg gespeichert: results/lama/ADE_train_00011594.jpg\n",
      "Ergebnis für Bild ADE_train_00019021.jpg gespeichert: results/lama/ADE_train_00019021.jpg\n",
      "Ergebnis für Bild ADE_train_00002291.jpg gespeichert: results/lama/ADE_train_00002291.jpg\n",
      "Ergebnis für Bild ADE_train_00019098.jpg gespeichert: results/lama/ADE_train_00019098.jpg\n",
      "Ergebnis für Bild ADE_train_00004242.jpg gespeichert: results/lama/ADE_train_00004242.jpg\n",
      "Ergebnis für Bild ADE_train_00020087.jpg gespeichert: results/lama/ADE_train_00020087.jpg\n",
      "Ergebnis für Bild ADE_train_00001760.jpg gespeichert: results/lama/ADE_train_00001760.jpg\n",
      "Ergebnis für Bild ADE_train_00022685.jpg gespeichert: results/lama/ADE_train_00022685.jpg\n",
      "Ergebnis für Bild ADE_train_00022678.jpg gespeichert: results/lama/ADE_train_00022678.jpg\n",
      "Ergebnis für Bild ADE_train_00024113.jpg gespeichert: results/lama/ADE_train_00024113.jpg\n",
      "Ergebnis für Bild ADE_train_00000555.jpg gespeichert: results/lama/ADE_train_00000555.jpg\n",
      "Ergebnis für Bild ADE_train_00001767.jpg gespeichert: results/lama/ADE_train_00001767.jpg\n",
      "Ergebnis für Bild ADE_train_00013814.jpg gespeichert: results/lama/ADE_train_00013814.jpg\n",
      "Ergebnis für Bild ADE_train_00019294.jpg gespeichert: results/lama/ADE_train_00019294.jpg\n",
      "Ergebnis für Bild ADE_train_00021742.jpg gespeichert: results/lama/ADE_train_00021742.jpg\n",
      "Ergebnis für Bild ADE_train_00010111.jpg gespeichert: results/lama/ADE_train_00010111.jpg\n",
      "Ergebnis für Bild ADE_train_00011671.jpg gespeichert: results/lama/ADE_train_00011671.jpg\n",
      "Ergebnis für Bild ADE_train_00001500.jpg gespeichert: results/lama/ADE_train_00001500.jpg\n",
      "Ergebnis für Bild ADE_train_00001802.jpg gespeichert: results/lama/ADE_train_00001802.jpg\n",
      "Ergebnis für Bild ADE_train_00012247.jpg gespeichert: results/lama/ADE_train_00012247.jpg\n",
      "Ergebnis für Bild ADE_train_00011663.jpg gespeichert: results/lama/ADE_train_00011663.jpg\n",
      "Ergebnis für Bild ADE_train_00012228.jpg gespeichert: results/lama/ADE_train_00012228.jpg\n",
      "Ergebnis für Bild ADE_train_00021165.jpg gespeichert: results/lama/ADE_train_00021165.jpg\n",
      "Ergebnis für Bild ADE_train_00001757.jpg gespeichert: results/lama/ADE_train_00001757.jpg\n",
      "Ergebnis für Bild ADE_frame_00000028.jpg gespeichert: results/lama/ADE_frame_00000028.jpg\n",
      "Ergebnis für Bild ADE_train_00002048.jpg gespeichert: results/lama/ADE_train_00002048.jpg\n",
      "Ergebnis für Bild ADE_train_00022697.jpg gespeichert: results/lama/ADE_train_00022697.jpg\n",
      "Ergebnis für Bild ADE_train_00001741.jpg gespeichert: results/lama/ADE_train_00001741.jpg\n",
      "Ergebnis für Bild ADE_train_00022987.jpg gespeichert: results/lama/ADE_train_00022987.jpg\n",
      "Ergebnis für Bild ADE_train_00001698.jpg gespeichert: results/lama/ADE_train_00001698.jpg\n",
      "Ergebnis für Bild ADE_train_00023738.jpg gespeichert: results/lama/ADE_train_00023738.jpg\n",
      "Ergebnis für Bild ADE_train_00006624.jpg gespeichert: results/lama/ADE_train_00006624.jpg\n",
      "Ergebnis für Bild ADE_train_00022932.jpg gespeichert: results/lama/ADE_train_00022932.jpg\n",
      "Ergebnis für Bild ADE_train_00001711.jpg gespeichert: results/lama/ADE_train_00001711.jpg\n",
      "Ergebnis für Bild ADE_train_00022635.jpg gespeichert: results/lama/ADE_train_00022635.jpg\n",
      "Ergebnis für Bild ADE_train_00000664.jpg gespeichert: results/lama/ADE_train_00000664.jpg\n",
      "Ergebnis für Bild ADE_train_00004951.jpg gespeichert: results/lama/ADE_train_00004951.jpg\n",
      "Ergebnis für Bild ADE_train_00002462.jpg gespeichert: results/lama/ADE_train_00002462.jpg\n",
      "Ergebnis für Bild ADE_train_00011716.jpg gespeichert: results/lama/ADE_train_00011716.jpg\n",
      "Ergebnis für Bild ADE_train_00001694.jpg gespeichert: results/lama/ADE_train_00001694.jpg\n",
      "Ergebnis für Bild ADE_train_00001816.jpg gespeichert: results/lama/ADE_train_00001816.jpg\n",
      "Ergebnis für Bild ADE_train_00022683.jpg gespeichert: results/lama/ADE_train_00022683.jpg\n",
      "Ergebnis für Bild ADE_train_00000656.jpg gespeichert: results/lama/ADE_train_00000656.jpg\n",
      "Ergebnis für Bild ADE_frame_00000180.jpg gespeichert: results/lama/ADE_frame_00000180.jpg\n",
      "Ergebnis für Bild ADE_train_00002388.jpg gespeichert: results/lama/ADE_train_00002388.jpg\n",
      "Ergebnis für Bild ADE_train_00012223.jpg gespeichert: results/lama/ADE_train_00012223.jpg\n",
      "Ergebnis für Bild ADE_train_00000667.jpg gespeichert: results/lama/ADE_train_00000667.jpg\n",
      "Ergebnis für Bild ADE_train_00001688.jpg gespeichert: results/lama/ADE_train_00001688.jpg\n",
      "Ergebnis für Bild ADE_train_00001762.jpg gespeichert: results/lama/ADE_train_00001762.jpg\n",
      "Ergebnis für Bild ADE_train_00016762.jpg gespeichert: results/lama/ADE_train_00016762.jpg\n",
      "Ergebnis für Bild ADE_train_00012271.jpg gespeichert: results/lama/ADE_train_00012271.jpg\n",
      "Ergebnis für Bild ADE_train_00003182.jpg gespeichert: results/lama/ADE_train_00003182.jpg\n",
      "Ergebnis für Bild ADE_train_00009805.jpg gespeichert: results/lama/ADE_train_00009805.jpg\n",
      "Ergebnis für Bild ADE_train_00019281.jpg gespeichert: results/lama/ADE_train_00019281.jpg\n",
      "Ergebnis für Bild ADE_train_00003095.jpg gespeichert: results/lama/ADE_train_00003095.jpg\n",
      "Ergebnis für Bild ADE_train_00022692.jpg gespeichert: results/lama/ADE_train_00022692.jpg\n",
      "Ergebnis für Bild ADE_train_00022703.jpg gespeichert: results/lama/ADE_train_00022703.jpg\n",
      "Ergebnis für Bild ADE_train_00023137.jpg gespeichert: results/lama/ADE_train_00023137.jpg\n",
      "Ergebnis für Bild ADE_train_00001550.jpg gespeichert: results/lama/ADE_train_00001550.jpg\n",
      "Ergebnis für Bild ADE_train_00015459.jpg gespeichert: results/lama/ADE_train_00015459.jpg\n",
      "Ergebnis für Bild ADE_train_00012249.jpg gespeichert: results/lama/ADE_train_00012249.jpg\n",
      "Ergebnis für Bild ADE_train_00020209.jpg gespeichert: results/lama/ADE_train_00020209.jpg\n",
      "Ergebnis für Bild ADE_train_00023726.jpg gespeichert: results/lama/ADE_train_00023726.jpg\n",
      "Ergebnis für Bild ADE_train_00020208.jpg gespeichert: results/lama/ADE_train_00020208.jpg\n",
      "Ergebnis für Bild ADE_train_00024475.jpg gespeichert: results/lama/ADE_train_00024475.jpg\n",
      "Ergebnis für Bild ADE_train_00004952.jpg gespeichert: results/lama/ADE_train_00004952.jpg\n",
      "Ergebnis für Bild ADE_train_00022705.jpg gespeichert: results/lama/ADE_train_00022705.jpg\n",
      "Ergebnis für Bild ADE_train_00010999.jpg gespeichert: results/lama/ADE_train_00010999.jpg\n",
      "Ergebnis für Bild ADE_train_00011664.jpg gespeichert: results/lama/ADE_train_00011664.jpg\n",
      "Ergebnis für Bild ADE_train_00022682.jpg gespeichert: results/lama/ADE_train_00022682.jpg\n",
      "Ergebnis für Bild ADE_train_00007484.jpg gespeichert: results/lama/ADE_train_00007484.jpg\n",
      "Ergebnis für Bild ADE_train_00001704.jpg gespeichert: results/lama/ADE_train_00001704.jpg\n",
      "Ergebnis für Bild ADE_train_00001336.jpg gespeichert: results/lama/ADE_train_00001336.jpg\n",
      "Ergebnis für Bild ADE_train_00015456.jpg gespeichert: results/lama/ADE_train_00015456.jpg\n",
      "Ergebnis für Bild ADE_train_00001987.jpg gespeichert: results/lama/ADE_train_00001987.jpg\n",
      "Ergebnis für Bild ADE_train_00024476.jpg gespeichert: results/lama/ADE_train_00024476.jpg\n",
      "Ergebnis für Bild ADE_train_00001774.jpg gespeichert: results/lama/ADE_train_00001774.jpg\n",
      "Ergebnis für Bild ADE_train_00001697.jpg gespeichert: results/lama/ADE_train_00001697.jpg\n",
      "Ergebnis für Bild ADE_train_00003161.jpg gespeichert: results/lama/ADE_train_00003161.jpg\n",
      "Ergebnis für Bild ADE_train_00012243.jpg gespeichert: results/lama/ADE_train_00012243.jpg\n",
      "Ergebnis für Bild ADE_train_00019094.jpg gespeichert: results/lama/ADE_train_00019094.jpg\n",
      "Ergebnis für Bild ADE_train_00005328.jpg gespeichert: results/lama/ADE_train_00005328.jpg\n",
      "Ergebnis für Bild ADE_train_00020247.jpg gespeichert: results/lama/ADE_train_00020247.jpg\n",
      "Ergebnis für Bild ADE_train_00002405.jpg gespeichert: results/lama/ADE_train_00002405.jpg\n",
      "Ergebnis für Bild ADE_train_00002346.jpg gespeichert: results/lama/ADE_train_00002346.jpg\n",
      "Ergebnis für Bild ADE_train_00001489.jpg gespeichert: results/lama/ADE_train_00001489.jpg\n",
      "Ergebnis für Bild ADE_frame_00000061.jpg gespeichert: results/lama/ADE_frame_00000061.jpg\n",
      "Ergebnis für Bild ADE_train_00022727.jpg gespeichert: results/lama/ADE_train_00022727.jpg\n",
      "Ergebnis für Bild ADE_train_00024577.jpg gespeichert: results/lama/ADE_train_00024577.jpg\n",
      "Ergebnis für Bild ADE_train_00001701.jpg gespeichert: results/lama/ADE_train_00001701.jpg\n",
      "Ergebnis für Bild ADE_train_00001498.jpg gespeichert: results/lama/ADE_train_00001498.jpg\n",
      "Ergebnis für Bild ADE_train_00023727.jpg gespeichert: results/lama/ADE_train_00023727.jpg\n",
      "Ergebnis für Bild ADE_train_00008812.jpg gespeichert: results/lama/ADE_train_00008812.jpg\n",
      "Ergebnis für Bild ADE_train_00022686.jpg gespeichert: results/lama/ADE_train_00022686.jpg\n",
      "Ergebnis für Bild ADE_train_00019286.jpg gespeichert: results/lama/ADE_train_00019286.jpg\n",
      "Ergebnis für Bild ADE_train_00005542.jpg gespeichert: results/lama/ADE_train_00005542.jpg\n",
      "Ergebnis für Bild ADE_train_00012237.jpg gespeichert: results/lama/ADE_train_00012237.jpg\n",
      "Ergebnis für Bild ADE_train_00003168.jpg gespeichert: results/lama/ADE_train_00003168.jpg\n",
      "Ergebnis für Bild ADE_train_00002045.jpg gespeichert: results/lama/ADE_train_00002045.jpg\n",
      "Ergebnis für Bild ADE_train_00019004.jpg gespeichert: results/lama/ADE_train_00019004.jpg\n",
      "Ergebnis für Bild ADE_train_00007507.jpg gespeichert: results/lama/ADE_train_00007507.jpg\n",
      "Ergebnis für Bild ADE_train_00015453.jpg gespeichert: results/lama/ADE_train_00015453.jpg\n",
      "Ergebnis für Bild ADE_train_00016855.jpg gespeichert: results/lama/ADE_train_00016855.jpg\n",
      "Ergebnis für Bild ADE_train_00006150.jpg gespeichert: results/lama/ADE_train_00006150.jpg\n",
      "Ergebnis für Bild ADE_train_00002054.jpg gespeichert: results/lama/ADE_train_00002054.jpg\n",
      "Ergebnis für Bild ADE_train_00024687.jpg gespeichert: results/lama/ADE_train_00024687.jpg\n",
      "Ergebnis für Bild ADE_train_00002366.jpg gespeichert: results/lama/ADE_train_00002366.jpg\n",
      "Ergebnis für Bild ADE_train_00001747.jpg gespeichert: results/lama/ADE_train_00001747.jpg\n",
      "Ergebnis für Bild ADE_train_00025118.jpg gespeichert: results/lama/ADE_train_00025118.jpg\n",
      "Ergebnis für Bild ADE_train_00007690.jpg gespeichert: results/lama/ADE_train_00007690.jpg\n",
      "Ergebnis für Bild ADE_frame_00000142.jpg gespeichert: results/lama/ADE_frame_00000142.jpg\n",
      "Ergebnis für Bild ADE_train_00022762.jpg gespeichert: results/lama/ADE_train_00022762.jpg\n",
      "Ergebnis für Bild ADE_train_00001655.jpg gespeichert: results/lama/ADE_train_00001655.jpg\n",
      "Ergebnis für Bild ADE_train_00001717.jpg gespeichert: results/lama/ADE_train_00001717.jpg\n",
      "Ergebnis für Bild ADE_train_00001680.jpg gespeichert: results/lama/ADE_train_00001680.jpg\n",
      "Ergebnis für Bild ADE_train_00012214.jpg gespeichert: results/lama/ADE_train_00012214.jpg\n",
      "Ergebnis für Bild ADE_train_00008808.jpg gespeichert: results/lama/ADE_train_00008808.jpg\n",
      "Ergebnis für Bild ADE_train_00005327.jpg gespeichert: results/lama/ADE_train_00005327.jpg\n",
      "Ergebnis für Bild ADE_train_00019288.jpg gespeichert: results/lama/ADE_train_00019288.jpg\n",
      "Ergebnis für Bild ADE_frame_00000191.jpg gespeichert: results/lama/ADE_frame_00000191.jpg\n",
      "Ergebnis für Bild ADE_train_00024362.jpg gespeichert: results/lama/ADE_train_00024362.jpg\n",
      "Ergebnis für Bild ADE_train_00009990.jpg gespeichert: results/lama/ADE_train_00009990.jpg\n",
      "Ergebnis für Bild ADE_train_00007689.jpg gespeichert: results/lama/ADE_train_00007689.jpg\n",
      "Ergebnis für Bild ADE_train_00002274.jpg gespeichert: results/lama/ADE_train_00002274.jpg\n",
      "Ergebnis für Bild ADE_train_00003167.jpg gespeichert: results/lama/ADE_train_00003167.jpg\n",
      "Ergebnis für Bild ADE_train_00003189.jpg gespeichert: results/lama/ADE_train_00003189.jpg\n",
      "Ergebnis für Bild ADE_train_00020082.jpg gespeichert: results/lama/ADE_train_00020082.jpg\n",
      "Ergebnis für Bild ADE_train_00004302.jpg gespeichert: results/lama/ADE_train_00004302.jpg\n",
      "Ergebnis für Bild ADE_train_00001797.jpg gespeichert: results/lama/ADE_train_00001797.jpg\n",
      "Ergebnis für Bild ADE_train_00022699.jpg gespeichert: results/lama/ADE_train_00022699.jpg\n",
      "Ergebnis für Bild ADE_train_00012241.jpg gespeichert: results/lama/ADE_train_00012241.jpg\n",
      "Ergebnis für Bild ADE_train_00001804.jpg gespeichert: results/lama/ADE_train_00001804.jpg\n",
      "Ergebnis für Bild ADE_train_00022758.jpg gespeichert: results/lama/ADE_train_00022758.jpg\n",
      "Ergebnis für Bild ADE_train_00013811.jpg gespeichert: results/lama/ADE_train_00013811.jpg\n",
      "Ergebnis für Bild ADE_train_00001755.jpg gespeichert: results/lama/ADE_train_00001755.jpg\n",
      "Ergebnis für Bild ADE_train_00001805.jpg gespeichert: results/lama/ADE_train_00001805.jpg\n",
      "Ergebnis für Bild ADE_train_00022731.jpg gespeichert: results/lama/ADE_train_00022731.jpg\n",
      "Ergebnis für Bild ADE_train_00009807.jpg gespeichert: results/lama/ADE_train_00009807.jpg\n",
      "Ergebnis für Bild ADE_train_00001974.jpg gespeichert: results/lama/ADE_train_00001974.jpg\n",
      "Ergebnis für Bild ADE_train_00020471.jpg gespeichert: results/lama/ADE_train_00020471.jpg\n",
      "Ergebnis für Bild ADE_train_00002165.jpg gespeichert: results/lama/ADE_train_00002165.jpg\n",
      "Ergebnis für Bild ADE_train_00024550.jpg gespeichert: results/lama/ADE_train_00024550.jpg\n",
      "Ergebnis für Bild ADE_train_00006609.jpg gespeichert: results/lama/ADE_train_00006609.jpg\n",
      "Ergebnis für Bild ADE_train_00010919.jpg gespeichert: results/lama/ADE_train_00010919.jpg\n",
      "Ergebnis für Bild ADE_frame_00000005.jpg gespeichert: results/lama/ADE_frame_00000005.jpg\n",
      "Ergebnis für Bild ADE_train_00022242.jpg gespeichert: results/lama/ADE_train_00022242.jpg\n",
      "Ergebnis für Bild ADE_train_00004377.jpg gespeichert: results/lama/ADE_train_00004377.jpg\n",
      "Ergebnis für Bild ADE_train_00001565.jpg gespeichert: results/lama/ADE_train_00001565.jpg\n",
      "Ergebnis für Bild ADE_train_00012236.jpg gespeichert: results/lama/ADE_train_00012236.jpg\n",
      "Ergebnis für Bild ADE_train_00003169.jpg gespeichert: results/lama/ADE_train_00003169.jpg\n",
      "Ergebnis für Bild ADE_train_00012187.jpg gespeichert: results/lama/ADE_train_00012187.jpg\n",
      "Ergebnis für Bild ADE_train_00022761.jpg gespeichert: results/lama/ADE_train_00022761.jpg\n",
      "Ergebnis für Bild ADE_train_00001813.jpg gespeichert: results/lama/ADE_train_00001813.jpg\n",
      "Ergebnis für Bild ADE_train_00008217.jpg gespeichert: results/lama/ADE_train_00008217.jpg\n",
      "Ergebnis für Bild ADE_train_00007685.jpg gespeichert: results/lama/ADE_train_00007685.jpg\n",
      "Ergebnis für Bild ADE_train_00001699.jpg gespeichert: results/lama/ADE_train_00001699.jpg\n",
      "Ergebnis für Bild ADE_train_00002270.jpg gespeichert: results/lama/ADE_train_00002270.jpg\n",
      "Ergebnis für Bild ADE_train_00002157.jpg gespeichert: results/lama/ADE_train_00002157.jpg\n",
      "Ergebnis für Bild ADE_train_00003082.jpg gespeichert: results/lama/ADE_train_00003082.jpg\n",
      "Ergebnis für Bild ADE_train_00022740.jpg gespeichert: results/lama/ADE_train_00022740.jpg\n",
      "Ergebnis für Bild ADE_train_00002198.jpg gespeichert: results/lama/ADE_train_00002198.jpg\n",
      "Ergebnis für Bild ADE_train_00001714.jpg gespeichert: results/lama/ADE_train_00001714.jpg\n",
      "Ergebnis für Bild ADE_train_00002326.jpg gespeichert: results/lama/ADE_train_00002326.jpg\n",
      "Ergebnis für Bild ADE_train_00003091.jpg gespeichert: results/lama/ADE_train_00003091.jpg\n",
      "Ergebnis für Bild ADE_train_00019599.jpg gespeichert: results/lama/ADE_train_00019599.jpg\n",
      "Ergebnis für Bild ADE_train_00003188.jpg gespeichert: results/lama/ADE_train_00003188.jpg\n",
      "Ergebnis für Bild ADE_train_00000961.jpg gespeichert: results/lama/ADE_train_00000961.jpg\n",
      "Ergebnis für Bild ADE_frame_00000141.jpg gespeichert: results/lama/ADE_frame_00000141.jpg\n",
      "Ergebnis für Bild ADE_train_00001695.jpg gespeichert: results/lama/ADE_train_00001695.jpg\n",
      "Ergebnis für Bild ADE_train_00019104.jpg gespeichert: results/lama/ADE_train_00019104.jpg\n",
      "Ergebnis für Bild ADE_train_00002289.jpg gespeichert: results/lama/ADE_train_00002289.jpg\n",
      "Ergebnis für Bild ADE_train_00001237.jpg gespeichert: results/lama/ADE_train_00001237.jpg\n",
      "Ergebnis für Bild ADE_train_00001811.jpg gespeichert: results/lama/ADE_train_00001811.jpg\n",
      "Ergebnis für Bild ADE_train_00005172.jpg gespeichert: results/lama/ADE_train_00005172.jpg\n",
      "Ergebnis für Bild ADE_train_00007697.jpg gespeichert: results/lama/ADE_train_00007697.jpg\n",
      "Ergebnis für Bild ADE_train_00002058.jpg gespeichert: results/lama/ADE_train_00002058.jpg\n",
      "Ergebnis für Bild ADE_train_00008810.jpg gespeichert: results/lama/ADE_train_00008810.jpg\n",
      "Ergebnis für Bild ADE_train_00020279.jpg gespeichert: results/lama/ADE_train_00020279.jpg\n",
      "Ergebnis für Bild ADE_train_00022706.jpg gespeichert: results/lama/ADE_train_00022706.jpg\n",
      "Ergebnis für Bild ADE_train_00001640.jpg gespeichert: results/lama/ADE_train_00001640.jpg\n",
      "Ergebnis für Bild ADE_train_00023670.jpg gespeichert: results/lama/ADE_train_00023670.jpg\n",
      "Ergebnis für Bild ADE_train_00000653.jpg gespeichert: results/lama/ADE_train_00000653.jpg\n",
      "Ergebnis für Bild ADE_train_00021166.jpg gespeichert: results/lama/ADE_train_00021166.jpg\n",
      "Ergebnis für Bild ADE_train_00015454.jpg gespeichert: results/lama/ADE_train_00015454.jpg\n",
      "Ergebnis für Bild ADE_train_00001495.jpg gespeichert: results/lama/ADE_train_00001495.jpg\n",
      "Ergebnis für Bild ADE_train_00001703.jpg gespeichert: results/lama/ADE_train_00001703.jpg\n",
      "Ergebnis für Bild ADE_train_00020192.jpg gespeichert: results/lama/ADE_train_00020192.jpg\n",
      "Ergebnis für Bild ADE_train_00020084.jpg gespeichert: results/lama/ADE_train_00020084.jpg\n",
      "Ergebnis für Bild ADE_train_00002377.jpg gespeichert: results/lama/ADE_train_00002377.jpg\n",
      "Ergebnis für Bild ADE_train_00009992.jpg gespeichert: results/lama/ADE_train_00009992.jpg\n",
      "Ergebnis für Bild ADE_train_00012233.jpg gespeichert: results/lama/ADE_train_00012233.jpg\n",
      "Ergebnis für Bild ADE_train_00016149.jpg gespeichert: results/lama/ADE_train_00016149.jpg\n",
      "Ergebnis für Bild ADE_train_00019107.jpg gespeichert: results/lama/ADE_train_00019107.jpg\n",
      "Ergebnis für Bild ADE_train_00024481.jpg gespeichert: results/lama/ADE_train_00024481.jpg\n",
      "Ergebnis für Bild ADE_train_00002143.jpg gespeichert: results/lama/ADE_train_00002143.jpg\n",
      "Ergebnis für Bild ADE_train_00020249.jpg gespeichert: results/lama/ADE_train_00020249.jpg\n",
      "Ergebnis für Bild ADE_train_00002387.jpg gespeichert: results/lama/ADE_train_00002387.jpg\n",
      "Ergebnis für Bild ADE_train_00019172.jpg gespeichert: results/lama/ADE_train_00019172.jpg\n",
      "Ergebnis für Bild ADE_train_00024548.jpg gespeichert: results/lama/ADE_train_00024548.jpg\n",
      "Ergebnis für Bild ADE_train_00005547.jpg gespeichert: results/lama/ADE_train_00005547.jpg\n",
      "Ergebnis für Bild ADE_train_00012276.jpg gespeichert: results/lama/ADE_train_00012276.jpg\n",
      "Ergebnis für Bild ADE_train_00002295.jpg gespeichert: results/lama/ADE_train_00002295.jpg\n",
      "Ergebnis für Bild ADE_train_00008214.jpg gespeichert: results/lama/ADE_train_00008214.jpg\n",
      "Ergebnis für Bild ADE_train_00002365.jpg gespeichert: results/lama/ADE_train_00002365.jpg\n",
      "Ergebnis für Bild ADE_train_00020207.jpg gespeichert: results/lama/ADE_train_00020207.jpg\n",
      "Ergebnis für Bild ADE_train_00007684.jpg gespeichert: results/lama/ADE_train_00007684.jpg\n",
      "Ergebnis für Bild ADE_train_00001570.jpg gespeichert: results/lama/ADE_train_00001570.jpg\n",
      "Ergebnis für Bild ADE_train_00007010.jpg gespeichert: results/lama/ADE_train_00007010.jpg\n",
      "Ergebnis für Bild ADE_train_00006148.jpg gespeichert: results/lama/ADE_train_00006148.jpg\n",
      "Ergebnis für Bild ADE_train_00020244.jpg gespeichert: results/lama/ADE_train_00020244.jpg\n",
      "Ergebnis für Bild ADE_train_00001721.jpg gespeichert: results/lama/ADE_train_00001721.jpg\n",
      "Ergebnis für Bild ADE_train_00001896.jpg gespeichert: results/lama/ADE_train_00001896.jpg\n",
      "Ergebnis für Bild ADE_train_00001668.jpg gespeichert: results/lama/ADE_train_00001668.jpg\n",
      "Ergebnis für Bild ADE_train_00002342.jpg gespeichert: results/lama/ADE_train_00002342.jpg\n",
      "Ergebnis für Bild ADE_train_00015769.jpg gespeichert: results/lama/ADE_train_00015769.jpg\n",
      "Ergebnis für Bild ADE_train_00002271.jpg gespeichert: results/lama/ADE_train_00002271.jpg\n",
      "Ergebnis für Bild ADE_train_00021745.jpg gespeichert: results/lama/ADE_train_00021745.jpg\n",
      "Ergebnis für Bild ADE_train_00001756.jpg gespeichert: results/lama/ADE_train_00001756.jpg\n",
      "Ergebnis für Bild ADE_train_00002333.jpg gespeichert: results/lama/ADE_train_00002333.jpg\n",
      "Ergebnis für Bild ADE_train_00009813.jpg gespeichert: results/lama/ADE_train_00009813.jpg\n",
      "Ergebnis für Bild ADE_train_00005676.jpg gespeichert: results/lama/ADE_train_00005676.jpg\n",
      "Ergebnis für Bild ADE_train_00011666.jpg gespeichert: results/lama/ADE_train_00011666.jpg\n",
      "Ergebnis für Bild ADE_train_00009323.jpg gespeichert: results/lama/ADE_train_00009323.jpg\n",
      "Ergebnis für Bild ADE_train_00016152.jpg gespeichert: results/lama/ADE_train_00016152.jpg\n",
      "Ergebnis für Bild ADE_train_00023487.jpg gespeichert: results/lama/ADE_train_00023487.jpg\n",
      "Ergebnis für Bild ADE_train_00000962.jpg gespeichert: results/lama/ADE_train_00000962.jpg\n",
      "Ergebnis für Bild ADE_train_00019602.jpg gespeichert: results/lama/ADE_train_00019602.jpg\n",
      "Ergebnis für Bild ADE_train_00001776.jpg gespeichert: results/lama/ADE_train_00001776.jpg\n",
      "Ergebnis für Bild ADE_train_00001786.jpg gespeichert: results/lama/ADE_train_00001786.jpg\n",
      "Ergebnis für Bild ADE_train_00002173.jpg gespeichert: results/lama/ADE_train_00002173.jpg\n",
      "Ergebnis für Bild ADE_train_00022931.jpg gespeichert: results/lama/ADE_train_00022931.jpg\n",
      "Ergebnis für Bild ADE_train_00009811.jpg gespeichert: results/lama/ADE_train_00009811.jpg\n",
      "Ergebnis für Bild ADE_train_00011904.jpg gespeichert: results/lama/ADE_train_00011904.jpg\n",
      "Ergebnis für Bild ADE_train_00000674.jpg gespeichert: results/lama/ADE_train_00000674.jpg\n",
      "Ergebnis für Bild ADE_train_00000655.jpg gespeichert: results/lama/ADE_train_00000655.jpg\n",
      "Ergebnis für Bild ADE_train_00022771.jpg gespeichert: results/lama/ADE_train_00022771.jpg\n",
      "Ergebnis für Bild ADE_train_00002176.jpg gespeichert: results/lama/ADE_train_00002176.jpg\n",
      "Ergebnis für Bild ADE_train_00019298.jpg gespeichert: results/lama/ADE_train_00019298.jpg\n",
      "Ergebnis für Bild ADE_train_00025115.jpg gespeichert: results/lama/ADE_train_00025115.jpg\n",
      "Ergebnis für Bild ADE_train_00022708.jpg gespeichert: results/lama/ADE_train_00022708.jpg\n",
      "Ergebnis für Bild ADE_train_00020205.jpg gespeichert: results/lama/ADE_train_00020205.jpg\n",
      "Ergebnis für Bild ADE_train_00022663.jpg gespeichert: results/lama/ADE_train_00022663.jpg\n",
      "Ergebnis für Bild ADE_frame_00000192.jpg gespeichert: results/lama/ADE_frame_00000192.jpg\n",
      "Ergebnis für Bild ADE_train_00003058.jpg gespeichert: results/lama/ADE_train_00003058.jpg\n",
      "Ergebnis für Bild ADE_train_00005334.jpg gespeichert: results/lama/ADE_train_00005334.jpg\n",
      "Ergebnis für Bild ADE_train_00019154.jpg gespeichert: results/lama/ADE_train_00019154.jpg\n",
      "Ergebnis für Bild ADE_frame_00000152.jpg gespeichert: results/lama/ADE_frame_00000152.jpg\n",
      "Ergebnis für Bild ADE_train_00002141.jpg gespeichert: results/lama/ADE_train_00002141.jpg\n",
      "Ergebnis für Bild ADE_train_00000668.jpg gespeichert: results/lama/ADE_train_00000668.jpg\n",
      "Ergebnis für Bild ADE_train_00008799.jpg gespeichert: results/lama/ADE_train_00008799.jpg\n",
      "Ergebnis für Bild ADE_train_00019600.jpg gespeichert: results/lama/ADE_train_00019600.jpg\n",
      "Ergebnis für Bild ADE_train_00023640.jpg gespeichert: results/lama/ADE_train_00023640.jpg\n",
      "Ergebnis für Bild ADE_frame_00000219.jpg gespeichert: results/lama/ADE_frame_00000219.jpg\n",
      "Ergebnis für Bild ADE_train_00022741.jpg gespeichert: results/lama/ADE_train_00022741.jpg\n",
      "Ergebnis für Bild ADE_train_00019147.jpg gespeichert: results/lama/ADE_train_00019147.jpg\n",
      "Ergebnis für Bild ADE_train_00007502.jpg gespeichert: results/lama/ADE_train_00007502.jpg\n",
      "Ergebnis für Bild ADE_train_00022690.jpg gespeichert: results/lama/ADE_train_00022690.jpg\n",
      "Ergebnis für Bild ADE_train_00001637.jpg gespeichert: results/lama/ADE_train_00001637.jpg\n",
      "Ergebnis für Bild ADE_train_00001651.jpg gespeichert: results/lama/ADE_train_00001651.jpg\n",
      "Ergebnis für Bild ADE_train_00019289.jpg gespeichert: results/lama/ADE_train_00019289.jpg\n",
      "Ergebnis für Bild ADE_train_00021739.jpg gespeichert: results/lama/ADE_train_00021739.jpg\n",
      "Ergebnis für Bild ADE_train_00019183.jpg gespeichert: results/lama/ADE_train_00019183.jpg\n",
      "Ergebnis für Bild ADE_train_00001638.jpg gespeichert: results/lama/ADE_train_00001638.jpg\n",
      "Ergebnis für Bild ADE_train_00009808.jpg gespeichert: results/lama/ADE_train_00009808.jpg\n",
      "Ergebnis für Bild ADE_train_00001653.jpg gespeichert: results/lama/ADE_train_00001653.jpg\n",
      "Ergebnis für Bild ADE_train_00001751.jpg gespeichert: results/lama/ADE_train_00001751.jpg\n",
      "Ergebnis für Bild ADE_train_00011668.jpg gespeichert: results/lama/ADE_train_00011668.jpg\n",
      "Ergebnis für Bild ADE_train_00021740.jpg gespeichert: results/lama/ADE_train_00021740.jpg\n",
      "Ergebnis für Bild ADE_frame_00000007.jpg gespeichert: results/lama/ADE_frame_00000007.jpg\n",
      "Ergebnis für Bild ADE_train_00025082.jpg gespeichert: results/lama/ADE_train_00025082.jpg\n",
      "Ergebnis für Bild ADE_train_00016766.jpg gespeichert: results/lama/ADE_train_00016766.jpg\n",
      "Ergebnis für Bild ADE_train_00019096.jpg gespeichert: results/lama/ADE_train_00019096.jpg\n",
      "Ergebnis für Bild ADE_train_00020734.jpg gespeichert: results/lama/ADE_train_00020734.jpg\n",
      "Ergebnis für Bild ADE_train_00012251.jpg gespeichert: results/lama/ADE_train_00012251.jpg\n",
      "Ergebnis für Bild ADE_train_00015623.jpg gespeichert: results/lama/ADE_train_00015623.jpg\n",
      "Ergebnis für Bild ADE_train_00003114.jpg gespeichert: results/lama/ADE_train_00003114.jpg\n",
      "Ergebnis für Bild ADE_train_00019194.jpg gespeichert: results/lama/ADE_train_00019194.jpg\n",
      "Ergebnis für Bild ADE_train_00022297.jpg gespeichert: results/lama/ADE_train_00022297.jpg\n",
      "Ergebnis für Bild ADE_train_00012215.jpg gespeichert: results/lama/ADE_train_00012215.jpg\n",
      "Ergebnis für Bild ADE_train_00015288.jpg gespeichert: results/lama/ADE_train_00015288.jpg\n",
      "Ergebnis für Bild ADE_train_00019191.jpg gespeichert: results/lama/ADE_train_00019191.jpg\n",
      "Ergebnis für Bild ADE_train_00001687.jpg gespeichert: results/lama/ADE_train_00001687.jpg\n",
      "Ergebnis für Bild ADE_train_00003181.jpg gespeichert: results/lama/ADE_train_00003181.jpg\n",
      "Ergebnis für Bild ADE_train_00005348.jpg gespeichert: results/lama/ADE_train_00005348.jpg\n",
      "Ergebnis für Bild ADE_train_00002348.jpg gespeichert: results/lama/ADE_train_00002348.jpg\n",
      "Ergebnis für Bild ADE_train_00002170.jpg gespeichert: results/lama/ADE_train_00002170.jpg\n",
      "Ergebnis für Bild ADE_train_00010000.jpg gespeichert: results/lama/ADE_train_00010000.jpg\n",
      "Ergebnis für Bild ADE_train_00021747.jpg gespeichert: results/lama/ADE_train_00021747.jpg\n",
      "Ergebnis für Bild ADE_train_00002345.jpg gespeichert: results/lama/ADE_train_00002345.jpg\n",
      "Ergebnis für Bild ADE_train_00001778.jpg gespeichert: results/lama/ADE_train_00001778.jpg\n",
      "Ergebnis für Bild ADE_train_00006615.jpg gespeichert: results/lama/ADE_train_00006615.jpg\n",
      "Ergebnis für Bild ADE_train_00005326.jpg gespeichert: results/lama/ADE_train_00005326.jpg\n",
      "Ergebnis für Bild ADE_train_00003081.jpg gespeichert: results/lama/ADE_train_00003081.jpg\n",
      "Ergebnis für Bild ADE_train_00020078.jpg gespeichert: results/lama/ADE_train_00020078.jpg\n",
      "Ergebnis für Bild ADE_train_00002380.jpg gespeichert: results/lama/ADE_train_00002380.jpg\n",
      "Ergebnis für Bild ADE_train_00022694.jpg gespeichert: results/lama/ADE_train_00022694.jpg\n",
      "Ergebnis für Bild ADE_train_00020086.jpg gespeichert: results/lama/ADE_train_00020086.jpg\n",
      "Ergebnis für Bild ADE_train_00019022.jpg gespeichert: results/lama/ADE_train_00019022.jpg\n",
      "Ergebnis für Bild ADE_train_00002284.jpg gespeichert: results/lama/ADE_train_00002284.jpg\n",
      "Ergebnis für Bild ADE_train_00006616.jpg gespeichert: results/lama/ADE_train_00006616.jpg\n",
      "Ergebnis für Bild ADE_train_00001670.jpg gespeichert: results/lama/ADE_train_00001670.jpg\n",
      "Ergebnis für Bild ADE_train_00023730.jpg gespeichert: results/lama/ADE_train_00023730.jpg\n",
      "Ergebnis für Bild ADE_frame_00000027.jpg gespeichert: results/lama/ADE_frame_00000027.jpg\n",
      "Ergebnis für Bild ADE_train_00002300.jpg gespeichert: results/lama/ADE_train_00002300.jpg\n",
      "Ergebnis für Bild ADE_train_00013808.jpg gespeichert: results/lama/ADE_train_00013808.jpg\n",
      "Ergebnis für Bild ADE_train_00001754.jpg gespeichert: results/lama/ADE_train_00001754.jpg\n",
      "Ergebnis für Bild ADE_train_00012218.jpg gespeichert: results/lama/ADE_train_00012218.jpg\n",
      "Ergebnis für Bild ADE_train_00006405.jpg gespeichert: results/lama/ADE_train_00006405.jpg\n",
      "Ergebnis für Bild ADE_train_00002463.jpg gespeichert: results/lama/ADE_train_00002463.jpg\n",
      "Ergebnis für Bild ADE_train_00008807.jpg gespeichert: results/lama/ADE_train_00008807.jpg\n",
      "Ergebnis für Bild ADE_train_00011662.jpg gespeichert: results/lama/ADE_train_00011662.jpg\n",
      "Ergebnis für Bild ADE_train_00002196.jpg gespeichert: results/lama/ADE_train_00002196.jpg\n",
      "Ergebnis für Bild ADE_train_00007686.jpg gespeichert: results/lama/ADE_train_00007686.jpg\n",
      "Ergebnis für Bild ADE_train_00022680.jpg gespeichert: results/lama/ADE_train_00022680.jpg\n",
      "Ergebnis für Bild ADE_train_00001702.jpg gespeichert: results/lama/ADE_train_00001702.jpg\n",
      "Ergebnis für Bild ADE_train_00002043.jpg gespeichert: results/lama/ADE_train_00002043.jpg\n",
      "Ergebnis für Bild ADE_train_00002183.jpg gespeichert: results/lama/ADE_train_00002183.jpg\n",
      "Ergebnis für Bild ADE_train_00008673.jpg gespeichert: results/lama/ADE_train_00008673.jpg\n",
      "Ergebnis für Bild ADE_train_00002146.jpg gespeichert: results/lama/ADE_train_00002146.jpg\n",
      "Ergebnis für Bild ADE_train_00024477.jpg gespeichert: results/lama/ADE_train_00024477.jpg\n",
      "Ergebnis für Bild ADE_train_00002000.jpg gespeichert: results/lama/ADE_train_00002000.jpg\n",
      "Ergebnis für Bild ADE_train_00024787.jpg gespeichert: results/lama/ADE_train_00024787.jpg\n",
      "Ergebnis für Bild ADE_train_00012272.jpg gespeichert: results/lama/ADE_train_00012272.jpg\n",
      "Ergebnis für Bild ADE_train_00001558.jpg gespeichert: results/lama/ADE_train_00001558.jpg\n",
      "Ergebnis für Bild ADE_train_00023133.jpg gespeichert: results/lama/ADE_train_00023133.jpg\n",
      "Ergebnis für Bild ADE_train_00001709.jpg gespeichert: results/lama/ADE_train_00001709.jpg\n",
      "Ergebnis für Bild ADE_train_00000665.jpg gespeichert: results/lama/ADE_train_00000665.jpg\n",
      "Ergebnis für Bild ADE_frame_00000209.jpg gespeichert: results/lama/ADE_frame_00000209.jpg\n",
      "Ergebnis für Bild ADE_train_00019143.jpg gespeichert: results/lama/ADE_train_00019143.jpg\n",
      "Ergebnis für Bild ADE_train_00000654.jpg gespeichert: results/lama/ADE_train_00000654.jpg\n",
      "Ergebnis für Bild ADE_train_00025186.jpg gespeichert: results/lama/ADE_train_00025186.jpg\n",
      "Ergebnis für Bild ADE_train_00010921.jpg gespeichert: results/lama/ADE_train_00010921.jpg\n",
      "Ergebnis für Bild ADE_train_00005562.jpg gespeichert: results/lama/ADE_train_00005562.jpg\n",
      "Ergebnis für Bild ADE_train_00001571.jpg gespeichert: results/lama/ADE_train_00001571.jpg\n",
      "Ergebnis für Bild ADE_train_00022870.jpg gespeichert: results/lama/ADE_train_00022870.jpg\n",
      "Ergebnis für Bild ADE_train_00022738.jpg gespeichert: results/lama/ADE_train_00022738.jpg\n",
      "Ergebnis für Bild ADE_train_00011667.jpg gespeichert: results/lama/ADE_train_00011667.jpg\n",
      "Ergebnis für Bild ADE_frame_00000094.jpg gespeichert: results/lama/ADE_frame_00000094.jpg\n",
      "Ergebnis für Bild ADE_train_00002389.jpg gespeichert: results/lama/ADE_train_00002389.jpg\n",
      "Ergebnis für Bild ADE_train_00004387.jpg gespeichert: results/lama/ADE_train_00004387.jpg\n",
      "Ergebnis für Bild ADE_train_00019155.jpg gespeichert: results/lama/ADE_train_00019155.jpg\n",
      "Ergebnis für Bild ADE_train_00012234.jpg gespeichert: results/lama/ADE_train_00012234.jpg\n",
      "Ergebnis für Bild ADE_train_00023733.jpg gespeichert: results/lama/ADE_train_00023733.jpg\n",
      "Ergebnis für Bild ADE_train_00012273.jpg gespeichert: results/lama/ADE_train_00012273.jpg\n",
      "Ergebnis für Bild ADE_train_00013813.jpg gespeichert: results/lama/ADE_train_00013813.jpg\n",
      "Ergebnis für Bild ADE_train_00001800.jpg gespeichert: results/lama/ADE_train_00001800.jpg\n",
      "Ergebnis für Bild ADE_train_00009348.jpg gespeichert: results/lama/ADE_train_00009348.jpg\n",
      "Ergebnis für Bild ADE_train_00001679.jpg gespeichert: results/lama/ADE_train_00001679.jpg\n",
      "Ergebnis für Bild ADE_train_00001691.jpg gespeichert: results/lama/ADE_train_00001691.jpg\n",
      "Ergebnis für Bild ADE_train_00019786.jpg gespeichert: results/lama/ADE_train_00019786.jpg\n",
      "Ergebnis für Bild ADE_train_00001744.jpg gespeichert: results/lama/ADE_train_00001744.jpg\n",
      "Ergebnis für Bild ADE_frame_00000053.jpg gespeichert: results/lama/ADE_frame_00000053.jpg\n",
      "Ergebnis für Bild ADE_train_00015702.jpg gespeichert: results/lama/ADE_train_00015702.jpg\n",
      "Ergebnis für Bild ADE_train_00020080.jpg gespeichert: results/lama/ADE_train_00020080.jpg\n",
      "Ergebnis für Bild ADE_train_00016346.jpg gespeichert: results/lama/ADE_train_00016346.jpg\n",
      "Ergebnis für Bild ADE_train_00019106.jpg gespeichert: results/lama/ADE_train_00019106.jpg\n",
      "Ergebnis für Bild ADE_train_00005392.jpg gespeichert: results/lama/ADE_train_00005392.jpg\n",
      "Ergebnis für Bild ADE_train_00002169.jpg gespeichert: results/lama/ADE_train_00002169.jpg\n",
      "Ergebnis für Bild ADE_train_00001779.jpg gespeichert: results/lama/ADE_train_00001779.jpg\n",
      "Ergebnis für Bild ADE_train_00001743.jpg gespeichert: results/lama/ADE_train_00001743.jpg\n",
      "Ergebnis für Bild ADE_train_00001884.jpg gespeichert: results/lama/ADE_train_00001884.jpg\n",
      "Ergebnis für Bild ADE_train_00001718.jpg gespeichert: results/lama/ADE_train_00001718.jpg\n",
      "Ergebnis für Bild ADE_train_00000662.jpg gespeichert: results/lama/ADE_train_00000662.jpg\n",
      "Ergebnis für Bild ADE_train_00001559.jpg gespeichert: results/lama/ADE_train_00001559.jpg\n",
      "Ergebnis für Bild ADE_frame_00000255.jpg gespeichert: results/lama/ADE_frame_00000255.jpg\n",
      "Ergebnis für Bild ADE_train_00001659.jpg gespeichert: results/lama/ADE_train_00001659.jpg\n",
      "Ergebnis für Bild ADE_train_00009995.jpg gespeichert: results/lama/ADE_train_00009995.jpg\n",
      "Ergebnis für Bild ADE_train_00001736.jpg gespeichert: results/lama/ADE_train_00001736.jpg\n",
      "Ergebnis für Bild ADE_train_00010927.jpg gespeichert: results/lama/ADE_train_00010927.jpg\n",
      "Ergebnis für Bild ADE_train_00022527.jpg gespeichert: results/lama/ADE_train_00022527.jpg\n",
      "Ergebnis für Bild ADE_frame_00000153.jpg gespeichert: results/lama/ADE_frame_00000153.jpg\n",
      "Ergebnis für Bild ADE_train_00007505.jpg gespeichert: results/lama/ADE_train_00007505.jpg\n",
      "Ergebnis für Bild ADE_train_00001560.jpg gespeichert: results/lama/ADE_train_00001560.jpg\n",
      "Ergebnis für Bild ADE_train_00009977.jpg gespeichert: results/lama/ADE_train_00009977.jpg\n",
      "Ergebnis für Bild ADE_train_00002189.jpg gespeichert: results/lama/ADE_train_00002189.jpg\n",
      "Ergebnis für Bild ADE_train_00024482.jpg gespeichert: results/lama/ADE_train_00024482.jpg\n",
      "Ergebnis für Bild ADE_train_00022759.jpg gespeichert: results/lama/ADE_train_00022759.jpg\n",
      "Ergebnis für Bild ADE_train_00000669.jpg gespeichert: results/lama/ADE_train_00000669.jpg\n",
      "Ergebnis für Bild ADE_train_00002299.jpg gespeichert: results/lama/ADE_train_00002299.jpg\n",
      "Ergebnis für Bild ADE_train_00001732.jpg gespeichert: results/lama/ADE_train_00001732.jpg\n",
      "Ergebnis für Bild ADE_train_00000003.jpg gespeichert: results/lama/ADE_train_00000003.jpg\n",
      "Ergebnis für Bild ADE_train_00022636.jpg gespeichert: results/lama/ADE_train_00022636.jpg\n",
      "Ergebnis für Bild ADE_train_00005393.jpg gespeichert: results/lama/ADE_train_00005393.jpg\n",
      "Ergebnis für Bild ADE_train_00024828.jpg gespeichert: results/lama/ADE_train_00024828.jpg\n",
      "Ergebnis für Bild ADE_train_00007683.jpg gespeichert: results/lama/ADE_train_00007683.jpg\n",
      "Ergebnis für Bild ADE_train_00022632.jpg gespeichert: results/lama/ADE_train_00022632.jpg\n",
      "Ergebnis für Bild ADE_train_00001660.jpg gespeichert: results/lama/ADE_train_00001660.jpg\n",
      "Ergebnis für Bild ADE_train_00022774.jpg gespeichert: results/lama/ADE_train_00022774.jpg\n",
      "Ergebnis für Bild ADE_train_00001661.jpg gespeichert: results/lama/ADE_train_00001661.jpg\n",
      "Ergebnis für Bild ADE_train_00021167.jpg gespeichert: results/lama/ADE_train_00021167.jpg\n",
      "Ergebnis für Bild ADE_train_00002184.jpg gespeichert: results/lama/ADE_train_00002184.jpg\n",
      "Ergebnis für Bild ADE_train_00019005.jpg gespeichert: results/lama/ADE_train_00019005.jpg\n",
      "Ergebnis für Bild ADE_train_00021744.jpg gespeichert: results/lama/ADE_train_00021744.jpg\n",
      "Ergebnis für Bild ADE_train_00003165.jpg gespeichert: results/lama/ADE_train_00003165.jpg\n",
      "Ergebnis für Bild ADE_train_00008811.jpg gespeichert: results/lama/ADE_train_00008811.jpg\n",
      "Ergebnis für Bild ADE_train_00000652.jpg gespeichert: results/lama/ADE_train_00000652.jpg\n",
      "Ergebnis für Bild ADE_train_00001792.jpg gespeichert: results/lama/ADE_train_00001792.jpg\n",
      "Ergebnis für Bild ADE_train_00024547.jpg gespeichert: results/lama/ADE_train_00024547.jpg\n",
      "Ergebnis für Bild ADE_train_00022689.jpg gespeichert: results/lama/ADE_train_00022689.jpg\n",
      "Ergebnis für Bild ADE_train_00002383.jpg gespeichert: results/lama/ADE_train_00002383.jpg\n",
      "Ergebnis für Bild ADE_train_00002171.jpg gespeichert: results/lama/ADE_train_00002171.jpg\n",
      "Ergebnis für Bild ADE_train_00011598.jpg gespeichert: results/lama/ADE_train_00011598.jpg\n",
      "Ergebnis für Bild ADE_train_00002339.jpg gespeichert: results/lama/ADE_train_00002339.jpg\n",
      "Ergebnis für Bild ADE_train_00010926.jpg gespeichert: results/lama/ADE_train_00010926.jpg\n",
      "Ergebnis für Bild ADE_train_00001768.jpg gespeichert: results/lama/ADE_train_00001768.jpg\n",
      "Ergebnis für Bild ADE_train_00001719.jpg gespeichert: results/lama/ADE_train_00001719.jpg\n",
      "Ergebnis für Bild ADE_train_00002374.jpg gespeichert: results/lama/ADE_train_00002374.jpg\n",
      "Ergebnis für Bild ADE_train_00001647.jpg gespeichert: results/lama/ADE_train_00001647.jpg\n",
      "Ergebnis für Bild ADE_train_00000960.jpg gespeichert: results/lama/ADE_train_00000960.jpg\n",
      "Ergebnis für Bild ADE_train_00008814.jpg gespeichert: results/lama/ADE_train_00008814.jpg\n",
      "Ergebnis für Bild ADE_train_00001770.jpg gespeichert: results/lama/ADE_train_00001770.jpg\n",
      "Ergebnis für Bild ADE_train_00001777.jpg gespeichert: results/lama/ADE_train_00001777.jpg\n",
      "Ergebnis für Bild ADE_train_00008809.jpg gespeichert: results/lama/ADE_train_00008809.jpg\n",
      "Ergebnis für Bild ADE_train_00004252.jpg gespeichert: results/lama/ADE_train_00004252.jpg\n",
      "Ergebnis für Bild ADE_train_00020233.jpg gespeichert: results/lama/ADE_train_00020233.jpg\n",
      "Ergebnis für Bild ADE_train_00009347.jpg gespeichert: results/lama/ADE_train_00009347.jpg\n",
      "Ergebnis für Bild ADE_frame_00000021.jpg gespeichert: results/lama/ADE_frame_00000021.jpg\n",
      "Ergebnis für Bild ADE_train_00008813.jpg gespeichert: results/lama/ADE_train_00008813.jpg\n",
      "Ergebnis für Bild ADE_train_00024427.jpg gespeichert: results/lama/ADE_train_00024427.jpg\n",
      "Ergebnis für Bild ADE_train_00002185.jpg gespeichert: results/lama/ADE_train_00002185.jpg\n",
      "Ergebnis für Bild ADE_train_00003080.jpg gespeichert: results/lama/ADE_train_00003080.jpg\n",
      "Ergebnis für Bild ADE_train_00004244.jpg gespeichert: results/lama/ADE_train_00004244.jpg\n",
      "Ergebnis für Bild ADE_train_00011711.jpg gespeichert: results/lama/ADE_train_00011711.jpg\n",
      "Ergebnis für Bild ADE_train_00024363.jpg gespeichert: results/lama/ADE_train_00024363.jpg\n",
      "Ergebnis für Bild ADE_train_00002051.jpg gespeichert: results/lama/ADE_train_00002051.jpg\n",
      "Ergebnis für Bild ADE_train_00022687.jpg gespeichert: results/lama/ADE_train_00022687.jpg\n",
      "Ergebnis für Bild ADE_train_00012183.jpg gespeichert: results/lama/ADE_train_00012183.jpg\n",
      "Ergebnis für Bild ADE_train_00022985.jpg gespeichert: results/lama/ADE_train_00022985.jpg\n",
      "Ergebnis für Bild ADE_train_00001723.jpg gespeichert: results/lama/ADE_train_00001723.jpg\n",
      "Ergebnis für Bild ADE_train_00002416.jpg gespeichert: results/lama/ADE_train_00002416.jpg\n",
      "Ergebnis für Bild ADE_train_00024823.jpg gespeichert: results/lama/ADE_train_00024823.jpg\n",
      "Ergebnis für Bild ADE_train_00019196.jpg gespeichert: results/lama/ADE_train_00019196.jpg\n",
      "Ergebnis für Bild ADE_train_00023743.jpg gespeichert: results/lama/ADE_train_00023743.jpg\n",
      "Ergebnis für Bild ADE_train_00002154.jpg gespeichert: results/lama/ADE_train_00002154.jpg\n",
      "Ergebnis für Bild ADE_train_00004397.jpg gespeichert: results/lama/ADE_train_00004397.jpg\n",
      "Ergebnis für Bild ADE_train_00001734.jpg gespeichert: results/lama/ADE_train_00001734.jpg\n",
      "Ergebnis für Bild ADE_train_00023672.jpg gespeichert: results/lama/ADE_train_00023672.jpg\n",
      "Ergebnis für Bild ADE_train_00015628.jpg gespeichert: results/lama/ADE_train_00015628.jpg\n",
      "Ergebnis für Bild ADE_train_00020589.jpg gespeichert: results/lama/ADE_train_00020589.jpg\n",
      "Ergebnis für Bild ADE_train_00002425.jpg gespeichert: results/lama/ADE_train_00002425.jpg\n",
      "Ergebnis für Bild ADE_train_00002343.jpg gespeichert: results/lama/ADE_train_00002343.jpg\n",
      "Ergebnis für Bild ADE_train_00019146.jpg gespeichert: results/lama/ADE_train_00019146.jpg\n",
      "Ergebnis für Bild ADE_train_00013812.jpg gespeichert: results/lama/ADE_train_00013812.jpg\n",
      "Ergebnis für Bild ADE_train_00001641.jpg gespeichert: results/lama/ADE_train_00001641.jpg\n",
      "Ergebnis für Bild ADE_train_00016344.jpg gespeichert: results/lama/ADE_train_00016344.jpg\n",
      "Ergebnis für Bild ADE_train_00024688.jpg gespeichert: results/lama/ADE_train_00024688.jpg\n",
      "Ergebnis für Bild ADE_train_00001672.jpg gespeichert: results/lama/ADE_train_00001672.jpg\n",
      "Ergebnis für Bild ADE_train_00010768.jpg gespeichert: results/lama/ADE_train_00010768.jpg\n",
      "Ergebnis für Bild ADE_train_00007699.jpg gespeichert: results/lama/ADE_train_00007699.jpg\n",
      "Ergebnis für Bild ADE_train_00022725.jpg gespeichert: results/lama/ADE_train_00022725.jpg\n",
      "Ergebnis für Bild ADE_train_00008816.jpg gespeichert: results/lama/ADE_train_00008816.jpg\n",
      "Ergebnis für Bild ADE_train_00010765.jpg gespeichert: results/lama/ADE_train_00010765.jpg\n",
      "Ergebnis für Bild ADE_train_00023926.jpg gespeichert: results/lama/ADE_train_00023926.jpg\n",
      "Ergebnis für Bild ADE_train_00002062.jpg gespeichert: results/lama/ADE_train_00002062.jpg\n",
      "Ergebnis für Bild ADE_train_00016763.jpg gespeichert: results/lama/ADE_train_00016763.jpg\n",
      "Ergebnis für Bild ADE_train_00002148.jpg gespeichert: results/lama/ADE_train_00002148.jpg\n",
      "Ergebnis für Bild ADE_train_00001682.jpg gespeichert: results/lama/ADE_train_00001682.jpg\n",
      "Ergebnis für Bild ADE_train_00002168.jpg gespeichert: results/lama/ADE_train_00002168.jpg\n",
      "Ergebnis für Bild ADE_train_00007510.jpg gespeichert: results/lama/ADE_train_00007510.jpg\n",
      "Ergebnis für Bild ADE_train_00001715.jpg gespeichert: results/lama/ADE_train_00001715.jpg\n",
      "Ergebnis für Bild ADE_train_00001766.jpg gespeichert: results/lama/ADE_train_00001766.jpg\n",
      "Ergebnis für Bild ADE_train_00003092.jpg gespeichert: results/lama/ADE_train_00003092.jpg\n",
      "Ergebnis für Bild ADE_train_00007698.jpg gespeichert: results/lama/ADE_train_00007698.jpg\n",
      "Ergebnis für Bild ADE_train_00001646.jpg gespeichert: results/lama/ADE_train_00001646.jpg\n",
      "Ergebnis für Bild ADE_train_00011914.jpg gespeichert: results/lama/ADE_train_00011914.jpg\n",
      "Ergebnis für Bild ADE_train_00010978.jpg gespeichert: results/lama/ADE_train_00010978.jpg\n",
      "Ergebnis für Bild ADE_train_00019102.jpg gespeichert: results/lama/ADE_train_00019102.jpg\n",
      "Ergebnis für Bild ADE_train_00022713.jpg gespeichert: results/lama/ADE_train_00022713.jpg\n",
      "Ergebnis für Bild ADE_frame_00000043.jpg gespeichert: results/lama/ADE_frame_00000043.jpg\n",
      "Ergebnis für Bild ADE_train_00012253.jpg gespeichert: results/lama/ADE_train_00012253.jpg\n",
      "Ergebnis für Bild ADE_train_00001705.jpg gespeichert: results/lama/ADE_train_00001705.jpg\n",
      "Ergebnis für Bild ADE_train_00021741.jpg gespeichert: results/lama/ADE_train_00021741.jpg\n",
      "Ergebnis für Bild ADE_train_00019300.jpg gespeichert: results/lama/ADE_train_00019300.jpg\n",
      "Ergebnis für Bild ADE_frame_00000045.jpg gespeichert: results/lama/ADE_frame_00000045.jpg\n",
      "Ergebnis für Bild ADE_train_00005167.jpg gespeichert: results/lama/ADE_train_00005167.jpg\n",
      "Ergebnis für Bild ADE_train_00019201.jpg gespeichert: results/lama/ADE_train_00019201.jpg\n",
      "Ergebnis für Bild ADE_train_00025156.jpg gespeichert: results/lama/ADE_train_00025156.jpg\n",
      "Ergebnis für Bild ADE_train_00011670.jpg gespeichert: results/lama/ADE_train_00011670.jpg\n",
      "Ergebnis für Bild ADE_train_00019293.jpg gespeichert: results/lama/ADE_train_00019293.jpg\n",
      "Ergebnis für Bild ADE_train_00001675.jpg gespeichert: results/lama/ADE_train_00001675.jpg\n",
      "Ergebnis für Bild ADE_train_00011597.jpg gespeichert: results/lama/ADE_train_00011597.jpg\n",
      "Ergebnis für Bild ADE_train_00011588.jpg gespeichert: results/lama/ADE_train_00011588.jpg\n",
      "Ergebnis für Bild ADE_train_00002057.jpg gespeichert: results/lama/ADE_train_00002057.jpg\n",
      "Ergebnis für Bild ADE_train_00002376.jpg gespeichert: results/lama/ADE_train_00002376.jpg\n",
      "Ergebnis für Bild ADE_train_00025110.jpg gespeichert: results/lama/ADE_train_00025110.jpg\n",
      "Ergebnis für Bild ADE_train_00012188.jpg gespeichert: results/lama/ADE_train_00012188.jpg\n",
      "Ergebnis für Bild ADE_train_00002052.jpg gespeichert: results/lama/ADE_train_00002052.jpg\n",
      "Ergebnis für Bild ADE_train_00001903.jpg gespeichert: results/lama/ADE_train_00001903.jpg\n",
      "Ergebnis für Bild ADE_train_00001592.jpg gespeichert: results/lama/ADE_train_00001592.jpg\n",
      "Ergebnis für Bild ADE_train_00001666.jpg gespeichert: results/lama/ADE_train_00001666.jpg\n",
      "Ergebnis für Bild ADE_train_00016767.jpg gespeichert: results/lama/ADE_train_00016767.jpg\n",
      "Ergebnis für Bild ADE_train_00006612.jpg gespeichert: results/lama/ADE_train_00006612.jpg\n",
      "Ergebnis für Bild ADE_train_00025188.jpg gespeichert: results/lama/ADE_train_00025188.jpg\n",
      "Ergebnis für Bild ADE_train_00001995.jpg gespeichert: results/lama/ADE_train_00001995.jpg\n",
      "Ergebnis für Bild ADE_train_00002391.jpg gespeichert: results/lama/ADE_train_00002391.jpg\n",
      "Ergebnis für Bild ADE_train_00004254.jpg gespeichert: results/lama/ADE_train_00004254.jpg\n",
      "Ergebnis für Bild ADE_train_00022764.jpg gespeichert: results/lama/ADE_train_00022764.jpg\n",
      "Ergebnis für Bild ADE_train_00005329.jpg gespeichert: results/lama/ADE_train_00005329.jpg\n",
      "Ergebnis für Bild ADE_train_00022702.jpg gespeichert: results/lama/ADE_train_00022702.jpg\n",
      "Ergebnis für Bild ADE_train_00002055.jpg gespeichert: results/lama/ADE_train_00002055.jpg\n",
      "Ergebnis für Bild ADE_train_00019296.jpg gespeichert: results/lama/ADE_train_00019296.jpg\n",
      "Ergebnis für Bild ADE_train_00001696.jpg gespeichert: results/lama/ADE_train_00001696.jpg\n",
      "Ergebnis für Bild ADE_train_00020236.jpg gespeichert: results/lama/ADE_train_00020236.jpg\n",
      "Ergebnis für Bild ADE_train_00002149.jpg gespeichert: results/lama/ADE_train_00002149.jpg\n",
      "Ergebnis für Bild ADE_train_00000673.jpg gespeichert: results/lama/ADE_train_00000673.jpg\n",
      "Ergebnis für Bild ADE_train_00022241.jpg gespeichert: results/lama/ADE_train_00022241.jpg\n",
      "Ergebnis für Bild ADE_train_00002277.jpg gespeichert: results/lama/ADE_train_00002277.jpg\n",
      "Ergebnis für Bild ADE_train_00002350.jpg gespeichert: results/lama/ADE_train_00002350.jpg\n",
      "Ergebnis für Bild ADE_train_00002335.jpg gespeichert: results/lama/ADE_train_00002335.jpg\n",
      "Ergebnis für Bild ADE_frame_00000105.jpg gespeichert: results/lama/ADE_frame_00000105.jpg\n",
      "Ergebnis für Bild ADE_train_00023136.jpg gespeichert: results/lama/ADE_train_00023136.jpg\n",
      "Ergebnis für Bild ADE_train_00004253.jpg gespeichert: results/lama/ADE_train_00004253.jpg\n",
      "Ergebnis für Bild ADE_train_00019142.jpg gespeichert: results/lama/ADE_train_00019142.jpg\n",
      "Ergebnis für Bild ADE_train_00024074.jpg gespeichert: results/lama/ADE_train_00024074.jpg\n",
      "Ergebnis für Bild ADE_train_00004385.jpg gespeichert: results/lama/ADE_train_00004385.jpg\n",
      "Ergebnis für Bild ADE_frame_00000205.jpg gespeichert: results/lama/ADE_frame_00000205.jpg\n",
      "Ergebnis für Bild ADE_train_00023739.jpg gespeichert: results/lama/ADE_train_00023739.jpg\n",
      "Ergebnis für Bild ADE_train_00001494.jpg gespeichert: results/lama/ADE_train_00001494.jpg\n",
      "Ergebnis für Bild ADE_train_00001710.jpg gespeichert: results/lama/ADE_train_00001710.jpg\n",
      "Ergebnis für Bild ADE_train_00006619.jpg gespeichert: results/lama/ADE_train_00006619.jpg\n",
      "Ergebnis für Bild ADE_train_00001642.jpg gespeichert: results/lama/ADE_train_00001642.jpg\n",
      "Ergebnis für Bild ADE_train_00019292.jpg gespeichert: results/lama/ADE_train_00019292.jpg\n",
      "Ergebnis für Bild ADE_frame_00000264.jpg gespeichert: results/lama/ADE_frame_00000264.jpg\n",
      "Ergebnis für Bild ADE_train_00002268.jpg gespeichert: results/lama/ADE_train_00002268.jpg\n",
      "Ergebnis für Bild ADE_train_00019285.jpg gespeichert: results/lama/ADE_train_00019285.jpg\n",
      "Ergebnis für Bild ADE_train_00005338.jpg gespeichert: results/lama/ADE_train_00005338.jpg\n",
      "Ergebnis für Bild ADE_train_00020474.jpg gespeichert: results/lama/ADE_train_00020474.jpg\n",
      "Ergebnis für Bild ADE_train_00023925.jpg gespeichert: results/lama/ADE_train_00023925.jpg\n",
      "Ergebnis für Bild ADE_train_00022688.jpg gespeichert: results/lama/ADE_train_00022688.jpg\n",
      "Ergebnis für Bild ADE_train_00001591.jpg gespeichert: results/lama/ADE_train_00001591.jpg\n",
      "Ergebnis für Bild ADE_train_00001733.jpg gespeichert: results/lama/ADE_train_00001733.jpg\n",
      "Ergebnis für Bild ADE_train_00019101.jpg gespeichert: results/lama/ADE_train_00019101.jpg\n",
      "Ergebnis für Bild ADE_train_00008817.jpg gespeichert: results/lama/ADE_train_00008817.jpg\n",
      "Ergebnis für Bild ADE_train_00020085.jpg gespeichert: results/lama/ADE_train_00020085.jpg\n",
      "Ergebnis für Bild ADE_train_00003166.jpg gespeichert: results/lama/ADE_train_00003166.jpg\n",
      "Ergebnis für Bild ADE_train_00007504.jpg gespeichert: results/lama/ADE_train_00007504.jpg\n",
      "Ergebnis für Bild ADE_train_00005554.jpg gespeichert: results/lama/ADE_train_00005554.jpg\n",
      "Ergebnis für Bild ADE_train_00011665.jpg gespeichert: results/lama/ADE_train_00011665.jpg\n",
      "Ergebnis für Bild ADE_train_00022739.jpg gespeichert: results/lama/ADE_train_00022739.jpg\n",
      "Ergebnis für Bild ADE_train_00022648.jpg gespeichert: results/lama/ADE_train_00022648.jpg\n",
      "Ergebnis für Bild ADE_train_00001692.jpg gespeichert: results/lama/ADE_train_00001692.jpg\n",
      "Ergebnis für Bild ADE_train_00002147.jpg gespeichert: results/lama/ADE_train_00002147.jpg\n",
      "Ergebnis für Bild ADE_train_00010951.jpg gespeichert: results/lama/ADE_train_00010951.jpg\n",
      "Ergebnis für Bild ADE_train_00001752.jpg gespeichert: results/lama/ADE_train_00001752.jpg\n",
      "Ergebnis für Bild ADE_train_00001742.jpg gespeichert: results/lama/ADE_train_00001742.jpg\n",
      "Ergebnis für Bild ADE_train_00016343.jpg gespeichert: results/lama/ADE_train_00016343.jpg\n",
      "Ergebnis für Bild ADE_train_00022721.jpg gespeichert: results/lama/ADE_train_00022721.jpg\n",
      "Ergebnis für Bild ADE_train_00007692.jpg gespeichert: results/lama/ADE_train_00007692.jpg\n",
      "Ergebnis für Bild ADE_train_00001729.jpg gespeichert: results/lama/ADE_train_00001729.jpg\n",
      "Ergebnis für Bild ADE_train_00008299.jpg gespeichert: results/lama/ADE_train_00008299.jpg\n",
      "Ergebnis für Bild ADE_train_00010763.jpg gespeichert: results/lama/ADE_train_00010763.jpg\n",
      "Ergebnis für Bild ADE_train_00002142.jpg gespeichert: results/lama/ADE_train_00002142.jpg\n",
      "Ergebnis für Bild ADE_train_00019598.jpg gespeichert: results/lama/ADE_train_00019598.jpg\n",
      "Ergebnis für Bild ADE_train_00024254.jpg gespeichert: results/lama/ADE_train_00024254.jpg\n",
      "Ergebnis für Bild ADE_train_00001988.jpg gespeichert: results/lama/ADE_train_00001988.jpg\n",
      "Ergebnis für Bild ADE_train_00025023.jpg gespeichert: results/lama/ADE_train_00025023.jpg\n",
      "Ergebnis für Bild ADE_train_00002384.jpg gespeichert: results/lama/ADE_train_00002384.jpg\n",
      "Ergebnis für Bild ADE_train_00001948.jpg gespeichert: results/lama/ADE_train_00001948.jpg\n",
      "Ergebnis für Bild ADE_train_00019295.jpg gespeichert: results/lama/ADE_train_00019295.jpg\n",
      "Ergebnis für Bild ADE_train_00001684.jpg gespeichert: results/lama/ADE_train_00001684.jpg\n",
      "Ergebnis für Bild ADE_train_00011595.jpg gespeichert: results/lama/ADE_train_00011595.jpg\n",
      "Ergebnis für Bild ADE_train_00001764.jpg gespeichert: results/lama/ADE_train_00001764.jpg\n",
      "Ergebnis für Bild ADE_train_00019205.jpg gespeichert: results/lama/ADE_train_00019205.jpg\n",
      "Ergebnis für Bild ADE_train_00014180.jpg gespeichert: results/lama/ADE_train_00014180.jpg\n",
      "Ergebnis für Bild ADE_train_00001731.jpg gespeichert: results/lama/ADE_train_00001731.jpg\n",
      "Ergebnis für Bild ADE_train_00022772.jpg gespeichert: results/lama/ADE_train_00022772.jpg\n",
      "Ergebnis für Bild ADE_train_00001335.jpg gespeichert: results/lama/ADE_train_00001335.jpg\n",
      "Ergebnis für Bild ADE_train_00001662.jpg gespeichert: results/lama/ADE_train_00001662.jpg\n",
      "Ergebnis für Bild ADE_train_00001671.jpg gespeichert: results/lama/ADE_train_00001671.jpg\n",
      "Ergebnis für Bild ADE_train_00025081.jpg gespeichert: results/lama/ADE_train_00025081.jpg\n",
      "Ergebnis für Bild ADE_train_00001894.jpg gespeichert: results/lama/ADE_train_00001894.jpg\n",
      "Ergebnis für Bild ADE_train_00009997.jpg gespeichert: results/lama/ADE_train_00009997.jpg\n",
      "Ergebnis für Bild ADE_train_00001564.jpg gespeichert: results/lama/ADE_train_00001564.jpg\n",
      "Ergebnis für Bild ADE_train_00015455.jpg gespeichert: results/lama/ADE_train_00015455.jpg\n",
      "Ergebnis für Bild ADE_train_00005556.jpg gespeichert: results/lama/ADE_train_00005556.jpg\n",
      "Ergebnis für Bild ADE_train_00015775.jpg gespeichert: results/lama/ADE_train_00015775.jpg\n",
      "Ergebnis für Bild ADE_train_00020204.jpg gespeichert: results/lama/ADE_train_00020204.jpg\n",
      "Ergebnis für Bild ADE_train_00002370.jpg gespeichert: results/lama/ADE_train_00002370.jpg\n",
      "Ergebnis für Bild ADE_train_00001737.jpg gespeichert: results/lama/ADE_train_00001737.jpg\n",
      "Ergebnis für Bild ADE_train_00001899.jpg gespeichert: results/lama/ADE_train_00001899.jpg\n",
      "Ergebnis für Bild ADE_train_00002334.jpg gespeichert: results/lama/ADE_train_00002334.jpg\n",
      "Ergebnis für Bild ADE_train_00005331.jpg gespeichert: results/lama/ADE_train_00005331.jpg\n",
      "Ergebnis für Bild ADE_train_00004383.jpg gespeichert: results/lama/ADE_train_00004383.jpg\n",
      "Ergebnis für Bild ADE_train_00000666.jpg gespeichert: results/lama/ADE_train_00000666.jpg\n",
      "Ergebnis für Bild ADE_train_00019097.jpg gespeichert: results/lama/ADE_train_00019097.jpg\n",
      "Ergebnis für Bild ADE_train_00025187.jpg gespeichert: results/lama/ADE_train_00025187.jpg\n",
      "Ergebnis für Bild ADE_train_00024553.jpg gespeichert: results/lama/ADE_train_00024553.jpg\n",
      "Ergebnis für Bild ADE_train_00011590.jpg gespeichert: results/lama/ADE_train_00011590.jpg\n",
      "Ergebnis für Bild ADE_train_00001796.jpg gespeichert: results/lama/ADE_train_00001796.jpg\n",
      "Ergebnis für Bild ADE_train_00001799.jpg gespeichert: results/lama/ADE_train_00001799.jpg\n",
      "Ergebnis für Bild ADE_train_00006614.jpg gespeichert: results/lama/ADE_train_00006614.jpg\n",
      "Ergebnis für Bild ADE_train_00002144.jpg gespeichert: results/lama/ADE_train_00002144.jpg\n",
      "Ergebnis für Bild ADE_train_00002292.jpg gespeichert: results/lama/ADE_train_00002292.jpg\n",
      "Ergebnis für Bild ADE_train_00012230.jpg gespeichert: results/lama/ADE_train_00012230.jpg\n",
      "Ergebnis für Bild ADE_train_00001664.jpg gespeichert: results/lama/ADE_train_00001664.jpg\n",
      "Ergebnis für Bild ADE_train_00001607.jpg gespeichert: results/lama/ADE_train_00001607.jpg\n",
      "Ergebnis für Bild ADE_train_00002294.jpg gespeichert: results/lama/ADE_train_00002294.jpg\n",
      "Ergebnis für Bild ADE_train_00002061.jpg gespeichert: results/lama/ADE_train_00002061.jpg\n",
      "Ergebnis für Bild ADE_train_00008802.jpg gespeichert: results/lama/ADE_train_00008802.jpg\n",
      "Ergebnis für Bild ADE_train_00012221.jpg gespeichert: results/lama/ADE_train_00012221.jpg\n",
      "Ergebnis für Bild ADE_train_00009806.jpg gespeichert: results/lama/ADE_train_00009806.jpg\n",
      "Ergebnis für Bild ADE_train_00003170.jpg gespeichert: results/lama/ADE_train_00003170.jpg\n",
      "Ergebnis für Bild ADE_train_00001683.jpg gespeichert: results/lama/ADE_train_00001683.jpg\n",
      "Ergebnis für Bild ADE_train_00015460.jpg gespeichert: results/lama/ADE_train_00015460.jpg\n",
      "Ergebnis für Bild ADE_frame_00000052.jpg gespeichert: results/lama/ADE_frame_00000052.jpg\n",
      "Ergebnis für Bild ADE_frame_00000269.jpg gespeichert: results/lama/ADE_frame_00000269.jpg\n",
      "Ergebnis für Bild ADE_train_00001678.jpg gespeichert: results/lama/ADE_train_00001678.jpg\n",
      "Ergebnis für Bild ADE_train_00024480.jpg gespeichert: results/lama/ADE_train_00024480.jpg\n",
      "Ergebnis für Bild ADE_train_00002406.jpg gespeichert: results/lama/ADE_train_00002406.jpg\n",
      "Ergebnis für Bild ADE_train_00023673.jpg gespeichert: results/lama/ADE_train_00023673.jpg\n",
      "Ergebnis für Bild ADE_train_00001730.jpg gespeichert: results/lama/ADE_train_00001730.jpg\n",
      "Ergebnis für Bild ADE_train_00012288.jpg gespeichert: results/lama/ADE_train_00012288.jpg\n",
      "Ergebnis für Bild ADE_train_00022773.jpg gespeichert: results/lama/ADE_train_00022773.jpg\n",
      "Ergebnis für Bild ADE_train_00001634.jpg gespeichert: results/lama/ADE_train_00001634.jpg\n",
      "Ergebnis für Bild ADE_train_00019501.jpg gespeichert: results/lama/ADE_train_00019501.jpg\n",
      "Ergebnis für Bild ADE_train_00001712.jpg gespeichert: results/lama/ADE_train_00001712.jpg\n",
      "Ergebnis für Bild ADE_train_00004247.jpg gespeichert: results/lama/ADE_train_00004247.jpg\n",
      "Ergebnis für Bild ADE_train_00022679.jpg gespeichert: results/lama/ADE_train_00022679.jpg\n",
      "Ergebnis für Bild ADE_train_00003176.jpg gespeichert: results/lama/ADE_train_00003176.jpg\n",
      "Ergebnis für Bild ADE_train_00008804.jpg gespeichert: results/lama/ADE_train_00008804.jpg\n",
      "Ergebnis für Bild ADE_train_00002349.jpg gespeichert: results/lama/ADE_train_00002349.jpg\n",
      "Ergebnis für Bild ADE_train_00019178.jpg gespeichert: results/lama/ADE_train_00019178.jpg\n",
      "Ergebnis für Bild ADE_train_00001700.jpg gespeichert: results/lama/ADE_train_00001700.jpg\n",
      "Ergebnis für Bild ADE_train_00001650.jpg gespeichert: results/lama/ADE_train_00001650.jpg\n",
      "Ergebnis für Bild ADE_train_00001745.jpg gespeichert: results/lama/ADE_train_00001745.jpg\n",
      "Ergebnis für Bild ADE_train_00022691.jpg gespeichert: results/lama/ADE_train_00022691.jpg\n",
      "Ergebnis für Bild ADE_train_00001722.jpg gespeichert: results/lama/ADE_train_00001722.jpg\n",
      "Ergebnis für Bild ADE_train_00015461.jpg gespeichert: results/lama/ADE_train_00015461.jpg\n",
      "Ergebnis für Bild ADE_train_00022676.jpg gespeichert: results/lama/ADE_train_00022676.jpg\n",
      "Ergebnis für Bild ADE_train_00000661.jpg gespeichert: results/lama/ADE_train_00000661.jpg\n",
      "Ergebnis für Bild ADE_train_00004953.jpg gespeichert: results/lama/ADE_train_00004953.jpg\n",
      "Ergebnis für Bild ADE_train_00002179.jpg gespeichert: results/lama/ADE_train_00002179.jpg\n",
      "Ergebnis für Bild ADE_train_00001707.jpg gespeichert: results/lama/ADE_train_00001707.jpg\n",
      "Ergebnis für Bild ADE_train_00020588.jpg gespeichert: results/lama/ADE_train_00020588.jpg\n",
      "Ergebnis für Bild ADE_train_00001685.jpg gespeichert: results/lama/ADE_train_00001685.jpg\n",
      "Ergebnis für Bild ADE_train_00024078.jpg gespeichert: results/lama/ADE_train_00024078.jpg\n",
      "Ergebnis für Bild ADE_train_00001740.jpg gespeichert: results/lama/ADE_train_00001740.jpg\n",
      "Ergebnis für Bild ADE_train_00001772.jpg gespeichert: results/lama/ADE_train_00001772.jpg\n",
      "Ergebnis für Bild ADE_train_00004949.jpg gespeichert: results/lama/ADE_train_00004949.jpg\n",
      "Ergebnis für Bild ADE_train_00002385.jpg gespeichert: results/lama/ADE_train_00002385.jpg\n",
      "Ergebnis für Bild ADE_train_00002369.jpg gespeichert: results/lama/ADE_train_00002369.jpg\n",
      "Ergebnis für Bild ADE_train_00005396.jpg gespeichert: results/lama/ADE_train_00005396.jpg\n",
      "Ergebnis für Bild ADE_train_00009320.jpg gespeichert: results/lama/ADE_train_00009320.jpg\n",
      "Ergebnis für Bild ADE_train_00002275.jpg gespeichert: results/lama/ADE_train_00002275.jpg\n",
      "Ergebnis für Bild ADE_train_00002290.jpg gespeichert: results/lama/ADE_train_00002290.jpg\n",
      "Ergebnis für Bild ADE_train_00002050.jpg gespeichert: results/lama/ADE_train_00002050.jpg\n",
      "Ergebnis für Bild ADE_train_00002418.jpg gespeichert: results/lama/ADE_train_00002418.jpg\n",
      "Ergebnis für Bild ADE_train_00022745.jpg gespeichert: results/lama/ADE_train_00022745.jpg\n",
      "Ergebnis für Bild ADE_train_00002049.jpg gespeichert: results/lama/ADE_train_00002049.jpg\n",
      "Ergebnis für Bild ADE_train_00002276.jpg gespeichert: results/lama/ADE_train_00002276.jpg\n",
      "Ergebnis für Bild ADE_train_00009810.jpg gespeichert: results/lama/ADE_train_00009810.jpg\n",
      "Ergebnis für Bild ADE_train_00022693.jpg gespeichert: results/lama/ADE_train_00022693.jpg\n",
      "Ergebnis für Bild ADE_train_00004283.jpg gespeichert: results/lama/ADE_train_00004283.jpg\n",
      "Ergebnis für Bild ADE_train_00005417.jpg gespeichert: results/lama/ADE_train_00005417.jpg\n",
      "Ergebnis für Bild ADE_train_00001803.jpg gespeichert: results/lama/ADE_train_00001803.jpg\n",
      "Ergebnis für Bild ADE_train_00022736.jpg gespeichert: results/lama/ADE_train_00022736.jpg\n",
      "Ergebnis für Bild ADE_train_00005539.jpg gespeichert: results/lama/ADE_train_00005539.jpg\n",
      "Ergebnis für Bild ADE_train_00015462.jpg gespeichert: results/lama/ADE_train_00015462.jpg\n",
      "Ergebnis für Bild ADE_train_00019297.jpg gespeichert: results/lama/ADE_train_00019297.jpg\n",
      "Ergebnis für Bild ADE_train_00021164.jpg gespeichert: results/lama/ADE_train_00021164.jpg\n",
      "Ergebnis für Bild ADE_train_00024825.jpg gespeichert: results/lama/ADE_train_00024825.jpg\n",
      "Ergebnis für Bild ADE_train_00002382.jpg gespeichert: results/lama/ADE_train_00002382.jpg\n",
      "Ergebnis für Bild ADE_train_00000658.jpg gespeichert: results/lama/ADE_train_00000658.jpg\n",
      "Ergebnis für Bild ADE_train_00019513.jpg gespeichert: results/lama/ADE_train_00019513.jpg\n",
      "Ergebnis für Bild ADE_train_00019280.jpg gespeichert: results/lama/ADE_train_00019280.jpg\n",
      "Ergebnis für Bild ADE_train_00009686.jpg gespeichert: results/lama/ADE_train_00009686.jpg\n",
      "Ergebnis für Bild ADE_train_00022704.jpg gespeichert: results/lama/ADE_train_00022704.jpg\n",
      "Ergebnis für Bild ADE_train_00012240.jpg gespeichert: results/lama/ADE_train_00012240.jpg\n",
      "Ergebnis für Bild ADE_train_00016348.jpg gespeichert: results/lama/ADE_train_00016348.jpg\n",
      "Ergebnis für Bild ADE_train_00003186.jpg gespeichert: results/lama/ADE_train_00003186.jpg\n",
      "Ergebnis für Bild ADE_train_00022737.jpg gespeichert: results/lama/ADE_train_00022737.jpg\n",
      "Ergebnis für Bild ADE_train_00005289.jpg gespeichert: results/lama/ADE_train_00005289.jpg\n",
      "Ergebnis für Bild ADE_train_00009335.jpg gespeichert: results/lama/ADE_train_00009335.jpg\n",
      "Ergebnis für Bild ADE_train_00001989.jpg gespeichert: results/lama/ADE_train_00001989.jpg\n",
      "Ergebnis für Bild ADE_train_00019299.jpg gespeichert: results/lama/ADE_train_00019299.jpg\n",
      "Ergebnis für Bild ADE_train_00011593.jpg gespeichert: results/lama/ADE_train_00011593.jpg\n",
      "Ergebnis für Bild ADE_train_00022734.jpg gespeichert: results/lama/ADE_train_00022734.jpg\n",
      "Ergebnis für Bild ADE_train_00012186.jpg gespeichert: results/lama/ADE_train_00012186.jpg\n",
      "Ergebnis für Bild ADE_train_00003164.jpg gespeichert: results/lama/ADE_train_00003164.jpg\n",
      "Ergebnis für Bild ADE_frame_00000266.jpg gespeichert: results/lama/ADE_frame_00000266.jpg\n",
      "Ergebnis für Bild ADE_train_00002145.jpg gespeichert: results/lama/ADE_train_00002145.jpg\n",
      "Ergebnis für Bild ADE_train_00001888.jpg gespeichert: results/lama/ADE_train_00001888.jpg\n",
      "Ergebnis für Bild ADE_train_00001887.jpg gespeichert: results/lama/ADE_train_00001887.jpg\n",
      "Ergebnis für Bild ADE_train_00024555.jpg gespeichert: results/lama/ADE_train_00024555.jpg\n",
      "Ergebnis für Bild ADE_train_00002178.jpg gespeichert: results/lama/ADE_train_00002178.jpg\n",
      "Ergebnis für Bild ADE_train_00012217.jpg gespeichert: results/lama/ADE_train_00012217.jpg\n",
      "Ergebnis für Bild ADE_train_00016148.jpg gespeichert: results/lama/ADE_train_00016148.jpg\n",
      "Ergebnis für Bild ADE_train_00012224.jpg gespeichert: results/lama/ADE_train_00012224.jpg\n",
      "Ergebnis für Bild ADE_train_00022986.jpg gespeichert: results/lama/ADE_train_00022986.jpg\n",
      "Ergebnis für Bild ADE_train_00003066.jpg gespeichert: results/lama/ADE_train_00003066.jpg\n",
      "Ergebnis für Bild ADE_train_00001693.jpg gespeichert: results/lama/ADE_train_00001693.jpg\n",
      "Ergebnis für Bild ADE_train_00012226.jpg gespeichert: results/lama/ADE_train_00012226.jpg\n",
      "Ergebnis für Bild ADE_train_00002288.jpg gespeichert: results/lama/ADE_train_00002288.jpg\n",
      "Ergebnis für Bild ADE_train_00005324.jpg gespeichert: results/lama/ADE_train_00005324.jpg\n",
      "Ergebnis für Bild ADE_train_00025119.jpg gespeichert: results/lama/ADE_train_00025119.jpg\n",
      "Ergebnis für Bild ADE_frame_00000066.jpg gespeichert: results/lama/ADE_frame_00000066.jpg\n",
      "Ergebnis für Bild ADE_train_00022763.jpg gespeichert: results/lama/ADE_train_00022763.jpg\n",
      "Ergebnis für Bild ADE_train_00019287.jpg gespeichert: results/lama/ADE_train_00019287.jpg\n",
      "Ergebnis für Bild ADE_train_00001493.jpg gespeichert: results/lama/ADE_train_00001493.jpg\n",
      "Ergebnis für Bild ADE_train_00023731.jpg gespeichert: results/lama/ADE_train_00023731.jpg\n",
      "Ergebnis für Bild ADE_train_00024361.jpg gespeichert: results/lama/ADE_train_00024361.jpg\n",
      "Ergebnis für Bild ADE_train_00004840.jpg gespeichert: results/lama/ADE_train_00004840.jpg\n",
      "Ergebnis für Bild ADE_train_00001652.jpg gespeichert: results/lama/ADE_train_00001652.jpg\n",
      "Ergebnis für Bild ADE_train_00016341.jpg gespeichert: results/lama/ADE_train_00016341.jpg\n",
      "Ergebnis für Bild ADE_train_00022677.jpg gespeichert: results/lama/ADE_train_00022677.jpg\n",
      "Ergebnis für Bild ADE_train_00001724.jpg gespeichert: results/lama/ADE_train_00001724.jpg\n",
      "Ergebnis für Bild ADE_train_00019284.jpg gespeichert: results/lama/ADE_train_00019284.jpg\n",
      "Ergebnis für Bild ADE_train_00003060.jpg gespeichert: results/lama/ADE_train_00003060.jpg\n",
      "Ergebnis für Bild ADE_train_00002373.jpg gespeichert: results/lama/ADE_train_00002373.jpg\n",
      "Ergebnis für Bild ADE_train_00007694.jpg gespeichert: results/lama/ADE_train_00007694.jpg\n",
      "Ergebnis für Bild ADE_train_00007701.jpg gespeichert: results/lama/ADE_train_00007701.jpg\n",
      "Ergebnis für Bild ADE_frame_00000042.jpg gespeichert: results/lama/ADE_frame_00000042.jpg\n",
      "Ergebnis für Bild ADE_train_00024076.jpg gespeichert: results/lama/ADE_train_00024076.jpg\n",
      "Ergebnis für Bild ADE_frame_00000263.jpg gespeichert: results/lama/ADE_frame_00000263.jpg\n",
      "Ergebnis für Bild ADE_train_00012250.jpg gespeichert: results/lama/ADE_train_00012250.jpg\n",
      "Ergebnis für Bild ADE_train_00001492.jpg gespeichert: results/lama/ADE_train_00001492.jpg\n",
      "Ergebnis für Bild ADE_frame_00000299.jpg gespeichert: results/lama/ADE_frame_00000299.jpg\n",
      "Ergebnis für Bild ADE_train_00002347.jpg gespeichert: results/lama/ADE_train_00002347.jpg\n",
      "Ergebnis für Bild ADE_train_00001798.jpg gespeichert: results/lama/ADE_train_00001798.jpg\n",
      "Ergebnis für Bild ADE_train_00005600.jpg gespeichert: results/lama/ADE_train_00005600.jpg\n",
      "Ergebnis für Bild ADE_train_00019018.jpg gespeichert: results/lama/ADE_train_00019018.jpg\n",
      "Ergebnis für Bild ADE_train_00001681.jpg gespeichert: results/lama/ADE_train_00001681.jpg\n",
      "Ergebnis für Bild ADE_train_00001645.jpg gespeichert: results/lama/ADE_train_00001645.jpg\n",
      "Ergebnis für Bild ADE_train_00001807.jpg gespeichert: results/lama/ADE_train_00001807.jpg\n",
      "Ergebnis für Bild ADE_train_00001739.jpg gespeichert: results/lama/ADE_train_00001739.jpg\n",
      "Ergebnis für Bild ADE_train_00001665.jpg gespeichert: results/lama/ADE_train_00001665.jpg\n",
      "Ergebnis für Bild ADE_train_00002060.jpg gespeichert: results/lama/ADE_train_00002060.jpg\n",
      "Ergebnis für Bild ADE_train_00022649.jpg gespeichert: results/lama/ADE_train_00022649.jpg\n",
      "Ergebnis für Bild ADE_train_00001503.jpg gespeichert: results/lama/ADE_train_00001503.jpg\n",
      "Ergebnis für Bild ADE_train_00001408.jpg gespeichert: results/lama/ADE_train_00001408.jpg\n",
      "Ergebnis für Bild ADE_frame_00000154.jpg gespeichert: results/lama/ADE_frame_00000154.jpg\n",
      "Ergebnis für Bild ADE_train_00003062.jpg gespeichert: results/lama/ADE_train_00003062.jpg\n",
      "Ergebnis für Bild ADE_frame_00000265.jpg gespeichert: results/lama/ADE_frame_00000265.jpg\n",
      "Ergebnis für Bild ADE_train_00022767.jpg gespeichert: results/lama/ADE_train_00022767.jpg\n",
      "Ergebnis für Bild ADE_train_00004954.jpg gespeichert: results/lama/ADE_train_00004954.jpg\n",
      "Ergebnis für Bild ADE_train_00002371.jpg gespeichert: results/lama/ADE_train_00002371.jpg\n",
      "Ergebnis für Bild ADE_train_00023732.jpg gespeichert: results/lama/ADE_train_00023732.jpg\n",
      "Ergebnis für Bild ADE_train_00012229.jpg gespeichert: results/lama/ADE_train_00012229.jpg\n",
      "Ergebnis für Bild ADE_train_00002273.jpg gespeichert: results/lama/ADE_train_00002273.jpg\n",
      "Ergebnis für Bild ADE_train_00001812.jpg gespeichert: results/lama/ADE_train_00001812.jpg\n",
      "Ergebnis für Bild ADE_train_00005281.jpg gespeichert: results/lama/ADE_train_00005281.jpg\n",
      "Ergebnis für Bild ADE_train_00013807.jpg gespeichert: results/lama/ADE_train_00013807.jpg\n",
      "Ergebnis für Bild ADE_train_00013809.jpg gespeichert: results/lama/ADE_train_00013809.jpg\n",
      "Ergebnis für Bild ADE_train_00001643.jpg gespeichert: results/lama/ADE_train_00001643.jpg\n",
      "Ergebnis für Bild ADE_train_00001738.jpg gespeichert: results/lama/ADE_train_00001738.jpg\n",
      "Ergebnis für Bild ADE_train_00021746.jpg gespeichert: results/lama/ADE_train_00021746.jpg\n",
      "Ergebnis für Bild ADE_train_00001808.jpg gespeichert: results/lama/ADE_train_00001808.jpg\n",
      "Ergebnis für Bild ADE_train_00024479.jpg gespeichert: results/lama/ADE_train_00024479.jpg\n",
      "Ergebnis für Bild ADE_train_00004249.jpg gespeichert: results/lama/ADE_train_00004249.jpg\n",
      "Ergebnis für Bild ADE_train_00001780.jpg gespeichert: results/lama/ADE_train_00001780.jpg\n",
      "Ergebnis für Bild ADE_train_00001984.jpg gespeichert: results/lama/ADE_train_00001984.jpg\n",
      "Ergebnis für Bild ADE_train_00006408.jpg gespeichert: results/lama/ADE_train_00006408.jpg\n",
      "Ergebnis für Bild ADE_train_00019510.jpg gespeichert: results/lama/ADE_train_00019510.jpg\n",
      "Ergebnis für Bild ADE_train_00002280.jpg gespeichert: results/lama/ADE_train_00002280.jpg\n",
      "Ergebnis für Bild ADE_train_00001648.jpg gespeichert: results/lama/ADE_train_00001648.jpg\n",
      "Ergebnis für Bild ADE_train_00005330.jpg gespeichert: results/lama/ADE_train_00005330.jpg\n",
      "Ergebnis für Bild ADE_train_00021168.jpg gespeichert: results/lama/ADE_train_00021168.jpg\n",
      "Ergebnis für Bild ADE_train_00000659.jpg gespeichert: results/lama/ADE_train_00000659.jpg\n",
      "Ergebnis für Bild ADE_train_00002046.jpg gespeichert: results/lama/ADE_train_00002046.jpg\n",
      "Ergebnis für Bild ADE_train_00012244.jpg gespeichert: results/lama/ADE_train_00012244.jpg\n",
      "Ergebnis für Bild ADE_train_00002336.jpg gespeichert: results/lama/ADE_train_00002336.jpg\n",
      "Ergebnis für Bild ADE_train_00002047.jpg gespeichert: results/lama/ADE_train_00002047.jpg\n",
      "Ergebnis für Bild ADE_train_00001783.jpg gespeichert: results/lama/ADE_train_00001783.jpg\n",
      "Ergebnis für Bild ADE_train_00024478.jpg gespeichert: results/lama/ADE_train_00024478.jpg\n",
      "Ergebnis für Bild ADE_train_00023734.jpg gespeichert: results/lama/ADE_train_00023734.jpg\n",
      "Ergebnis für Bild ADE_train_00010977.jpg gespeichert: results/lama/ADE_train_00010977.jpg\n",
      "Ergebnis für Bild ADE_train_00012239.jpg gespeichert: results/lama/ADE_train_00012239.jpg\n",
      "Ergebnis für Bild ADE_train_00020444.jpg gespeichert: results/lama/ADE_train_00020444.jpg\n",
      "Ergebnis für Bild ADE_train_00004386.jpg gespeichert: results/lama/ADE_train_00004386.jpg\n",
      "Ergebnis für Bild ADE_train_00000657.jpg gespeichert: results/lama/ADE_train_00000657.jpg\n",
      "Ergebnis für Bild ADE_train_00001491.jpg gespeichert: results/lama/ADE_train_00001491.jpg\n",
      "Ergebnis für Bild ADE_train_00016054.jpg gespeichert: results/lama/ADE_train_00016054.jpg\n",
      "Ergebnis für Bild ADE_train_00002427.jpg gespeichert: results/lama/ADE_train_00002427.jpg\n",
      "Ergebnis für Bild ADE_train_00001654.jpg gespeichert: results/lama/ADE_train_00001654.jpg\n",
      "Ergebnis für Bild ADE_train_00011669.jpg gespeichert: results/lama/ADE_train_00011669.jpg\n",
      "Ergebnis für Bild ADE_train_00020278.jpg gespeichert: results/lama/ADE_train_00020278.jpg\n",
      "Ergebnis für Bild ADE_train_00025155.jpg gespeichert: results/lama/ADE_train_00025155.jpg\n",
      "Ergebnis für Bild ADE_train_00007696.jpg gespeichert: results/lama/ADE_train_00007696.jpg\n",
      "Ergebnis für Bild ADE_train_00001686.jpg gespeichert: results/lama/ADE_train_00001686.jpg\n",
      "Ergebnis für Bild ADE_frame_00000026.jpg gespeichert: results/lama/ADE_frame_00000026.jpg\n",
      "Ergebnis für Bild ADE_train_00023924.jpg gespeichert: results/lama/ADE_train_00023924.jpg\n",
      "Ergebnis für Bild ADE_train_00014336.jpg gespeichert: results/lama/ADE_train_00014336.jpg\n",
      "Ergebnis für Bild ADE_train_00016349.jpg gespeichert: results/lama/ADE_train_00016349.jpg\n",
      "Ergebnis für Bild ADE_train_00002181.jpg gespeichert: results/lama/ADE_train_00002181.jpg\n",
      "Ergebnis für Bild ADE_train_00001769.jpg gespeichert: results/lama/ADE_train_00001769.jpg\n",
      "Ergebnis für Bild ADE_frame_00000166.jpg gespeichert: results/lama/ADE_frame_00000166.jpg\n",
      "Ergebnis für Bild ADE_train_00001644.jpg gespeichert: results/lama/ADE_train_00001644.jpg\n",
      "Ergebnis für Bild ADE_train_00003191.jpg gespeichert: results/lama/ADE_train_00003191.jpg\n",
      "Ergebnis für Bild ADE_train_00001501.jpg gespeichert: results/lama/ADE_train_00001501.jpg\n",
      "Ergebnis für Bild ADE_train_00002186.jpg gespeichert: results/lama/ADE_train_00002186.jpg\n",
      "Ergebnis für Bild ADE_train_00002429.jpg gespeichert: results/lama/ADE_train_00002429.jpg\n",
      "Ergebnis für Bild ADE_train_00001551.jpg gespeichert: results/lama/ADE_train_00001551.jpg\n",
      "Ergebnis für Bild ADE_train_00022742.jpg gespeichert: results/lama/ADE_train_00022742.jpg\n",
      "Ergebnis für Bild ADE_train_00001749.jpg gespeichert: results/lama/ADE_train_00001749.jpg\n",
      "Ergebnis für Bild ADE_train_00012275.jpg gespeichert: results/lama/ADE_train_00012275.jpg\n",
      "Ergebnis für Bild ADE_train_00002421.jpg gespeichert: results/lama/ADE_train_00002421.jpg\n",
      "Ergebnis für Bild ADE_frame_00000029.jpg gespeichert: results/lama/ADE_frame_00000029.jpg\n",
      "Ergebnis für Bild ADE_train_00001690.jpg gespeichert: results/lama/ADE_train_00001690.jpg\n",
      "Ergebnis für Bild ADE_train_00011863.jpg gespeichert: results/lama/ADE_train_00011863.jpg\n",
      "Ergebnis für Bild ADE_train_00003174.jpg gespeichert: results/lama/ADE_train_00003174.jpg\n",
      "Ergebnis für Bild ADE_train_00019105.jpg gespeichert: results/lama/ADE_train_00019105.jpg\n",
      "Ergebnis für Bild ADE_train_00001674.jpg gespeichert: results/lama/ADE_train_00001674.jpg\n",
      "Ergebnis für Bild ADE_train_00001900.jpg gespeichert: results/lama/ADE_train_00001900.jpg\n",
      "Ergebnis für Bild ADE_train_00001677.jpg gespeichert: results/lama/ADE_train_00001677.jpg\n",
      "Ergebnis für Bild ADE_train_00001636.jpg gespeichert: results/lama/ADE_train_00001636.jpg\n",
      "Ergebnis für Bild ADE_train_00022733.jpg gespeichert: results/lama/ADE_train_00022733.jpg\n",
      "Ergebnis für Bild ADE_train_00001669.jpg gespeichert: results/lama/ADE_train_00001669.jpg\n",
      "Ergebnis für Bild ADE_train_00024827.jpg gespeichert: results/lama/ADE_train_00024827.jpg\n",
      "Ergebnis für Bild ADE_train_00002424.jpg gespeichert: results/lama/ADE_train_00002424.jpg\n",
      "Ergebnis für Bild ADE_train_00019601.jpg gespeichert: results/lama/ADE_train_00019601.jpg\n",
      "Ergebnis für Bild ADE_train_00010925.jpg gespeichert: results/lama/ADE_train_00010925.jpg\n",
      "Ergebnis für Bild ADE_train_00001782.jpg gespeichert: results/lama/ADE_train_00001782.jpg\n",
      "Ergebnis für Bild ADE_train_00001708.jpg gespeichert: results/lama/ADE_train_00001708.jpg\n",
      "Ergebnis für Bild ADE_train_00001656.jpg gespeichert: results/lama/ADE_train_00001656.jpg\n",
      "Ergebnis für Bild ADE_train_00001639.jpg gespeichert: results/lama/ADE_train_00001639.jpg\n",
      "Ergebnis für Bild ADE_train_00011599.jpg gespeichert: results/lama/ADE_train_00011599.jpg\n",
      "Ergebnis für Bild ADE_train_00002420.jpg gespeichert: results/lama/ADE_train_00002420.jpg\n",
      "Ergebnis für Bild ADE_train_00001725.jpg gespeichert: results/lama/ADE_train_00001725.jpg\n",
      "Ergebnis für Bild ADE_train_00001658.jpg gespeichert: results/lama/ADE_train_00001658.jpg\n",
      "Ergebnis für Bild ADE_train_00001801.jpg gespeichert: results/lama/ADE_train_00001801.jpg\n",
      "Ergebnis für Bild ADE_frame_00000016.jpg gespeichert: results/lama/ADE_frame_00000016.jpg\n",
      "Ergebnis für Bild ADE_train_00021743.jpg gespeichert: results/lama/ADE_train_00021743.jpg\n",
      "Ergebnis für Bild ADE_frame_00000051.jpg gespeichert: results/lama/ADE_frame_00000051.jpg\n",
      "Ergebnis für Bild ADE_train_00021492.jpg gespeichert: results/lama/ADE_train_00021492.jpg\n",
      "Ergebnis für Bild ADE_train_00022710.jpg gespeichert: results/lama/ADE_train_00022710.jpg\n",
      "Ergebnis für Bild ADE_train_00001890.jpg gespeichert: results/lama/ADE_train_00001890.jpg\n",
      "Ergebnis für Bild ADE_train_00015458.jpg gespeichert: results/lama/ADE_train_00015458.jpg\n",
      "Ergebnis für Bild ADE_train_00016350.jpg gespeichert: results/lama/ADE_train_00016350.jpg\n",
      "Ergebnis für Bild ADE_train_00006409.jpg gespeichert: results/lama/ADE_train_00006409.jpg\n",
      "Ergebnis für Bild ADE_train_00002285.jpg gespeichert: results/lama/ADE_train_00002285.jpg\n",
      "Ergebnis für Bild ADE_train_00002053.jpg gespeichert: results/lama/ADE_train_00002053.jpg\n",
      "Ergebnis für Bild ADE_train_00007691.jpg gespeichert: results/lama/ADE_train_00007691.jpg\n",
      "Ergebnis für Bild ADE_train_00012184.jpg gespeichert: results/lama/ADE_train_00012184.jpg\n",
      "Ergebnis für Bild ADE_train_00007688.jpg gespeichert: results/lama/ADE_train_00007688.jpg\n",
      "Ergebnis für Bild ADE_train_00000660.jpg gespeichert: results/lama/ADE_train_00000660.jpg\n",
      "Ergebnis für Bild ADE_train_00001334.jpg gespeichert: results/lama/ADE_train_00001334.jpg\n",
      "Ergebnis für Bild ADE_train_00015463.jpg gespeichert: results/lama/ADE_train_00015463.jpg\n",
      "Ergebnis für Bild ADE_train_00010767.jpg gespeichert: results/lama/ADE_train_00010767.jpg\n",
      "Ergebnis für Bild ADE_train_00008818.jpg gespeichert: results/lama/ADE_train_00008818.jpg\n",
      "Ergebnis für Bild ADE_train_00001971.jpg gespeichert: results/lama/ADE_train_00001971.jpg\n",
      "Ergebnis für Bild ADE_train_00001906.jpg gespeichert: results/lama/ADE_train_00001906.jpg\n",
      "Ergebnis für Bild ADE_train_00016151.jpg gespeichert: results/lama/ADE_train_00016151.jpg\n",
      "Ergebnis für Bild ADE_train_00002340.jpg gespeichert: results/lama/ADE_train_00002340.jpg\n",
      "Ergebnis für Bild ADE_frame_00000107.jpg gespeichert: results/lama/ADE_frame_00000107.jpg\n",
      "Ergebnis für Bild ADE_train_00003172.jpg gespeichert: results/lama/ADE_train_00003172.jpg\n",
      "Ergebnis für Bild ADE_train_00022743.jpg gespeichert: results/lama/ADE_train_00022743.jpg\n",
      "Ergebnis für Bild ADE_train_00012232.jpg gespeichert: results/lama/ADE_train_00012232.jpg\n",
      "Ergebnis für Bild ADE_train_00020863.jpg gespeichert: results/lama/ADE_train_00020863.jpg\n",
      "Ergebnis für Bild ADE_train_00009499.jpg gespeichert: results/lama/ADE_train_00009499.jpg\n"
     ]
    }
   ],
   "source": [
    "real_images = []\n",
    "lama_images = []\n",
    "\n",
    "# Schleife durch alle Bilder und Masken\n",
    "\n",
    "image_gen = image_mask_generator(images_dir, masks_dir, image_files)\n",
    "for fname, image, mask in image_gen:\n",
    "\n",
    "    result = simple_lama(image, mask) # Infill mit Lama und der neuen Maske\n",
    "\n",
    "    real_images.append(image)\n",
    "    lama_images.append(result)\n",
    "\n",
    "    # Append and save result\n",
    "    save_result(image, result, fname, 'lama')\n",
    "    "
   ]
  },
  {
   "cell_type": "code",
   "execution_count": 10,
   "id": "3988f83e-390b-4664-bc1a-1b0dcd52307b",
   "metadata": {},
   "outputs": [
    {
     "name": "stdout",
     "output_type": "stream",
     "text": [
      "Setting up [LPIPS] perceptual loss: trunk [alex], v[0.1], spatial [off]\n"
     ]
    },
    {
     "name": "stderr",
     "output_type": "stream",
     "text": [
      "/home/ludo/.local/lib/python3.10/site-packages/torchvision/models/_utils.py:208: UserWarning: The parameter 'pretrained' is deprecated since 0.13 and may be removed in the future, please use 'weights' instead.\n",
      "  warnings.warn(\n",
      "/home/ludo/.local/lib/python3.10/site-packages/torchvision/models/_utils.py:223: UserWarning: Arguments other than a weight enum or `None` for 'weights' are deprecated since 0.13 and may be removed in the future. The current behavior is equivalent to passing `weights=AlexNet_Weights.IMAGENET1K_V1`. You can also use `weights=AlexNet_Weights.DEFAULT` to get the most up-to-date weights.\n",
      "  warnings.warn(msg)\n"
     ]
    },
    {
     "name": "stdout",
     "output_type": "stream",
     "text": [
      "Loading model from: /home/ludo/.conda/envs/lama/lib/python3.10/site-packages/lpips/weights/v0.1/alex.pth\n",
      "FID: 31.581621170043945\n",
      "LPIPS: 0.1356128454208374\n"
     ]
    }
   ],
   "source": [
    "# Preprocess the images (resize and convert to tensors)\n",
    "real_images_tensor = preprocess_images(real_images, target_size)\n",
    "lama_images_tensor = preprocess_images(lama_images, target_size)\n",
    "\n",
    "fid_score = calculate_fid(real_images_tensor, lama_images_tensor)\n",
    "\n",
    "lpips_score = calculate_lpips(real_images_tensor, lama_images_tensor)\n",
    "\n",
    "print(f\"FID: {fid_score}\")\n",
    "print(f\"LPIPS: {lpips_score}\")"
   ]
  },
  {
   "cell_type": "code",
   "execution_count": 11,
   "id": "50f80a0a-1343-4f82-b7b4-dd4a40fae5c8",
   "metadata": {},
   "outputs": [],
   "source": [
    "# Baseline - Opencv"
   ]
  },
  {
   "cell_type": "code",
   "execution_count": 12,
   "id": "f83028f1-3266-4aa2-85ab-2a4caa54a52b",
   "metadata": {},
   "outputs": [],
   "source": [
    "def image_mask_generator_opencv(images_dir, masks_dir, image_files):\n",
    "    \"\"\"\n",
    "    Generator to read images and their corresponding masks.\n",
    "\n",
    "    Args:\n",
    "    - images_dir (str): Directory containing the images.\n",
    "    - masks_dir (str): Directory containing the masks.\n",
    "    - image_files (list): List of filenames (same for both images and masks).\n",
    "\n",
    "    Yields:\n",
    "    - tuple: A tuple containing a PIL image and a corresponding mask (PIL image).\n",
    "    \"\"\"\n",
    "    for fname in image_files:\n",
    "        image_path = os.path.join(images_dir, fname)  # Full path to the image\n",
    "        mask_path = os.path.join(masks_dir, fname)  # Full path to the mask\n",
    "        \n",
    "        # Load image and mask\n",
    "        try:\n",
    "            image = Image.open(image_path) \n",
    "            mask = Image.open(mask_path).convert('L')  \n",
    "\n",
    "            mask = expand_mask(mask) # Expand mask \n",
    "            \n",
    "            # Yield image and mask\n",
    "            yield fname, image, mask\n",
    "        except Exception as e:\n",
    "            print(f\"Error loading {fname}: {e}\")"
   ]
  },
  {
   "cell_type": "code",
   "execution_count": 13,
   "id": "08071c35-c33c-4b45-8400-5b55dc90fcc3",
   "metadata": {},
   "outputs": [],
   "source": [
    "def inpaint_with_opencv(image, mask, inpaint_radius=3, method=cv2.INPAINT_TELEA):\n",
    "    \"\"\"\n",
    "    Perform inpainting using OpenCV, ensuring correct color conversions.\n",
    "\n",
    "    Args:\n",
    "    - image (PIL.Image): The input image.\n",
    "    - mask (PIL.Image): The binary mask (grayscale).\n",
    "    - inpaint_radius (int): Radius of the inpainting.\n",
    "    - method: Inpainting method (cv2.INPAINT_TELEA or cv2.INPAINT_NS).\n",
    "\n",
    "    Returns:\n",
    "    - PIL.Image: The inpainted image with correct colors.\n",
    "    \"\"\"\n",
    "    # Convert PIL image to OpenCV format (RGB -> BGR)\n",
    "    image_array = cv2.cvtColor(np.array(image), cv2.COLOR_RGB2BGR)\n",
    "    mask_array = np.array(mask)\n",
    "\n",
    "    # Ensure mask is binary (0 and 255)\n",
    "    _, mask_array = cv2.threshold(mask_array, 1, 255, cv2.THRESH_BINARY)\n",
    "\n",
    "    # Perform inpainting\n",
    "    inpainted_image = cv2.inpaint(image_array, mask_array, inpaint_radius, method)\n",
    "\n",
    "    # Convert back to PIL format (BGR -> RGB)\n",
    "    inpainted_image = cv2.cvtColor(inpainted_image, cv2.COLOR_BGR2RGB)\n",
    "    return Image.fromarray(inpainted_image)\n"
   ]
  },
  {
   "cell_type": "code",
   "execution_count": 14,
   "id": "e8d47d3d-cc4f-4f54-b7cf-c69d1408fd47",
   "metadata": {},
   "outputs": [
    {
     "name": "stdout",
     "output_type": "stream",
     "text": [
      "Ergebnis für Bild ADE_train_00003173.jpg gespeichert: results/opencv/ADE_train_00003173.jpg\n",
      "Ergebnis für Bild ADE_train_00023741.jpg gespeichert: results/opencv/ADE_train_00023741.jpg\n",
      "Ergebnis für Bild ADE_train_00022732.jpg gespeichert: results/opencv/ADE_train_00022732.jpg\n",
      "Ergebnis für Bild ADE_train_00001504.jpg gespeichert: results/opencv/ADE_train_00001504.jpg\n",
      "Ergebnis für Bild ADE_frame_00000204.jpg gespeichert: results/opencv/ADE_frame_00000204.jpg\n",
      "Ergebnis für Bild ADE_train_00003171.jpg gespeichert: results/opencv/ADE_train_00003171.jpg\n",
      "Ergebnis für Bild ADE_train_00012219.jpg gespeichert: results/opencv/ADE_train_00012219.jpg\n",
      "Ergebnis für Bild ADE_train_00001961.jpg gespeichert: results/opencv/ADE_train_00001961.jpg\n",
      "Ergebnis für Bild ADE_train_00024430.jpg gespeichert: results/opencv/ADE_train_00024430.jpg\n",
      "Ergebnis für Bild ADE_train_00001716.jpg gespeichert: results/opencv/ADE_train_00001716.jpg\n",
      "Ergebnis für Bild ADE_train_00001676.jpg gespeichert: results/opencv/ADE_train_00001676.jpg\n",
      "Ergebnis für Bild ADE_train_00001758.jpg gespeichert: results/opencv/ADE_train_00001758.jpg\n",
      "Ergebnis für Bild ADE_train_00001561.jpg gespeichert: results/opencv/ADE_train_00001561.jpg\n",
      "Ergebnis für Bild ADE_train_00022769.jpg gespeichert: results/opencv/ADE_train_00022769.jpg\n",
      "Ergebnis für Bild ADE_train_00022744.jpg gespeichert: results/opencv/ADE_train_00022744.jpg\n",
      "Ergebnis für Bild ADE_frame_00000203.jpg gespeichert: results/opencv/ADE_frame_00000203.jpg\n",
      "Ergebnis für Bild ADE_train_00012246.jpg gespeichert: results/opencv/ADE_train_00012246.jpg\n",
      "Ergebnis für Bild ADE_train_00001522.jpg gespeichert: results/opencv/ADE_train_00001522.jpg\n",
      "Ergebnis für Bild ADE_train_00002378.jpg gespeichert: results/opencv/ADE_train_00002378.jpg\n",
      "Ergebnis für Bild ADE_train_00023725.jpg gespeichert: results/opencv/ADE_train_00023725.jpg\n",
      "Ergebnis für Bild ADE_train_00005280.jpg gespeichert: results/opencv/ADE_train_00005280.jpg\n",
      "Ergebnis für Bild ADE_train_00001763.jpg gespeichert: results/opencv/ADE_train_00001763.jpg\n",
      "Ergebnis für Bild ADE_train_00012220.jpg gespeichert: results/opencv/ADE_train_00012220.jpg\n",
      "Ergebnis für Bild ADE_train_00016340.jpg gespeichert: results/opencv/ADE_train_00016340.jpg\n",
      "Ergebnis für Bild ADE_train_00019507.jpg gespeichert: results/opencv/ADE_train_00019507.jpg\n",
      "Ergebnis für Bild ADE_train_00003093.jpg gespeichert: results/opencv/ADE_train_00003093.jpg\n",
      "Ergebnis für Bild ADE_train_00002042.jpg gespeichert: results/opencv/ADE_train_00002042.jpg\n",
      "Ergebnis für Bild ADE_train_00012286.jpg gespeichert: results/opencv/ADE_train_00012286.jpg\n",
      "Ergebnis für Bild ADE_train_00023671.jpg gespeichert: results/opencv/ADE_train_00023671.jpg\n",
      "Ergebnis für Bild ADE_train_00020088.jpg gespeichert: results/opencv/ADE_train_00020088.jpg\n",
      "Ergebnis für Bild ADE_train_00022041.jpg gespeichert: results/opencv/ADE_train_00022041.jpg\n",
      "Ergebnis für Bild ADE_train_00001635.jpg gespeichert: results/opencv/ADE_train_00001635.jpg\n",
      "Ergebnis für Bild ADE_train_00019095.jpg gespeichert: results/opencv/ADE_train_00019095.jpg\n",
      "Ergebnis für Bild ADE_train_00008819.jpg gespeichert: results/opencv/ADE_train_00008819.jpg\n",
      "Ergebnis für Bild ADE_train_00012185.jpg gespeichert: results/opencv/ADE_train_00012185.jpg\n",
      "Ergebnis für Bild ADE_train_00022681.jpg gespeichert: results/opencv/ADE_train_00022681.jpg\n",
      "Ergebnis für Bild ADE_train_00015457.jpg gespeichert: results/opencv/ADE_train_00015457.jpg\n",
      "Ergebnis für Bild ADE_train_00022684.jpg gespeichert: results/opencv/ADE_train_00022684.jpg\n",
      "Ergebnis für Bild ADE_train_00001222.jpg gespeichert: results/opencv/ADE_train_00001222.jpg\n",
      "Ergebnis für Bild ADE_train_00008798.jpg gespeichert: results/opencv/ADE_train_00008798.jpg\n",
      "Ergebnis für Bild ADE_train_00001746.jpg gespeichert: results/opencv/ADE_train_00001746.jpg\n",
      "Ergebnis für Bild ADE_train_00025047.jpg gespeichert: results/opencv/ADE_train_00025047.jpg\n",
      "Ergebnis für Bild ADE_train_00002031.jpg gespeichert: results/opencv/ADE_train_00002031.jpg\n",
      "Ergebnis für Bild ADE_train_00001240.jpg gespeichert: results/opencv/ADE_train_00001240.jpg\n",
      "Ergebnis für Bild ADE_train_00022698.jpg gespeichert: results/opencv/ADE_train_00022698.jpg\n",
      "Ergebnis für Bild ADE_train_00009373.jpg gespeichert: results/opencv/ADE_train_00009373.jpg\n",
      "Ergebnis für Bild ADE_train_00011721.jpg gespeichert: results/opencv/ADE_train_00011721.jpg\n",
      "Ergebnis für Bild ADE_frame_00000210.jpg gespeichert: results/opencv/ADE_frame_00000210.jpg\n",
      "Ergebnis für Bild ADE_train_00001735.jpg gespeichert: results/opencv/ADE_train_00001735.jpg\n",
      "Ergebnis für Bild ADE_train_00002056.jpg gespeichert: results/opencv/ADE_train_00002056.jpg\n",
      "Ergebnis für Bild ADE_train_00019017.jpg gespeichert: results/opencv/ADE_train_00019017.jpg\n",
      "Ergebnis für Bild ADE_train_00001726.jpg gespeichert: results/opencv/ADE_train_00001726.jpg\n",
      "Ergebnis für Bild ADE_train_00022999.jpg gespeichert: results/opencv/ADE_train_00022999.jpg\n",
      "Ergebnis für Bild ADE_train_00001720.jpg gespeichert: results/opencv/ADE_train_00001720.jpg\n",
      "Ergebnis für Bild ADE_train_00001346.jpg gespeichert: results/opencv/ADE_train_00001346.jpg\n",
      "Ergebnis für Bild ADE_train_00001787.jpg gespeichert: results/opencv/ADE_train_00001787.jpg\n",
      "Ergebnis für Bild ADE_frame_00000267.jpg gespeichert: results/opencv/ADE_frame_00000267.jpg\n",
      "Ergebnis für Bild ADE_train_00006419.jpg gespeichert: results/opencv/ADE_train_00006419.jpg\n",
      "Ergebnis für Bild ADE_train_00004842.jpg gespeichert: results/opencv/ADE_train_00004842.jpg\n",
      "Ergebnis für Bild ADE_train_00019603.jpg gespeichert: results/opencv/ADE_train_00019603.jpg\n",
      "Ergebnis für Bild ADE_train_00012252.jpg gespeichert: results/opencv/ADE_train_00012252.jpg\n",
      "Ergebnis für Bild ADE_train_00002372.jpg gespeichert: results/opencv/ADE_train_00002372.jpg\n",
      "Ergebnis für Bild ADE_train_00022695.jpg gespeichert: results/opencv/ADE_train_00022695.jpg\n",
      "Ergebnis für Bild ADE_train_00002423.jpg gespeichert: results/opencv/ADE_train_00002423.jpg\n",
      "Ergebnis für Bild ADE_frame_00000015.jpg gespeichert: results/opencv/ADE_frame_00000015.jpg\n",
      "Ergebnis für Bild ADE_train_00004251.jpg gespeichert: results/opencv/ADE_train_00004251.jpg\n",
      "Ergebnis für Bild ADE_train_00002390.jpg gespeichert: results/opencv/ADE_train_00002390.jpg\n",
      "Ergebnis für Bild ADE_train_00005541.jpg gespeichert: results/opencv/ADE_train_00005541.jpg\n",
      "Ergebnis für Bild ADE_train_00022700.jpg gespeichert: results/opencv/ADE_train_00022700.jpg\n",
      "Ergebnis für Bild ADE_train_00001713.jpg gespeichert: results/opencv/ADE_train_00001713.jpg\n",
      "Ergebnis für Bild ADE_train_00001554.jpg gespeichert: results/opencv/ADE_train_00001554.jpg\n",
      "Ergebnis für Bild ADE_train_00024549.jpg gespeichert: results/opencv/ADE_train_00024549.jpg\n",
      "Ergebnis für Bild ADE_train_00009972.jpg gespeichert: results/opencv/ADE_train_00009972.jpg\n",
      "Ergebnis für Bild ADE_train_00002396.jpg gespeichert: results/opencv/ADE_train_00002396.jpg\n",
      "Ergebnis für Bild ADE_train_00001822.jpg gespeichert: results/opencv/ADE_train_00001822.jpg\n",
      "Ergebnis für Bild ADE_train_00004399.jpg gespeichert: results/opencv/ADE_train_00004399.jpg\n",
      "Ergebnis für Bild ADE_train_00012289.jpg gespeichert: results/opencv/ADE_train_00012289.jpg\n",
      "Ergebnis für Bild ADE_train_00002279.jpg gespeichert: results/opencv/ADE_train_00002279.jpg\n",
      "Ergebnis für Bild ADE_frame_00000302.jpg gespeichert: results/opencv/ADE_frame_00000302.jpg\n",
      "Ergebnis für Bild ADE_train_00002059.jpg gespeichert: results/opencv/ADE_train_00002059.jpg\n",
      "Ergebnis für Bild ADE_train_00001759.jpg gespeichert: results/opencv/ADE_train_00001759.jpg\n",
      "Ergebnis für Bild ADE_train_00023815.jpg gespeichert: results/opencv/ADE_train_00023815.jpg\n",
      "Ergebnis für Bild ADE_train_00001552.jpg gespeichert: results/opencv/ADE_train_00001552.jpg\n",
      "Ergebnis für Bild ADE_train_00008815.jpg gespeichert: results/opencv/ADE_train_00008815.jpg\n",
      "Ergebnis für Bild ADE_train_00024551.jpg gespeichert: results/opencv/ADE_train_00024551.jpg\n",
      "Ergebnis für Bild ADE_train_00001649.jpg gespeichert: results/opencv/ADE_train_00001649.jpg\n",
      "Ergebnis für Bild ADE_train_00001633.jpg gespeichert: results/opencv/ADE_train_00001633.jpg\n",
      "Ergebnis für Bild ADE_train_00016147.jpg gespeichert: results/opencv/ADE_train_00016147.jpg\n",
      "Ergebnis für Bild ADE_train_00015772.jpg gespeichert: results/opencv/ADE_train_00015772.jpg\n",
      "Ergebnis für Bild ADE_train_00001728.jpg gespeichert: results/opencv/ADE_train_00001728.jpg\n",
      "Ergebnis für Bild ADE_train_00012248.jpg gespeichert: results/opencv/ADE_train_00012248.jpg\n",
      "Ergebnis für Bild ADE_train_00012213.jpg gespeichert: results/opencv/ADE_train_00012213.jpg\n",
      "Ergebnis für Bild ADE_train_00011596.jpg gespeichert: results/opencv/ADE_train_00011596.jpg\n",
      "Ergebnis für Bild ADE_train_00001949.jpg gespeichert: results/opencv/ADE_train_00001949.jpg\n",
      "Ergebnis für Bild ADE_train_00002200.jpg gespeichert: results/opencv/ADE_train_00002200.jpg\n",
      "Ergebnis für Bild ADE_train_00010920.jpg gespeichert: results/opencv/ADE_train_00010920.jpg\n",
      "Ergebnis für Bild ADE_train_00007695.jpg gespeichert: results/opencv/ADE_train_00007695.jpg\n",
      "Ergebnis für Bild ADE_train_00010068.jpg gespeichert: results/opencv/ADE_train_00010068.jpg\n",
      "Ergebnis für Bild ADE_train_00001562.jpg gespeichert: results/opencv/ADE_train_00001562.jpg\n",
      "Ergebnis für Bild ADE_train_00007682.jpg gespeichert: results/opencv/ADE_train_00007682.jpg\n",
      "Ergebnis für Bild ADE_train_00002461.jpg gespeichert: results/opencv/ADE_train_00002461.jpg\n",
      "Ergebnis für Bild ADE_train_00022240.jpg gespeichert: results/opencv/ADE_train_00022240.jpg\n",
      "Ergebnis für Bild ADE_train_00010766.jpg gespeichert: results/opencv/ADE_train_00010766.jpg\n",
      "Ergebnis für Bild ADE_train_00001502.jpg gespeichert: results/opencv/ADE_train_00001502.jpg\n",
      "Ergebnis für Bild ADE_train_00010062.jpg gespeichert: results/opencv/ADE_train_00010062.jpg\n",
      "Ergebnis für Bild ADE_train_00019144.jpg gespeichert: results/opencv/ADE_train_00019144.jpg\n",
      "Ergebnis für Bild ADE_train_00001663.jpg gespeichert: results/opencv/ADE_train_00001663.jpg\n",
      "Ergebnis für Bild ADE_frame_00000292.jpg gespeichert: results/opencv/ADE_frame_00000292.jpg\n",
      "Ergebnis für Bild ADE_train_00001727.jpg gespeichert: results/opencv/ADE_train_00001727.jpg\n",
      "Ergebnis für Bild ADE_train_00001750.jpg gespeichert: results/opencv/ADE_train_00001750.jpg\n",
      "Ergebnis für Bild ADE_train_00002287.jpg gespeichert: results/opencv/ADE_train_00002287.jpg\n",
      "Ergebnis für Bild ADE_train_00022701.jpg gespeichert: results/opencv/ADE_train_00022701.jpg\n",
      "Ergebnis für Bild ADE_train_00009354.jpg gespeichert: results/opencv/ADE_train_00009354.jpg\n",
      "Ergebnis für Bild ADE_train_00011720.jpg gespeichert: results/opencv/ADE_train_00011720.jpg\n",
      "Ergebnis für Bild ADE_train_00002351.jpg gespeichert: results/opencv/ADE_train_00002351.jpg\n",
      "Ergebnis für Bild ADE_train_00002381.jpg gespeichert: results/opencv/ADE_train_00002381.jpg\n",
      "Ergebnis für Bild ADE_train_00012227.jpg gespeichert: results/opencv/ADE_train_00012227.jpg\n",
      "Ergebnis für Bild ADE_frame_00000268.jpg gespeichert: results/opencv/ADE_frame_00000268.jpg\n",
      "Ergebnis für Bild ADE_train_00019508.jpg gespeichert: results/opencv/ADE_train_00019508.jpg\n",
      "Ergebnis für Bild ADE_train_00001765.jpg gespeichert: results/opencv/ADE_train_00001765.jpg\n",
      "Ergebnis für Bild ADE_train_00001490.jpg gespeichert: results/opencv/ADE_train_00001490.jpg\n",
      "Ergebnis für Bild ADE_train_00019290.jpg gespeichert: results/opencv/ADE_train_00019290.jpg\n",
      "Ergebnis für Bild ADE_train_00024826.jpg gespeichert: results/opencv/ADE_train_00024826.jpg\n",
      "Ergebnis für Bild ADE_train_00002172.jpg gespeichert: results/opencv/ADE_train_00002172.jpg\n",
      "Ergebnis für Bild ADE_train_00012270.jpg gespeichert: results/opencv/ADE_train_00012270.jpg\n",
      "Ergebnis für Bild ADE_train_00001753.jpg gespeichert: results/opencv/ADE_train_00001753.jpg\n",
      "Ergebnis für Bild ADE_train_00020206.jpg gespeichert: results/opencv/ADE_train_00020206.jpg\n",
      "Ergebnis für Bild ADE_train_00022735.jpg gespeichert: results/opencv/ADE_train_00022735.jpg\n",
      "Ergebnis für Bild ADE_train_00009812.jpg gespeichert: results/opencv/ADE_train_00009812.jpg\n",
      "Ergebnis für Bild ADE_train_00019145.jpg gespeichert: results/opencv/ADE_train_00019145.jpg\n",
      "Ergebnis für Bild ADE_train_00002386.jpg gespeichert: results/opencv/ADE_train_00002386.jpg\n",
      "Ergebnis für Bild ADE_train_00001773.jpg gespeichert: results/opencv/ADE_train_00001773.jpg\n",
      "Ergebnis für Bild ADE_train_00002174.jpg gespeichert: results/opencv/ADE_train_00002174.jpg\n",
      "Ergebnis für Bild ADE_train_00019509.jpg gespeichert: results/opencv/ADE_train_00019509.jpg\n",
      "Ergebnis für Bild ADE_train_00019512.jpg gespeichert: results/opencv/ADE_train_00019512.jpg\n",
      "Ergebnis für Bild ADE_train_00001788.jpg gespeichert: results/opencv/ADE_train_00001788.jpg\n",
      "Ergebnis für Bild ADE_train_00002417.jpg gespeichert: results/opencv/ADE_train_00002417.jpg\n",
      "Ergebnis für Bild ADE_train_00001761.jpg gespeichert: results/opencv/ADE_train_00001761.jpg\n",
      "Ergebnis für Bild ADE_train_00001689.jpg gespeichert: results/opencv/ADE_train_00001689.jpg\n",
      "Ergebnis für Bild ADE_train_00001657.jpg gespeichert: results/opencv/ADE_train_00001657.jpg\n",
      "Ergebnis für Bild ADE_train_00000651.jpg gespeichert: results/opencv/ADE_train_00000651.jpg\n",
      "Ergebnis für Bild ADE_train_00001824.jpg gespeichert: results/opencv/ADE_train_00001824.jpg\n",
      "Ergebnis für Bild ADE_train_00002293.jpg gespeichert: results/opencv/ADE_train_00002293.jpg\n",
      "Ergebnis für Bild ADE_train_00020241.jpg gespeichert: results/opencv/ADE_train_00020241.jpg\n",
      "Ergebnis für Bild ADE_train_00008801.jpg gespeichert: results/opencv/ADE_train_00008801.jpg\n",
      "Ergebnis für Bild ADE_train_00002192.jpg gespeichert: results/opencv/ADE_train_00002192.jpg\n",
      "Ergebnis für Bild ADE_train_00023669.jpg gespeichert: results/opencv/ADE_train_00023669.jpg\n",
      "Ergebnis für Bild ADE_train_00006613.jpg gespeichert: results/opencv/ADE_train_00006613.jpg\n",
      "Ergebnis für Bild ADE_train_00002140.jpg gespeichert: results/opencv/ADE_train_00002140.jpg\n",
      "Ergebnis für Bild ADE_train_00001667.jpg gespeichert: results/opencv/ADE_train_00001667.jpg\n",
      "Ergebnis für Bild ADE_train_00000663.jpg gespeichert: results/opencv/ADE_train_00000663.jpg\n",
      "Ergebnis für Bild ADE_train_00011594.jpg gespeichert: results/opencv/ADE_train_00011594.jpg\n",
      "Ergebnis für Bild ADE_train_00019021.jpg gespeichert: results/opencv/ADE_train_00019021.jpg\n",
      "Ergebnis für Bild ADE_train_00002291.jpg gespeichert: results/opencv/ADE_train_00002291.jpg\n",
      "Ergebnis für Bild ADE_train_00019098.jpg gespeichert: results/opencv/ADE_train_00019098.jpg\n",
      "Ergebnis für Bild ADE_train_00004242.jpg gespeichert: results/opencv/ADE_train_00004242.jpg\n",
      "Ergebnis für Bild ADE_train_00020087.jpg gespeichert: results/opencv/ADE_train_00020087.jpg\n",
      "Ergebnis für Bild ADE_train_00001760.jpg gespeichert: results/opencv/ADE_train_00001760.jpg\n",
      "Ergebnis für Bild ADE_train_00022685.jpg gespeichert: results/opencv/ADE_train_00022685.jpg\n",
      "Ergebnis für Bild ADE_train_00022678.jpg gespeichert: results/opencv/ADE_train_00022678.jpg\n",
      "Ergebnis für Bild ADE_train_00024113.jpg gespeichert: results/opencv/ADE_train_00024113.jpg\n",
      "Ergebnis für Bild ADE_train_00000555.jpg gespeichert: results/opencv/ADE_train_00000555.jpg\n",
      "Ergebnis für Bild ADE_train_00001767.jpg gespeichert: results/opencv/ADE_train_00001767.jpg\n",
      "Ergebnis für Bild ADE_train_00013814.jpg gespeichert: results/opencv/ADE_train_00013814.jpg\n",
      "Ergebnis für Bild ADE_train_00019294.jpg gespeichert: results/opencv/ADE_train_00019294.jpg\n",
      "Ergebnis für Bild ADE_train_00021742.jpg gespeichert: results/opencv/ADE_train_00021742.jpg\n",
      "Ergebnis für Bild ADE_train_00010111.jpg gespeichert: results/opencv/ADE_train_00010111.jpg\n",
      "Ergebnis für Bild ADE_train_00011671.jpg gespeichert: results/opencv/ADE_train_00011671.jpg\n",
      "Ergebnis für Bild ADE_train_00001500.jpg gespeichert: results/opencv/ADE_train_00001500.jpg\n",
      "Ergebnis für Bild ADE_train_00001802.jpg gespeichert: results/opencv/ADE_train_00001802.jpg\n",
      "Ergebnis für Bild ADE_train_00012247.jpg gespeichert: results/opencv/ADE_train_00012247.jpg\n",
      "Ergebnis für Bild ADE_train_00011663.jpg gespeichert: results/opencv/ADE_train_00011663.jpg\n",
      "Ergebnis für Bild ADE_train_00012228.jpg gespeichert: results/opencv/ADE_train_00012228.jpg\n",
      "Ergebnis für Bild ADE_train_00021165.jpg gespeichert: results/opencv/ADE_train_00021165.jpg\n",
      "Ergebnis für Bild ADE_train_00001757.jpg gespeichert: results/opencv/ADE_train_00001757.jpg\n",
      "Ergebnis für Bild ADE_frame_00000028.jpg gespeichert: results/opencv/ADE_frame_00000028.jpg\n",
      "Ergebnis für Bild ADE_train_00002048.jpg gespeichert: results/opencv/ADE_train_00002048.jpg\n",
      "Ergebnis für Bild ADE_train_00022697.jpg gespeichert: results/opencv/ADE_train_00022697.jpg\n",
      "Ergebnis für Bild ADE_train_00001741.jpg gespeichert: results/opencv/ADE_train_00001741.jpg\n",
      "Ergebnis für Bild ADE_train_00022987.jpg gespeichert: results/opencv/ADE_train_00022987.jpg\n",
      "Ergebnis für Bild ADE_train_00001698.jpg gespeichert: results/opencv/ADE_train_00001698.jpg\n",
      "Ergebnis für Bild ADE_train_00023738.jpg gespeichert: results/opencv/ADE_train_00023738.jpg\n",
      "Ergebnis für Bild ADE_train_00006624.jpg gespeichert: results/opencv/ADE_train_00006624.jpg\n",
      "Ergebnis für Bild ADE_train_00022932.jpg gespeichert: results/opencv/ADE_train_00022932.jpg\n",
      "Ergebnis für Bild ADE_train_00001711.jpg gespeichert: results/opencv/ADE_train_00001711.jpg\n",
      "Ergebnis für Bild ADE_train_00022635.jpg gespeichert: results/opencv/ADE_train_00022635.jpg\n",
      "Ergebnis für Bild ADE_train_00000664.jpg gespeichert: results/opencv/ADE_train_00000664.jpg\n",
      "Ergebnis für Bild ADE_train_00004951.jpg gespeichert: results/opencv/ADE_train_00004951.jpg\n",
      "Ergebnis für Bild ADE_train_00002462.jpg gespeichert: results/opencv/ADE_train_00002462.jpg\n",
      "Ergebnis für Bild ADE_train_00011716.jpg gespeichert: results/opencv/ADE_train_00011716.jpg\n",
      "Ergebnis für Bild ADE_train_00001694.jpg gespeichert: results/opencv/ADE_train_00001694.jpg\n",
      "Ergebnis für Bild ADE_train_00001816.jpg gespeichert: results/opencv/ADE_train_00001816.jpg\n",
      "Ergebnis für Bild ADE_train_00022683.jpg gespeichert: results/opencv/ADE_train_00022683.jpg\n",
      "Ergebnis für Bild ADE_train_00000656.jpg gespeichert: results/opencv/ADE_train_00000656.jpg\n",
      "Ergebnis für Bild ADE_frame_00000180.jpg gespeichert: results/opencv/ADE_frame_00000180.jpg\n",
      "Ergebnis für Bild ADE_train_00002388.jpg gespeichert: results/opencv/ADE_train_00002388.jpg\n",
      "Ergebnis für Bild ADE_train_00012223.jpg gespeichert: results/opencv/ADE_train_00012223.jpg\n",
      "Ergebnis für Bild ADE_train_00000667.jpg gespeichert: results/opencv/ADE_train_00000667.jpg\n",
      "Ergebnis für Bild ADE_train_00001688.jpg gespeichert: results/opencv/ADE_train_00001688.jpg\n",
      "Ergebnis für Bild ADE_train_00001762.jpg gespeichert: results/opencv/ADE_train_00001762.jpg\n",
      "Ergebnis für Bild ADE_train_00016762.jpg gespeichert: results/opencv/ADE_train_00016762.jpg\n",
      "Ergebnis für Bild ADE_train_00012271.jpg gespeichert: results/opencv/ADE_train_00012271.jpg\n",
      "Ergebnis für Bild ADE_train_00003182.jpg gespeichert: results/opencv/ADE_train_00003182.jpg\n",
      "Ergebnis für Bild ADE_train_00009805.jpg gespeichert: results/opencv/ADE_train_00009805.jpg\n",
      "Ergebnis für Bild ADE_train_00019281.jpg gespeichert: results/opencv/ADE_train_00019281.jpg\n",
      "Ergebnis für Bild ADE_train_00003095.jpg gespeichert: results/opencv/ADE_train_00003095.jpg\n",
      "Ergebnis für Bild ADE_train_00022692.jpg gespeichert: results/opencv/ADE_train_00022692.jpg\n",
      "Ergebnis für Bild ADE_train_00022703.jpg gespeichert: results/opencv/ADE_train_00022703.jpg\n",
      "Ergebnis für Bild ADE_train_00023137.jpg gespeichert: results/opencv/ADE_train_00023137.jpg\n",
      "Ergebnis für Bild ADE_train_00001550.jpg gespeichert: results/opencv/ADE_train_00001550.jpg\n",
      "Ergebnis für Bild ADE_train_00015459.jpg gespeichert: results/opencv/ADE_train_00015459.jpg\n",
      "Ergebnis für Bild ADE_train_00012249.jpg gespeichert: results/opencv/ADE_train_00012249.jpg\n",
      "Ergebnis für Bild ADE_train_00020209.jpg gespeichert: results/opencv/ADE_train_00020209.jpg\n",
      "Ergebnis für Bild ADE_train_00023726.jpg gespeichert: results/opencv/ADE_train_00023726.jpg\n",
      "Ergebnis für Bild ADE_train_00020208.jpg gespeichert: results/opencv/ADE_train_00020208.jpg\n",
      "Ergebnis für Bild ADE_train_00024475.jpg gespeichert: results/opencv/ADE_train_00024475.jpg\n",
      "Ergebnis für Bild ADE_train_00004952.jpg gespeichert: results/opencv/ADE_train_00004952.jpg\n",
      "Ergebnis für Bild ADE_train_00022705.jpg gespeichert: results/opencv/ADE_train_00022705.jpg\n",
      "Ergebnis für Bild ADE_train_00010999.jpg gespeichert: results/opencv/ADE_train_00010999.jpg\n",
      "Ergebnis für Bild ADE_train_00011664.jpg gespeichert: results/opencv/ADE_train_00011664.jpg\n",
      "Ergebnis für Bild ADE_train_00022682.jpg gespeichert: results/opencv/ADE_train_00022682.jpg\n",
      "Ergebnis für Bild ADE_train_00007484.jpg gespeichert: results/opencv/ADE_train_00007484.jpg\n",
      "Ergebnis für Bild ADE_train_00001704.jpg gespeichert: results/opencv/ADE_train_00001704.jpg\n",
      "Ergebnis für Bild ADE_train_00001336.jpg gespeichert: results/opencv/ADE_train_00001336.jpg\n",
      "Ergebnis für Bild ADE_train_00015456.jpg gespeichert: results/opencv/ADE_train_00015456.jpg\n",
      "Ergebnis für Bild ADE_train_00001987.jpg gespeichert: results/opencv/ADE_train_00001987.jpg\n",
      "Ergebnis für Bild ADE_train_00024476.jpg gespeichert: results/opencv/ADE_train_00024476.jpg\n",
      "Ergebnis für Bild ADE_train_00001774.jpg gespeichert: results/opencv/ADE_train_00001774.jpg\n",
      "Ergebnis für Bild ADE_train_00001697.jpg gespeichert: results/opencv/ADE_train_00001697.jpg\n",
      "Ergebnis für Bild ADE_train_00003161.jpg gespeichert: results/opencv/ADE_train_00003161.jpg\n",
      "Ergebnis für Bild ADE_train_00012243.jpg gespeichert: results/opencv/ADE_train_00012243.jpg\n",
      "Ergebnis für Bild ADE_train_00019094.jpg gespeichert: results/opencv/ADE_train_00019094.jpg\n",
      "Ergebnis für Bild ADE_train_00005328.jpg gespeichert: results/opencv/ADE_train_00005328.jpg\n",
      "Ergebnis für Bild ADE_train_00020247.jpg gespeichert: results/opencv/ADE_train_00020247.jpg\n",
      "Ergebnis für Bild ADE_train_00002405.jpg gespeichert: results/opencv/ADE_train_00002405.jpg\n",
      "Ergebnis für Bild ADE_train_00002346.jpg gespeichert: results/opencv/ADE_train_00002346.jpg\n",
      "Ergebnis für Bild ADE_train_00001489.jpg gespeichert: results/opencv/ADE_train_00001489.jpg\n",
      "Ergebnis für Bild ADE_frame_00000061.jpg gespeichert: results/opencv/ADE_frame_00000061.jpg\n",
      "Ergebnis für Bild ADE_train_00022727.jpg gespeichert: results/opencv/ADE_train_00022727.jpg\n",
      "Ergebnis für Bild ADE_train_00024577.jpg gespeichert: results/opencv/ADE_train_00024577.jpg\n",
      "Ergebnis für Bild ADE_train_00001701.jpg gespeichert: results/opencv/ADE_train_00001701.jpg\n",
      "Ergebnis für Bild ADE_train_00001498.jpg gespeichert: results/opencv/ADE_train_00001498.jpg\n",
      "Ergebnis für Bild ADE_train_00023727.jpg gespeichert: results/opencv/ADE_train_00023727.jpg\n",
      "Ergebnis für Bild ADE_train_00008812.jpg gespeichert: results/opencv/ADE_train_00008812.jpg\n",
      "Ergebnis für Bild ADE_train_00022686.jpg gespeichert: results/opencv/ADE_train_00022686.jpg\n",
      "Ergebnis für Bild ADE_train_00019286.jpg gespeichert: results/opencv/ADE_train_00019286.jpg\n",
      "Ergebnis für Bild ADE_train_00005542.jpg gespeichert: results/opencv/ADE_train_00005542.jpg\n",
      "Ergebnis für Bild ADE_train_00012237.jpg gespeichert: results/opencv/ADE_train_00012237.jpg\n",
      "Ergebnis für Bild ADE_train_00003168.jpg gespeichert: results/opencv/ADE_train_00003168.jpg\n",
      "Ergebnis für Bild ADE_train_00002045.jpg gespeichert: results/opencv/ADE_train_00002045.jpg\n",
      "Ergebnis für Bild ADE_train_00019004.jpg gespeichert: results/opencv/ADE_train_00019004.jpg\n",
      "Ergebnis für Bild ADE_train_00007507.jpg gespeichert: results/opencv/ADE_train_00007507.jpg\n",
      "Ergebnis für Bild ADE_train_00015453.jpg gespeichert: results/opencv/ADE_train_00015453.jpg\n",
      "Ergebnis für Bild ADE_train_00016855.jpg gespeichert: results/opencv/ADE_train_00016855.jpg\n",
      "Ergebnis für Bild ADE_train_00006150.jpg gespeichert: results/opencv/ADE_train_00006150.jpg\n",
      "Ergebnis für Bild ADE_train_00002054.jpg gespeichert: results/opencv/ADE_train_00002054.jpg\n",
      "Ergebnis für Bild ADE_train_00024687.jpg gespeichert: results/opencv/ADE_train_00024687.jpg\n",
      "Ergebnis für Bild ADE_train_00002366.jpg gespeichert: results/opencv/ADE_train_00002366.jpg\n",
      "Ergebnis für Bild ADE_train_00001747.jpg gespeichert: results/opencv/ADE_train_00001747.jpg\n",
      "Ergebnis für Bild ADE_train_00025118.jpg gespeichert: results/opencv/ADE_train_00025118.jpg\n",
      "Ergebnis für Bild ADE_train_00007690.jpg gespeichert: results/opencv/ADE_train_00007690.jpg\n",
      "Ergebnis für Bild ADE_frame_00000142.jpg gespeichert: results/opencv/ADE_frame_00000142.jpg\n",
      "Ergebnis für Bild ADE_train_00022762.jpg gespeichert: results/opencv/ADE_train_00022762.jpg\n",
      "Ergebnis für Bild ADE_train_00001655.jpg gespeichert: results/opencv/ADE_train_00001655.jpg\n",
      "Ergebnis für Bild ADE_train_00001717.jpg gespeichert: results/opencv/ADE_train_00001717.jpg\n",
      "Ergebnis für Bild ADE_train_00001680.jpg gespeichert: results/opencv/ADE_train_00001680.jpg\n",
      "Ergebnis für Bild ADE_train_00012214.jpg gespeichert: results/opencv/ADE_train_00012214.jpg\n",
      "Ergebnis für Bild ADE_train_00008808.jpg gespeichert: results/opencv/ADE_train_00008808.jpg\n",
      "Ergebnis für Bild ADE_train_00005327.jpg gespeichert: results/opencv/ADE_train_00005327.jpg\n",
      "Ergebnis für Bild ADE_train_00019288.jpg gespeichert: results/opencv/ADE_train_00019288.jpg\n",
      "Ergebnis für Bild ADE_frame_00000191.jpg gespeichert: results/opencv/ADE_frame_00000191.jpg\n",
      "Ergebnis für Bild ADE_train_00024362.jpg gespeichert: results/opencv/ADE_train_00024362.jpg\n",
      "Ergebnis für Bild ADE_train_00009990.jpg gespeichert: results/opencv/ADE_train_00009990.jpg\n",
      "Ergebnis für Bild ADE_train_00007689.jpg gespeichert: results/opencv/ADE_train_00007689.jpg\n",
      "Ergebnis für Bild ADE_train_00002274.jpg gespeichert: results/opencv/ADE_train_00002274.jpg\n",
      "Ergebnis für Bild ADE_train_00003167.jpg gespeichert: results/opencv/ADE_train_00003167.jpg\n",
      "Ergebnis für Bild ADE_train_00003189.jpg gespeichert: results/opencv/ADE_train_00003189.jpg\n",
      "Ergebnis für Bild ADE_train_00020082.jpg gespeichert: results/opencv/ADE_train_00020082.jpg\n",
      "Ergebnis für Bild ADE_train_00004302.jpg gespeichert: results/opencv/ADE_train_00004302.jpg\n",
      "Ergebnis für Bild ADE_train_00001797.jpg gespeichert: results/opencv/ADE_train_00001797.jpg\n",
      "Ergebnis für Bild ADE_train_00022699.jpg gespeichert: results/opencv/ADE_train_00022699.jpg\n",
      "Ergebnis für Bild ADE_train_00012241.jpg gespeichert: results/opencv/ADE_train_00012241.jpg\n",
      "Ergebnis für Bild ADE_train_00001804.jpg gespeichert: results/opencv/ADE_train_00001804.jpg\n",
      "Ergebnis für Bild ADE_train_00022758.jpg gespeichert: results/opencv/ADE_train_00022758.jpg\n",
      "Ergebnis für Bild ADE_train_00013811.jpg gespeichert: results/opencv/ADE_train_00013811.jpg\n",
      "Ergebnis für Bild ADE_train_00001755.jpg gespeichert: results/opencv/ADE_train_00001755.jpg\n",
      "Ergebnis für Bild ADE_train_00001805.jpg gespeichert: results/opencv/ADE_train_00001805.jpg\n",
      "Ergebnis für Bild ADE_train_00022731.jpg gespeichert: results/opencv/ADE_train_00022731.jpg\n",
      "Ergebnis für Bild ADE_train_00009807.jpg gespeichert: results/opencv/ADE_train_00009807.jpg\n",
      "Ergebnis für Bild ADE_train_00001974.jpg gespeichert: results/opencv/ADE_train_00001974.jpg\n",
      "Ergebnis für Bild ADE_train_00020471.jpg gespeichert: results/opencv/ADE_train_00020471.jpg\n",
      "Ergebnis für Bild ADE_train_00002165.jpg gespeichert: results/opencv/ADE_train_00002165.jpg\n",
      "Ergebnis für Bild ADE_train_00024550.jpg gespeichert: results/opencv/ADE_train_00024550.jpg\n",
      "Ergebnis für Bild ADE_train_00006609.jpg gespeichert: results/opencv/ADE_train_00006609.jpg\n",
      "Ergebnis für Bild ADE_train_00010919.jpg gespeichert: results/opencv/ADE_train_00010919.jpg\n",
      "Ergebnis für Bild ADE_frame_00000005.jpg gespeichert: results/opencv/ADE_frame_00000005.jpg\n",
      "Ergebnis für Bild ADE_train_00022242.jpg gespeichert: results/opencv/ADE_train_00022242.jpg\n",
      "Ergebnis für Bild ADE_train_00004377.jpg gespeichert: results/opencv/ADE_train_00004377.jpg\n",
      "Ergebnis für Bild ADE_train_00001565.jpg gespeichert: results/opencv/ADE_train_00001565.jpg\n",
      "Ergebnis für Bild ADE_train_00012236.jpg gespeichert: results/opencv/ADE_train_00012236.jpg\n",
      "Ergebnis für Bild ADE_train_00003169.jpg gespeichert: results/opencv/ADE_train_00003169.jpg\n",
      "Ergebnis für Bild ADE_train_00012187.jpg gespeichert: results/opencv/ADE_train_00012187.jpg\n",
      "Ergebnis für Bild ADE_train_00022761.jpg gespeichert: results/opencv/ADE_train_00022761.jpg\n",
      "Ergebnis für Bild ADE_train_00001813.jpg gespeichert: results/opencv/ADE_train_00001813.jpg\n",
      "Ergebnis für Bild ADE_train_00008217.jpg gespeichert: results/opencv/ADE_train_00008217.jpg\n",
      "Ergebnis für Bild ADE_train_00007685.jpg gespeichert: results/opencv/ADE_train_00007685.jpg\n",
      "Ergebnis für Bild ADE_train_00001699.jpg gespeichert: results/opencv/ADE_train_00001699.jpg\n",
      "Ergebnis für Bild ADE_train_00002270.jpg gespeichert: results/opencv/ADE_train_00002270.jpg\n",
      "Ergebnis für Bild ADE_train_00002157.jpg gespeichert: results/opencv/ADE_train_00002157.jpg\n",
      "Ergebnis für Bild ADE_train_00003082.jpg gespeichert: results/opencv/ADE_train_00003082.jpg\n",
      "Ergebnis für Bild ADE_train_00022740.jpg gespeichert: results/opencv/ADE_train_00022740.jpg\n",
      "Ergebnis für Bild ADE_train_00002198.jpg gespeichert: results/opencv/ADE_train_00002198.jpg\n",
      "Ergebnis für Bild ADE_train_00001714.jpg gespeichert: results/opencv/ADE_train_00001714.jpg\n",
      "Ergebnis für Bild ADE_train_00002326.jpg gespeichert: results/opencv/ADE_train_00002326.jpg\n",
      "Ergebnis für Bild ADE_train_00003091.jpg gespeichert: results/opencv/ADE_train_00003091.jpg\n",
      "Ergebnis für Bild ADE_train_00019599.jpg gespeichert: results/opencv/ADE_train_00019599.jpg\n",
      "Ergebnis für Bild ADE_train_00003188.jpg gespeichert: results/opencv/ADE_train_00003188.jpg\n",
      "Ergebnis für Bild ADE_train_00000961.jpg gespeichert: results/opencv/ADE_train_00000961.jpg\n",
      "Ergebnis für Bild ADE_frame_00000141.jpg gespeichert: results/opencv/ADE_frame_00000141.jpg\n",
      "Ergebnis für Bild ADE_train_00001695.jpg gespeichert: results/opencv/ADE_train_00001695.jpg\n",
      "Ergebnis für Bild ADE_train_00019104.jpg gespeichert: results/opencv/ADE_train_00019104.jpg\n",
      "Ergebnis für Bild ADE_train_00002289.jpg gespeichert: results/opencv/ADE_train_00002289.jpg\n",
      "Ergebnis für Bild ADE_train_00001237.jpg gespeichert: results/opencv/ADE_train_00001237.jpg\n",
      "Ergebnis für Bild ADE_train_00001811.jpg gespeichert: results/opencv/ADE_train_00001811.jpg\n",
      "Ergebnis für Bild ADE_train_00005172.jpg gespeichert: results/opencv/ADE_train_00005172.jpg\n",
      "Ergebnis für Bild ADE_train_00007697.jpg gespeichert: results/opencv/ADE_train_00007697.jpg\n",
      "Ergebnis für Bild ADE_train_00002058.jpg gespeichert: results/opencv/ADE_train_00002058.jpg\n",
      "Ergebnis für Bild ADE_train_00008810.jpg gespeichert: results/opencv/ADE_train_00008810.jpg\n",
      "Ergebnis für Bild ADE_train_00020279.jpg gespeichert: results/opencv/ADE_train_00020279.jpg\n",
      "Ergebnis für Bild ADE_train_00022706.jpg gespeichert: results/opencv/ADE_train_00022706.jpg\n",
      "Ergebnis für Bild ADE_train_00001640.jpg gespeichert: results/opencv/ADE_train_00001640.jpg\n",
      "Ergebnis für Bild ADE_train_00023670.jpg gespeichert: results/opencv/ADE_train_00023670.jpg\n",
      "Ergebnis für Bild ADE_train_00000653.jpg gespeichert: results/opencv/ADE_train_00000653.jpg\n",
      "Ergebnis für Bild ADE_train_00021166.jpg gespeichert: results/opencv/ADE_train_00021166.jpg\n",
      "Ergebnis für Bild ADE_train_00015454.jpg gespeichert: results/opencv/ADE_train_00015454.jpg\n",
      "Ergebnis für Bild ADE_train_00001495.jpg gespeichert: results/opencv/ADE_train_00001495.jpg\n",
      "Ergebnis für Bild ADE_train_00001703.jpg gespeichert: results/opencv/ADE_train_00001703.jpg\n",
      "Ergebnis für Bild ADE_train_00020192.jpg gespeichert: results/opencv/ADE_train_00020192.jpg\n",
      "Ergebnis für Bild ADE_train_00020084.jpg gespeichert: results/opencv/ADE_train_00020084.jpg\n",
      "Ergebnis für Bild ADE_train_00002377.jpg gespeichert: results/opencv/ADE_train_00002377.jpg\n",
      "Ergebnis für Bild ADE_train_00009992.jpg gespeichert: results/opencv/ADE_train_00009992.jpg\n",
      "Ergebnis für Bild ADE_train_00012233.jpg gespeichert: results/opencv/ADE_train_00012233.jpg\n",
      "Ergebnis für Bild ADE_train_00016149.jpg gespeichert: results/opencv/ADE_train_00016149.jpg\n",
      "Ergebnis für Bild ADE_train_00019107.jpg gespeichert: results/opencv/ADE_train_00019107.jpg\n",
      "Ergebnis für Bild ADE_train_00024481.jpg gespeichert: results/opencv/ADE_train_00024481.jpg\n",
      "Ergebnis für Bild ADE_train_00002143.jpg gespeichert: results/opencv/ADE_train_00002143.jpg\n",
      "Ergebnis für Bild ADE_train_00020249.jpg gespeichert: results/opencv/ADE_train_00020249.jpg\n",
      "Ergebnis für Bild ADE_train_00002387.jpg gespeichert: results/opencv/ADE_train_00002387.jpg\n",
      "Ergebnis für Bild ADE_train_00019172.jpg gespeichert: results/opencv/ADE_train_00019172.jpg\n",
      "Ergebnis für Bild ADE_train_00024548.jpg gespeichert: results/opencv/ADE_train_00024548.jpg\n",
      "Ergebnis für Bild ADE_train_00005547.jpg gespeichert: results/opencv/ADE_train_00005547.jpg\n",
      "Ergebnis für Bild ADE_train_00012276.jpg gespeichert: results/opencv/ADE_train_00012276.jpg\n",
      "Ergebnis für Bild ADE_train_00002295.jpg gespeichert: results/opencv/ADE_train_00002295.jpg\n",
      "Ergebnis für Bild ADE_train_00008214.jpg gespeichert: results/opencv/ADE_train_00008214.jpg\n",
      "Ergebnis für Bild ADE_train_00002365.jpg gespeichert: results/opencv/ADE_train_00002365.jpg\n",
      "Ergebnis für Bild ADE_train_00020207.jpg gespeichert: results/opencv/ADE_train_00020207.jpg\n",
      "Ergebnis für Bild ADE_train_00007684.jpg gespeichert: results/opencv/ADE_train_00007684.jpg\n",
      "Ergebnis für Bild ADE_train_00001570.jpg gespeichert: results/opencv/ADE_train_00001570.jpg\n",
      "Ergebnis für Bild ADE_train_00007010.jpg gespeichert: results/opencv/ADE_train_00007010.jpg\n",
      "Ergebnis für Bild ADE_train_00006148.jpg gespeichert: results/opencv/ADE_train_00006148.jpg\n",
      "Ergebnis für Bild ADE_train_00020244.jpg gespeichert: results/opencv/ADE_train_00020244.jpg\n",
      "Ergebnis für Bild ADE_train_00001721.jpg gespeichert: results/opencv/ADE_train_00001721.jpg\n",
      "Ergebnis für Bild ADE_train_00001896.jpg gespeichert: results/opencv/ADE_train_00001896.jpg\n",
      "Ergebnis für Bild ADE_train_00001668.jpg gespeichert: results/opencv/ADE_train_00001668.jpg\n",
      "Ergebnis für Bild ADE_train_00002342.jpg gespeichert: results/opencv/ADE_train_00002342.jpg\n",
      "Ergebnis für Bild ADE_train_00015769.jpg gespeichert: results/opencv/ADE_train_00015769.jpg\n",
      "Ergebnis für Bild ADE_train_00002271.jpg gespeichert: results/opencv/ADE_train_00002271.jpg\n",
      "Ergebnis für Bild ADE_train_00021745.jpg gespeichert: results/opencv/ADE_train_00021745.jpg\n",
      "Ergebnis für Bild ADE_train_00001756.jpg gespeichert: results/opencv/ADE_train_00001756.jpg\n",
      "Ergebnis für Bild ADE_train_00002333.jpg gespeichert: results/opencv/ADE_train_00002333.jpg\n",
      "Ergebnis für Bild ADE_train_00009813.jpg gespeichert: results/opencv/ADE_train_00009813.jpg\n",
      "Ergebnis für Bild ADE_train_00005676.jpg gespeichert: results/opencv/ADE_train_00005676.jpg\n",
      "Ergebnis für Bild ADE_train_00011666.jpg gespeichert: results/opencv/ADE_train_00011666.jpg\n",
      "Ergebnis für Bild ADE_train_00009323.jpg gespeichert: results/opencv/ADE_train_00009323.jpg\n",
      "Ergebnis für Bild ADE_train_00016152.jpg gespeichert: results/opencv/ADE_train_00016152.jpg\n",
      "Ergebnis für Bild ADE_train_00023487.jpg gespeichert: results/opencv/ADE_train_00023487.jpg\n",
      "Ergebnis für Bild ADE_train_00000962.jpg gespeichert: results/opencv/ADE_train_00000962.jpg\n",
      "Ergebnis für Bild ADE_train_00019602.jpg gespeichert: results/opencv/ADE_train_00019602.jpg\n",
      "Ergebnis für Bild ADE_train_00001776.jpg gespeichert: results/opencv/ADE_train_00001776.jpg\n",
      "Ergebnis für Bild ADE_train_00001786.jpg gespeichert: results/opencv/ADE_train_00001786.jpg\n",
      "Ergebnis für Bild ADE_train_00002173.jpg gespeichert: results/opencv/ADE_train_00002173.jpg\n",
      "Ergebnis für Bild ADE_train_00022931.jpg gespeichert: results/opencv/ADE_train_00022931.jpg\n",
      "Ergebnis für Bild ADE_train_00009811.jpg gespeichert: results/opencv/ADE_train_00009811.jpg\n",
      "Ergebnis für Bild ADE_train_00011904.jpg gespeichert: results/opencv/ADE_train_00011904.jpg\n",
      "Ergebnis für Bild ADE_train_00000674.jpg gespeichert: results/opencv/ADE_train_00000674.jpg\n",
      "Ergebnis für Bild ADE_train_00000655.jpg gespeichert: results/opencv/ADE_train_00000655.jpg\n",
      "Ergebnis für Bild ADE_train_00022771.jpg gespeichert: results/opencv/ADE_train_00022771.jpg\n",
      "Ergebnis für Bild ADE_train_00002176.jpg gespeichert: results/opencv/ADE_train_00002176.jpg\n",
      "Ergebnis für Bild ADE_train_00019298.jpg gespeichert: results/opencv/ADE_train_00019298.jpg\n",
      "Ergebnis für Bild ADE_train_00025115.jpg gespeichert: results/opencv/ADE_train_00025115.jpg\n",
      "Ergebnis für Bild ADE_train_00022708.jpg gespeichert: results/opencv/ADE_train_00022708.jpg\n",
      "Ergebnis für Bild ADE_train_00020205.jpg gespeichert: results/opencv/ADE_train_00020205.jpg\n",
      "Ergebnis für Bild ADE_train_00022663.jpg gespeichert: results/opencv/ADE_train_00022663.jpg\n",
      "Ergebnis für Bild ADE_frame_00000192.jpg gespeichert: results/opencv/ADE_frame_00000192.jpg\n",
      "Ergebnis für Bild ADE_train_00003058.jpg gespeichert: results/opencv/ADE_train_00003058.jpg\n",
      "Ergebnis für Bild ADE_train_00005334.jpg gespeichert: results/opencv/ADE_train_00005334.jpg\n",
      "Ergebnis für Bild ADE_train_00019154.jpg gespeichert: results/opencv/ADE_train_00019154.jpg\n",
      "Ergebnis für Bild ADE_frame_00000152.jpg gespeichert: results/opencv/ADE_frame_00000152.jpg\n",
      "Ergebnis für Bild ADE_train_00002141.jpg gespeichert: results/opencv/ADE_train_00002141.jpg\n",
      "Ergebnis für Bild ADE_train_00000668.jpg gespeichert: results/opencv/ADE_train_00000668.jpg\n",
      "Ergebnis für Bild ADE_train_00008799.jpg gespeichert: results/opencv/ADE_train_00008799.jpg\n",
      "Ergebnis für Bild ADE_train_00019600.jpg gespeichert: results/opencv/ADE_train_00019600.jpg\n",
      "Ergebnis für Bild ADE_train_00023640.jpg gespeichert: results/opencv/ADE_train_00023640.jpg\n",
      "Ergebnis für Bild ADE_frame_00000219.jpg gespeichert: results/opencv/ADE_frame_00000219.jpg\n",
      "Ergebnis für Bild ADE_train_00022741.jpg gespeichert: results/opencv/ADE_train_00022741.jpg\n",
      "Ergebnis für Bild ADE_train_00019147.jpg gespeichert: results/opencv/ADE_train_00019147.jpg\n",
      "Ergebnis für Bild ADE_train_00007502.jpg gespeichert: results/opencv/ADE_train_00007502.jpg\n",
      "Ergebnis für Bild ADE_train_00022690.jpg gespeichert: results/opencv/ADE_train_00022690.jpg\n",
      "Ergebnis für Bild ADE_train_00001637.jpg gespeichert: results/opencv/ADE_train_00001637.jpg\n",
      "Ergebnis für Bild ADE_train_00001651.jpg gespeichert: results/opencv/ADE_train_00001651.jpg\n",
      "Ergebnis für Bild ADE_train_00019289.jpg gespeichert: results/opencv/ADE_train_00019289.jpg\n",
      "Ergebnis für Bild ADE_train_00021739.jpg gespeichert: results/opencv/ADE_train_00021739.jpg\n",
      "Ergebnis für Bild ADE_train_00019183.jpg gespeichert: results/opencv/ADE_train_00019183.jpg\n",
      "Ergebnis für Bild ADE_train_00001638.jpg gespeichert: results/opencv/ADE_train_00001638.jpg\n",
      "Ergebnis für Bild ADE_train_00009808.jpg gespeichert: results/opencv/ADE_train_00009808.jpg\n",
      "Ergebnis für Bild ADE_train_00001653.jpg gespeichert: results/opencv/ADE_train_00001653.jpg\n",
      "Ergebnis für Bild ADE_train_00001751.jpg gespeichert: results/opencv/ADE_train_00001751.jpg\n",
      "Ergebnis für Bild ADE_train_00011668.jpg gespeichert: results/opencv/ADE_train_00011668.jpg\n",
      "Ergebnis für Bild ADE_train_00021740.jpg gespeichert: results/opencv/ADE_train_00021740.jpg\n",
      "Ergebnis für Bild ADE_frame_00000007.jpg gespeichert: results/opencv/ADE_frame_00000007.jpg\n",
      "Ergebnis für Bild ADE_train_00025082.jpg gespeichert: results/opencv/ADE_train_00025082.jpg\n",
      "Ergebnis für Bild ADE_train_00016766.jpg gespeichert: results/opencv/ADE_train_00016766.jpg\n",
      "Ergebnis für Bild ADE_train_00019096.jpg gespeichert: results/opencv/ADE_train_00019096.jpg\n",
      "Ergebnis für Bild ADE_train_00020734.jpg gespeichert: results/opencv/ADE_train_00020734.jpg\n",
      "Ergebnis für Bild ADE_train_00012251.jpg gespeichert: results/opencv/ADE_train_00012251.jpg\n",
      "Ergebnis für Bild ADE_train_00015623.jpg gespeichert: results/opencv/ADE_train_00015623.jpg\n",
      "Ergebnis für Bild ADE_train_00003114.jpg gespeichert: results/opencv/ADE_train_00003114.jpg\n",
      "Ergebnis für Bild ADE_train_00019194.jpg gespeichert: results/opencv/ADE_train_00019194.jpg\n",
      "Ergebnis für Bild ADE_train_00022297.jpg gespeichert: results/opencv/ADE_train_00022297.jpg\n",
      "Ergebnis für Bild ADE_train_00012215.jpg gespeichert: results/opencv/ADE_train_00012215.jpg\n",
      "Ergebnis für Bild ADE_train_00015288.jpg gespeichert: results/opencv/ADE_train_00015288.jpg\n",
      "Ergebnis für Bild ADE_train_00019191.jpg gespeichert: results/opencv/ADE_train_00019191.jpg\n",
      "Ergebnis für Bild ADE_train_00001687.jpg gespeichert: results/opencv/ADE_train_00001687.jpg\n",
      "Ergebnis für Bild ADE_train_00003181.jpg gespeichert: results/opencv/ADE_train_00003181.jpg\n",
      "Ergebnis für Bild ADE_train_00005348.jpg gespeichert: results/opencv/ADE_train_00005348.jpg\n",
      "Ergebnis für Bild ADE_train_00002348.jpg gespeichert: results/opencv/ADE_train_00002348.jpg\n",
      "Ergebnis für Bild ADE_train_00002170.jpg gespeichert: results/opencv/ADE_train_00002170.jpg\n",
      "Ergebnis für Bild ADE_train_00010000.jpg gespeichert: results/opencv/ADE_train_00010000.jpg\n",
      "Ergebnis für Bild ADE_train_00021747.jpg gespeichert: results/opencv/ADE_train_00021747.jpg\n",
      "Ergebnis für Bild ADE_train_00002345.jpg gespeichert: results/opencv/ADE_train_00002345.jpg\n",
      "Ergebnis für Bild ADE_train_00001778.jpg gespeichert: results/opencv/ADE_train_00001778.jpg\n",
      "Ergebnis für Bild ADE_train_00006615.jpg gespeichert: results/opencv/ADE_train_00006615.jpg\n",
      "Ergebnis für Bild ADE_train_00005326.jpg gespeichert: results/opencv/ADE_train_00005326.jpg\n",
      "Ergebnis für Bild ADE_train_00003081.jpg gespeichert: results/opencv/ADE_train_00003081.jpg\n",
      "Ergebnis für Bild ADE_train_00020078.jpg gespeichert: results/opencv/ADE_train_00020078.jpg\n",
      "Ergebnis für Bild ADE_train_00002380.jpg gespeichert: results/opencv/ADE_train_00002380.jpg\n",
      "Ergebnis für Bild ADE_train_00022694.jpg gespeichert: results/opencv/ADE_train_00022694.jpg\n",
      "Ergebnis für Bild ADE_train_00020086.jpg gespeichert: results/opencv/ADE_train_00020086.jpg\n",
      "Ergebnis für Bild ADE_train_00019022.jpg gespeichert: results/opencv/ADE_train_00019022.jpg\n",
      "Ergebnis für Bild ADE_train_00002284.jpg gespeichert: results/opencv/ADE_train_00002284.jpg\n",
      "Ergebnis für Bild ADE_train_00006616.jpg gespeichert: results/opencv/ADE_train_00006616.jpg\n",
      "Ergebnis für Bild ADE_train_00001670.jpg gespeichert: results/opencv/ADE_train_00001670.jpg\n",
      "Ergebnis für Bild ADE_train_00023730.jpg gespeichert: results/opencv/ADE_train_00023730.jpg\n",
      "Ergebnis für Bild ADE_frame_00000027.jpg gespeichert: results/opencv/ADE_frame_00000027.jpg\n",
      "Ergebnis für Bild ADE_train_00002300.jpg gespeichert: results/opencv/ADE_train_00002300.jpg\n",
      "Ergebnis für Bild ADE_train_00013808.jpg gespeichert: results/opencv/ADE_train_00013808.jpg\n",
      "Ergebnis für Bild ADE_train_00001754.jpg gespeichert: results/opencv/ADE_train_00001754.jpg\n",
      "Ergebnis für Bild ADE_train_00012218.jpg gespeichert: results/opencv/ADE_train_00012218.jpg\n",
      "Ergebnis für Bild ADE_train_00006405.jpg gespeichert: results/opencv/ADE_train_00006405.jpg\n",
      "Ergebnis für Bild ADE_train_00002463.jpg gespeichert: results/opencv/ADE_train_00002463.jpg\n",
      "Ergebnis für Bild ADE_train_00008807.jpg gespeichert: results/opencv/ADE_train_00008807.jpg\n",
      "Ergebnis für Bild ADE_train_00011662.jpg gespeichert: results/opencv/ADE_train_00011662.jpg\n",
      "Ergebnis für Bild ADE_train_00002196.jpg gespeichert: results/opencv/ADE_train_00002196.jpg\n",
      "Ergebnis für Bild ADE_train_00007686.jpg gespeichert: results/opencv/ADE_train_00007686.jpg\n",
      "Ergebnis für Bild ADE_train_00022680.jpg gespeichert: results/opencv/ADE_train_00022680.jpg\n",
      "Ergebnis für Bild ADE_train_00001702.jpg gespeichert: results/opencv/ADE_train_00001702.jpg\n",
      "Ergebnis für Bild ADE_train_00002043.jpg gespeichert: results/opencv/ADE_train_00002043.jpg\n",
      "Ergebnis für Bild ADE_train_00002183.jpg gespeichert: results/opencv/ADE_train_00002183.jpg\n",
      "Ergebnis für Bild ADE_train_00008673.jpg gespeichert: results/opencv/ADE_train_00008673.jpg\n",
      "Ergebnis für Bild ADE_train_00002146.jpg gespeichert: results/opencv/ADE_train_00002146.jpg\n",
      "Ergebnis für Bild ADE_train_00024477.jpg gespeichert: results/opencv/ADE_train_00024477.jpg\n",
      "Ergebnis für Bild ADE_train_00002000.jpg gespeichert: results/opencv/ADE_train_00002000.jpg\n",
      "Ergebnis für Bild ADE_train_00024787.jpg gespeichert: results/opencv/ADE_train_00024787.jpg\n",
      "Ergebnis für Bild ADE_train_00012272.jpg gespeichert: results/opencv/ADE_train_00012272.jpg\n",
      "Ergebnis für Bild ADE_train_00001558.jpg gespeichert: results/opencv/ADE_train_00001558.jpg\n",
      "Ergebnis für Bild ADE_train_00023133.jpg gespeichert: results/opencv/ADE_train_00023133.jpg\n",
      "Ergebnis für Bild ADE_train_00001709.jpg gespeichert: results/opencv/ADE_train_00001709.jpg\n",
      "Ergebnis für Bild ADE_train_00000665.jpg gespeichert: results/opencv/ADE_train_00000665.jpg\n",
      "Ergebnis für Bild ADE_frame_00000209.jpg gespeichert: results/opencv/ADE_frame_00000209.jpg\n",
      "Ergebnis für Bild ADE_train_00019143.jpg gespeichert: results/opencv/ADE_train_00019143.jpg\n",
      "Ergebnis für Bild ADE_train_00000654.jpg gespeichert: results/opencv/ADE_train_00000654.jpg\n",
      "Ergebnis für Bild ADE_train_00025186.jpg gespeichert: results/opencv/ADE_train_00025186.jpg\n",
      "Ergebnis für Bild ADE_train_00010921.jpg gespeichert: results/opencv/ADE_train_00010921.jpg\n",
      "Ergebnis für Bild ADE_train_00005562.jpg gespeichert: results/opencv/ADE_train_00005562.jpg\n",
      "Ergebnis für Bild ADE_train_00001571.jpg gespeichert: results/opencv/ADE_train_00001571.jpg\n",
      "Ergebnis für Bild ADE_train_00022870.jpg gespeichert: results/opencv/ADE_train_00022870.jpg\n",
      "Ergebnis für Bild ADE_train_00022738.jpg gespeichert: results/opencv/ADE_train_00022738.jpg\n",
      "Ergebnis für Bild ADE_train_00011667.jpg gespeichert: results/opencv/ADE_train_00011667.jpg\n",
      "Ergebnis für Bild ADE_frame_00000094.jpg gespeichert: results/opencv/ADE_frame_00000094.jpg\n",
      "Ergebnis für Bild ADE_train_00002389.jpg gespeichert: results/opencv/ADE_train_00002389.jpg\n",
      "Ergebnis für Bild ADE_train_00004387.jpg gespeichert: results/opencv/ADE_train_00004387.jpg\n",
      "Ergebnis für Bild ADE_train_00019155.jpg gespeichert: results/opencv/ADE_train_00019155.jpg\n",
      "Ergebnis für Bild ADE_train_00012234.jpg gespeichert: results/opencv/ADE_train_00012234.jpg\n",
      "Ergebnis für Bild ADE_train_00023733.jpg gespeichert: results/opencv/ADE_train_00023733.jpg\n",
      "Ergebnis für Bild ADE_train_00012273.jpg gespeichert: results/opencv/ADE_train_00012273.jpg\n",
      "Ergebnis für Bild ADE_train_00013813.jpg gespeichert: results/opencv/ADE_train_00013813.jpg\n",
      "Ergebnis für Bild ADE_train_00001800.jpg gespeichert: results/opencv/ADE_train_00001800.jpg\n",
      "Ergebnis für Bild ADE_train_00009348.jpg gespeichert: results/opencv/ADE_train_00009348.jpg\n",
      "Ergebnis für Bild ADE_train_00001679.jpg gespeichert: results/opencv/ADE_train_00001679.jpg\n",
      "Ergebnis für Bild ADE_train_00001691.jpg gespeichert: results/opencv/ADE_train_00001691.jpg\n",
      "Ergebnis für Bild ADE_train_00019786.jpg gespeichert: results/opencv/ADE_train_00019786.jpg\n",
      "Ergebnis für Bild ADE_train_00001744.jpg gespeichert: results/opencv/ADE_train_00001744.jpg\n",
      "Ergebnis für Bild ADE_frame_00000053.jpg gespeichert: results/opencv/ADE_frame_00000053.jpg\n",
      "Ergebnis für Bild ADE_train_00015702.jpg gespeichert: results/opencv/ADE_train_00015702.jpg\n",
      "Ergebnis für Bild ADE_train_00020080.jpg gespeichert: results/opencv/ADE_train_00020080.jpg\n",
      "Ergebnis für Bild ADE_train_00016346.jpg gespeichert: results/opencv/ADE_train_00016346.jpg\n",
      "Ergebnis für Bild ADE_train_00019106.jpg gespeichert: results/opencv/ADE_train_00019106.jpg\n",
      "Ergebnis für Bild ADE_train_00005392.jpg gespeichert: results/opencv/ADE_train_00005392.jpg\n",
      "Ergebnis für Bild ADE_train_00002169.jpg gespeichert: results/opencv/ADE_train_00002169.jpg\n",
      "Ergebnis für Bild ADE_train_00001779.jpg gespeichert: results/opencv/ADE_train_00001779.jpg\n",
      "Ergebnis für Bild ADE_train_00001743.jpg gespeichert: results/opencv/ADE_train_00001743.jpg\n",
      "Ergebnis für Bild ADE_train_00001884.jpg gespeichert: results/opencv/ADE_train_00001884.jpg\n",
      "Ergebnis für Bild ADE_train_00001718.jpg gespeichert: results/opencv/ADE_train_00001718.jpg\n",
      "Ergebnis für Bild ADE_train_00000662.jpg gespeichert: results/opencv/ADE_train_00000662.jpg\n",
      "Ergebnis für Bild ADE_train_00001559.jpg gespeichert: results/opencv/ADE_train_00001559.jpg\n",
      "Ergebnis für Bild ADE_frame_00000255.jpg gespeichert: results/opencv/ADE_frame_00000255.jpg\n",
      "Ergebnis für Bild ADE_train_00001659.jpg gespeichert: results/opencv/ADE_train_00001659.jpg\n",
      "Ergebnis für Bild ADE_train_00009995.jpg gespeichert: results/opencv/ADE_train_00009995.jpg\n",
      "Ergebnis für Bild ADE_train_00001736.jpg gespeichert: results/opencv/ADE_train_00001736.jpg\n",
      "Ergebnis für Bild ADE_train_00010927.jpg gespeichert: results/opencv/ADE_train_00010927.jpg\n",
      "Ergebnis für Bild ADE_train_00022527.jpg gespeichert: results/opencv/ADE_train_00022527.jpg\n",
      "Ergebnis für Bild ADE_frame_00000153.jpg gespeichert: results/opencv/ADE_frame_00000153.jpg\n",
      "Ergebnis für Bild ADE_train_00007505.jpg gespeichert: results/opencv/ADE_train_00007505.jpg\n",
      "Ergebnis für Bild ADE_train_00001560.jpg gespeichert: results/opencv/ADE_train_00001560.jpg\n",
      "Ergebnis für Bild ADE_train_00009977.jpg gespeichert: results/opencv/ADE_train_00009977.jpg\n",
      "Ergebnis für Bild ADE_train_00002189.jpg gespeichert: results/opencv/ADE_train_00002189.jpg\n",
      "Ergebnis für Bild ADE_train_00024482.jpg gespeichert: results/opencv/ADE_train_00024482.jpg\n",
      "Ergebnis für Bild ADE_train_00022759.jpg gespeichert: results/opencv/ADE_train_00022759.jpg\n",
      "Ergebnis für Bild ADE_train_00000669.jpg gespeichert: results/opencv/ADE_train_00000669.jpg\n",
      "Ergebnis für Bild ADE_train_00002299.jpg gespeichert: results/opencv/ADE_train_00002299.jpg\n",
      "Ergebnis für Bild ADE_train_00001732.jpg gespeichert: results/opencv/ADE_train_00001732.jpg\n",
      "Ergebnis für Bild ADE_train_00000003.jpg gespeichert: results/opencv/ADE_train_00000003.jpg\n",
      "Ergebnis für Bild ADE_train_00022636.jpg gespeichert: results/opencv/ADE_train_00022636.jpg\n",
      "Ergebnis für Bild ADE_train_00005393.jpg gespeichert: results/opencv/ADE_train_00005393.jpg\n",
      "Ergebnis für Bild ADE_train_00024828.jpg gespeichert: results/opencv/ADE_train_00024828.jpg\n",
      "Ergebnis für Bild ADE_train_00007683.jpg gespeichert: results/opencv/ADE_train_00007683.jpg\n",
      "Ergebnis für Bild ADE_train_00022632.jpg gespeichert: results/opencv/ADE_train_00022632.jpg\n",
      "Ergebnis für Bild ADE_train_00001660.jpg gespeichert: results/opencv/ADE_train_00001660.jpg\n",
      "Ergebnis für Bild ADE_train_00022774.jpg gespeichert: results/opencv/ADE_train_00022774.jpg\n",
      "Ergebnis für Bild ADE_train_00001661.jpg gespeichert: results/opencv/ADE_train_00001661.jpg\n",
      "Ergebnis für Bild ADE_train_00021167.jpg gespeichert: results/opencv/ADE_train_00021167.jpg\n",
      "Ergebnis für Bild ADE_train_00002184.jpg gespeichert: results/opencv/ADE_train_00002184.jpg\n",
      "Ergebnis für Bild ADE_train_00019005.jpg gespeichert: results/opencv/ADE_train_00019005.jpg\n",
      "Ergebnis für Bild ADE_train_00021744.jpg gespeichert: results/opencv/ADE_train_00021744.jpg\n",
      "Ergebnis für Bild ADE_train_00003165.jpg gespeichert: results/opencv/ADE_train_00003165.jpg\n",
      "Ergebnis für Bild ADE_train_00008811.jpg gespeichert: results/opencv/ADE_train_00008811.jpg\n",
      "Ergebnis für Bild ADE_train_00000652.jpg gespeichert: results/opencv/ADE_train_00000652.jpg\n",
      "Ergebnis für Bild ADE_train_00001792.jpg gespeichert: results/opencv/ADE_train_00001792.jpg\n",
      "Ergebnis für Bild ADE_train_00024547.jpg gespeichert: results/opencv/ADE_train_00024547.jpg\n",
      "Ergebnis für Bild ADE_train_00022689.jpg gespeichert: results/opencv/ADE_train_00022689.jpg\n",
      "Ergebnis für Bild ADE_train_00002383.jpg gespeichert: results/opencv/ADE_train_00002383.jpg\n",
      "Ergebnis für Bild ADE_train_00002171.jpg gespeichert: results/opencv/ADE_train_00002171.jpg\n",
      "Ergebnis für Bild ADE_train_00011598.jpg gespeichert: results/opencv/ADE_train_00011598.jpg\n",
      "Ergebnis für Bild ADE_train_00002339.jpg gespeichert: results/opencv/ADE_train_00002339.jpg\n",
      "Ergebnis für Bild ADE_train_00010926.jpg gespeichert: results/opencv/ADE_train_00010926.jpg\n",
      "Ergebnis für Bild ADE_train_00001768.jpg gespeichert: results/opencv/ADE_train_00001768.jpg\n",
      "Ergebnis für Bild ADE_train_00001719.jpg gespeichert: results/opencv/ADE_train_00001719.jpg\n",
      "Ergebnis für Bild ADE_train_00002374.jpg gespeichert: results/opencv/ADE_train_00002374.jpg\n",
      "Ergebnis für Bild ADE_train_00001647.jpg gespeichert: results/opencv/ADE_train_00001647.jpg\n",
      "Ergebnis für Bild ADE_train_00000960.jpg gespeichert: results/opencv/ADE_train_00000960.jpg\n",
      "Ergebnis für Bild ADE_train_00008814.jpg gespeichert: results/opencv/ADE_train_00008814.jpg\n",
      "Ergebnis für Bild ADE_train_00001770.jpg gespeichert: results/opencv/ADE_train_00001770.jpg\n",
      "Ergebnis für Bild ADE_train_00001777.jpg gespeichert: results/opencv/ADE_train_00001777.jpg\n",
      "Ergebnis für Bild ADE_train_00008809.jpg gespeichert: results/opencv/ADE_train_00008809.jpg\n",
      "Ergebnis für Bild ADE_train_00004252.jpg gespeichert: results/opencv/ADE_train_00004252.jpg\n",
      "Ergebnis für Bild ADE_train_00020233.jpg gespeichert: results/opencv/ADE_train_00020233.jpg\n",
      "Ergebnis für Bild ADE_train_00009347.jpg gespeichert: results/opencv/ADE_train_00009347.jpg\n",
      "Ergebnis für Bild ADE_frame_00000021.jpg gespeichert: results/opencv/ADE_frame_00000021.jpg\n",
      "Ergebnis für Bild ADE_train_00008813.jpg gespeichert: results/opencv/ADE_train_00008813.jpg\n",
      "Ergebnis für Bild ADE_train_00024427.jpg gespeichert: results/opencv/ADE_train_00024427.jpg\n",
      "Ergebnis für Bild ADE_train_00002185.jpg gespeichert: results/opencv/ADE_train_00002185.jpg\n",
      "Ergebnis für Bild ADE_train_00003080.jpg gespeichert: results/opencv/ADE_train_00003080.jpg\n",
      "Ergebnis für Bild ADE_train_00004244.jpg gespeichert: results/opencv/ADE_train_00004244.jpg\n",
      "Ergebnis für Bild ADE_train_00011711.jpg gespeichert: results/opencv/ADE_train_00011711.jpg\n",
      "Ergebnis für Bild ADE_train_00024363.jpg gespeichert: results/opencv/ADE_train_00024363.jpg\n",
      "Ergebnis für Bild ADE_train_00002051.jpg gespeichert: results/opencv/ADE_train_00002051.jpg\n",
      "Ergebnis für Bild ADE_train_00022687.jpg gespeichert: results/opencv/ADE_train_00022687.jpg\n",
      "Ergebnis für Bild ADE_train_00012183.jpg gespeichert: results/opencv/ADE_train_00012183.jpg\n",
      "Ergebnis für Bild ADE_train_00022985.jpg gespeichert: results/opencv/ADE_train_00022985.jpg\n",
      "Ergebnis für Bild ADE_train_00001723.jpg gespeichert: results/opencv/ADE_train_00001723.jpg\n",
      "Ergebnis für Bild ADE_train_00002416.jpg gespeichert: results/opencv/ADE_train_00002416.jpg\n",
      "Ergebnis für Bild ADE_train_00024823.jpg gespeichert: results/opencv/ADE_train_00024823.jpg\n",
      "Ergebnis für Bild ADE_train_00019196.jpg gespeichert: results/opencv/ADE_train_00019196.jpg\n",
      "Ergebnis für Bild ADE_train_00023743.jpg gespeichert: results/opencv/ADE_train_00023743.jpg\n",
      "Ergebnis für Bild ADE_train_00002154.jpg gespeichert: results/opencv/ADE_train_00002154.jpg\n",
      "Ergebnis für Bild ADE_train_00004397.jpg gespeichert: results/opencv/ADE_train_00004397.jpg\n",
      "Ergebnis für Bild ADE_train_00001734.jpg gespeichert: results/opencv/ADE_train_00001734.jpg\n",
      "Ergebnis für Bild ADE_train_00023672.jpg gespeichert: results/opencv/ADE_train_00023672.jpg\n",
      "Ergebnis für Bild ADE_train_00015628.jpg gespeichert: results/opencv/ADE_train_00015628.jpg\n",
      "Ergebnis für Bild ADE_train_00020589.jpg gespeichert: results/opencv/ADE_train_00020589.jpg\n",
      "Ergebnis für Bild ADE_train_00002425.jpg gespeichert: results/opencv/ADE_train_00002425.jpg\n",
      "Ergebnis für Bild ADE_train_00002343.jpg gespeichert: results/opencv/ADE_train_00002343.jpg\n",
      "Ergebnis für Bild ADE_train_00019146.jpg gespeichert: results/opencv/ADE_train_00019146.jpg\n",
      "Ergebnis für Bild ADE_train_00013812.jpg gespeichert: results/opencv/ADE_train_00013812.jpg\n",
      "Ergebnis für Bild ADE_train_00001641.jpg gespeichert: results/opencv/ADE_train_00001641.jpg\n",
      "Ergebnis für Bild ADE_train_00016344.jpg gespeichert: results/opencv/ADE_train_00016344.jpg\n",
      "Ergebnis für Bild ADE_train_00024688.jpg gespeichert: results/opencv/ADE_train_00024688.jpg\n",
      "Ergebnis für Bild ADE_train_00001672.jpg gespeichert: results/opencv/ADE_train_00001672.jpg\n",
      "Ergebnis für Bild ADE_train_00010768.jpg gespeichert: results/opencv/ADE_train_00010768.jpg\n",
      "Ergebnis für Bild ADE_train_00007699.jpg gespeichert: results/opencv/ADE_train_00007699.jpg\n",
      "Ergebnis für Bild ADE_train_00022725.jpg gespeichert: results/opencv/ADE_train_00022725.jpg\n",
      "Ergebnis für Bild ADE_train_00008816.jpg gespeichert: results/opencv/ADE_train_00008816.jpg\n",
      "Ergebnis für Bild ADE_train_00010765.jpg gespeichert: results/opencv/ADE_train_00010765.jpg\n",
      "Ergebnis für Bild ADE_train_00023926.jpg gespeichert: results/opencv/ADE_train_00023926.jpg\n",
      "Ergebnis für Bild ADE_train_00002062.jpg gespeichert: results/opencv/ADE_train_00002062.jpg\n",
      "Ergebnis für Bild ADE_train_00016763.jpg gespeichert: results/opencv/ADE_train_00016763.jpg\n",
      "Ergebnis für Bild ADE_train_00002148.jpg gespeichert: results/opencv/ADE_train_00002148.jpg\n",
      "Ergebnis für Bild ADE_train_00001682.jpg gespeichert: results/opencv/ADE_train_00001682.jpg\n",
      "Ergebnis für Bild ADE_train_00002168.jpg gespeichert: results/opencv/ADE_train_00002168.jpg\n",
      "Ergebnis für Bild ADE_train_00007510.jpg gespeichert: results/opencv/ADE_train_00007510.jpg\n",
      "Ergebnis für Bild ADE_train_00001715.jpg gespeichert: results/opencv/ADE_train_00001715.jpg\n",
      "Ergebnis für Bild ADE_train_00001766.jpg gespeichert: results/opencv/ADE_train_00001766.jpg\n",
      "Ergebnis für Bild ADE_train_00003092.jpg gespeichert: results/opencv/ADE_train_00003092.jpg\n",
      "Ergebnis für Bild ADE_train_00007698.jpg gespeichert: results/opencv/ADE_train_00007698.jpg\n",
      "Ergebnis für Bild ADE_train_00001646.jpg gespeichert: results/opencv/ADE_train_00001646.jpg\n",
      "Ergebnis für Bild ADE_train_00011914.jpg gespeichert: results/opencv/ADE_train_00011914.jpg\n",
      "Ergebnis für Bild ADE_train_00010978.jpg gespeichert: results/opencv/ADE_train_00010978.jpg\n",
      "Ergebnis für Bild ADE_train_00019102.jpg gespeichert: results/opencv/ADE_train_00019102.jpg\n",
      "Ergebnis für Bild ADE_train_00022713.jpg gespeichert: results/opencv/ADE_train_00022713.jpg\n",
      "Ergebnis für Bild ADE_frame_00000043.jpg gespeichert: results/opencv/ADE_frame_00000043.jpg\n",
      "Ergebnis für Bild ADE_train_00012253.jpg gespeichert: results/opencv/ADE_train_00012253.jpg\n",
      "Ergebnis für Bild ADE_train_00001705.jpg gespeichert: results/opencv/ADE_train_00001705.jpg\n",
      "Ergebnis für Bild ADE_train_00021741.jpg gespeichert: results/opencv/ADE_train_00021741.jpg\n",
      "Ergebnis für Bild ADE_train_00019300.jpg gespeichert: results/opencv/ADE_train_00019300.jpg\n",
      "Ergebnis für Bild ADE_frame_00000045.jpg gespeichert: results/opencv/ADE_frame_00000045.jpg\n",
      "Ergebnis für Bild ADE_train_00005167.jpg gespeichert: results/opencv/ADE_train_00005167.jpg\n",
      "Ergebnis für Bild ADE_train_00019201.jpg gespeichert: results/opencv/ADE_train_00019201.jpg\n",
      "Ergebnis für Bild ADE_train_00025156.jpg gespeichert: results/opencv/ADE_train_00025156.jpg\n",
      "Ergebnis für Bild ADE_train_00011670.jpg gespeichert: results/opencv/ADE_train_00011670.jpg\n",
      "Ergebnis für Bild ADE_train_00019293.jpg gespeichert: results/opencv/ADE_train_00019293.jpg\n",
      "Ergebnis für Bild ADE_train_00001675.jpg gespeichert: results/opencv/ADE_train_00001675.jpg\n",
      "Ergebnis für Bild ADE_train_00011597.jpg gespeichert: results/opencv/ADE_train_00011597.jpg\n",
      "Ergebnis für Bild ADE_train_00011588.jpg gespeichert: results/opencv/ADE_train_00011588.jpg\n",
      "Ergebnis für Bild ADE_train_00002057.jpg gespeichert: results/opencv/ADE_train_00002057.jpg\n",
      "Ergebnis für Bild ADE_train_00002376.jpg gespeichert: results/opencv/ADE_train_00002376.jpg\n",
      "Ergebnis für Bild ADE_train_00025110.jpg gespeichert: results/opencv/ADE_train_00025110.jpg\n",
      "Ergebnis für Bild ADE_train_00012188.jpg gespeichert: results/opencv/ADE_train_00012188.jpg\n",
      "Ergebnis für Bild ADE_train_00002052.jpg gespeichert: results/opencv/ADE_train_00002052.jpg\n",
      "Ergebnis für Bild ADE_train_00001903.jpg gespeichert: results/opencv/ADE_train_00001903.jpg\n",
      "Ergebnis für Bild ADE_train_00001592.jpg gespeichert: results/opencv/ADE_train_00001592.jpg\n",
      "Ergebnis für Bild ADE_train_00001666.jpg gespeichert: results/opencv/ADE_train_00001666.jpg\n",
      "Ergebnis für Bild ADE_train_00016767.jpg gespeichert: results/opencv/ADE_train_00016767.jpg\n",
      "Ergebnis für Bild ADE_train_00006612.jpg gespeichert: results/opencv/ADE_train_00006612.jpg\n",
      "Ergebnis für Bild ADE_train_00025188.jpg gespeichert: results/opencv/ADE_train_00025188.jpg\n",
      "Ergebnis für Bild ADE_train_00001995.jpg gespeichert: results/opencv/ADE_train_00001995.jpg\n",
      "Ergebnis für Bild ADE_train_00002391.jpg gespeichert: results/opencv/ADE_train_00002391.jpg\n",
      "Ergebnis für Bild ADE_train_00004254.jpg gespeichert: results/opencv/ADE_train_00004254.jpg\n",
      "Ergebnis für Bild ADE_train_00022764.jpg gespeichert: results/opencv/ADE_train_00022764.jpg\n",
      "Ergebnis für Bild ADE_train_00005329.jpg gespeichert: results/opencv/ADE_train_00005329.jpg\n",
      "Ergebnis für Bild ADE_train_00022702.jpg gespeichert: results/opencv/ADE_train_00022702.jpg\n",
      "Ergebnis für Bild ADE_train_00002055.jpg gespeichert: results/opencv/ADE_train_00002055.jpg\n",
      "Ergebnis für Bild ADE_train_00019296.jpg gespeichert: results/opencv/ADE_train_00019296.jpg\n",
      "Ergebnis für Bild ADE_train_00001696.jpg gespeichert: results/opencv/ADE_train_00001696.jpg\n",
      "Ergebnis für Bild ADE_train_00020236.jpg gespeichert: results/opencv/ADE_train_00020236.jpg\n",
      "Ergebnis für Bild ADE_train_00002149.jpg gespeichert: results/opencv/ADE_train_00002149.jpg\n",
      "Ergebnis für Bild ADE_train_00000673.jpg gespeichert: results/opencv/ADE_train_00000673.jpg\n",
      "Ergebnis für Bild ADE_train_00022241.jpg gespeichert: results/opencv/ADE_train_00022241.jpg\n",
      "Ergebnis für Bild ADE_train_00002277.jpg gespeichert: results/opencv/ADE_train_00002277.jpg\n",
      "Ergebnis für Bild ADE_train_00002350.jpg gespeichert: results/opencv/ADE_train_00002350.jpg\n",
      "Ergebnis für Bild ADE_train_00002335.jpg gespeichert: results/opencv/ADE_train_00002335.jpg\n",
      "Ergebnis für Bild ADE_frame_00000105.jpg gespeichert: results/opencv/ADE_frame_00000105.jpg\n",
      "Ergebnis für Bild ADE_train_00023136.jpg gespeichert: results/opencv/ADE_train_00023136.jpg\n",
      "Ergebnis für Bild ADE_train_00004253.jpg gespeichert: results/opencv/ADE_train_00004253.jpg\n",
      "Ergebnis für Bild ADE_train_00019142.jpg gespeichert: results/opencv/ADE_train_00019142.jpg\n",
      "Ergebnis für Bild ADE_train_00024074.jpg gespeichert: results/opencv/ADE_train_00024074.jpg\n",
      "Ergebnis für Bild ADE_train_00004385.jpg gespeichert: results/opencv/ADE_train_00004385.jpg\n",
      "Ergebnis für Bild ADE_frame_00000205.jpg gespeichert: results/opencv/ADE_frame_00000205.jpg\n",
      "Ergebnis für Bild ADE_train_00023739.jpg gespeichert: results/opencv/ADE_train_00023739.jpg\n",
      "Ergebnis für Bild ADE_train_00001494.jpg gespeichert: results/opencv/ADE_train_00001494.jpg\n",
      "Ergebnis für Bild ADE_train_00001710.jpg gespeichert: results/opencv/ADE_train_00001710.jpg\n",
      "Ergebnis für Bild ADE_train_00006619.jpg gespeichert: results/opencv/ADE_train_00006619.jpg\n",
      "Ergebnis für Bild ADE_train_00001642.jpg gespeichert: results/opencv/ADE_train_00001642.jpg\n",
      "Ergebnis für Bild ADE_train_00019292.jpg gespeichert: results/opencv/ADE_train_00019292.jpg\n",
      "Ergebnis für Bild ADE_frame_00000264.jpg gespeichert: results/opencv/ADE_frame_00000264.jpg\n",
      "Ergebnis für Bild ADE_train_00002268.jpg gespeichert: results/opencv/ADE_train_00002268.jpg\n",
      "Ergebnis für Bild ADE_train_00019285.jpg gespeichert: results/opencv/ADE_train_00019285.jpg\n",
      "Ergebnis für Bild ADE_train_00005338.jpg gespeichert: results/opencv/ADE_train_00005338.jpg\n",
      "Ergebnis für Bild ADE_train_00020474.jpg gespeichert: results/opencv/ADE_train_00020474.jpg\n",
      "Ergebnis für Bild ADE_train_00023925.jpg gespeichert: results/opencv/ADE_train_00023925.jpg\n",
      "Ergebnis für Bild ADE_train_00022688.jpg gespeichert: results/opencv/ADE_train_00022688.jpg\n",
      "Ergebnis für Bild ADE_train_00001591.jpg gespeichert: results/opencv/ADE_train_00001591.jpg\n",
      "Ergebnis für Bild ADE_train_00001733.jpg gespeichert: results/opencv/ADE_train_00001733.jpg\n",
      "Ergebnis für Bild ADE_train_00019101.jpg gespeichert: results/opencv/ADE_train_00019101.jpg\n",
      "Ergebnis für Bild ADE_train_00008817.jpg gespeichert: results/opencv/ADE_train_00008817.jpg\n",
      "Ergebnis für Bild ADE_train_00020085.jpg gespeichert: results/opencv/ADE_train_00020085.jpg\n",
      "Ergebnis für Bild ADE_train_00003166.jpg gespeichert: results/opencv/ADE_train_00003166.jpg\n",
      "Ergebnis für Bild ADE_train_00007504.jpg gespeichert: results/opencv/ADE_train_00007504.jpg\n",
      "Ergebnis für Bild ADE_train_00005554.jpg gespeichert: results/opencv/ADE_train_00005554.jpg\n",
      "Ergebnis für Bild ADE_train_00011665.jpg gespeichert: results/opencv/ADE_train_00011665.jpg\n",
      "Ergebnis für Bild ADE_train_00022739.jpg gespeichert: results/opencv/ADE_train_00022739.jpg\n",
      "Ergebnis für Bild ADE_train_00022648.jpg gespeichert: results/opencv/ADE_train_00022648.jpg\n",
      "Ergebnis für Bild ADE_train_00001692.jpg gespeichert: results/opencv/ADE_train_00001692.jpg\n",
      "Ergebnis für Bild ADE_train_00002147.jpg gespeichert: results/opencv/ADE_train_00002147.jpg\n",
      "Ergebnis für Bild ADE_train_00010951.jpg gespeichert: results/opencv/ADE_train_00010951.jpg\n",
      "Ergebnis für Bild ADE_train_00001752.jpg gespeichert: results/opencv/ADE_train_00001752.jpg\n",
      "Ergebnis für Bild ADE_train_00001742.jpg gespeichert: results/opencv/ADE_train_00001742.jpg\n",
      "Ergebnis für Bild ADE_train_00016343.jpg gespeichert: results/opencv/ADE_train_00016343.jpg\n",
      "Ergebnis für Bild ADE_train_00022721.jpg gespeichert: results/opencv/ADE_train_00022721.jpg\n",
      "Ergebnis für Bild ADE_train_00007692.jpg gespeichert: results/opencv/ADE_train_00007692.jpg\n",
      "Ergebnis für Bild ADE_train_00001729.jpg gespeichert: results/opencv/ADE_train_00001729.jpg\n",
      "Ergebnis für Bild ADE_train_00008299.jpg gespeichert: results/opencv/ADE_train_00008299.jpg\n",
      "Ergebnis für Bild ADE_train_00010763.jpg gespeichert: results/opencv/ADE_train_00010763.jpg\n",
      "Ergebnis für Bild ADE_train_00002142.jpg gespeichert: results/opencv/ADE_train_00002142.jpg\n",
      "Ergebnis für Bild ADE_train_00019598.jpg gespeichert: results/opencv/ADE_train_00019598.jpg\n",
      "Ergebnis für Bild ADE_train_00024254.jpg gespeichert: results/opencv/ADE_train_00024254.jpg\n",
      "Ergebnis für Bild ADE_train_00001988.jpg gespeichert: results/opencv/ADE_train_00001988.jpg\n",
      "Ergebnis für Bild ADE_train_00025023.jpg gespeichert: results/opencv/ADE_train_00025023.jpg\n",
      "Ergebnis für Bild ADE_train_00002384.jpg gespeichert: results/opencv/ADE_train_00002384.jpg\n",
      "Ergebnis für Bild ADE_train_00001948.jpg gespeichert: results/opencv/ADE_train_00001948.jpg\n",
      "Ergebnis für Bild ADE_train_00019295.jpg gespeichert: results/opencv/ADE_train_00019295.jpg\n",
      "Ergebnis für Bild ADE_train_00001684.jpg gespeichert: results/opencv/ADE_train_00001684.jpg\n",
      "Ergebnis für Bild ADE_train_00011595.jpg gespeichert: results/opencv/ADE_train_00011595.jpg\n",
      "Ergebnis für Bild ADE_train_00001764.jpg gespeichert: results/opencv/ADE_train_00001764.jpg\n",
      "Ergebnis für Bild ADE_train_00019205.jpg gespeichert: results/opencv/ADE_train_00019205.jpg\n",
      "Ergebnis für Bild ADE_train_00014180.jpg gespeichert: results/opencv/ADE_train_00014180.jpg\n",
      "Ergebnis für Bild ADE_train_00001731.jpg gespeichert: results/opencv/ADE_train_00001731.jpg\n",
      "Ergebnis für Bild ADE_train_00022772.jpg gespeichert: results/opencv/ADE_train_00022772.jpg\n",
      "Ergebnis für Bild ADE_train_00001335.jpg gespeichert: results/opencv/ADE_train_00001335.jpg\n",
      "Ergebnis für Bild ADE_train_00001662.jpg gespeichert: results/opencv/ADE_train_00001662.jpg\n",
      "Ergebnis für Bild ADE_train_00001671.jpg gespeichert: results/opencv/ADE_train_00001671.jpg\n",
      "Ergebnis für Bild ADE_train_00025081.jpg gespeichert: results/opencv/ADE_train_00025081.jpg\n",
      "Ergebnis für Bild ADE_train_00001894.jpg gespeichert: results/opencv/ADE_train_00001894.jpg\n",
      "Ergebnis für Bild ADE_train_00009997.jpg gespeichert: results/opencv/ADE_train_00009997.jpg\n",
      "Ergebnis für Bild ADE_train_00001564.jpg gespeichert: results/opencv/ADE_train_00001564.jpg\n",
      "Ergebnis für Bild ADE_train_00015455.jpg gespeichert: results/opencv/ADE_train_00015455.jpg\n",
      "Ergebnis für Bild ADE_train_00005556.jpg gespeichert: results/opencv/ADE_train_00005556.jpg\n",
      "Ergebnis für Bild ADE_train_00015775.jpg gespeichert: results/opencv/ADE_train_00015775.jpg\n",
      "Ergebnis für Bild ADE_train_00020204.jpg gespeichert: results/opencv/ADE_train_00020204.jpg\n",
      "Ergebnis für Bild ADE_train_00002370.jpg gespeichert: results/opencv/ADE_train_00002370.jpg\n",
      "Ergebnis für Bild ADE_train_00001737.jpg gespeichert: results/opencv/ADE_train_00001737.jpg\n",
      "Ergebnis für Bild ADE_train_00001899.jpg gespeichert: results/opencv/ADE_train_00001899.jpg\n",
      "Ergebnis für Bild ADE_train_00002334.jpg gespeichert: results/opencv/ADE_train_00002334.jpg\n",
      "Ergebnis für Bild ADE_train_00005331.jpg gespeichert: results/opencv/ADE_train_00005331.jpg\n",
      "Ergebnis für Bild ADE_train_00004383.jpg gespeichert: results/opencv/ADE_train_00004383.jpg\n",
      "Ergebnis für Bild ADE_train_00000666.jpg gespeichert: results/opencv/ADE_train_00000666.jpg\n",
      "Ergebnis für Bild ADE_train_00019097.jpg gespeichert: results/opencv/ADE_train_00019097.jpg\n",
      "Ergebnis für Bild ADE_train_00025187.jpg gespeichert: results/opencv/ADE_train_00025187.jpg\n",
      "Ergebnis für Bild ADE_train_00024553.jpg gespeichert: results/opencv/ADE_train_00024553.jpg\n",
      "Ergebnis für Bild ADE_train_00011590.jpg gespeichert: results/opencv/ADE_train_00011590.jpg\n",
      "Ergebnis für Bild ADE_train_00001796.jpg gespeichert: results/opencv/ADE_train_00001796.jpg\n",
      "Ergebnis für Bild ADE_train_00001799.jpg gespeichert: results/opencv/ADE_train_00001799.jpg\n",
      "Ergebnis für Bild ADE_train_00006614.jpg gespeichert: results/opencv/ADE_train_00006614.jpg\n",
      "Ergebnis für Bild ADE_train_00002144.jpg gespeichert: results/opencv/ADE_train_00002144.jpg\n",
      "Ergebnis für Bild ADE_train_00002292.jpg gespeichert: results/opencv/ADE_train_00002292.jpg\n",
      "Ergebnis für Bild ADE_train_00012230.jpg gespeichert: results/opencv/ADE_train_00012230.jpg\n",
      "Ergebnis für Bild ADE_train_00001664.jpg gespeichert: results/opencv/ADE_train_00001664.jpg\n",
      "Ergebnis für Bild ADE_train_00001607.jpg gespeichert: results/opencv/ADE_train_00001607.jpg\n",
      "Ergebnis für Bild ADE_train_00002294.jpg gespeichert: results/opencv/ADE_train_00002294.jpg\n",
      "Ergebnis für Bild ADE_train_00002061.jpg gespeichert: results/opencv/ADE_train_00002061.jpg\n",
      "Ergebnis für Bild ADE_train_00008802.jpg gespeichert: results/opencv/ADE_train_00008802.jpg\n",
      "Ergebnis für Bild ADE_train_00012221.jpg gespeichert: results/opencv/ADE_train_00012221.jpg\n",
      "Ergebnis für Bild ADE_train_00009806.jpg gespeichert: results/opencv/ADE_train_00009806.jpg\n",
      "Ergebnis für Bild ADE_train_00003170.jpg gespeichert: results/opencv/ADE_train_00003170.jpg\n",
      "Ergebnis für Bild ADE_train_00001683.jpg gespeichert: results/opencv/ADE_train_00001683.jpg\n",
      "Ergebnis für Bild ADE_train_00015460.jpg gespeichert: results/opencv/ADE_train_00015460.jpg\n",
      "Ergebnis für Bild ADE_frame_00000052.jpg gespeichert: results/opencv/ADE_frame_00000052.jpg\n",
      "Ergebnis für Bild ADE_frame_00000269.jpg gespeichert: results/opencv/ADE_frame_00000269.jpg\n",
      "Ergebnis für Bild ADE_train_00001678.jpg gespeichert: results/opencv/ADE_train_00001678.jpg\n",
      "Ergebnis für Bild ADE_train_00024480.jpg gespeichert: results/opencv/ADE_train_00024480.jpg\n",
      "Ergebnis für Bild ADE_train_00002406.jpg gespeichert: results/opencv/ADE_train_00002406.jpg\n",
      "Ergebnis für Bild ADE_train_00023673.jpg gespeichert: results/opencv/ADE_train_00023673.jpg\n",
      "Ergebnis für Bild ADE_train_00001730.jpg gespeichert: results/opencv/ADE_train_00001730.jpg\n",
      "Ergebnis für Bild ADE_train_00012288.jpg gespeichert: results/opencv/ADE_train_00012288.jpg\n",
      "Ergebnis für Bild ADE_train_00022773.jpg gespeichert: results/opencv/ADE_train_00022773.jpg\n",
      "Ergebnis für Bild ADE_train_00001634.jpg gespeichert: results/opencv/ADE_train_00001634.jpg\n",
      "Ergebnis für Bild ADE_train_00019501.jpg gespeichert: results/opencv/ADE_train_00019501.jpg\n",
      "Ergebnis für Bild ADE_train_00001712.jpg gespeichert: results/opencv/ADE_train_00001712.jpg\n",
      "Ergebnis für Bild ADE_train_00004247.jpg gespeichert: results/opencv/ADE_train_00004247.jpg\n",
      "Ergebnis für Bild ADE_train_00022679.jpg gespeichert: results/opencv/ADE_train_00022679.jpg\n",
      "Ergebnis für Bild ADE_train_00003176.jpg gespeichert: results/opencv/ADE_train_00003176.jpg\n",
      "Ergebnis für Bild ADE_train_00008804.jpg gespeichert: results/opencv/ADE_train_00008804.jpg\n",
      "Ergebnis für Bild ADE_train_00002349.jpg gespeichert: results/opencv/ADE_train_00002349.jpg\n",
      "Ergebnis für Bild ADE_train_00019178.jpg gespeichert: results/opencv/ADE_train_00019178.jpg\n",
      "Ergebnis für Bild ADE_train_00001700.jpg gespeichert: results/opencv/ADE_train_00001700.jpg\n",
      "Ergebnis für Bild ADE_train_00001650.jpg gespeichert: results/opencv/ADE_train_00001650.jpg\n",
      "Ergebnis für Bild ADE_train_00001745.jpg gespeichert: results/opencv/ADE_train_00001745.jpg\n",
      "Ergebnis für Bild ADE_train_00022691.jpg gespeichert: results/opencv/ADE_train_00022691.jpg\n",
      "Ergebnis für Bild ADE_train_00001722.jpg gespeichert: results/opencv/ADE_train_00001722.jpg\n",
      "Ergebnis für Bild ADE_train_00015461.jpg gespeichert: results/opencv/ADE_train_00015461.jpg\n",
      "Ergebnis für Bild ADE_train_00022676.jpg gespeichert: results/opencv/ADE_train_00022676.jpg\n",
      "Ergebnis für Bild ADE_train_00000661.jpg gespeichert: results/opencv/ADE_train_00000661.jpg\n",
      "Ergebnis für Bild ADE_train_00004953.jpg gespeichert: results/opencv/ADE_train_00004953.jpg\n",
      "Ergebnis für Bild ADE_train_00002179.jpg gespeichert: results/opencv/ADE_train_00002179.jpg\n",
      "Ergebnis für Bild ADE_train_00001707.jpg gespeichert: results/opencv/ADE_train_00001707.jpg\n",
      "Ergebnis für Bild ADE_train_00020588.jpg gespeichert: results/opencv/ADE_train_00020588.jpg\n",
      "Ergebnis für Bild ADE_train_00001685.jpg gespeichert: results/opencv/ADE_train_00001685.jpg\n",
      "Ergebnis für Bild ADE_train_00024078.jpg gespeichert: results/opencv/ADE_train_00024078.jpg\n",
      "Ergebnis für Bild ADE_train_00001740.jpg gespeichert: results/opencv/ADE_train_00001740.jpg\n",
      "Ergebnis für Bild ADE_train_00001772.jpg gespeichert: results/opencv/ADE_train_00001772.jpg\n",
      "Ergebnis für Bild ADE_train_00004949.jpg gespeichert: results/opencv/ADE_train_00004949.jpg\n",
      "Ergebnis für Bild ADE_train_00002385.jpg gespeichert: results/opencv/ADE_train_00002385.jpg\n",
      "Ergebnis für Bild ADE_train_00002369.jpg gespeichert: results/opencv/ADE_train_00002369.jpg\n",
      "Ergebnis für Bild ADE_train_00005396.jpg gespeichert: results/opencv/ADE_train_00005396.jpg\n",
      "Ergebnis für Bild ADE_train_00009320.jpg gespeichert: results/opencv/ADE_train_00009320.jpg\n",
      "Ergebnis für Bild ADE_train_00002275.jpg gespeichert: results/opencv/ADE_train_00002275.jpg\n",
      "Ergebnis für Bild ADE_train_00002290.jpg gespeichert: results/opencv/ADE_train_00002290.jpg\n",
      "Ergebnis für Bild ADE_train_00002050.jpg gespeichert: results/opencv/ADE_train_00002050.jpg\n",
      "Ergebnis für Bild ADE_train_00002418.jpg gespeichert: results/opencv/ADE_train_00002418.jpg\n",
      "Ergebnis für Bild ADE_train_00022745.jpg gespeichert: results/opencv/ADE_train_00022745.jpg\n",
      "Ergebnis für Bild ADE_train_00002049.jpg gespeichert: results/opencv/ADE_train_00002049.jpg\n",
      "Ergebnis für Bild ADE_train_00002276.jpg gespeichert: results/opencv/ADE_train_00002276.jpg\n",
      "Ergebnis für Bild ADE_train_00009810.jpg gespeichert: results/opencv/ADE_train_00009810.jpg\n",
      "Ergebnis für Bild ADE_train_00022693.jpg gespeichert: results/opencv/ADE_train_00022693.jpg\n",
      "Ergebnis für Bild ADE_train_00004283.jpg gespeichert: results/opencv/ADE_train_00004283.jpg\n",
      "Ergebnis für Bild ADE_train_00005417.jpg gespeichert: results/opencv/ADE_train_00005417.jpg\n",
      "Ergebnis für Bild ADE_train_00001803.jpg gespeichert: results/opencv/ADE_train_00001803.jpg\n",
      "Ergebnis für Bild ADE_train_00022736.jpg gespeichert: results/opencv/ADE_train_00022736.jpg\n",
      "Ergebnis für Bild ADE_train_00005539.jpg gespeichert: results/opencv/ADE_train_00005539.jpg\n",
      "Ergebnis für Bild ADE_train_00015462.jpg gespeichert: results/opencv/ADE_train_00015462.jpg\n",
      "Ergebnis für Bild ADE_train_00019297.jpg gespeichert: results/opencv/ADE_train_00019297.jpg\n",
      "Ergebnis für Bild ADE_train_00021164.jpg gespeichert: results/opencv/ADE_train_00021164.jpg\n",
      "Ergebnis für Bild ADE_train_00024825.jpg gespeichert: results/opencv/ADE_train_00024825.jpg\n",
      "Ergebnis für Bild ADE_train_00002382.jpg gespeichert: results/opencv/ADE_train_00002382.jpg\n",
      "Ergebnis für Bild ADE_train_00000658.jpg gespeichert: results/opencv/ADE_train_00000658.jpg\n",
      "Ergebnis für Bild ADE_train_00019513.jpg gespeichert: results/opencv/ADE_train_00019513.jpg\n",
      "Ergebnis für Bild ADE_train_00019280.jpg gespeichert: results/opencv/ADE_train_00019280.jpg\n",
      "Ergebnis für Bild ADE_train_00009686.jpg gespeichert: results/opencv/ADE_train_00009686.jpg\n",
      "Ergebnis für Bild ADE_train_00022704.jpg gespeichert: results/opencv/ADE_train_00022704.jpg\n",
      "Ergebnis für Bild ADE_train_00012240.jpg gespeichert: results/opencv/ADE_train_00012240.jpg\n",
      "Ergebnis für Bild ADE_train_00016348.jpg gespeichert: results/opencv/ADE_train_00016348.jpg\n",
      "Ergebnis für Bild ADE_train_00003186.jpg gespeichert: results/opencv/ADE_train_00003186.jpg\n",
      "Ergebnis für Bild ADE_train_00022737.jpg gespeichert: results/opencv/ADE_train_00022737.jpg\n",
      "Ergebnis für Bild ADE_train_00005289.jpg gespeichert: results/opencv/ADE_train_00005289.jpg\n",
      "Ergebnis für Bild ADE_train_00009335.jpg gespeichert: results/opencv/ADE_train_00009335.jpg\n",
      "Ergebnis für Bild ADE_train_00001989.jpg gespeichert: results/opencv/ADE_train_00001989.jpg\n",
      "Ergebnis für Bild ADE_train_00019299.jpg gespeichert: results/opencv/ADE_train_00019299.jpg\n",
      "Ergebnis für Bild ADE_train_00011593.jpg gespeichert: results/opencv/ADE_train_00011593.jpg\n",
      "Ergebnis für Bild ADE_train_00022734.jpg gespeichert: results/opencv/ADE_train_00022734.jpg\n",
      "Ergebnis für Bild ADE_train_00012186.jpg gespeichert: results/opencv/ADE_train_00012186.jpg\n",
      "Ergebnis für Bild ADE_train_00003164.jpg gespeichert: results/opencv/ADE_train_00003164.jpg\n",
      "Ergebnis für Bild ADE_frame_00000266.jpg gespeichert: results/opencv/ADE_frame_00000266.jpg\n",
      "Ergebnis für Bild ADE_train_00002145.jpg gespeichert: results/opencv/ADE_train_00002145.jpg\n",
      "Ergebnis für Bild ADE_train_00001888.jpg gespeichert: results/opencv/ADE_train_00001888.jpg\n",
      "Ergebnis für Bild ADE_train_00001887.jpg gespeichert: results/opencv/ADE_train_00001887.jpg\n",
      "Ergebnis für Bild ADE_train_00024555.jpg gespeichert: results/opencv/ADE_train_00024555.jpg\n",
      "Ergebnis für Bild ADE_train_00002178.jpg gespeichert: results/opencv/ADE_train_00002178.jpg\n",
      "Ergebnis für Bild ADE_train_00012217.jpg gespeichert: results/opencv/ADE_train_00012217.jpg\n",
      "Ergebnis für Bild ADE_train_00016148.jpg gespeichert: results/opencv/ADE_train_00016148.jpg\n",
      "Ergebnis für Bild ADE_train_00012224.jpg gespeichert: results/opencv/ADE_train_00012224.jpg\n",
      "Ergebnis für Bild ADE_train_00022986.jpg gespeichert: results/opencv/ADE_train_00022986.jpg\n",
      "Ergebnis für Bild ADE_train_00003066.jpg gespeichert: results/opencv/ADE_train_00003066.jpg\n",
      "Ergebnis für Bild ADE_train_00001693.jpg gespeichert: results/opencv/ADE_train_00001693.jpg\n",
      "Ergebnis für Bild ADE_train_00012226.jpg gespeichert: results/opencv/ADE_train_00012226.jpg\n",
      "Ergebnis für Bild ADE_train_00002288.jpg gespeichert: results/opencv/ADE_train_00002288.jpg\n",
      "Ergebnis für Bild ADE_train_00005324.jpg gespeichert: results/opencv/ADE_train_00005324.jpg\n",
      "Ergebnis für Bild ADE_train_00025119.jpg gespeichert: results/opencv/ADE_train_00025119.jpg\n",
      "Ergebnis für Bild ADE_frame_00000066.jpg gespeichert: results/opencv/ADE_frame_00000066.jpg\n",
      "Ergebnis für Bild ADE_train_00022763.jpg gespeichert: results/opencv/ADE_train_00022763.jpg\n",
      "Ergebnis für Bild ADE_train_00019287.jpg gespeichert: results/opencv/ADE_train_00019287.jpg\n",
      "Ergebnis für Bild ADE_train_00001493.jpg gespeichert: results/opencv/ADE_train_00001493.jpg\n",
      "Ergebnis für Bild ADE_train_00023731.jpg gespeichert: results/opencv/ADE_train_00023731.jpg\n",
      "Ergebnis für Bild ADE_train_00024361.jpg gespeichert: results/opencv/ADE_train_00024361.jpg\n",
      "Ergebnis für Bild ADE_train_00004840.jpg gespeichert: results/opencv/ADE_train_00004840.jpg\n",
      "Ergebnis für Bild ADE_train_00001652.jpg gespeichert: results/opencv/ADE_train_00001652.jpg\n",
      "Ergebnis für Bild ADE_train_00016341.jpg gespeichert: results/opencv/ADE_train_00016341.jpg\n",
      "Ergebnis für Bild ADE_train_00022677.jpg gespeichert: results/opencv/ADE_train_00022677.jpg\n",
      "Ergebnis für Bild ADE_train_00001724.jpg gespeichert: results/opencv/ADE_train_00001724.jpg\n",
      "Ergebnis für Bild ADE_train_00019284.jpg gespeichert: results/opencv/ADE_train_00019284.jpg\n",
      "Ergebnis für Bild ADE_train_00003060.jpg gespeichert: results/opencv/ADE_train_00003060.jpg\n",
      "Ergebnis für Bild ADE_train_00002373.jpg gespeichert: results/opencv/ADE_train_00002373.jpg\n",
      "Ergebnis für Bild ADE_train_00007694.jpg gespeichert: results/opencv/ADE_train_00007694.jpg\n",
      "Ergebnis für Bild ADE_train_00007701.jpg gespeichert: results/opencv/ADE_train_00007701.jpg\n",
      "Ergebnis für Bild ADE_frame_00000042.jpg gespeichert: results/opencv/ADE_frame_00000042.jpg\n",
      "Ergebnis für Bild ADE_train_00024076.jpg gespeichert: results/opencv/ADE_train_00024076.jpg\n",
      "Ergebnis für Bild ADE_frame_00000263.jpg gespeichert: results/opencv/ADE_frame_00000263.jpg\n",
      "Ergebnis für Bild ADE_train_00012250.jpg gespeichert: results/opencv/ADE_train_00012250.jpg\n",
      "Ergebnis für Bild ADE_train_00001492.jpg gespeichert: results/opencv/ADE_train_00001492.jpg\n",
      "Ergebnis für Bild ADE_frame_00000299.jpg gespeichert: results/opencv/ADE_frame_00000299.jpg\n",
      "Ergebnis für Bild ADE_train_00002347.jpg gespeichert: results/opencv/ADE_train_00002347.jpg\n",
      "Ergebnis für Bild ADE_train_00001798.jpg gespeichert: results/opencv/ADE_train_00001798.jpg\n",
      "Ergebnis für Bild ADE_train_00005600.jpg gespeichert: results/opencv/ADE_train_00005600.jpg\n",
      "Ergebnis für Bild ADE_train_00019018.jpg gespeichert: results/opencv/ADE_train_00019018.jpg\n",
      "Ergebnis für Bild ADE_train_00001681.jpg gespeichert: results/opencv/ADE_train_00001681.jpg\n",
      "Ergebnis für Bild ADE_train_00001645.jpg gespeichert: results/opencv/ADE_train_00001645.jpg\n",
      "Ergebnis für Bild ADE_train_00001807.jpg gespeichert: results/opencv/ADE_train_00001807.jpg\n",
      "Ergebnis für Bild ADE_train_00001739.jpg gespeichert: results/opencv/ADE_train_00001739.jpg\n",
      "Ergebnis für Bild ADE_train_00001665.jpg gespeichert: results/opencv/ADE_train_00001665.jpg\n",
      "Ergebnis für Bild ADE_train_00002060.jpg gespeichert: results/opencv/ADE_train_00002060.jpg\n",
      "Ergebnis für Bild ADE_train_00022649.jpg gespeichert: results/opencv/ADE_train_00022649.jpg\n",
      "Ergebnis für Bild ADE_train_00001503.jpg gespeichert: results/opencv/ADE_train_00001503.jpg\n",
      "Ergebnis für Bild ADE_train_00001408.jpg gespeichert: results/opencv/ADE_train_00001408.jpg\n",
      "Ergebnis für Bild ADE_frame_00000154.jpg gespeichert: results/opencv/ADE_frame_00000154.jpg\n",
      "Ergebnis für Bild ADE_train_00003062.jpg gespeichert: results/opencv/ADE_train_00003062.jpg\n",
      "Ergebnis für Bild ADE_frame_00000265.jpg gespeichert: results/opencv/ADE_frame_00000265.jpg\n",
      "Ergebnis für Bild ADE_train_00022767.jpg gespeichert: results/opencv/ADE_train_00022767.jpg\n",
      "Ergebnis für Bild ADE_train_00004954.jpg gespeichert: results/opencv/ADE_train_00004954.jpg\n",
      "Ergebnis für Bild ADE_train_00002371.jpg gespeichert: results/opencv/ADE_train_00002371.jpg\n",
      "Ergebnis für Bild ADE_train_00023732.jpg gespeichert: results/opencv/ADE_train_00023732.jpg\n",
      "Ergebnis für Bild ADE_train_00012229.jpg gespeichert: results/opencv/ADE_train_00012229.jpg\n",
      "Ergebnis für Bild ADE_train_00002273.jpg gespeichert: results/opencv/ADE_train_00002273.jpg\n",
      "Ergebnis für Bild ADE_train_00001812.jpg gespeichert: results/opencv/ADE_train_00001812.jpg\n",
      "Ergebnis für Bild ADE_train_00005281.jpg gespeichert: results/opencv/ADE_train_00005281.jpg\n",
      "Ergebnis für Bild ADE_train_00013807.jpg gespeichert: results/opencv/ADE_train_00013807.jpg\n",
      "Ergebnis für Bild ADE_train_00013809.jpg gespeichert: results/opencv/ADE_train_00013809.jpg\n",
      "Ergebnis für Bild ADE_train_00001643.jpg gespeichert: results/opencv/ADE_train_00001643.jpg\n",
      "Ergebnis für Bild ADE_train_00001738.jpg gespeichert: results/opencv/ADE_train_00001738.jpg\n",
      "Ergebnis für Bild ADE_train_00021746.jpg gespeichert: results/opencv/ADE_train_00021746.jpg\n",
      "Ergebnis für Bild ADE_train_00001808.jpg gespeichert: results/opencv/ADE_train_00001808.jpg\n",
      "Ergebnis für Bild ADE_train_00024479.jpg gespeichert: results/opencv/ADE_train_00024479.jpg\n",
      "Ergebnis für Bild ADE_train_00004249.jpg gespeichert: results/opencv/ADE_train_00004249.jpg\n",
      "Ergebnis für Bild ADE_train_00001780.jpg gespeichert: results/opencv/ADE_train_00001780.jpg\n",
      "Ergebnis für Bild ADE_train_00001984.jpg gespeichert: results/opencv/ADE_train_00001984.jpg\n",
      "Ergebnis für Bild ADE_train_00006408.jpg gespeichert: results/opencv/ADE_train_00006408.jpg\n",
      "Ergebnis für Bild ADE_train_00019510.jpg gespeichert: results/opencv/ADE_train_00019510.jpg\n",
      "Ergebnis für Bild ADE_train_00002280.jpg gespeichert: results/opencv/ADE_train_00002280.jpg\n",
      "Ergebnis für Bild ADE_train_00001648.jpg gespeichert: results/opencv/ADE_train_00001648.jpg\n",
      "Ergebnis für Bild ADE_train_00005330.jpg gespeichert: results/opencv/ADE_train_00005330.jpg\n",
      "Ergebnis für Bild ADE_train_00021168.jpg gespeichert: results/opencv/ADE_train_00021168.jpg\n",
      "Ergebnis für Bild ADE_train_00000659.jpg gespeichert: results/opencv/ADE_train_00000659.jpg\n",
      "Ergebnis für Bild ADE_train_00002046.jpg gespeichert: results/opencv/ADE_train_00002046.jpg\n",
      "Ergebnis für Bild ADE_train_00012244.jpg gespeichert: results/opencv/ADE_train_00012244.jpg\n",
      "Ergebnis für Bild ADE_train_00002336.jpg gespeichert: results/opencv/ADE_train_00002336.jpg\n",
      "Ergebnis für Bild ADE_train_00002047.jpg gespeichert: results/opencv/ADE_train_00002047.jpg\n",
      "Ergebnis für Bild ADE_train_00001783.jpg gespeichert: results/opencv/ADE_train_00001783.jpg\n",
      "Ergebnis für Bild ADE_train_00024478.jpg gespeichert: results/opencv/ADE_train_00024478.jpg\n",
      "Ergebnis für Bild ADE_train_00023734.jpg gespeichert: results/opencv/ADE_train_00023734.jpg\n",
      "Ergebnis für Bild ADE_train_00010977.jpg gespeichert: results/opencv/ADE_train_00010977.jpg\n",
      "Ergebnis für Bild ADE_train_00012239.jpg gespeichert: results/opencv/ADE_train_00012239.jpg\n",
      "Ergebnis für Bild ADE_train_00020444.jpg gespeichert: results/opencv/ADE_train_00020444.jpg\n",
      "Ergebnis für Bild ADE_train_00004386.jpg gespeichert: results/opencv/ADE_train_00004386.jpg\n",
      "Ergebnis für Bild ADE_train_00000657.jpg gespeichert: results/opencv/ADE_train_00000657.jpg\n",
      "Ergebnis für Bild ADE_train_00001491.jpg gespeichert: results/opencv/ADE_train_00001491.jpg\n",
      "Ergebnis für Bild ADE_train_00016054.jpg gespeichert: results/opencv/ADE_train_00016054.jpg\n",
      "Ergebnis für Bild ADE_train_00002427.jpg gespeichert: results/opencv/ADE_train_00002427.jpg\n",
      "Ergebnis für Bild ADE_train_00001654.jpg gespeichert: results/opencv/ADE_train_00001654.jpg\n",
      "Ergebnis für Bild ADE_train_00011669.jpg gespeichert: results/opencv/ADE_train_00011669.jpg\n",
      "Ergebnis für Bild ADE_train_00020278.jpg gespeichert: results/opencv/ADE_train_00020278.jpg\n",
      "Ergebnis für Bild ADE_train_00025155.jpg gespeichert: results/opencv/ADE_train_00025155.jpg\n",
      "Ergebnis für Bild ADE_train_00007696.jpg gespeichert: results/opencv/ADE_train_00007696.jpg\n",
      "Ergebnis für Bild ADE_train_00001686.jpg gespeichert: results/opencv/ADE_train_00001686.jpg\n",
      "Ergebnis für Bild ADE_frame_00000026.jpg gespeichert: results/opencv/ADE_frame_00000026.jpg\n",
      "Ergebnis für Bild ADE_train_00023924.jpg gespeichert: results/opencv/ADE_train_00023924.jpg\n",
      "Ergebnis für Bild ADE_train_00014336.jpg gespeichert: results/opencv/ADE_train_00014336.jpg\n",
      "Ergebnis für Bild ADE_train_00016349.jpg gespeichert: results/opencv/ADE_train_00016349.jpg\n",
      "Ergebnis für Bild ADE_train_00002181.jpg gespeichert: results/opencv/ADE_train_00002181.jpg\n",
      "Ergebnis für Bild ADE_train_00001769.jpg gespeichert: results/opencv/ADE_train_00001769.jpg\n",
      "Ergebnis für Bild ADE_frame_00000166.jpg gespeichert: results/opencv/ADE_frame_00000166.jpg\n",
      "Ergebnis für Bild ADE_train_00001644.jpg gespeichert: results/opencv/ADE_train_00001644.jpg\n",
      "Ergebnis für Bild ADE_train_00003191.jpg gespeichert: results/opencv/ADE_train_00003191.jpg\n",
      "Ergebnis für Bild ADE_train_00001501.jpg gespeichert: results/opencv/ADE_train_00001501.jpg\n",
      "Ergebnis für Bild ADE_train_00002186.jpg gespeichert: results/opencv/ADE_train_00002186.jpg\n",
      "Ergebnis für Bild ADE_train_00002429.jpg gespeichert: results/opencv/ADE_train_00002429.jpg\n",
      "Ergebnis für Bild ADE_train_00001551.jpg gespeichert: results/opencv/ADE_train_00001551.jpg\n",
      "Ergebnis für Bild ADE_train_00022742.jpg gespeichert: results/opencv/ADE_train_00022742.jpg\n",
      "Ergebnis für Bild ADE_train_00001749.jpg gespeichert: results/opencv/ADE_train_00001749.jpg\n",
      "Ergebnis für Bild ADE_train_00012275.jpg gespeichert: results/opencv/ADE_train_00012275.jpg\n",
      "Ergebnis für Bild ADE_train_00002421.jpg gespeichert: results/opencv/ADE_train_00002421.jpg\n",
      "Ergebnis für Bild ADE_frame_00000029.jpg gespeichert: results/opencv/ADE_frame_00000029.jpg\n",
      "Ergebnis für Bild ADE_train_00001690.jpg gespeichert: results/opencv/ADE_train_00001690.jpg\n",
      "Ergebnis für Bild ADE_train_00011863.jpg gespeichert: results/opencv/ADE_train_00011863.jpg\n",
      "Ergebnis für Bild ADE_train_00003174.jpg gespeichert: results/opencv/ADE_train_00003174.jpg\n",
      "Ergebnis für Bild ADE_train_00019105.jpg gespeichert: results/opencv/ADE_train_00019105.jpg\n",
      "Ergebnis für Bild ADE_train_00001674.jpg gespeichert: results/opencv/ADE_train_00001674.jpg\n",
      "Ergebnis für Bild ADE_train_00001900.jpg gespeichert: results/opencv/ADE_train_00001900.jpg\n",
      "Ergebnis für Bild ADE_train_00001677.jpg gespeichert: results/opencv/ADE_train_00001677.jpg\n",
      "Ergebnis für Bild ADE_train_00001636.jpg gespeichert: results/opencv/ADE_train_00001636.jpg\n",
      "Ergebnis für Bild ADE_train_00022733.jpg gespeichert: results/opencv/ADE_train_00022733.jpg\n",
      "Ergebnis für Bild ADE_train_00001669.jpg gespeichert: results/opencv/ADE_train_00001669.jpg\n",
      "Ergebnis für Bild ADE_train_00024827.jpg gespeichert: results/opencv/ADE_train_00024827.jpg\n",
      "Ergebnis für Bild ADE_train_00002424.jpg gespeichert: results/opencv/ADE_train_00002424.jpg\n",
      "Ergebnis für Bild ADE_train_00019601.jpg gespeichert: results/opencv/ADE_train_00019601.jpg\n",
      "Ergebnis für Bild ADE_train_00010925.jpg gespeichert: results/opencv/ADE_train_00010925.jpg\n",
      "Ergebnis für Bild ADE_train_00001782.jpg gespeichert: results/opencv/ADE_train_00001782.jpg\n",
      "Ergebnis für Bild ADE_train_00001708.jpg gespeichert: results/opencv/ADE_train_00001708.jpg\n",
      "Ergebnis für Bild ADE_train_00001656.jpg gespeichert: results/opencv/ADE_train_00001656.jpg\n",
      "Ergebnis für Bild ADE_train_00001639.jpg gespeichert: results/opencv/ADE_train_00001639.jpg\n",
      "Ergebnis für Bild ADE_train_00011599.jpg gespeichert: results/opencv/ADE_train_00011599.jpg\n",
      "Ergebnis für Bild ADE_train_00002420.jpg gespeichert: results/opencv/ADE_train_00002420.jpg\n",
      "Ergebnis für Bild ADE_train_00001725.jpg gespeichert: results/opencv/ADE_train_00001725.jpg\n",
      "Ergebnis für Bild ADE_train_00001658.jpg gespeichert: results/opencv/ADE_train_00001658.jpg\n",
      "Ergebnis für Bild ADE_train_00001801.jpg gespeichert: results/opencv/ADE_train_00001801.jpg\n",
      "Ergebnis für Bild ADE_frame_00000016.jpg gespeichert: results/opencv/ADE_frame_00000016.jpg\n",
      "Ergebnis für Bild ADE_train_00021743.jpg gespeichert: results/opencv/ADE_train_00021743.jpg\n",
      "Ergebnis für Bild ADE_frame_00000051.jpg gespeichert: results/opencv/ADE_frame_00000051.jpg\n",
      "Ergebnis für Bild ADE_train_00021492.jpg gespeichert: results/opencv/ADE_train_00021492.jpg\n",
      "Ergebnis für Bild ADE_train_00022710.jpg gespeichert: results/opencv/ADE_train_00022710.jpg\n",
      "Ergebnis für Bild ADE_train_00001890.jpg gespeichert: results/opencv/ADE_train_00001890.jpg\n",
      "Ergebnis für Bild ADE_train_00015458.jpg gespeichert: results/opencv/ADE_train_00015458.jpg\n",
      "Ergebnis für Bild ADE_train_00016350.jpg gespeichert: results/opencv/ADE_train_00016350.jpg\n",
      "Ergebnis für Bild ADE_train_00006409.jpg gespeichert: results/opencv/ADE_train_00006409.jpg\n",
      "Ergebnis für Bild ADE_train_00002285.jpg gespeichert: results/opencv/ADE_train_00002285.jpg\n",
      "Ergebnis für Bild ADE_train_00002053.jpg gespeichert: results/opencv/ADE_train_00002053.jpg\n",
      "Ergebnis für Bild ADE_train_00007691.jpg gespeichert: results/opencv/ADE_train_00007691.jpg\n",
      "Ergebnis für Bild ADE_train_00012184.jpg gespeichert: results/opencv/ADE_train_00012184.jpg\n",
      "Ergebnis für Bild ADE_train_00007688.jpg gespeichert: results/opencv/ADE_train_00007688.jpg\n",
      "Ergebnis für Bild ADE_train_00000660.jpg gespeichert: results/opencv/ADE_train_00000660.jpg\n",
      "Ergebnis für Bild ADE_train_00001334.jpg gespeichert: results/opencv/ADE_train_00001334.jpg\n",
      "Ergebnis für Bild ADE_train_00015463.jpg gespeichert: results/opencv/ADE_train_00015463.jpg\n",
      "Ergebnis für Bild ADE_train_00010767.jpg gespeichert: results/opencv/ADE_train_00010767.jpg\n",
      "Ergebnis für Bild ADE_train_00008818.jpg gespeichert: results/opencv/ADE_train_00008818.jpg\n",
      "Ergebnis für Bild ADE_train_00001971.jpg gespeichert: results/opencv/ADE_train_00001971.jpg\n",
      "Ergebnis für Bild ADE_train_00001906.jpg gespeichert: results/opencv/ADE_train_00001906.jpg\n",
      "Ergebnis für Bild ADE_train_00016151.jpg gespeichert: results/opencv/ADE_train_00016151.jpg\n",
      "Ergebnis für Bild ADE_train_00002340.jpg gespeichert: results/opencv/ADE_train_00002340.jpg\n",
      "Ergebnis für Bild ADE_frame_00000107.jpg gespeichert: results/opencv/ADE_frame_00000107.jpg\n",
      "Ergebnis für Bild ADE_train_00003172.jpg gespeichert: results/opencv/ADE_train_00003172.jpg\n",
      "Ergebnis für Bild ADE_train_00022743.jpg gespeichert: results/opencv/ADE_train_00022743.jpg\n",
      "Ergebnis für Bild ADE_train_00012232.jpg gespeichert: results/opencv/ADE_train_00012232.jpg\n",
      "Ergebnis für Bild ADE_train_00020863.jpg gespeichert: results/opencv/ADE_train_00020863.jpg\n",
      "Ergebnis für Bild ADE_train_00009499.jpg gespeichert: results/opencv/ADE_train_00009499.jpg\n"
     ]
    }
   ],
   "source": [
    "real_images = []\n",
    "opencv_images = []\n",
    "\n",
    "# Schleife durch alle Bilder und Masken\n",
    "\n",
    "image_gen = image_mask_generator_opencv(images_dir, masks_dir, image_files)\n",
    "for fname, image, mask in image_gen:\n",
    "\n",
    "    result = inpaint_with_opencv(image, mask) # Infill mit Lama und der neuen Maske\n",
    "\n",
    "    real_images.append(image)\n",
    "    opencv_images.append(result)\n",
    "\n",
    "    # Append and save result\n",
    "    save_result(image, result, fname, 'opencv')"
   ]
  },
  {
   "cell_type": "code",
   "execution_count": 15,
   "id": "e6ec5aeb-fa66-46bf-be7a-d3a8dfbc0468",
   "metadata": {},
   "outputs": [
    {
     "name": "stdout",
     "output_type": "stream",
     "text": [
      "Setting up [LPIPS] perceptual loss: trunk [alex], v[0.1], spatial [off]\n",
      "Loading model from: /home/ludo/.conda/envs/lama/lib/python3.10/site-packages/lpips/weights/v0.1/alex.pth\n",
      "FID: 37.67695236206055\n",
      "LPIPS: 0.12878979742527008\n"
     ]
    }
   ],
   "source": [
    "# Preprocess the images (resize and convert to tensors)\n",
    "real_images_tensor = preprocess_images(real_images, target_size)\n",
    "opencv_images_tensor = preprocess_images(opencv_images, target_size)\n",
    "\n",
    "fid_score = calculate_fid(real_images_tensor, opencv_images_tensor)\n",
    "\n",
    "lpips_score = calculate_lpips(real_images_tensor, opencv_images_tensor)\n",
    "\n",
    "print(f\"FID: {fid_score}\")\n",
    "print(f\"LPIPS: {lpips_score}\")"
   ]
  },
  {
   "cell_type": "code",
   "execution_count": 16,
   "id": "e4f61e52-9003-462c-beda-44bfdd384ff3",
   "metadata": {},
   "outputs": [],
   "source": [
    "## Stable Diffusion"
   ]
  },
  {
   "cell_type": "code",
   "execution_count": 17,
   "id": "8e9f0837-038d-4c22-8d53-b255ce0541a4",
   "metadata": {},
   "outputs": [
    {
     "name": "stderr",
     "output_type": "stream",
     "text": [
      "Loading pipeline components...: 100%|██████████| 3/3 [00:00<00:00,  5.68it/s]\n",
      "Loading pipeline components...: 100%|██████████| 6/6 [00:00<00:00,  6.25it/s]\n",
      "It seems like you have activated model offloading by calling `enable_model_cpu_offload`, but are now manually moving the pipeline to GPU. It is strongly recommended against doing so as memory gains from offloading are likely to be lost. Offloading automatically takes care of moving the individual components unet, scheduler, movq, prior_prior, prior_image_encoder, prior_text_encoder, prior_tokenizer, prior_scheduler, prior_image_processor to GPU when needed. To make sure offloading works as expected, you should consider moving the pipeline back to CPU: `pipeline.to('cpu')` or removing the move altogether if you use offloading.\n"
     ]
    },
    {
     "data": {
      "text/plain": [
       "KandinskyV22InpaintCombinedPipeline {\n",
       "  \"_class_name\": \"KandinskyV22InpaintCombinedPipeline\",\n",
       "  \"_diffusers_version\": \"0.29.0\",\n",
       "  \"_name_or_path\": \"kandinsky-community/kandinsky-2-2-decoder-inpaint\",\n",
       "  \"movq\": [\n",
       "    \"diffusers\",\n",
       "    \"VQModel\"\n",
       "  ],\n",
       "  \"prior_image_encoder\": [\n",
       "    \"transformers\",\n",
       "    \"CLIPVisionModelWithProjection\"\n",
       "  ],\n",
       "  \"prior_image_processor\": [\n",
       "    \"transformers\",\n",
       "    \"CLIPImageProcessor\"\n",
       "  ],\n",
       "  \"prior_prior\": [\n",
       "    \"diffusers\",\n",
       "    \"PriorTransformer\"\n",
       "  ],\n",
       "  \"prior_scheduler\": [\n",
       "    \"diffusers\",\n",
       "    \"UnCLIPScheduler\"\n",
       "  ],\n",
       "  \"prior_text_encoder\": [\n",
       "    \"transformers\",\n",
       "    \"CLIPTextModelWithProjection\"\n",
       "  ],\n",
       "  \"prior_tokenizer\": [\n",
       "    \"transformers\",\n",
       "    \"CLIPTokenizer\"\n",
       "  ],\n",
       "  \"scheduler\": [\n",
       "    \"diffusers\",\n",
       "    \"DDPMScheduler\"\n",
       "  ],\n",
       "  \"unet\": [\n",
       "    \"diffusers\",\n",
       "    \"UNet2DConditionModel\"\n",
       "  ]\n",
       "}"
      ]
     },
     "execution_count": 17,
     "metadata": {},
     "output_type": "execute_result"
    }
   ],
   "source": [
    "import torch\n",
    "from diffusers import AutoPipelineForInpainting\n",
    "from diffusers.utils import load_image, make_image_grid\n",
    "from PIL import Image\n",
    "import numpy as np\n",
    "\n",
    "# Pipeline initialisieren\n",
    "pipeline = AutoPipelineForInpainting.from_pretrained(\n",
    "    \"kandinsky-community/kandinsky-2-2-decoder-inpaint\", torch_dtype=torch.float16\n",
    ")\n",
    "pipeline.enable_model_cpu_offload()\n",
    "\n",
    "pipeline.to(\"cuda\")\n",
    "\n",
    "\n"
   ]
  },
  {
   "cell_type": "code",
   "execution_count": 18,
   "id": "1e862e37-3c21-4e1e-aff1-da9396e7d6a0",
   "metadata": {},
   "outputs": [],
   "source": [
    "from torchvision import transforms\n",
    "\n",
    "\n",
    "def sd_inpaint(image, mask):\n",
    "\n",
    "    # Generator mit festem Seed für reproduzierbare Ergebnisse\n",
    "    generator = torch.Generator(\"cuda\").manual_seed(92)\n",
    "\n",
    "    # Define a transformation to convert PIL.Image to a PyTorch tensor\n",
    "    transform = transforms.ToTensor()\n",
    "    \n",
    "    # Convert image and mask to tensors\n",
    "    image_tensor = transform(image).unsqueeze(0)  # Add batch dimension\n",
    "    mask_tensor = transform(mask).unsqueeze(0)\n",
    "    \n",
    "    # Move tensors to the GPU\n",
    "    image_tensor = image_tensor.to(\"cuda\")\n",
    "    mask_tensor = mask_tensor.to(\"cuda\")\n",
    "\n",
    "    \n",
    "    # Inpainting mit Stable Diffusion\n",
    "    result = pipeline(\n",
    "        prompt='background',\n",
    "        image=image,\n",
    "        mask_image=mask,\n",
    "        generator=generator\n",
    "    ).images[0]\n",
    "\n",
    "    return result\n",
    "\n",
    "    "
   ]
  },
  {
   "cell_type": "code",
   "execution_count": 19,
   "id": "4eb9d9a4-70a1-48c8-a5f2-a8ea6527de4a",
   "metadata": {},
   "outputs": [
    {
     "name": "stderr",
     "output_type": "stream",
     "text": [
      "100%|██████████| 25/25 [00:00<00:00, 135.53it/s]\n",
      "100%|██████████| 100/100 [00:07<00:00, 14.10it/s]\n"
     ]
    },
    {
     "name": "stdout",
     "output_type": "stream",
     "text": [
      "Ergebnis für Bild ADE_train_00003173.jpg gespeichert: results/sd/ADE_train_00003173.jpg\n"
     ]
    },
    {
     "name": "stderr",
     "output_type": "stream",
     "text": [
      "100%|██████████| 25/25 [00:00<00:00, 144.97it/s]\n",
      "100%|██████████| 100/100 [00:06<00:00, 16.01it/s]\n"
     ]
    },
    {
     "name": "stdout",
     "output_type": "stream",
     "text": [
      "Ergebnis für Bild ADE_train_00023741.jpg gespeichert: results/sd/ADE_train_00023741.jpg\n"
     ]
    },
    {
     "name": "stderr",
     "output_type": "stream",
     "text": [
      "100%|██████████| 25/25 [00:00<00:00, 145.82it/s]\n",
      "100%|██████████| 100/100 [00:06<00:00, 16.06it/s]\n"
     ]
    },
    {
     "name": "stdout",
     "output_type": "stream",
     "text": [
      "Ergebnis für Bild ADE_train_00022732.jpg gespeichert: results/sd/ADE_train_00022732.jpg\n"
     ]
    },
    {
     "name": "stderr",
     "output_type": "stream",
     "text": [
      "100%|██████████| 25/25 [00:00<00:00, 146.49it/s]\n",
      "100%|██████████| 100/100 [00:06<00:00, 15.99it/s]\n"
     ]
    },
    {
     "name": "stdout",
     "output_type": "stream",
     "text": [
      "Ergebnis für Bild ADE_train_00001504.jpg gespeichert: results/sd/ADE_train_00001504.jpg\n"
     ]
    },
    {
     "name": "stderr",
     "output_type": "stream",
     "text": [
      "100%|██████████| 25/25 [00:00<00:00, 144.90it/s]\n",
      "100%|██████████| 100/100 [00:06<00:00, 15.98it/s]\n"
     ]
    },
    {
     "name": "stdout",
     "output_type": "stream",
     "text": [
      "Ergebnis für Bild ADE_frame_00000204.jpg gespeichert: results/sd/ADE_frame_00000204.jpg\n"
     ]
    },
    {
     "name": "stderr",
     "output_type": "stream",
     "text": [
      "100%|██████████| 25/25 [00:00<00:00, 145.36it/s]\n",
      "100%|██████████| 100/100 [00:06<00:00, 15.97it/s]\n"
     ]
    },
    {
     "name": "stdout",
     "output_type": "stream",
     "text": [
      "Ergebnis für Bild ADE_train_00003171.jpg gespeichert: results/sd/ADE_train_00003171.jpg\n"
     ]
    },
    {
     "name": "stderr",
     "output_type": "stream",
     "text": [
      "100%|██████████| 25/25 [00:00<00:00, 145.43it/s]\n",
      "100%|██████████| 100/100 [00:06<00:00, 15.97it/s]\n"
     ]
    },
    {
     "name": "stdout",
     "output_type": "stream",
     "text": [
      "Ergebnis für Bild ADE_train_00012219.jpg gespeichert: results/sd/ADE_train_00012219.jpg\n"
     ]
    },
    {
     "name": "stderr",
     "output_type": "stream",
     "text": [
      "100%|██████████| 25/25 [00:00<00:00, 144.42it/s]\n",
      "100%|██████████| 100/100 [00:06<00:00, 16.00it/s]\n"
     ]
    },
    {
     "name": "stdout",
     "output_type": "stream",
     "text": [
      "Ergebnis für Bild ADE_train_00001961.jpg gespeichert: results/sd/ADE_train_00001961.jpg\n"
     ]
    },
    {
     "name": "stderr",
     "output_type": "stream",
     "text": [
      "100%|██████████| 25/25 [00:00<00:00, 146.01it/s]\n",
      "100%|██████████| 100/100 [00:06<00:00, 16.02it/s]\n"
     ]
    },
    {
     "name": "stdout",
     "output_type": "stream",
     "text": [
      "Ergebnis für Bild ADE_train_00024430.jpg gespeichert: results/sd/ADE_train_00024430.jpg\n"
     ]
    },
    {
     "name": "stderr",
     "output_type": "stream",
     "text": [
      "100%|██████████| 25/25 [00:00<00:00, 145.89it/s]\n",
      "100%|██████████| 100/100 [00:06<00:00, 16.04it/s]\n"
     ]
    },
    {
     "name": "stdout",
     "output_type": "stream",
     "text": [
      "Ergebnis für Bild ADE_train_00001716.jpg gespeichert: results/sd/ADE_train_00001716.jpg\n"
     ]
    },
    {
     "name": "stderr",
     "output_type": "stream",
     "text": [
      "100%|██████████| 25/25 [00:00<00:00, 145.77it/s]\n",
      "100%|██████████| 100/100 [00:06<00:00, 16.04it/s]\n"
     ]
    },
    {
     "name": "stdout",
     "output_type": "stream",
     "text": [
      "Ergebnis für Bild ADE_train_00001676.jpg gespeichert: results/sd/ADE_train_00001676.jpg\n"
     ]
    },
    {
     "name": "stderr",
     "output_type": "stream",
     "text": [
      "100%|██████████| 25/25 [00:00<00:00, 145.99it/s]\n",
      "100%|██████████| 100/100 [00:06<00:00, 16.04it/s]\n"
     ]
    },
    {
     "name": "stdout",
     "output_type": "stream",
     "text": [
      "Ergebnis für Bild ADE_train_00001758.jpg gespeichert: results/sd/ADE_train_00001758.jpg\n"
     ]
    },
    {
     "name": "stderr",
     "output_type": "stream",
     "text": [
      "100%|██████████| 25/25 [00:00<00:00, 145.19it/s]\n",
      "100%|██████████| 100/100 [00:06<00:00, 16.00it/s]\n"
     ]
    },
    {
     "name": "stdout",
     "output_type": "stream",
     "text": [
      "Ergebnis für Bild ADE_train_00001561.jpg gespeichert: results/sd/ADE_train_00001561.jpg\n"
     ]
    },
    {
     "name": "stderr",
     "output_type": "stream",
     "text": [
      "100%|██████████| 25/25 [00:00<00:00, 146.26it/s]\n",
      "100%|██████████| 100/100 [00:06<00:00, 16.03it/s]\n"
     ]
    },
    {
     "name": "stdout",
     "output_type": "stream",
     "text": [
      "Ergebnis für Bild ADE_train_00022769.jpg gespeichert: results/sd/ADE_train_00022769.jpg\n"
     ]
    },
    {
     "name": "stderr",
     "output_type": "stream",
     "text": [
      "100%|██████████| 25/25 [00:00<00:00, 146.15it/s]\n",
      "100%|██████████| 100/100 [00:06<00:00, 16.02it/s]\n"
     ]
    },
    {
     "name": "stdout",
     "output_type": "stream",
     "text": [
      "Ergebnis für Bild ADE_train_00022744.jpg gespeichert: results/sd/ADE_train_00022744.jpg\n"
     ]
    },
    {
     "name": "stderr",
     "output_type": "stream",
     "text": [
      "100%|██████████| 25/25 [00:00<00:00, 146.17it/s]\n",
      "100%|██████████| 100/100 [00:06<00:00, 16.04it/s]\n"
     ]
    },
    {
     "name": "stdout",
     "output_type": "stream",
     "text": [
      "Ergebnis für Bild ADE_frame_00000203.jpg gespeichert: results/sd/ADE_frame_00000203.jpg\n"
     ]
    },
    {
     "name": "stderr",
     "output_type": "stream",
     "text": [
      "100%|██████████| 25/25 [00:00<00:00, 145.29it/s]\n",
      "100%|██████████| 100/100 [00:06<00:00, 16.05it/s]\n"
     ]
    },
    {
     "name": "stdout",
     "output_type": "stream",
     "text": [
      "Ergebnis für Bild ADE_train_00012246.jpg gespeichert: results/sd/ADE_train_00012246.jpg\n"
     ]
    },
    {
     "name": "stderr",
     "output_type": "stream",
     "text": [
      "100%|██████████| 25/25 [00:00<00:00, 146.00it/s]\n",
      "100%|██████████| 100/100 [00:06<00:00, 16.04it/s]\n"
     ]
    },
    {
     "name": "stdout",
     "output_type": "stream",
     "text": [
      "Ergebnis für Bild ADE_train_00001522.jpg gespeichert: results/sd/ADE_train_00001522.jpg\n"
     ]
    },
    {
     "name": "stderr",
     "output_type": "stream",
     "text": [
      "100%|██████████| 25/25 [00:00<00:00, 146.40it/s]\n",
      "100%|██████████| 100/100 [00:06<00:00, 16.03it/s]\n"
     ]
    },
    {
     "name": "stdout",
     "output_type": "stream",
     "text": [
      "Ergebnis für Bild ADE_train_00002378.jpg gespeichert: results/sd/ADE_train_00002378.jpg\n"
     ]
    },
    {
     "name": "stderr",
     "output_type": "stream",
     "text": [
      "100%|██████████| 25/25 [00:00<00:00, 145.86it/s]\n",
      "100%|██████████| 100/100 [00:06<00:00, 16.04it/s]\n"
     ]
    },
    {
     "name": "stdout",
     "output_type": "stream",
     "text": [
      "Ergebnis für Bild ADE_train_00023725.jpg gespeichert: results/sd/ADE_train_00023725.jpg\n"
     ]
    },
    {
     "name": "stderr",
     "output_type": "stream",
     "text": [
      "100%|██████████| 25/25 [00:00<00:00, 145.54it/s]\n",
      "100%|██████████| 100/100 [00:06<00:00, 15.90it/s]\n"
     ]
    },
    {
     "name": "stdout",
     "output_type": "stream",
     "text": [
      "Ergebnis für Bild ADE_train_00005280.jpg gespeichert: results/sd/ADE_train_00005280.jpg\n"
     ]
    },
    {
     "name": "stderr",
     "output_type": "stream",
     "text": [
      "100%|██████████| 25/25 [00:00<00:00, 146.14it/s]\n",
      "100%|██████████| 100/100 [00:06<00:00, 15.98it/s]\n"
     ]
    },
    {
     "name": "stdout",
     "output_type": "stream",
     "text": [
      "Ergebnis für Bild ADE_train_00001763.jpg gespeichert: results/sd/ADE_train_00001763.jpg\n"
     ]
    },
    {
     "name": "stderr",
     "output_type": "stream",
     "text": [
      "100%|██████████| 25/25 [00:00<00:00, 145.66it/s]\n",
      "100%|██████████| 100/100 [00:06<00:00, 16.05it/s]\n"
     ]
    },
    {
     "name": "stdout",
     "output_type": "stream",
     "text": [
      "Ergebnis für Bild ADE_train_00012220.jpg gespeichert: results/sd/ADE_train_00012220.jpg\n"
     ]
    },
    {
     "name": "stderr",
     "output_type": "stream",
     "text": [
      "100%|██████████| 25/25 [00:00<00:00, 146.03it/s]\n",
      "100%|██████████| 100/100 [00:06<00:00, 16.02it/s]\n"
     ]
    },
    {
     "name": "stdout",
     "output_type": "stream",
     "text": [
      "Ergebnis für Bild ADE_train_00016340.jpg gespeichert: results/sd/ADE_train_00016340.jpg\n"
     ]
    },
    {
     "name": "stderr",
     "output_type": "stream",
     "text": [
      "100%|██████████| 25/25 [00:00<00:00, 145.53it/s]\n",
      "100%|██████████| 100/100 [00:06<00:00, 16.01it/s]\n"
     ]
    },
    {
     "name": "stdout",
     "output_type": "stream",
     "text": [
      "Ergebnis für Bild ADE_train_00019507.jpg gespeichert: results/sd/ADE_train_00019507.jpg\n"
     ]
    },
    {
     "name": "stderr",
     "output_type": "stream",
     "text": [
      "100%|██████████| 25/25 [00:00<00:00, 145.70it/s]\n",
      "100%|██████████| 100/100 [00:06<00:00, 15.88it/s]\n"
     ]
    },
    {
     "name": "stdout",
     "output_type": "stream",
     "text": [
      "Ergebnis für Bild ADE_train_00003093.jpg gespeichert: results/sd/ADE_train_00003093.jpg\n"
     ]
    },
    {
     "name": "stderr",
     "output_type": "stream",
     "text": [
      "100%|██████████| 25/25 [00:00<00:00, 145.38it/s]\n",
      "100%|██████████| 100/100 [00:06<00:00, 16.05it/s]\n"
     ]
    },
    {
     "name": "stdout",
     "output_type": "stream",
     "text": [
      "Ergebnis für Bild ADE_train_00002042.jpg gespeichert: results/sd/ADE_train_00002042.jpg\n"
     ]
    },
    {
     "name": "stderr",
     "output_type": "stream",
     "text": [
      "100%|██████████| 25/25 [00:00<00:00, 145.15it/s]\n",
      "100%|██████████| 100/100 [00:06<00:00, 16.03it/s]\n"
     ]
    },
    {
     "name": "stdout",
     "output_type": "stream",
     "text": [
      "Ergebnis für Bild ADE_train_00012286.jpg gespeichert: results/sd/ADE_train_00012286.jpg\n"
     ]
    },
    {
     "name": "stderr",
     "output_type": "stream",
     "text": [
      "100%|██████████| 25/25 [00:00<00:00, 146.15it/s]\n",
      "100%|██████████| 100/100 [00:06<00:00, 15.99it/s]\n"
     ]
    },
    {
     "name": "stdout",
     "output_type": "stream",
     "text": [
      "Ergebnis für Bild ADE_train_00023671.jpg gespeichert: results/sd/ADE_train_00023671.jpg\n"
     ]
    },
    {
     "name": "stderr",
     "output_type": "stream",
     "text": [
      "100%|██████████| 25/25 [00:00<00:00, 140.90it/s]\n",
      "100%|██████████| 100/100 [00:06<00:00, 15.98it/s]\n"
     ]
    },
    {
     "name": "stdout",
     "output_type": "stream",
     "text": [
      "Ergebnis für Bild ADE_train_00020088.jpg gespeichert: results/sd/ADE_train_00020088.jpg\n"
     ]
    },
    {
     "name": "stderr",
     "output_type": "stream",
     "text": [
      "100%|██████████| 25/25 [00:00<00:00, 145.17it/s]\n",
      "100%|██████████| 100/100 [00:06<00:00, 16.01it/s]\n"
     ]
    },
    {
     "name": "stdout",
     "output_type": "stream",
     "text": [
      "Ergebnis für Bild ADE_train_00022041.jpg gespeichert: results/sd/ADE_train_00022041.jpg\n"
     ]
    },
    {
     "name": "stderr",
     "output_type": "stream",
     "text": [
      "100%|██████████| 25/25 [00:00<00:00, 145.53it/s]\n",
      "100%|██████████| 100/100 [00:06<00:00, 16.02it/s]\n"
     ]
    },
    {
     "name": "stdout",
     "output_type": "stream",
     "text": [
      "Ergebnis für Bild ADE_train_00001635.jpg gespeichert: results/sd/ADE_train_00001635.jpg\n"
     ]
    },
    {
     "name": "stderr",
     "output_type": "stream",
     "text": [
      "100%|██████████| 25/25 [00:00<00:00, 145.01it/s]\n",
      "100%|██████████| 100/100 [00:06<00:00, 16.01it/s]\n"
     ]
    },
    {
     "name": "stdout",
     "output_type": "stream",
     "text": [
      "Ergebnis für Bild ADE_train_00019095.jpg gespeichert: results/sd/ADE_train_00019095.jpg\n"
     ]
    },
    {
     "name": "stderr",
     "output_type": "stream",
     "text": [
      "100%|██████████| 25/25 [00:00<00:00, 146.27it/s]\n",
      "100%|██████████| 100/100 [00:06<00:00, 16.00it/s]\n"
     ]
    },
    {
     "name": "stdout",
     "output_type": "stream",
     "text": [
      "Ergebnis für Bild ADE_train_00008819.jpg gespeichert: results/sd/ADE_train_00008819.jpg\n"
     ]
    },
    {
     "name": "stderr",
     "output_type": "stream",
     "text": [
      "100%|██████████| 25/25 [00:00<00:00, 144.89it/s]\n",
      "100%|██████████| 100/100 [00:06<00:00, 15.97it/s]\n"
     ]
    },
    {
     "name": "stdout",
     "output_type": "stream",
     "text": [
      "Ergebnis für Bild ADE_train_00012185.jpg gespeichert: results/sd/ADE_train_00012185.jpg\n"
     ]
    },
    {
     "name": "stderr",
     "output_type": "stream",
     "text": [
      "100%|██████████| 25/25 [00:00<00:00, 145.44it/s]\n",
      "100%|██████████| 100/100 [00:06<00:00, 16.01it/s]\n"
     ]
    },
    {
     "name": "stdout",
     "output_type": "stream",
     "text": [
      "Ergebnis für Bild ADE_train_00022681.jpg gespeichert: results/sd/ADE_train_00022681.jpg\n"
     ]
    },
    {
     "name": "stderr",
     "output_type": "stream",
     "text": [
      "100%|██████████| 25/25 [00:00<00:00, 145.48it/s]\n",
      "100%|██████████| 100/100 [00:06<00:00, 15.98it/s]\n"
     ]
    },
    {
     "name": "stdout",
     "output_type": "stream",
     "text": [
      "Ergebnis für Bild ADE_train_00015457.jpg gespeichert: results/sd/ADE_train_00015457.jpg\n"
     ]
    },
    {
     "name": "stderr",
     "output_type": "stream",
     "text": [
      "100%|██████████| 25/25 [00:00<00:00, 143.93it/s]\n",
      "100%|██████████| 100/100 [00:06<00:00, 16.00it/s]\n"
     ]
    },
    {
     "name": "stdout",
     "output_type": "stream",
     "text": [
      "Ergebnis für Bild ADE_train_00022684.jpg gespeichert: results/sd/ADE_train_00022684.jpg\n"
     ]
    },
    {
     "name": "stderr",
     "output_type": "stream",
     "text": [
      "100%|██████████| 25/25 [00:00<00:00, 146.21it/s]\n",
      "100%|██████████| 100/100 [00:06<00:00, 16.03it/s]\n"
     ]
    },
    {
     "name": "stdout",
     "output_type": "stream",
     "text": [
      "Ergebnis für Bild ADE_train_00001222.jpg gespeichert: results/sd/ADE_train_00001222.jpg\n"
     ]
    },
    {
     "name": "stderr",
     "output_type": "stream",
     "text": [
      "100%|██████████| 25/25 [00:00<00:00, 144.91it/s]\n",
      "100%|██████████| 100/100 [00:06<00:00, 16.01it/s]\n"
     ]
    },
    {
     "name": "stdout",
     "output_type": "stream",
     "text": [
      "Ergebnis für Bild ADE_train_00008798.jpg gespeichert: results/sd/ADE_train_00008798.jpg\n"
     ]
    },
    {
     "name": "stderr",
     "output_type": "stream",
     "text": [
      "100%|██████████| 25/25 [00:00<00:00, 145.23it/s]\n",
      "100%|██████████| 100/100 [00:06<00:00, 16.01it/s]\n"
     ]
    },
    {
     "name": "stdout",
     "output_type": "stream",
     "text": [
      "Ergebnis für Bild ADE_train_00001746.jpg gespeichert: results/sd/ADE_train_00001746.jpg\n"
     ]
    },
    {
     "name": "stderr",
     "output_type": "stream",
     "text": [
      "100%|██████████| 25/25 [00:00<00:00, 144.96it/s]\n",
      "100%|██████████| 100/100 [00:06<00:00, 15.97it/s]\n"
     ]
    },
    {
     "name": "stdout",
     "output_type": "stream",
     "text": [
      "Ergebnis für Bild ADE_train_00025047.jpg gespeichert: results/sd/ADE_train_00025047.jpg\n"
     ]
    },
    {
     "name": "stderr",
     "output_type": "stream",
     "text": [
      "100%|██████████| 25/25 [00:00<00:00, 145.61it/s]\n",
      "100%|██████████| 100/100 [00:06<00:00, 15.87it/s]\n"
     ]
    },
    {
     "name": "stdout",
     "output_type": "stream",
     "text": [
      "Ergebnis für Bild ADE_train_00002031.jpg gespeichert: results/sd/ADE_train_00002031.jpg\n"
     ]
    },
    {
     "name": "stderr",
     "output_type": "stream",
     "text": [
      "100%|██████████| 25/25 [00:00<00:00, 145.30it/s]\n",
      "100%|██████████| 100/100 [00:06<00:00, 15.99it/s]\n"
     ]
    },
    {
     "name": "stdout",
     "output_type": "stream",
     "text": [
      "Ergebnis für Bild ADE_train_00001240.jpg gespeichert: results/sd/ADE_train_00001240.jpg\n"
     ]
    },
    {
     "name": "stderr",
     "output_type": "stream",
     "text": [
      "100%|██████████| 25/25 [00:00<00:00, 144.96it/s]\n",
      "100%|██████████| 100/100 [00:06<00:00, 16.00it/s]\n"
     ]
    },
    {
     "name": "stdout",
     "output_type": "stream",
     "text": [
      "Ergebnis für Bild ADE_train_00022698.jpg gespeichert: results/sd/ADE_train_00022698.jpg\n"
     ]
    },
    {
     "name": "stderr",
     "output_type": "stream",
     "text": [
      "100%|██████████| 25/25 [00:00<00:00, 145.01it/s]\n",
      "100%|██████████| 100/100 [00:06<00:00, 16.01it/s]\n"
     ]
    },
    {
     "name": "stdout",
     "output_type": "stream",
     "text": [
      "Ergebnis für Bild ADE_train_00009373.jpg gespeichert: results/sd/ADE_train_00009373.jpg\n"
     ]
    },
    {
     "name": "stderr",
     "output_type": "stream",
     "text": [
      "100%|██████████| 25/25 [00:00<00:00, 145.62it/s]\n",
      "100%|██████████| 100/100 [00:06<00:00, 15.98it/s]\n"
     ]
    },
    {
     "name": "stdout",
     "output_type": "stream",
     "text": [
      "Ergebnis für Bild ADE_train_00011721.jpg gespeichert: results/sd/ADE_train_00011721.jpg\n"
     ]
    },
    {
     "name": "stderr",
     "output_type": "stream",
     "text": [
      "100%|██████████| 25/25 [00:00<00:00, 145.40it/s]\n",
      "100%|██████████| 100/100 [00:06<00:00, 16.00it/s]\n"
     ]
    },
    {
     "name": "stdout",
     "output_type": "stream",
     "text": [
      "Ergebnis für Bild ADE_frame_00000210.jpg gespeichert: results/sd/ADE_frame_00000210.jpg\n"
     ]
    },
    {
     "name": "stderr",
     "output_type": "stream",
     "text": [
      "100%|██████████| 25/25 [00:00<00:00, 145.89it/s]\n",
      "100%|██████████| 100/100 [00:06<00:00, 15.89it/s]\n"
     ]
    },
    {
     "name": "stdout",
     "output_type": "stream",
     "text": [
      "Ergebnis für Bild ADE_train_00001735.jpg gespeichert: results/sd/ADE_train_00001735.jpg\n"
     ]
    },
    {
     "name": "stderr",
     "output_type": "stream",
     "text": [
      "100%|██████████| 25/25 [00:00<00:00, 145.00it/s]\n",
      "100%|██████████| 100/100 [00:06<00:00, 16.01it/s]\n"
     ]
    },
    {
     "name": "stdout",
     "output_type": "stream",
     "text": [
      "Ergebnis für Bild ADE_train_00002056.jpg gespeichert: results/sd/ADE_train_00002056.jpg\n"
     ]
    },
    {
     "name": "stderr",
     "output_type": "stream",
     "text": [
      "100%|██████████| 25/25 [00:00<00:00, 145.96it/s]\n",
      "100%|██████████| 100/100 [00:06<00:00, 15.92it/s]\n"
     ]
    },
    {
     "name": "stdout",
     "output_type": "stream",
     "text": [
      "Ergebnis für Bild ADE_train_00019017.jpg gespeichert: results/sd/ADE_train_00019017.jpg\n"
     ]
    },
    {
     "name": "stderr",
     "output_type": "stream",
     "text": [
      "100%|██████████| 25/25 [00:00<00:00, 145.79it/s]\n",
      "100%|██████████| 100/100 [00:06<00:00, 16.00it/s]\n"
     ]
    },
    {
     "name": "stdout",
     "output_type": "stream",
     "text": [
      "Ergebnis für Bild ADE_train_00001726.jpg gespeichert: results/sd/ADE_train_00001726.jpg\n"
     ]
    },
    {
     "name": "stderr",
     "output_type": "stream",
     "text": [
      "100%|██████████| 25/25 [00:00<00:00, 145.49it/s]\n",
      "100%|██████████| 100/100 [00:06<00:00, 16.03it/s]\n"
     ]
    },
    {
     "name": "stdout",
     "output_type": "stream",
     "text": [
      "Ergebnis für Bild ADE_train_00022999.jpg gespeichert: results/sd/ADE_train_00022999.jpg\n"
     ]
    },
    {
     "name": "stderr",
     "output_type": "stream",
     "text": [
      "100%|██████████| 25/25 [00:00<00:00, 145.22it/s]\n",
      "100%|██████████| 100/100 [00:06<00:00, 16.01it/s]\n"
     ]
    },
    {
     "name": "stdout",
     "output_type": "stream",
     "text": [
      "Ergebnis für Bild ADE_train_00001720.jpg gespeichert: results/sd/ADE_train_00001720.jpg\n"
     ]
    },
    {
     "name": "stderr",
     "output_type": "stream",
     "text": [
      "100%|██████████| 25/25 [00:00<00:00, 145.49it/s]\n",
      "100%|██████████| 100/100 [00:06<00:00, 16.02it/s]\n"
     ]
    },
    {
     "name": "stdout",
     "output_type": "stream",
     "text": [
      "Ergebnis für Bild ADE_train_00001346.jpg gespeichert: results/sd/ADE_train_00001346.jpg\n"
     ]
    },
    {
     "name": "stderr",
     "output_type": "stream",
     "text": [
      "100%|██████████| 25/25 [00:00<00:00, 145.79it/s]\n",
      "100%|██████████| 100/100 [00:06<00:00, 16.01it/s]\n"
     ]
    },
    {
     "name": "stdout",
     "output_type": "stream",
     "text": [
      "Ergebnis für Bild ADE_train_00001787.jpg gespeichert: results/sd/ADE_train_00001787.jpg\n"
     ]
    },
    {
     "name": "stderr",
     "output_type": "stream",
     "text": [
      "100%|██████████| 25/25 [00:00<00:00, 145.47it/s]\n",
      "100%|██████████| 100/100 [00:06<00:00, 16.02it/s]\n"
     ]
    },
    {
     "name": "stdout",
     "output_type": "stream",
     "text": [
      "Ergebnis für Bild ADE_frame_00000267.jpg gespeichert: results/sd/ADE_frame_00000267.jpg\n"
     ]
    },
    {
     "name": "stderr",
     "output_type": "stream",
     "text": [
      "100%|██████████| 25/25 [00:00<00:00, 145.50it/s]\n",
      "100%|██████████| 100/100 [00:06<00:00, 16.01it/s]\n"
     ]
    },
    {
     "name": "stdout",
     "output_type": "stream",
     "text": [
      "Ergebnis für Bild ADE_train_00006419.jpg gespeichert: results/sd/ADE_train_00006419.jpg\n"
     ]
    },
    {
     "name": "stderr",
     "output_type": "stream",
     "text": [
      "100%|██████████| 25/25 [00:00<00:00, 145.23it/s]\n",
      "100%|██████████| 100/100 [00:06<00:00, 16.00it/s]\n"
     ]
    },
    {
     "name": "stdout",
     "output_type": "stream",
     "text": [
      "Ergebnis für Bild ADE_train_00004842.jpg gespeichert: results/sd/ADE_train_00004842.jpg\n"
     ]
    },
    {
     "name": "stderr",
     "output_type": "stream",
     "text": [
      "100%|██████████| 25/25 [00:00<00:00, 145.45it/s]\n",
      "100%|██████████| 100/100 [00:06<00:00, 16.00it/s]\n"
     ]
    },
    {
     "name": "stdout",
     "output_type": "stream",
     "text": [
      "Ergebnis für Bild ADE_train_00019603.jpg gespeichert: results/sd/ADE_train_00019603.jpg\n"
     ]
    },
    {
     "name": "stderr",
     "output_type": "stream",
     "text": [
      "100%|██████████| 25/25 [00:00<00:00, 146.02it/s]\n",
      "100%|██████████| 100/100 [00:06<00:00, 16.03it/s]\n"
     ]
    },
    {
     "name": "stdout",
     "output_type": "stream",
     "text": [
      "Ergebnis für Bild ADE_train_00012252.jpg gespeichert: results/sd/ADE_train_00012252.jpg\n"
     ]
    },
    {
     "name": "stderr",
     "output_type": "stream",
     "text": [
      "100%|██████████| 25/25 [00:00<00:00, 145.67it/s]\n",
      "100%|██████████| 100/100 [00:06<00:00, 16.03it/s]\n"
     ]
    },
    {
     "name": "stdout",
     "output_type": "stream",
     "text": [
      "Ergebnis für Bild ADE_train_00002372.jpg gespeichert: results/sd/ADE_train_00002372.jpg\n"
     ]
    },
    {
     "name": "stderr",
     "output_type": "stream",
     "text": [
      "100%|██████████| 25/25 [00:00<00:00, 145.50it/s]\n",
      "100%|██████████| 100/100 [00:06<00:00, 16.02it/s]\n"
     ]
    },
    {
     "name": "stdout",
     "output_type": "stream",
     "text": [
      "Ergebnis für Bild ADE_train_00022695.jpg gespeichert: results/sd/ADE_train_00022695.jpg\n"
     ]
    },
    {
     "name": "stderr",
     "output_type": "stream",
     "text": [
      "100%|██████████| 25/25 [00:00<00:00, 145.60it/s]\n",
      "100%|██████████| 100/100 [00:06<00:00, 16.03it/s]\n"
     ]
    },
    {
     "name": "stdout",
     "output_type": "stream",
     "text": [
      "Ergebnis für Bild ADE_train_00002423.jpg gespeichert: results/sd/ADE_train_00002423.jpg\n"
     ]
    },
    {
     "name": "stderr",
     "output_type": "stream",
     "text": [
      "100%|██████████| 25/25 [00:00<00:00, 145.18it/s]\n",
      "100%|██████████| 100/100 [00:06<00:00, 16.03it/s]\n"
     ]
    },
    {
     "name": "stdout",
     "output_type": "stream",
     "text": [
      "Ergebnis für Bild ADE_frame_00000015.jpg gespeichert: results/sd/ADE_frame_00000015.jpg\n"
     ]
    },
    {
     "name": "stderr",
     "output_type": "stream",
     "text": [
      "100%|██████████| 25/25 [00:00<00:00, 145.98it/s]\n",
      "100%|██████████| 100/100 [00:06<00:00, 16.03it/s]\n"
     ]
    },
    {
     "name": "stdout",
     "output_type": "stream",
     "text": [
      "Ergebnis für Bild ADE_train_00004251.jpg gespeichert: results/sd/ADE_train_00004251.jpg\n"
     ]
    },
    {
     "name": "stderr",
     "output_type": "stream",
     "text": [
      "100%|██████████| 25/25 [00:00<00:00, 145.05it/s]\n",
      "100%|██████████| 100/100 [00:06<00:00, 16.02it/s]\n"
     ]
    },
    {
     "name": "stdout",
     "output_type": "stream",
     "text": [
      "Ergebnis für Bild ADE_train_00002390.jpg gespeichert: results/sd/ADE_train_00002390.jpg\n"
     ]
    },
    {
     "name": "stderr",
     "output_type": "stream",
     "text": [
      "100%|██████████| 25/25 [00:00<00:00, 145.71it/s]\n",
      "100%|██████████| 100/100 [00:06<00:00, 16.02it/s]\n"
     ]
    },
    {
     "name": "stdout",
     "output_type": "stream",
     "text": [
      "Ergebnis für Bild ADE_train_00005541.jpg gespeichert: results/sd/ADE_train_00005541.jpg\n"
     ]
    },
    {
     "name": "stderr",
     "output_type": "stream",
     "text": [
      "100%|██████████| 25/25 [00:00<00:00, 144.73it/s]\n",
      "100%|██████████| 100/100 [00:06<00:00, 16.04it/s]\n"
     ]
    },
    {
     "name": "stdout",
     "output_type": "stream",
     "text": [
      "Ergebnis für Bild ADE_train_00022700.jpg gespeichert: results/sd/ADE_train_00022700.jpg\n"
     ]
    },
    {
     "name": "stderr",
     "output_type": "stream",
     "text": [
      "100%|██████████| 25/25 [00:00<00:00, 145.24it/s]\n",
      "100%|██████████| 100/100 [00:06<00:00, 16.09it/s]\n"
     ]
    },
    {
     "name": "stdout",
     "output_type": "stream",
     "text": [
      "Ergebnis für Bild ADE_train_00001713.jpg gespeichert: results/sd/ADE_train_00001713.jpg\n"
     ]
    },
    {
     "name": "stderr",
     "output_type": "stream",
     "text": [
      "100%|██████████| 25/25 [00:00<00:00, 145.77it/s]\n",
      "100%|██████████| 100/100 [00:06<00:00, 16.09it/s]\n"
     ]
    },
    {
     "name": "stdout",
     "output_type": "stream",
     "text": [
      "Ergebnis für Bild ADE_train_00001554.jpg gespeichert: results/sd/ADE_train_00001554.jpg\n"
     ]
    },
    {
     "name": "stderr",
     "output_type": "stream",
     "text": [
      "100%|██████████| 25/25 [00:00<00:00, 145.30it/s]\n",
      "100%|██████████| 100/100 [00:06<00:00, 16.08it/s]\n"
     ]
    },
    {
     "name": "stdout",
     "output_type": "stream",
     "text": [
      "Ergebnis für Bild ADE_train_00024549.jpg gespeichert: results/sd/ADE_train_00024549.jpg\n"
     ]
    },
    {
     "name": "stderr",
     "output_type": "stream",
     "text": [
      "100%|██████████| 25/25 [00:00<00:00, 145.66it/s]\n",
      "100%|██████████| 100/100 [00:06<00:00, 16.11it/s]\n"
     ]
    },
    {
     "name": "stdout",
     "output_type": "stream",
     "text": [
      "Ergebnis für Bild ADE_train_00009972.jpg gespeichert: results/sd/ADE_train_00009972.jpg\n"
     ]
    },
    {
     "name": "stderr",
     "output_type": "stream",
     "text": [
      "100%|██████████| 25/25 [00:00<00:00, 145.97it/s]\n",
      "100%|██████████| 100/100 [00:06<00:00, 16.10it/s]\n"
     ]
    },
    {
     "name": "stdout",
     "output_type": "stream",
     "text": [
      "Ergebnis für Bild ADE_train_00002396.jpg gespeichert: results/sd/ADE_train_00002396.jpg\n"
     ]
    },
    {
     "name": "stderr",
     "output_type": "stream",
     "text": [
      "100%|██████████| 25/25 [00:00<00:00, 145.03it/s]\n",
      "100%|██████████| 100/100 [00:06<00:00, 16.05it/s]\n"
     ]
    },
    {
     "name": "stdout",
     "output_type": "stream",
     "text": [
      "Ergebnis für Bild ADE_train_00001822.jpg gespeichert: results/sd/ADE_train_00001822.jpg\n"
     ]
    },
    {
     "name": "stderr",
     "output_type": "stream",
     "text": [
      "100%|██████████| 25/25 [00:00<00:00, 144.59it/s]\n",
      "100%|██████████| 100/100 [00:06<00:00, 15.98it/s]\n"
     ]
    },
    {
     "name": "stdout",
     "output_type": "stream",
     "text": [
      "Ergebnis für Bild ADE_train_00004399.jpg gespeichert: results/sd/ADE_train_00004399.jpg\n"
     ]
    },
    {
     "name": "stderr",
     "output_type": "stream",
     "text": [
      "100%|██████████| 25/25 [00:00<00:00, 145.48it/s]\n",
      "100%|██████████| 100/100 [00:06<00:00, 16.01it/s]\n"
     ]
    },
    {
     "name": "stdout",
     "output_type": "stream",
     "text": [
      "Ergebnis für Bild ADE_train_00012289.jpg gespeichert: results/sd/ADE_train_00012289.jpg\n"
     ]
    },
    {
     "name": "stderr",
     "output_type": "stream",
     "text": [
      "100%|██████████| 25/25 [00:00<00:00, 145.11it/s]\n",
      "100%|██████████| 100/100 [00:06<00:00, 15.98it/s]\n"
     ]
    },
    {
     "name": "stdout",
     "output_type": "stream",
     "text": [
      "Ergebnis für Bild ADE_train_00002279.jpg gespeichert: results/sd/ADE_train_00002279.jpg\n"
     ]
    },
    {
     "name": "stderr",
     "output_type": "stream",
     "text": [
      "100%|██████████| 25/25 [00:00<00:00, 145.47it/s]\n",
      "100%|██████████| 100/100 [00:06<00:00, 15.99it/s]\n"
     ]
    },
    {
     "name": "stdout",
     "output_type": "stream",
     "text": [
      "Ergebnis für Bild ADE_frame_00000302.jpg gespeichert: results/sd/ADE_frame_00000302.jpg\n"
     ]
    },
    {
     "name": "stderr",
     "output_type": "stream",
     "text": [
      "100%|██████████| 25/25 [00:00<00:00, 146.00it/s]\n",
      "100%|██████████| 100/100 [00:06<00:00, 15.98it/s]\n"
     ]
    },
    {
     "name": "stdout",
     "output_type": "stream",
     "text": [
      "Ergebnis für Bild ADE_train_00002059.jpg gespeichert: results/sd/ADE_train_00002059.jpg\n"
     ]
    },
    {
     "name": "stderr",
     "output_type": "stream",
     "text": [
      "100%|██████████| 25/25 [00:00<00:00, 145.90it/s]\n",
      "100%|██████████| 100/100 [00:06<00:00, 16.02it/s]\n"
     ]
    },
    {
     "name": "stdout",
     "output_type": "stream",
     "text": [
      "Ergebnis für Bild ADE_train_00001759.jpg gespeichert: results/sd/ADE_train_00001759.jpg\n"
     ]
    },
    {
     "name": "stderr",
     "output_type": "stream",
     "text": [
      "100%|██████████| 25/25 [00:00<00:00, 145.35it/s]\n",
      "100%|██████████| 100/100 [00:06<00:00, 15.98it/s]\n"
     ]
    },
    {
     "name": "stdout",
     "output_type": "stream",
     "text": [
      "Ergebnis für Bild ADE_train_00023815.jpg gespeichert: results/sd/ADE_train_00023815.jpg\n"
     ]
    },
    {
     "name": "stderr",
     "output_type": "stream",
     "text": [
      "100%|██████████| 25/25 [00:00<00:00, 145.58it/s]\n",
      "100%|██████████| 100/100 [00:06<00:00, 16.00it/s]\n"
     ]
    },
    {
     "name": "stdout",
     "output_type": "stream",
     "text": [
      "Ergebnis für Bild ADE_train_00001552.jpg gespeichert: results/sd/ADE_train_00001552.jpg\n"
     ]
    },
    {
     "name": "stderr",
     "output_type": "stream",
     "text": [
      "100%|██████████| 25/25 [00:00<00:00, 145.70it/s]\n",
      "100%|██████████| 100/100 [00:06<00:00, 16.00it/s]\n"
     ]
    },
    {
     "name": "stdout",
     "output_type": "stream",
     "text": [
      "Ergebnis für Bild ADE_train_00008815.jpg gespeichert: results/sd/ADE_train_00008815.jpg\n"
     ]
    },
    {
     "name": "stderr",
     "output_type": "stream",
     "text": [
      "100%|██████████| 25/25 [00:00<00:00, 145.34it/s]\n",
      "100%|██████████| 100/100 [00:06<00:00, 16.02it/s]\n"
     ]
    },
    {
     "name": "stdout",
     "output_type": "stream",
     "text": [
      "Ergebnis für Bild ADE_train_00024551.jpg gespeichert: results/sd/ADE_train_00024551.jpg\n"
     ]
    },
    {
     "name": "stderr",
     "output_type": "stream",
     "text": [
      "100%|██████████| 25/25 [00:00<00:00, 144.81it/s]\n",
      "100%|██████████| 100/100 [00:06<00:00, 15.91it/s]\n"
     ]
    },
    {
     "name": "stdout",
     "output_type": "stream",
     "text": [
      "Ergebnis für Bild ADE_train_00001649.jpg gespeichert: results/sd/ADE_train_00001649.jpg\n"
     ]
    },
    {
     "name": "stderr",
     "output_type": "stream",
     "text": [
      "100%|██████████| 25/25 [00:00<00:00, 146.00it/s]\n",
      "100%|██████████| 100/100 [00:06<00:00, 16.01it/s]\n"
     ]
    },
    {
     "name": "stdout",
     "output_type": "stream",
     "text": [
      "Ergebnis für Bild ADE_train_00001633.jpg gespeichert: results/sd/ADE_train_00001633.jpg\n"
     ]
    },
    {
     "name": "stderr",
     "output_type": "stream",
     "text": [
      "100%|██████████| 25/25 [00:00<00:00, 145.33it/s]\n",
      "100%|██████████| 100/100 [00:06<00:00, 16.00it/s]\n"
     ]
    },
    {
     "name": "stdout",
     "output_type": "stream",
     "text": [
      "Ergebnis für Bild ADE_train_00016147.jpg gespeichert: results/sd/ADE_train_00016147.jpg\n"
     ]
    },
    {
     "name": "stderr",
     "output_type": "stream",
     "text": [
      "100%|██████████| 25/25 [00:00<00:00, 146.35it/s]\n",
      "100%|██████████| 100/100 [00:06<00:00, 15.98it/s]\n"
     ]
    },
    {
     "name": "stdout",
     "output_type": "stream",
     "text": [
      "Ergebnis für Bild ADE_train_00015772.jpg gespeichert: results/sd/ADE_train_00015772.jpg\n"
     ]
    },
    {
     "name": "stderr",
     "output_type": "stream",
     "text": [
      "100%|██████████| 25/25 [00:00<00:00, 144.35it/s]\n",
      "100%|██████████| 100/100 [00:06<00:00, 15.99it/s]\n"
     ]
    },
    {
     "name": "stdout",
     "output_type": "stream",
     "text": [
      "Ergebnis für Bild ADE_train_00001728.jpg gespeichert: results/sd/ADE_train_00001728.jpg\n"
     ]
    },
    {
     "name": "stderr",
     "output_type": "stream",
     "text": [
      "100%|██████████| 25/25 [00:00<00:00, 144.99it/s]\n",
      "100%|██████████| 100/100 [00:06<00:00, 16.00it/s]\n"
     ]
    },
    {
     "name": "stdout",
     "output_type": "stream",
     "text": [
      "Ergebnis für Bild ADE_train_00012248.jpg gespeichert: results/sd/ADE_train_00012248.jpg\n"
     ]
    },
    {
     "name": "stderr",
     "output_type": "stream",
     "text": [
      "100%|██████████| 25/25 [00:00<00:00, 144.96it/s]\n",
      "100%|██████████| 100/100 [00:06<00:00, 16.01it/s]\n"
     ]
    },
    {
     "name": "stdout",
     "output_type": "stream",
     "text": [
      "Ergebnis für Bild ADE_train_00012213.jpg gespeichert: results/sd/ADE_train_00012213.jpg\n"
     ]
    },
    {
     "name": "stderr",
     "output_type": "stream",
     "text": [
      "100%|██████████| 25/25 [00:00<00:00, 145.52it/s]\n",
      "100%|██████████| 100/100 [00:06<00:00, 15.98it/s]\n"
     ]
    },
    {
     "name": "stdout",
     "output_type": "stream",
     "text": [
      "Ergebnis für Bild ADE_train_00011596.jpg gespeichert: results/sd/ADE_train_00011596.jpg\n"
     ]
    },
    {
     "name": "stderr",
     "output_type": "stream",
     "text": [
      "100%|██████████| 25/25 [00:00<00:00, 144.58it/s]\n",
      "100%|██████████| 100/100 [00:06<00:00, 15.99it/s]\n"
     ]
    },
    {
     "name": "stdout",
     "output_type": "stream",
     "text": [
      "Ergebnis für Bild ADE_train_00001949.jpg gespeichert: results/sd/ADE_train_00001949.jpg\n"
     ]
    },
    {
     "name": "stderr",
     "output_type": "stream",
     "text": [
      "100%|██████████| 25/25 [00:00<00:00, 145.14it/s]\n",
      "100%|██████████| 100/100 [00:06<00:00, 15.98it/s]\n"
     ]
    },
    {
     "name": "stdout",
     "output_type": "stream",
     "text": [
      "Ergebnis für Bild ADE_train_00002200.jpg gespeichert: results/sd/ADE_train_00002200.jpg\n"
     ]
    },
    {
     "name": "stderr",
     "output_type": "stream",
     "text": [
      "100%|██████████| 25/25 [00:00<00:00, 144.61it/s]\n",
      "100%|██████████| 100/100 [00:06<00:00, 15.99it/s]\n"
     ]
    },
    {
     "name": "stdout",
     "output_type": "stream",
     "text": [
      "Ergebnis für Bild ADE_train_00010920.jpg gespeichert: results/sd/ADE_train_00010920.jpg\n"
     ]
    },
    {
     "name": "stderr",
     "output_type": "stream",
     "text": [
      "100%|██████████| 25/25 [00:00<00:00, 144.43it/s]\n",
      "100%|██████████| 100/100 [00:06<00:00, 16.00it/s]\n"
     ]
    },
    {
     "name": "stdout",
     "output_type": "stream",
     "text": [
      "Ergebnis für Bild ADE_train_00007695.jpg gespeichert: results/sd/ADE_train_00007695.jpg\n"
     ]
    },
    {
     "name": "stderr",
     "output_type": "stream",
     "text": [
      "100%|██████████| 25/25 [00:00<00:00, 145.37it/s]\n",
      "100%|██████████| 100/100 [00:06<00:00, 15.97it/s]\n"
     ]
    },
    {
     "name": "stdout",
     "output_type": "stream",
     "text": [
      "Ergebnis für Bild ADE_train_00010068.jpg gespeichert: results/sd/ADE_train_00010068.jpg\n"
     ]
    },
    {
     "name": "stderr",
     "output_type": "stream",
     "text": [
      "100%|██████████| 25/25 [00:00<00:00, 144.94it/s]\n",
      "100%|██████████| 100/100 [00:06<00:00, 15.96it/s]\n"
     ]
    },
    {
     "name": "stdout",
     "output_type": "stream",
     "text": [
      "Ergebnis für Bild ADE_train_00001562.jpg gespeichert: results/sd/ADE_train_00001562.jpg\n"
     ]
    },
    {
     "name": "stderr",
     "output_type": "stream",
     "text": [
      "100%|██████████| 25/25 [00:00<00:00, 145.46it/s]\n",
      "100%|██████████| 100/100 [00:06<00:00, 15.97it/s]\n"
     ]
    },
    {
     "name": "stdout",
     "output_type": "stream",
     "text": [
      "Ergebnis für Bild ADE_train_00007682.jpg gespeichert: results/sd/ADE_train_00007682.jpg\n"
     ]
    },
    {
     "name": "stderr",
     "output_type": "stream",
     "text": [
      "100%|██████████| 25/25 [00:00<00:00, 145.11it/s]\n",
      "100%|██████████| 100/100 [00:06<00:00, 15.98it/s]\n"
     ]
    },
    {
     "name": "stdout",
     "output_type": "stream",
     "text": [
      "Ergebnis für Bild ADE_train_00002461.jpg gespeichert: results/sd/ADE_train_00002461.jpg\n"
     ]
    },
    {
     "name": "stderr",
     "output_type": "stream",
     "text": [
      "100%|██████████| 25/25 [00:00<00:00, 144.91it/s]\n",
      "100%|██████████| 100/100 [00:06<00:00, 15.96it/s]\n"
     ]
    },
    {
     "name": "stdout",
     "output_type": "stream",
     "text": [
      "Ergebnis für Bild ADE_train_00022240.jpg gespeichert: results/sd/ADE_train_00022240.jpg\n"
     ]
    },
    {
     "name": "stderr",
     "output_type": "stream",
     "text": [
      "100%|██████████| 25/25 [00:00<00:00, 145.63it/s]\n",
      "100%|██████████| 100/100 [00:06<00:00, 15.97it/s]\n"
     ]
    },
    {
     "name": "stdout",
     "output_type": "stream",
     "text": [
      "Ergebnis für Bild ADE_train_00010766.jpg gespeichert: results/sd/ADE_train_00010766.jpg\n"
     ]
    },
    {
     "name": "stderr",
     "output_type": "stream",
     "text": [
      "100%|██████████| 25/25 [00:00<00:00, 144.89it/s]\n",
      "100%|██████████| 100/100 [00:06<00:00, 15.99it/s]\n"
     ]
    },
    {
     "name": "stdout",
     "output_type": "stream",
     "text": [
      "Ergebnis für Bild ADE_train_00001502.jpg gespeichert: results/sd/ADE_train_00001502.jpg\n"
     ]
    },
    {
     "name": "stderr",
     "output_type": "stream",
     "text": [
      "100%|██████████| 25/25 [00:00<00:00, 145.24it/s]\n",
      "100%|██████████| 100/100 [00:06<00:00, 15.96it/s]\n"
     ]
    },
    {
     "name": "stdout",
     "output_type": "stream",
     "text": [
      "Ergebnis für Bild ADE_train_00010062.jpg gespeichert: results/sd/ADE_train_00010062.jpg\n"
     ]
    },
    {
     "name": "stderr",
     "output_type": "stream",
     "text": [
      "100%|██████████| 25/25 [00:00<00:00, 145.45it/s]\n",
      "100%|██████████| 100/100 [00:06<00:00, 15.99it/s]\n"
     ]
    },
    {
     "name": "stdout",
     "output_type": "stream",
     "text": [
      "Ergebnis für Bild ADE_train_00019144.jpg gespeichert: results/sd/ADE_train_00019144.jpg\n"
     ]
    },
    {
     "name": "stderr",
     "output_type": "stream",
     "text": [
      "100%|██████████| 25/25 [00:00<00:00, 144.75it/s]\n",
      "100%|██████████| 100/100 [00:06<00:00, 15.97it/s]\n"
     ]
    },
    {
     "name": "stdout",
     "output_type": "stream",
     "text": [
      "Ergebnis für Bild ADE_train_00001663.jpg gespeichert: results/sd/ADE_train_00001663.jpg\n"
     ]
    },
    {
     "name": "stderr",
     "output_type": "stream",
     "text": [
      "100%|██████████| 25/25 [00:00<00:00, 145.96it/s]\n",
      "100%|██████████| 100/100 [00:06<00:00, 15.92it/s]\n"
     ]
    },
    {
     "name": "stdout",
     "output_type": "stream",
     "text": [
      "Ergebnis für Bild ADE_frame_00000292.jpg gespeichert: results/sd/ADE_frame_00000292.jpg\n"
     ]
    },
    {
     "name": "stderr",
     "output_type": "stream",
     "text": [
      "100%|██████████| 25/25 [00:00<00:00, 145.41it/s]\n",
      "100%|██████████| 100/100 [00:06<00:00, 16.00it/s]\n"
     ]
    },
    {
     "name": "stdout",
     "output_type": "stream",
     "text": [
      "Ergebnis für Bild ADE_train_00001727.jpg gespeichert: results/sd/ADE_train_00001727.jpg\n"
     ]
    },
    {
     "name": "stderr",
     "output_type": "stream",
     "text": [
      "100%|██████████| 25/25 [00:00<00:00, 145.43it/s]\n",
      "100%|██████████| 100/100 [00:06<00:00, 15.96it/s]\n"
     ]
    },
    {
     "name": "stdout",
     "output_type": "stream",
     "text": [
      "Ergebnis für Bild ADE_train_00001750.jpg gespeichert: results/sd/ADE_train_00001750.jpg\n"
     ]
    },
    {
     "name": "stderr",
     "output_type": "stream",
     "text": [
      "100%|██████████| 25/25 [00:00<00:00, 145.31it/s]\n",
      "100%|██████████| 100/100 [00:06<00:00, 15.98it/s]\n"
     ]
    },
    {
     "name": "stdout",
     "output_type": "stream",
     "text": [
      "Ergebnis für Bild ADE_train_00002287.jpg gespeichert: results/sd/ADE_train_00002287.jpg\n"
     ]
    },
    {
     "name": "stderr",
     "output_type": "stream",
     "text": [
      "100%|██████████| 25/25 [00:00<00:00, 144.20it/s]\n",
      "100%|██████████| 100/100 [00:06<00:00, 15.98it/s]\n"
     ]
    },
    {
     "name": "stdout",
     "output_type": "stream",
     "text": [
      "Ergebnis für Bild ADE_train_00022701.jpg gespeichert: results/sd/ADE_train_00022701.jpg\n"
     ]
    },
    {
     "name": "stderr",
     "output_type": "stream",
     "text": [
      "100%|██████████| 25/25 [00:00<00:00, 145.16it/s]\n",
      "100%|██████████| 100/100 [00:06<00:00, 15.99it/s]\n"
     ]
    },
    {
     "name": "stdout",
     "output_type": "stream",
     "text": [
      "Ergebnis für Bild ADE_train_00009354.jpg gespeichert: results/sd/ADE_train_00009354.jpg\n"
     ]
    },
    {
     "name": "stderr",
     "output_type": "stream",
     "text": [
      "100%|██████████| 25/25 [00:00<00:00, 145.68it/s]\n",
      "100%|██████████| 100/100 [00:06<00:00, 15.99it/s]\n"
     ]
    },
    {
     "name": "stdout",
     "output_type": "stream",
     "text": [
      "Ergebnis für Bild ADE_train_00011720.jpg gespeichert: results/sd/ADE_train_00011720.jpg\n"
     ]
    },
    {
     "name": "stderr",
     "output_type": "stream",
     "text": [
      "100%|██████████| 25/25 [00:00<00:00, 144.91it/s]\n",
      "100%|██████████| 100/100 [00:06<00:00, 15.98it/s]\n"
     ]
    },
    {
     "name": "stdout",
     "output_type": "stream",
     "text": [
      "Ergebnis für Bild ADE_train_00002351.jpg gespeichert: results/sd/ADE_train_00002351.jpg\n"
     ]
    },
    {
     "name": "stderr",
     "output_type": "stream",
     "text": [
      "100%|██████████| 25/25 [00:00<00:00, 145.31it/s]\n",
      "100%|██████████| 100/100 [00:06<00:00, 15.97it/s]\n"
     ]
    },
    {
     "name": "stdout",
     "output_type": "stream",
     "text": [
      "Ergebnis für Bild ADE_train_00002381.jpg gespeichert: results/sd/ADE_train_00002381.jpg\n"
     ]
    },
    {
     "name": "stderr",
     "output_type": "stream",
     "text": [
      "100%|██████████| 25/25 [00:00<00:00, 145.67it/s]\n",
      "100%|██████████| 100/100 [00:06<00:00, 15.96it/s]\n"
     ]
    },
    {
     "name": "stdout",
     "output_type": "stream",
     "text": [
      "Ergebnis für Bild ADE_train_00012227.jpg gespeichert: results/sd/ADE_train_00012227.jpg\n"
     ]
    },
    {
     "name": "stderr",
     "output_type": "stream",
     "text": [
      "100%|██████████| 25/25 [00:00<00:00, 144.93it/s]\n",
      "100%|██████████| 100/100 [00:06<00:00, 15.99it/s]\n"
     ]
    },
    {
     "name": "stdout",
     "output_type": "stream",
     "text": [
      "Ergebnis für Bild ADE_frame_00000268.jpg gespeichert: results/sd/ADE_frame_00000268.jpg\n"
     ]
    },
    {
     "name": "stderr",
     "output_type": "stream",
     "text": [
      "100%|██████████| 25/25 [00:00<00:00, 145.51it/s]\n",
      "100%|██████████| 100/100 [00:06<00:00, 15.97it/s]\n"
     ]
    },
    {
     "name": "stdout",
     "output_type": "stream",
     "text": [
      "Ergebnis für Bild ADE_train_00019508.jpg gespeichert: results/sd/ADE_train_00019508.jpg\n"
     ]
    },
    {
     "name": "stderr",
     "output_type": "stream",
     "text": [
      "100%|██████████| 25/25 [00:00<00:00, 144.75it/s]\n",
      "100%|██████████| 100/100 [00:06<00:00, 15.96it/s]\n"
     ]
    },
    {
     "name": "stdout",
     "output_type": "stream",
     "text": [
      "Ergebnis für Bild ADE_train_00001765.jpg gespeichert: results/sd/ADE_train_00001765.jpg\n"
     ]
    },
    {
     "name": "stderr",
     "output_type": "stream",
     "text": [
      "100%|██████████| 25/25 [00:00<00:00, 145.77it/s]\n",
      "100%|██████████| 100/100 [00:06<00:00, 15.95it/s]\n"
     ]
    },
    {
     "name": "stdout",
     "output_type": "stream",
     "text": [
      "Ergebnis für Bild ADE_train_00001490.jpg gespeichert: results/sd/ADE_train_00001490.jpg\n"
     ]
    },
    {
     "name": "stderr",
     "output_type": "stream",
     "text": [
      "100%|██████████| 25/25 [00:00<00:00, 144.57it/s]\n",
      "100%|██████████| 100/100 [00:06<00:00, 15.97it/s]\n"
     ]
    },
    {
     "name": "stdout",
     "output_type": "stream",
     "text": [
      "Ergebnis für Bild ADE_train_00019290.jpg gespeichert: results/sd/ADE_train_00019290.jpg\n"
     ]
    },
    {
     "name": "stderr",
     "output_type": "stream",
     "text": [
      "100%|██████████| 25/25 [00:00<00:00, 145.16it/s]\n",
      "100%|██████████| 100/100 [00:06<00:00, 15.98it/s]\n"
     ]
    },
    {
     "name": "stdout",
     "output_type": "stream",
     "text": [
      "Ergebnis für Bild ADE_train_00024826.jpg gespeichert: results/sd/ADE_train_00024826.jpg\n"
     ]
    },
    {
     "name": "stderr",
     "output_type": "stream",
     "text": [
      "100%|██████████| 25/25 [00:00<00:00, 145.47it/s]\n",
      "100%|██████████| 100/100 [00:06<00:00, 16.00it/s]\n"
     ]
    },
    {
     "name": "stdout",
     "output_type": "stream",
     "text": [
      "Ergebnis für Bild ADE_train_00002172.jpg gespeichert: results/sd/ADE_train_00002172.jpg\n"
     ]
    },
    {
     "name": "stderr",
     "output_type": "stream",
     "text": [
      "100%|██████████| 25/25 [00:00<00:00, 145.17it/s]\n",
      "100%|██████████| 100/100 [00:06<00:00, 16.00it/s]\n"
     ]
    },
    {
     "name": "stdout",
     "output_type": "stream",
     "text": [
      "Ergebnis für Bild ADE_train_00012270.jpg gespeichert: results/sd/ADE_train_00012270.jpg\n"
     ]
    },
    {
     "name": "stderr",
     "output_type": "stream",
     "text": [
      "100%|██████████| 25/25 [00:00<00:00, 144.33it/s]\n",
      "100%|██████████| 100/100 [00:06<00:00, 15.96it/s]\n"
     ]
    },
    {
     "name": "stdout",
     "output_type": "stream",
     "text": [
      "Ergebnis für Bild ADE_train_00001753.jpg gespeichert: results/sd/ADE_train_00001753.jpg\n"
     ]
    },
    {
     "name": "stderr",
     "output_type": "stream",
     "text": [
      "100%|██████████| 25/25 [00:00<00:00, 144.84it/s]\n",
      "100%|██████████| 100/100 [00:06<00:00, 16.00it/s]\n"
     ]
    },
    {
     "name": "stdout",
     "output_type": "stream",
     "text": [
      "Ergebnis für Bild ADE_train_00020206.jpg gespeichert: results/sd/ADE_train_00020206.jpg\n"
     ]
    },
    {
     "name": "stderr",
     "output_type": "stream",
     "text": [
      "100%|██████████| 25/25 [00:00<00:00, 144.66it/s]\n",
      "100%|██████████| 100/100 [00:06<00:00, 15.98it/s]\n"
     ]
    },
    {
     "name": "stdout",
     "output_type": "stream",
     "text": [
      "Ergebnis für Bild ADE_train_00022735.jpg gespeichert: results/sd/ADE_train_00022735.jpg\n"
     ]
    },
    {
     "name": "stderr",
     "output_type": "stream",
     "text": [
      "100%|██████████| 25/25 [00:00<00:00, 145.26it/s]\n",
      "100%|██████████| 100/100 [00:06<00:00, 15.97it/s]\n"
     ]
    },
    {
     "name": "stdout",
     "output_type": "stream",
     "text": [
      "Ergebnis für Bild ADE_train_00009812.jpg gespeichert: results/sd/ADE_train_00009812.jpg\n"
     ]
    },
    {
     "name": "stderr",
     "output_type": "stream",
     "text": [
      "100%|██████████| 25/25 [00:00<00:00, 145.61it/s]\n",
      "100%|██████████| 100/100 [00:06<00:00, 15.96it/s]\n"
     ]
    },
    {
     "name": "stdout",
     "output_type": "stream",
     "text": [
      "Ergebnis für Bild ADE_train_00019145.jpg gespeichert: results/sd/ADE_train_00019145.jpg\n"
     ]
    },
    {
     "name": "stderr",
     "output_type": "stream",
     "text": [
      "100%|██████████| 25/25 [00:00<00:00, 144.69it/s]\n",
      "100%|██████████| 100/100 [00:06<00:00, 15.97it/s]\n"
     ]
    },
    {
     "name": "stdout",
     "output_type": "stream",
     "text": [
      "Ergebnis für Bild ADE_train_00002386.jpg gespeichert: results/sd/ADE_train_00002386.jpg\n"
     ]
    },
    {
     "name": "stderr",
     "output_type": "stream",
     "text": [
      "100%|██████████| 25/25 [00:00<00:00, 145.52it/s]\n",
      "100%|██████████| 100/100 [00:06<00:00, 15.99it/s]\n"
     ]
    },
    {
     "name": "stdout",
     "output_type": "stream",
     "text": [
      "Ergebnis für Bild ADE_train_00001773.jpg gespeichert: results/sd/ADE_train_00001773.jpg\n"
     ]
    },
    {
     "name": "stderr",
     "output_type": "stream",
     "text": [
      "100%|██████████| 25/25 [00:00<00:00, 145.36it/s]\n",
      "100%|██████████| 100/100 [00:06<00:00, 15.97it/s]\n"
     ]
    },
    {
     "name": "stdout",
     "output_type": "stream",
     "text": [
      "Ergebnis für Bild ADE_train_00002174.jpg gespeichert: results/sd/ADE_train_00002174.jpg\n"
     ]
    },
    {
     "name": "stderr",
     "output_type": "stream",
     "text": [
      "100%|██████████| 25/25 [00:00<00:00, 145.54it/s]\n",
      "100%|██████████| 100/100 [00:06<00:00, 15.90it/s]\n"
     ]
    },
    {
     "name": "stdout",
     "output_type": "stream",
     "text": [
      "Ergebnis für Bild ADE_train_00019509.jpg gespeichert: results/sd/ADE_train_00019509.jpg\n"
     ]
    },
    {
     "name": "stderr",
     "output_type": "stream",
     "text": [
      "100%|██████████| 25/25 [00:00<00:00, 145.00it/s]\n",
      "100%|██████████| 100/100 [00:06<00:00, 15.96it/s]\n"
     ]
    },
    {
     "name": "stdout",
     "output_type": "stream",
     "text": [
      "Ergebnis für Bild ADE_train_00019512.jpg gespeichert: results/sd/ADE_train_00019512.jpg\n"
     ]
    },
    {
     "name": "stderr",
     "output_type": "stream",
     "text": [
      "100%|██████████| 25/25 [00:00<00:00, 144.56it/s]\n",
      "100%|██████████| 100/100 [00:06<00:00, 16.00it/s]\n"
     ]
    },
    {
     "name": "stdout",
     "output_type": "stream",
     "text": [
      "Ergebnis für Bild ADE_train_00001788.jpg gespeichert: results/sd/ADE_train_00001788.jpg\n"
     ]
    },
    {
     "name": "stderr",
     "output_type": "stream",
     "text": [
      "100%|██████████| 25/25 [00:00<00:00, 144.54it/s]\n",
      "100%|██████████| 100/100 [00:06<00:00, 15.98it/s]\n"
     ]
    },
    {
     "name": "stdout",
     "output_type": "stream",
     "text": [
      "Ergebnis für Bild ADE_train_00002417.jpg gespeichert: results/sd/ADE_train_00002417.jpg\n"
     ]
    },
    {
     "name": "stderr",
     "output_type": "stream",
     "text": [
      "100%|██████████| 25/25 [00:00<00:00, 145.16it/s]\n",
      "100%|██████████| 100/100 [00:06<00:00, 15.97it/s]\n"
     ]
    },
    {
     "name": "stdout",
     "output_type": "stream",
     "text": [
      "Ergebnis für Bild ADE_train_00001761.jpg gespeichert: results/sd/ADE_train_00001761.jpg\n"
     ]
    },
    {
     "name": "stderr",
     "output_type": "stream",
     "text": [
      "100%|██████████| 25/25 [00:00<00:00, 145.59it/s]\n",
      "100%|██████████| 100/100 [00:06<00:00, 15.98it/s]\n"
     ]
    },
    {
     "name": "stdout",
     "output_type": "stream",
     "text": [
      "Ergebnis für Bild ADE_train_00001689.jpg gespeichert: results/sd/ADE_train_00001689.jpg\n"
     ]
    },
    {
     "name": "stderr",
     "output_type": "stream",
     "text": [
      "100%|██████████| 25/25 [00:00<00:00, 144.66it/s]\n",
      "100%|██████████| 100/100 [00:06<00:00, 16.00it/s]\n"
     ]
    },
    {
     "name": "stdout",
     "output_type": "stream",
     "text": [
      "Ergebnis für Bild ADE_train_00001657.jpg gespeichert: results/sd/ADE_train_00001657.jpg\n"
     ]
    },
    {
     "name": "stderr",
     "output_type": "stream",
     "text": [
      "100%|██████████| 25/25 [00:00<00:00, 146.03it/s]\n",
      "100%|██████████| 100/100 [00:06<00:00, 15.97it/s]\n"
     ]
    },
    {
     "name": "stdout",
     "output_type": "stream",
     "text": [
      "Ergebnis für Bild ADE_train_00000651.jpg gespeichert: results/sd/ADE_train_00000651.jpg\n"
     ]
    },
    {
     "name": "stderr",
     "output_type": "stream",
     "text": [
      "100%|██████████| 25/25 [00:00<00:00, 145.29it/s]\n",
      "100%|██████████| 100/100 [00:06<00:00, 15.97it/s]\n"
     ]
    },
    {
     "name": "stdout",
     "output_type": "stream",
     "text": [
      "Ergebnis für Bild ADE_train_00001824.jpg gespeichert: results/sd/ADE_train_00001824.jpg\n"
     ]
    },
    {
     "name": "stderr",
     "output_type": "stream",
     "text": [
      "100%|██████████| 25/25 [00:00<00:00, 145.22it/s]\n",
      "100%|██████████| 100/100 [00:06<00:00, 16.00it/s]\n"
     ]
    },
    {
     "name": "stdout",
     "output_type": "stream",
     "text": [
      "Ergebnis für Bild ADE_train_00002293.jpg gespeichert: results/sd/ADE_train_00002293.jpg\n"
     ]
    },
    {
     "name": "stderr",
     "output_type": "stream",
     "text": [
      "100%|██████████| 25/25 [00:00<00:00, 145.27it/s]\n",
      "100%|██████████| 100/100 [00:06<00:00, 15.99it/s]\n"
     ]
    },
    {
     "name": "stdout",
     "output_type": "stream",
     "text": [
      "Ergebnis für Bild ADE_train_00020241.jpg gespeichert: results/sd/ADE_train_00020241.jpg\n"
     ]
    },
    {
     "name": "stderr",
     "output_type": "stream",
     "text": [
      "100%|██████████| 25/25 [00:00<00:00, 144.15it/s]\n",
      "100%|██████████| 100/100 [00:06<00:00, 15.98it/s]\n"
     ]
    },
    {
     "name": "stdout",
     "output_type": "stream",
     "text": [
      "Ergebnis für Bild ADE_train_00008801.jpg gespeichert: results/sd/ADE_train_00008801.jpg\n"
     ]
    },
    {
     "name": "stderr",
     "output_type": "stream",
     "text": [
      "100%|██████████| 25/25 [00:00<00:00, 144.66it/s]\n",
      "100%|██████████| 100/100 [00:06<00:00, 16.01it/s]\n"
     ]
    },
    {
     "name": "stdout",
     "output_type": "stream",
     "text": [
      "Ergebnis für Bild ADE_train_00002192.jpg gespeichert: results/sd/ADE_train_00002192.jpg\n"
     ]
    },
    {
     "name": "stderr",
     "output_type": "stream",
     "text": [
      "100%|██████████| 25/25 [00:00<00:00, 145.06it/s]\n",
      "100%|██████████| 100/100 [00:06<00:00, 16.01it/s]\n"
     ]
    },
    {
     "name": "stdout",
     "output_type": "stream",
     "text": [
      "Ergebnis für Bild ADE_train_00023669.jpg gespeichert: results/sd/ADE_train_00023669.jpg\n"
     ]
    },
    {
     "name": "stderr",
     "output_type": "stream",
     "text": [
      "100%|██████████| 25/25 [00:00<00:00, 145.39it/s]\n",
      "100%|██████████| 100/100 [00:06<00:00, 15.97it/s]\n"
     ]
    },
    {
     "name": "stdout",
     "output_type": "stream",
     "text": [
      "Ergebnis für Bild ADE_train_00006613.jpg gespeichert: results/sd/ADE_train_00006613.jpg\n"
     ]
    },
    {
     "name": "stderr",
     "output_type": "stream",
     "text": [
      "100%|██████████| 25/25 [00:00<00:00, 145.50it/s]\n",
      "100%|██████████| 100/100 [00:06<00:00, 15.98it/s]\n"
     ]
    },
    {
     "name": "stdout",
     "output_type": "stream",
     "text": [
      "Ergebnis für Bild ADE_train_00002140.jpg gespeichert: results/sd/ADE_train_00002140.jpg\n"
     ]
    },
    {
     "name": "stderr",
     "output_type": "stream",
     "text": [
      "100%|██████████| 25/25 [00:00<00:00, 145.68it/s]\n",
      "100%|██████████| 100/100 [00:06<00:00, 16.00it/s]\n"
     ]
    },
    {
     "name": "stdout",
     "output_type": "stream",
     "text": [
      "Ergebnis für Bild ADE_train_00001667.jpg gespeichert: results/sd/ADE_train_00001667.jpg\n"
     ]
    },
    {
     "name": "stderr",
     "output_type": "stream",
     "text": [
      "100%|██████████| 25/25 [00:00<00:00, 145.49it/s]\n",
      "100%|██████████| 100/100 [00:06<00:00, 16.01it/s]\n"
     ]
    },
    {
     "name": "stdout",
     "output_type": "stream",
     "text": [
      "Ergebnis für Bild ADE_train_00000663.jpg gespeichert: results/sd/ADE_train_00000663.jpg\n"
     ]
    },
    {
     "name": "stderr",
     "output_type": "stream",
     "text": [
      "100%|██████████| 25/25 [00:00<00:00, 144.65it/s]\n",
      "100%|██████████| 100/100 [00:06<00:00, 16.00it/s]\n"
     ]
    },
    {
     "name": "stdout",
     "output_type": "stream",
     "text": [
      "Ergebnis für Bild ADE_train_00011594.jpg gespeichert: results/sd/ADE_train_00011594.jpg\n"
     ]
    },
    {
     "name": "stderr",
     "output_type": "stream",
     "text": [
      "100%|██████████| 25/25 [00:00<00:00, 145.86it/s]\n",
      "100%|██████████| 100/100 [00:06<00:00, 16.00it/s]\n"
     ]
    },
    {
     "name": "stdout",
     "output_type": "stream",
     "text": [
      "Ergebnis für Bild ADE_train_00019021.jpg gespeichert: results/sd/ADE_train_00019021.jpg\n"
     ]
    },
    {
     "name": "stderr",
     "output_type": "stream",
     "text": [
      "100%|██████████| 25/25 [00:00<00:00, 145.58it/s]\n",
      "100%|██████████| 100/100 [00:06<00:00, 16.01it/s]\n"
     ]
    },
    {
     "name": "stdout",
     "output_type": "stream",
     "text": [
      "Ergebnis für Bild ADE_train_00002291.jpg gespeichert: results/sd/ADE_train_00002291.jpg\n"
     ]
    },
    {
     "name": "stderr",
     "output_type": "stream",
     "text": [
      "100%|██████████| 25/25 [00:00<00:00, 144.38it/s]\n",
      "100%|██████████| 100/100 [00:06<00:00, 16.02it/s]\n"
     ]
    },
    {
     "name": "stdout",
     "output_type": "stream",
     "text": [
      "Ergebnis für Bild ADE_train_00019098.jpg gespeichert: results/sd/ADE_train_00019098.jpg\n"
     ]
    },
    {
     "name": "stderr",
     "output_type": "stream",
     "text": [
      "100%|██████████| 25/25 [00:00<00:00, 145.33it/s]\n",
      "100%|██████████| 100/100 [00:06<00:00, 15.99it/s]\n"
     ]
    },
    {
     "name": "stdout",
     "output_type": "stream",
     "text": [
      "Ergebnis für Bild ADE_train_00004242.jpg gespeichert: results/sd/ADE_train_00004242.jpg\n"
     ]
    },
    {
     "name": "stderr",
     "output_type": "stream",
     "text": [
      "100%|██████████| 25/25 [00:00<00:00, 145.12it/s]\n",
      "100%|██████████| 100/100 [00:06<00:00, 15.99it/s]\n"
     ]
    },
    {
     "name": "stdout",
     "output_type": "stream",
     "text": [
      "Ergebnis für Bild ADE_train_00020087.jpg gespeichert: results/sd/ADE_train_00020087.jpg\n"
     ]
    },
    {
     "name": "stderr",
     "output_type": "stream",
     "text": [
      "100%|██████████| 25/25 [00:00<00:00, 144.74it/s]\n",
      "100%|██████████| 100/100 [00:06<00:00, 15.99it/s]\n"
     ]
    },
    {
     "name": "stdout",
     "output_type": "stream",
     "text": [
      "Ergebnis für Bild ADE_train_00001760.jpg gespeichert: results/sd/ADE_train_00001760.jpg\n"
     ]
    },
    {
     "name": "stderr",
     "output_type": "stream",
     "text": [
      "100%|██████████| 25/25 [00:00<00:00, 145.83it/s]\n",
      "100%|██████████| 100/100 [00:06<00:00, 16.02it/s]\n"
     ]
    },
    {
     "name": "stdout",
     "output_type": "stream",
     "text": [
      "Ergebnis für Bild ADE_train_00022685.jpg gespeichert: results/sd/ADE_train_00022685.jpg\n"
     ]
    },
    {
     "name": "stderr",
     "output_type": "stream",
     "text": [
      "100%|██████████| 25/25 [00:00<00:00, 145.88it/s]\n",
      "100%|██████████| 100/100 [00:06<00:00, 16.00it/s]\n"
     ]
    },
    {
     "name": "stdout",
     "output_type": "stream",
     "text": [
      "Ergebnis für Bild ADE_train_00022678.jpg gespeichert: results/sd/ADE_train_00022678.jpg\n"
     ]
    },
    {
     "name": "stderr",
     "output_type": "stream",
     "text": [
      "100%|██████████| 25/25 [00:00<00:00, 145.67it/s]\n",
      "100%|██████████| 100/100 [00:06<00:00, 16.00it/s]\n"
     ]
    },
    {
     "name": "stdout",
     "output_type": "stream",
     "text": [
      "Ergebnis für Bild ADE_train_00024113.jpg gespeichert: results/sd/ADE_train_00024113.jpg\n"
     ]
    },
    {
     "name": "stderr",
     "output_type": "stream",
     "text": [
      "100%|██████████| 25/25 [00:00<00:00, 144.80it/s]\n",
      "100%|██████████| 100/100 [00:06<00:00, 16.01it/s]\n"
     ]
    },
    {
     "name": "stdout",
     "output_type": "stream",
     "text": [
      "Ergebnis für Bild ADE_train_00000555.jpg gespeichert: results/sd/ADE_train_00000555.jpg\n"
     ]
    },
    {
     "name": "stderr",
     "output_type": "stream",
     "text": [
      "100%|██████████| 25/25 [00:00<00:00, 145.15it/s]\n",
      "100%|██████████| 100/100 [00:06<00:00, 16.00it/s]\n"
     ]
    },
    {
     "name": "stdout",
     "output_type": "stream",
     "text": [
      "Ergebnis für Bild ADE_train_00001767.jpg gespeichert: results/sd/ADE_train_00001767.jpg\n"
     ]
    },
    {
     "name": "stderr",
     "output_type": "stream",
     "text": [
      "100%|██████████| 25/25 [00:00<00:00, 145.70it/s]\n",
      "100%|██████████| 100/100 [00:06<00:00, 15.99it/s]\n"
     ]
    },
    {
     "name": "stdout",
     "output_type": "stream",
     "text": [
      "Ergebnis für Bild ADE_train_00013814.jpg gespeichert: results/sd/ADE_train_00013814.jpg\n"
     ]
    },
    {
     "name": "stderr",
     "output_type": "stream",
     "text": [
      "100%|██████████| 25/25 [00:00<00:00, 144.85it/s]\n",
      "100%|██████████| 100/100 [00:06<00:00, 16.01it/s]\n"
     ]
    },
    {
     "name": "stdout",
     "output_type": "stream",
     "text": [
      "Ergebnis für Bild ADE_train_00019294.jpg gespeichert: results/sd/ADE_train_00019294.jpg\n"
     ]
    },
    {
     "name": "stderr",
     "output_type": "stream",
     "text": [
      "100%|██████████| 25/25 [00:00<00:00, 145.43it/s]\n",
      "100%|██████████| 100/100 [00:06<00:00, 15.97it/s]\n"
     ]
    },
    {
     "name": "stdout",
     "output_type": "stream",
     "text": [
      "Ergebnis für Bild ADE_train_00021742.jpg gespeichert: results/sd/ADE_train_00021742.jpg\n"
     ]
    },
    {
     "name": "stderr",
     "output_type": "stream",
     "text": [
      "100%|██████████| 25/25 [00:00<00:00, 145.45it/s]\n",
      "100%|██████████| 100/100 [00:06<00:00, 16.00it/s]\n"
     ]
    },
    {
     "name": "stdout",
     "output_type": "stream",
     "text": [
      "Ergebnis für Bild ADE_train_00010111.jpg gespeichert: results/sd/ADE_train_00010111.jpg\n"
     ]
    },
    {
     "name": "stderr",
     "output_type": "stream",
     "text": [
      "100%|██████████| 25/25 [00:00<00:00, 144.98it/s]\n",
      "100%|██████████| 100/100 [00:06<00:00, 15.99it/s]\n"
     ]
    },
    {
     "name": "stdout",
     "output_type": "stream",
     "text": [
      "Ergebnis für Bild ADE_train_00011671.jpg gespeichert: results/sd/ADE_train_00011671.jpg\n"
     ]
    },
    {
     "name": "stderr",
     "output_type": "stream",
     "text": [
      "100%|██████████| 25/25 [00:00<00:00, 144.78it/s]\n",
      "100%|██████████| 100/100 [00:06<00:00, 15.97it/s]\n"
     ]
    },
    {
     "name": "stdout",
     "output_type": "stream",
     "text": [
      "Ergebnis für Bild ADE_train_00001500.jpg gespeichert: results/sd/ADE_train_00001500.jpg\n"
     ]
    },
    {
     "name": "stderr",
     "output_type": "stream",
     "text": [
      "100%|██████████| 25/25 [00:00<00:00, 145.57it/s]\n",
      "100%|██████████| 100/100 [00:06<00:00, 16.00it/s]\n"
     ]
    },
    {
     "name": "stdout",
     "output_type": "stream",
     "text": [
      "Ergebnis für Bild ADE_train_00001802.jpg gespeichert: results/sd/ADE_train_00001802.jpg\n"
     ]
    },
    {
     "name": "stderr",
     "output_type": "stream",
     "text": [
      "100%|██████████| 25/25 [00:00<00:00, 145.94it/s]\n",
      "100%|██████████| 100/100 [00:06<00:00, 15.95it/s]\n"
     ]
    },
    {
     "name": "stdout",
     "output_type": "stream",
     "text": [
      "Ergebnis für Bild ADE_train_00012247.jpg gespeichert: results/sd/ADE_train_00012247.jpg\n"
     ]
    },
    {
     "name": "stderr",
     "output_type": "stream",
     "text": [
      "100%|██████████| 25/25 [00:00<00:00, 143.86it/s]\n",
      "100%|██████████| 100/100 [00:06<00:00, 15.91it/s]\n"
     ]
    },
    {
     "name": "stdout",
     "output_type": "stream",
     "text": [
      "Ergebnis für Bild ADE_train_00011663.jpg gespeichert: results/sd/ADE_train_00011663.jpg\n"
     ]
    },
    {
     "name": "stderr",
     "output_type": "stream",
     "text": [
      "100%|██████████| 25/25 [00:00<00:00, 144.98it/s]\n",
      "100%|██████████| 100/100 [00:06<00:00, 15.96it/s]\n"
     ]
    },
    {
     "name": "stdout",
     "output_type": "stream",
     "text": [
      "Ergebnis für Bild ADE_train_00012228.jpg gespeichert: results/sd/ADE_train_00012228.jpg\n"
     ]
    },
    {
     "name": "stderr",
     "output_type": "stream",
     "text": [
      "100%|██████████| 25/25 [00:00<00:00, 144.35it/s]\n",
      "100%|██████████| 100/100 [00:06<00:00, 15.96it/s]\n"
     ]
    },
    {
     "name": "stdout",
     "output_type": "stream",
     "text": [
      "Ergebnis für Bild ADE_train_00021165.jpg gespeichert: results/sd/ADE_train_00021165.jpg\n"
     ]
    },
    {
     "name": "stderr",
     "output_type": "stream",
     "text": [
      "100%|██████████| 25/25 [00:00<00:00, 143.85it/s]\n",
      "100%|██████████| 100/100 [00:06<00:00, 16.00it/s]\n"
     ]
    },
    {
     "name": "stdout",
     "output_type": "stream",
     "text": [
      "Ergebnis für Bild ADE_train_00001757.jpg gespeichert: results/sd/ADE_train_00001757.jpg\n"
     ]
    },
    {
     "name": "stderr",
     "output_type": "stream",
     "text": [
      "100%|██████████| 25/25 [00:00<00:00, 144.91it/s]\n",
      "100%|██████████| 100/100 [00:06<00:00, 16.00it/s]\n"
     ]
    },
    {
     "name": "stdout",
     "output_type": "stream",
     "text": [
      "Ergebnis für Bild ADE_frame_00000028.jpg gespeichert: results/sd/ADE_frame_00000028.jpg\n"
     ]
    },
    {
     "name": "stderr",
     "output_type": "stream",
     "text": [
      "100%|██████████| 25/25 [00:00<00:00, 144.90it/s]\n",
      "100%|██████████| 100/100 [00:06<00:00, 16.00it/s]\n"
     ]
    },
    {
     "name": "stdout",
     "output_type": "stream",
     "text": [
      "Ergebnis für Bild ADE_train_00002048.jpg gespeichert: results/sd/ADE_train_00002048.jpg\n"
     ]
    },
    {
     "name": "stderr",
     "output_type": "stream",
     "text": [
      "100%|██████████| 25/25 [00:00<00:00, 145.41it/s]\n",
      "100%|██████████| 100/100 [00:06<00:00, 16.08it/s]\n"
     ]
    },
    {
     "name": "stdout",
     "output_type": "stream",
     "text": [
      "Ergebnis für Bild ADE_train_00022697.jpg gespeichert: results/sd/ADE_train_00022697.jpg\n"
     ]
    },
    {
     "name": "stderr",
     "output_type": "stream",
     "text": [
      "100%|██████████| 25/25 [00:00<00:00, 144.16it/s]\n",
      "100%|██████████| 100/100 [00:06<00:00, 16.05it/s]\n"
     ]
    },
    {
     "name": "stdout",
     "output_type": "stream",
     "text": [
      "Ergebnis für Bild ADE_train_00001741.jpg gespeichert: results/sd/ADE_train_00001741.jpg\n"
     ]
    },
    {
     "name": "stderr",
     "output_type": "stream",
     "text": [
      "100%|██████████| 25/25 [00:00<00:00, 144.97it/s]\n",
      "100%|██████████| 100/100 [00:06<00:00, 16.08it/s]\n"
     ]
    },
    {
     "name": "stdout",
     "output_type": "stream",
     "text": [
      "Ergebnis für Bild ADE_train_00022987.jpg gespeichert: results/sd/ADE_train_00022987.jpg\n"
     ]
    },
    {
     "name": "stderr",
     "output_type": "stream",
     "text": [
      "100%|██████████| 25/25 [00:00<00:00, 145.24it/s]\n",
      "100%|██████████| 100/100 [00:06<00:00, 16.10it/s]\n"
     ]
    },
    {
     "name": "stdout",
     "output_type": "stream",
     "text": [
      "Ergebnis für Bild ADE_train_00001698.jpg gespeichert: results/sd/ADE_train_00001698.jpg\n"
     ]
    },
    {
     "name": "stderr",
     "output_type": "stream",
     "text": [
      "100%|██████████| 25/25 [00:00<00:00, 145.11it/s]\n",
      "100%|██████████| 100/100 [00:06<00:00, 16.11it/s]\n"
     ]
    },
    {
     "name": "stdout",
     "output_type": "stream",
     "text": [
      "Ergebnis für Bild ADE_train_00023738.jpg gespeichert: results/sd/ADE_train_00023738.jpg\n"
     ]
    },
    {
     "name": "stderr",
     "output_type": "stream",
     "text": [
      "100%|██████████| 25/25 [00:00<00:00, 145.23it/s]\n",
      "100%|██████████| 100/100 [00:06<00:00, 16.09it/s]\n"
     ]
    },
    {
     "name": "stdout",
     "output_type": "stream",
     "text": [
      "Ergebnis für Bild ADE_train_00006624.jpg gespeichert: results/sd/ADE_train_00006624.jpg\n"
     ]
    },
    {
     "name": "stderr",
     "output_type": "stream",
     "text": [
      "100%|██████████| 25/25 [00:00<00:00, 145.42it/s]\n",
      "100%|██████████| 100/100 [00:06<00:00, 16.22it/s]\n"
     ]
    },
    {
     "name": "stdout",
     "output_type": "stream",
     "text": [
      "Ergebnis für Bild ADE_train_00022932.jpg gespeichert: results/sd/ADE_train_00022932.jpg\n"
     ]
    },
    {
     "name": "stderr",
     "output_type": "stream",
     "text": [
      "100%|██████████| 25/25 [00:00<00:00, 144.70it/s]\n",
      "100%|██████████| 100/100 [00:06<00:00, 16.16it/s]\n"
     ]
    },
    {
     "name": "stdout",
     "output_type": "stream",
     "text": [
      "Ergebnis für Bild ADE_train_00001711.jpg gespeichert: results/sd/ADE_train_00001711.jpg\n"
     ]
    },
    {
     "name": "stderr",
     "output_type": "stream",
     "text": [
      "100%|██████████| 25/25 [00:00<00:00, 145.56it/s]\n",
      "100%|██████████| 100/100 [00:06<00:00, 16.22it/s]\n"
     ]
    },
    {
     "name": "stdout",
     "output_type": "stream",
     "text": [
      "Ergebnis für Bild ADE_train_00022635.jpg gespeichert: results/sd/ADE_train_00022635.jpg\n"
     ]
    },
    {
     "name": "stderr",
     "output_type": "stream",
     "text": [
      "100%|██████████| 25/25 [00:00<00:00, 145.27it/s]\n",
      "100%|██████████| 100/100 [00:06<00:00, 16.39it/s]\n"
     ]
    },
    {
     "name": "stdout",
     "output_type": "stream",
     "text": [
      "Ergebnis für Bild ADE_train_00000664.jpg gespeichert: results/sd/ADE_train_00000664.jpg\n"
     ]
    },
    {
     "name": "stderr",
     "output_type": "stream",
     "text": [
      "100%|██████████| 25/25 [00:00<00:00, 145.48it/s]\n",
      "100%|██████████| 100/100 [00:06<00:00, 16.36it/s]\n"
     ]
    },
    {
     "name": "stdout",
     "output_type": "stream",
     "text": [
      "Ergebnis für Bild ADE_train_00004951.jpg gespeichert: results/sd/ADE_train_00004951.jpg\n"
     ]
    },
    {
     "name": "stderr",
     "output_type": "stream",
     "text": [
      "100%|██████████| 25/25 [00:00<00:00, 144.92it/s]\n",
      "100%|██████████| 100/100 [00:06<00:00, 16.24it/s]\n"
     ]
    },
    {
     "name": "stdout",
     "output_type": "stream",
     "text": [
      "Ergebnis für Bild ADE_train_00002462.jpg gespeichert: results/sd/ADE_train_00002462.jpg\n"
     ]
    },
    {
     "name": "stderr",
     "output_type": "stream",
     "text": [
      "100%|██████████| 25/25 [00:00<00:00, 145.15it/s]\n",
      "100%|██████████| 100/100 [00:06<00:00, 16.27it/s]\n"
     ]
    },
    {
     "name": "stdout",
     "output_type": "stream",
     "text": [
      "Ergebnis für Bild ADE_train_00011716.jpg gespeichert: results/sd/ADE_train_00011716.jpg\n"
     ]
    },
    {
     "name": "stderr",
     "output_type": "stream",
     "text": [
      "100%|██████████| 25/25 [00:00<00:00, 146.06it/s]\n",
      "100%|██████████| 100/100 [00:06<00:00, 16.23it/s]\n"
     ]
    },
    {
     "name": "stdout",
     "output_type": "stream",
     "text": [
      "Ergebnis für Bild ADE_train_00001694.jpg gespeichert: results/sd/ADE_train_00001694.jpg\n"
     ]
    },
    {
     "name": "stderr",
     "output_type": "stream",
     "text": [
      "100%|██████████| 25/25 [00:00<00:00, 145.26it/s]\n",
      "100%|██████████| 100/100 [00:06<00:00, 16.27it/s]\n"
     ]
    },
    {
     "name": "stdout",
     "output_type": "stream",
     "text": [
      "Ergebnis für Bild ADE_train_00001816.jpg gespeichert: results/sd/ADE_train_00001816.jpg\n"
     ]
    },
    {
     "name": "stderr",
     "output_type": "stream",
     "text": [
      "100%|██████████| 25/25 [00:00<00:00, 145.76it/s]\n",
      "100%|██████████| 100/100 [00:06<00:00, 16.25it/s]\n"
     ]
    },
    {
     "name": "stdout",
     "output_type": "stream",
     "text": [
      "Ergebnis für Bild ADE_train_00022683.jpg gespeichert: results/sd/ADE_train_00022683.jpg\n"
     ]
    },
    {
     "name": "stderr",
     "output_type": "stream",
     "text": [
      "100%|██████████| 25/25 [00:00<00:00, 145.39it/s]\n",
      "100%|██████████| 100/100 [00:06<00:00, 16.26it/s]\n"
     ]
    },
    {
     "name": "stdout",
     "output_type": "stream",
     "text": [
      "Ergebnis für Bild ADE_train_00000656.jpg gespeichert: results/sd/ADE_train_00000656.jpg\n"
     ]
    },
    {
     "name": "stderr",
     "output_type": "stream",
     "text": [
      "100%|██████████| 25/25 [00:00<00:00, 144.82it/s]\n",
      "100%|██████████| 100/100 [00:06<00:00, 16.30it/s]\n"
     ]
    },
    {
     "name": "stdout",
     "output_type": "stream",
     "text": [
      "Ergebnis für Bild ADE_frame_00000180.jpg gespeichert: results/sd/ADE_frame_00000180.jpg\n"
     ]
    },
    {
     "name": "stderr",
     "output_type": "stream",
     "text": [
      "100%|██████████| 25/25 [00:00<00:00, 145.00it/s]\n",
      "100%|██████████| 100/100 [00:06<00:00, 16.35it/s]\n"
     ]
    },
    {
     "name": "stdout",
     "output_type": "stream",
     "text": [
      "Ergebnis für Bild ADE_train_00002388.jpg gespeichert: results/sd/ADE_train_00002388.jpg\n"
     ]
    },
    {
     "name": "stderr",
     "output_type": "stream",
     "text": [
      "100%|██████████| 25/25 [00:00<00:00, 145.71it/s]\n",
      "100%|██████████| 100/100 [00:06<00:00, 16.36it/s]\n"
     ]
    },
    {
     "name": "stdout",
     "output_type": "stream",
     "text": [
      "Ergebnis für Bild ADE_train_00012223.jpg gespeichert: results/sd/ADE_train_00012223.jpg\n"
     ]
    },
    {
     "name": "stderr",
     "output_type": "stream",
     "text": [
      "100%|██████████| 25/25 [00:00<00:00, 145.37it/s]\n",
      "100%|██████████| 100/100 [00:06<00:00, 16.36it/s]\n"
     ]
    },
    {
     "name": "stdout",
     "output_type": "stream",
     "text": [
      "Ergebnis für Bild ADE_train_00000667.jpg gespeichert: results/sd/ADE_train_00000667.jpg\n"
     ]
    },
    {
     "name": "stderr",
     "output_type": "stream",
     "text": [
      "100%|██████████| 25/25 [00:00<00:00, 145.42it/s]\n",
      "100%|██████████| 100/100 [00:06<00:00, 16.36it/s]\n"
     ]
    },
    {
     "name": "stdout",
     "output_type": "stream",
     "text": [
      "Ergebnis für Bild ADE_train_00001688.jpg gespeichert: results/sd/ADE_train_00001688.jpg\n"
     ]
    },
    {
     "name": "stderr",
     "output_type": "stream",
     "text": [
      "100%|██████████| 25/25 [00:00<00:00, 145.50it/s]\n",
      "100%|██████████| 100/100 [00:06<00:00, 16.36it/s]\n"
     ]
    },
    {
     "name": "stdout",
     "output_type": "stream",
     "text": [
      "Ergebnis für Bild ADE_train_00001762.jpg gespeichert: results/sd/ADE_train_00001762.jpg\n"
     ]
    },
    {
     "name": "stderr",
     "output_type": "stream",
     "text": [
      "100%|██████████| 25/25 [00:00<00:00, 146.29it/s]\n",
      "100%|██████████| 100/100 [00:06<00:00, 16.37it/s]\n"
     ]
    },
    {
     "name": "stdout",
     "output_type": "stream",
     "text": [
      "Ergebnis für Bild ADE_train_00016762.jpg gespeichert: results/sd/ADE_train_00016762.jpg\n"
     ]
    },
    {
     "name": "stderr",
     "output_type": "stream",
     "text": [
      "100%|██████████| 25/25 [00:00<00:00, 145.55it/s]\n",
      "100%|██████████| 100/100 [00:06<00:00, 16.38it/s]\n"
     ]
    },
    {
     "name": "stdout",
     "output_type": "stream",
     "text": [
      "Ergebnis für Bild ADE_train_00012271.jpg gespeichert: results/sd/ADE_train_00012271.jpg\n"
     ]
    },
    {
     "name": "stderr",
     "output_type": "stream",
     "text": [
      "100%|██████████| 25/25 [00:00<00:00, 146.47it/s]\n",
      "100%|██████████| 100/100 [00:06<00:00, 16.41it/s]\n"
     ]
    },
    {
     "name": "stdout",
     "output_type": "stream",
     "text": [
      "Ergebnis für Bild ADE_train_00003182.jpg gespeichert: results/sd/ADE_train_00003182.jpg\n"
     ]
    },
    {
     "name": "stderr",
     "output_type": "stream",
     "text": [
      "100%|██████████| 25/25 [00:00<00:00, 145.94it/s]\n",
      "100%|██████████| 100/100 [00:06<00:00, 16.43it/s]\n"
     ]
    },
    {
     "name": "stdout",
     "output_type": "stream",
     "text": [
      "Ergebnis für Bild ADE_train_00009805.jpg gespeichert: results/sd/ADE_train_00009805.jpg\n"
     ]
    },
    {
     "name": "stderr",
     "output_type": "stream",
     "text": [
      "100%|██████████| 25/25 [00:00<00:00, 145.07it/s]\n",
      "100%|██████████| 100/100 [00:06<00:00, 16.47it/s]\n"
     ]
    },
    {
     "name": "stdout",
     "output_type": "stream",
     "text": [
      "Ergebnis für Bild ADE_train_00019281.jpg gespeichert: results/sd/ADE_train_00019281.jpg\n"
     ]
    },
    {
     "name": "stderr",
     "output_type": "stream",
     "text": [
      "100%|██████████| 25/25 [00:00<00:00, 146.29it/s]\n",
      "100%|██████████| 100/100 [00:06<00:00, 16.41it/s]\n"
     ]
    },
    {
     "name": "stdout",
     "output_type": "stream",
     "text": [
      "Ergebnis für Bild ADE_train_00003095.jpg gespeichert: results/sd/ADE_train_00003095.jpg\n"
     ]
    },
    {
     "name": "stderr",
     "output_type": "stream",
     "text": [
      "100%|██████████| 25/25 [00:00<00:00, 144.28it/s]\n",
      "100%|██████████| 100/100 [00:06<00:00, 16.44it/s]\n"
     ]
    },
    {
     "name": "stdout",
     "output_type": "stream",
     "text": [
      "Ergebnis für Bild ADE_train_00022692.jpg gespeichert: results/sd/ADE_train_00022692.jpg\n"
     ]
    },
    {
     "name": "stderr",
     "output_type": "stream",
     "text": [
      "100%|██████████| 25/25 [00:00<00:00, 145.76it/s]\n",
      "100%|██████████| 100/100 [00:06<00:00, 16.43it/s]\n"
     ]
    },
    {
     "name": "stdout",
     "output_type": "stream",
     "text": [
      "Ergebnis für Bild ADE_train_00022703.jpg gespeichert: results/sd/ADE_train_00022703.jpg\n"
     ]
    },
    {
     "name": "stderr",
     "output_type": "stream",
     "text": [
      "100%|██████████| 25/25 [00:00<00:00, 145.66it/s]\n",
      "100%|██████████| 100/100 [00:06<00:00, 16.40it/s]\n"
     ]
    },
    {
     "name": "stdout",
     "output_type": "stream",
     "text": [
      "Ergebnis für Bild ADE_train_00023137.jpg gespeichert: results/sd/ADE_train_00023137.jpg\n"
     ]
    },
    {
     "name": "stderr",
     "output_type": "stream",
     "text": [
      "100%|██████████| 25/25 [00:00<00:00, 145.37it/s]\n",
      "100%|██████████| 100/100 [00:06<00:00, 16.45it/s]\n"
     ]
    },
    {
     "name": "stdout",
     "output_type": "stream",
     "text": [
      "Ergebnis für Bild ADE_train_00001550.jpg gespeichert: results/sd/ADE_train_00001550.jpg\n"
     ]
    },
    {
     "name": "stderr",
     "output_type": "stream",
     "text": [
      "100%|██████████| 25/25 [00:00<00:00, 145.59it/s]\n",
      "100%|██████████| 100/100 [00:06<00:00, 16.43it/s]\n"
     ]
    },
    {
     "name": "stdout",
     "output_type": "stream",
     "text": [
      "Ergebnis für Bild ADE_train_00015459.jpg gespeichert: results/sd/ADE_train_00015459.jpg\n"
     ]
    },
    {
     "name": "stderr",
     "output_type": "stream",
     "text": [
      "100%|██████████| 25/25 [00:00<00:00, 145.15it/s]\n",
      "100%|██████████| 100/100 [00:06<00:00, 16.44it/s]\n"
     ]
    },
    {
     "name": "stdout",
     "output_type": "stream",
     "text": [
      "Ergebnis für Bild ADE_train_00012249.jpg gespeichert: results/sd/ADE_train_00012249.jpg\n"
     ]
    },
    {
     "name": "stderr",
     "output_type": "stream",
     "text": [
      "100%|██████████| 25/25 [00:00<00:00, 144.60it/s]\n",
      "100%|██████████| 100/100 [00:06<00:00, 16.44it/s]\n"
     ]
    },
    {
     "name": "stdout",
     "output_type": "stream",
     "text": [
      "Ergebnis für Bild ADE_train_00020209.jpg gespeichert: results/sd/ADE_train_00020209.jpg\n"
     ]
    },
    {
     "name": "stderr",
     "output_type": "stream",
     "text": [
      "100%|██████████| 25/25 [00:00<00:00, 145.37it/s]\n",
      "100%|██████████| 100/100 [00:06<00:00, 16.47it/s]\n"
     ]
    },
    {
     "name": "stdout",
     "output_type": "stream",
     "text": [
      "Ergebnis für Bild ADE_train_00023726.jpg gespeichert: results/sd/ADE_train_00023726.jpg\n"
     ]
    },
    {
     "name": "stderr",
     "output_type": "stream",
     "text": [
      "100%|██████████| 25/25 [00:00<00:00, 143.44it/s]\n",
      "100%|██████████| 100/100 [00:06<00:00, 16.41it/s]\n"
     ]
    },
    {
     "name": "stdout",
     "output_type": "stream",
     "text": [
      "Ergebnis für Bild ADE_train_00020208.jpg gespeichert: results/sd/ADE_train_00020208.jpg\n"
     ]
    },
    {
     "name": "stderr",
     "output_type": "stream",
     "text": [
      "100%|██████████| 25/25 [00:00<00:00, 144.61it/s]\n",
      "100%|██████████| 100/100 [00:06<00:00, 16.49it/s]\n"
     ]
    },
    {
     "name": "stdout",
     "output_type": "stream",
     "text": [
      "Ergebnis für Bild ADE_train_00024475.jpg gespeichert: results/sd/ADE_train_00024475.jpg\n"
     ]
    },
    {
     "name": "stderr",
     "output_type": "stream",
     "text": [
      "100%|██████████| 25/25 [00:00<00:00, 145.14it/s]\n",
      "100%|██████████| 100/100 [00:06<00:00, 16.54it/s]\n"
     ]
    },
    {
     "name": "stdout",
     "output_type": "stream",
     "text": [
      "Ergebnis für Bild ADE_train_00004952.jpg gespeichert: results/sd/ADE_train_00004952.jpg\n"
     ]
    },
    {
     "name": "stderr",
     "output_type": "stream",
     "text": [
      "100%|██████████| 25/25 [00:00<00:00, 144.61it/s]\n",
      "100%|██████████| 100/100 [00:06<00:00, 16.46it/s]\n"
     ]
    },
    {
     "name": "stdout",
     "output_type": "stream",
     "text": [
      "Ergebnis für Bild ADE_train_00022705.jpg gespeichert: results/sd/ADE_train_00022705.jpg\n"
     ]
    },
    {
     "name": "stderr",
     "output_type": "stream",
     "text": [
      "100%|██████████| 25/25 [00:00<00:00, 144.81it/s]\n",
      "100%|██████████| 100/100 [00:06<00:00, 16.45it/s]\n"
     ]
    },
    {
     "name": "stdout",
     "output_type": "stream",
     "text": [
      "Ergebnis für Bild ADE_train_00010999.jpg gespeichert: results/sd/ADE_train_00010999.jpg\n"
     ]
    },
    {
     "name": "stderr",
     "output_type": "stream",
     "text": [
      "100%|██████████| 25/25 [00:00<00:00, 145.15it/s]\n",
      "100%|██████████| 100/100 [00:06<00:00, 16.50it/s]\n"
     ]
    },
    {
     "name": "stdout",
     "output_type": "stream",
     "text": [
      "Ergebnis für Bild ADE_train_00011664.jpg gespeichert: results/sd/ADE_train_00011664.jpg\n"
     ]
    },
    {
     "name": "stderr",
     "output_type": "stream",
     "text": [
      "100%|██████████| 25/25 [00:00<00:00, 145.23it/s]\n",
      "100%|██████████| 100/100 [00:06<00:00, 16.50it/s]\n"
     ]
    },
    {
     "name": "stdout",
     "output_type": "stream",
     "text": [
      "Ergebnis für Bild ADE_train_00022682.jpg gespeichert: results/sd/ADE_train_00022682.jpg\n"
     ]
    },
    {
     "name": "stderr",
     "output_type": "stream",
     "text": [
      "100%|██████████| 25/25 [00:00<00:00, 145.14it/s]\n",
      "100%|██████████| 100/100 [00:06<00:00, 16.53it/s]\n"
     ]
    },
    {
     "name": "stdout",
     "output_type": "stream",
     "text": [
      "Ergebnis für Bild ADE_train_00007484.jpg gespeichert: results/sd/ADE_train_00007484.jpg\n"
     ]
    },
    {
     "name": "stderr",
     "output_type": "stream",
     "text": [
      "100%|██████████| 25/25 [00:00<00:00, 144.41it/s]\n",
      "100%|██████████| 100/100 [00:06<00:00, 16.55it/s]\n"
     ]
    },
    {
     "name": "stdout",
     "output_type": "stream",
     "text": [
      "Ergebnis für Bild ADE_train_00001704.jpg gespeichert: results/sd/ADE_train_00001704.jpg\n"
     ]
    },
    {
     "name": "stderr",
     "output_type": "stream",
     "text": [
      "100%|██████████| 25/25 [00:00<00:00, 145.22it/s]\n",
      "100%|██████████| 100/100 [00:06<00:00, 16.64it/s]\n"
     ]
    },
    {
     "name": "stdout",
     "output_type": "stream",
     "text": [
      "Ergebnis für Bild ADE_train_00001336.jpg gespeichert: results/sd/ADE_train_00001336.jpg\n"
     ]
    },
    {
     "name": "stderr",
     "output_type": "stream",
     "text": [
      "100%|██████████| 25/25 [00:00<00:00, 144.92it/s]\n",
      "100%|██████████| 100/100 [00:06<00:00, 16.63it/s]\n"
     ]
    },
    {
     "name": "stdout",
     "output_type": "stream",
     "text": [
      "Ergebnis für Bild ADE_train_00015456.jpg gespeichert: results/sd/ADE_train_00015456.jpg\n"
     ]
    },
    {
     "name": "stderr",
     "output_type": "stream",
     "text": [
      "100%|██████████| 25/25 [00:00<00:00, 145.64it/s]\n",
      "100%|██████████| 100/100 [00:06<00:00, 16.64it/s]\n"
     ]
    },
    {
     "name": "stdout",
     "output_type": "stream",
     "text": [
      "Ergebnis für Bild ADE_train_00001987.jpg gespeichert: results/sd/ADE_train_00001987.jpg\n"
     ]
    },
    {
     "name": "stderr",
     "output_type": "stream",
     "text": [
      "100%|██████████| 25/25 [00:00<00:00, 145.00it/s]\n",
      "100%|██████████| 100/100 [00:06<00:00, 16.63it/s]\n"
     ]
    },
    {
     "name": "stdout",
     "output_type": "stream",
     "text": [
      "Ergebnis für Bild ADE_train_00024476.jpg gespeichert: results/sd/ADE_train_00024476.jpg\n"
     ]
    },
    {
     "name": "stderr",
     "output_type": "stream",
     "text": [
      "100%|██████████| 25/25 [00:00<00:00, 144.29it/s]\n",
      "100%|██████████| 100/100 [00:06<00:00, 16.65it/s]\n"
     ]
    },
    {
     "name": "stdout",
     "output_type": "stream",
     "text": [
      "Ergebnis für Bild ADE_train_00001774.jpg gespeichert: results/sd/ADE_train_00001774.jpg\n"
     ]
    },
    {
     "name": "stderr",
     "output_type": "stream",
     "text": [
      "100%|██████████| 25/25 [00:00<00:00, 145.33it/s]\n",
      "100%|██████████| 100/100 [00:06<00:00, 16.65it/s]\n"
     ]
    },
    {
     "name": "stdout",
     "output_type": "stream",
     "text": [
      "Ergebnis für Bild ADE_train_00001697.jpg gespeichert: results/sd/ADE_train_00001697.jpg\n"
     ]
    },
    {
     "name": "stderr",
     "output_type": "stream",
     "text": [
      "100%|██████████| 25/25 [00:00<00:00, 145.26it/s]\n",
      "100%|██████████| 100/100 [00:06<00:00, 16.66it/s]\n"
     ]
    },
    {
     "name": "stdout",
     "output_type": "stream",
     "text": [
      "Ergebnis für Bild ADE_train_00003161.jpg gespeichert: results/sd/ADE_train_00003161.jpg\n"
     ]
    },
    {
     "name": "stderr",
     "output_type": "stream",
     "text": [
      "100%|██████████| 25/25 [00:00<00:00, 144.74it/s]\n",
      "100%|██████████| 100/100 [00:05<00:00, 16.67it/s]\n"
     ]
    },
    {
     "name": "stdout",
     "output_type": "stream",
     "text": [
      "Ergebnis für Bild ADE_train_00012243.jpg gespeichert: results/sd/ADE_train_00012243.jpg\n"
     ]
    },
    {
     "name": "stderr",
     "output_type": "stream",
     "text": [
      "100%|██████████| 25/25 [00:00<00:00, 144.61it/s]\n",
      "100%|██████████| 100/100 [00:06<00:00, 16.59it/s]\n"
     ]
    },
    {
     "name": "stdout",
     "output_type": "stream",
     "text": [
      "Ergebnis für Bild ADE_train_00019094.jpg gespeichert: results/sd/ADE_train_00019094.jpg\n"
     ]
    },
    {
     "name": "stderr",
     "output_type": "stream",
     "text": [
      "100%|██████████| 25/25 [00:00<00:00, 144.47it/s]\n",
      "100%|██████████| 100/100 [00:06<00:00, 16.63it/s]\n"
     ]
    },
    {
     "name": "stdout",
     "output_type": "stream",
     "text": [
      "Ergebnis für Bild ADE_train_00005328.jpg gespeichert: results/sd/ADE_train_00005328.jpg\n"
     ]
    },
    {
     "name": "stderr",
     "output_type": "stream",
     "text": [
      "100%|██████████| 25/25 [00:00<00:00, 145.86it/s]\n",
      "100%|██████████| 100/100 [00:05<00:00, 16.79it/s]\n"
     ]
    },
    {
     "name": "stdout",
     "output_type": "stream",
     "text": [
      "Ergebnis für Bild ADE_train_00020247.jpg gespeichert: results/sd/ADE_train_00020247.jpg\n"
     ]
    },
    {
     "name": "stderr",
     "output_type": "stream",
     "text": [
      "100%|██████████| 25/25 [00:00<00:00, 144.94it/s]\n",
      "100%|██████████| 100/100 [00:05<00:00, 16.78it/s]\n"
     ]
    },
    {
     "name": "stdout",
     "output_type": "stream",
     "text": [
      "Ergebnis für Bild ADE_train_00002405.jpg gespeichert: results/sd/ADE_train_00002405.jpg\n"
     ]
    },
    {
     "name": "stderr",
     "output_type": "stream",
     "text": [
      "100%|██████████| 25/25 [00:00<00:00, 144.62it/s]\n",
      "100%|██████████| 100/100 [00:05<00:00, 16.73it/s]\n"
     ]
    },
    {
     "name": "stdout",
     "output_type": "stream",
     "text": [
      "Ergebnis für Bild ADE_train_00002346.jpg gespeichert: results/sd/ADE_train_00002346.jpg\n"
     ]
    },
    {
     "name": "stderr",
     "output_type": "stream",
     "text": [
      "100%|██████████| 25/25 [00:00<00:00, 144.87it/s]\n",
      "100%|██████████| 100/100 [00:05<00:00, 16.81it/s]\n"
     ]
    },
    {
     "name": "stdout",
     "output_type": "stream",
     "text": [
      "Ergebnis für Bild ADE_train_00001489.jpg gespeichert: results/sd/ADE_train_00001489.jpg\n"
     ]
    },
    {
     "name": "stderr",
     "output_type": "stream",
     "text": [
      "100%|██████████| 25/25 [00:00<00:00, 144.64it/s]\n",
      "100%|██████████| 100/100 [00:05<00:00, 16.82it/s]\n"
     ]
    },
    {
     "name": "stdout",
     "output_type": "stream",
     "text": [
      "Ergebnis für Bild ADE_frame_00000061.jpg gespeichert: results/sd/ADE_frame_00000061.jpg\n"
     ]
    },
    {
     "name": "stderr",
     "output_type": "stream",
     "text": [
      "100%|██████████| 25/25 [00:00<00:00, 144.76it/s]\n",
      "100%|██████████| 100/100 [00:05<00:00, 16.85it/s]\n"
     ]
    },
    {
     "name": "stdout",
     "output_type": "stream",
     "text": [
      "Ergebnis für Bild ADE_train_00022727.jpg gespeichert: results/sd/ADE_train_00022727.jpg\n"
     ]
    },
    {
     "name": "stderr",
     "output_type": "stream",
     "text": [
      "100%|██████████| 25/25 [00:00<00:00, 145.32it/s]\n",
      "100%|██████████| 100/100 [00:05<00:00, 16.84it/s]\n"
     ]
    },
    {
     "name": "stdout",
     "output_type": "stream",
     "text": [
      "Ergebnis für Bild ADE_train_00024577.jpg gespeichert: results/sd/ADE_train_00024577.jpg\n"
     ]
    },
    {
     "name": "stderr",
     "output_type": "stream",
     "text": [
      "100%|██████████| 25/25 [00:00<00:00, 145.04it/s]\n",
      "100%|██████████| 100/100 [00:05<00:00, 16.81it/s]\n"
     ]
    },
    {
     "name": "stdout",
     "output_type": "stream",
     "text": [
      "Ergebnis für Bild ADE_train_00001701.jpg gespeichert: results/sd/ADE_train_00001701.jpg\n"
     ]
    },
    {
     "name": "stderr",
     "output_type": "stream",
     "text": [
      "100%|██████████| 25/25 [00:00<00:00, 144.98it/s]\n",
      "100%|██████████| 100/100 [00:05<00:00, 16.80it/s]\n"
     ]
    },
    {
     "name": "stdout",
     "output_type": "stream",
     "text": [
      "Ergebnis für Bild ADE_train_00001498.jpg gespeichert: results/sd/ADE_train_00001498.jpg\n"
     ]
    },
    {
     "name": "stderr",
     "output_type": "stream",
     "text": [
      "100%|██████████| 25/25 [00:00<00:00, 145.02it/s]\n",
      "100%|██████████| 100/100 [00:05<00:00, 16.86it/s]\n"
     ]
    },
    {
     "name": "stdout",
     "output_type": "stream",
     "text": [
      "Ergebnis für Bild ADE_train_00023727.jpg gespeichert: results/sd/ADE_train_00023727.jpg\n"
     ]
    },
    {
     "name": "stderr",
     "output_type": "stream",
     "text": [
      "100%|██████████| 25/25 [00:00<00:00, 144.07it/s]\n",
      "100%|██████████| 100/100 [00:05<00:00, 16.87it/s]\n"
     ]
    },
    {
     "name": "stdout",
     "output_type": "stream",
     "text": [
      "Ergebnis für Bild ADE_train_00008812.jpg gespeichert: results/sd/ADE_train_00008812.jpg\n"
     ]
    },
    {
     "name": "stderr",
     "output_type": "stream",
     "text": [
      "100%|██████████| 25/25 [00:00<00:00, 144.74it/s]\n",
      "100%|██████████| 100/100 [00:05<00:00, 16.84it/s]\n"
     ]
    },
    {
     "name": "stdout",
     "output_type": "stream",
     "text": [
      "Ergebnis für Bild ADE_train_00022686.jpg gespeichert: results/sd/ADE_train_00022686.jpg\n"
     ]
    },
    {
     "name": "stderr",
     "output_type": "stream",
     "text": [
      "100%|██████████| 25/25 [00:00<00:00, 144.65it/s]\n",
      "100%|██████████| 100/100 [00:05<00:00, 16.81it/s]\n"
     ]
    },
    {
     "name": "stdout",
     "output_type": "stream",
     "text": [
      "Ergebnis für Bild ADE_train_00019286.jpg gespeichert: results/sd/ADE_train_00019286.jpg\n"
     ]
    },
    {
     "name": "stderr",
     "output_type": "stream",
     "text": [
      "100%|██████████| 25/25 [00:00<00:00, 144.64it/s]\n",
      "100%|██████████| 100/100 [00:05<00:00, 16.90it/s]\n"
     ]
    },
    {
     "name": "stdout",
     "output_type": "stream",
     "text": [
      "Ergebnis für Bild ADE_train_00005542.jpg gespeichert: results/sd/ADE_train_00005542.jpg\n"
     ]
    },
    {
     "name": "stderr",
     "output_type": "stream",
     "text": [
      "100%|██████████| 25/25 [00:00<00:00, 143.96it/s]\n",
      "100%|██████████| 100/100 [00:05<00:00, 16.94it/s]\n"
     ]
    },
    {
     "name": "stdout",
     "output_type": "stream",
     "text": [
      "Ergebnis für Bild ADE_train_00012237.jpg gespeichert: results/sd/ADE_train_00012237.jpg\n"
     ]
    },
    {
     "name": "stderr",
     "output_type": "stream",
     "text": [
      "100%|██████████| 25/25 [00:00<00:00, 144.79it/s]\n",
      "100%|██████████| 100/100 [00:05<00:00, 16.86it/s]\n"
     ]
    },
    {
     "name": "stdout",
     "output_type": "stream",
     "text": [
      "Ergebnis für Bild ADE_train_00003168.jpg gespeichert: results/sd/ADE_train_00003168.jpg\n"
     ]
    },
    {
     "name": "stderr",
     "output_type": "stream",
     "text": [
      "100%|██████████| 25/25 [00:00<00:00, 145.40it/s]\n",
      "100%|██████████| 100/100 [00:05<00:00, 16.88it/s]\n"
     ]
    },
    {
     "name": "stdout",
     "output_type": "stream",
     "text": [
      "Ergebnis für Bild ADE_train_00002045.jpg gespeichert: results/sd/ADE_train_00002045.jpg\n"
     ]
    },
    {
     "name": "stderr",
     "output_type": "stream",
     "text": [
      "100%|██████████| 25/25 [00:00<00:00, 144.99it/s]\n",
      "100%|██████████| 100/100 [00:05<00:00, 16.93it/s]\n"
     ]
    },
    {
     "name": "stdout",
     "output_type": "stream",
     "text": [
      "Ergebnis für Bild ADE_train_00019004.jpg gespeichert: results/sd/ADE_train_00019004.jpg\n"
     ]
    },
    {
     "name": "stderr",
     "output_type": "stream",
     "text": [
      "100%|██████████| 25/25 [00:00<00:00, 145.24it/s]\n",
      "100%|██████████| 100/100 [00:05<00:00, 16.91it/s]\n"
     ]
    },
    {
     "name": "stdout",
     "output_type": "stream",
     "text": [
      "Ergebnis für Bild ADE_train_00007507.jpg gespeichert: results/sd/ADE_train_00007507.jpg\n"
     ]
    },
    {
     "name": "stderr",
     "output_type": "stream",
     "text": [
      "100%|██████████| 25/25 [00:00<00:00, 144.25it/s]\n",
      "100%|██████████| 100/100 [00:05<00:00, 16.94it/s]\n"
     ]
    },
    {
     "name": "stdout",
     "output_type": "stream",
     "text": [
      "Ergebnis für Bild ADE_train_00015453.jpg gespeichert: results/sd/ADE_train_00015453.jpg\n"
     ]
    },
    {
     "name": "stderr",
     "output_type": "stream",
     "text": [
      "100%|██████████| 25/25 [00:00<00:00, 144.92it/s]\n",
      "100%|██████████| 100/100 [00:05<00:00, 16.94it/s]\n"
     ]
    },
    {
     "name": "stdout",
     "output_type": "stream",
     "text": [
      "Ergebnis für Bild ADE_train_00016855.jpg gespeichert: results/sd/ADE_train_00016855.jpg\n"
     ]
    },
    {
     "name": "stderr",
     "output_type": "stream",
     "text": [
      "100%|██████████| 25/25 [00:00<00:00, 145.68it/s]\n",
      "100%|██████████| 100/100 [00:05<00:00, 16.95it/s]\n"
     ]
    },
    {
     "name": "stdout",
     "output_type": "stream",
     "text": [
      "Ergebnis für Bild ADE_train_00006150.jpg gespeichert: results/sd/ADE_train_00006150.jpg\n"
     ]
    },
    {
     "name": "stderr",
     "output_type": "stream",
     "text": [
      "100%|██████████| 25/25 [00:00<00:00, 145.40it/s]\n",
      "100%|██████████| 100/100 [00:05<00:00, 16.80it/s]\n"
     ]
    },
    {
     "name": "stdout",
     "output_type": "stream",
     "text": [
      "Ergebnis für Bild ADE_train_00002054.jpg gespeichert: results/sd/ADE_train_00002054.jpg\n"
     ]
    },
    {
     "name": "stderr",
     "output_type": "stream",
     "text": [
      "100%|██████████| 25/25 [00:00<00:00, 145.53it/s]\n",
      "100%|██████████| 100/100 [00:05<00:00, 16.83it/s]\n"
     ]
    },
    {
     "name": "stdout",
     "output_type": "stream",
     "text": [
      "Ergebnis für Bild ADE_train_00024687.jpg gespeichert: results/sd/ADE_train_00024687.jpg\n"
     ]
    },
    {
     "name": "stderr",
     "output_type": "stream",
     "text": [
      "100%|██████████| 25/25 [00:00<00:00, 145.27it/s]\n",
      "100%|██████████| 100/100 [00:05<00:00, 16.98it/s]\n"
     ]
    },
    {
     "name": "stdout",
     "output_type": "stream",
     "text": [
      "Ergebnis für Bild ADE_train_00002366.jpg gespeichert: results/sd/ADE_train_00002366.jpg\n"
     ]
    },
    {
     "name": "stderr",
     "output_type": "stream",
     "text": [
      "100%|██████████| 25/25 [00:00<00:00, 145.51it/s]\n",
      "100%|██████████| 100/100 [00:05<00:00, 16.95it/s]\n"
     ]
    },
    {
     "name": "stdout",
     "output_type": "stream",
     "text": [
      "Ergebnis für Bild ADE_train_00001747.jpg gespeichert: results/sd/ADE_train_00001747.jpg\n"
     ]
    },
    {
     "name": "stderr",
     "output_type": "stream",
     "text": [
      "100%|██████████| 25/25 [00:00<00:00, 145.09it/s]\n",
      "100%|██████████| 100/100 [00:05<00:00, 16.97it/s]\n"
     ]
    },
    {
     "name": "stdout",
     "output_type": "stream",
     "text": [
      "Ergebnis für Bild ADE_train_00025118.jpg gespeichert: results/sd/ADE_train_00025118.jpg\n"
     ]
    },
    {
     "name": "stderr",
     "output_type": "stream",
     "text": [
      "100%|██████████| 25/25 [00:00<00:00, 145.94it/s]\n",
      "100%|██████████| 100/100 [00:05<00:00, 16.97it/s]\n"
     ]
    },
    {
     "name": "stdout",
     "output_type": "stream",
     "text": [
      "Ergebnis für Bild ADE_train_00007690.jpg gespeichert: results/sd/ADE_train_00007690.jpg\n"
     ]
    },
    {
     "name": "stderr",
     "output_type": "stream",
     "text": [
      "100%|██████████| 25/25 [00:00<00:00, 146.30it/s]\n",
      "100%|██████████| 100/100 [00:05<00:00, 16.97it/s]\n"
     ]
    },
    {
     "name": "stdout",
     "output_type": "stream",
     "text": [
      "Ergebnis für Bild ADE_frame_00000142.jpg gespeichert: results/sd/ADE_frame_00000142.jpg\n"
     ]
    },
    {
     "name": "stderr",
     "output_type": "stream",
     "text": [
      "100%|██████████| 25/25 [00:00<00:00, 145.94it/s]\n",
      "100%|██████████| 100/100 [00:05<00:00, 17.01it/s]\n"
     ]
    },
    {
     "name": "stdout",
     "output_type": "stream",
     "text": [
      "Ergebnis für Bild ADE_train_00022762.jpg gespeichert: results/sd/ADE_train_00022762.jpg\n"
     ]
    },
    {
     "name": "stderr",
     "output_type": "stream",
     "text": [
      "100%|██████████| 25/25 [00:00<00:00, 144.71it/s]\n",
      "100%|██████████| 100/100 [00:05<00:00, 16.98it/s]\n"
     ]
    },
    {
     "name": "stdout",
     "output_type": "stream",
     "text": [
      "Ergebnis für Bild ADE_train_00001655.jpg gespeichert: results/sd/ADE_train_00001655.jpg\n"
     ]
    },
    {
     "name": "stderr",
     "output_type": "stream",
     "text": [
      "100%|██████████| 25/25 [00:00<00:00, 145.40it/s]\n",
      "100%|██████████| 100/100 [00:05<00:00, 17.01it/s]\n"
     ]
    },
    {
     "name": "stdout",
     "output_type": "stream",
     "text": [
      "Ergebnis für Bild ADE_train_00001717.jpg gespeichert: results/sd/ADE_train_00001717.jpg\n"
     ]
    },
    {
     "name": "stderr",
     "output_type": "stream",
     "text": [
      "100%|██████████| 25/25 [00:00<00:00, 145.76it/s]\n",
      "100%|██████████| 100/100 [00:05<00:00, 16.98it/s]\n"
     ]
    },
    {
     "name": "stdout",
     "output_type": "stream",
     "text": [
      "Ergebnis für Bild ADE_train_00001680.jpg gespeichert: results/sd/ADE_train_00001680.jpg\n"
     ]
    },
    {
     "name": "stderr",
     "output_type": "stream",
     "text": [
      "100%|██████████| 25/25 [00:00<00:00, 145.23it/s]\n",
      "100%|██████████| 100/100 [00:05<00:00, 17.02it/s]\n"
     ]
    },
    {
     "name": "stdout",
     "output_type": "stream",
     "text": [
      "Ergebnis für Bild ADE_train_00012214.jpg gespeichert: results/sd/ADE_train_00012214.jpg\n"
     ]
    },
    {
     "name": "stderr",
     "output_type": "stream",
     "text": [
      "100%|██████████| 25/25 [00:00<00:00, 144.99it/s]\n",
      "100%|██████████| 100/100 [00:05<00:00, 17.00it/s]\n"
     ]
    },
    {
     "name": "stdout",
     "output_type": "stream",
     "text": [
      "Ergebnis für Bild ADE_train_00008808.jpg gespeichert: results/sd/ADE_train_00008808.jpg\n"
     ]
    },
    {
     "name": "stderr",
     "output_type": "stream",
     "text": [
      "100%|██████████| 25/25 [00:00<00:00, 146.05it/s]\n",
      "100%|██████████| 100/100 [00:05<00:00, 16.80it/s]\n"
     ]
    },
    {
     "name": "stdout",
     "output_type": "stream",
     "text": [
      "Ergebnis für Bild ADE_train_00005327.jpg gespeichert: results/sd/ADE_train_00005327.jpg\n"
     ]
    },
    {
     "name": "stderr",
     "output_type": "stream",
     "text": [
      "100%|██████████| 25/25 [00:00<00:00, 145.04it/s]\n",
      "100%|██████████| 100/100 [00:05<00:00, 16.80it/s]\n"
     ]
    },
    {
     "name": "stdout",
     "output_type": "stream",
     "text": [
      "Ergebnis für Bild ADE_train_00019288.jpg gespeichert: results/sd/ADE_train_00019288.jpg\n"
     ]
    },
    {
     "name": "stderr",
     "output_type": "stream",
     "text": [
      "100%|██████████| 25/25 [00:00<00:00, 145.65it/s]\n",
      "100%|██████████| 100/100 [00:05<00:00, 16.95it/s]\n"
     ]
    },
    {
     "name": "stdout",
     "output_type": "stream",
     "text": [
      "Ergebnis für Bild ADE_frame_00000191.jpg gespeichert: results/sd/ADE_frame_00000191.jpg\n"
     ]
    },
    {
     "name": "stderr",
     "output_type": "stream",
     "text": [
      "100%|██████████| 25/25 [00:00<00:00, 145.42it/s]\n",
      "100%|██████████| 100/100 [00:05<00:00, 16.94it/s]\n"
     ]
    },
    {
     "name": "stdout",
     "output_type": "stream",
     "text": [
      "Ergebnis für Bild ADE_train_00024362.jpg gespeichert: results/sd/ADE_train_00024362.jpg\n"
     ]
    },
    {
     "name": "stderr",
     "output_type": "stream",
     "text": [
      "100%|██████████| 25/25 [00:00<00:00, 145.14it/s]\n",
      "100%|██████████| 100/100 [00:05<00:00, 17.03it/s]\n"
     ]
    },
    {
     "name": "stdout",
     "output_type": "stream",
     "text": [
      "Ergebnis für Bild ADE_train_00009990.jpg gespeichert: results/sd/ADE_train_00009990.jpg\n"
     ]
    },
    {
     "name": "stderr",
     "output_type": "stream",
     "text": [
      "100%|██████████| 25/25 [00:00<00:00, 145.95it/s]\n",
      "100%|██████████| 100/100 [00:05<00:00, 16.95it/s]\n"
     ]
    },
    {
     "name": "stdout",
     "output_type": "stream",
     "text": [
      "Ergebnis für Bild ADE_train_00007689.jpg gespeichert: results/sd/ADE_train_00007689.jpg\n"
     ]
    },
    {
     "name": "stderr",
     "output_type": "stream",
     "text": [
      "100%|██████████| 25/25 [00:00<00:00, 145.53it/s]\n",
      "100%|██████████| 100/100 [00:05<00:00, 17.02it/s]\n"
     ]
    },
    {
     "name": "stdout",
     "output_type": "stream",
     "text": [
      "Ergebnis für Bild ADE_train_00002274.jpg gespeichert: results/sd/ADE_train_00002274.jpg\n"
     ]
    },
    {
     "name": "stderr",
     "output_type": "stream",
     "text": [
      "100%|██████████| 25/25 [00:00<00:00, 145.81it/s]\n",
      "100%|██████████| 100/100 [00:05<00:00, 16.97it/s]\n"
     ]
    },
    {
     "name": "stdout",
     "output_type": "stream",
     "text": [
      "Ergebnis für Bild ADE_train_00003167.jpg gespeichert: results/sd/ADE_train_00003167.jpg\n"
     ]
    },
    {
     "name": "stderr",
     "output_type": "stream",
     "text": [
      "100%|██████████| 25/25 [00:00<00:00, 144.91it/s]\n",
      "100%|██████████| 100/100 [00:05<00:00, 17.01it/s]\n"
     ]
    },
    {
     "name": "stdout",
     "output_type": "stream",
     "text": [
      "Ergebnis für Bild ADE_train_00003189.jpg gespeichert: results/sd/ADE_train_00003189.jpg\n"
     ]
    },
    {
     "name": "stderr",
     "output_type": "stream",
     "text": [
      "100%|██████████| 25/25 [00:00<00:00, 145.73it/s]\n",
      "100%|██████████| 100/100 [00:05<00:00, 17.03it/s]\n"
     ]
    },
    {
     "name": "stdout",
     "output_type": "stream",
     "text": [
      "Ergebnis für Bild ADE_train_00020082.jpg gespeichert: results/sd/ADE_train_00020082.jpg\n"
     ]
    },
    {
     "name": "stderr",
     "output_type": "stream",
     "text": [
      "100%|██████████| 25/25 [00:00<00:00, 145.08it/s]\n",
      "100%|██████████| 100/100 [00:05<00:00, 17.02it/s]\n"
     ]
    },
    {
     "name": "stdout",
     "output_type": "stream",
     "text": [
      "Ergebnis für Bild ADE_train_00004302.jpg gespeichert: results/sd/ADE_train_00004302.jpg\n"
     ]
    },
    {
     "name": "stderr",
     "output_type": "stream",
     "text": [
      "100%|██████████| 25/25 [00:00<00:00, 145.41it/s]\n",
      "100%|██████████| 100/100 [00:05<00:00, 16.87it/s]\n"
     ]
    },
    {
     "name": "stdout",
     "output_type": "stream",
     "text": [
      "Ergebnis für Bild ADE_train_00001797.jpg gespeichert: results/sd/ADE_train_00001797.jpg\n"
     ]
    },
    {
     "name": "stderr",
     "output_type": "stream",
     "text": [
      "100%|██████████| 25/25 [00:00<00:00, 145.24it/s]\n",
      "100%|██████████| 100/100 [00:05<00:00, 17.00it/s]\n"
     ]
    },
    {
     "name": "stdout",
     "output_type": "stream",
     "text": [
      "Ergebnis für Bild ADE_train_00022699.jpg gespeichert: results/sd/ADE_train_00022699.jpg\n"
     ]
    },
    {
     "name": "stderr",
     "output_type": "stream",
     "text": [
      "100%|██████████| 25/25 [00:00<00:00, 145.16it/s]\n",
      "100%|██████████| 100/100 [00:05<00:00, 17.05it/s]\n"
     ]
    },
    {
     "name": "stdout",
     "output_type": "stream",
     "text": [
      "Ergebnis für Bild ADE_train_00012241.jpg gespeichert: results/sd/ADE_train_00012241.jpg\n"
     ]
    },
    {
     "name": "stderr",
     "output_type": "stream",
     "text": [
      "100%|██████████| 25/25 [00:00<00:00, 144.83it/s]\n",
      "100%|██████████| 100/100 [00:05<00:00, 17.03it/s]\n"
     ]
    },
    {
     "name": "stdout",
     "output_type": "stream",
     "text": [
      "Ergebnis für Bild ADE_train_00001804.jpg gespeichert: results/sd/ADE_train_00001804.jpg\n"
     ]
    },
    {
     "name": "stderr",
     "output_type": "stream",
     "text": [
      "100%|██████████| 25/25 [00:00<00:00, 145.08it/s]\n",
      "100%|██████████| 100/100 [00:05<00:00, 16.89it/s]\n"
     ]
    },
    {
     "name": "stdout",
     "output_type": "stream",
     "text": [
      "Ergebnis für Bild ADE_train_00022758.jpg gespeichert: results/sd/ADE_train_00022758.jpg\n"
     ]
    },
    {
     "name": "stderr",
     "output_type": "stream",
     "text": [
      "100%|██████████| 25/25 [00:00<00:00, 145.77it/s]\n",
      "100%|██████████| 100/100 [00:05<00:00, 16.99it/s]\n"
     ]
    },
    {
     "name": "stdout",
     "output_type": "stream",
     "text": [
      "Ergebnis für Bild ADE_train_00013811.jpg gespeichert: results/sd/ADE_train_00013811.jpg\n"
     ]
    },
    {
     "name": "stderr",
     "output_type": "stream",
     "text": [
      "100%|██████████| 25/25 [00:00<00:00, 145.54it/s]\n",
      "100%|██████████| 100/100 [00:05<00:00, 16.92it/s]\n"
     ]
    },
    {
     "name": "stdout",
     "output_type": "stream",
     "text": [
      "Ergebnis für Bild ADE_train_00001755.jpg gespeichert: results/sd/ADE_train_00001755.jpg\n"
     ]
    },
    {
     "name": "stderr",
     "output_type": "stream",
     "text": [
      "100%|██████████| 25/25 [00:00<00:00, 145.97it/s]\n",
      "100%|██████████| 100/100 [00:05<00:00, 16.97it/s]\n"
     ]
    },
    {
     "name": "stdout",
     "output_type": "stream",
     "text": [
      "Ergebnis für Bild ADE_train_00001805.jpg gespeichert: results/sd/ADE_train_00001805.jpg\n"
     ]
    },
    {
     "name": "stderr",
     "output_type": "stream",
     "text": [
      "100%|██████████| 25/25 [00:00<00:00, 145.40it/s]\n",
      "100%|██████████| 100/100 [00:05<00:00, 16.97it/s]\n"
     ]
    },
    {
     "name": "stdout",
     "output_type": "stream",
     "text": [
      "Ergebnis für Bild ADE_train_00022731.jpg gespeichert: results/sd/ADE_train_00022731.jpg\n"
     ]
    },
    {
     "name": "stderr",
     "output_type": "stream",
     "text": [
      "100%|██████████| 25/25 [00:00<00:00, 145.78it/s]\n",
      "100%|██████████| 100/100 [00:05<00:00, 17.20it/s]\n"
     ]
    },
    {
     "name": "stdout",
     "output_type": "stream",
     "text": [
      "Ergebnis für Bild ADE_train_00009807.jpg gespeichert: results/sd/ADE_train_00009807.jpg\n"
     ]
    },
    {
     "name": "stderr",
     "output_type": "stream",
     "text": [
      "100%|██████████| 25/25 [00:00<00:00, 145.29it/s]\n",
      "100%|██████████| 100/100 [00:05<00:00, 17.21it/s]\n"
     ]
    },
    {
     "name": "stdout",
     "output_type": "stream",
     "text": [
      "Ergebnis für Bild ADE_train_00001974.jpg gespeichert: results/sd/ADE_train_00001974.jpg\n"
     ]
    },
    {
     "name": "stderr",
     "output_type": "stream",
     "text": [
      "100%|██████████| 25/25 [00:00<00:00, 145.74it/s]\n",
      "100%|██████████| 100/100 [00:05<00:00, 17.09it/s]\n"
     ]
    },
    {
     "name": "stdout",
     "output_type": "stream",
     "text": [
      "Ergebnis für Bild ADE_train_00020471.jpg gespeichert: results/sd/ADE_train_00020471.jpg\n"
     ]
    },
    {
     "name": "stderr",
     "output_type": "stream",
     "text": [
      "100%|██████████| 25/25 [00:00<00:00, 146.49it/s]\n",
      "100%|██████████| 100/100 [00:05<00:00, 17.09it/s]\n"
     ]
    },
    {
     "name": "stdout",
     "output_type": "stream",
     "text": [
      "Ergebnis für Bild ADE_train_00002165.jpg gespeichert: results/sd/ADE_train_00002165.jpg\n"
     ]
    },
    {
     "name": "stderr",
     "output_type": "stream",
     "text": [
      "100%|██████████| 25/25 [00:00<00:00, 145.58it/s]\n",
      "100%|██████████| 100/100 [00:05<00:00, 16.97it/s]\n"
     ]
    },
    {
     "name": "stdout",
     "output_type": "stream",
     "text": [
      "Ergebnis für Bild ADE_train_00024550.jpg gespeichert: results/sd/ADE_train_00024550.jpg\n"
     ]
    },
    {
     "name": "stderr",
     "output_type": "stream",
     "text": [
      "100%|██████████| 25/25 [00:00<00:00, 145.27it/s]\n",
      "100%|██████████| 100/100 [00:05<00:00, 17.11it/s]\n"
     ]
    },
    {
     "name": "stdout",
     "output_type": "stream",
     "text": [
      "Ergebnis für Bild ADE_train_00006609.jpg gespeichert: results/sd/ADE_train_00006609.jpg\n"
     ]
    },
    {
     "name": "stderr",
     "output_type": "stream",
     "text": [
      "100%|██████████| 25/25 [00:00<00:00, 145.20it/s]\n",
      "100%|██████████| 100/100 [00:05<00:00, 17.14it/s]\n"
     ]
    },
    {
     "name": "stdout",
     "output_type": "stream",
     "text": [
      "Ergebnis für Bild ADE_train_00010919.jpg gespeichert: results/sd/ADE_train_00010919.jpg\n"
     ]
    },
    {
     "name": "stderr",
     "output_type": "stream",
     "text": [
      "100%|██████████| 25/25 [00:00<00:00, 144.35it/s]\n",
      "100%|██████████| 100/100 [00:05<00:00, 17.04it/s]\n"
     ]
    },
    {
     "name": "stdout",
     "output_type": "stream",
     "text": [
      "Ergebnis für Bild ADE_frame_00000005.jpg gespeichert: results/sd/ADE_frame_00000005.jpg\n"
     ]
    },
    {
     "name": "stderr",
     "output_type": "stream",
     "text": [
      "100%|██████████| 25/25 [00:00<00:00, 144.58it/s]\n",
      "100%|██████████| 100/100 [00:05<00:00, 17.00it/s]\n"
     ]
    },
    {
     "name": "stdout",
     "output_type": "stream",
     "text": [
      "Ergebnis für Bild ADE_train_00022242.jpg gespeichert: results/sd/ADE_train_00022242.jpg\n"
     ]
    },
    {
     "name": "stderr",
     "output_type": "stream",
     "text": [
      "100%|██████████| 25/25 [00:00<00:00, 145.56it/s]\n",
      "100%|██████████| 100/100 [00:05<00:00, 17.08it/s]\n"
     ]
    },
    {
     "name": "stdout",
     "output_type": "stream",
     "text": [
      "Ergebnis für Bild ADE_train_00004377.jpg gespeichert: results/sd/ADE_train_00004377.jpg\n"
     ]
    },
    {
     "name": "stderr",
     "output_type": "stream",
     "text": [
      "100%|██████████| 25/25 [00:00<00:00, 145.40it/s]\n",
      "100%|██████████| 100/100 [00:05<00:00, 17.01it/s]\n"
     ]
    },
    {
     "name": "stdout",
     "output_type": "stream",
     "text": [
      "Ergebnis für Bild ADE_train_00001565.jpg gespeichert: results/sd/ADE_train_00001565.jpg\n"
     ]
    },
    {
     "name": "stderr",
     "output_type": "stream",
     "text": [
      "100%|██████████| 25/25 [00:00<00:00, 145.21it/s]\n",
      "100%|██████████| 100/100 [00:05<00:00, 17.18it/s]\n"
     ]
    },
    {
     "name": "stdout",
     "output_type": "stream",
     "text": [
      "Ergebnis für Bild ADE_train_00012236.jpg gespeichert: results/sd/ADE_train_00012236.jpg\n"
     ]
    },
    {
     "name": "stderr",
     "output_type": "stream",
     "text": [
      "100%|██████████| 25/25 [00:00<00:00, 144.89it/s]\n",
      "100%|██████████| 100/100 [00:05<00:00, 17.08it/s]\n"
     ]
    },
    {
     "name": "stdout",
     "output_type": "stream",
     "text": [
      "Ergebnis für Bild ADE_train_00003169.jpg gespeichert: results/sd/ADE_train_00003169.jpg\n"
     ]
    },
    {
     "name": "stderr",
     "output_type": "stream",
     "text": [
      "100%|██████████| 25/25 [00:00<00:00, 144.59it/s]\n",
      "100%|██████████| 100/100 [00:05<00:00, 17.03it/s]\n"
     ]
    },
    {
     "name": "stdout",
     "output_type": "stream",
     "text": [
      "Ergebnis für Bild ADE_train_00012187.jpg gespeichert: results/sd/ADE_train_00012187.jpg\n"
     ]
    },
    {
     "name": "stderr",
     "output_type": "stream",
     "text": [
      "100%|██████████| 25/25 [00:00<00:00, 145.04it/s]\n",
      "100%|██████████| 100/100 [00:05<00:00, 17.01it/s]\n"
     ]
    },
    {
     "name": "stdout",
     "output_type": "stream",
     "text": [
      "Ergebnis für Bild ADE_train_00022761.jpg gespeichert: results/sd/ADE_train_00022761.jpg\n"
     ]
    },
    {
     "name": "stderr",
     "output_type": "stream",
     "text": [
      "100%|██████████| 25/25 [00:00<00:00, 144.74it/s]\n",
      "100%|██████████| 100/100 [00:05<00:00, 17.16it/s]\n"
     ]
    },
    {
     "name": "stdout",
     "output_type": "stream",
     "text": [
      "Ergebnis für Bild ADE_train_00001813.jpg gespeichert: results/sd/ADE_train_00001813.jpg\n"
     ]
    },
    {
     "name": "stderr",
     "output_type": "stream",
     "text": [
      "100%|██████████| 25/25 [00:00<00:00, 145.13it/s]\n",
      "100%|██████████| 100/100 [00:05<00:00, 17.08it/s]\n"
     ]
    },
    {
     "name": "stdout",
     "output_type": "stream",
     "text": [
      "Ergebnis für Bild ADE_train_00008217.jpg gespeichert: results/sd/ADE_train_00008217.jpg\n"
     ]
    },
    {
     "name": "stderr",
     "output_type": "stream",
     "text": [
      "100%|██████████| 25/25 [00:00<00:00, 144.94it/s]\n",
      "100%|██████████| 100/100 [00:05<00:00, 16.99it/s]\n"
     ]
    },
    {
     "name": "stdout",
     "output_type": "stream",
     "text": [
      "Ergebnis für Bild ADE_train_00007685.jpg gespeichert: results/sd/ADE_train_00007685.jpg\n"
     ]
    },
    {
     "name": "stderr",
     "output_type": "stream",
     "text": [
      "100%|██████████| 25/25 [00:00<00:00, 145.31it/s]\n",
      "100%|██████████| 100/100 [00:05<00:00, 17.14it/s]\n"
     ]
    },
    {
     "name": "stdout",
     "output_type": "stream",
     "text": [
      "Ergebnis für Bild ADE_train_00001699.jpg gespeichert: results/sd/ADE_train_00001699.jpg\n"
     ]
    },
    {
     "name": "stderr",
     "output_type": "stream",
     "text": [
      "100%|██████████| 25/25 [00:00<00:00, 144.93it/s]\n",
      "100%|██████████| 100/100 [00:05<00:00, 17.15it/s]\n"
     ]
    },
    {
     "name": "stdout",
     "output_type": "stream",
     "text": [
      "Ergebnis für Bild ADE_train_00002270.jpg gespeichert: results/sd/ADE_train_00002270.jpg\n"
     ]
    },
    {
     "name": "stderr",
     "output_type": "stream",
     "text": [
      "100%|██████████| 25/25 [00:00<00:00, 144.80it/s]\n",
      "100%|██████████| 100/100 [00:05<00:00, 17.15it/s]\n"
     ]
    },
    {
     "name": "stdout",
     "output_type": "stream",
     "text": [
      "Ergebnis für Bild ADE_train_00002157.jpg gespeichert: results/sd/ADE_train_00002157.jpg\n"
     ]
    },
    {
     "name": "stderr",
     "output_type": "stream",
     "text": [
      "100%|██████████| 25/25 [00:00<00:00, 144.75it/s]\n",
      "100%|██████████| 100/100 [00:05<00:00, 17.14it/s]\n"
     ]
    },
    {
     "name": "stdout",
     "output_type": "stream",
     "text": [
      "Ergebnis für Bild ADE_train_00003082.jpg gespeichert: results/sd/ADE_train_00003082.jpg\n"
     ]
    },
    {
     "name": "stderr",
     "output_type": "stream",
     "text": [
      "100%|██████████| 25/25 [00:00<00:00, 143.99it/s]\n",
      "100%|██████████| 100/100 [00:05<00:00, 16.97it/s]\n"
     ]
    },
    {
     "name": "stdout",
     "output_type": "stream",
     "text": [
      "Ergebnis für Bild ADE_train_00022740.jpg gespeichert: results/sd/ADE_train_00022740.jpg\n"
     ]
    },
    {
     "name": "stderr",
     "output_type": "stream",
     "text": [
      "100%|██████████| 25/25 [00:00<00:00, 144.82it/s]\n",
      "100%|██████████| 100/100 [00:05<00:00, 17.16it/s]\n"
     ]
    },
    {
     "name": "stdout",
     "output_type": "stream",
     "text": [
      "Ergebnis für Bild ADE_train_00002198.jpg gespeichert: results/sd/ADE_train_00002198.jpg\n"
     ]
    },
    {
     "name": "stderr",
     "output_type": "stream",
     "text": [
      "100%|██████████| 25/25 [00:00<00:00, 144.17it/s]\n",
      "100%|██████████| 100/100 [00:05<00:00, 17.14it/s]\n"
     ]
    },
    {
     "name": "stdout",
     "output_type": "stream",
     "text": [
      "Ergebnis für Bild ADE_train_00001714.jpg gespeichert: results/sd/ADE_train_00001714.jpg\n"
     ]
    },
    {
     "name": "stderr",
     "output_type": "stream",
     "text": [
      "100%|██████████| 25/25 [00:00<00:00, 144.53it/s]\n",
      "100%|██████████| 100/100 [00:05<00:00, 17.10it/s]\n"
     ]
    },
    {
     "name": "stdout",
     "output_type": "stream",
     "text": [
      "Ergebnis für Bild ADE_train_00002326.jpg gespeichert: results/sd/ADE_train_00002326.jpg\n"
     ]
    },
    {
     "name": "stderr",
     "output_type": "stream",
     "text": [
      "100%|██████████| 25/25 [00:00<00:00, 144.56it/s]\n",
      "100%|██████████| 100/100 [00:05<00:00, 17.05it/s]\n"
     ]
    },
    {
     "name": "stdout",
     "output_type": "stream",
     "text": [
      "Ergebnis für Bild ADE_train_00003091.jpg gespeichert: results/sd/ADE_train_00003091.jpg\n"
     ]
    },
    {
     "name": "stderr",
     "output_type": "stream",
     "text": [
      "100%|██████████| 25/25 [00:00<00:00, 145.29it/s]\n",
      "100%|██████████| 100/100 [00:05<00:00, 17.15it/s]\n"
     ]
    },
    {
     "name": "stdout",
     "output_type": "stream",
     "text": [
      "Ergebnis für Bild ADE_train_00019599.jpg gespeichert: results/sd/ADE_train_00019599.jpg\n"
     ]
    },
    {
     "name": "stderr",
     "output_type": "stream",
     "text": [
      "100%|██████████| 25/25 [00:00<00:00, 145.64it/s]\n",
      "100%|██████████| 100/100 [00:05<00:00, 17.32it/s]\n"
     ]
    },
    {
     "name": "stdout",
     "output_type": "stream",
     "text": [
      "Ergebnis für Bild ADE_train_00003188.jpg gespeichert: results/sd/ADE_train_00003188.jpg\n"
     ]
    },
    {
     "name": "stderr",
     "output_type": "stream",
     "text": [
      "100%|██████████| 25/25 [00:00<00:00, 145.72it/s]\n",
      "100%|██████████| 100/100 [00:05<00:00, 17.21it/s]\n"
     ]
    },
    {
     "name": "stdout",
     "output_type": "stream",
     "text": [
      "Ergebnis für Bild ADE_train_00000961.jpg gespeichert: results/sd/ADE_train_00000961.jpg\n"
     ]
    },
    {
     "name": "stderr",
     "output_type": "stream",
     "text": [
      "100%|██████████| 25/25 [00:00<00:00, 144.75it/s]\n",
      "100%|██████████| 100/100 [00:05<00:00, 17.06it/s]\n"
     ]
    },
    {
     "name": "stdout",
     "output_type": "stream",
     "text": [
      "Ergebnis für Bild ADE_frame_00000141.jpg gespeichert: results/sd/ADE_frame_00000141.jpg\n"
     ]
    },
    {
     "name": "stderr",
     "output_type": "stream",
     "text": [
      "100%|██████████| 25/25 [00:00<00:00, 144.17it/s]\n",
      "100%|██████████| 100/100 [00:05<00:00, 17.02it/s]\n"
     ]
    },
    {
     "name": "stdout",
     "output_type": "stream",
     "text": [
      "Ergebnis für Bild ADE_train_00001695.jpg gespeichert: results/sd/ADE_train_00001695.jpg\n"
     ]
    },
    {
     "name": "stderr",
     "output_type": "stream",
     "text": [
      "100%|██████████| 25/25 [00:00<00:00, 145.18it/s]\n",
      "100%|██████████| 100/100 [00:05<00:00, 17.12it/s]\n"
     ]
    },
    {
     "name": "stdout",
     "output_type": "stream",
     "text": [
      "Ergebnis für Bild ADE_train_00019104.jpg gespeichert: results/sd/ADE_train_00019104.jpg\n"
     ]
    },
    {
     "name": "stderr",
     "output_type": "stream",
     "text": [
      "100%|██████████| 25/25 [00:00<00:00, 144.52it/s]\n",
      "100%|██████████| 100/100 [00:05<00:00, 17.14it/s]\n"
     ]
    },
    {
     "name": "stdout",
     "output_type": "stream",
     "text": [
      "Ergebnis für Bild ADE_train_00002289.jpg gespeichert: results/sd/ADE_train_00002289.jpg\n"
     ]
    },
    {
     "name": "stderr",
     "output_type": "stream",
     "text": [
      "100%|██████████| 25/25 [00:00<00:00, 144.67it/s]\n",
      "100%|██████████| 100/100 [00:05<00:00, 17.05it/s]\n"
     ]
    },
    {
     "name": "stdout",
     "output_type": "stream",
     "text": [
      "Ergebnis für Bild ADE_train_00001237.jpg gespeichert: results/sd/ADE_train_00001237.jpg\n"
     ]
    },
    {
     "name": "stderr",
     "output_type": "stream",
     "text": [
      "100%|██████████| 25/25 [00:00<00:00, 145.88it/s]\n",
      "100%|██████████| 100/100 [00:05<00:00, 17.14it/s]\n"
     ]
    },
    {
     "name": "stdout",
     "output_type": "stream",
     "text": [
      "Ergebnis für Bild ADE_train_00001811.jpg gespeichert: results/sd/ADE_train_00001811.jpg\n"
     ]
    },
    {
     "name": "stderr",
     "output_type": "stream",
     "text": [
      "100%|██████████| 25/25 [00:00<00:00, 144.75it/s]\n",
      "100%|██████████| 100/100 [00:05<00:00, 17.11it/s]\n"
     ]
    },
    {
     "name": "stdout",
     "output_type": "stream",
     "text": [
      "Ergebnis für Bild ADE_train_00005172.jpg gespeichert: results/sd/ADE_train_00005172.jpg\n"
     ]
    },
    {
     "name": "stderr",
     "output_type": "stream",
     "text": [
      "100%|██████████| 25/25 [00:00<00:00, 145.22it/s]\n",
      "100%|██████████| 100/100 [00:05<00:00, 17.14it/s]\n"
     ]
    },
    {
     "name": "stdout",
     "output_type": "stream",
     "text": [
      "Ergebnis für Bild ADE_train_00007697.jpg gespeichert: results/sd/ADE_train_00007697.jpg\n"
     ]
    },
    {
     "name": "stderr",
     "output_type": "stream",
     "text": [
      "100%|██████████| 25/25 [00:00<00:00, 143.49it/s]\n",
      "100%|██████████| 100/100 [00:05<00:00, 17.11it/s]\n"
     ]
    },
    {
     "name": "stdout",
     "output_type": "stream",
     "text": [
      "Ergebnis für Bild ADE_train_00002058.jpg gespeichert: results/sd/ADE_train_00002058.jpg\n"
     ]
    },
    {
     "name": "stderr",
     "output_type": "stream",
     "text": [
      "100%|██████████| 25/25 [00:00<00:00, 144.64it/s]\n",
      "100%|██████████| 100/100 [00:05<00:00, 17.02it/s]\n"
     ]
    },
    {
     "name": "stdout",
     "output_type": "stream",
     "text": [
      "Ergebnis für Bild ADE_train_00008810.jpg gespeichert: results/sd/ADE_train_00008810.jpg\n"
     ]
    },
    {
     "name": "stderr",
     "output_type": "stream",
     "text": [
      "100%|██████████| 25/25 [00:00<00:00, 144.98it/s]\n",
      "100%|██████████| 100/100 [00:05<00:00, 17.13it/s]\n"
     ]
    },
    {
     "name": "stdout",
     "output_type": "stream",
     "text": [
      "Ergebnis für Bild ADE_train_00020279.jpg gespeichert: results/sd/ADE_train_00020279.jpg\n"
     ]
    },
    {
     "name": "stderr",
     "output_type": "stream",
     "text": [
      "100%|██████████| 25/25 [00:00<00:00, 145.35it/s]\n",
      "100%|██████████| 100/100 [00:05<00:00, 17.16it/s]\n"
     ]
    },
    {
     "name": "stdout",
     "output_type": "stream",
     "text": [
      "Ergebnis für Bild ADE_train_00022706.jpg gespeichert: results/sd/ADE_train_00022706.jpg\n"
     ]
    },
    {
     "name": "stderr",
     "output_type": "stream",
     "text": [
      "100%|██████████| 25/25 [00:00<00:00, 145.72it/s]\n",
      "100%|██████████| 100/100 [00:05<00:00, 17.10it/s]\n"
     ]
    },
    {
     "name": "stdout",
     "output_type": "stream",
     "text": [
      "Ergebnis für Bild ADE_train_00001640.jpg gespeichert: results/sd/ADE_train_00001640.jpg\n"
     ]
    },
    {
     "name": "stderr",
     "output_type": "stream",
     "text": [
      "100%|██████████| 25/25 [00:00<00:00, 145.06it/s]\n",
      "100%|██████████| 100/100 [00:05<00:00, 16.96it/s]\n"
     ]
    },
    {
     "name": "stdout",
     "output_type": "stream",
     "text": [
      "Ergebnis für Bild ADE_train_00023670.jpg gespeichert: results/sd/ADE_train_00023670.jpg\n"
     ]
    },
    {
     "name": "stderr",
     "output_type": "stream",
     "text": [
      "100%|██████████| 25/25 [00:00<00:00, 144.80it/s]\n",
      "100%|██████████| 100/100 [00:05<00:00, 17.11it/s]\n"
     ]
    },
    {
     "name": "stdout",
     "output_type": "stream",
     "text": [
      "Ergebnis für Bild ADE_train_00000653.jpg gespeichert: results/sd/ADE_train_00000653.jpg\n"
     ]
    },
    {
     "name": "stderr",
     "output_type": "stream",
     "text": [
      "100%|██████████| 25/25 [00:00<00:00, 144.60it/s]\n",
      "100%|██████████| 100/100 [00:05<00:00, 17.09it/s]\n"
     ]
    },
    {
     "name": "stdout",
     "output_type": "stream",
     "text": [
      "Ergebnis für Bild ADE_train_00021166.jpg gespeichert: results/sd/ADE_train_00021166.jpg\n"
     ]
    },
    {
     "name": "stderr",
     "output_type": "stream",
     "text": [
      "100%|██████████| 25/25 [00:00<00:00, 144.09it/s]\n",
      "100%|██████████| 100/100 [00:05<00:00, 17.09it/s]\n"
     ]
    },
    {
     "name": "stdout",
     "output_type": "stream",
     "text": [
      "Ergebnis für Bild ADE_train_00015454.jpg gespeichert: results/sd/ADE_train_00015454.jpg\n"
     ]
    },
    {
     "name": "stderr",
     "output_type": "stream",
     "text": [
      "100%|██████████| 25/25 [00:00<00:00, 145.28it/s]\n",
      "100%|██████████| 100/100 [00:05<00:00, 17.21it/s]\n"
     ]
    },
    {
     "name": "stdout",
     "output_type": "stream",
     "text": [
      "Ergebnis für Bild ADE_train_00001495.jpg gespeichert: results/sd/ADE_train_00001495.jpg\n"
     ]
    },
    {
     "name": "stderr",
     "output_type": "stream",
     "text": [
      "100%|██████████| 25/25 [00:00<00:00, 145.51it/s]\n",
      "100%|██████████| 100/100 [00:05<00:00, 17.07it/s]\n"
     ]
    },
    {
     "name": "stdout",
     "output_type": "stream",
     "text": [
      "Ergebnis für Bild ADE_train_00001703.jpg gespeichert: results/sd/ADE_train_00001703.jpg\n"
     ]
    },
    {
     "name": "stderr",
     "output_type": "stream",
     "text": [
      "100%|██████████| 25/25 [00:00<00:00, 144.77it/s]\n",
      "100%|██████████| 100/100 [00:05<00:00, 17.11it/s]\n"
     ]
    },
    {
     "name": "stdout",
     "output_type": "stream",
     "text": [
      "Ergebnis für Bild ADE_train_00020192.jpg gespeichert: results/sd/ADE_train_00020192.jpg\n"
     ]
    },
    {
     "name": "stderr",
     "output_type": "stream",
     "text": [
      "100%|██████████| 25/25 [00:00<00:00, 144.86it/s]\n",
      "100%|██████████| 100/100 [00:05<00:00, 17.14it/s]\n"
     ]
    },
    {
     "name": "stdout",
     "output_type": "stream",
     "text": [
      "Ergebnis für Bild ADE_train_00020084.jpg gespeichert: results/sd/ADE_train_00020084.jpg\n"
     ]
    },
    {
     "name": "stderr",
     "output_type": "stream",
     "text": [
      "100%|██████████| 25/25 [00:00<00:00, 143.72it/s]\n",
      "100%|██████████| 100/100 [00:05<00:00, 17.13it/s]\n"
     ]
    },
    {
     "name": "stdout",
     "output_type": "stream",
     "text": [
      "Ergebnis für Bild ADE_train_00002377.jpg gespeichert: results/sd/ADE_train_00002377.jpg\n"
     ]
    },
    {
     "name": "stderr",
     "output_type": "stream",
     "text": [
      "100%|██████████| 25/25 [00:00<00:00, 143.75it/s]\n",
      "100%|██████████| 100/100 [00:05<00:00, 17.13it/s]\n"
     ]
    },
    {
     "name": "stdout",
     "output_type": "stream",
     "text": [
      "Ergebnis für Bild ADE_train_00009992.jpg gespeichert: results/sd/ADE_train_00009992.jpg\n"
     ]
    },
    {
     "name": "stderr",
     "output_type": "stream",
     "text": [
      "100%|██████████| 25/25 [00:00<00:00, 144.82it/s]\n",
      "100%|██████████| 100/100 [00:05<00:00, 17.10it/s]\n"
     ]
    },
    {
     "name": "stdout",
     "output_type": "stream",
     "text": [
      "Ergebnis für Bild ADE_train_00012233.jpg gespeichert: results/sd/ADE_train_00012233.jpg\n"
     ]
    },
    {
     "name": "stderr",
     "output_type": "stream",
     "text": [
      "100%|██████████| 25/25 [00:00<00:00, 144.69it/s]\n",
      "100%|██████████| 100/100 [00:05<00:00, 17.05it/s]\n"
     ]
    },
    {
     "name": "stdout",
     "output_type": "stream",
     "text": [
      "Ergebnis für Bild ADE_train_00016149.jpg gespeichert: results/sd/ADE_train_00016149.jpg\n"
     ]
    },
    {
     "name": "stderr",
     "output_type": "stream",
     "text": [
      "100%|██████████| 25/25 [00:00<00:00, 144.75it/s]\n",
      "100%|██████████| 100/100 [00:05<00:00, 17.11it/s]\n"
     ]
    },
    {
     "name": "stdout",
     "output_type": "stream",
     "text": [
      "Ergebnis für Bild ADE_train_00019107.jpg gespeichert: results/sd/ADE_train_00019107.jpg\n"
     ]
    },
    {
     "name": "stderr",
     "output_type": "stream",
     "text": [
      "100%|██████████| 25/25 [00:00<00:00, 144.98it/s]\n",
      "100%|██████████| 100/100 [00:05<00:00, 17.14it/s]\n"
     ]
    },
    {
     "name": "stdout",
     "output_type": "stream",
     "text": [
      "Ergebnis für Bild ADE_train_00024481.jpg gespeichert: results/sd/ADE_train_00024481.jpg\n"
     ]
    },
    {
     "name": "stderr",
     "output_type": "stream",
     "text": [
      "100%|██████████| 25/25 [00:00<00:00, 144.65it/s]\n",
      "100%|██████████| 100/100 [00:05<00:00, 17.08it/s]\n"
     ]
    },
    {
     "name": "stdout",
     "output_type": "stream",
     "text": [
      "Ergebnis für Bild ADE_train_00002143.jpg gespeichert: results/sd/ADE_train_00002143.jpg\n"
     ]
    },
    {
     "name": "stderr",
     "output_type": "stream",
     "text": [
      "100%|██████████| 25/25 [00:00<00:00, 145.13it/s]\n",
      "100%|██████████| 100/100 [00:05<00:00, 17.15it/s]\n"
     ]
    },
    {
     "name": "stdout",
     "output_type": "stream",
     "text": [
      "Ergebnis für Bild ADE_train_00020249.jpg gespeichert: results/sd/ADE_train_00020249.jpg\n"
     ]
    },
    {
     "name": "stderr",
     "output_type": "stream",
     "text": [
      "100%|██████████| 25/25 [00:00<00:00, 146.18it/s]\n",
      "100%|██████████| 100/100 [00:05<00:00, 17.19it/s]\n"
     ]
    },
    {
     "name": "stdout",
     "output_type": "stream",
     "text": [
      "Ergebnis für Bild ADE_train_00002387.jpg gespeichert: results/sd/ADE_train_00002387.jpg\n"
     ]
    },
    {
     "name": "stderr",
     "output_type": "stream",
     "text": [
      "100%|██████████| 25/25 [00:00<00:00, 145.83it/s]\n",
      "100%|██████████| 100/100 [00:05<00:00, 17.05it/s]\n"
     ]
    },
    {
     "name": "stdout",
     "output_type": "stream",
     "text": [
      "Ergebnis für Bild ADE_train_00019172.jpg gespeichert: results/sd/ADE_train_00019172.jpg\n"
     ]
    },
    {
     "name": "stderr",
     "output_type": "stream",
     "text": [
      "100%|██████████| 25/25 [00:00<00:00, 145.50it/s]\n",
      "100%|██████████| 100/100 [00:05<00:00, 17.14it/s]\n"
     ]
    },
    {
     "name": "stdout",
     "output_type": "stream",
     "text": [
      "Ergebnis für Bild ADE_train_00024548.jpg gespeichert: results/sd/ADE_train_00024548.jpg\n"
     ]
    },
    {
     "name": "stderr",
     "output_type": "stream",
     "text": [
      "100%|██████████| 25/25 [00:00<00:00, 145.48it/s]\n",
      "100%|██████████| 100/100 [00:05<00:00, 17.13it/s]\n"
     ]
    },
    {
     "name": "stdout",
     "output_type": "stream",
     "text": [
      "Ergebnis für Bild ADE_train_00005547.jpg gespeichert: results/sd/ADE_train_00005547.jpg\n"
     ]
    },
    {
     "name": "stderr",
     "output_type": "stream",
     "text": [
      "100%|██████████| 25/25 [00:00<00:00, 145.07it/s]\n",
      "100%|██████████| 100/100 [00:05<00:00, 17.08it/s]\n"
     ]
    },
    {
     "name": "stdout",
     "output_type": "stream",
     "text": [
      "Ergebnis für Bild ADE_train_00012276.jpg gespeichert: results/sd/ADE_train_00012276.jpg\n"
     ]
    },
    {
     "name": "stderr",
     "output_type": "stream",
     "text": [
      "100%|██████████| 25/25 [00:00<00:00, 144.97it/s]\n",
      "100%|██████████| 100/100 [00:05<00:00, 17.16it/s]\n"
     ]
    },
    {
     "name": "stdout",
     "output_type": "stream",
     "text": [
      "Ergebnis für Bild ADE_train_00002295.jpg gespeichert: results/sd/ADE_train_00002295.jpg\n"
     ]
    },
    {
     "name": "stderr",
     "output_type": "stream",
     "text": [
      "100%|██████████| 25/25 [00:00<00:00, 145.66it/s]\n",
      "100%|██████████| 100/100 [00:05<00:00, 17.10it/s]\n"
     ]
    },
    {
     "name": "stdout",
     "output_type": "stream",
     "text": [
      "Ergebnis für Bild ADE_train_00008214.jpg gespeichert: results/sd/ADE_train_00008214.jpg\n"
     ]
    },
    {
     "name": "stderr",
     "output_type": "stream",
     "text": [
      "100%|██████████| 25/25 [00:00<00:00, 145.68it/s]\n",
      "100%|██████████| 100/100 [00:05<00:00, 17.09it/s]\n"
     ]
    },
    {
     "name": "stdout",
     "output_type": "stream",
     "text": [
      "Ergebnis für Bild ADE_train_00002365.jpg gespeichert: results/sd/ADE_train_00002365.jpg\n"
     ]
    },
    {
     "name": "stderr",
     "output_type": "stream",
     "text": [
      "100%|██████████| 25/25 [00:00<00:00, 146.06it/s]\n",
      "100%|██████████| 100/100 [00:05<00:00, 17.02it/s]\n"
     ]
    },
    {
     "name": "stdout",
     "output_type": "stream",
     "text": [
      "Ergebnis für Bild ADE_train_00020207.jpg gespeichert: results/sd/ADE_train_00020207.jpg\n"
     ]
    },
    {
     "name": "stderr",
     "output_type": "stream",
     "text": [
      "100%|██████████| 25/25 [00:00<00:00, 145.40it/s]\n",
      "100%|██████████| 100/100 [00:05<00:00, 17.02it/s]\n"
     ]
    },
    {
     "name": "stdout",
     "output_type": "stream",
     "text": [
      "Ergebnis für Bild ADE_train_00007684.jpg gespeichert: results/sd/ADE_train_00007684.jpg\n"
     ]
    },
    {
     "name": "stderr",
     "output_type": "stream",
     "text": [
      "100%|██████████| 25/25 [00:00<00:00, 145.16it/s]\n",
      "100%|██████████| 100/100 [00:05<00:00, 17.12it/s]\n"
     ]
    },
    {
     "name": "stdout",
     "output_type": "stream",
     "text": [
      "Ergebnis für Bild ADE_train_00001570.jpg gespeichert: results/sd/ADE_train_00001570.jpg\n"
     ]
    },
    {
     "name": "stderr",
     "output_type": "stream",
     "text": [
      "100%|██████████| 25/25 [00:00<00:00, 145.62it/s]\n",
      "100%|██████████| 100/100 [00:05<00:00, 17.15it/s]\n"
     ]
    },
    {
     "name": "stdout",
     "output_type": "stream",
     "text": [
      "Ergebnis für Bild ADE_train_00007010.jpg gespeichert: results/sd/ADE_train_00007010.jpg\n"
     ]
    },
    {
     "name": "stderr",
     "output_type": "stream",
     "text": [
      "100%|██████████| 25/25 [00:00<00:00, 144.92it/s]\n",
      "100%|██████████| 100/100 [00:05<00:00, 16.99it/s]\n"
     ]
    },
    {
     "name": "stdout",
     "output_type": "stream",
     "text": [
      "Ergebnis für Bild ADE_train_00006148.jpg gespeichert: results/sd/ADE_train_00006148.jpg\n"
     ]
    },
    {
     "name": "stderr",
     "output_type": "stream",
     "text": [
      "100%|██████████| 25/25 [00:00<00:00, 144.83it/s]\n",
      "100%|██████████| 100/100 [00:05<00:00, 17.05it/s]\n"
     ]
    },
    {
     "name": "stdout",
     "output_type": "stream",
     "text": [
      "Ergebnis für Bild ADE_train_00020244.jpg gespeichert: results/sd/ADE_train_00020244.jpg\n"
     ]
    },
    {
     "name": "stderr",
     "output_type": "stream",
     "text": [
      "100%|██████████| 25/25 [00:00<00:00, 145.13it/s]\n",
      "100%|██████████| 100/100 [00:05<00:00, 16.99it/s]\n"
     ]
    },
    {
     "name": "stdout",
     "output_type": "stream",
     "text": [
      "Ergebnis für Bild ADE_train_00001721.jpg gespeichert: results/sd/ADE_train_00001721.jpg\n"
     ]
    },
    {
     "name": "stderr",
     "output_type": "stream",
     "text": [
      "100%|██████████| 25/25 [00:00<00:00, 145.45it/s]\n",
      "100%|██████████| 100/100 [00:05<00:00, 17.00it/s]\n"
     ]
    },
    {
     "name": "stdout",
     "output_type": "stream",
     "text": [
      "Ergebnis für Bild ADE_train_00001896.jpg gespeichert: results/sd/ADE_train_00001896.jpg\n"
     ]
    },
    {
     "name": "stderr",
     "output_type": "stream",
     "text": [
      "100%|██████████| 25/25 [00:00<00:00, 145.40it/s]\n",
      "100%|██████████| 100/100 [00:05<00:00, 17.00it/s]\n"
     ]
    },
    {
     "name": "stdout",
     "output_type": "stream",
     "text": [
      "Ergebnis für Bild ADE_train_00001668.jpg gespeichert: results/sd/ADE_train_00001668.jpg\n"
     ]
    },
    {
     "name": "stderr",
     "output_type": "stream",
     "text": [
      "100%|██████████| 25/25 [00:00<00:00, 146.51it/s]\n",
      "100%|██████████| 100/100 [00:05<00:00, 16.99it/s]\n"
     ]
    },
    {
     "name": "stdout",
     "output_type": "stream",
     "text": [
      "Ergebnis für Bild ADE_train_00002342.jpg gespeichert: results/sd/ADE_train_00002342.jpg\n"
     ]
    },
    {
     "name": "stderr",
     "output_type": "stream",
     "text": [
      "100%|██████████| 25/25 [00:00<00:00, 146.25it/s]\n",
      "100%|██████████| 100/100 [00:05<00:00, 16.97it/s]\n"
     ]
    },
    {
     "name": "stdout",
     "output_type": "stream",
     "text": [
      "Ergebnis für Bild ADE_train_00015769.jpg gespeichert: results/sd/ADE_train_00015769.jpg\n"
     ]
    },
    {
     "name": "stderr",
     "output_type": "stream",
     "text": [
      "100%|██████████| 25/25 [00:00<00:00, 146.65it/s]\n",
      "100%|██████████| 100/100 [00:05<00:00, 16.81it/s]\n"
     ]
    },
    {
     "name": "stdout",
     "output_type": "stream",
     "text": [
      "Ergebnis für Bild ADE_train_00002271.jpg gespeichert: results/sd/ADE_train_00002271.jpg\n"
     ]
    },
    {
     "name": "stderr",
     "output_type": "stream",
     "text": [
      "100%|██████████| 25/25 [00:00<00:00, 146.10it/s]\n",
      "100%|██████████| 100/100 [00:05<00:00, 17.11it/s]\n"
     ]
    },
    {
     "name": "stdout",
     "output_type": "stream",
     "text": [
      "Ergebnis für Bild ADE_train_00021745.jpg gespeichert: results/sd/ADE_train_00021745.jpg\n"
     ]
    },
    {
     "name": "stderr",
     "output_type": "stream",
     "text": [
      "100%|██████████| 25/25 [00:00<00:00, 146.04it/s]\n",
      "100%|██████████| 100/100 [00:05<00:00, 17.08it/s]\n"
     ]
    },
    {
     "name": "stdout",
     "output_type": "stream",
     "text": [
      "Ergebnis für Bild ADE_train_00001756.jpg gespeichert: results/sd/ADE_train_00001756.jpg\n"
     ]
    },
    {
     "name": "stderr",
     "output_type": "stream",
     "text": [
      "100%|██████████| 25/25 [00:00<00:00, 145.17it/s]\n",
      "100%|██████████| 100/100 [00:05<00:00, 17.01it/s]\n"
     ]
    },
    {
     "name": "stdout",
     "output_type": "stream",
     "text": [
      "Ergebnis für Bild ADE_train_00002333.jpg gespeichert: results/sd/ADE_train_00002333.jpg\n"
     ]
    },
    {
     "name": "stderr",
     "output_type": "stream",
     "text": [
      "100%|██████████| 25/25 [00:00<00:00, 145.75it/s]\n",
      "100%|██████████| 100/100 [00:05<00:00, 16.95it/s]\n"
     ]
    },
    {
     "name": "stdout",
     "output_type": "stream",
     "text": [
      "Ergebnis für Bild ADE_train_00009813.jpg gespeichert: results/sd/ADE_train_00009813.jpg\n"
     ]
    },
    {
     "name": "stderr",
     "output_type": "stream",
     "text": [
      "100%|██████████| 25/25 [00:00<00:00, 144.96it/s]\n",
      "100%|██████████| 100/100 [00:05<00:00, 17.05it/s]\n"
     ]
    },
    {
     "name": "stdout",
     "output_type": "stream",
     "text": [
      "Ergebnis für Bild ADE_train_00005676.jpg gespeichert: results/sd/ADE_train_00005676.jpg\n"
     ]
    },
    {
     "name": "stderr",
     "output_type": "stream",
     "text": [
      "100%|██████████| 25/25 [00:00<00:00, 145.52it/s]\n",
      "100%|██████████| 100/100 [00:05<00:00, 17.16it/s]\n"
     ]
    },
    {
     "name": "stdout",
     "output_type": "stream",
     "text": [
      "Ergebnis für Bild ADE_train_00011666.jpg gespeichert: results/sd/ADE_train_00011666.jpg\n"
     ]
    },
    {
     "name": "stderr",
     "output_type": "stream",
     "text": [
      "100%|██████████| 25/25 [00:00<00:00, 145.50it/s]\n",
      "100%|██████████| 100/100 [00:05<00:00, 16.96it/s]\n"
     ]
    },
    {
     "name": "stdout",
     "output_type": "stream",
     "text": [
      "Ergebnis für Bild ADE_train_00009323.jpg gespeichert: results/sd/ADE_train_00009323.jpg\n"
     ]
    },
    {
     "name": "stderr",
     "output_type": "stream",
     "text": [
      "100%|██████████| 25/25 [00:00<00:00, 145.97it/s]\n",
      "100%|██████████| 100/100 [00:05<00:00, 16.98it/s]\n"
     ]
    },
    {
     "name": "stdout",
     "output_type": "stream",
     "text": [
      "Ergebnis für Bild ADE_train_00016152.jpg gespeichert: results/sd/ADE_train_00016152.jpg\n"
     ]
    },
    {
     "name": "stderr",
     "output_type": "stream",
     "text": [
      "100%|██████████| 25/25 [00:00<00:00, 144.73it/s]\n",
      "100%|██████████| 100/100 [00:05<00:00, 16.97it/s]\n"
     ]
    },
    {
     "name": "stdout",
     "output_type": "stream",
     "text": [
      "Ergebnis für Bild ADE_train_00023487.jpg gespeichert: results/sd/ADE_train_00023487.jpg\n"
     ]
    },
    {
     "name": "stderr",
     "output_type": "stream",
     "text": [
      "100%|██████████| 25/25 [00:00<00:00, 139.80it/s]\n",
      "100%|██████████| 100/100 [00:05<00:00, 17.05it/s]\n"
     ]
    },
    {
     "name": "stdout",
     "output_type": "stream",
     "text": [
      "Ergebnis für Bild ADE_train_00000962.jpg gespeichert: results/sd/ADE_train_00000962.jpg\n"
     ]
    },
    {
     "name": "stderr",
     "output_type": "stream",
     "text": [
      "100%|██████████| 25/25 [00:00<00:00, 145.38it/s]\n",
      "100%|██████████| 100/100 [00:05<00:00, 17.15it/s]\n"
     ]
    },
    {
     "name": "stdout",
     "output_type": "stream",
     "text": [
      "Ergebnis für Bild ADE_train_00019602.jpg gespeichert: results/sd/ADE_train_00019602.jpg\n"
     ]
    },
    {
     "name": "stderr",
     "output_type": "stream",
     "text": [
      "100%|██████████| 25/25 [00:00<00:00, 146.06it/s]\n",
      "100%|██████████| 100/100 [00:05<00:00, 17.10it/s]\n"
     ]
    },
    {
     "name": "stdout",
     "output_type": "stream",
     "text": [
      "Ergebnis für Bild ADE_train_00001776.jpg gespeichert: results/sd/ADE_train_00001776.jpg\n"
     ]
    },
    {
     "name": "stderr",
     "output_type": "stream",
     "text": [
      "100%|██████████| 25/25 [00:00<00:00, 144.69it/s]\n",
      "100%|██████████| 100/100 [00:05<00:00, 17.05it/s]\n"
     ]
    },
    {
     "name": "stdout",
     "output_type": "stream",
     "text": [
      "Ergebnis für Bild ADE_train_00001786.jpg gespeichert: results/sd/ADE_train_00001786.jpg\n"
     ]
    },
    {
     "name": "stderr",
     "output_type": "stream",
     "text": [
      "100%|██████████| 25/25 [00:00<00:00, 145.70it/s]\n",
      "100%|██████████| 100/100 [00:05<00:00, 17.09it/s]\n"
     ]
    },
    {
     "name": "stdout",
     "output_type": "stream",
     "text": [
      "Ergebnis für Bild ADE_train_00002173.jpg gespeichert: results/sd/ADE_train_00002173.jpg\n"
     ]
    },
    {
     "name": "stderr",
     "output_type": "stream",
     "text": [
      "100%|██████████| 25/25 [00:00<00:00, 145.92it/s]\n",
      "100%|██████████| 100/100 [00:05<00:00, 17.07it/s]\n"
     ]
    },
    {
     "name": "stdout",
     "output_type": "stream",
     "text": [
      "Ergebnis für Bild ADE_train_00022931.jpg gespeichert: results/sd/ADE_train_00022931.jpg\n"
     ]
    },
    {
     "name": "stderr",
     "output_type": "stream",
     "text": [
      "100%|██████████| 25/25 [00:00<00:00, 145.11it/s]\n",
      "100%|██████████| 100/100 [00:05<00:00, 17.01it/s]\n"
     ]
    },
    {
     "name": "stdout",
     "output_type": "stream",
     "text": [
      "Ergebnis für Bild ADE_train_00009811.jpg gespeichert: results/sd/ADE_train_00009811.jpg\n"
     ]
    },
    {
     "name": "stderr",
     "output_type": "stream",
     "text": [
      "100%|██████████| 25/25 [00:00<00:00, 145.77it/s]\n",
      "100%|██████████| 100/100 [00:05<00:00, 16.94it/s]\n"
     ]
    },
    {
     "name": "stdout",
     "output_type": "stream",
     "text": [
      "Ergebnis für Bild ADE_train_00011904.jpg gespeichert: results/sd/ADE_train_00011904.jpg\n"
     ]
    },
    {
     "name": "stderr",
     "output_type": "stream",
     "text": [
      "100%|██████████| 25/25 [00:00<00:00, 145.70it/s]\n",
      "100%|██████████| 100/100 [00:05<00:00, 16.93it/s]\n"
     ]
    },
    {
     "name": "stdout",
     "output_type": "stream",
     "text": [
      "Ergebnis für Bild ADE_train_00000674.jpg gespeichert: results/sd/ADE_train_00000674.jpg\n"
     ]
    },
    {
     "name": "stderr",
     "output_type": "stream",
     "text": [
      "100%|██████████| 25/25 [00:00<00:00, 145.37it/s]\n",
      "100%|██████████| 100/100 [00:05<00:00, 16.93it/s]\n"
     ]
    },
    {
     "name": "stdout",
     "output_type": "stream",
     "text": [
      "Ergebnis für Bild ADE_train_00000655.jpg gespeichert: results/sd/ADE_train_00000655.jpg\n"
     ]
    },
    {
     "name": "stderr",
     "output_type": "stream",
     "text": [
      "100%|██████████| 25/25 [00:00<00:00, 145.55it/s]\n",
      "100%|██████████| 100/100 [00:05<00:00, 16.94it/s]\n"
     ]
    },
    {
     "name": "stdout",
     "output_type": "stream",
     "text": [
      "Ergebnis für Bild ADE_train_00022771.jpg gespeichert: results/sd/ADE_train_00022771.jpg\n"
     ]
    },
    {
     "name": "stderr",
     "output_type": "stream",
     "text": [
      "100%|██████████| 25/25 [00:00<00:00, 145.30it/s]\n",
      "100%|██████████| 100/100 [00:05<00:00, 17.02it/s]\n"
     ]
    },
    {
     "name": "stdout",
     "output_type": "stream",
     "text": [
      "Ergebnis für Bild ADE_train_00002176.jpg gespeichert: results/sd/ADE_train_00002176.jpg\n"
     ]
    },
    {
     "name": "stderr",
     "output_type": "stream",
     "text": [
      "100%|██████████| 25/25 [00:00<00:00, 144.88it/s]\n",
      "100%|██████████| 100/100 [00:05<00:00, 16.96it/s]\n"
     ]
    },
    {
     "name": "stdout",
     "output_type": "stream",
     "text": [
      "Ergebnis für Bild ADE_train_00019298.jpg gespeichert: results/sd/ADE_train_00019298.jpg\n"
     ]
    },
    {
     "name": "stderr",
     "output_type": "stream",
     "text": [
      "100%|██████████| 25/25 [00:00<00:00, 145.12it/s]\n",
      "100%|██████████| 100/100 [00:05<00:00, 17.13it/s]\n"
     ]
    },
    {
     "name": "stdout",
     "output_type": "stream",
     "text": [
      "Ergebnis für Bild ADE_train_00025115.jpg gespeichert: results/sd/ADE_train_00025115.jpg\n"
     ]
    },
    {
     "name": "stderr",
     "output_type": "stream",
     "text": [
      "100%|██████████| 25/25 [00:00<00:00, 145.60it/s]\n",
      "100%|██████████| 100/100 [00:05<00:00, 17.14it/s]\n"
     ]
    },
    {
     "name": "stdout",
     "output_type": "stream",
     "text": [
      "Ergebnis für Bild ADE_train_00022708.jpg gespeichert: results/sd/ADE_train_00022708.jpg\n"
     ]
    },
    {
     "name": "stderr",
     "output_type": "stream",
     "text": [
      "100%|██████████| 25/25 [00:00<00:00, 146.02it/s]\n",
      "100%|██████████| 100/100 [00:05<00:00, 17.13it/s]\n"
     ]
    },
    {
     "name": "stdout",
     "output_type": "stream",
     "text": [
      "Ergebnis für Bild ADE_train_00020205.jpg gespeichert: results/sd/ADE_train_00020205.jpg\n"
     ]
    },
    {
     "name": "stderr",
     "output_type": "stream",
     "text": [
      "100%|██████████| 25/25 [00:00<00:00, 145.08it/s]\n",
      "100%|██████████| 100/100 [00:05<00:00, 17.08it/s]\n"
     ]
    },
    {
     "name": "stdout",
     "output_type": "stream",
     "text": [
      "Ergebnis für Bild ADE_train_00022663.jpg gespeichert: results/sd/ADE_train_00022663.jpg\n"
     ]
    },
    {
     "name": "stderr",
     "output_type": "stream",
     "text": [
      "100%|██████████| 25/25 [00:00<00:00, 145.24it/s]\n",
      "100%|██████████| 100/100 [00:05<00:00, 17.12it/s]\n"
     ]
    },
    {
     "name": "stdout",
     "output_type": "stream",
     "text": [
      "Ergebnis für Bild ADE_frame_00000192.jpg gespeichert: results/sd/ADE_frame_00000192.jpg\n"
     ]
    },
    {
     "name": "stderr",
     "output_type": "stream",
     "text": [
      "100%|██████████| 25/25 [00:00<00:00, 146.03it/s]\n",
      "100%|██████████| 100/100 [00:05<00:00, 16.97it/s]\n"
     ]
    },
    {
     "name": "stdout",
     "output_type": "stream",
     "text": [
      "Ergebnis für Bild ADE_train_00003058.jpg gespeichert: results/sd/ADE_train_00003058.jpg\n"
     ]
    },
    {
     "name": "stderr",
     "output_type": "stream",
     "text": [
      "100%|██████████| 25/25 [00:00<00:00, 144.99it/s]\n",
      "100%|██████████| 100/100 [00:05<00:00, 17.14it/s]\n"
     ]
    },
    {
     "name": "stdout",
     "output_type": "stream",
     "text": [
      "Ergebnis für Bild ADE_train_00005334.jpg gespeichert: results/sd/ADE_train_00005334.jpg\n"
     ]
    },
    {
     "name": "stderr",
     "output_type": "stream",
     "text": [
      "100%|██████████| 25/25 [00:00<00:00, 145.27it/s]\n",
      "100%|██████████| 100/100 [00:05<00:00, 17.07it/s]\n"
     ]
    },
    {
     "name": "stdout",
     "output_type": "stream",
     "text": [
      "Ergebnis für Bild ADE_train_00019154.jpg gespeichert: results/sd/ADE_train_00019154.jpg\n"
     ]
    },
    {
     "name": "stderr",
     "output_type": "stream",
     "text": [
      "100%|██████████| 25/25 [00:00<00:00, 145.47it/s]\n",
      "100%|██████████| 100/100 [00:05<00:00, 16.94it/s]\n"
     ]
    },
    {
     "name": "stdout",
     "output_type": "stream",
     "text": [
      "Ergebnis für Bild ADE_frame_00000152.jpg gespeichert: results/sd/ADE_frame_00000152.jpg\n"
     ]
    },
    {
     "name": "stderr",
     "output_type": "stream",
     "text": [
      "100%|██████████| 25/25 [00:00<00:00, 145.32it/s]\n",
      "100%|██████████| 100/100 [00:05<00:00, 16.95it/s]\n"
     ]
    },
    {
     "name": "stdout",
     "output_type": "stream",
     "text": [
      "Ergebnis für Bild ADE_train_00002141.jpg gespeichert: results/sd/ADE_train_00002141.jpg\n"
     ]
    },
    {
     "name": "stderr",
     "output_type": "stream",
     "text": [
      "100%|██████████| 25/25 [00:00<00:00, 145.73it/s]\n",
      "100%|██████████| 100/100 [00:05<00:00, 17.14it/s]\n"
     ]
    },
    {
     "name": "stdout",
     "output_type": "stream",
     "text": [
      "Ergebnis für Bild ADE_train_00000668.jpg gespeichert: results/sd/ADE_train_00000668.jpg\n"
     ]
    },
    {
     "name": "stderr",
     "output_type": "stream",
     "text": [
      "100%|██████████| 25/25 [00:00<00:00, 144.98it/s]\n",
      "100%|██████████| 100/100 [00:05<00:00, 17.13it/s]\n"
     ]
    },
    {
     "name": "stdout",
     "output_type": "stream",
     "text": [
      "Ergebnis für Bild ADE_train_00008799.jpg gespeichert: results/sd/ADE_train_00008799.jpg\n"
     ]
    },
    {
     "name": "stderr",
     "output_type": "stream",
     "text": [
      "100%|██████████| 25/25 [00:00<00:00, 145.79it/s]\n",
      "100%|██████████| 100/100 [00:05<00:00, 17.01it/s]\n"
     ]
    },
    {
     "name": "stdout",
     "output_type": "stream",
     "text": [
      "Ergebnis für Bild ADE_train_00019600.jpg gespeichert: results/sd/ADE_train_00019600.jpg\n"
     ]
    },
    {
     "name": "stderr",
     "output_type": "stream",
     "text": [
      "100%|██████████| 25/25 [00:00<00:00, 145.12it/s]\n",
      "100%|██████████| 100/100 [00:05<00:00, 17.06it/s]\n"
     ]
    },
    {
     "name": "stdout",
     "output_type": "stream",
     "text": [
      "Ergebnis für Bild ADE_train_00023640.jpg gespeichert: results/sd/ADE_train_00023640.jpg\n"
     ]
    },
    {
     "name": "stderr",
     "output_type": "stream",
     "text": [
      "100%|██████████| 25/25 [00:00<00:00, 145.17it/s]\n",
      "100%|██████████| 100/100 [00:05<00:00, 17.03it/s]\n"
     ]
    },
    {
     "name": "stdout",
     "output_type": "stream",
     "text": [
      "Ergebnis für Bild ADE_frame_00000219.jpg gespeichert: results/sd/ADE_frame_00000219.jpg\n"
     ]
    },
    {
     "name": "stderr",
     "output_type": "stream",
     "text": [
      "100%|██████████| 25/25 [00:00<00:00, 145.30it/s]\n",
      "100%|██████████| 100/100 [00:05<00:00, 16.95it/s]\n"
     ]
    },
    {
     "name": "stdout",
     "output_type": "stream",
     "text": [
      "Ergebnis für Bild ADE_train_00022741.jpg gespeichert: results/sd/ADE_train_00022741.jpg\n"
     ]
    },
    {
     "name": "stderr",
     "output_type": "stream",
     "text": [
      "100%|██████████| 25/25 [00:00<00:00, 145.50it/s]\n",
      "100%|██████████| 100/100 [00:05<00:00, 16.91it/s]\n"
     ]
    },
    {
     "name": "stdout",
     "output_type": "stream",
     "text": [
      "Ergebnis für Bild ADE_train_00019147.jpg gespeichert: results/sd/ADE_train_00019147.jpg\n"
     ]
    },
    {
     "name": "stderr",
     "output_type": "stream",
     "text": [
      "100%|██████████| 25/25 [00:00<00:00, 145.11it/s]\n",
      "100%|██████████| 100/100 [00:05<00:00, 16.96it/s]\n"
     ]
    },
    {
     "name": "stdout",
     "output_type": "stream",
     "text": [
      "Ergebnis für Bild ADE_train_00007502.jpg gespeichert: results/sd/ADE_train_00007502.jpg\n"
     ]
    },
    {
     "name": "stderr",
     "output_type": "stream",
     "text": [
      "100%|██████████| 25/25 [00:00<00:00, 145.87it/s]\n",
      "100%|██████████| 100/100 [00:05<00:00, 16.96it/s]\n"
     ]
    },
    {
     "name": "stdout",
     "output_type": "stream",
     "text": [
      "Ergebnis für Bild ADE_train_00022690.jpg gespeichert: results/sd/ADE_train_00022690.jpg\n"
     ]
    },
    {
     "name": "stderr",
     "output_type": "stream",
     "text": [
      "100%|██████████| 25/25 [00:00<00:00, 146.03it/s]\n",
      "100%|██████████| 100/100 [00:05<00:00, 16.92it/s]\n"
     ]
    },
    {
     "name": "stdout",
     "output_type": "stream",
     "text": [
      "Ergebnis für Bild ADE_train_00001637.jpg gespeichert: results/sd/ADE_train_00001637.jpg\n"
     ]
    },
    {
     "name": "stderr",
     "output_type": "stream",
     "text": [
      "100%|██████████| 25/25 [00:00<00:00, 145.85it/s]\n",
      "100%|██████████| 100/100 [00:05<00:00, 16.92it/s]\n"
     ]
    },
    {
     "name": "stdout",
     "output_type": "stream",
     "text": [
      "Ergebnis für Bild ADE_train_00001651.jpg gespeichert: results/sd/ADE_train_00001651.jpg\n"
     ]
    },
    {
     "name": "stderr",
     "output_type": "stream",
     "text": [
      "100%|██████████| 25/25 [00:00<00:00, 145.30it/s]\n",
      "100%|██████████| 100/100 [00:05<00:00, 16.96it/s]\n"
     ]
    },
    {
     "name": "stdout",
     "output_type": "stream",
     "text": [
      "Ergebnis für Bild ADE_train_00019289.jpg gespeichert: results/sd/ADE_train_00019289.jpg\n"
     ]
    },
    {
     "name": "stderr",
     "output_type": "stream",
     "text": [
      "100%|██████████| 25/25 [00:00<00:00, 146.46it/s]\n",
      "100%|██████████| 100/100 [00:05<00:00, 16.93it/s]\n"
     ]
    },
    {
     "name": "stdout",
     "output_type": "stream",
     "text": [
      "Ergebnis für Bild ADE_train_00021739.jpg gespeichert: results/sd/ADE_train_00021739.jpg\n"
     ]
    },
    {
     "name": "stderr",
     "output_type": "stream",
     "text": [
      "100%|██████████| 25/25 [00:00<00:00, 145.07it/s]\n",
      "100%|██████████| 100/100 [00:05<00:00, 16.95it/s]\n"
     ]
    },
    {
     "name": "stdout",
     "output_type": "stream",
     "text": [
      "Ergebnis für Bild ADE_train_00019183.jpg gespeichert: results/sd/ADE_train_00019183.jpg\n"
     ]
    },
    {
     "name": "stderr",
     "output_type": "stream",
     "text": [
      "100%|██████████| 25/25 [00:00<00:00, 144.95it/s]\n",
      "100%|██████████| 100/100 [00:05<00:00, 16.95it/s]\n"
     ]
    },
    {
     "name": "stdout",
     "output_type": "stream",
     "text": [
      "Ergebnis für Bild ADE_train_00001638.jpg gespeichert: results/sd/ADE_train_00001638.jpg\n"
     ]
    },
    {
     "name": "stderr",
     "output_type": "stream",
     "text": [
      "100%|██████████| 25/25 [00:00<00:00, 144.83it/s]\n",
      "100%|██████████| 100/100 [00:05<00:00, 16.94it/s]\n"
     ]
    },
    {
     "name": "stdout",
     "output_type": "stream",
     "text": [
      "Ergebnis für Bild ADE_train_00009808.jpg gespeichert: results/sd/ADE_train_00009808.jpg\n"
     ]
    },
    {
     "name": "stderr",
     "output_type": "stream",
     "text": [
      "100%|██████████| 25/25 [00:00<00:00, 145.36it/s]\n",
      "100%|██████████| 100/100 [00:05<00:00, 16.94it/s]\n"
     ]
    },
    {
     "name": "stdout",
     "output_type": "stream",
     "text": [
      "Ergebnis für Bild ADE_train_00001653.jpg gespeichert: results/sd/ADE_train_00001653.jpg\n"
     ]
    },
    {
     "name": "stderr",
     "output_type": "stream",
     "text": [
      "100%|██████████| 25/25 [00:00<00:00, 144.19it/s]\n",
      "100%|██████████| 100/100 [00:05<00:00, 16.97it/s]\n"
     ]
    },
    {
     "name": "stdout",
     "output_type": "stream",
     "text": [
      "Ergebnis für Bild ADE_train_00001751.jpg gespeichert: results/sd/ADE_train_00001751.jpg\n"
     ]
    },
    {
     "name": "stderr",
     "output_type": "stream",
     "text": [
      "100%|██████████| 25/25 [00:00<00:00, 144.85it/s]\n",
      "100%|██████████| 100/100 [00:05<00:00, 16.98it/s]\n"
     ]
    },
    {
     "name": "stdout",
     "output_type": "stream",
     "text": [
      "Ergebnis für Bild ADE_train_00011668.jpg gespeichert: results/sd/ADE_train_00011668.jpg\n"
     ]
    },
    {
     "name": "stderr",
     "output_type": "stream",
     "text": [
      "100%|██████████| 25/25 [00:00<00:00, 144.87it/s]\n",
      "100%|██████████| 100/100 [00:05<00:00, 16.98it/s]\n"
     ]
    },
    {
     "name": "stdout",
     "output_type": "stream",
     "text": [
      "Ergebnis für Bild ADE_train_00021740.jpg gespeichert: results/sd/ADE_train_00021740.jpg\n"
     ]
    },
    {
     "name": "stderr",
     "output_type": "stream",
     "text": [
      "100%|██████████| 25/25 [00:00<00:00, 145.02it/s]\n",
      "100%|██████████| 100/100 [00:05<00:00, 16.94it/s]\n"
     ]
    },
    {
     "name": "stdout",
     "output_type": "stream",
     "text": [
      "Ergebnis für Bild ADE_frame_00000007.jpg gespeichert: results/sd/ADE_frame_00000007.jpg\n"
     ]
    },
    {
     "name": "stderr",
     "output_type": "stream",
     "text": [
      "100%|██████████| 25/25 [00:00<00:00, 144.79it/s]\n",
      "100%|██████████| 100/100 [00:05<00:00, 16.93it/s]\n"
     ]
    },
    {
     "name": "stdout",
     "output_type": "stream",
     "text": [
      "Ergebnis für Bild ADE_train_00025082.jpg gespeichert: results/sd/ADE_train_00025082.jpg\n"
     ]
    },
    {
     "name": "stderr",
     "output_type": "stream",
     "text": [
      "100%|██████████| 25/25 [00:00<00:00, 145.35it/s]\n",
      "100%|██████████| 100/100 [00:05<00:00, 16.97it/s]\n"
     ]
    },
    {
     "name": "stdout",
     "output_type": "stream",
     "text": [
      "Ergebnis für Bild ADE_train_00016766.jpg gespeichert: results/sd/ADE_train_00016766.jpg\n"
     ]
    },
    {
     "name": "stderr",
     "output_type": "stream",
     "text": [
      "100%|██████████| 25/25 [00:00<00:00, 145.52it/s]\n",
      "100%|██████████| 100/100 [00:05<00:00, 17.14it/s]\n"
     ]
    },
    {
     "name": "stdout",
     "output_type": "stream",
     "text": [
      "Ergebnis für Bild ADE_train_00019096.jpg gespeichert: results/sd/ADE_train_00019096.jpg\n"
     ]
    },
    {
     "name": "stderr",
     "output_type": "stream",
     "text": [
      "100%|██████████| 25/25 [00:00<00:00, 145.63it/s]\n",
      "100%|██████████| 100/100 [00:05<00:00, 16.99it/s]\n"
     ]
    },
    {
     "name": "stdout",
     "output_type": "stream",
     "text": [
      "Ergebnis für Bild ADE_train_00020734.jpg gespeichert: results/sd/ADE_train_00020734.jpg\n"
     ]
    },
    {
     "name": "stderr",
     "output_type": "stream",
     "text": [
      "100%|██████████| 25/25 [00:00<00:00, 145.39it/s]\n",
      "100%|██████████| 100/100 [00:05<00:00, 16.96it/s]\n"
     ]
    },
    {
     "name": "stdout",
     "output_type": "stream",
     "text": [
      "Ergebnis für Bild ADE_train_00012251.jpg gespeichert: results/sd/ADE_train_00012251.jpg\n"
     ]
    },
    {
     "name": "stderr",
     "output_type": "stream",
     "text": [
      "100%|██████████| 25/25 [00:00<00:00, 145.54it/s]\n",
      "100%|██████████| 100/100 [00:05<00:00, 16.99it/s]\n"
     ]
    },
    {
     "name": "stdout",
     "output_type": "stream",
     "text": [
      "Ergebnis für Bild ADE_train_00015623.jpg gespeichert: results/sd/ADE_train_00015623.jpg\n"
     ]
    },
    {
     "name": "stderr",
     "output_type": "stream",
     "text": [
      "100%|██████████| 25/25 [00:00<00:00, 144.93it/s]\n",
      "100%|██████████| 100/100 [00:05<00:00, 17.00it/s]\n"
     ]
    },
    {
     "name": "stdout",
     "output_type": "stream",
     "text": [
      "Ergebnis für Bild ADE_train_00003114.jpg gespeichert: results/sd/ADE_train_00003114.jpg\n"
     ]
    },
    {
     "name": "stderr",
     "output_type": "stream",
     "text": [
      "100%|██████████| 25/25 [00:00<00:00, 145.01it/s]\n",
      "100%|██████████| 100/100 [00:05<00:00, 17.00it/s]\n"
     ]
    },
    {
     "name": "stdout",
     "output_type": "stream",
     "text": [
      "Ergebnis für Bild ADE_train_00019194.jpg gespeichert: results/sd/ADE_train_00019194.jpg\n"
     ]
    },
    {
     "name": "stderr",
     "output_type": "stream",
     "text": [
      "100%|██████████| 25/25 [00:00<00:00, 145.71it/s]\n",
      "100%|██████████| 100/100 [00:05<00:00, 17.09it/s]\n"
     ]
    },
    {
     "name": "stdout",
     "output_type": "stream",
     "text": [
      "Ergebnis für Bild ADE_train_00022297.jpg gespeichert: results/sd/ADE_train_00022297.jpg\n"
     ]
    },
    {
     "name": "stderr",
     "output_type": "stream",
     "text": [
      "100%|██████████| 25/25 [00:00<00:00, 145.04it/s]\n",
      "100%|██████████| 100/100 [00:05<00:00, 16.97it/s]\n"
     ]
    },
    {
     "name": "stdout",
     "output_type": "stream",
     "text": [
      "Ergebnis für Bild ADE_train_00012215.jpg gespeichert: results/sd/ADE_train_00012215.jpg\n"
     ]
    },
    {
     "name": "stderr",
     "output_type": "stream",
     "text": [
      "100%|██████████| 25/25 [00:00<00:00, 144.83it/s]\n",
      "100%|██████████| 100/100 [00:05<00:00, 16.97it/s]\n"
     ]
    },
    {
     "name": "stdout",
     "output_type": "stream",
     "text": [
      "Ergebnis für Bild ADE_train_00015288.jpg gespeichert: results/sd/ADE_train_00015288.jpg\n"
     ]
    },
    {
     "name": "stderr",
     "output_type": "stream",
     "text": [
      "100%|██████████| 25/25 [00:00<00:00, 144.93it/s]\n",
      "100%|██████████| 100/100 [00:05<00:00, 16.98it/s]\n"
     ]
    },
    {
     "name": "stdout",
     "output_type": "stream",
     "text": [
      "Ergebnis für Bild ADE_train_00019191.jpg gespeichert: results/sd/ADE_train_00019191.jpg\n"
     ]
    },
    {
     "name": "stderr",
     "output_type": "stream",
     "text": [
      "100%|██████████| 25/25 [00:00<00:00, 144.88it/s]\n",
      "100%|██████████| 100/100 [00:05<00:00, 16.92it/s]\n"
     ]
    },
    {
     "name": "stdout",
     "output_type": "stream",
     "text": [
      "Ergebnis für Bild ADE_train_00001687.jpg gespeichert: results/sd/ADE_train_00001687.jpg\n"
     ]
    },
    {
     "name": "stderr",
     "output_type": "stream",
     "text": [
      "100%|██████████| 25/25 [00:00<00:00, 145.06it/s]\n",
      "100%|██████████| 100/100 [00:05<00:00, 16.97it/s]\n"
     ]
    },
    {
     "name": "stdout",
     "output_type": "stream",
     "text": [
      "Ergebnis für Bild ADE_train_00003181.jpg gespeichert: results/sd/ADE_train_00003181.jpg\n"
     ]
    },
    {
     "name": "stderr",
     "output_type": "stream",
     "text": [
      "100%|██████████| 25/25 [00:00<00:00, 144.14it/s]\n",
      "100%|██████████| 100/100 [00:05<00:00, 16.92it/s]\n"
     ]
    },
    {
     "name": "stdout",
     "output_type": "stream",
     "text": [
      "Ergebnis für Bild ADE_train_00005348.jpg gespeichert: results/sd/ADE_train_00005348.jpg\n"
     ]
    },
    {
     "name": "stderr",
     "output_type": "stream",
     "text": [
      "100%|██████████| 25/25 [00:00<00:00, 145.23it/s]\n",
      "100%|██████████| 100/100 [00:05<00:00, 16.96it/s]\n"
     ]
    },
    {
     "name": "stdout",
     "output_type": "stream",
     "text": [
      "Ergebnis für Bild ADE_train_00002348.jpg gespeichert: results/sd/ADE_train_00002348.jpg\n"
     ]
    },
    {
     "name": "stderr",
     "output_type": "stream",
     "text": [
      "100%|██████████| 25/25 [00:00<00:00, 145.20it/s]\n",
      "100%|██████████| 100/100 [00:05<00:00, 16.92it/s]\n"
     ]
    },
    {
     "name": "stdout",
     "output_type": "stream",
     "text": [
      "Ergebnis für Bild ADE_train_00002170.jpg gespeichert: results/sd/ADE_train_00002170.jpg\n"
     ]
    },
    {
     "name": "stderr",
     "output_type": "stream",
     "text": [
      "100%|██████████| 25/25 [00:00<00:00, 145.42it/s]\n",
      "100%|██████████| 100/100 [00:05<00:00, 17.01it/s]\n"
     ]
    },
    {
     "name": "stdout",
     "output_type": "stream",
     "text": [
      "Ergebnis für Bild ADE_train_00010000.jpg gespeichert: results/sd/ADE_train_00010000.jpg\n"
     ]
    },
    {
     "name": "stderr",
     "output_type": "stream",
     "text": [
      "100%|██████████| 25/25 [00:00<00:00, 144.92it/s]\n",
      "100%|██████████| 100/100 [00:05<00:00, 17.05it/s]\n"
     ]
    },
    {
     "name": "stdout",
     "output_type": "stream",
     "text": [
      "Ergebnis für Bild ADE_train_00021747.jpg gespeichert: results/sd/ADE_train_00021747.jpg\n"
     ]
    },
    {
     "name": "stderr",
     "output_type": "stream",
     "text": [
      "100%|██████████| 25/25 [00:00<00:00, 145.92it/s]\n",
      "100%|██████████| 100/100 [00:05<00:00, 17.03it/s]\n"
     ]
    },
    {
     "name": "stdout",
     "output_type": "stream",
     "text": [
      "Ergebnis für Bild ADE_train_00002345.jpg gespeichert: results/sd/ADE_train_00002345.jpg\n"
     ]
    },
    {
     "name": "stderr",
     "output_type": "stream",
     "text": [
      "100%|██████████| 25/25 [00:00<00:00, 145.23it/s]\n",
      "100%|██████████| 100/100 [00:05<00:00, 16.92it/s]\n"
     ]
    },
    {
     "name": "stdout",
     "output_type": "stream",
     "text": [
      "Ergebnis für Bild ADE_train_00001778.jpg gespeichert: results/sd/ADE_train_00001778.jpg\n"
     ]
    },
    {
     "name": "stderr",
     "output_type": "stream",
     "text": [
      "100%|██████████| 25/25 [00:00<00:00, 144.93it/s]\n",
      "100%|██████████| 100/100 [00:05<00:00, 16.86it/s]\n"
     ]
    },
    {
     "name": "stdout",
     "output_type": "stream",
     "text": [
      "Ergebnis für Bild ADE_train_00006615.jpg gespeichert: results/sd/ADE_train_00006615.jpg\n"
     ]
    },
    {
     "name": "stderr",
     "output_type": "stream",
     "text": [
      "100%|██████████| 25/25 [00:00<00:00, 144.70it/s]\n",
      "100%|██████████| 100/100 [00:05<00:00, 16.87it/s]\n"
     ]
    },
    {
     "name": "stdout",
     "output_type": "stream",
     "text": [
      "Ergebnis für Bild ADE_train_00005326.jpg gespeichert: results/sd/ADE_train_00005326.jpg\n"
     ]
    },
    {
     "name": "stderr",
     "output_type": "stream",
     "text": [
      "100%|██████████| 25/25 [00:00<00:00, 144.84it/s]\n",
      "100%|██████████| 100/100 [00:05<00:00, 16.80it/s]\n"
     ]
    },
    {
     "name": "stdout",
     "output_type": "stream",
     "text": [
      "Ergebnis für Bild ADE_train_00003081.jpg gespeichert: results/sd/ADE_train_00003081.jpg\n"
     ]
    },
    {
     "name": "stderr",
     "output_type": "stream",
     "text": [
      "100%|██████████| 25/25 [00:00<00:00, 145.04it/s]\n",
      "100%|██████████| 100/100 [00:05<00:00, 16.94it/s]\n"
     ]
    },
    {
     "name": "stdout",
     "output_type": "stream",
     "text": [
      "Ergebnis für Bild ADE_train_00020078.jpg gespeichert: results/sd/ADE_train_00020078.jpg\n"
     ]
    },
    {
     "name": "stderr",
     "output_type": "stream",
     "text": [
      "100%|██████████| 25/25 [00:00<00:00, 144.58it/s]\n",
      "100%|██████████| 100/100 [00:05<00:00, 17.00it/s]\n"
     ]
    },
    {
     "name": "stdout",
     "output_type": "stream",
     "text": [
      "Ergebnis für Bild ADE_train_00002380.jpg gespeichert: results/sd/ADE_train_00002380.jpg\n"
     ]
    },
    {
     "name": "stderr",
     "output_type": "stream",
     "text": [
      "100%|██████████| 25/25 [00:00<00:00, 145.43it/s]\n",
      "100%|██████████| 100/100 [00:05<00:00, 16.97it/s]\n"
     ]
    },
    {
     "name": "stdout",
     "output_type": "stream",
     "text": [
      "Ergebnis für Bild ADE_train_00022694.jpg gespeichert: results/sd/ADE_train_00022694.jpg\n"
     ]
    },
    {
     "name": "stderr",
     "output_type": "stream",
     "text": [
      "100%|██████████| 25/25 [00:00<00:00, 144.84it/s]\n",
      "100%|██████████| 100/100 [00:05<00:00, 17.04it/s]\n"
     ]
    },
    {
     "name": "stdout",
     "output_type": "stream",
     "text": [
      "Ergebnis für Bild ADE_train_00020086.jpg gespeichert: results/sd/ADE_train_00020086.jpg\n"
     ]
    },
    {
     "name": "stderr",
     "output_type": "stream",
     "text": [
      "100%|██████████| 25/25 [00:00<00:00, 145.51it/s]\n",
      "100%|██████████| 100/100 [00:05<00:00, 16.97it/s]\n"
     ]
    },
    {
     "name": "stdout",
     "output_type": "stream",
     "text": [
      "Ergebnis für Bild ADE_train_00019022.jpg gespeichert: results/sd/ADE_train_00019022.jpg\n"
     ]
    },
    {
     "name": "stderr",
     "output_type": "stream",
     "text": [
      "100%|██████████| 25/25 [00:00<00:00, 144.63it/s]\n",
      "100%|██████████| 100/100 [00:05<00:00, 16.92it/s]\n"
     ]
    },
    {
     "name": "stdout",
     "output_type": "stream",
     "text": [
      "Ergebnis für Bild ADE_train_00002284.jpg gespeichert: results/sd/ADE_train_00002284.jpg\n"
     ]
    },
    {
     "name": "stderr",
     "output_type": "stream",
     "text": [
      "100%|██████████| 25/25 [00:00<00:00, 145.23it/s]\n",
      "100%|██████████| 100/100 [00:05<00:00, 16.97it/s]\n"
     ]
    },
    {
     "name": "stdout",
     "output_type": "stream",
     "text": [
      "Ergebnis für Bild ADE_train_00006616.jpg gespeichert: results/sd/ADE_train_00006616.jpg\n"
     ]
    },
    {
     "name": "stderr",
     "output_type": "stream",
     "text": [
      "100%|██████████| 25/25 [00:00<00:00, 145.28it/s]\n",
      "100%|██████████| 100/100 [00:05<00:00, 16.78it/s]\n"
     ]
    },
    {
     "name": "stdout",
     "output_type": "stream",
     "text": [
      "Ergebnis für Bild ADE_train_00001670.jpg gespeichert: results/sd/ADE_train_00001670.jpg\n"
     ]
    },
    {
     "name": "stderr",
     "output_type": "stream",
     "text": [
      "100%|██████████| 25/25 [00:00<00:00, 145.03it/s]\n",
      "100%|██████████| 100/100 [00:05<00:00, 17.11it/s]\n"
     ]
    },
    {
     "name": "stdout",
     "output_type": "stream",
     "text": [
      "Ergebnis für Bild ADE_train_00023730.jpg gespeichert: results/sd/ADE_train_00023730.jpg\n"
     ]
    },
    {
     "name": "stderr",
     "output_type": "stream",
     "text": [
      "100%|██████████| 25/25 [00:00<00:00, 144.78it/s]\n",
      "100%|██████████| 100/100 [00:05<00:00, 16.89it/s]\n"
     ]
    },
    {
     "name": "stdout",
     "output_type": "stream",
     "text": [
      "Ergebnis für Bild ADE_frame_00000027.jpg gespeichert: results/sd/ADE_frame_00000027.jpg\n"
     ]
    },
    {
     "name": "stderr",
     "output_type": "stream",
     "text": [
      "100%|██████████| 25/25 [00:00<00:00, 145.39it/s]\n",
      "100%|██████████| 100/100 [00:05<00:00, 16.93it/s]\n"
     ]
    },
    {
     "name": "stdout",
     "output_type": "stream",
     "text": [
      "Ergebnis für Bild ADE_train_00002300.jpg gespeichert: results/sd/ADE_train_00002300.jpg\n"
     ]
    },
    {
     "name": "stderr",
     "output_type": "stream",
     "text": [
      "100%|██████████| 25/25 [00:00<00:00, 145.20it/s]\n",
      "100%|██████████| 100/100 [00:05<00:00, 17.12it/s]\n"
     ]
    },
    {
     "name": "stdout",
     "output_type": "stream",
     "text": [
      "Ergebnis für Bild ADE_train_00013808.jpg gespeichert: results/sd/ADE_train_00013808.jpg\n"
     ]
    },
    {
     "name": "stderr",
     "output_type": "stream",
     "text": [
      "100%|██████████| 25/25 [00:00<00:00, 145.74it/s]\n",
      "100%|██████████| 100/100 [00:05<00:00, 16.99it/s]\n"
     ]
    },
    {
     "name": "stdout",
     "output_type": "stream",
     "text": [
      "Ergebnis für Bild ADE_train_00001754.jpg gespeichert: results/sd/ADE_train_00001754.jpg\n"
     ]
    },
    {
     "name": "stderr",
     "output_type": "stream",
     "text": [
      "100%|██████████| 25/25 [00:00<00:00, 145.32it/s]\n",
      "100%|██████████| 100/100 [00:05<00:00, 17.08it/s]\n"
     ]
    },
    {
     "name": "stdout",
     "output_type": "stream",
     "text": [
      "Ergebnis für Bild ADE_train_00012218.jpg gespeichert: results/sd/ADE_train_00012218.jpg\n"
     ]
    },
    {
     "name": "stderr",
     "output_type": "stream",
     "text": [
      "100%|██████████| 25/25 [00:00<00:00, 145.39it/s]\n",
      "100%|██████████| 100/100 [00:05<00:00, 17.13it/s]\n"
     ]
    },
    {
     "name": "stdout",
     "output_type": "stream",
     "text": [
      "Ergebnis für Bild ADE_train_00006405.jpg gespeichert: results/sd/ADE_train_00006405.jpg\n"
     ]
    },
    {
     "name": "stderr",
     "output_type": "stream",
     "text": [
      "100%|██████████| 25/25 [00:00<00:00, 145.04it/s]\n",
      "100%|██████████| 100/100 [00:05<00:00, 16.97it/s]\n"
     ]
    },
    {
     "name": "stdout",
     "output_type": "stream",
     "text": [
      "Ergebnis für Bild ADE_train_00002463.jpg gespeichert: results/sd/ADE_train_00002463.jpg\n"
     ]
    },
    {
     "name": "stderr",
     "output_type": "stream",
     "text": [
      "100%|██████████| 25/25 [00:00<00:00, 145.05it/s]\n",
      "100%|██████████| 100/100 [00:05<00:00, 16.93it/s]\n"
     ]
    },
    {
     "name": "stdout",
     "output_type": "stream",
     "text": [
      "Ergebnis für Bild ADE_train_00008807.jpg gespeichert: results/sd/ADE_train_00008807.jpg\n"
     ]
    },
    {
     "name": "stderr",
     "output_type": "stream",
     "text": [
      "100%|██████████| 25/25 [00:00<00:00, 144.45it/s]\n",
      "100%|██████████| 100/100 [00:05<00:00, 16.96it/s]\n"
     ]
    },
    {
     "name": "stdout",
     "output_type": "stream",
     "text": [
      "Ergebnis für Bild ADE_train_00011662.jpg gespeichert: results/sd/ADE_train_00011662.jpg\n"
     ]
    },
    {
     "name": "stderr",
     "output_type": "stream",
     "text": [
      "100%|██████████| 25/25 [00:00<00:00, 145.39it/s]\n",
      "100%|██████████| 100/100 [00:05<00:00, 16.97it/s]\n"
     ]
    },
    {
     "name": "stdout",
     "output_type": "stream",
     "text": [
      "Ergebnis für Bild ADE_train_00002196.jpg gespeichert: results/sd/ADE_train_00002196.jpg\n"
     ]
    },
    {
     "name": "stderr",
     "output_type": "stream",
     "text": [
      "100%|██████████| 25/25 [00:00<00:00, 145.46it/s]\n",
      "100%|██████████| 100/100 [00:05<00:00, 16.97it/s]\n"
     ]
    },
    {
     "name": "stdout",
     "output_type": "stream",
     "text": [
      "Ergebnis für Bild ADE_train_00007686.jpg gespeichert: results/sd/ADE_train_00007686.jpg\n"
     ]
    },
    {
     "name": "stderr",
     "output_type": "stream",
     "text": [
      "100%|██████████| 25/25 [00:00<00:00, 144.41it/s]\n",
      "100%|██████████| 100/100 [00:05<00:00, 16.97it/s]\n"
     ]
    },
    {
     "name": "stdout",
     "output_type": "stream",
     "text": [
      "Ergebnis für Bild ADE_train_00022680.jpg gespeichert: results/sd/ADE_train_00022680.jpg\n"
     ]
    },
    {
     "name": "stderr",
     "output_type": "stream",
     "text": [
      "100%|██████████| 25/25 [00:00<00:00, 145.04it/s]\n",
      "100%|██████████| 100/100 [00:05<00:00, 16.92it/s]\n"
     ]
    },
    {
     "name": "stdout",
     "output_type": "stream",
     "text": [
      "Ergebnis für Bild ADE_train_00001702.jpg gespeichert: results/sd/ADE_train_00001702.jpg\n"
     ]
    },
    {
     "name": "stderr",
     "output_type": "stream",
     "text": [
      "100%|██████████| 25/25 [00:00<00:00, 145.97it/s]\n",
      "100%|██████████| 100/100 [00:05<00:00, 16.93it/s]\n"
     ]
    },
    {
     "name": "stdout",
     "output_type": "stream",
     "text": [
      "Ergebnis für Bild ADE_train_00002043.jpg gespeichert: results/sd/ADE_train_00002043.jpg\n"
     ]
    },
    {
     "name": "stderr",
     "output_type": "stream",
     "text": [
      "100%|██████████| 25/25 [00:00<00:00, 144.73it/s]\n",
      "100%|██████████| 100/100 [00:05<00:00, 16.97it/s]\n"
     ]
    },
    {
     "name": "stdout",
     "output_type": "stream",
     "text": [
      "Ergebnis für Bild ADE_train_00002183.jpg gespeichert: results/sd/ADE_train_00002183.jpg\n"
     ]
    },
    {
     "name": "stderr",
     "output_type": "stream",
     "text": [
      "100%|██████████| 25/25 [00:00<00:00, 145.87it/s]\n",
      "100%|██████████| 100/100 [00:05<00:00, 16.96it/s]\n"
     ]
    },
    {
     "name": "stdout",
     "output_type": "stream",
     "text": [
      "Ergebnis für Bild ADE_train_00008673.jpg gespeichert: results/sd/ADE_train_00008673.jpg\n"
     ]
    },
    {
     "name": "stderr",
     "output_type": "stream",
     "text": [
      "100%|██████████| 25/25 [00:00<00:00, 145.42it/s]\n",
      "100%|██████████| 100/100 [00:05<00:00, 16.98it/s]\n"
     ]
    },
    {
     "name": "stdout",
     "output_type": "stream",
     "text": [
      "Ergebnis für Bild ADE_train_00002146.jpg gespeichert: results/sd/ADE_train_00002146.jpg\n"
     ]
    },
    {
     "name": "stderr",
     "output_type": "stream",
     "text": [
      "100%|██████████| 25/25 [00:00<00:00, 145.71it/s]\n",
      "100%|██████████| 100/100 [00:05<00:00, 16.89it/s]\n"
     ]
    },
    {
     "name": "stdout",
     "output_type": "stream",
     "text": [
      "Ergebnis für Bild ADE_train_00024477.jpg gespeichert: results/sd/ADE_train_00024477.jpg\n"
     ]
    },
    {
     "name": "stderr",
     "output_type": "stream",
     "text": [
      "100%|██████████| 25/25 [00:00<00:00, 144.89it/s]\n",
      "100%|██████████| 100/100 [00:05<00:00, 17.00it/s]\n"
     ]
    },
    {
     "name": "stdout",
     "output_type": "stream",
     "text": [
      "Ergebnis für Bild ADE_train_00002000.jpg gespeichert: results/sd/ADE_train_00002000.jpg\n"
     ]
    },
    {
     "name": "stderr",
     "output_type": "stream",
     "text": [
      "100%|██████████| 25/25 [00:00<00:00, 145.02it/s]\n",
      "100%|██████████| 100/100 [00:05<00:00, 17.04it/s]\n"
     ]
    },
    {
     "name": "stdout",
     "output_type": "stream",
     "text": [
      "Ergebnis für Bild ADE_train_00024787.jpg gespeichert: results/sd/ADE_train_00024787.jpg\n"
     ]
    },
    {
     "name": "stderr",
     "output_type": "stream",
     "text": [
      "100%|██████████| 25/25 [00:00<00:00, 145.14it/s]\n",
      "100%|██████████| 100/100 [00:05<00:00, 16.88it/s]\n"
     ]
    },
    {
     "name": "stdout",
     "output_type": "stream",
     "text": [
      "Ergebnis für Bild ADE_train_00012272.jpg gespeichert: results/sd/ADE_train_00012272.jpg\n"
     ]
    },
    {
     "name": "stderr",
     "output_type": "stream",
     "text": [
      "100%|██████████| 25/25 [00:00<00:00, 145.55it/s]\n",
      "100%|██████████| 100/100 [00:05<00:00, 16.94it/s]\n"
     ]
    },
    {
     "name": "stdout",
     "output_type": "stream",
     "text": [
      "Ergebnis für Bild ADE_train_00001558.jpg gespeichert: results/sd/ADE_train_00001558.jpg\n"
     ]
    },
    {
     "name": "stderr",
     "output_type": "stream",
     "text": [
      "100%|██████████| 25/25 [00:00<00:00, 146.05it/s]\n",
      "100%|██████████| 100/100 [00:05<00:00, 17.02it/s]\n"
     ]
    },
    {
     "name": "stdout",
     "output_type": "stream",
     "text": [
      "Ergebnis für Bild ADE_train_00023133.jpg gespeichert: results/sd/ADE_train_00023133.jpg\n"
     ]
    },
    {
     "name": "stderr",
     "output_type": "stream",
     "text": [
      "100%|██████████| 25/25 [00:00<00:00, 144.89it/s]\n",
      "100%|██████████| 100/100 [00:05<00:00, 17.09it/s]\n"
     ]
    },
    {
     "name": "stdout",
     "output_type": "stream",
     "text": [
      "Ergebnis für Bild ADE_train_00001709.jpg gespeichert: results/sd/ADE_train_00001709.jpg\n"
     ]
    },
    {
     "name": "stderr",
     "output_type": "stream",
     "text": [
      "100%|██████████| 25/25 [00:00<00:00, 145.32it/s]\n",
      "100%|██████████| 100/100 [00:05<00:00, 17.08it/s]\n"
     ]
    },
    {
     "name": "stdout",
     "output_type": "stream",
     "text": [
      "Ergebnis für Bild ADE_train_00000665.jpg gespeichert: results/sd/ADE_train_00000665.jpg\n"
     ]
    },
    {
     "name": "stderr",
     "output_type": "stream",
     "text": [
      "100%|██████████| 25/25 [00:00<00:00, 145.52it/s]\n",
      "100%|██████████| 100/100 [00:05<00:00, 17.11it/s]\n"
     ]
    },
    {
     "name": "stdout",
     "output_type": "stream",
     "text": [
      "Ergebnis für Bild ADE_frame_00000209.jpg gespeichert: results/sd/ADE_frame_00000209.jpg\n"
     ]
    },
    {
     "name": "stderr",
     "output_type": "stream",
     "text": [
      "100%|██████████| 25/25 [00:00<00:00, 144.93it/s]\n",
      "100%|██████████| 100/100 [00:05<00:00, 17.00it/s]\n"
     ]
    },
    {
     "name": "stdout",
     "output_type": "stream",
     "text": [
      "Ergebnis für Bild ADE_train_00019143.jpg gespeichert: results/sd/ADE_train_00019143.jpg\n"
     ]
    },
    {
     "name": "stderr",
     "output_type": "stream",
     "text": [
      "100%|██████████| 25/25 [00:00<00:00, 145.26it/s]\n",
      "100%|██████████| 100/100 [00:05<00:00, 17.00it/s]\n"
     ]
    },
    {
     "name": "stdout",
     "output_type": "stream",
     "text": [
      "Ergebnis für Bild ADE_train_00000654.jpg gespeichert: results/sd/ADE_train_00000654.jpg\n"
     ]
    },
    {
     "name": "stderr",
     "output_type": "stream",
     "text": [
      "100%|██████████| 25/25 [00:00<00:00, 145.32it/s]\n",
      "100%|██████████| 100/100 [00:05<00:00, 17.35it/s]\n"
     ]
    },
    {
     "name": "stdout",
     "output_type": "stream",
     "text": [
      "Ergebnis für Bild ADE_train_00025186.jpg gespeichert: results/sd/ADE_train_00025186.jpg\n"
     ]
    },
    {
     "name": "stderr",
     "output_type": "stream",
     "text": [
      "100%|██████████| 25/25 [00:00<00:00, 145.72it/s]\n",
      "100%|██████████| 100/100 [00:05<00:00, 16.88it/s]\n"
     ]
    },
    {
     "name": "stdout",
     "output_type": "stream",
     "text": [
      "Ergebnis für Bild ADE_train_00010921.jpg gespeichert: results/sd/ADE_train_00010921.jpg\n"
     ]
    },
    {
     "name": "stderr",
     "output_type": "stream",
     "text": [
      "100%|██████████| 25/25 [00:00<00:00, 145.80it/s]\n",
      "100%|██████████| 100/100 [00:05<00:00, 17.02it/s]\n"
     ]
    },
    {
     "name": "stdout",
     "output_type": "stream",
     "text": [
      "Ergebnis für Bild ADE_train_00005562.jpg gespeichert: results/sd/ADE_train_00005562.jpg\n"
     ]
    },
    {
     "name": "stderr",
     "output_type": "stream",
     "text": [
      "100%|██████████| 25/25 [00:00<00:00, 145.35it/s]\n",
      "100%|██████████| 100/100 [00:05<00:00, 17.06it/s]\n"
     ]
    },
    {
     "name": "stdout",
     "output_type": "stream",
     "text": [
      "Ergebnis für Bild ADE_train_00001571.jpg gespeichert: results/sd/ADE_train_00001571.jpg\n"
     ]
    },
    {
     "name": "stderr",
     "output_type": "stream",
     "text": [
      "100%|██████████| 25/25 [00:00<00:00, 145.18it/s]\n",
      "100%|██████████| 100/100 [00:05<00:00, 16.91it/s]\n"
     ]
    },
    {
     "name": "stdout",
     "output_type": "stream",
     "text": [
      "Ergebnis für Bild ADE_train_00022870.jpg gespeichert: results/sd/ADE_train_00022870.jpg\n"
     ]
    },
    {
     "name": "stderr",
     "output_type": "stream",
     "text": [
      "100%|██████████| 25/25 [00:00<00:00, 145.64it/s]\n",
      "100%|██████████| 100/100 [00:05<00:00, 17.07it/s]\n"
     ]
    },
    {
     "name": "stdout",
     "output_type": "stream",
     "text": [
      "Ergebnis für Bild ADE_train_00022738.jpg gespeichert: results/sd/ADE_train_00022738.jpg\n"
     ]
    },
    {
     "name": "stderr",
     "output_type": "stream",
     "text": [
      "100%|██████████| 25/25 [00:00<00:00, 145.38it/s]\n",
      "100%|██████████| 100/100 [00:05<00:00, 16.89it/s]\n"
     ]
    },
    {
     "name": "stdout",
     "output_type": "stream",
     "text": [
      "Ergebnis für Bild ADE_train_00011667.jpg gespeichert: results/sd/ADE_train_00011667.jpg\n"
     ]
    },
    {
     "name": "stderr",
     "output_type": "stream",
     "text": [
      "100%|██████████| 25/25 [00:00<00:00, 144.73it/s]\n",
      "100%|██████████| 100/100 [00:05<00:00, 17.06it/s]\n"
     ]
    },
    {
     "name": "stdout",
     "output_type": "stream",
     "text": [
      "Ergebnis für Bild ADE_frame_00000094.jpg gespeichert: results/sd/ADE_frame_00000094.jpg\n"
     ]
    },
    {
     "name": "stderr",
     "output_type": "stream",
     "text": [
      "100%|██████████| 25/25 [00:00<00:00, 145.04it/s]\n",
      "100%|██████████| 100/100 [00:05<00:00, 16.89it/s]\n"
     ]
    },
    {
     "name": "stdout",
     "output_type": "stream",
     "text": [
      "Ergebnis für Bild ADE_train_00002389.jpg gespeichert: results/sd/ADE_train_00002389.jpg\n"
     ]
    },
    {
     "name": "stderr",
     "output_type": "stream",
     "text": [
      "100%|██████████| 25/25 [00:00<00:00, 145.03it/s]\n",
      "100%|██████████| 100/100 [00:05<00:00, 16.87it/s]\n"
     ]
    },
    {
     "name": "stdout",
     "output_type": "stream",
     "text": [
      "Ergebnis für Bild ADE_train_00004387.jpg gespeichert: results/sd/ADE_train_00004387.jpg\n"
     ]
    },
    {
     "name": "stderr",
     "output_type": "stream",
     "text": [
      "100%|██████████| 25/25 [00:00<00:00, 145.49it/s]\n",
      "100%|██████████| 100/100 [00:05<00:00, 17.06it/s]\n"
     ]
    },
    {
     "name": "stdout",
     "output_type": "stream",
     "text": [
      "Ergebnis für Bild ADE_train_00019155.jpg gespeichert: results/sd/ADE_train_00019155.jpg\n"
     ]
    },
    {
     "name": "stderr",
     "output_type": "stream",
     "text": [
      "100%|██████████| 25/25 [00:00<00:00, 145.84it/s]\n",
      "100%|██████████| 100/100 [00:05<00:00, 17.00it/s]\n"
     ]
    },
    {
     "name": "stdout",
     "output_type": "stream",
     "text": [
      "Ergebnis für Bild ADE_train_00012234.jpg gespeichert: results/sd/ADE_train_00012234.jpg\n"
     ]
    },
    {
     "name": "stderr",
     "output_type": "stream",
     "text": [
      "100%|██████████| 25/25 [00:00<00:00, 145.03it/s]\n",
      "100%|██████████| 100/100 [00:05<00:00, 16.98it/s]\n"
     ]
    },
    {
     "name": "stdout",
     "output_type": "stream",
     "text": [
      "Ergebnis für Bild ADE_train_00023733.jpg gespeichert: results/sd/ADE_train_00023733.jpg\n"
     ]
    },
    {
     "name": "stderr",
     "output_type": "stream",
     "text": [
      "100%|██████████| 25/25 [00:00<00:00, 145.93it/s]\n",
      "100%|██████████| 100/100 [00:05<00:00, 16.97it/s]\n"
     ]
    },
    {
     "name": "stdout",
     "output_type": "stream",
     "text": [
      "Ergebnis für Bild ADE_train_00012273.jpg gespeichert: results/sd/ADE_train_00012273.jpg\n"
     ]
    },
    {
     "name": "stderr",
     "output_type": "stream",
     "text": [
      "100%|██████████| 25/25 [00:00<00:00, 144.90it/s]\n",
      "100%|██████████| 100/100 [00:05<00:00, 16.98it/s]\n"
     ]
    },
    {
     "name": "stdout",
     "output_type": "stream",
     "text": [
      "Ergebnis für Bild ADE_train_00013813.jpg gespeichert: results/sd/ADE_train_00013813.jpg\n"
     ]
    },
    {
     "name": "stderr",
     "output_type": "stream",
     "text": [
      "100%|██████████| 25/25 [00:00<00:00, 145.52it/s]\n",
      "100%|██████████| 100/100 [00:05<00:00, 16.97it/s]\n"
     ]
    },
    {
     "name": "stdout",
     "output_type": "stream",
     "text": [
      "Ergebnis für Bild ADE_train_00001800.jpg gespeichert: results/sd/ADE_train_00001800.jpg\n"
     ]
    },
    {
     "name": "stderr",
     "output_type": "stream",
     "text": [
      "100%|██████████| 25/25 [00:00<00:00, 145.45it/s]\n",
      "100%|██████████| 100/100 [00:05<00:00, 16.96it/s]\n"
     ]
    },
    {
     "name": "stdout",
     "output_type": "stream",
     "text": [
      "Ergebnis für Bild ADE_train_00009348.jpg gespeichert: results/sd/ADE_train_00009348.jpg\n"
     ]
    },
    {
     "name": "stderr",
     "output_type": "stream",
     "text": [
      "100%|██████████| 25/25 [00:00<00:00, 145.61it/s]\n",
      "100%|██████████| 100/100 [00:05<00:00, 16.95it/s]\n"
     ]
    },
    {
     "name": "stdout",
     "output_type": "stream",
     "text": [
      "Ergebnis für Bild ADE_train_00001679.jpg gespeichert: results/sd/ADE_train_00001679.jpg\n"
     ]
    },
    {
     "name": "stderr",
     "output_type": "stream",
     "text": [
      "100%|██████████| 25/25 [00:00<00:00, 145.21it/s]\n",
      "100%|██████████| 100/100 [00:05<00:00, 16.95it/s]\n"
     ]
    },
    {
     "name": "stdout",
     "output_type": "stream",
     "text": [
      "Ergebnis für Bild ADE_train_00001691.jpg gespeichert: results/sd/ADE_train_00001691.jpg\n"
     ]
    },
    {
     "name": "stderr",
     "output_type": "stream",
     "text": [
      "100%|██████████| 25/25 [00:00<00:00, 145.52it/s]\n",
      "100%|██████████| 100/100 [00:05<00:00, 17.04it/s]\n"
     ]
    },
    {
     "name": "stdout",
     "output_type": "stream",
     "text": [
      "Ergebnis für Bild ADE_train_00019786.jpg gespeichert: results/sd/ADE_train_00019786.jpg\n"
     ]
    },
    {
     "name": "stderr",
     "output_type": "stream",
     "text": [
      "100%|██████████| 25/25 [00:00<00:00, 145.84it/s]\n",
      "100%|██████████| 100/100 [00:05<00:00, 16.97it/s]\n"
     ]
    },
    {
     "name": "stdout",
     "output_type": "stream",
     "text": [
      "Ergebnis für Bild ADE_train_00001744.jpg gespeichert: results/sd/ADE_train_00001744.jpg\n"
     ]
    },
    {
     "name": "stderr",
     "output_type": "stream",
     "text": [
      "100%|██████████| 25/25 [00:00<00:00, 144.83it/s]\n",
      "100%|██████████| 100/100 [00:05<00:00, 16.93it/s]\n"
     ]
    },
    {
     "name": "stdout",
     "output_type": "stream",
     "text": [
      "Ergebnis für Bild ADE_frame_00000053.jpg gespeichert: results/sd/ADE_frame_00000053.jpg\n"
     ]
    },
    {
     "name": "stderr",
     "output_type": "stream",
     "text": [
      "100%|██████████| 25/25 [00:00<00:00, 145.29it/s]\n",
      "100%|██████████| 100/100 [00:05<00:00, 16.87it/s]\n"
     ]
    },
    {
     "name": "stdout",
     "output_type": "stream",
     "text": [
      "Ergebnis für Bild ADE_train_00015702.jpg gespeichert: results/sd/ADE_train_00015702.jpg\n"
     ]
    },
    {
     "name": "stderr",
     "output_type": "stream",
     "text": [
      "100%|██████████| 25/25 [00:00<00:00, 145.05it/s]\n",
      "100%|██████████| 100/100 [00:05<00:00, 16.97it/s]\n"
     ]
    },
    {
     "name": "stdout",
     "output_type": "stream",
     "text": [
      "Ergebnis für Bild ADE_train_00020080.jpg gespeichert: results/sd/ADE_train_00020080.jpg\n"
     ]
    },
    {
     "name": "stderr",
     "output_type": "stream",
     "text": [
      "100%|██████████| 25/25 [00:00<00:00, 144.89it/s]\n",
      "100%|██████████| 100/100 [00:05<00:00, 16.87it/s]\n"
     ]
    },
    {
     "name": "stdout",
     "output_type": "stream",
     "text": [
      "Ergebnis für Bild ADE_train_00016346.jpg gespeichert: results/sd/ADE_train_00016346.jpg\n"
     ]
    },
    {
     "name": "stderr",
     "output_type": "stream",
     "text": [
      "100%|██████████| 25/25 [00:00<00:00, 145.23it/s]\n",
      "100%|██████████| 100/100 [00:05<00:00, 16.97it/s]\n"
     ]
    },
    {
     "name": "stdout",
     "output_type": "stream",
     "text": [
      "Ergebnis für Bild ADE_train_00019106.jpg gespeichert: results/sd/ADE_train_00019106.jpg\n"
     ]
    },
    {
     "name": "stderr",
     "output_type": "stream",
     "text": [
      "100%|██████████| 25/25 [00:00<00:00, 144.29it/s]\n",
      "100%|██████████| 100/100 [00:05<00:00, 16.91it/s]\n"
     ]
    },
    {
     "name": "stdout",
     "output_type": "stream",
     "text": [
      "Ergebnis für Bild ADE_train_00005392.jpg gespeichert: results/sd/ADE_train_00005392.jpg\n"
     ]
    },
    {
     "name": "stderr",
     "output_type": "stream",
     "text": [
      "100%|██████████| 25/25 [00:00<00:00, 144.90it/s]\n",
      "100%|██████████| 100/100 [00:05<00:00, 17.05it/s]\n"
     ]
    },
    {
     "name": "stdout",
     "output_type": "stream",
     "text": [
      "Ergebnis für Bild ADE_train_00002169.jpg gespeichert: results/sd/ADE_train_00002169.jpg\n"
     ]
    },
    {
     "name": "stderr",
     "output_type": "stream",
     "text": [
      "100%|██████████| 25/25 [00:00<00:00, 144.91it/s]\n",
      "100%|██████████| 100/100 [00:05<00:00, 17.11it/s]\n"
     ]
    },
    {
     "name": "stdout",
     "output_type": "stream",
     "text": [
      "Ergebnis für Bild ADE_train_00001779.jpg gespeichert: results/sd/ADE_train_00001779.jpg\n"
     ]
    },
    {
     "name": "stderr",
     "output_type": "stream",
     "text": [
      "100%|██████████| 25/25 [00:00<00:00, 144.90it/s]\n",
      "100%|██████████| 100/100 [00:05<00:00, 17.05it/s]\n"
     ]
    },
    {
     "name": "stdout",
     "output_type": "stream",
     "text": [
      "Ergebnis für Bild ADE_train_00001743.jpg gespeichert: results/sd/ADE_train_00001743.jpg\n"
     ]
    },
    {
     "name": "stderr",
     "output_type": "stream",
     "text": [
      "100%|██████████| 25/25 [00:00<00:00, 145.17it/s]\n",
      "100%|██████████| 100/100 [00:05<00:00, 17.05it/s]\n"
     ]
    },
    {
     "name": "stdout",
     "output_type": "stream",
     "text": [
      "Ergebnis für Bild ADE_train_00001884.jpg gespeichert: results/sd/ADE_train_00001884.jpg\n"
     ]
    },
    {
     "name": "stderr",
     "output_type": "stream",
     "text": [
      "100%|██████████| 25/25 [00:00<00:00, 144.73it/s]\n",
      "100%|██████████| 100/100 [00:05<00:00, 16.95it/s]\n"
     ]
    },
    {
     "name": "stdout",
     "output_type": "stream",
     "text": [
      "Ergebnis für Bild ADE_train_00001718.jpg gespeichert: results/sd/ADE_train_00001718.jpg\n"
     ]
    },
    {
     "name": "stderr",
     "output_type": "stream",
     "text": [
      "100%|██████████| 25/25 [00:00<00:00, 144.61it/s]\n",
      "100%|██████████| 100/100 [00:05<00:00, 16.93it/s]\n"
     ]
    },
    {
     "name": "stdout",
     "output_type": "stream",
     "text": [
      "Ergebnis für Bild ADE_train_00000662.jpg gespeichert: results/sd/ADE_train_00000662.jpg\n"
     ]
    },
    {
     "name": "stderr",
     "output_type": "stream",
     "text": [
      "100%|██████████| 25/25 [00:00<00:00, 144.61it/s]\n",
      "100%|██████████| 100/100 [00:05<00:00, 17.05it/s]\n"
     ]
    },
    {
     "name": "stdout",
     "output_type": "stream",
     "text": [
      "Ergebnis für Bild ADE_train_00001559.jpg gespeichert: results/sd/ADE_train_00001559.jpg\n"
     ]
    },
    {
     "name": "stderr",
     "output_type": "stream",
     "text": [
      "100%|██████████| 25/25 [00:00<00:00, 145.23it/s]\n",
      "100%|██████████| 100/100 [00:05<00:00, 17.08it/s]\n"
     ]
    },
    {
     "name": "stdout",
     "output_type": "stream",
     "text": [
      "Ergebnis für Bild ADE_frame_00000255.jpg gespeichert: results/sd/ADE_frame_00000255.jpg\n"
     ]
    },
    {
     "name": "stderr",
     "output_type": "stream",
     "text": [
      "100%|██████████| 25/25 [00:00<00:00, 145.30it/s]\n",
      "100%|██████████| 100/100 [00:05<00:00, 16.97it/s]\n"
     ]
    },
    {
     "name": "stdout",
     "output_type": "stream",
     "text": [
      "Ergebnis für Bild ADE_train_00001659.jpg gespeichert: results/sd/ADE_train_00001659.jpg\n"
     ]
    },
    {
     "name": "stderr",
     "output_type": "stream",
     "text": [
      "100%|██████████| 25/25 [00:00<00:00, 141.59it/s]\n",
      "100%|██████████| 100/100 [00:05<00:00, 17.03it/s]\n"
     ]
    },
    {
     "name": "stdout",
     "output_type": "stream",
     "text": [
      "Ergebnis für Bild ADE_train_00009995.jpg gespeichert: results/sd/ADE_train_00009995.jpg\n"
     ]
    },
    {
     "name": "stderr",
     "output_type": "stream",
     "text": [
      "100%|██████████| 25/25 [00:00<00:00, 145.00it/s]\n",
      "100%|██████████| 100/100 [00:05<00:00, 16.87it/s]\n"
     ]
    },
    {
     "name": "stdout",
     "output_type": "stream",
     "text": [
      "Ergebnis für Bild ADE_train_00001736.jpg gespeichert: results/sd/ADE_train_00001736.jpg\n"
     ]
    },
    {
     "name": "stderr",
     "output_type": "stream",
     "text": [
      "100%|██████████| 25/25 [00:00<00:00, 144.86it/s]\n",
      "100%|██████████| 100/100 [00:05<00:00, 17.01it/s]\n"
     ]
    },
    {
     "name": "stdout",
     "output_type": "stream",
     "text": [
      "Ergebnis für Bild ADE_train_00010927.jpg gespeichert: results/sd/ADE_train_00010927.jpg\n"
     ]
    },
    {
     "name": "stderr",
     "output_type": "stream",
     "text": [
      "100%|██████████| 25/25 [00:00<00:00, 144.85it/s]\n",
      "100%|██████████| 100/100 [00:05<00:00, 16.96it/s]\n"
     ]
    },
    {
     "name": "stdout",
     "output_type": "stream",
     "text": [
      "Ergebnis für Bild ADE_train_00022527.jpg gespeichert: results/sd/ADE_train_00022527.jpg\n"
     ]
    },
    {
     "name": "stderr",
     "output_type": "stream",
     "text": [
      "100%|██████████| 25/25 [00:00<00:00, 144.79it/s]\n",
      "100%|██████████| 100/100 [00:05<00:00, 16.99it/s]\n"
     ]
    },
    {
     "name": "stdout",
     "output_type": "stream",
     "text": [
      "Ergebnis für Bild ADE_frame_00000153.jpg gespeichert: results/sd/ADE_frame_00000153.jpg\n"
     ]
    },
    {
     "name": "stderr",
     "output_type": "stream",
     "text": [
      "100%|██████████| 25/25 [00:00<00:00, 145.72it/s]\n",
      "100%|██████████| 100/100 [00:05<00:00, 16.94it/s]\n"
     ]
    },
    {
     "name": "stdout",
     "output_type": "stream",
     "text": [
      "Ergebnis für Bild ADE_train_00007505.jpg gespeichert: results/sd/ADE_train_00007505.jpg\n"
     ]
    },
    {
     "name": "stderr",
     "output_type": "stream",
     "text": [
      "100%|██████████| 25/25 [00:00<00:00, 144.67it/s]\n",
      "100%|██████████| 100/100 [00:05<00:00, 16.91it/s]\n"
     ]
    },
    {
     "name": "stdout",
     "output_type": "stream",
     "text": [
      "Ergebnis für Bild ADE_train_00001560.jpg gespeichert: results/sd/ADE_train_00001560.jpg\n"
     ]
    },
    {
     "name": "stderr",
     "output_type": "stream",
     "text": [
      "100%|██████████| 25/25 [00:00<00:00, 144.58it/s]\n",
      "100%|██████████| 100/100 [00:05<00:00, 16.98it/s]\n"
     ]
    },
    {
     "name": "stdout",
     "output_type": "stream",
     "text": [
      "Ergebnis für Bild ADE_train_00009977.jpg gespeichert: results/sd/ADE_train_00009977.jpg\n"
     ]
    },
    {
     "name": "stderr",
     "output_type": "stream",
     "text": [
      "100%|██████████| 25/25 [00:00<00:00, 145.39it/s]\n",
      "100%|██████████| 100/100 [00:05<00:00, 16.96it/s]\n"
     ]
    },
    {
     "name": "stdout",
     "output_type": "stream",
     "text": [
      "Ergebnis für Bild ADE_train_00002189.jpg gespeichert: results/sd/ADE_train_00002189.jpg\n"
     ]
    },
    {
     "name": "stderr",
     "output_type": "stream",
     "text": [
      "100%|██████████| 25/25 [00:00<00:00, 144.22it/s]\n",
      "100%|██████████| 100/100 [00:05<00:00, 17.07it/s]\n"
     ]
    },
    {
     "name": "stdout",
     "output_type": "stream",
     "text": [
      "Ergebnis für Bild ADE_train_00024482.jpg gespeichert: results/sd/ADE_train_00024482.jpg\n"
     ]
    },
    {
     "name": "stderr",
     "output_type": "stream",
     "text": [
      "100%|██████████| 25/25 [00:00<00:00, 144.61it/s]\n",
      "100%|██████████| 100/100 [00:05<00:00, 17.05it/s]\n"
     ]
    },
    {
     "name": "stdout",
     "output_type": "stream",
     "text": [
      "Ergebnis für Bild ADE_train_00022759.jpg gespeichert: results/sd/ADE_train_00022759.jpg\n"
     ]
    },
    {
     "name": "stderr",
     "output_type": "stream",
     "text": [
      "100%|██████████| 25/25 [00:00<00:00, 145.24it/s]\n",
      "100%|██████████| 100/100 [00:05<00:00, 17.05it/s]\n"
     ]
    },
    {
     "name": "stdout",
     "output_type": "stream",
     "text": [
      "Ergebnis für Bild ADE_train_00000669.jpg gespeichert: results/sd/ADE_train_00000669.jpg\n"
     ]
    },
    {
     "name": "stderr",
     "output_type": "stream",
     "text": [
      "100%|██████████| 25/25 [00:00<00:00, 145.15it/s]\n",
      "100%|██████████| 100/100 [00:05<00:00, 16.89it/s]\n"
     ]
    },
    {
     "name": "stdout",
     "output_type": "stream",
     "text": [
      "Ergebnis für Bild ADE_train_00002299.jpg gespeichert: results/sd/ADE_train_00002299.jpg\n"
     ]
    },
    {
     "name": "stderr",
     "output_type": "stream",
     "text": [
      "100%|██████████| 25/25 [00:00<00:00, 144.70it/s]\n",
      "100%|██████████| 100/100 [00:05<00:00, 17.07it/s]\n"
     ]
    },
    {
     "name": "stdout",
     "output_type": "stream",
     "text": [
      "Ergebnis für Bild ADE_train_00001732.jpg gespeichert: results/sd/ADE_train_00001732.jpg\n"
     ]
    },
    {
     "name": "stderr",
     "output_type": "stream",
     "text": [
      "100%|██████████| 25/25 [00:00<00:00, 145.77it/s]\n",
      "100%|██████████| 100/100 [00:05<00:00, 17.02it/s]\n"
     ]
    },
    {
     "name": "stdout",
     "output_type": "stream",
     "text": [
      "Ergebnis für Bild ADE_train_00000003.jpg gespeichert: results/sd/ADE_train_00000003.jpg\n"
     ]
    },
    {
     "name": "stderr",
     "output_type": "stream",
     "text": [
      "100%|██████████| 25/25 [00:00<00:00, 144.48it/s]\n",
      "100%|██████████| 100/100 [00:05<00:00, 17.07it/s]\n"
     ]
    },
    {
     "name": "stdout",
     "output_type": "stream",
     "text": [
      "Ergebnis für Bild ADE_train_00022636.jpg gespeichert: results/sd/ADE_train_00022636.jpg\n"
     ]
    },
    {
     "name": "stderr",
     "output_type": "stream",
     "text": [
      "100%|██████████| 25/25 [00:00<00:00, 144.45it/s]\n",
      "100%|██████████| 100/100 [00:05<00:00, 17.08it/s]\n"
     ]
    },
    {
     "name": "stdout",
     "output_type": "stream",
     "text": [
      "Ergebnis für Bild ADE_train_00005393.jpg gespeichert: results/sd/ADE_train_00005393.jpg\n"
     ]
    },
    {
     "name": "stderr",
     "output_type": "stream",
     "text": [
      "100%|██████████| 25/25 [00:00<00:00, 144.79it/s]\n",
      "100%|██████████| 100/100 [00:05<00:00, 17.06it/s]\n"
     ]
    },
    {
     "name": "stdout",
     "output_type": "stream",
     "text": [
      "Ergebnis für Bild ADE_train_00024828.jpg gespeichert: results/sd/ADE_train_00024828.jpg\n"
     ]
    },
    {
     "name": "stderr",
     "output_type": "stream",
     "text": [
      "100%|██████████| 25/25 [00:00<00:00, 144.90it/s]\n",
      "100%|██████████| 100/100 [00:05<00:00, 17.05it/s]\n"
     ]
    },
    {
     "name": "stdout",
     "output_type": "stream",
     "text": [
      "Ergebnis für Bild ADE_train_00007683.jpg gespeichert: results/sd/ADE_train_00007683.jpg\n"
     ]
    },
    {
     "name": "stderr",
     "output_type": "stream",
     "text": [
      "100%|██████████| 25/25 [00:00<00:00, 144.38it/s]\n",
      "100%|██████████| 100/100 [00:05<00:00, 16.89it/s]\n"
     ]
    },
    {
     "name": "stdout",
     "output_type": "stream",
     "text": [
      "Ergebnis für Bild ADE_train_00022632.jpg gespeichert: results/sd/ADE_train_00022632.jpg\n"
     ]
    },
    {
     "name": "stderr",
     "output_type": "stream",
     "text": [
      "100%|██████████| 25/25 [00:00<00:00, 145.60it/s]\n",
      "100%|██████████| 100/100 [00:05<00:00, 17.00it/s]\n"
     ]
    },
    {
     "name": "stdout",
     "output_type": "stream",
     "text": [
      "Ergebnis für Bild ADE_train_00001660.jpg gespeichert: results/sd/ADE_train_00001660.jpg\n"
     ]
    },
    {
     "name": "stderr",
     "output_type": "stream",
     "text": [
      "100%|██████████| 25/25 [00:00<00:00, 144.69it/s]\n",
      "100%|██████████| 100/100 [00:05<00:00, 17.02it/s]\n"
     ]
    },
    {
     "name": "stdout",
     "output_type": "stream",
     "text": [
      "Ergebnis für Bild ADE_train_00022774.jpg gespeichert: results/sd/ADE_train_00022774.jpg\n"
     ]
    },
    {
     "name": "stderr",
     "output_type": "stream",
     "text": [
      "100%|██████████| 25/25 [00:00<00:00, 144.07it/s]\n",
      "100%|██████████| 100/100 [00:05<00:00, 17.07it/s]\n"
     ]
    },
    {
     "name": "stdout",
     "output_type": "stream",
     "text": [
      "Ergebnis für Bild ADE_train_00001661.jpg gespeichert: results/sd/ADE_train_00001661.jpg\n"
     ]
    },
    {
     "name": "stderr",
     "output_type": "stream",
     "text": [
      "100%|██████████| 25/25 [00:00<00:00, 145.36it/s]\n",
      "100%|██████████| 100/100 [00:05<00:00, 17.06it/s]\n"
     ]
    },
    {
     "name": "stdout",
     "output_type": "stream",
     "text": [
      "Ergebnis für Bild ADE_train_00021167.jpg gespeichert: results/sd/ADE_train_00021167.jpg\n"
     ]
    },
    {
     "name": "stderr",
     "output_type": "stream",
     "text": [
      "100%|██████████| 25/25 [00:00<00:00, 144.26it/s]\n",
      "100%|██████████| 100/100 [00:05<00:00, 17.08it/s]\n"
     ]
    },
    {
     "name": "stdout",
     "output_type": "stream",
     "text": [
      "Ergebnis für Bild ADE_train_00002184.jpg gespeichert: results/sd/ADE_train_00002184.jpg\n"
     ]
    },
    {
     "name": "stderr",
     "output_type": "stream",
     "text": [
      "100%|██████████| 25/25 [00:00<00:00, 144.80it/s]\n",
      "100%|██████████| 100/100 [00:06<00:00, 16.61it/s]\n"
     ]
    },
    {
     "name": "stdout",
     "output_type": "stream",
     "text": [
      "Ergebnis für Bild ADE_train_00019005.jpg gespeichert: results/sd/ADE_train_00019005.jpg\n"
     ]
    },
    {
     "name": "stderr",
     "output_type": "stream",
     "text": [
      "100%|██████████| 25/25 [00:00<00:00, 145.65it/s]\n",
      "100%|██████████| 100/100 [00:05<00:00, 17.06it/s]\n"
     ]
    },
    {
     "name": "stdout",
     "output_type": "stream",
     "text": [
      "Ergebnis für Bild ADE_train_00021744.jpg gespeichert: results/sd/ADE_train_00021744.jpg\n"
     ]
    },
    {
     "name": "stderr",
     "output_type": "stream",
     "text": [
      "100%|██████████| 25/25 [00:00<00:00, 145.89it/s]\n",
      "100%|██████████| 100/100 [00:05<00:00, 17.09it/s]\n"
     ]
    },
    {
     "name": "stdout",
     "output_type": "stream",
     "text": [
      "Ergebnis für Bild ADE_train_00003165.jpg gespeichert: results/sd/ADE_train_00003165.jpg\n"
     ]
    },
    {
     "name": "stderr",
     "output_type": "stream",
     "text": [
      "100%|██████████| 25/25 [00:00<00:00, 144.98it/s]\n",
      "100%|██████████| 100/100 [00:05<00:00, 17.01it/s]\n"
     ]
    },
    {
     "name": "stdout",
     "output_type": "stream",
     "text": [
      "Ergebnis für Bild ADE_train_00008811.jpg gespeichert: results/sd/ADE_train_00008811.jpg\n"
     ]
    },
    {
     "name": "stderr",
     "output_type": "stream",
     "text": [
      "100%|██████████| 25/25 [00:00<00:00, 144.67it/s]\n",
      "100%|██████████| 100/100 [00:05<00:00, 17.02it/s]\n"
     ]
    },
    {
     "name": "stdout",
     "output_type": "stream",
     "text": [
      "Ergebnis für Bild ADE_train_00000652.jpg gespeichert: results/sd/ADE_train_00000652.jpg\n"
     ]
    },
    {
     "name": "stderr",
     "output_type": "stream",
     "text": [
      "100%|██████████| 25/25 [00:00<00:00, 145.06it/s]\n",
      "100%|██████████| 100/100 [00:05<00:00, 17.06it/s]\n"
     ]
    },
    {
     "name": "stdout",
     "output_type": "stream",
     "text": [
      "Ergebnis für Bild ADE_train_00001792.jpg gespeichert: results/sd/ADE_train_00001792.jpg\n"
     ]
    },
    {
     "name": "stderr",
     "output_type": "stream",
     "text": [
      "100%|██████████| 25/25 [00:00<00:00, 145.19it/s]\n",
      "100%|██████████| 100/100 [00:05<00:00, 16.93it/s]\n"
     ]
    },
    {
     "name": "stdout",
     "output_type": "stream",
     "text": [
      "Ergebnis für Bild ADE_train_00024547.jpg gespeichert: results/sd/ADE_train_00024547.jpg\n"
     ]
    },
    {
     "name": "stderr",
     "output_type": "stream",
     "text": [
      "100%|██████████| 25/25 [00:00<00:00, 145.27it/s]\n",
      "100%|██████████| 100/100 [00:05<00:00, 16.92it/s]\n"
     ]
    },
    {
     "name": "stdout",
     "output_type": "stream",
     "text": [
      "Ergebnis für Bild ADE_train_00022689.jpg gespeichert: results/sd/ADE_train_00022689.jpg\n"
     ]
    },
    {
     "name": "stderr",
     "output_type": "stream",
     "text": [
      "100%|██████████| 25/25 [00:00<00:00, 144.76it/s]\n",
      "100%|██████████| 100/100 [00:05<00:00, 17.07it/s]\n"
     ]
    },
    {
     "name": "stdout",
     "output_type": "stream",
     "text": [
      "Ergebnis für Bild ADE_train_00002383.jpg gespeichert: results/sd/ADE_train_00002383.jpg\n"
     ]
    },
    {
     "name": "stderr",
     "output_type": "stream",
     "text": [
      "100%|██████████| 25/25 [00:00<00:00, 145.20it/s]\n",
      "100%|██████████| 100/100 [00:05<00:00, 16.99it/s]\n"
     ]
    },
    {
     "name": "stdout",
     "output_type": "stream",
     "text": [
      "Ergebnis für Bild ADE_train_00002171.jpg gespeichert: results/sd/ADE_train_00002171.jpg\n"
     ]
    },
    {
     "name": "stderr",
     "output_type": "stream",
     "text": [
      "100%|██████████| 25/25 [00:00<00:00, 144.45it/s]\n",
      "100%|██████████| 100/100 [00:05<00:00, 16.89it/s]\n"
     ]
    },
    {
     "name": "stdout",
     "output_type": "stream",
     "text": [
      "Ergebnis für Bild ADE_train_00011598.jpg gespeichert: results/sd/ADE_train_00011598.jpg\n"
     ]
    },
    {
     "name": "stderr",
     "output_type": "stream",
     "text": [
      "100%|██████████| 25/25 [00:00<00:00, 144.22it/s]\n",
      "100%|██████████| 100/100 [00:05<00:00, 17.09it/s]\n"
     ]
    },
    {
     "name": "stdout",
     "output_type": "stream",
     "text": [
      "Ergebnis für Bild ADE_train_00002339.jpg gespeichert: results/sd/ADE_train_00002339.jpg\n"
     ]
    },
    {
     "name": "stderr",
     "output_type": "stream",
     "text": [
      "100%|██████████| 25/25 [00:00<00:00, 145.37it/s]\n",
      "100%|██████████| 100/100 [00:05<00:00, 16.96it/s]\n"
     ]
    },
    {
     "name": "stdout",
     "output_type": "stream",
     "text": [
      "Ergebnis für Bild ADE_train_00010926.jpg gespeichert: results/sd/ADE_train_00010926.jpg\n"
     ]
    },
    {
     "name": "stderr",
     "output_type": "stream",
     "text": [
      "100%|██████████| 25/25 [00:00<00:00, 144.98it/s]\n",
      "100%|██████████| 100/100 [00:05<00:00, 16.89it/s]\n"
     ]
    },
    {
     "name": "stdout",
     "output_type": "stream",
     "text": [
      "Ergebnis für Bild ADE_train_00001768.jpg gespeichert: results/sd/ADE_train_00001768.jpg\n"
     ]
    },
    {
     "name": "stderr",
     "output_type": "stream",
     "text": [
      "100%|██████████| 25/25 [00:00<00:00, 145.13it/s]\n",
      "100%|██████████| 100/100 [00:05<00:00, 17.01it/s]\n"
     ]
    },
    {
     "name": "stdout",
     "output_type": "stream",
     "text": [
      "Ergebnis für Bild ADE_train_00001719.jpg gespeichert: results/sd/ADE_train_00001719.jpg\n"
     ]
    },
    {
     "name": "stderr",
     "output_type": "stream",
     "text": [
      "100%|██████████| 25/25 [00:00<00:00, 145.12it/s]\n",
      "100%|██████████| 100/100 [00:05<00:00, 16.99it/s]\n"
     ]
    },
    {
     "name": "stdout",
     "output_type": "stream",
     "text": [
      "Ergebnis für Bild ADE_train_00002374.jpg gespeichert: results/sd/ADE_train_00002374.jpg\n"
     ]
    },
    {
     "name": "stderr",
     "output_type": "stream",
     "text": [
      "100%|██████████| 25/25 [00:00<00:00, 145.71it/s]\n",
      "100%|██████████| 100/100 [00:05<00:00, 17.01it/s]\n"
     ]
    },
    {
     "name": "stdout",
     "output_type": "stream",
     "text": [
      "Ergebnis für Bild ADE_train_00001647.jpg gespeichert: results/sd/ADE_train_00001647.jpg\n"
     ]
    },
    {
     "name": "stderr",
     "output_type": "stream",
     "text": [
      "100%|██████████| 25/25 [00:00<00:00, 144.53it/s]\n",
      "100%|██████████| 100/100 [00:05<00:00, 16.96it/s]\n"
     ]
    },
    {
     "name": "stdout",
     "output_type": "stream",
     "text": [
      "Ergebnis für Bild ADE_train_00000960.jpg gespeichert: results/sd/ADE_train_00000960.jpg\n"
     ]
    },
    {
     "name": "stderr",
     "output_type": "stream",
     "text": [
      "100%|██████████| 25/25 [00:00<00:00, 145.47it/s]\n",
      "100%|██████████| 100/100 [00:05<00:00, 16.79it/s]\n"
     ]
    },
    {
     "name": "stdout",
     "output_type": "stream",
     "text": [
      "Ergebnis für Bild ADE_train_00008814.jpg gespeichert: results/sd/ADE_train_00008814.jpg\n"
     ]
    },
    {
     "name": "stderr",
     "output_type": "stream",
     "text": [
      "100%|██████████| 25/25 [00:00<00:00, 145.05it/s]\n",
      "100%|██████████| 100/100 [00:05<00:00, 16.98it/s]\n"
     ]
    },
    {
     "name": "stdout",
     "output_type": "stream",
     "text": [
      "Ergebnis für Bild ADE_train_00001770.jpg gespeichert: results/sd/ADE_train_00001770.jpg\n"
     ]
    },
    {
     "name": "stderr",
     "output_type": "stream",
     "text": [
      "100%|██████████| 25/25 [00:00<00:00, 144.58it/s]\n",
      "100%|██████████| 100/100 [00:05<00:00, 17.07it/s]\n"
     ]
    },
    {
     "name": "stdout",
     "output_type": "stream",
     "text": [
      "Ergebnis für Bild ADE_train_00001777.jpg gespeichert: results/sd/ADE_train_00001777.jpg\n"
     ]
    },
    {
     "name": "stderr",
     "output_type": "stream",
     "text": [
      "100%|██████████| 25/25 [00:00<00:00, 145.12it/s]\n",
      "100%|██████████| 100/100 [00:05<00:00, 16.95it/s]\n"
     ]
    },
    {
     "name": "stdout",
     "output_type": "stream",
     "text": [
      "Ergebnis für Bild ADE_train_00008809.jpg gespeichert: results/sd/ADE_train_00008809.jpg\n"
     ]
    },
    {
     "name": "stderr",
     "output_type": "stream",
     "text": [
      "100%|██████████| 25/25 [00:00<00:00, 144.97it/s]\n",
      "100%|██████████| 100/100 [00:05<00:00, 16.87it/s]\n"
     ]
    },
    {
     "name": "stdout",
     "output_type": "stream",
     "text": [
      "Ergebnis für Bild ADE_train_00004252.jpg gespeichert: results/sd/ADE_train_00004252.jpg\n"
     ]
    },
    {
     "name": "stderr",
     "output_type": "stream",
     "text": [
      "100%|██████████| 25/25 [00:00<00:00, 145.49it/s]\n",
      "100%|██████████| 100/100 [00:05<00:00, 16.88it/s]\n"
     ]
    },
    {
     "name": "stdout",
     "output_type": "stream",
     "text": [
      "Ergebnis für Bild ADE_train_00020233.jpg gespeichert: results/sd/ADE_train_00020233.jpg\n"
     ]
    },
    {
     "name": "stderr",
     "output_type": "stream",
     "text": [
      "100%|██████████| 25/25 [00:00<00:00, 145.17it/s]\n",
      "100%|██████████| 100/100 [00:05<00:00, 16.97it/s]\n"
     ]
    },
    {
     "name": "stdout",
     "output_type": "stream",
     "text": [
      "Ergebnis für Bild ADE_train_00009347.jpg gespeichert: results/sd/ADE_train_00009347.jpg\n"
     ]
    },
    {
     "name": "stderr",
     "output_type": "stream",
     "text": [
      "100%|██████████| 25/25 [00:00<00:00, 144.64it/s]\n",
      "100%|██████████| 100/100 [00:05<00:00, 16.89it/s]\n"
     ]
    },
    {
     "name": "stdout",
     "output_type": "stream",
     "text": [
      "Ergebnis für Bild ADE_frame_00000021.jpg gespeichert: results/sd/ADE_frame_00000021.jpg\n"
     ]
    },
    {
     "name": "stderr",
     "output_type": "stream",
     "text": [
      "100%|██████████| 25/25 [00:00<00:00, 145.68it/s]\n",
      "100%|██████████| 100/100 [00:05<00:00, 16.97it/s]\n"
     ]
    },
    {
     "name": "stdout",
     "output_type": "stream",
     "text": [
      "Ergebnis für Bild ADE_train_00008813.jpg gespeichert: results/sd/ADE_train_00008813.jpg\n"
     ]
    },
    {
     "name": "stderr",
     "output_type": "stream",
     "text": [
      "100%|██████████| 25/25 [00:00<00:00, 144.49it/s]\n",
      "100%|██████████| 100/100 [00:05<00:00, 17.03it/s]\n"
     ]
    },
    {
     "name": "stdout",
     "output_type": "stream",
     "text": [
      "Ergebnis für Bild ADE_train_00024427.jpg gespeichert: results/sd/ADE_train_00024427.jpg\n"
     ]
    },
    {
     "name": "stderr",
     "output_type": "stream",
     "text": [
      "100%|██████████| 25/25 [00:00<00:00, 144.89it/s]\n",
      "100%|██████████| 100/100 [00:05<00:00, 17.00it/s]\n"
     ]
    },
    {
     "name": "stdout",
     "output_type": "stream",
     "text": [
      "Ergebnis für Bild ADE_train_00002185.jpg gespeichert: results/sd/ADE_train_00002185.jpg\n"
     ]
    },
    {
     "name": "stderr",
     "output_type": "stream",
     "text": [
      "100%|██████████| 25/25 [00:00<00:00, 144.56it/s]\n",
      "100%|██████████| 100/100 [00:05<00:00, 17.01it/s]\n"
     ]
    },
    {
     "name": "stdout",
     "output_type": "stream",
     "text": [
      "Ergebnis für Bild ADE_train_00003080.jpg gespeichert: results/sd/ADE_train_00003080.jpg\n"
     ]
    },
    {
     "name": "stderr",
     "output_type": "stream",
     "text": [
      "100%|██████████| 25/25 [00:00<00:00, 145.46it/s]\n",
      "100%|██████████| 100/100 [00:05<00:00, 16.91it/s]\n"
     ]
    },
    {
     "name": "stdout",
     "output_type": "stream",
     "text": [
      "Ergebnis für Bild ADE_train_00004244.jpg gespeichert: results/sd/ADE_train_00004244.jpg\n"
     ]
    },
    {
     "name": "stderr",
     "output_type": "stream",
     "text": [
      "100%|██████████| 25/25 [00:00<00:00, 145.93it/s]\n",
      "100%|██████████| 100/100 [00:05<00:00, 16.94it/s]\n"
     ]
    },
    {
     "name": "stdout",
     "output_type": "stream",
     "text": [
      "Ergebnis für Bild ADE_train_00011711.jpg gespeichert: results/sd/ADE_train_00011711.jpg\n"
     ]
    },
    {
     "name": "stderr",
     "output_type": "stream",
     "text": [
      "100%|██████████| 25/25 [00:00<00:00, 145.18it/s]\n",
      "100%|██████████| 100/100 [00:05<00:00, 17.04it/s]\n"
     ]
    },
    {
     "name": "stdout",
     "output_type": "stream",
     "text": [
      "Ergebnis für Bild ADE_train_00024363.jpg gespeichert: results/sd/ADE_train_00024363.jpg\n"
     ]
    },
    {
     "name": "stderr",
     "output_type": "stream",
     "text": [
      "100%|██████████| 25/25 [00:00<00:00, 145.60it/s]\n",
      "100%|██████████| 100/100 [00:05<00:00, 17.11it/s]\n"
     ]
    },
    {
     "name": "stdout",
     "output_type": "stream",
     "text": [
      "Ergebnis für Bild ADE_train_00002051.jpg gespeichert: results/sd/ADE_train_00002051.jpg\n"
     ]
    },
    {
     "name": "stderr",
     "output_type": "stream",
     "text": [
      "100%|██████████| 25/25 [00:00<00:00, 145.72it/s]\n",
      "100%|██████████| 100/100 [00:05<00:00, 16.90it/s]\n"
     ]
    },
    {
     "name": "stdout",
     "output_type": "stream",
     "text": [
      "Ergebnis für Bild ADE_train_00022687.jpg gespeichert: results/sd/ADE_train_00022687.jpg\n"
     ]
    },
    {
     "name": "stderr",
     "output_type": "stream",
     "text": [
      "100%|██████████| 25/25 [00:00<00:00, 144.64it/s]\n",
      "100%|██████████| 100/100 [00:05<00:00, 17.06it/s]\n"
     ]
    },
    {
     "name": "stdout",
     "output_type": "stream",
     "text": [
      "Ergebnis für Bild ADE_train_00012183.jpg gespeichert: results/sd/ADE_train_00012183.jpg\n"
     ]
    },
    {
     "name": "stderr",
     "output_type": "stream",
     "text": [
      "100%|██████████| 25/25 [00:00<00:00, 146.03it/s]\n",
      "100%|██████████| 100/100 [00:05<00:00, 16.98it/s]\n"
     ]
    },
    {
     "name": "stdout",
     "output_type": "stream",
     "text": [
      "Ergebnis für Bild ADE_train_00022985.jpg gespeichert: results/sd/ADE_train_00022985.jpg\n"
     ]
    },
    {
     "name": "stderr",
     "output_type": "stream",
     "text": [
      "100%|██████████| 25/25 [00:00<00:00, 144.89it/s]\n",
      "100%|██████████| 100/100 [00:05<00:00, 17.04it/s]\n"
     ]
    },
    {
     "name": "stdout",
     "output_type": "stream",
     "text": [
      "Ergebnis für Bild ADE_train_00001723.jpg gespeichert: results/sd/ADE_train_00001723.jpg\n"
     ]
    },
    {
     "name": "stderr",
     "output_type": "stream",
     "text": [
      "100%|██████████| 25/25 [00:00<00:00, 146.15it/s]\n",
      "100%|██████████| 100/100 [00:05<00:00, 16.90it/s]\n"
     ]
    },
    {
     "name": "stdout",
     "output_type": "stream",
     "text": [
      "Ergebnis für Bild ADE_train_00002416.jpg gespeichert: results/sd/ADE_train_00002416.jpg\n"
     ]
    },
    {
     "name": "stderr",
     "output_type": "stream",
     "text": [
      "100%|██████████| 25/25 [00:00<00:00, 145.36it/s]\n",
      "100%|██████████| 100/100 [00:05<00:00, 16.98it/s]\n"
     ]
    },
    {
     "name": "stdout",
     "output_type": "stream",
     "text": [
      "Ergebnis für Bild ADE_train_00024823.jpg gespeichert: results/sd/ADE_train_00024823.jpg\n"
     ]
    },
    {
     "name": "stderr",
     "output_type": "stream",
     "text": [
      "100%|██████████| 25/25 [00:00<00:00, 146.41it/s]\n",
      "100%|██████████| 100/100 [00:05<00:00, 16.90it/s]\n"
     ]
    },
    {
     "name": "stdout",
     "output_type": "stream",
     "text": [
      "Ergebnis für Bild ADE_train_00019196.jpg gespeichert: results/sd/ADE_train_00019196.jpg\n"
     ]
    },
    {
     "name": "stderr",
     "output_type": "stream",
     "text": [
      "100%|██████████| 25/25 [00:00<00:00, 146.03it/s]\n",
      "100%|██████████| 100/100 [00:05<00:00, 16.92it/s]\n"
     ]
    },
    {
     "name": "stdout",
     "output_type": "stream",
     "text": [
      "Ergebnis für Bild ADE_train_00023743.jpg gespeichert: results/sd/ADE_train_00023743.jpg\n"
     ]
    },
    {
     "name": "stderr",
     "output_type": "stream",
     "text": [
      "100%|██████████| 25/25 [00:00<00:00, 146.16it/s]\n",
      "100%|██████████| 100/100 [00:05<00:00, 17.01it/s]\n"
     ]
    },
    {
     "name": "stdout",
     "output_type": "stream",
     "text": [
      "Ergebnis für Bild ADE_train_00002154.jpg gespeichert: results/sd/ADE_train_00002154.jpg\n"
     ]
    },
    {
     "name": "stderr",
     "output_type": "stream",
     "text": [
      "100%|██████████| 25/25 [00:00<00:00, 145.85it/s]\n",
      "100%|██████████| 100/100 [00:05<00:00, 16.85it/s]\n"
     ]
    },
    {
     "name": "stdout",
     "output_type": "stream",
     "text": [
      "Ergebnis für Bild ADE_train_00004397.jpg gespeichert: results/sd/ADE_train_00004397.jpg\n"
     ]
    },
    {
     "name": "stderr",
     "output_type": "stream",
     "text": [
      "100%|██████████| 25/25 [00:00<00:00, 145.65it/s]\n",
      "100%|██████████| 100/100 [00:05<00:00, 16.92it/s]\n"
     ]
    },
    {
     "name": "stdout",
     "output_type": "stream",
     "text": [
      "Ergebnis für Bild ADE_train_00001734.jpg gespeichert: results/sd/ADE_train_00001734.jpg\n"
     ]
    },
    {
     "name": "stderr",
     "output_type": "stream",
     "text": [
      "100%|██████████| 25/25 [00:00<00:00, 145.80it/s]\n",
      "100%|██████████| 100/100 [00:05<00:00, 16.85it/s]\n"
     ]
    },
    {
     "name": "stdout",
     "output_type": "stream",
     "text": [
      "Ergebnis für Bild ADE_train_00023672.jpg gespeichert: results/sd/ADE_train_00023672.jpg\n"
     ]
    },
    {
     "name": "stderr",
     "output_type": "stream",
     "text": [
      "100%|██████████| 25/25 [00:00<00:00, 146.36it/s]\n",
      "100%|██████████| 100/100 [00:05<00:00, 17.09it/s]\n"
     ]
    },
    {
     "name": "stdout",
     "output_type": "stream",
     "text": [
      "Ergebnis für Bild ADE_train_00015628.jpg gespeichert: results/sd/ADE_train_00015628.jpg\n"
     ]
    },
    {
     "name": "stderr",
     "output_type": "stream",
     "text": [
      "100%|██████████| 25/25 [00:00<00:00, 145.37it/s]\n",
      "100%|██████████| 100/100 [00:05<00:00, 17.01it/s]\n"
     ]
    },
    {
     "name": "stdout",
     "output_type": "stream",
     "text": [
      "Ergebnis für Bild ADE_train_00020589.jpg gespeichert: results/sd/ADE_train_00020589.jpg\n"
     ]
    },
    {
     "name": "stderr",
     "output_type": "stream",
     "text": [
      "100%|██████████| 25/25 [00:00<00:00, 145.81it/s]\n",
      "100%|██████████| 100/100 [00:05<00:00, 16.99it/s]\n"
     ]
    },
    {
     "name": "stdout",
     "output_type": "stream",
     "text": [
      "Ergebnis für Bild ADE_train_00002425.jpg gespeichert: results/sd/ADE_train_00002425.jpg\n"
     ]
    },
    {
     "name": "stderr",
     "output_type": "stream",
     "text": [
      "100%|██████████| 25/25 [00:00<00:00, 145.52it/s]\n",
      "100%|██████████| 100/100 [00:05<00:00, 16.92it/s]\n"
     ]
    },
    {
     "name": "stdout",
     "output_type": "stream",
     "text": [
      "Ergebnis für Bild ADE_train_00002343.jpg gespeichert: results/sd/ADE_train_00002343.jpg\n"
     ]
    },
    {
     "name": "stderr",
     "output_type": "stream",
     "text": [
      "100%|██████████| 25/25 [00:00<00:00, 145.94it/s]\n",
      "100%|██████████| 100/100 [00:05<00:00, 17.07it/s]\n"
     ]
    },
    {
     "name": "stdout",
     "output_type": "stream",
     "text": [
      "Ergebnis für Bild ADE_train_00019146.jpg gespeichert: results/sd/ADE_train_00019146.jpg\n"
     ]
    },
    {
     "name": "stderr",
     "output_type": "stream",
     "text": [
      "100%|██████████| 25/25 [00:00<00:00, 145.49it/s]\n",
      "100%|██████████| 100/100 [00:05<00:00, 17.10it/s]\n"
     ]
    },
    {
     "name": "stdout",
     "output_type": "stream",
     "text": [
      "Ergebnis für Bild ADE_train_00013812.jpg gespeichert: results/sd/ADE_train_00013812.jpg\n"
     ]
    },
    {
     "name": "stderr",
     "output_type": "stream",
     "text": [
      "100%|██████████| 25/25 [00:00<00:00, 145.42it/s]\n",
      "100%|██████████| 100/100 [00:05<00:00, 17.18it/s]\n"
     ]
    },
    {
     "name": "stdout",
     "output_type": "stream",
     "text": [
      "Ergebnis für Bild ADE_train_00001641.jpg gespeichert: results/sd/ADE_train_00001641.jpg\n"
     ]
    },
    {
     "name": "stderr",
     "output_type": "stream",
     "text": [
      "100%|██████████| 25/25 [00:00<00:00, 145.09it/s]\n",
      "100%|██████████| 100/100 [00:05<00:00, 17.00it/s]\n"
     ]
    },
    {
     "name": "stdout",
     "output_type": "stream",
     "text": [
      "Ergebnis für Bild ADE_train_00016344.jpg gespeichert: results/sd/ADE_train_00016344.jpg\n"
     ]
    },
    {
     "name": "stderr",
     "output_type": "stream",
     "text": [
      "100%|██████████| 25/25 [00:00<00:00, 145.63it/s]\n",
      "100%|██████████| 100/100 [00:05<00:00, 17.15it/s]\n"
     ]
    },
    {
     "name": "stdout",
     "output_type": "stream",
     "text": [
      "Ergebnis für Bild ADE_train_00024688.jpg gespeichert: results/sd/ADE_train_00024688.jpg\n"
     ]
    },
    {
     "name": "stderr",
     "output_type": "stream",
     "text": [
      "100%|██████████| 25/25 [00:00<00:00, 144.70it/s]\n",
      "100%|██████████| 100/100 [00:05<00:00, 17.14it/s]\n"
     ]
    },
    {
     "name": "stdout",
     "output_type": "stream",
     "text": [
      "Ergebnis für Bild ADE_train_00001672.jpg gespeichert: results/sd/ADE_train_00001672.jpg\n"
     ]
    },
    {
     "name": "stderr",
     "output_type": "stream",
     "text": [
      "100%|██████████| 25/25 [00:00<00:00, 144.92it/s]\n",
      "100%|██████████| 100/100 [00:05<00:00, 17.20it/s]\n"
     ]
    },
    {
     "name": "stdout",
     "output_type": "stream",
     "text": [
      "Ergebnis für Bild ADE_train_00010768.jpg gespeichert: results/sd/ADE_train_00010768.jpg\n"
     ]
    },
    {
     "name": "stderr",
     "output_type": "stream",
     "text": [
      "100%|██████████| 25/25 [00:00<00:00, 145.48it/s]\n",
      "100%|██████████| 100/100 [00:05<00:00, 16.90it/s]\n"
     ]
    },
    {
     "name": "stdout",
     "output_type": "stream",
     "text": [
      "Ergebnis für Bild ADE_train_00007699.jpg gespeichert: results/sd/ADE_train_00007699.jpg\n"
     ]
    },
    {
     "name": "stderr",
     "output_type": "stream",
     "text": [
      "100%|██████████| 25/25 [00:00<00:00, 145.57it/s]\n",
      "100%|██████████| 100/100 [00:05<00:00, 17.02it/s]\n"
     ]
    },
    {
     "name": "stdout",
     "output_type": "stream",
     "text": [
      "Ergebnis für Bild ADE_train_00022725.jpg gespeichert: results/sd/ADE_train_00022725.jpg\n"
     ]
    },
    {
     "name": "stderr",
     "output_type": "stream",
     "text": [
      "100%|██████████| 25/25 [00:00<00:00, 145.19it/s]\n",
      "100%|██████████| 100/100 [00:05<00:00, 17.31it/s]\n"
     ]
    },
    {
     "name": "stdout",
     "output_type": "stream",
     "text": [
      "Ergebnis für Bild ADE_train_00008816.jpg gespeichert: results/sd/ADE_train_00008816.jpg\n"
     ]
    },
    {
     "name": "stderr",
     "output_type": "stream",
     "text": [
      "100%|██████████| 25/25 [00:00<00:00, 144.66it/s]\n",
      "100%|██████████| 100/100 [00:05<00:00, 16.95it/s]\n"
     ]
    },
    {
     "name": "stdout",
     "output_type": "stream",
     "text": [
      "Ergebnis für Bild ADE_train_00010765.jpg gespeichert: results/sd/ADE_train_00010765.jpg\n"
     ]
    },
    {
     "name": "stderr",
     "output_type": "stream",
     "text": [
      "100%|██████████| 25/25 [00:00<00:00, 145.63it/s]\n",
      "100%|██████████| 100/100 [00:05<00:00, 17.24it/s]\n"
     ]
    },
    {
     "name": "stdout",
     "output_type": "stream",
     "text": [
      "Ergebnis für Bild ADE_train_00023926.jpg gespeichert: results/sd/ADE_train_00023926.jpg\n"
     ]
    },
    {
     "name": "stderr",
     "output_type": "stream",
     "text": [
      "100%|██████████| 25/25 [00:00<00:00, 145.54it/s]\n",
      "100%|██████████| 100/100 [00:05<00:00, 17.12it/s]\n"
     ]
    },
    {
     "name": "stdout",
     "output_type": "stream",
     "text": [
      "Ergebnis für Bild ADE_train_00002062.jpg gespeichert: results/sd/ADE_train_00002062.jpg\n"
     ]
    },
    {
     "name": "stderr",
     "output_type": "stream",
     "text": [
      "100%|██████████| 25/25 [00:00<00:00, 145.02it/s]\n",
      "100%|██████████| 100/100 [00:05<00:00, 17.23it/s]\n"
     ]
    },
    {
     "name": "stdout",
     "output_type": "stream",
     "text": [
      "Ergebnis für Bild ADE_train_00016763.jpg gespeichert: results/sd/ADE_train_00016763.jpg\n"
     ]
    },
    {
     "name": "stderr",
     "output_type": "stream",
     "text": [
      "100%|██████████| 25/25 [00:00<00:00, 145.45it/s]\n",
      "100%|██████████| 100/100 [00:05<00:00, 17.06it/s]\n"
     ]
    },
    {
     "name": "stdout",
     "output_type": "stream",
     "text": [
      "Ergebnis für Bild ADE_train_00002148.jpg gespeichert: results/sd/ADE_train_00002148.jpg\n"
     ]
    },
    {
     "name": "stderr",
     "output_type": "stream",
     "text": [
      "100%|██████████| 25/25 [00:00<00:00, 145.10it/s]\n",
      "100%|██████████| 100/100 [00:05<00:00, 17.34it/s]\n"
     ]
    },
    {
     "name": "stdout",
     "output_type": "stream",
     "text": [
      "Ergebnis für Bild ADE_train_00001682.jpg gespeichert: results/sd/ADE_train_00001682.jpg\n"
     ]
    },
    {
     "name": "stderr",
     "output_type": "stream",
     "text": [
      "100%|██████████| 25/25 [00:00<00:00, 145.43it/s]\n",
      "100%|██████████| 100/100 [00:05<00:00, 17.17it/s]\n"
     ]
    },
    {
     "name": "stdout",
     "output_type": "stream",
     "text": [
      "Ergebnis für Bild ADE_train_00002168.jpg gespeichert: results/sd/ADE_train_00002168.jpg\n"
     ]
    },
    {
     "name": "stderr",
     "output_type": "stream",
     "text": [
      "100%|██████████| 25/25 [00:00<00:00, 142.74it/s]\n",
      "100%|██████████| 100/100 [00:05<00:00, 17.55it/s]\n"
     ]
    },
    {
     "name": "stdout",
     "output_type": "stream",
     "text": [
      "Ergebnis für Bild ADE_train_00007510.jpg gespeichert: results/sd/ADE_train_00007510.jpg\n"
     ]
    },
    {
     "name": "stderr",
     "output_type": "stream",
     "text": [
      "100%|██████████| 25/25 [00:00<00:00, 144.63it/s]\n",
      "100%|██████████| 100/100 [00:06<00:00, 16.36it/s]\n"
     ]
    },
    {
     "name": "stdout",
     "output_type": "stream",
     "text": [
      "Ergebnis für Bild ADE_train_00001715.jpg gespeichert: results/sd/ADE_train_00001715.jpg\n"
     ]
    },
    {
     "name": "stderr",
     "output_type": "stream",
     "text": [
      "100%|██████████| 25/25 [00:00<00:00, 145.68it/s]\n",
      "100%|██████████| 100/100 [00:05<00:00, 17.11it/s]\n"
     ]
    },
    {
     "name": "stdout",
     "output_type": "stream",
     "text": [
      "Ergebnis für Bild ADE_train_00001766.jpg gespeichert: results/sd/ADE_train_00001766.jpg\n"
     ]
    },
    {
     "name": "stderr",
     "output_type": "stream",
     "text": [
      "100%|██████████| 25/25 [00:00<00:00, 145.27it/s]\n",
      "100%|██████████| 100/100 [00:05<00:00, 17.21it/s]\n"
     ]
    },
    {
     "name": "stdout",
     "output_type": "stream",
     "text": [
      "Ergebnis für Bild ADE_train_00003092.jpg gespeichert: results/sd/ADE_train_00003092.jpg\n"
     ]
    },
    {
     "name": "stderr",
     "output_type": "stream",
     "text": [
      "100%|██████████| 25/25 [00:00<00:00, 144.48it/s]\n",
      "100%|██████████| 100/100 [00:05<00:00, 17.19it/s]\n"
     ]
    },
    {
     "name": "stdout",
     "output_type": "stream",
     "text": [
      "Ergebnis für Bild ADE_train_00007698.jpg gespeichert: results/sd/ADE_train_00007698.jpg\n"
     ]
    },
    {
     "name": "stderr",
     "output_type": "stream",
     "text": [
      "100%|██████████| 25/25 [00:00<00:00, 145.14it/s]\n",
      "100%|██████████| 100/100 [00:05<00:00, 17.76it/s]\n"
     ]
    },
    {
     "name": "stdout",
     "output_type": "stream",
     "text": [
      "Ergebnis für Bild ADE_train_00001646.jpg gespeichert: results/sd/ADE_train_00001646.jpg\n"
     ]
    },
    {
     "name": "stderr",
     "output_type": "stream",
     "text": [
      "100%|██████████| 25/25 [00:00<00:00, 145.76it/s]\n",
      "100%|██████████| 100/100 [00:05<00:00, 17.26it/s]\n"
     ]
    },
    {
     "name": "stdout",
     "output_type": "stream",
     "text": [
      "Ergebnis für Bild ADE_train_00011914.jpg gespeichert: results/sd/ADE_train_00011914.jpg\n"
     ]
    },
    {
     "name": "stderr",
     "output_type": "stream",
     "text": [
      "100%|██████████| 25/25 [00:00<00:00, 145.85it/s]\n",
      "100%|██████████| 100/100 [00:05<00:00, 17.72it/s]\n"
     ]
    },
    {
     "name": "stdout",
     "output_type": "stream",
     "text": [
      "Ergebnis für Bild ADE_train_00010978.jpg gespeichert: results/sd/ADE_train_00010978.jpg\n"
     ]
    },
    {
     "name": "stderr",
     "output_type": "stream",
     "text": [
      "100%|██████████| 25/25 [00:00<00:00, 145.32it/s]\n",
      "100%|██████████| 100/100 [00:05<00:00, 17.11it/s]\n"
     ]
    },
    {
     "name": "stdout",
     "output_type": "stream",
     "text": [
      "Ergebnis für Bild ADE_train_00019102.jpg gespeichert: results/sd/ADE_train_00019102.jpg\n"
     ]
    },
    {
     "name": "stderr",
     "output_type": "stream",
     "text": [
      "100%|██████████| 25/25 [00:00<00:00, 145.33it/s]\n",
      "100%|██████████| 100/100 [00:05<00:00, 17.23it/s]\n"
     ]
    },
    {
     "name": "stdout",
     "output_type": "stream",
     "text": [
      "Ergebnis für Bild ADE_train_00022713.jpg gespeichert: results/sd/ADE_train_00022713.jpg\n"
     ]
    },
    {
     "name": "stderr",
     "output_type": "stream",
     "text": [
      "100%|██████████| 25/25 [00:00<00:00, 145.42it/s]\n",
      "100%|██████████| 100/100 [00:05<00:00, 17.24it/s]\n"
     ]
    },
    {
     "name": "stdout",
     "output_type": "stream",
     "text": [
      "Ergebnis für Bild ADE_frame_00000043.jpg gespeichert: results/sd/ADE_frame_00000043.jpg\n"
     ]
    },
    {
     "name": "stderr",
     "output_type": "stream",
     "text": [
      "100%|██████████| 25/25 [00:00<00:00, 145.32it/s]\n",
      "100%|██████████| 100/100 [00:05<00:00, 16.89it/s]\n"
     ]
    },
    {
     "name": "stdout",
     "output_type": "stream",
     "text": [
      "Ergebnis für Bild ADE_train_00012253.jpg gespeichert: results/sd/ADE_train_00012253.jpg\n"
     ]
    },
    {
     "name": "stderr",
     "output_type": "stream",
     "text": [
      "100%|██████████| 25/25 [00:00<00:00, 145.38it/s]\n",
      "100%|██████████| 100/100 [00:05<00:00, 17.20it/s]\n"
     ]
    },
    {
     "name": "stdout",
     "output_type": "stream",
     "text": [
      "Ergebnis für Bild ADE_train_00001705.jpg gespeichert: results/sd/ADE_train_00001705.jpg\n"
     ]
    },
    {
     "name": "stderr",
     "output_type": "stream",
     "text": [
      "100%|██████████| 25/25 [00:00<00:00, 145.91it/s]\n",
      "100%|██████████| 100/100 [00:05<00:00, 17.25it/s]\n"
     ]
    },
    {
     "name": "stdout",
     "output_type": "stream",
     "text": [
      "Ergebnis für Bild ADE_train_00021741.jpg gespeichert: results/sd/ADE_train_00021741.jpg\n"
     ]
    },
    {
     "name": "stderr",
     "output_type": "stream",
     "text": [
      "100%|██████████| 25/25 [00:00<00:00, 145.12it/s]\n",
      "100%|██████████| 100/100 [00:05<00:00, 17.13it/s]\n"
     ]
    },
    {
     "name": "stdout",
     "output_type": "stream",
     "text": [
      "Ergebnis für Bild ADE_train_00019300.jpg gespeichert: results/sd/ADE_train_00019300.jpg\n"
     ]
    },
    {
     "name": "stderr",
     "output_type": "stream",
     "text": [
      "100%|██████████| 25/25 [00:00<00:00, 145.19it/s]\n",
      "100%|██████████| 100/100 [00:05<00:00, 17.16it/s]\n"
     ]
    },
    {
     "name": "stdout",
     "output_type": "stream",
     "text": [
      "Ergebnis für Bild ADE_frame_00000045.jpg gespeichert: results/sd/ADE_frame_00000045.jpg\n"
     ]
    },
    {
     "name": "stderr",
     "output_type": "stream",
     "text": [
      "100%|██████████| 25/25 [00:00<00:00, 144.91it/s]\n",
      "100%|██████████| 100/100 [00:05<00:00, 17.20it/s]\n"
     ]
    },
    {
     "name": "stdout",
     "output_type": "stream",
     "text": [
      "Ergebnis für Bild ADE_train_00005167.jpg gespeichert: results/sd/ADE_train_00005167.jpg\n"
     ]
    },
    {
     "name": "stderr",
     "output_type": "stream",
     "text": [
      "100%|██████████| 25/25 [00:00<00:00, 144.69it/s]\n",
      "100%|██████████| 100/100 [00:05<00:00, 17.37it/s]\n"
     ]
    },
    {
     "name": "stdout",
     "output_type": "stream",
     "text": [
      "Ergebnis für Bild ADE_train_00019201.jpg gespeichert: results/sd/ADE_train_00019201.jpg\n"
     ]
    },
    {
     "name": "stderr",
     "output_type": "stream",
     "text": [
      "100%|██████████| 25/25 [00:00<00:00, 144.95it/s]\n",
      "100%|██████████| 100/100 [00:05<00:00, 16.69it/s]\n"
     ]
    },
    {
     "name": "stdout",
     "output_type": "stream",
     "text": [
      "Ergebnis für Bild ADE_train_00025156.jpg gespeichert: results/sd/ADE_train_00025156.jpg\n"
     ]
    },
    {
     "name": "stderr",
     "output_type": "stream",
     "text": [
      "100%|██████████| 25/25 [00:00<00:00, 145.37it/s]\n",
      "100%|██████████| 100/100 [00:05<00:00, 17.20it/s]\n"
     ]
    },
    {
     "name": "stdout",
     "output_type": "stream",
     "text": [
      "Ergebnis für Bild ADE_train_00011670.jpg gespeichert: results/sd/ADE_train_00011670.jpg\n"
     ]
    },
    {
     "name": "stderr",
     "output_type": "stream",
     "text": [
      "100%|██████████| 25/25 [00:00<00:00, 145.76it/s]\n",
      "100%|██████████| 100/100 [00:05<00:00, 17.40it/s]\n"
     ]
    },
    {
     "name": "stdout",
     "output_type": "stream",
     "text": [
      "Ergebnis für Bild ADE_train_00019293.jpg gespeichert: results/sd/ADE_train_00019293.jpg\n"
     ]
    },
    {
     "name": "stderr",
     "output_type": "stream",
     "text": [
      "100%|██████████| 25/25 [00:00<00:00, 144.84it/s]\n",
      "100%|██████████| 100/100 [00:05<00:00, 17.43it/s]\n"
     ]
    },
    {
     "name": "stdout",
     "output_type": "stream",
     "text": [
      "Ergebnis für Bild ADE_train_00001675.jpg gespeichert: results/sd/ADE_train_00001675.jpg\n"
     ]
    },
    {
     "name": "stderr",
     "output_type": "stream",
     "text": [
      "100%|██████████| 25/25 [00:00<00:00, 145.59it/s]\n",
      "100%|██████████| 100/100 [00:05<00:00, 17.23it/s]\n"
     ]
    },
    {
     "name": "stdout",
     "output_type": "stream",
     "text": [
      "Ergebnis für Bild ADE_train_00011597.jpg gespeichert: results/sd/ADE_train_00011597.jpg\n"
     ]
    },
    {
     "name": "stderr",
     "output_type": "stream",
     "text": [
      "100%|██████████| 25/25 [00:00<00:00, 144.73it/s]\n",
      "100%|██████████| 100/100 [00:05<00:00, 17.25it/s]\n"
     ]
    },
    {
     "name": "stdout",
     "output_type": "stream",
     "text": [
      "Ergebnis für Bild ADE_train_00011588.jpg gespeichert: results/sd/ADE_train_00011588.jpg\n"
     ]
    },
    {
     "name": "stderr",
     "output_type": "stream",
     "text": [
      "100%|██████████| 25/25 [00:00<00:00, 145.13it/s]\n",
      "100%|██████████| 100/100 [00:05<00:00, 17.28it/s]\n"
     ]
    },
    {
     "name": "stdout",
     "output_type": "stream",
     "text": [
      "Ergebnis für Bild ADE_train_00002057.jpg gespeichert: results/sd/ADE_train_00002057.jpg\n"
     ]
    },
    {
     "name": "stderr",
     "output_type": "stream",
     "text": [
      "100%|██████████| 25/25 [00:00<00:00, 145.76it/s]\n",
      "100%|██████████| 100/100 [00:05<00:00, 17.23it/s]\n"
     ]
    },
    {
     "name": "stdout",
     "output_type": "stream",
     "text": [
      "Ergebnis für Bild ADE_train_00002376.jpg gespeichert: results/sd/ADE_train_00002376.jpg\n"
     ]
    },
    {
     "name": "stderr",
     "output_type": "stream",
     "text": [
      "100%|██████████| 25/25 [00:00<00:00, 144.61it/s]\n",
      "100%|██████████| 100/100 [00:05<00:00, 17.26it/s]\n"
     ]
    },
    {
     "name": "stdout",
     "output_type": "stream",
     "text": [
      "Ergebnis für Bild ADE_train_00025110.jpg gespeichert: results/sd/ADE_train_00025110.jpg\n"
     ]
    },
    {
     "name": "stderr",
     "output_type": "stream",
     "text": [
      "100%|██████████| 25/25 [00:00<00:00, 144.30it/s]\n",
      "100%|██████████| 100/100 [00:05<00:00, 17.29it/s]\n"
     ]
    },
    {
     "name": "stdout",
     "output_type": "stream",
     "text": [
      "Ergebnis für Bild ADE_train_00012188.jpg gespeichert: results/sd/ADE_train_00012188.jpg\n"
     ]
    },
    {
     "name": "stderr",
     "output_type": "stream",
     "text": [
      "100%|██████████| 25/25 [00:00<00:00, 145.37it/s]\n",
      "100%|██████████| 100/100 [00:05<00:00, 17.34it/s]\n"
     ]
    },
    {
     "name": "stdout",
     "output_type": "stream",
     "text": [
      "Ergebnis für Bild ADE_train_00002052.jpg gespeichert: results/sd/ADE_train_00002052.jpg\n"
     ]
    },
    {
     "name": "stderr",
     "output_type": "stream",
     "text": [
      "100%|██████████| 25/25 [00:00<00:00, 145.12it/s]\n",
      "100%|██████████| 100/100 [00:05<00:00, 17.27it/s]\n"
     ]
    },
    {
     "name": "stdout",
     "output_type": "stream",
     "text": [
      "Ergebnis für Bild ADE_train_00001903.jpg gespeichert: results/sd/ADE_train_00001903.jpg\n"
     ]
    },
    {
     "name": "stderr",
     "output_type": "stream",
     "text": [
      "100%|██████████| 25/25 [00:00<00:00, 144.00it/s]\n",
      "100%|██████████| 100/100 [00:05<00:00, 17.64it/s]\n"
     ]
    },
    {
     "name": "stdout",
     "output_type": "stream",
     "text": [
      "Ergebnis für Bild ADE_train_00001592.jpg gespeichert: results/sd/ADE_train_00001592.jpg\n"
     ]
    },
    {
     "name": "stderr",
     "output_type": "stream",
     "text": [
      "100%|██████████| 25/25 [00:00<00:00, 145.22it/s]\n",
      "100%|██████████| 100/100 [00:05<00:00, 17.98it/s]\n"
     ]
    },
    {
     "name": "stdout",
     "output_type": "stream",
     "text": [
      "Ergebnis für Bild ADE_train_00001666.jpg gespeichert: results/sd/ADE_train_00001666.jpg\n"
     ]
    },
    {
     "name": "stderr",
     "output_type": "stream",
     "text": [
      "100%|██████████| 25/25 [00:00<00:00, 144.60it/s]\n",
      "100%|██████████| 100/100 [00:05<00:00, 17.66it/s]\n"
     ]
    },
    {
     "name": "stdout",
     "output_type": "stream",
     "text": [
      "Ergebnis für Bild ADE_train_00016767.jpg gespeichert: results/sd/ADE_train_00016767.jpg\n"
     ]
    },
    {
     "name": "stderr",
     "output_type": "stream",
     "text": [
      "100%|██████████| 25/25 [00:00<00:00, 144.97it/s]\n",
      "100%|██████████| 100/100 [00:05<00:00, 17.32it/s]\n"
     ]
    },
    {
     "name": "stdout",
     "output_type": "stream",
     "text": [
      "Ergebnis für Bild ADE_train_00006612.jpg gespeichert: results/sd/ADE_train_00006612.jpg\n"
     ]
    },
    {
     "name": "stderr",
     "output_type": "stream",
     "text": [
      "100%|██████████| 25/25 [00:00<00:00, 145.11it/s]\n",
      "100%|██████████| 100/100 [00:05<00:00, 17.61it/s]\n"
     ]
    },
    {
     "name": "stdout",
     "output_type": "stream",
     "text": [
      "Ergebnis für Bild ADE_train_00025188.jpg gespeichert: results/sd/ADE_train_00025188.jpg\n"
     ]
    },
    {
     "name": "stderr",
     "output_type": "stream",
     "text": [
      "100%|██████████| 25/25 [00:00<00:00, 145.27it/s]\n",
      "100%|██████████| 100/100 [00:05<00:00, 17.29it/s]\n"
     ]
    },
    {
     "name": "stdout",
     "output_type": "stream",
     "text": [
      "Ergebnis für Bild ADE_train_00001995.jpg gespeichert: results/sd/ADE_train_00001995.jpg\n"
     ]
    },
    {
     "name": "stderr",
     "output_type": "stream",
     "text": [
      "100%|██████████| 25/25 [00:00<00:00, 145.34it/s]\n",
      "100%|██████████| 100/100 [00:05<00:00, 17.49it/s]\n"
     ]
    },
    {
     "name": "stdout",
     "output_type": "stream",
     "text": [
      "Ergebnis für Bild ADE_train_00002391.jpg gespeichert: results/sd/ADE_train_00002391.jpg\n"
     ]
    },
    {
     "name": "stderr",
     "output_type": "stream",
     "text": [
      "100%|██████████| 25/25 [00:00<00:00, 143.25it/s]\n",
      "100%|██████████| 100/100 [00:05<00:00, 17.94it/s]\n"
     ]
    },
    {
     "name": "stdout",
     "output_type": "stream",
     "text": [
      "Ergebnis für Bild ADE_train_00004254.jpg gespeichert: results/sd/ADE_train_00004254.jpg\n"
     ]
    },
    {
     "name": "stderr",
     "output_type": "stream",
     "text": [
      "100%|██████████| 25/25 [00:00<00:00, 145.51it/s]\n",
      "100%|██████████| 100/100 [00:05<00:00, 17.58it/s]\n"
     ]
    },
    {
     "name": "stdout",
     "output_type": "stream",
     "text": [
      "Ergebnis für Bild ADE_train_00022764.jpg gespeichert: results/sd/ADE_train_00022764.jpg\n"
     ]
    },
    {
     "name": "stderr",
     "output_type": "stream",
     "text": [
      "100%|██████████| 25/25 [00:00<00:00, 145.97it/s]\n",
      "100%|██████████| 100/100 [00:05<00:00, 17.23it/s]\n"
     ]
    },
    {
     "name": "stdout",
     "output_type": "stream",
     "text": [
      "Ergebnis für Bild ADE_train_00005329.jpg gespeichert: results/sd/ADE_train_00005329.jpg\n"
     ]
    },
    {
     "name": "stderr",
     "output_type": "stream",
     "text": [
      "100%|██████████| 25/25 [00:00<00:00, 145.39it/s]\n",
      "100%|██████████| 100/100 [00:05<00:00, 17.25it/s]\n"
     ]
    },
    {
     "name": "stdout",
     "output_type": "stream",
     "text": [
      "Ergebnis für Bild ADE_train_00022702.jpg gespeichert: results/sd/ADE_train_00022702.jpg\n"
     ]
    },
    {
     "name": "stderr",
     "output_type": "stream",
     "text": [
      "100%|██████████| 25/25 [00:00<00:00, 145.57it/s]\n",
      "100%|██████████| 100/100 [00:05<00:00, 17.25it/s]\n"
     ]
    },
    {
     "name": "stdout",
     "output_type": "stream",
     "text": [
      "Ergebnis für Bild ADE_train_00002055.jpg gespeichert: results/sd/ADE_train_00002055.jpg\n"
     ]
    },
    {
     "name": "stderr",
     "output_type": "stream",
     "text": [
      "100%|██████████| 25/25 [00:00<00:00, 145.52it/s]\n",
      "100%|██████████| 100/100 [00:05<00:00, 17.44it/s]\n"
     ]
    },
    {
     "name": "stdout",
     "output_type": "stream",
     "text": [
      "Ergebnis für Bild ADE_train_00019296.jpg gespeichert: results/sd/ADE_train_00019296.jpg\n"
     ]
    },
    {
     "name": "stderr",
     "output_type": "stream",
     "text": [
      "100%|██████████| 25/25 [00:00<00:00, 145.17it/s]\n",
      "100%|██████████| 100/100 [00:05<00:00, 17.51it/s]\n"
     ]
    },
    {
     "name": "stdout",
     "output_type": "stream",
     "text": [
      "Ergebnis für Bild ADE_train_00001696.jpg gespeichert: results/sd/ADE_train_00001696.jpg\n"
     ]
    },
    {
     "name": "stderr",
     "output_type": "stream",
     "text": [
      "100%|██████████| 25/25 [00:00<00:00, 146.02it/s]\n",
      "100%|██████████| 100/100 [00:05<00:00, 17.93it/s]\n"
     ]
    },
    {
     "name": "stdout",
     "output_type": "stream",
     "text": [
      "Ergebnis für Bild ADE_train_00020236.jpg gespeichert: results/sd/ADE_train_00020236.jpg\n"
     ]
    },
    {
     "name": "stderr",
     "output_type": "stream",
     "text": [
      "100%|██████████| 25/25 [00:00<00:00, 145.33it/s]\n",
      "100%|██████████| 100/100 [00:05<00:00, 17.30it/s]\n"
     ]
    },
    {
     "name": "stdout",
     "output_type": "stream",
     "text": [
      "Ergebnis für Bild ADE_train_00002149.jpg gespeichert: results/sd/ADE_train_00002149.jpg\n"
     ]
    },
    {
     "name": "stderr",
     "output_type": "stream",
     "text": [
      "100%|██████████| 25/25 [00:00<00:00, 145.64it/s]\n",
      "100%|██████████| 100/100 [00:05<00:00, 17.28it/s]\n"
     ]
    },
    {
     "name": "stdout",
     "output_type": "stream",
     "text": [
      "Ergebnis für Bild ADE_train_00000673.jpg gespeichert: results/sd/ADE_train_00000673.jpg\n"
     ]
    },
    {
     "name": "stderr",
     "output_type": "stream",
     "text": [
      "100%|██████████| 25/25 [00:00<00:00, 145.43it/s]\n",
      "100%|██████████| 100/100 [00:05<00:00, 17.31it/s]\n"
     ]
    },
    {
     "name": "stdout",
     "output_type": "stream",
     "text": [
      "Ergebnis für Bild ADE_train_00022241.jpg gespeichert: results/sd/ADE_train_00022241.jpg\n"
     ]
    },
    {
     "name": "stderr",
     "output_type": "stream",
     "text": [
      "100%|██████████| 25/25 [00:00<00:00, 145.93it/s]\n",
      "100%|██████████| 100/100 [00:05<00:00, 16.84it/s]\n"
     ]
    },
    {
     "name": "stdout",
     "output_type": "stream",
     "text": [
      "Ergebnis für Bild ADE_train_00002277.jpg gespeichert: results/sd/ADE_train_00002277.jpg\n"
     ]
    },
    {
     "name": "stderr",
     "output_type": "stream",
     "text": [
      "100%|██████████| 25/25 [00:00<00:00, 145.37it/s]\n",
      "100%|██████████| 100/100 [00:05<00:00, 17.21it/s]\n"
     ]
    },
    {
     "name": "stdout",
     "output_type": "stream",
     "text": [
      "Ergebnis für Bild ADE_train_00002350.jpg gespeichert: results/sd/ADE_train_00002350.jpg\n"
     ]
    },
    {
     "name": "stderr",
     "output_type": "stream",
     "text": [
      "100%|██████████| 25/25 [00:00<00:00, 144.96it/s]\n",
      "100%|██████████| 100/100 [00:05<00:00, 17.25it/s]\n"
     ]
    },
    {
     "name": "stdout",
     "output_type": "stream",
     "text": [
      "Ergebnis für Bild ADE_train_00002335.jpg gespeichert: results/sd/ADE_train_00002335.jpg\n"
     ]
    },
    {
     "name": "stderr",
     "output_type": "stream",
     "text": [
      "100%|██████████| 25/25 [00:00<00:00, 144.73it/s]\n",
      "100%|██████████| 100/100 [00:05<00:00, 17.38it/s]\n"
     ]
    },
    {
     "name": "stdout",
     "output_type": "stream",
     "text": [
      "Ergebnis für Bild ADE_frame_00000105.jpg gespeichert: results/sd/ADE_frame_00000105.jpg\n"
     ]
    },
    {
     "name": "stderr",
     "output_type": "stream",
     "text": [
      "100%|██████████| 25/25 [00:00<00:00, 145.48it/s]\n",
      "100%|██████████| 100/100 [00:05<00:00, 17.23it/s]\n"
     ]
    },
    {
     "name": "stdout",
     "output_type": "stream",
     "text": [
      "Ergebnis für Bild ADE_train_00023136.jpg gespeichert: results/sd/ADE_train_00023136.jpg\n"
     ]
    },
    {
     "name": "stderr",
     "output_type": "stream",
     "text": [
      "100%|██████████| 25/25 [00:00<00:00, 145.91it/s]\n",
      "100%|██████████| 100/100 [00:05<00:00, 17.25it/s]\n"
     ]
    },
    {
     "name": "stdout",
     "output_type": "stream",
     "text": [
      "Ergebnis für Bild ADE_train_00004253.jpg gespeichert: results/sd/ADE_train_00004253.jpg\n"
     ]
    },
    {
     "name": "stderr",
     "output_type": "stream",
     "text": [
      "100%|██████████| 25/25 [00:00<00:00, 146.21it/s]\n",
      "100%|██████████| 100/100 [00:05<00:00, 17.29it/s]\n"
     ]
    },
    {
     "name": "stdout",
     "output_type": "stream",
     "text": [
      "Ergebnis für Bild ADE_train_00019142.jpg gespeichert: results/sd/ADE_train_00019142.jpg\n"
     ]
    },
    {
     "name": "stderr",
     "output_type": "stream",
     "text": [
      "100%|██████████| 25/25 [00:00<00:00, 145.26it/s]\n",
      "100%|██████████| 100/100 [00:05<00:00, 17.43it/s]\n"
     ]
    },
    {
     "name": "stdout",
     "output_type": "stream",
     "text": [
      "Ergebnis für Bild ADE_train_00024074.jpg gespeichert: results/sd/ADE_train_00024074.jpg\n"
     ]
    },
    {
     "name": "stderr",
     "output_type": "stream",
     "text": [
      "100%|██████████| 25/25 [00:00<00:00, 146.90it/s]\n",
      "100%|██████████| 100/100 [00:05<00:00, 17.20it/s]\n"
     ]
    },
    {
     "name": "stdout",
     "output_type": "stream",
     "text": [
      "Ergebnis für Bild ADE_train_00004385.jpg gespeichert: results/sd/ADE_train_00004385.jpg\n"
     ]
    },
    {
     "name": "stderr",
     "output_type": "stream",
     "text": [
      "100%|██████████| 25/25 [00:00<00:00, 145.71it/s]\n",
      "100%|██████████| 100/100 [00:05<00:00, 17.24it/s]\n"
     ]
    },
    {
     "name": "stdout",
     "output_type": "stream",
     "text": [
      "Ergebnis für Bild ADE_frame_00000205.jpg gespeichert: results/sd/ADE_frame_00000205.jpg\n"
     ]
    },
    {
     "name": "stderr",
     "output_type": "stream",
     "text": [
      "100%|██████████| 25/25 [00:00<00:00, 145.99it/s]\n",
      "100%|██████████| 100/100 [00:05<00:00, 17.30it/s]\n"
     ]
    },
    {
     "name": "stdout",
     "output_type": "stream",
     "text": [
      "Ergebnis für Bild ADE_train_00023739.jpg gespeichert: results/sd/ADE_train_00023739.jpg\n"
     ]
    },
    {
     "name": "stderr",
     "output_type": "stream",
     "text": [
      "100%|██████████| 25/25 [00:00<00:00, 145.06it/s]\n",
      "100%|██████████| 100/100 [00:05<00:00, 17.38it/s]\n"
     ]
    },
    {
     "name": "stdout",
     "output_type": "stream",
     "text": [
      "Ergebnis für Bild ADE_train_00001494.jpg gespeichert: results/sd/ADE_train_00001494.jpg\n"
     ]
    },
    {
     "name": "stderr",
     "output_type": "stream",
     "text": [
      "100%|██████████| 25/25 [00:00<00:00, 145.25it/s]\n",
      "100%|██████████| 100/100 [00:05<00:00, 17.56it/s]\n"
     ]
    },
    {
     "name": "stdout",
     "output_type": "stream",
     "text": [
      "Ergebnis für Bild ADE_train_00001710.jpg gespeichert: results/sd/ADE_train_00001710.jpg\n"
     ]
    },
    {
     "name": "stderr",
     "output_type": "stream",
     "text": [
      "100%|██████████| 25/25 [00:00<00:00, 145.66it/s]\n",
      "100%|██████████| 100/100 [00:05<00:00, 17.58it/s]\n"
     ]
    },
    {
     "name": "stdout",
     "output_type": "stream",
     "text": [
      "Ergebnis für Bild ADE_train_00006619.jpg gespeichert: results/sd/ADE_train_00006619.jpg\n"
     ]
    },
    {
     "name": "stderr",
     "output_type": "stream",
     "text": [
      "100%|██████████| 25/25 [00:00<00:00, 145.24it/s]\n",
      "100%|██████████| 100/100 [00:05<00:00, 17.38it/s]\n"
     ]
    },
    {
     "name": "stdout",
     "output_type": "stream",
     "text": [
      "Ergebnis für Bild ADE_train_00001642.jpg gespeichert: results/sd/ADE_train_00001642.jpg\n"
     ]
    },
    {
     "name": "stderr",
     "output_type": "stream",
     "text": [
      "100%|██████████| 25/25 [00:00<00:00, 146.12it/s]\n",
      "100%|██████████| 100/100 [00:05<00:00, 17.49it/s]\n"
     ]
    },
    {
     "name": "stdout",
     "output_type": "stream",
     "text": [
      "Ergebnis für Bild ADE_train_00019292.jpg gespeichert: results/sd/ADE_train_00019292.jpg\n"
     ]
    },
    {
     "name": "stderr",
     "output_type": "stream",
     "text": [
      "100%|██████████| 25/25 [00:00<00:00, 145.96it/s]\n",
      "100%|██████████| 100/100 [00:05<00:00, 17.87it/s]\n"
     ]
    },
    {
     "name": "stdout",
     "output_type": "stream",
     "text": [
      "Ergebnis für Bild ADE_frame_00000264.jpg gespeichert: results/sd/ADE_frame_00000264.jpg\n"
     ]
    },
    {
     "name": "stderr",
     "output_type": "stream",
     "text": [
      "100%|██████████| 25/25 [00:00<00:00, 144.22it/s]\n",
      "100%|██████████| 100/100 [00:05<00:00, 17.93it/s]\n"
     ]
    },
    {
     "name": "stdout",
     "output_type": "stream",
     "text": [
      "Ergebnis für Bild ADE_train_00002268.jpg gespeichert: results/sd/ADE_train_00002268.jpg\n"
     ]
    },
    {
     "name": "stderr",
     "output_type": "stream",
     "text": [
      "100%|██████████| 25/25 [00:00<00:00, 144.59it/s]\n",
      "100%|██████████| 100/100 [00:05<00:00, 17.43it/s]\n"
     ]
    },
    {
     "name": "stdout",
     "output_type": "stream",
     "text": [
      "Ergebnis für Bild ADE_train_00019285.jpg gespeichert: results/sd/ADE_train_00019285.jpg\n"
     ]
    },
    {
     "name": "stderr",
     "output_type": "stream",
     "text": [
      "100%|██████████| 25/25 [00:00<00:00, 145.22it/s]\n",
      "100%|██████████| 100/100 [00:05<00:00, 17.38it/s]\n"
     ]
    },
    {
     "name": "stdout",
     "output_type": "stream",
     "text": [
      "Ergebnis für Bild ADE_train_00005338.jpg gespeichert: results/sd/ADE_train_00005338.jpg\n"
     ]
    },
    {
     "name": "stderr",
     "output_type": "stream",
     "text": [
      "100%|██████████| 25/25 [00:00<00:00, 145.97it/s]\n",
      "100%|██████████| 100/100 [00:05<00:00, 17.35it/s]\n"
     ]
    },
    {
     "name": "stdout",
     "output_type": "stream",
     "text": [
      "Ergebnis für Bild ADE_train_00020474.jpg gespeichert: results/sd/ADE_train_00020474.jpg\n"
     ]
    },
    {
     "name": "stderr",
     "output_type": "stream",
     "text": [
      "100%|██████████| 25/25 [00:00<00:00, 145.65it/s]\n",
      "100%|██████████| 100/100 [00:05<00:00, 17.32it/s]\n"
     ]
    },
    {
     "name": "stdout",
     "output_type": "stream",
     "text": [
      "Ergebnis für Bild ADE_train_00023925.jpg gespeichert: results/sd/ADE_train_00023925.jpg\n"
     ]
    },
    {
     "name": "stderr",
     "output_type": "stream",
     "text": [
      "100%|██████████| 25/25 [00:00<00:00, 145.57it/s]\n",
      "100%|██████████| 100/100 [00:05<00:00, 17.26it/s]\n"
     ]
    },
    {
     "name": "stdout",
     "output_type": "stream",
     "text": [
      "Ergebnis für Bild ADE_train_00022688.jpg gespeichert: results/sd/ADE_train_00022688.jpg\n"
     ]
    },
    {
     "name": "stderr",
     "output_type": "stream",
     "text": [
      "100%|██████████| 25/25 [00:00<00:00, 145.90it/s]\n",
      "100%|██████████| 100/100 [00:05<00:00, 17.43it/s]\n"
     ]
    },
    {
     "name": "stdout",
     "output_type": "stream",
     "text": [
      "Ergebnis für Bild ADE_train_00001591.jpg gespeichert: results/sd/ADE_train_00001591.jpg\n"
     ]
    },
    {
     "name": "stderr",
     "output_type": "stream",
     "text": [
      "100%|██████████| 25/25 [00:00<00:00, 146.08it/s]\n",
      "100%|██████████| 100/100 [00:05<00:00, 17.39it/s]\n"
     ]
    },
    {
     "name": "stdout",
     "output_type": "stream",
     "text": [
      "Ergebnis für Bild ADE_train_00001733.jpg gespeichert: results/sd/ADE_train_00001733.jpg\n"
     ]
    },
    {
     "name": "stderr",
     "output_type": "stream",
     "text": [
      "100%|██████████| 25/25 [00:00<00:00, 145.60it/s]\n",
      "100%|██████████| 100/100 [00:05<00:00, 17.46it/s]\n"
     ]
    },
    {
     "name": "stdout",
     "output_type": "stream",
     "text": [
      "Ergebnis für Bild ADE_train_00019101.jpg gespeichert: results/sd/ADE_train_00019101.jpg\n"
     ]
    },
    {
     "name": "stderr",
     "output_type": "stream",
     "text": [
      "100%|██████████| 25/25 [00:00<00:00, 145.33it/s]\n",
      "100%|██████████| 100/100 [00:05<00:00, 17.62it/s]\n"
     ]
    },
    {
     "name": "stdout",
     "output_type": "stream",
     "text": [
      "Ergebnis für Bild ADE_train_00008817.jpg gespeichert: results/sd/ADE_train_00008817.jpg\n"
     ]
    },
    {
     "name": "stderr",
     "output_type": "stream",
     "text": [
      "100%|██████████| 25/25 [00:00<00:00, 145.42it/s]\n",
      "100%|██████████| 100/100 [00:05<00:00, 17.47it/s]\n"
     ]
    },
    {
     "name": "stdout",
     "output_type": "stream",
     "text": [
      "Ergebnis für Bild ADE_train_00020085.jpg gespeichert: results/sd/ADE_train_00020085.jpg\n"
     ]
    },
    {
     "name": "stderr",
     "output_type": "stream",
     "text": [
      "100%|██████████| 25/25 [00:00<00:00, 145.23it/s]\n",
      "100%|██████████| 100/100 [00:05<00:00, 17.40it/s]\n"
     ]
    },
    {
     "name": "stdout",
     "output_type": "stream",
     "text": [
      "Ergebnis für Bild ADE_train_00003166.jpg gespeichert: results/sd/ADE_train_00003166.jpg\n"
     ]
    },
    {
     "name": "stderr",
     "output_type": "stream",
     "text": [
      "100%|██████████| 25/25 [00:00<00:00, 145.78it/s]\n",
      "100%|██████████| 100/100 [00:05<00:00, 17.23it/s]\n"
     ]
    },
    {
     "name": "stdout",
     "output_type": "stream",
     "text": [
      "Ergebnis für Bild ADE_train_00007504.jpg gespeichert: results/sd/ADE_train_00007504.jpg\n"
     ]
    },
    {
     "name": "stderr",
     "output_type": "stream",
     "text": [
      "100%|██████████| 25/25 [00:00<00:00, 145.15it/s]\n",
      "100%|██████████| 100/100 [00:05<00:00, 17.34it/s]\n"
     ]
    },
    {
     "name": "stdout",
     "output_type": "stream",
     "text": [
      "Ergebnis für Bild ADE_train_00005554.jpg gespeichert: results/sd/ADE_train_00005554.jpg\n"
     ]
    },
    {
     "name": "stderr",
     "output_type": "stream",
     "text": [
      "100%|██████████| 25/25 [00:00<00:00, 146.26it/s]\n",
      "100%|██████████| 100/100 [00:05<00:00, 17.30it/s]\n"
     ]
    },
    {
     "name": "stdout",
     "output_type": "stream",
     "text": [
      "Ergebnis für Bild ADE_train_00011665.jpg gespeichert: results/sd/ADE_train_00011665.jpg\n"
     ]
    },
    {
     "name": "stderr",
     "output_type": "stream",
     "text": [
      "100%|██████████| 25/25 [00:00<00:00, 145.80it/s]\n",
      "100%|██████████| 100/100 [00:05<00:00, 17.19it/s]\n"
     ]
    },
    {
     "name": "stdout",
     "output_type": "stream",
     "text": [
      "Ergebnis für Bild ADE_train_00022739.jpg gespeichert: results/sd/ADE_train_00022739.jpg\n"
     ]
    },
    {
     "name": "stderr",
     "output_type": "stream",
     "text": [
      "100%|██████████| 25/25 [00:00<00:00, 145.03it/s]\n",
      "100%|██████████| 100/100 [00:05<00:00, 17.40it/s]\n"
     ]
    },
    {
     "name": "stdout",
     "output_type": "stream",
     "text": [
      "Ergebnis für Bild ADE_train_00022648.jpg gespeichert: results/sd/ADE_train_00022648.jpg\n"
     ]
    },
    {
     "name": "stderr",
     "output_type": "stream",
     "text": [
      "100%|██████████| 25/25 [00:00<00:00, 144.89it/s]\n",
      "100%|██████████| 100/100 [00:05<00:00, 17.29it/s]\n"
     ]
    },
    {
     "name": "stdout",
     "output_type": "stream",
     "text": [
      "Ergebnis für Bild ADE_train_00001692.jpg gespeichert: results/sd/ADE_train_00001692.jpg\n"
     ]
    },
    {
     "name": "stderr",
     "output_type": "stream",
     "text": [
      "100%|██████████| 25/25 [00:00<00:00, 146.22it/s]\n",
      "100%|██████████| 100/100 [00:05<00:00, 17.26it/s]\n"
     ]
    },
    {
     "name": "stdout",
     "output_type": "stream",
     "text": [
      "Ergebnis für Bild ADE_train_00002147.jpg gespeichert: results/sd/ADE_train_00002147.jpg\n"
     ]
    },
    {
     "name": "stderr",
     "output_type": "stream",
     "text": [
      "100%|██████████| 25/25 [00:00<00:00, 145.45it/s]\n",
      "100%|██████████| 100/100 [00:05<00:00, 17.29it/s]\n"
     ]
    },
    {
     "name": "stdout",
     "output_type": "stream",
     "text": [
      "Ergebnis für Bild ADE_train_00010951.jpg gespeichert: results/sd/ADE_train_00010951.jpg\n"
     ]
    },
    {
     "name": "stderr",
     "output_type": "stream",
     "text": [
      "100%|██████████| 25/25 [00:00<00:00, 145.11it/s]\n",
      "100%|██████████| 100/100 [00:05<00:00, 17.26it/s]\n"
     ]
    },
    {
     "name": "stdout",
     "output_type": "stream",
     "text": [
      "Ergebnis für Bild ADE_train_00001752.jpg gespeichert: results/sd/ADE_train_00001752.jpg\n"
     ]
    },
    {
     "name": "stderr",
     "output_type": "stream",
     "text": [
      "100%|██████████| 25/25 [00:00<00:00, 145.48it/s]\n",
      "100%|██████████| 100/100 [00:05<00:00, 17.85it/s]\n"
     ]
    },
    {
     "name": "stdout",
     "output_type": "stream",
     "text": [
      "Ergebnis für Bild ADE_train_00001742.jpg gespeichert: results/sd/ADE_train_00001742.jpg\n"
     ]
    },
    {
     "name": "stderr",
     "output_type": "stream",
     "text": [
      "100%|██████████| 25/25 [00:00<00:00, 145.50it/s]\n",
      "100%|██████████| 100/100 [00:05<00:00, 17.39it/s]\n"
     ]
    },
    {
     "name": "stdout",
     "output_type": "stream",
     "text": [
      "Ergebnis für Bild ADE_train_00016343.jpg gespeichert: results/sd/ADE_train_00016343.jpg\n"
     ]
    },
    {
     "name": "stderr",
     "output_type": "stream",
     "text": [
      "100%|██████████| 25/25 [00:00<00:00, 145.94it/s]\n",
      "100%|██████████| 100/100 [00:05<00:00, 17.39it/s]\n"
     ]
    },
    {
     "name": "stdout",
     "output_type": "stream",
     "text": [
      "Ergebnis für Bild ADE_train_00022721.jpg gespeichert: results/sd/ADE_train_00022721.jpg\n"
     ]
    },
    {
     "name": "stderr",
     "output_type": "stream",
     "text": [
      "100%|██████████| 25/25 [00:00<00:00, 145.30it/s]\n",
      "100%|██████████| 100/100 [00:05<00:00, 17.40it/s]\n"
     ]
    },
    {
     "name": "stdout",
     "output_type": "stream",
     "text": [
      "Ergebnis für Bild ADE_train_00007692.jpg gespeichert: results/sd/ADE_train_00007692.jpg\n"
     ]
    },
    {
     "name": "stderr",
     "output_type": "stream",
     "text": [
      "100%|██████████| 25/25 [00:00<00:00, 145.38it/s]\n",
      "100%|██████████| 100/100 [00:05<00:00, 17.43it/s]\n"
     ]
    },
    {
     "name": "stdout",
     "output_type": "stream",
     "text": [
      "Ergebnis für Bild ADE_train_00001729.jpg gespeichert: results/sd/ADE_train_00001729.jpg\n"
     ]
    },
    {
     "name": "stderr",
     "output_type": "stream",
     "text": [
      "100%|██████████| 25/25 [00:00<00:00, 144.56it/s]\n",
      "100%|██████████| 100/100 [00:05<00:00, 17.79it/s]\n"
     ]
    },
    {
     "name": "stdout",
     "output_type": "stream",
     "text": [
      "Ergebnis für Bild ADE_train_00008299.jpg gespeichert: results/sd/ADE_train_00008299.jpg\n"
     ]
    },
    {
     "name": "stderr",
     "output_type": "stream",
     "text": [
      "100%|██████████| 25/25 [00:00<00:00, 145.41it/s]\n",
      "100%|██████████| 100/100 [00:05<00:00, 17.26it/s]\n"
     ]
    },
    {
     "name": "stdout",
     "output_type": "stream",
     "text": [
      "Ergebnis für Bild ADE_train_00010763.jpg gespeichert: results/sd/ADE_train_00010763.jpg\n"
     ]
    },
    {
     "name": "stderr",
     "output_type": "stream",
     "text": [
      "100%|██████████| 25/25 [00:00<00:00, 145.55it/s]\n",
      "100%|██████████| 100/100 [00:05<00:00, 17.32it/s]\n"
     ]
    },
    {
     "name": "stdout",
     "output_type": "stream",
     "text": [
      "Ergebnis für Bild ADE_train_00002142.jpg gespeichert: results/sd/ADE_train_00002142.jpg\n"
     ]
    },
    {
     "name": "stderr",
     "output_type": "stream",
     "text": [
      "100%|██████████| 25/25 [00:00<00:00, 145.17it/s]\n",
      "100%|██████████| 100/100 [00:05<00:00, 17.29it/s]\n"
     ]
    },
    {
     "name": "stdout",
     "output_type": "stream",
     "text": [
      "Ergebnis für Bild ADE_train_00019598.jpg gespeichert: results/sd/ADE_train_00019598.jpg\n"
     ]
    },
    {
     "name": "stderr",
     "output_type": "stream",
     "text": [
      "100%|██████████| 25/25 [00:00<00:00, 145.40it/s]\n",
      "100%|██████████| 100/100 [00:05<00:00, 17.33it/s]\n"
     ]
    },
    {
     "name": "stdout",
     "output_type": "stream",
     "text": [
      "Ergebnis für Bild ADE_train_00024254.jpg gespeichert: results/sd/ADE_train_00024254.jpg\n"
     ]
    },
    {
     "name": "stderr",
     "output_type": "stream",
     "text": [
      "100%|██████████| 25/25 [00:00<00:00, 145.57it/s]\n",
      "100%|██████████| 100/100 [00:05<00:00, 17.25it/s]\n"
     ]
    },
    {
     "name": "stdout",
     "output_type": "stream",
     "text": [
      "Ergebnis für Bild ADE_train_00001988.jpg gespeichert: results/sd/ADE_train_00001988.jpg\n"
     ]
    },
    {
     "name": "stderr",
     "output_type": "stream",
     "text": [
      "100%|██████████| 25/25 [00:00<00:00, 145.63it/s]\n",
      "100%|██████████| 100/100 [00:05<00:00, 17.25it/s]\n"
     ]
    },
    {
     "name": "stdout",
     "output_type": "stream",
     "text": [
      "Ergebnis für Bild ADE_train_00025023.jpg gespeichert: results/sd/ADE_train_00025023.jpg\n"
     ]
    },
    {
     "name": "stderr",
     "output_type": "stream",
     "text": [
      "100%|██████████| 25/25 [00:00<00:00, 144.95it/s]\n",
      "100%|██████████| 100/100 [00:05<00:00, 17.41it/s]\n"
     ]
    },
    {
     "name": "stdout",
     "output_type": "stream",
     "text": [
      "Ergebnis für Bild ADE_train_00002384.jpg gespeichert: results/sd/ADE_train_00002384.jpg\n"
     ]
    },
    {
     "name": "stderr",
     "output_type": "stream",
     "text": [
      "100%|██████████| 25/25 [00:00<00:00, 145.63it/s]\n",
      "100%|██████████| 100/100 [00:05<00:00, 17.28it/s]\n"
     ]
    },
    {
     "name": "stdout",
     "output_type": "stream",
     "text": [
      "Ergebnis für Bild ADE_train_00001948.jpg gespeichert: results/sd/ADE_train_00001948.jpg\n"
     ]
    },
    {
     "name": "stderr",
     "output_type": "stream",
     "text": [
      "100%|██████████| 25/25 [00:00<00:00, 145.76it/s]\n",
      "100%|██████████| 100/100 [00:05<00:00, 16.81it/s]\n"
     ]
    },
    {
     "name": "stdout",
     "output_type": "stream",
     "text": [
      "Ergebnis für Bild ADE_train_00019295.jpg gespeichert: results/sd/ADE_train_00019295.jpg\n"
     ]
    },
    {
     "name": "stderr",
     "output_type": "stream",
     "text": [
      "100%|██████████| 25/25 [00:00<00:00, 144.93it/s]\n",
      "100%|██████████| 100/100 [00:05<00:00, 17.14it/s]\n"
     ]
    },
    {
     "name": "stdout",
     "output_type": "stream",
     "text": [
      "Ergebnis für Bild ADE_train_00001684.jpg gespeichert: results/sd/ADE_train_00001684.jpg\n"
     ]
    },
    {
     "name": "stderr",
     "output_type": "stream",
     "text": [
      "100%|██████████| 25/25 [00:00<00:00, 145.23it/s]\n",
      "100%|██████████| 100/100 [00:05<00:00, 17.33it/s]\n"
     ]
    },
    {
     "name": "stdout",
     "output_type": "stream",
     "text": [
      "Ergebnis für Bild ADE_train_00011595.jpg gespeichert: results/sd/ADE_train_00011595.jpg\n"
     ]
    },
    {
     "name": "stderr",
     "output_type": "stream",
     "text": [
      "100%|██████████| 25/25 [00:00<00:00, 145.41it/s]\n",
      "100%|██████████| 100/100 [00:05<00:00, 17.27it/s]\n"
     ]
    },
    {
     "name": "stdout",
     "output_type": "stream",
     "text": [
      "Ergebnis für Bild ADE_train_00001764.jpg gespeichert: results/sd/ADE_train_00001764.jpg\n"
     ]
    },
    {
     "name": "stderr",
     "output_type": "stream",
     "text": [
      "100%|██████████| 25/25 [00:00<00:00, 145.61it/s]\n",
      "100%|██████████| 100/100 [00:05<00:00, 17.25it/s]\n"
     ]
    },
    {
     "name": "stdout",
     "output_type": "stream",
     "text": [
      "Ergebnis für Bild ADE_train_00019205.jpg gespeichert: results/sd/ADE_train_00019205.jpg\n"
     ]
    },
    {
     "name": "stderr",
     "output_type": "stream",
     "text": [
      "100%|██████████| 25/25 [00:00<00:00, 145.48it/s]\n",
      "100%|██████████| 100/100 [00:05<00:00, 17.25it/s]\n"
     ]
    },
    {
     "name": "stdout",
     "output_type": "stream",
     "text": [
      "Ergebnis für Bild ADE_train_00014180.jpg gespeichert: results/sd/ADE_train_00014180.jpg\n"
     ]
    },
    {
     "name": "stderr",
     "output_type": "stream",
     "text": [
      "100%|██████████| 25/25 [00:00<00:00, 145.55it/s]\n",
      "100%|██████████| 100/100 [00:05<00:00, 17.38it/s]\n"
     ]
    },
    {
     "name": "stdout",
     "output_type": "stream",
     "text": [
      "Ergebnis für Bild ADE_train_00001731.jpg gespeichert: results/sd/ADE_train_00001731.jpg\n"
     ]
    },
    {
     "name": "stderr",
     "output_type": "stream",
     "text": [
      "100%|██████████| 25/25 [00:00<00:00, 145.31it/s]\n",
      "100%|██████████| 100/100 [00:05<00:00, 17.27it/s]\n"
     ]
    },
    {
     "name": "stdout",
     "output_type": "stream",
     "text": [
      "Ergebnis für Bild ADE_train_00022772.jpg gespeichert: results/sd/ADE_train_00022772.jpg\n"
     ]
    },
    {
     "name": "stderr",
     "output_type": "stream",
     "text": [
      "100%|██████████| 25/25 [00:00<00:00, 144.65it/s]\n",
      "100%|██████████| 100/100 [00:05<00:00, 16.77it/s]\n"
     ]
    },
    {
     "name": "stdout",
     "output_type": "stream",
     "text": [
      "Ergebnis für Bild ADE_train_00001335.jpg gespeichert: results/sd/ADE_train_00001335.jpg\n"
     ]
    },
    {
     "name": "stderr",
     "output_type": "stream",
     "text": [
      "100%|██████████| 25/25 [00:00<00:00, 145.42it/s]\n",
      "100%|██████████| 100/100 [00:05<00:00, 17.26it/s]\n"
     ]
    },
    {
     "name": "stdout",
     "output_type": "stream",
     "text": [
      "Ergebnis für Bild ADE_train_00001662.jpg gespeichert: results/sd/ADE_train_00001662.jpg\n"
     ]
    },
    {
     "name": "stderr",
     "output_type": "stream",
     "text": [
      "100%|██████████| 25/25 [00:00<00:00, 145.19it/s]\n",
      "100%|██████████| 100/100 [00:06<00:00, 16.65it/s]\n"
     ]
    },
    {
     "name": "stdout",
     "output_type": "stream",
     "text": [
      "Ergebnis für Bild ADE_train_00001671.jpg gespeichert: results/sd/ADE_train_00001671.jpg\n"
     ]
    },
    {
     "name": "stderr",
     "output_type": "stream",
     "text": [
      "100%|██████████| 25/25 [00:00<00:00, 146.10it/s]\n",
      "100%|██████████| 100/100 [00:05<00:00, 17.27it/s]\n"
     ]
    },
    {
     "name": "stdout",
     "output_type": "stream",
     "text": [
      "Ergebnis für Bild ADE_train_00025081.jpg gespeichert: results/sd/ADE_train_00025081.jpg\n"
     ]
    },
    {
     "name": "stderr",
     "output_type": "stream",
     "text": [
      "100%|██████████| 25/25 [00:00<00:00, 146.15it/s]\n",
      "100%|██████████| 100/100 [00:05<00:00, 17.26it/s]\n"
     ]
    },
    {
     "name": "stdout",
     "output_type": "stream",
     "text": [
      "Ergebnis für Bild ADE_train_00001894.jpg gespeichert: results/sd/ADE_train_00001894.jpg\n"
     ]
    },
    {
     "name": "stderr",
     "output_type": "stream",
     "text": [
      "100%|██████████| 25/25 [00:00<00:00, 145.52it/s]\n",
      "100%|██████████| 100/100 [00:05<00:00, 17.34it/s]\n"
     ]
    },
    {
     "name": "stdout",
     "output_type": "stream",
     "text": [
      "Ergebnis für Bild ADE_train_00009997.jpg gespeichert: results/sd/ADE_train_00009997.jpg\n"
     ]
    },
    {
     "name": "stderr",
     "output_type": "stream",
     "text": [
      "100%|██████████| 25/25 [00:00<00:00, 144.78it/s]\n",
      "100%|██████████| 100/100 [00:05<00:00, 17.30it/s]\n"
     ]
    },
    {
     "name": "stdout",
     "output_type": "stream",
     "text": [
      "Ergebnis für Bild ADE_train_00001564.jpg gespeichert: results/sd/ADE_train_00001564.jpg\n"
     ]
    },
    {
     "name": "stderr",
     "output_type": "stream",
     "text": [
      "100%|██████████| 25/25 [00:00<00:00, 145.23it/s]\n",
      "100%|██████████| 100/100 [00:05<00:00, 17.21it/s]\n"
     ]
    },
    {
     "name": "stdout",
     "output_type": "stream",
     "text": [
      "Ergebnis für Bild ADE_train_00015455.jpg gespeichert: results/sd/ADE_train_00015455.jpg\n"
     ]
    },
    {
     "name": "stderr",
     "output_type": "stream",
     "text": [
      "100%|██████████| 25/25 [00:00<00:00, 145.74it/s]\n",
      "100%|██████████| 100/100 [00:05<00:00, 17.28it/s]\n"
     ]
    },
    {
     "name": "stdout",
     "output_type": "stream",
     "text": [
      "Ergebnis für Bild ADE_train_00005556.jpg gespeichert: results/sd/ADE_train_00005556.jpg\n"
     ]
    },
    {
     "name": "stderr",
     "output_type": "stream",
     "text": [
      "100%|██████████| 25/25 [00:00<00:00, 145.91it/s]\n",
      "100%|██████████| 100/100 [00:05<00:00, 17.34it/s]\n"
     ]
    },
    {
     "name": "stdout",
     "output_type": "stream",
     "text": [
      "Ergebnis für Bild ADE_train_00015775.jpg gespeichert: results/sd/ADE_train_00015775.jpg\n"
     ]
    },
    {
     "name": "stderr",
     "output_type": "stream",
     "text": [
      "100%|██████████| 25/25 [00:00<00:00, 145.71it/s]\n",
      "100%|██████████| 100/100 [00:05<00:00, 17.30it/s]\n"
     ]
    },
    {
     "name": "stdout",
     "output_type": "stream",
     "text": [
      "Ergebnis für Bild ADE_train_00020204.jpg gespeichert: results/sd/ADE_train_00020204.jpg\n"
     ]
    },
    {
     "name": "stderr",
     "output_type": "stream",
     "text": [
      "100%|██████████| 25/25 [00:00<00:00, 142.94it/s]\n",
      "100%|██████████| 100/100 [00:05<00:00, 17.24it/s]\n"
     ]
    },
    {
     "name": "stdout",
     "output_type": "stream",
     "text": [
      "Ergebnis für Bild ADE_train_00002370.jpg gespeichert: results/sd/ADE_train_00002370.jpg\n"
     ]
    },
    {
     "name": "stderr",
     "output_type": "stream",
     "text": [
      "100%|██████████| 25/25 [00:00<00:00, 146.53it/s]\n",
      "100%|██████████| 100/100 [00:05<00:00, 17.28it/s]\n"
     ]
    },
    {
     "name": "stdout",
     "output_type": "stream",
     "text": [
      "Ergebnis für Bild ADE_train_00001737.jpg gespeichert: results/sd/ADE_train_00001737.jpg\n"
     ]
    },
    {
     "name": "stderr",
     "output_type": "stream",
     "text": [
      "100%|██████████| 25/25 [00:00<00:00, 144.99it/s]\n",
      "100%|██████████| 100/100 [00:05<00:00, 17.26it/s]\n"
     ]
    },
    {
     "name": "stdout",
     "output_type": "stream",
     "text": [
      "Ergebnis für Bild ADE_train_00001899.jpg gespeichert: results/sd/ADE_train_00001899.jpg\n"
     ]
    },
    {
     "name": "stderr",
     "output_type": "stream",
     "text": [
      "100%|██████████| 25/25 [00:00<00:00, 145.26it/s]\n",
      "100%|██████████| 100/100 [00:05<00:00, 17.39it/s]\n"
     ]
    },
    {
     "name": "stdout",
     "output_type": "stream",
     "text": [
      "Ergebnis für Bild ADE_train_00002334.jpg gespeichert: results/sd/ADE_train_00002334.jpg\n"
     ]
    },
    {
     "name": "stderr",
     "output_type": "stream",
     "text": [
      "100%|██████████| 25/25 [00:00<00:00, 145.84it/s]\n",
      "100%|██████████| 100/100 [00:05<00:00, 17.40it/s]\n"
     ]
    },
    {
     "name": "stdout",
     "output_type": "stream",
     "text": [
      "Ergebnis für Bild ADE_train_00005331.jpg gespeichert: results/sd/ADE_train_00005331.jpg\n"
     ]
    },
    {
     "name": "stderr",
     "output_type": "stream",
     "text": [
      "100%|██████████| 25/25 [00:00<00:00, 145.72it/s]\n",
      "100%|██████████| 100/100 [00:05<00:00, 17.25it/s]\n"
     ]
    },
    {
     "name": "stdout",
     "output_type": "stream",
     "text": [
      "Ergebnis für Bild ADE_train_00004383.jpg gespeichert: results/sd/ADE_train_00004383.jpg\n"
     ]
    },
    {
     "name": "stderr",
     "output_type": "stream",
     "text": [
      "100%|██████████| 25/25 [00:00<00:00, 145.77it/s]\n",
      "100%|██████████| 100/100 [00:05<00:00, 17.56it/s]\n"
     ]
    },
    {
     "name": "stdout",
     "output_type": "stream",
     "text": [
      "Ergebnis für Bild ADE_train_00000666.jpg gespeichert: results/sd/ADE_train_00000666.jpg\n"
     ]
    },
    {
     "name": "stderr",
     "output_type": "stream",
     "text": [
      "100%|██████████| 25/25 [00:00<00:00, 145.20it/s]\n",
      "100%|██████████| 100/100 [00:05<00:00, 17.99it/s]\n"
     ]
    },
    {
     "name": "stdout",
     "output_type": "stream",
     "text": [
      "Ergebnis für Bild ADE_train_00019097.jpg gespeichert: results/sd/ADE_train_00019097.jpg\n"
     ]
    },
    {
     "name": "stderr",
     "output_type": "stream",
     "text": [
      "100%|██████████| 25/25 [00:00<00:00, 144.94it/s]\n",
      "100%|██████████| 100/100 [00:05<00:00, 17.20it/s]\n"
     ]
    },
    {
     "name": "stdout",
     "output_type": "stream",
     "text": [
      "Ergebnis für Bild ADE_train_00025187.jpg gespeichert: results/sd/ADE_train_00025187.jpg\n"
     ]
    },
    {
     "name": "stderr",
     "output_type": "stream",
     "text": [
      "100%|██████████| 25/25 [00:00<00:00, 145.30it/s]\n",
      "100%|██████████| 100/100 [00:05<00:00, 17.95it/s]\n"
     ]
    },
    {
     "name": "stdout",
     "output_type": "stream",
     "text": [
      "Ergebnis für Bild ADE_train_00024553.jpg gespeichert: results/sd/ADE_train_00024553.jpg\n"
     ]
    },
    {
     "name": "stderr",
     "output_type": "stream",
     "text": [
      "100%|██████████| 25/25 [00:00<00:00, 145.03it/s]\n",
      "100%|██████████| 100/100 [00:05<00:00, 17.42it/s]\n"
     ]
    },
    {
     "name": "stdout",
     "output_type": "stream",
     "text": [
      "Ergebnis für Bild ADE_train_00011590.jpg gespeichert: results/sd/ADE_train_00011590.jpg\n"
     ]
    },
    {
     "name": "stderr",
     "output_type": "stream",
     "text": [
      "100%|██████████| 25/25 [00:00<00:00, 145.23it/s]\n",
      "100%|██████████| 100/100 [00:05<00:00, 17.66it/s]\n"
     ]
    },
    {
     "name": "stdout",
     "output_type": "stream",
     "text": [
      "Ergebnis für Bild ADE_train_00001796.jpg gespeichert: results/sd/ADE_train_00001796.jpg\n"
     ]
    },
    {
     "name": "stderr",
     "output_type": "stream",
     "text": [
      "100%|██████████| 25/25 [00:00<00:00, 144.46it/s]\n",
      "100%|██████████| 100/100 [00:05<00:00, 17.43it/s]\n"
     ]
    },
    {
     "name": "stdout",
     "output_type": "stream",
     "text": [
      "Ergebnis für Bild ADE_train_00001799.jpg gespeichert: results/sd/ADE_train_00001799.jpg\n"
     ]
    },
    {
     "name": "stderr",
     "output_type": "stream",
     "text": [
      "100%|██████████| 25/25 [00:00<00:00, 145.55it/s]\n",
      "100%|██████████| 100/100 [00:05<00:00, 17.66it/s]\n"
     ]
    },
    {
     "name": "stdout",
     "output_type": "stream",
     "text": [
      "Ergebnis für Bild ADE_train_00006614.jpg gespeichert: results/sd/ADE_train_00006614.jpg\n"
     ]
    },
    {
     "name": "stderr",
     "output_type": "stream",
     "text": [
      "100%|██████████| 25/25 [00:00<00:00, 145.89it/s]\n",
      "100%|██████████| 100/100 [00:05<00:00, 17.25it/s]\n"
     ]
    },
    {
     "name": "stdout",
     "output_type": "stream",
     "text": [
      "Ergebnis für Bild ADE_train_00002144.jpg gespeichert: results/sd/ADE_train_00002144.jpg\n"
     ]
    },
    {
     "name": "stderr",
     "output_type": "stream",
     "text": [
      "100%|██████████| 25/25 [00:00<00:00, 145.38it/s]\n",
      "100%|██████████| 100/100 [00:05<00:00, 17.94it/s]\n"
     ]
    },
    {
     "name": "stdout",
     "output_type": "stream",
     "text": [
      "Ergebnis für Bild ADE_train_00002292.jpg gespeichert: results/sd/ADE_train_00002292.jpg\n"
     ]
    },
    {
     "name": "stderr",
     "output_type": "stream",
     "text": [
      "100%|██████████| 25/25 [00:00<00:00, 145.76it/s]\n",
      "100%|██████████| 100/100 [00:05<00:00, 17.94it/s]\n"
     ]
    },
    {
     "name": "stdout",
     "output_type": "stream",
     "text": [
      "Ergebnis für Bild ADE_train_00012230.jpg gespeichert: results/sd/ADE_train_00012230.jpg\n"
     ]
    },
    {
     "name": "stderr",
     "output_type": "stream",
     "text": [
      "100%|██████████| 25/25 [00:00<00:00, 145.66it/s]\n",
      "100%|██████████| 100/100 [00:05<00:00, 17.65it/s]\n"
     ]
    },
    {
     "name": "stdout",
     "output_type": "stream",
     "text": [
      "Ergebnis für Bild ADE_train_00001664.jpg gespeichert: results/sd/ADE_train_00001664.jpg\n"
     ]
    },
    {
     "name": "stderr",
     "output_type": "stream",
     "text": [
      "100%|██████████| 25/25 [00:00<00:00, 145.27it/s]\n",
      "100%|██████████| 100/100 [00:05<00:00, 17.97it/s]\n"
     ]
    },
    {
     "name": "stdout",
     "output_type": "stream",
     "text": [
      "Ergebnis für Bild ADE_train_00001607.jpg gespeichert: results/sd/ADE_train_00001607.jpg\n"
     ]
    },
    {
     "name": "stderr",
     "output_type": "stream",
     "text": [
      "100%|██████████| 25/25 [00:00<00:00, 145.63it/s]\n",
      "100%|██████████| 100/100 [00:05<00:00, 17.96it/s]\n"
     ]
    },
    {
     "name": "stdout",
     "output_type": "stream",
     "text": [
      "Ergebnis für Bild ADE_train_00002294.jpg gespeichert: results/sd/ADE_train_00002294.jpg\n"
     ]
    },
    {
     "name": "stderr",
     "output_type": "stream",
     "text": [
      "100%|██████████| 25/25 [00:00<00:00, 145.49it/s]\n",
      "100%|██████████| 100/100 [00:05<00:00, 17.23it/s]\n"
     ]
    },
    {
     "name": "stdout",
     "output_type": "stream",
     "text": [
      "Ergebnis für Bild ADE_train_00002061.jpg gespeichert: results/sd/ADE_train_00002061.jpg\n"
     ]
    },
    {
     "name": "stderr",
     "output_type": "stream",
     "text": [
      "100%|██████████| 25/25 [00:00<00:00, 145.24it/s]\n",
      "100%|██████████| 100/100 [00:05<00:00, 17.24it/s]\n"
     ]
    },
    {
     "name": "stdout",
     "output_type": "stream",
     "text": [
      "Ergebnis für Bild ADE_train_00008802.jpg gespeichert: results/sd/ADE_train_00008802.jpg\n"
     ]
    },
    {
     "name": "stderr",
     "output_type": "stream",
     "text": [
      "100%|██████████| 25/25 [00:00<00:00, 145.47it/s]\n",
      "100%|██████████| 100/100 [00:05<00:00, 17.29it/s]\n"
     ]
    },
    {
     "name": "stdout",
     "output_type": "stream",
     "text": [
      "Ergebnis für Bild ADE_train_00012221.jpg gespeichert: results/sd/ADE_train_00012221.jpg\n"
     ]
    },
    {
     "name": "stderr",
     "output_type": "stream",
     "text": [
      "100%|██████████| 25/25 [00:00<00:00, 145.94it/s]\n",
      "100%|██████████| 100/100 [00:05<00:00, 17.28it/s]\n"
     ]
    },
    {
     "name": "stdout",
     "output_type": "stream",
     "text": [
      "Ergebnis für Bild ADE_train_00009806.jpg gespeichert: results/sd/ADE_train_00009806.jpg\n"
     ]
    },
    {
     "name": "stderr",
     "output_type": "stream",
     "text": [
      "100%|██████████| 25/25 [00:00<00:00, 146.51it/s]\n",
      "100%|██████████| 100/100 [00:05<00:00, 17.22it/s]\n"
     ]
    },
    {
     "name": "stdout",
     "output_type": "stream",
     "text": [
      "Ergebnis für Bild ADE_train_00003170.jpg gespeichert: results/sd/ADE_train_00003170.jpg\n"
     ]
    },
    {
     "name": "stderr",
     "output_type": "stream",
     "text": [
      "100%|██████████| 25/25 [00:00<00:00, 145.78it/s]\n",
      "100%|██████████| 100/100 [00:05<00:00, 17.26it/s]\n"
     ]
    },
    {
     "name": "stdout",
     "output_type": "stream",
     "text": [
      "Ergebnis für Bild ADE_train_00001683.jpg gespeichert: results/sd/ADE_train_00001683.jpg\n"
     ]
    },
    {
     "name": "stderr",
     "output_type": "stream",
     "text": [
      "100%|██████████| 25/25 [00:00<00:00, 145.56it/s]\n",
      "100%|██████████| 100/100 [00:05<00:00, 17.35it/s]\n"
     ]
    },
    {
     "name": "stdout",
     "output_type": "stream",
     "text": [
      "Ergebnis für Bild ADE_train_00015460.jpg gespeichert: results/sd/ADE_train_00015460.jpg\n"
     ]
    },
    {
     "name": "stderr",
     "output_type": "stream",
     "text": [
      "100%|██████████| 25/25 [00:00<00:00, 144.73it/s]\n",
      "100%|██████████| 100/100 [00:05<00:00, 17.23it/s]\n"
     ]
    },
    {
     "name": "stdout",
     "output_type": "stream",
     "text": [
      "Ergebnis für Bild ADE_frame_00000052.jpg gespeichert: results/sd/ADE_frame_00000052.jpg\n"
     ]
    },
    {
     "name": "stderr",
     "output_type": "stream",
     "text": [
      "100%|██████████| 25/25 [00:00<00:00, 145.49it/s]\n",
      "100%|██████████| 100/100 [00:05<00:00, 17.27it/s]\n"
     ]
    },
    {
     "name": "stdout",
     "output_type": "stream",
     "text": [
      "Ergebnis für Bild ADE_frame_00000269.jpg gespeichert: results/sd/ADE_frame_00000269.jpg\n"
     ]
    },
    {
     "name": "stderr",
     "output_type": "stream",
     "text": [
      "100%|██████████| 25/25 [00:00<00:00, 145.62it/s]\n",
      "100%|██████████| 100/100 [00:05<00:00, 17.59it/s]\n"
     ]
    },
    {
     "name": "stdout",
     "output_type": "stream",
     "text": [
      "Ergebnis für Bild ADE_train_00001678.jpg gespeichert: results/sd/ADE_train_00001678.jpg\n"
     ]
    },
    {
     "name": "stderr",
     "output_type": "stream",
     "text": [
      "100%|██████████| 25/25 [00:00<00:00, 145.61it/s]\n",
      "100%|██████████| 100/100 [00:05<00:00, 17.17it/s]\n"
     ]
    },
    {
     "name": "stdout",
     "output_type": "stream",
     "text": [
      "Ergebnis für Bild ADE_train_00024480.jpg gespeichert: results/sd/ADE_train_00024480.jpg\n"
     ]
    },
    {
     "name": "stderr",
     "output_type": "stream",
     "text": [
      "100%|██████████| 25/25 [00:00<00:00, 145.28it/s]\n",
      "100%|██████████| 100/100 [00:05<00:00, 17.22it/s]\n"
     ]
    },
    {
     "name": "stdout",
     "output_type": "stream",
     "text": [
      "Ergebnis für Bild ADE_train_00002406.jpg gespeichert: results/sd/ADE_train_00002406.jpg\n"
     ]
    },
    {
     "name": "stderr",
     "output_type": "stream",
     "text": [
      "100%|██████████| 25/25 [00:00<00:00, 145.18it/s]\n",
      "100%|██████████| 100/100 [00:05<00:00, 17.30it/s]\n"
     ]
    },
    {
     "name": "stdout",
     "output_type": "stream",
     "text": [
      "Ergebnis für Bild ADE_train_00023673.jpg gespeichert: results/sd/ADE_train_00023673.jpg\n"
     ]
    },
    {
     "name": "stderr",
     "output_type": "stream",
     "text": [
      "100%|██████████| 25/25 [00:00<00:00, 145.18it/s]\n",
      "100%|██████████| 100/100 [00:05<00:00, 17.31it/s]\n"
     ]
    },
    {
     "name": "stdout",
     "output_type": "stream",
     "text": [
      "Ergebnis für Bild ADE_train_00001730.jpg gespeichert: results/sd/ADE_train_00001730.jpg\n"
     ]
    },
    {
     "name": "stderr",
     "output_type": "stream",
     "text": [
      "100%|██████████| 25/25 [00:00<00:00, 145.38it/s]\n",
      "100%|██████████| 100/100 [00:05<00:00, 17.40it/s]\n"
     ]
    },
    {
     "name": "stdout",
     "output_type": "stream",
     "text": [
      "Ergebnis für Bild ADE_train_00012288.jpg gespeichert: results/sd/ADE_train_00012288.jpg\n"
     ]
    },
    {
     "name": "stderr",
     "output_type": "stream",
     "text": [
      "100%|██████████| 25/25 [00:00<00:00, 145.35it/s]\n",
      "100%|██████████| 100/100 [00:05<00:00, 17.18it/s]\n"
     ]
    },
    {
     "name": "stdout",
     "output_type": "stream",
     "text": [
      "Ergebnis für Bild ADE_train_00022773.jpg gespeichert: results/sd/ADE_train_00022773.jpg\n"
     ]
    },
    {
     "name": "stderr",
     "output_type": "stream",
     "text": [
      "100%|██████████| 25/25 [00:00<00:00, 145.60it/s]\n",
      "100%|██████████| 100/100 [00:05<00:00, 17.43it/s]\n"
     ]
    },
    {
     "name": "stdout",
     "output_type": "stream",
     "text": [
      "Ergebnis für Bild ADE_train_00001634.jpg gespeichert: results/sd/ADE_train_00001634.jpg\n"
     ]
    },
    {
     "name": "stderr",
     "output_type": "stream",
     "text": [
      "100%|██████████| 25/25 [00:00<00:00, 145.41it/s]\n",
      "100%|██████████| 100/100 [00:05<00:00, 17.27it/s]\n"
     ]
    },
    {
     "name": "stdout",
     "output_type": "stream",
     "text": [
      "Ergebnis für Bild ADE_train_00019501.jpg gespeichert: results/sd/ADE_train_00019501.jpg\n"
     ]
    },
    {
     "name": "stderr",
     "output_type": "stream",
     "text": [
      "100%|██████████| 25/25 [00:00<00:00, 144.47it/s]\n",
      "100%|██████████| 100/100 [00:05<00:00, 17.17it/s]\n"
     ]
    },
    {
     "name": "stdout",
     "output_type": "stream",
     "text": [
      "Ergebnis für Bild ADE_train_00001712.jpg gespeichert: results/sd/ADE_train_00001712.jpg\n"
     ]
    },
    {
     "name": "stderr",
     "output_type": "stream",
     "text": [
      "100%|██████████| 25/25 [00:00<00:00, 145.49it/s]\n",
      "100%|██████████| 100/100 [00:05<00:00, 17.23it/s]\n"
     ]
    },
    {
     "name": "stdout",
     "output_type": "stream",
     "text": [
      "Ergebnis für Bild ADE_train_00004247.jpg gespeichert: results/sd/ADE_train_00004247.jpg\n"
     ]
    },
    {
     "name": "stderr",
     "output_type": "stream",
     "text": [
      "100%|██████████| 25/25 [00:00<00:00, 145.22it/s]\n",
      "100%|██████████| 100/100 [00:05<00:00, 17.21it/s]\n"
     ]
    },
    {
     "name": "stdout",
     "output_type": "stream",
     "text": [
      "Ergebnis für Bild ADE_train_00022679.jpg gespeichert: results/sd/ADE_train_00022679.jpg\n"
     ]
    },
    {
     "name": "stderr",
     "output_type": "stream",
     "text": [
      "100%|██████████| 25/25 [00:00<00:00, 145.26it/s]\n",
      "100%|██████████| 100/100 [00:05<00:00, 17.21it/s]\n"
     ]
    },
    {
     "name": "stdout",
     "output_type": "stream",
     "text": [
      "Ergebnis für Bild ADE_train_00003176.jpg gespeichert: results/sd/ADE_train_00003176.jpg\n"
     ]
    },
    {
     "name": "stderr",
     "output_type": "stream",
     "text": [
      "100%|██████████| 25/25 [00:00<00:00, 145.71it/s]\n",
      "100%|██████████| 100/100 [00:05<00:00, 17.27it/s]\n"
     ]
    },
    {
     "name": "stdout",
     "output_type": "stream",
     "text": [
      "Ergebnis für Bild ADE_train_00008804.jpg gespeichert: results/sd/ADE_train_00008804.jpg\n"
     ]
    },
    {
     "name": "stderr",
     "output_type": "stream",
     "text": [
      "100%|██████████| 25/25 [00:00<00:00, 145.30it/s]\n",
      "100%|██████████| 100/100 [00:05<00:00, 17.26it/s]\n"
     ]
    },
    {
     "name": "stdout",
     "output_type": "stream",
     "text": [
      "Ergebnis für Bild ADE_train_00002349.jpg gespeichert: results/sd/ADE_train_00002349.jpg\n"
     ]
    },
    {
     "name": "stderr",
     "output_type": "stream",
     "text": [
      "100%|██████████| 25/25 [00:00<00:00, 145.35it/s]\n",
      "100%|██████████| 100/100 [00:05<00:00, 17.30it/s]\n"
     ]
    },
    {
     "name": "stdout",
     "output_type": "stream",
     "text": [
      "Ergebnis für Bild ADE_train_00019178.jpg gespeichert: results/sd/ADE_train_00019178.jpg\n"
     ]
    },
    {
     "name": "stderr",
     "output_type": "stream",
     "text": [
      "100%|██████████| 25/25 [00:00<00:00, 145.20it/s]\n",
      "100%|██████████| 100/100 [00:05<00:00, 17.25it/s]\n"
     ]
    },
    {
     "name": "stdout",
     "output_type": "stream",
     "text": [
      "Ergebnis für Bild ADE_train_00001700.jpg gespeichert: results/sd/ADE_train_00001700.jpg\n"
     ]
    },
    {
     "name": "stderr",
     "output_type": "stream",
     "text": [
      "100%|██████████| 25/25 [00:00<00:00, 145.40it/s]\n",
      "100%|██████████| 100/100 [00:05<00:00, 17.27it/s]\n"
     ]
    },
    {
     "name": "stdout",
     "output_type": "stream",
     "text": [
      "Ergebnis für Bild ADE_train_00001650.jpg gespeichert: results/sd/ADE_train_00001650.jpg\n"
     ]
    },
    {
     "name": "stderr",
     "output_type": "stream",
     "text": [
      "100%|██████████| 25/25 [00:00<00:00, 145.84it/s]\n",
      "100%|██████████| 100/100 [00:05<00:00, 17.15it/s]\n"
     ]
    },
    {
     "name": "stdout",
     "output_type": "stream",
     "text": [
      "Ergebnis für Bild ADE_train_00001745.jpg gespeichert: results/sd/ADE_train_00001745.jpg\n"
     ]
    },
    {
     "name": "stderr",
     "output_type": "stream",
     "text": [
      "100%|██████████| 25/25 [00:00<00:00, 145.05it/s]\n",
      "100%|██████████| 100/100 [00:05<00:00, 17.21it/s]\n"
     ]
    },
    {
     "name": "stdout",
     "output_type": "stream",
     "text": [
      "Ergebnis für Bild ADE_train_00022691.jpg gespeichert: results/sd/ADE_train_00022691.jpg\n"
     ]
    },
    {
     "name": "stderr",
     "output_type": "stream",
     "text": [
      "100%|██████████| 25/25 [00:00<00:00, 145.05it/s]\n",
      "100%|██████████| 100/100 [00:05<00:00, 17.26it/s]\n"
     ]
    },
    {
     "name": "stdout",
     "output_type": "stream",
     "text": [
      "Ergebnis für Bild ADE_train_00001722.jpg gespeichert: results/sd/ADE_train_00001722.jpg\n"
     ]
    },
    {
     "name": "stderr",
     "output_type": "stream",
     "text": [
      "100%|██████████| 25/25 [00:00<00:00, 145.29it/s]\n",
      "100%|██████████| 100/100 [00:05<00:00, 17.28it/s]\n"
     ]
    },
    {
     "name": "stdout",
     "output_type": "stream",
     "text": [
      "Ergebnis für Bild ADE_train_00015461.jpg gespeichert: results/sd/ADE_train_00015461.jpg\n"
     ]
    },
    {
     "name": "stderr",
     "output_type": "stream",
     "text": [
      "100%|██████████| 25/25 [00:00<00:00, 145.31it/s]\n",
      "100%|██████████| 100/100 [00:05<00:00, 17.41it/s]\n"
     ]
    },
    {
     "name": "stdout",
     "output_type": "stream",
     "text": [
      "Ergebnis für Bild ADE_train_00022676.jpg gespeichert: results/sd/ADE_train_00022676.jpg\n"
     ]
    },
    {
     "name": "stderr",
     "output_type": "stream",
     "text": [
      "100%|██████████| 25/25 [00:00<00:00, 144.74it/s]\n",
      "100%|██████████| 100/100 [00:05<00:00, 17.25it/s]\n"
     ]
    },
    {
     "name": "stdout",
     "output_type": "stream",
     "text": [
      "Ergebnis für Bild ADE_train_00000661.jpg gespeichert: results/sd/ADE_train_00000661.jpg\n"
     ]
    },
    {
     "name": "stderr",
     "output_type": "stream",
     "text": [
      "100%|██████████| 25/25 [00:00<00:00, 145.38it/s]\n",
      "100%|██████████| 100/100 [00:05<00:00, 17.21it/s]\n"
     ]
    },
    {
     "name": "stdout",
     "output_type": "stream",
     "text": [
      "Ergebnis für Bild ADE_train_00004953.jpg gespeichert: results/sd/ADE_train_00004953.jpg\n"
     ]
    },
    {
     "name": "stderr",
     "output_type": "stream",
     "text": [
      "100%|██████████| 25/25 [00:00<00:00, 145.34it/s]\n",
      "100%|██████████| 100/100 [00:05<00:00, 17.18it/s]\n"
     ]
    },
    {
     "name": "stdout",
     "output_type": "stream",
     "text": [
      "Ergebnis für Bild ADE_train_00002179.jpg gespeichert: results/sd/ADE_train_00002179.jpg\n"
     ]
    },
    {
     "name": "stderr",
     "output_type": "stream",
     "text": [
      "100%|██████████| 25/25 [00:00<00:00, 145.41it/s]\n",
      "100%|██████████| 100/100 [00:05<00:00, 17.28it/s]\n"
     ]
    },
    {
     "name": "stdout",
     "output_type": "stream",
     "text": [
      "Ergebnis für Bild ADE_train_00001707.jpg gespeichert: results/sd/ADE_train_00001707.jpg\n"
     ]
    },
    {
     "name": "stderr",
     "output_type": "stream",
     "text": [
      "100%|██████████| 25/25 [00:00<00:00, 145.73it/s]\n",
      "100%|██████████| 100/100 [00:05<00:00, 17.26it/s]\n"
     ]
    },
    {
     "name": "stdout",
     "output_type": "stream",
     "text": [
      "Ergebnis für Bild ADE_train_00020588.jpg gespeichert: results/sd/ADE_train_00020588.jpg\n"
     ]
    },
    {
     "name": "stderr",
     "output_type": "stream",
     "text": [
      "100%|██████████| 25/25 [00:00<00:00, 145.37it/s]\n",
      "100%|██████████| 100/100 [00:05<00:00, 17.21it/s]\n"
     ]
    },
    {
     "name": "stdout",
     "output_type": "stream",
     "text": [
      "Ergebnis für Bild ADE_train_00001685.jpg gespeichert: results/sd/ADE_train_00001685.jpg\n"
     ]
    },
    {
     "name": "stderr",
     "output_type": "stream",
     "text": [
      "100%|██████████| 25/25 [00:00<00:00, 145.49it/s]\n",
      "100%|██████████| 100/100 [00:05<00:00, 17.83it/s]\n"
     ]
    },
    {
     "name": "stdout",
     "output_type": "stream",
     "text": [
      "Ergebnis für Bild ADE_train_00024078.jpg gespeichert: results/sd/ADE_train_00024078.jpg\n"
     ]
    },
    {
     "name": "stderr",
     "output_type": "stream",
     "text": [
      "100%|██████████| 25/25 [00:00<00:00, 145.19it/s]\n",
      "100%|██████████| 100/100 [00:05<00:00, 17.69it/s]\n"
     ]
    },
    {
     "name": "stdout",
     "output_type": "stream",
     "text": [
      "Ergebnis für Bild ADE_train_00001740.jpg gespeichert: results/sd/ADE_train_00001740.jpg\n"
     ]
    },
    {
     "name": "stderr",
     "output_type": "stream",
     "text": [
      "100%|██████████| 25/25 [00:00<00:00, 145.71it/s]\n",
      "100%|██████████| 100/100 [00:05<00:00, 17.30it/s]\n"
     ]
    },
    {
     "name": "stdout",
     "output_type": "stream",
     "text": [
      "Ergebnis für Bild ADE_train_00001772.jpg gespeichert: results/sd/ADE_train_00001772.jpg\n"
     ]
    },
    {
     "name": "stderr",
     "output_type": "stream",
     "text": [
      "100%|██████████| 25/25 [00:00<00:00, 146.08it/s]\n",
      "100%|██████████| 100/100 [00:05<00:00, 17.73it/s]\n"
     ]
    },
    {
     "name": "stdout",
     "output_type": "stream",
     "text": [
      "Ergebnis für Bild ADE_train_00004949.jpg gespeichert: results/sd/ADE_train_00004949.jpg\n"
     ]
    },
    {
     "name": "stderr",
     "output_type": "stream",
     "text": [
      "100%|██████████| 25/25 [00:00<00:00, 146.16it/s]\n",
      "100%|██████████| 100/100 [00:05<00:00, 17.70it/s]\n"
     ]
    },
    {
     "name": "stdout",
     "output_type": "stream",
     "text": [
      "Ergebnis für Bild ADE_train_00002385.jpg gespeichert: results/sd/ADE_train_00002385.jpg\n"
     ]
    },
    {
     "name": "stderr",
     "output_type": "stream",
     "text": [
      "100%|██████████| 25/25 [00:00<00:00, 145.57it/s]\n",
      "100%|██████████| 100/100 [00:05<00:00, 17.23it/s]\n"
     ]
    },
    {
     "name": "stdout",
     "output_type": "stream",
     "text": [
      "Ergebnis für Bild ADE_train_00002369.jpg gespeichert: results/sd/ADE_train_00002369.jpg\n"
     ]
    },
    {
     "name": "stderr",
     "output_type": "stream",
     "text": [
      "100%|██████████| 25/25 [00:00<00:00, 145.35it/s]\n",
      "100%|██████████| 100/100 [00:05<00:00, 17.19it/s]\n"
     ]
    },
    {
     "name": "stdout",
     "output_type": "stream",
     "text": [
      "Ergebnis für Bild ADE_train_00005396.jpg gespeichert: results/sd/ADE_train_00005396.jpg\n"
     ]
    },
    {
     "name": "stderr",
     "output_type": "stream",
     "text": [
      "100%|██████████| 25/25 [00:00<00:00, 144.75it/s]\n",
      "100%|██████████| 100/100 [00:05<00:00, 17.40it/s]\n"
     ]
    },
    {
     "name": "stdout",
     "output_type": "stream",
     "text": [
      "Ergebnis für Bild ADE_train_00009320.jpg gespeichert: results/sd/ADE_train_00009320.jpg\n"
     ]
    },
    {
     "name": "stderr",
     "output_type": "stream",
     "text": [
      "100%|██████████| 25/25 [00:00<00:00, 145.15it/s]\n",
      "100%|██████████| 100/100 [00:05<00:00, 17.27it/s]\n"
     ]
    },
    {
     "name": "stdout",
     "output_type": "stream",
     "text": [
      "Ergebnis für Bild ADE_train_00002275.jpg gespeichert: results/sd/ADE_train_00002275.jpg\n"
     ]
    },
    {
     "name": "stderr",
     "output_type": "stream",
     "text": [
      "100%|██████████| 25/25 [00:00<00:00, 144.91it/s]\n",
      "100%|██████████| 100/100 [00:05<00:00, 17.32it/s]\n"
     ]
    },
    {
     "name": "stdout",
     "output_type": "stream",
     "text": [
      "Ergebnis für Bild ADE_train_00002290.jpg gespeichert: results/sd/ADE_train_00002290.jpg\n"
     ]
    },
    {
     "name": "stderr",
     "output_type": "stream",
     "text": [
      "100%|██████████| 25/25 [00:00<00:00, 145.62it/s]\n",
      "100%|██████████| 100/100 [00:05<00:00, 17.20it/s]\n"
     ]
    },
    {
     "name": "stdout",
     "output_type": "stream",
     "text": [
      "Ergebnis für Bild ADE_train_00002050.jpg gespeichert: results/sd/ADE_train_00002050.jpg\n"
     ]
    },
    {
     "name": "stderr",
     "output_type": "stream",
     "text": [
      "100%|██████████| 25/25 [00:00<00:00, 145.39it/s]\n",
      "100%|██████████| 100/100 [00:05<00:00, 17.24it/s]\n"
     ]
    },
    {
     "name": "stdout",
     "output_type": "stream",
     "text": [
      "Ergebnis für Bild ADE_train_00002418.jpg gespeichert: results/sd/ADE_train_00002418.jpg\n"
     ]
    },
    {
     "name": "stderr",
     "output_type": "stream",
     "text": [
      "100%|██████████| 25/25 [00:00<00:00, 145.69it/s]\n",
      "100%|██████████| 100/100 [00:05<00:00, 17.19it/s]\n"
     ]
    },
    {
     "name": "stdout",
     "output_type": "stream",
     "text": [
      "Ergebnis für Bild ADE_train_00022745.jpg gespeichert: results/sd/ADE_train_00022745.jpg\n"
     ]
    },
    {
     "name": "stderr",
     "output_type": "stream",
     "text": [
      "100%|██████████| 25/25 [00:00<00:00, 144.78it/s]\n",
      "100%|██████████| 100/100 [00:05<00:00, 17.29it/s]\n"
     ]
    },
    {
     "name": "stdout",
     "output_type": "stream",
     "text": [
      "Ergebnis für Bild ADE_train_00002049.jpg gespeichert: results/sd/ADE_train_00002049.jpg\n"
     ]
    },
    {
     "name": "stderr",
     "output_type": "stream",
     "text": [
      "100%|██████████| 25/25 [00:00<00:00, 145.12it/s]\n",
      "100%|██████████| 100/100 [00:05<00:00, 17.30it/s]\n"
     ]
    },
    {
     "name": "stdout",
     "output_type": "stream",
     "text": [
      "Ergebnis für Bild ADE_train_00002276.jpg gespeichert: results/sd/ADE_train_00002276.jpg\n"
     ]
    },
    {
     "name": "stderr",
     "output_type": "stream",
     "text": [
      "100%|██████████| 25/25 [00:00<00:00, 145.53it/s]\n",
      "100%|██████████| 100/100 [00:05<00:00, 17.13it/s]\n"
     ]
    },
    {
     "name": "stdout",
     "output_type": "stream",
     "text": [
      "Ergebnis für Bild ADE_train_00009810.jpg gespeichert: results/sd/ADE_train_00009810.jpg\n"
     ]
    },
    {
     "name": "stderr",
     "output_type": "stream",
     "text": [
      "100%|██████████| 25/25 [00:00<00:00, 145.13it/s]\n",
      "100%|██████████| 100/100 [00:05<00:00, 17.16it/s]\n"
     ]
    },
    {
     "name": "stdout",
     "output_type": "stream",
     "text": [
      "Ergebnis für Bild ADE_train_00022693.jpg gespeichert: results/sd/ADE_train_00022693.jpg\n"
     ]
    },
    {
     "name": "stderr",
     "output_type": "stream",
     "text": [
      "100%|██████████| 25/25 [00:00<00:00, 145.45it/s]\n",
      "100%|██████████| 100/100 [00:05<00:00, 17.14it/s]\n"
     ]
    },
    {
     "name": "stdout",
     "output_type": "stream",
     "text": [
      "Ergebnis für Bild ADE_train_00004283.jpg gespeichert: results/sd/ADE_train_00004283.jpg\n"
     ]
    },
    {
     "name": "stderr",
     "output_type": "stream",
     "text": [
      "100%|██████████| 25/25 [00:00<00:00, 145.51it/s]\n",
      "100%|██████████| 100/100 [00:05<00:00, 17.14it/s]\n"
     ]
    },
    {
     "name": "stdout",
     "output_type": "stream",
     "text": [
      "Ergebnis für Bild ADE_train_00005417.jpg gespeichert: results/sd/ADE_train_00005417.jpg\n"
     ]
    },
    {
     "name": "stderr",
     "output_type": "stream",
     "text": [
      "100%|██████████| 25/25 [00:00<00:00, 145.07it/s]\n",
      "100%|██████████| 100/100 [00:05<00:00, 17.11it/s]\n"
     ]
    },
    {
     "name": "stdout",
     "output_type": "stream",
     "text": [
      "Ergebnis für Bild ADE_train_00001803.jpg gespeichert: results/sd/ADE_train_00001803.jpg\n"
     ]
    },
    {
     "name": "stderr",
     "output_type": "stream",
     "text": [
      "100%|██████████| 25/25 [00:00<00:00, 145.47it/s]\n",
      "100%|██████████| 100/100 [00:05<00:00, 17.20it/s]\n"
     ]
    },
    {
     "name": "stdout",
     "output_type": "stream",
     "text": [
      "Ergebnis für Bild ADE_train_00022736.jpg gespeichert: results/sd/ADE_train_00022736.jpg\n"
     ]
    },
    {
     "name": "stderr",
     "output_type": "stream",
     "text": [
      "100%|██████████| 25/25 [00:00<00:00, 145.27it/s]\n",
      "100%|██████████| 100/100 [00:05<00:00, 17.31it/s]\n"
     ]
    },
    {
     "name": "stdout",
     "output_type": "stream",
     "text": [
      "Ergebnis für Bild ADE_train_00005539.jpg gespeichert: results/sd/ADE_train_00005539.jpg\n"
     ]
    },
    {
     "name": "stderr",
     "output_type": "stream",
     "text": [
      "100%|██████████| 25/25 [00:00<00:00, 145.78it/s]\n",
      "100%|██████████| 100/100 [00:05<00:00, 17.29it/s]\n"
     ]
    },
    {
     "name": "stdout",
     "output_type": "stream",
     "text": [
      "Ergebnis für Bild ADE_train_00015462.jpg gespeichert: results/sd/ADE_train_00015462.jpg\n"
     ]
    },
    {
     "name": "stderr",
     "output_type": "stream",
     "text": [
      "100%|██████████| 25/25 [00:00<00:00, 145.56it/s]\n",
      "100%|██████████| 100/100 [00:05<00:00, 17.19it/s]\n"
     ]
    },
    {
     "name": "stdout",
     "output_type": "stream",
     "text": [
      "Ergebnis für Bild ADE_train_00019297.jpg gespeichert: results/sd/ADE_train_00019297.jpg\n"
     ]
    },
    {
     "name": "stderr",
     "output_type": "stream",
     "text": [
      "100%|██████████| 25/25 [00:00<00:00, 144.84it/s]\n",
      "100%|██████████| 100/100 [00:05<00:00, 17.27it/s]\n"
     ]
    },
    {
     "name": "stdout",
     "output_type": "stream",
     "text": [
      "Ergebnis für Bild ADE_train_00021164.jpg gespeichert: results/sd/ADE_train_00021164.jpg\n"
     ]
    },
    {
     "name": "stderr",
     "output_type": "stream",
     "text": [
      "100%|██████████| 25/25 [00:00<00:00, 145.38it/s]\n",
      "100%|██████████| 100/100 [00:05<00:00, 17.42it/s]\n"
     ]
    },
    {
     "name": "stdout",
     "output_type": "stream",
     "text": [
      "Ergebnis für Bild ADE_train_00024825.jpg gespeichert: results/sd/ADE_train_00024825.jpg\n"
     ]
    },
    {
     "name": "stderr",
     "output_type": "stream",
     "text": [
      "100%|██████████| 25/25 [00:00<00:00, 145.32it/s]\n",
      "100%|██████████| 100/100 [00:05<00:00, 17.54it/s]\n"
     ]
    },
    {
     "name": "stdout",
     "output_type": "stream",
     "text": [
      "Ergebnis für Bild ADE_train_00002382.jpg gespeichert: results/sd/ADE_train_00002382.jpg\n"
     ]
    },
    {
     "name": "stderr",
     "output_type": "stream",
     "text": [
      "100%|██████████| 25/25 [00:00<00:00, 145.41it/s]\n",
      "100%|██████████| 100/100 [00:05<00:00, 17.36it/s]\n"
     ]
    },
    {
     "name": "stdout",
     "output_type": "stream",
     "text": [
      "Ergebnis für Bild ADE_train_00000658.jpg gespeichert: results/sd/ADE_train_00000658.jpg\n"
     ]
    },
    {
     "name": "stderr",
     "output_type": "stream",
     "text": [
      "100%|██████████| 25/25 [00:00<00:00, 145.56it/s]\n",
      "100%|██████████| 100/100 [00:05<00:00, 17.34it/s]\n"
     ]
    },
    {
     "name": "stdout",
     "output_type": "stream",
     "text": [
      "Ergebnis für Bild ADE_train_00019513.jpg gespeichert: results/sd/ADE_train_00019513.jpg\n"
     ]
    },
    {
     "name": "stderr",
     "output_type": "stream",
     "text": [
      "100%|██████████| 25/25 [00:00<00:00, 145.51it/s]\n",
      "100%|██████████| 100/100 [00:05<00:00, 17.28it/s]\n"
     ]
    },
    {
     "name": "stdout",
     "output_type": "stream",
     "text": [
      "Ergebnis für Bild ADE_train_00019280.jpg gespeichert: results/sd/ADE_train_00019280.jpg\n"
     ]
    },
    {
     "name": "stderr",
     "output_type": "stream",
     "text": [
      "100%|██████████| 25/25 [00:00<00:00, 145.42it/s]\n",
      "100%|██████████| 100/100 [00:05<00:00, 17.29it/s]\n"
     ]
    },
    {
     "name": "stdout",
     "output_type": "stream",
     "text": [
      "Ergebnis für Bild ADE_train_00009686.jpg gespeichert: results/sd/ADE_train_00009686.jpg\n"
     ]
    },
    {
     "name": "stderr",
     "output_type": "stream",
     "text": [
      "100%|██████████| 25/25 [00:00<00:00, 145.04it/s]\n",
      "100%|██████████| 100/100 [00:05<00:00, 17.23it/s]\n"
     ]
    },
    {
     "name": "stdout",
     "output_type": "stream",
     "text": [
      "Ergebnis für Bild ADE_train_00022704.jpg gespeichert: results/sd/ADE_train_00022704.jpg\n"
     ]
    },
    {
     "name": "stderr",
     "output_type": "stream",
     "text": [
      "100%|██████████| 25/25 [00:00<00:00, 145.95it/s]\n",
      "100%|██████████| 100/100 [00:05<00:00, 17.53it/s]\n"
     ]
    },
    {
     "name": "stdout",
     "output_type": "stream",
     "text": [
      "Ergebnis für Bild ADE_train_00012240.jpg gespeichert: results/sd/ADE_train_00012240.jpg\n"
     ]
    },
    {
     "name": "stderr",
     "output_type": "stream",
     "text": [
      "100%|██████████| 25/25 [00:00<00:00, 146.28it/s]\n",
      "100%|██████████| 100/100 [00:05<00:00, 17.33it/s]\n"
     ]
    },
    {
     "name": "stdout",
     "output_type": "stream",
     "text": [
      "Ergebnis für Bild ADE_train_00016348.jpg gespeichert: results/sd/ADE_train_00016348.jpg\n"
     ]
    },
    {
     "name": "stderr",
     "output_type": "stream",
     "text": [
      "100%|██████████| 25/25 [00:00<00:00, 144.91it/s]\n",
      "100%|██████████| 100/100 [00:05<00:00, 17.17it/s]\n"
     ]
    },
    {
     "name": "stdout",
     "output_type": "stream",
     "text": [
      "Ergebnis für Bild ADE_train_00003186.jpg gespeichert: results/sd/ADE_train_00003186.jpg\n"
     ]
    },
    {
     "name": "stderr",
     "output_type": "stream",
     "text": [
      "100%|██████████| 25/25 [00:00<00:00, 144.79it/s]\n",
      "100%|██████████| 100/100 [00:05<00:00, 17.21it/s]\n"
     ]
    },
    {
     "name": "stdout",
     "output_type": "stream",
     "text": [
      "Ergebnis für Bild ADE_train_00022737.jpg gespeichert: results/sd/ADE_train_00022737.jpg\n"
     ]
    },
    {
     "name": "stderr",
     "output_type": "stream",
     "text": [
      "100%|██████████| 25/25 [00:00<00:00, 144.43it/s]\n",
      "100%|██████████| 100/100 [00:05<00:00, 17.15it/s]\n"
     ]
    },
    {
     "name": "stdout",
     "output_type": "stream",
     "text": [
      "Ergebnis für Bild ADE_train_00005289.jpg gespeichert: results/sd/ADE_train_00005289.jpg\n"
     ]
    },
    {
     "name": "stderr",
     "output_type": "stream",
     "text": [
      "100%|██████████| 25/25 [00:00<00:00, 145.46it/s]\n",
      "100%|██████████| 100/100 [00:05<00:00, 17.30it/s]\n"
     ]
    },
    {
     "name": "stdout",
     "output_type": "stream",
     "text": [
      "Ergebnis für Bild ADE_train_00009335.jpg gespeichert: results/sd/ADE_train_00009335.jpg\n"
     ]
    },
    {
     "name": "stderr",
     "output_type": "stream",
     "text": [
      "100%|██████████| 25/25 [00:00<00:00, 146.13it/s]\n",
      "100%|██████████| 100/100 [00:05<00:00, 17.49it/s]\n"
     ]
    },
    {
     "name": "stdout",
     "output_type": "stream",
     "text": [
      "Ergebnis für Bild ADE_train_00001989.jpg gespeichert: results/sd/ADE_train_00001989.jpg\n"
     ]
    },
    {
     "name": "stderr",
     "output_type": "stream",
     "text": [
      "100%|██████████| 25/25 [00:00<00:00, 145.51it/s]\n",
      "100%|██████████| 100/100 [00:05<00:00, 17.25it/s]\n"
     ]
    },
    {
     "name": "stdout",
     "output_type": "stream",
     "text": [
      "Ergebnis für Bild ADE_train_00019299.jpg gespeichert: results/sd/ADE_train_00019299.jpg\n"
     ]
    },
    {
     "name": "stderr",
     "output_type": "stream",
     "text": [
      "100%|██████████| 25/25 [00:00<00:00, 145.16it/s]\n",
      "100%|██████████| 100/100 [00:05<00:00, 17.23it/s]\n"
     ]
    },
    {
     "name": "stdout",
     "output_type": "stream",
     "text": [
      "Ergebnis für Bild ADE_train_00011593.jpg gespeichert: results/sd/ADE_train_00011593.jpg\n"
     ]
    },
    {
     "name": "stderr",
     "output_type": "stream",
     "text": [
      "100%|██████████| 25/25 [00:00<00:00, 143.97it/s]\n",
      "100%|██████████| 100/100 [00:05<00:00, 17.21it/s]\n"
     ]
    },
    {
     "name": "stdout",
     "output_type": "stream",
     "text": [
      "Ergebnis für Bild ADE_train_00022734.jpg gespeichert: results/sd/ADE_train_00022734.jpg\n"
     ]
    },
    {
     "name": "stderr",
     "output_type": "stream",
     "text": [
      "100%|██████████| 25/25 [00:00<00:00, 145.79it/s]\n",
      "100%|██████████| 100/100 [00:05<00:00, 17.31it/s]\n"
     ]
    },
    {
     "name": "stdout",
     "output_type": "stream",
     "text": [
      "Ergebnis für Bild ADE_train_00012186.jpg gespeichert: results/sd/ADE_train_00012186.jpg\n"
     ]
    },
    {
     "name": "stderr",
     "output_type": "stream",
     "text": [
      "100%|██████████| 25/25 [00:00<00:00, 144.30it/s]\n",
      "100%|██████████| 100/100 [00:05<00:00, 17.26it/s]\n"
     ]
    },
    {
     "name": "stdout",
     "output_type": "stream",
     "text": [
      "Ergebnis für Bild ADE_train_00003164.jpg gespeichert: results/sd/ADE_train_00003164.jpg\n"
     ]
    },
    {
     "name": "stderr",
     "output_type": "stream",
     "text": [
      "100%|██████████| 25/25 [00:00<00:00, 145.97it/s]\n",
      "100%|██████████| 100/100 [00:06<00:00, 16.48it/s]\n"
     ]
    },
    {
     "name": "stdout",
     "output_type": "stream",
     "text": [
      "Ergebnis für Bild ADE_frame_00000266.jpg gespeichert: results/sd/ADE_frame_00000266.jpg\n"
     ]
    },
    {
     "name": "stderr",
     "output_type": "stream",
     "text": [
      "100%|██████████| 25/25 [00:00<00:00, 102.64it/s]\n",
      "100%|██████████| 100/100 [00:06<00:00, 16.37it/s]\n"
     ]
    },
    {
     "name": "stdout",
     "output_type": "stream",
     "text": [
      "Ergebnis für Bild ADE_train_00002145.jpg gespeichert: results/sd/ADE_train_00002145.jpg\n"
     ]
    },
    {
     "name": "stderr",
     "output_type": "stream",
     "text": [
      "100%|██████████| 25/25 [00:00<00:00, 98.95it/s]\n",
      "100%|██████████| 100/100 [00:06<00:00, 15.92it/s]\n"
     ]
    },
    {
     "name": "stdout",
     "output_type": "stream",
     "text": [
      "Ergebnis für Bild ADE_train_00001888.jpg gespeichert: results/sd/ADE_train_00001888.jpg\n"
     ]
    },
    {
     "name": "stderr",
     "output_type": "stream",
     "text": [
      "100%|██████████| 25/25 [00:00<00:00, 100.50it/s]\n",
      "100%|██████████| 100/100 [00:06<00:00, 15.77it/s]\n"
     ]
    },
    {
     "name": "stdout",
     "output_type": "stream",
     "text": [
      "Ergebnis für Bild ADE_train_00001887.jpg gespeichert: results/sd/ADE_train_00001887.jpg\n"
     ]
    },
    {
     "name": "stderr",
     "output_type": "stream",
     "text": [
      "100%|██████████| 25/25 [00:00<00:00, 101.18it/s]\n",
      "100%|██████████| 100/100 [00:06<00:00, 15.82it/s]\n"
     ]
    },
    {
     "name": "stdout",
     "output_type": "stream",
     "text": [
      "Ergebnis für Bild ADE_train_00024555.jpg gespeichert: results/sd/ADE_train_00024555.jpg\n"
     ]
    },
    {
     "name": "stderr",
     "output_type": "stream",
     "text": [
      "100%|██████████| 25/25 [00:00<00:00, 72.50it/s]\n",
      "100%|██████████| 100/100 [00:06<00:00, 14.37it/s]\n"
     ]
    },
    {
     "name": "stdout",
     "output_type": "stream",
     "text": [
      "Ergebnis für Bild ADE_train_00002178.jpg gespeichert: results/sd/ADE_train_00002178.jpg\n"
     ]
    },
    {
     "name": "stderr",
     "output_type": "stream",
     "text": [
      "100%|██████████| 25/25 [00:00<00:00, 102.11it/s]\n",
      "100%|██████████| 100/100 [00:06<00:00, 15.92it/s]\n"
     ]
    },
    {
     "name": "stdout",
     "output_type": "stream",
     "text": [
      "Ergebnis für Bild ADE_train_00012217.jpg gespeichert: results/sd/ADE_train_00012217.jpg\n"
     ]
    },
    {
     "name": "stderr",
     "output_type": "stream",
     "text": [
      "100%|██████████| 25/25 [00:00<00:00, 100.61it/s]\n",
      "100%|██████████| 100/100 [00:06<00:00, 15.97it/s]\n"
     ]
    },
    {
     "name": "stdout",
     "output_type": "stream",
     "text": [
      "Ergebnis für Bild ADE_train_00016148.jpg gespeichert: results/sd/ADE_train_00016148.jpg\n"
     ]
    },
    {
     "name": "stderr",
     "output_type": "stream",
     "text": [
      "100%|██████████| 25/25 [00:00<00:00, 99.22it/s]\n",
      "100%|██████████| 100/100 [00:06<00:00, 15.84it/s]\n"
     ]
    },
    {
     "name": "stdout",
     "output_type": "stream",
     "text": [
      "Ergebnis für Bild ADE_train_00012224.jpg gespeichert: results/sd/ADE_train_00012224.jpg\n"
     ]
    },
    {
     "name": "stderr",
     "output_type": "stream",
     "text": [
      "100%|██████████| 25/25 [00:00<00:00, 100.36it/s]\n",
      "100%|██████████| 100/100 [00:06<00:00, 15.94it/s]\n"
     ]
    },
    {
     "name": "stdout",
     "output_type": "stream",
     "text": [
      "Ergebnis für Bild ADE_train_00022986.jpg gespeichert: results/sd/ADE_train_00022986.jpg\n"
     ]
    },
    {
     "name": "stderr",
     "output_type": "stream",
     "text": [
      "100%|██████████| 25/25 [00:00<00:00, 100.09it/s]\n",
      "100%|██████████| 100/100 [00:06<00:00, 15.93it/s]\n"
     ]
    },
    {
     "name": "stdout",
     "output_type": "stream",
     "text": [
      "Ergebnis für Bild ADE_train_00003066.jpg gespeichert: results/sd/ADE_train_00003066.jpg\n"
     ]
    },
    {
     "name": "stderr",
     "output_type": "stream",
     "text": [
      "100%|██████████| 25/25 [00:00<00:00, 102.26it/s]\n",
      "100%|██████████| 100/100 [00:06<00:00, 15.82it/s]\n"
     ]
    },
    {
     "name": "stdout",
     "output_type": "stream",
     "text": [
      "Ergebnis für Bild ADE_train_00001693.jpg gespeichert: results/sd/ADE_train_00001693.jpg\n"
     ]
    },
    {
     "name": "stderr",
     "output_type": "stream",
     "text": [
      "100%|██████████| 25/25 [00:00<00:00, 108.35it/s]\n",
      "100%|██████████| 100/100 [00:06<00:00, 15.95it/s]\n"
     ]
    },
    {
     "name": "stdout",
     "output_type": "stream",
     "text": [
      "Ergebnis für Bild ADE_train_00012226.jpg gespeichert: results/sd/ADE_train_00012226.jpg\n"
     ]
    },
    {
     "name": "stderr",
     "output_type": "stream",
     "text": [
      "100%|██████████| 25/25 [00:00<00:00, 98.21it/s]\n",
      "100%|██████████| 100/100 [00:06<00:00, 14.34it/s]\n"
     ]
    },
    {
     "name": "stdout",
     "output_type": "stream",
     "text": [
      "Ergebnis für Bild ADE_train_00002288.jpg gespeichert: results/sd/ADE_train_00002288.jpg\n"
     ]
    },
    {
     "name": "stderr",
     "output_type": "stream",
     "text": [
      "100%|██████████| 25/25 [00:00<00:00, 80.18it/s]\n",
      "100%|██████████| 100/100 [00:07<00:00, 14.20it/s]\n"
     ]
    },
    {
     "name": "stdout",
     "output_type": "stream",
     "text": [
      "Ergebnis für Bild ADE_train_00005324.jpg gespeichert: results/sd/ADE_train_00005324.jpg\n"
     ]
    },
    {
     "name": "stderr",
     "output_type": "stream",
     "text": [
      "100%|██████████| 25/25 [00:00<00:00, 72.43it/s]\n",
      "100%|██████████| 100/100 [00:06<00:00, 14.31it/s]\n"
     ]
    },
    {
     "name": "stdout",
     "output_type": "stream",
     "text": [
      "Ergebnis für Bild ADE_train_00025119.jpg gespeichert: results/sd/ADE_train_00025119.jpg\n"
     ]
    },
    {
     "name": "stderr",
     "output_type": "stream",
     "text": [
      "100%|██████████| 25/25 [00:00<00:00, 72.55it/s]\n",
      "100%|██████████| 100/100 [00:07<00:00, 14.27it/s]\n"
     ]
    },
    {
     "name": "stdout",
     "output_type": "stream",
     "text": [
      "Ergebnis für Bild ADE_frame_00000066.jpg gespeichert: results/sd/ADE_frame_00000066.jpg\n"
     ]
    },
    {
     "name": "stderr",
     "output_type": "stream",
     "text": [
      "100%|██████████| 25/25 [00:00<00:00, 72.50it/s]\n",
      "100%|██████████| 100/100 [00:07<00:00, 14.28it/s]\n"
     ]
    },
    {
     "name": "stdout",
     "output_type": "stream",
     "text": [
      "Ergebnis für Bild ADE_train_00022763.jpg gespeichert: results/sd/ADE_train_00022763.jpg\n"
     ]
    },
    {
     "name": "stderr",
     "output_type": "stream",
     "text": [
      "100%|██████████| 25/25 [00:00<00:00, 80.45it/s]\n",
      "100%|██████████| 100/100 [00:07<00:00, 14.21it/s]\n"
     ]
    },
    {
     "name": "stdout",
     "output_type": "stream",
     "text": [
      "Ergebnis für Bild ADE_train_00019287.jpg gespeichert: results/sd/ADE_train_00019287.jpg\n"
     ]
    },
    {
     "name": "stderr",
     "output_type": "stream",
     "text": [
      "100%|██████████| 25/25 [00:00<00:00, 72.24it/s]\n",
      "100%|██████████| 100/100 [00:07<00:00, 14.15it/s]\n"
     ]
    },
    {
     "name": "stdout",
     "output_type": "stream",
     "text": [
      "Ergebnis für Bild ADE_train_00001493.jpg gespeichert: results/sd/ADE_train_00001493.jpg\n"
     ]
    },
    {
     "name": "stderr",
     "output_type": "stream",
     "text": [
      "100%|██████████| 25/25 [00:00<00:00, 99.98it/s] \n",
      "100%|██████████| 100/100 [00:06<00:00, 15.71it/s]\n"
     ]
    },
    {
     "name": "stdout",
     "output_type": "stream",
     "text": [
      "Ergebnis für Bild ADE_train_00023731.jpg gespeichert: results/sd/ADE_train_00023731.jpg\n"
     ]
    },
    {
     "name": "stderr",
     "output_type": "stream",
     "text": [
      "100%|██████████| 25/25 [00:00<00:00, 99.07it/s]\n",
      "100%|██████████| 100/100 [00:06<00:00, 15.63it/s]\n"
     ]
    },
    {
     "name": "stdout",
     "output_type": "stream",
     "text": [
      "Ergebnis für Bild ADE_train_00024361.jpg gespeichert: results/sd/ADE_train_00024361.jpg\n"
     ]
    },
    {
     "name": "stderr",
     "output_type": "stream",
     "text": [
      "100%|██████████| 25/25 [00:00<00:00, 102.13it/s]\n",
      "100%|██████████| 100/100 [00:06<00:00, 15.24it/s]\n"
     ]
    },
    {
     "name": "stdout",
     "output_type": "stream",
     "text": [
      "Ergebnis für Bild ADE_train_00004840.jpg gespeichert: results/sd/ADE_train_00004840.jpg\n"
     ]
    },
    {
     "name": "stderr",
     "output_type": "stream",
     "text": [
      "100%|██████████| 25/25 [00:00<00:00, 80.50it/s]\n",
      "100%|██████████| 100/100 [00:07<00:00, 14.27it/s]\n"
     ]
    },
    {
     "name": "stdout",
     "output_type": "stream",
     "text": [
      "Ergebnis für Bild ADE_train_00001652.jpg gespeichert: results/sd/ADE_train_00001652.jpg\n"
     ]
    },
    {
     "name": "stderr",
     "output_type": "stream",
     "text": [
      "100%|██████████| 25/25 [00:00<00:00, 72.11it/s]\n",
      "100%|██████████| 100/100 [00:06<00:00, 14.35it/s]\n"
     ]
    },
    {
     "name": "stdout",
     "output_type": "stream",
     "text": [
      "Ergebnis für Bild ADE_train_00016341.jpg gespeichert: results/sd/ADE_train_00016341.jpg\n"
     ]
    },
    {
     "name": "stderr",
     "output_type": "stream",
     "text": [
      "100%|██████████| 25/25 [00:00<00:00, 72.41it/s]\n",
      "100%|██████████| 100/100 [00:06<00:00, 14.29it/s]\n"
     ]
    },
    {
     "name": "stdout",
     "output_type": "stream",
     "text": [
      "Ergebnis für Bild ADE_train_00022677.jpg gespeichert: results/sd/ADE_train_00022677.jpg\n"
     ]
    },
    {
     "name": "stderr",
     "output_type": "stream",
     "text": [
      "100%|██████████| 25/25 [00:00<00:00, 102.67it/s]\n",
      "100%|██████████| 100/100 [00:06<00:00, 15.83it/s]\n"
     ]
    },
    {
     "name": "stdout",
     "output_type": "stream",
     "text": [
      "Ergebnis für Bild ADE_train_00001724.jpg gespeichert: results/sd/ADE_train_00001724.jpg\n"
     ]
    },
    {
     "name": "stderr",
     "output_type": "stream",
     "text": [
      "100%|██████████| 25/25 [00:00<00:00, 104.11it/s]\n",
      "100%|██████████| 100/100 [00:06<00:00, 15.94it/s]\n"
     ]
    },
    {
     "name": "stdout",
     "output_type": "stream",
     "text": [
      "Ergebnis für Bild ADE_train_00019284.jpg gespeichert: results/sd/ADE_train_00019284.jpg\n"
     ]
    },
    {
     "name": "stderr",
     "output_type": "stream",
     "text": [
      "100%|██████████| 25/25 [00:00<00:00, 100.23it/s]\n",
      "100%|██████████| 100/100 [00:06<00:00, 15.76it/s]\n"
     ]
    },
    {
     "name": "stdout",
     "output_type": "stream",
     "text": [
      "Ergebnis für Bild ADE_train_00003060.jpg gespeichert: results/sd/ADE_train_00003060.jpg\n"
     ]
    },
    {
     "name": "stderr",
     "output_type": "stream",
     "text": [
      "100%|██████████| 25/25 [00:00<00:00, 79.89it/s]\n",
      "100%|██████████| 100/100 [00:07<00:00, 14.15it/s]\n"
     ]
    },
    {
     "name": "stdout",
     "output_type": "stream",
     "text": [
      "Ergebnis für Bild ADE_train_00002373.jpg gespeichert: results/sd/ADE_train_00002373.jpg\n"
     ]
    },
    {
     "name": "stderr",
     "output_type": "stream",
     "text": [
      "100%|██████████| 25/25 [00:00<00:00, 99.96it/s]\n",
      "100%|██████████| 100/100 [00:06<00:00, 15.62it/s]\n"
     ]
    },
    {
     "name": "stdout",
     "output_type": "stream",
     "text": [
      "Ergebnis für Bild ADE_train_00007694.jpg gespeichert: results/sd/ADE_train_00007694.jpg\n"
     ]
    },
    {
     "name": "stderr",
     "output_type": "stream",
     "text": [
      "100%|██████████| 25/25 [00:00<00:00, 96.64it/s]\n",
      "100%|██████████| 100/100 [00:06<00:00, 15.77it/s]\n"
     ]
    },
    {
     "name": "stdout",
     "output_type": "stream",
     "text": [
      "Ergebnis für Bild ADE_train_00007701.jpg gespeichert: results/sd/ADE_train_00007701.jpg\n"
     ]
    },
    {
     "name": "stderr",
     "output_type": "stream",
     "text": [
      "100%|██████████| 25/25 [00:00<00:00, 101.12it/s]\n",
      "100%|██████████| 100/100 [00:06<00:00, 16.22it/s]\n"
     ]
    },
    {
     "name": "stdout",
     "output_type": "stream",
     "text": [
      "Ergebnis für Bild ADE_frame_00000042.jpg gespeichert: results/sd/ADE_frame_00000042.jpg\n"
     ]
    },
    {
     "name": "stderr",
     "output_type": "stream",
     "text": [
      "100%|██████████| 25/25 [00:00<00:00, 87.56it/s]\n",
      "100%|██████████| 100/100 [00:06<00:00, 15.46it/s]\n"
     ]
    },
    {
     "name": "stdout",
     "output_type": "stream",
     "text": [
      "Ergebnis für Bild ADE_train_00024076.jpg gespeichert: results/sd/ADE_train_00024076.jpg\n"
     ]
    },
    {
     "name": "stderr",
     "output_type": "stream",
     "text": [
      "100%|██████████| 25/25 [00:00<00:00, 79.72it/s]\n",
      "100%|██████████| 100/100 [00:06<00:00, 15.73it/s]\n"
     ]
    },
    {
     "name": "stdout",
     "output_type": "stream",
     "text": [
      "Ergebnis für Bild ADE_frame_00000263.jpg gespeichert: results/sd/ADE_frame_00000263.jpg\n"
     ]
    },
    {
     "name": "stderr",
     "output_type": "stream",
     "text": [
      "100%|██████████| 25/25 [00:00<00:00, 97.46it/s]\n",
      "100%|██████████| 100/100 [00:06<00:00, 15.54it/s]\n"
     ]
    },
    {
     "name": "stdout",
     "output_type": "stream",
     "text": [
      "Ergebnis für Bild ADE_train_00012250.jpg gespeichert: results/sd/ADE_train_00012250.jpg\n"
     ]
    },
    {
     "name": "stderr",
     "output_type": "stream",
     "text": [
      "100%|██████████| 25/25 [00:00<00:00, 79.75it/s]\n",
      "100%|██████████| 100/100 [00:06<00:00, 15.93it/s]\n"
     ]
    },
    {
     "name": "stdout",
     "output_type": "stream",
     "text": [
      "Ergebnis für Bild ADE_train_00001492.jpg gespeichert: results/sd/ADE_train_00001492.jpg\n"
     ]
    },
    {
     "name": "stderr",
     "output_type": "stream",
     "text": [
      "100%|██████████| 25/25 [00:00<00:00, 83.30it/s]\n",
      "100%|██████████| 100/100 [00:06<00:00, 16.21it/s]\n"
     ]
    },
    {
     "name": "stdout",
     "output_type": "stream",
     "text": [
      "Ergebnis für Bild ADE_frame_00000299.jpg gespeichert: results/sd/ADE_frame_00000299.jpg\n"
     ]
    },
    {
     "name": "stderr",
     "output_type": "stream",
     "text": [
      "100%|██████████| 25/25 [00:00<00:00, 85.43it/s]\n",
      "100%|██████████| 100/100 [00:06<00:00, 14.94it/s]\n"
     ]
    },
    {
     "name": "stdout",
     "output_type": "stream",
     "text": [
      "Ergebnis für Bild ADE_train_00002347.jpg gespeichert: results/sd/ADE_train_00002347.jpg\n"
     ]
    },
    {
     "name": "stderr",
     "output_type": "stream",
     "text": [
      "100%|██████████| 25/25 [00:00<00:00, 84.76it/s]\n",
      "100%|██████████| 100/100 [00:06<00:00, 15.08it/s]\n"
     ]
    },
    {
     "name": "stdout",
     "output_type": "stream",
     "text": [
      "Ergebnis für Bild ADE_train_00001798.jpg gespeichert: results/sd/ADE_train_00001798.jpg\n"
     ]
    },
    {
     "name": "stderr",
     "output_type": "stream",
     "text": [
      "100%|██████████| 25/25 [00:00<00:00, 101.83it/s]\n",
      "100%|██████████| 100/100 [00:06<00:00, 15.11it/s]\n"
     ]
    },
    {
     "name": "stdout",
     "output_type": "stream",
     "text": [
      "Ergebnis für Bild ADE_train_00005600.jpg gespeichert: results/sd/ADE_train_00005600.jpg\n"
     ]
    },
    {
     "name": "stderr",
     "output_type": "stream",
     "text": [
      "100%|██████████| 25/25 [00:00<00:00, 89.13it/s]\n",
      "100%|██████████| 100/100 [00:06<00:00, 15.69it/s]\n"
     ]
    },
    {
     "name": "stdout",
     "output_type": "stream",
     "text": [
      "Ergebnis für Bild ADE_train_00019018.jpg gespeichert: results/sd/ADE_train_00019018.jpg\n"
     ]
    },
    {
     "name": "stderr",
     "output_type": "stream",
     "text": [
      "100%|██████████| 25/25 [00:00<00:00, 94.91it/s] \n",
      "100%|██████████| 100/100 [00:06<00:00, 16.01it/s]\n"
     ]
    },
    {
     "name": "stdout",
     "output_type": "stream",
     "text": [
      "Ergebnis für Bild ADE_train_00001681.jpg gespeichert: results/sd/ADE_train_00001681.jpg\n"
     ]
    },
    {
     "name": "stderr",
     "output_type": "stream",
     "text": [
      "100%|██████████| 25/25 [00:00<00:00, 106.65it/s]\n",
      "100%|██████████| 100/100 [00:06<00:00, 15.75it/s]\n"
     ]
    },
    {
     "name": "stdout",
     "output_type": "stream",
     "text": [
      "Ergebnis für Bild ADE_train_00001645.jpg gespeichert: results/sd/ADE_train_00001645.jpg\n"
     ]
    },
    {
     "name": "stderr",
     "output_type": "stream",
     "text": [
      "100%|██████████| 25/25 [00:00<00:00, 102.30it/s]\n",
      "100%|██████████| 100/100 [00:06<00:00, 15.80it/s]\n"
     ]
    },
    {
     "name": "stdout",
     "output_type": "stream",
     "text": [
      "Ergebnis für Bild ADE_train_00001807.jpg gespeichert: results/sd/ADE_train_00001807.jpg\n"
     ]
    },
    {
     "name": "stderr",
     "output_type": "stream",
     "text": [
      "100%|██████████| 25/25 [00:00<00:00, 85.92it/s]\n",
      "100%|██████████| 100/100 [00:06<00:00, 15.87it/s]\n"
     ]
    },
    {
     "name": "stdout",
     "output_type": "stream",
     "text": [
      "Ergebnis für Bild ADE_train_00001739.jpg gespeichert: results/sd/ADE_train_00001739.jpg\n"
     ]
    },
    {
     "name": "stderr",
     "output_type": "stream",
     "text": [
      "100%|██████████| 25/25 [00:00<00:00, 97.70it/s] \n",
      "100%|██████████| 100/100 [00:06<00:00, 15.91it/s]\n"
     ]
    },
    {
     "name": "stdout",
     "output_type": "stream",
     "text": [
      "Ergebnis für Bild ADE_train_00001665.jpg gespeichert: results/sd/ADE_train_00001665.jpg\n"
     ]
    },
    {
     "name": "stderr",
     "output_type": "stream",
     "text": [
      "100%|██████████| 25/25 [00:00<00:00, 88.23it/s]\n",
      "100%|██████████| 100/100 [00:06<00:00, 16.16it/s]\n"
     ]
    },
    {
     "name": "stdout",
     "output_type": "stream",
     "text": [
      "Ergebnis für Bild ADE_train_00002060.jpg gespeichert: results/sd/ADE_train_00002060.jpg\n"
     ]
    },
    {
     "name": "stderr",
     "output_type": "stream",
     "text": [
      "100%|██████████| 25/25 [00:00<00:00, 87.47it/s]\n",
      "100%|██████████| 100/100 [00:06<00:00, 15.65it/s]\n"
     ]
    },
    {
     "name": "stdout",
     "output_type": "stream",
     "text": [
      "Ergebnis für Bild ADE_train_00022649.jpg gespeichert: results/sd/ADE_train_00022649.jpg\n"
     ]
    },
    {
     "name": "stderr",
     "output_type": "stream",
     "text": [
      "100%|██████████| 25/25 [00:00<00:00, 87.62it/s]\n",
      "100%|██████████| 100/100 [00:06<00:00, 15.95it/s]\n"
     ]
    },
    {
     "name": "stdout",
     "output_type": "stream",
     "text": [
      "Ergebnis für Bild ADE_train_00001503.jpg gespeichert: results/sd/ADE_train_00001503.jpg\n"
     ]
    },
    {
     "name": "stderr",
     "output_type": "stream",
     "text": [
      "100%|██████████| 25/25 [00:00<00:00, 96.13it/s]\n",
      "100%|██████████| 100/100 [00:06<00:00, 15.87it/s]\n"
     ]
    },
    {
     "name": "stdout",
     "output_type": "stream",
     "text": [
      "Ergebnis für Bild ADE_train_00001408.jpg gespeichert: results/sd/ADE_train_00001408.jpg\n"
     ]
    },
    {
     "name": "stderr",
     "output_type": "stream",
     "text": [
      "100%|██████████| 25/25 [00:00<00:00, 99.61it/s] \n",
      "100%|██████████| 100/100 [00:06<00:00, 15.96it/s]\n"
     ]
    },
    {
     "name": "stdout",
     "output_type": "stream",
     "text": [
      "Ergebnis für Bild ADE_frame_00000154.jpg gespeichert: results/sd/ADE_frame_00000154.jpg\n"
     ]
    },
    {
     "name": "stderr",
     "output_type": "stream",
     "text": [
      "100%|██████████| 25/25 [00:00<00:00, 99.32it/s]\n",
      "100%|██████████| 100/100 [00:06<00:00, 15.61it/s]\n"
     ]
    },
    {
     "name": "stdout",
     "output_type": "stream",
     "text": [
      "Ergebnis für Bild ADE_train_00003062.jpg gespeichert: results/sd/ADE_train_00003062.jpg\n"
     ]
    },
    {
     "name": "stderr",
     "output_type": "stream",
     "text": [
      "100%|██████████| 25/25 [00:00<00:00, 102.29it/s]\n",
      "100%|██████████| 100/100 [00:06<00:00, 15.61it/s]\n"
     ]
    },
    {
     "name": "stdout",
     "output_type": "stream",
     "text": [
      "Ergebnis für Bild ADE_frame_00000265.jpg gespeichert: results/sd/ADE_frame_00000265.jpg\n"
     ]
    },
    {
     "name": "stderr",
     "output_type": "stream",
     "text": [
      "100%|██████████| 25/25 [00:00<00:00, 100.68it/s]\n",
      "100%|██████████| 100/100 [00:06<00:00, 15.91it/s]\n"
     ]
    },
    {
     "name": "stdout",
     "output_type": "stream",
     "text": [
      "Ergebnis für Bild ADE_train_00022767.jpg gespeichert: results/sd/ADE_train_00022767.jpg\n"
     ]
    },
    {
     "name": "stderr",
     "output_type": "stream",
     "text": [
      "100%|██████████| 25/25 [00:00<00:00, 100.29it/s]\n",
      "100%|██████████| 100/100 [00:06<00:00, 15.36it/s]\n"
     ]
    },
    {
     "name": "stdout",
     "output_type": "stream",
     "text": [
      "Ergebnis für Bild ADE_train_00004954.jpg gespeichert: results/sd/ADE_train_00004954.jpg\n"
     ]
    },
    {
     "name": "stderr",
     "output_type": "stream",
     "text": [
      "100%|██████████| 25/25 [00:00<00:00, 99.93it/s] \n",
      "100%|██████████| 100/100 [00:06<00:00, 15.47it/s]\n"
     ]
    },
    {
     "name": "stdout",
     "output_type": "stream",
     "text": [
      "Ergebnis für Bild ADE_train_00002371.jpg gespeichert: results/sd/ADE_train_00002371.jpg\n"
     ]
    },
    {
     "name": "stderr",
     "output_type": "stream",
     "text": [
      "100%|██████████| 25/25 [00:00<00:00, 100.12it/s]\n",
      "100%|██████████| 100/100 [00:06<00:00, 15.41it/s]\n"
     ]
    },
    {
     "name": "stdout",
     "output_type": "stream",
     "text": [
      "Ergebnis für Bild ADE_train_00023732.jpg gespeichert: results/sd/ADE_train_00023732.jpg\n"
     ]
    },
    {
     "name": "stderr",
     "output_type": "stream",
     "text": [
      "100%|██████████| 25/25 [00:00<00:00, 77.62it/s]\n",
      "100%|██████████| 100/100 [00:06<00:00, 15.08it/s]\n"
     ]
    },
    {
     "name": "stdout",
     "output_type": "stream",
     "text": [
      "Ergebnis für Bild ADE_train_00012229.jpg gespeichert: results/sd/ADE_train_00012229.jpg\n"
     ]
    },
    {
     "name": "stderr",
     "output_type": "stream",
     "text": [
      "100%|██████████| 25/25 [00:00<00:00, 83.72it/s]\n",
      "100%|██████████| 100/100 [00:06<00:00, 15.02it/s]\n"
     ]
    },
    {
     "name": "stdout",
     "output_type": "stream",
     "text": [
      "Ergebnis für Bild ADE_train_00002273.jpg gespeichert: results/sd/ADE_train_00002273.jpg\n"
     ]
    },
    {
     "name": "stderr",
     "output_type": "stream",
     "text": [
      "100%|██████████| 25/25 [00:00<00:00, 86.25it/s]\n",
      "100%|██████████| 100/100 [00:06<00:00, 14.92it/s]\n"
     ]
    },
    {
     "name": "stdout",
     "output_type": "stream",
     "text": [
      "Ergebnis für Bild ADE_train_00001812.jpg gespeichert: results/sd/ADE_train_00001812.jpg\n"
     ]
    },
    {
     "name": "stderr",
     "output_type": "stream",
     "text": [
      "100%|██████████| 25/25 [00:00<00:00, 79.28it/s]\n",
      "100%|██████████| 100/100 [00:06<00:00, 15.30it/s]\n"
     ]
    },
    {
     "name": "stdout",
     "output_type": "stream",
     "text": [
      "Ergebnis für Bild ADE_train_00005281.jpg gespeichert: results/sd/ADE_train_00005281.jpg\n"
     ]
    },
    {
     "name": "stderr",
     "output_type": "stream",
     "text": [
      "100%|██████████| 25/25 [00:00<00:00, 79.69it/s]\n",
      "100%|██████████| 100/100 [00:06<00:00, 15.62it/s]\n"
     ]
    },
    {
     "name": "stdout",
     "output_type": "stream",
     "text": [
      "Ergebnis für Bild ADE_train_00013807.jpg gespeichert: results/sd/ADE_train_00013807.jpg\n"
     ]
    },
    {
     "name": "stderr",
     "output_type": "stream",
     "text": [
      "100%|██████████| 25/25 [00:00<00:00, 85.34it/s]\n",
      "100%|██████████| 100/100 [00:06<00:00, 16.08it/s]\n"
     ]
    },
    {
     "name": "stdout",
     "output_type": "stream",
     "text": [
      "Ergebnis für Bild ADE_train_00013809.jpg gespeichert: results/sd/ADE_train_00013809.jpg\n"
     ]
    },
    {
     "name": "stderr",
     "output_type": "stream",
     "text": [
      "100%|██████████| 25/25 [00:00<00:00, 102.48it/s]\n",
      "100%|██████████| 100/100 [00:06<00:00, 16.06it/s]\n"
     ]
    },
    {
     "name": "stdout",
     "output_type": "stream",
     "text": [
      "Ergebnis für Bild ADE_train_00001643.jpg gespeichert: results/sd/ADE_train_00001643.jpg\n"
     ]
    },
    {
     "name": "stderr",
     "output_type": "stream",
     "text": [
      "100%|██████████| 25/25 [00:00<00:00, 102.16it/s]\n",
      "100%|██████████| 100/100 [00:08<00:00, 11.79it/s]\n"
     ]
    },
    {
     "name": "stdout",
     "output_type": "stream",
     "text": [
      "Ergebnis für Bild ADE_train_00001738.jpg gespeichert: results/sd/ADE_train_00001738.jpg\n"
     ]
    },
    {
     "name": "stderr",
     "output_type": "stream",
     "text": [
      "100%|██████████| 25/25 [00:00<00:00, 64.47it/s]\n",
      "100%|██████████| 100/100 [00:06<00:00, 15.70it/s]\n"
     ]
    },
    {
     "name": "stdout",
     "output_type": "stream",
     "text": [
      "Ergebnis für Bild ADE_train_00021746.jpg gespeichert: results/sd/ADE_train_00021746.jpg\n"
     ]
    },
    {
     "name": "stderr",
     "output_type": "stream",
     "text": [
      "100%|██████████| 25/25 [00:00<00:00, 103.35it/s]\n",
      "100%|██████████| 100/100 [00:06<00:00, 15.64it/s]\n"
     ]
    },
    {
     "name": "stdout",
     "output_type": "stream",
     "text": [
      "Ergebnis für Bild ADE_train_00001808.jpg gespeichert: results/sd/ADE_train_00001808.jpg\n"
     ]
    },
    {
     "name": "stderr",
     "output_type": "stream",
     "text": [
      "100%|██████████| 25/25 [00:00<00:00, 99.25it/s]\n",
      "100%|██████████| 100/100 [00:06<00:00, 15.63it/s]\n"
     ]
    },
    {
     "name": "stdout",
     "output_type": "stream",
     "text": [
      "Ergebnis für Bild ADE_train_00024479.jpg gespeichert: results/sd/ADE_train_00024479.jpg\n"
     ]
    },
    {
     "name": "stderr",
     "output_type": "stream",
     "text": [
      "100%|██████████| 25/25 [00:00<00:00, 70.45it/s]\n",
      "100%|██████████| 100/100 [00:07<00:00, 14.06it/s]\n"
     ]
    },
    {
     "name": "stdout",
     "output_type": "stream",
     "text": [
      "Ergebnis für Bild ADE_train_00004249.jpg gespeichert: results/sd/ADE_train_00004249.jpg\n"
     ]
    },
    {
     "name": "stderr",
     "output_type": "stream",
     "text": [
      "100%|██████████| 25/25 [00:00<00:00, 70.77it/s]\n",
      "100%|██████████| 100/100 [00:06<00:00, 15.46it/s]\n"
     ]
    },
    {
     "name": "stdout",
     "output_type": "stream",
     "text": [
      "Ergebnis für Bild ADE_train_00001780.jpg gespeichert: results/sd/ADE_train_00001780.jpg\n"
     ]
    },
    {
     "name": "stderr",
     "output_type": "stream",
     "text": [
      "100%|██████████| 25/25 [00:00<00:00, 100.37it/s]\n",
      "100%|██████████| 100/100 [00:06<00:00, 15.65it/s]\n"
     ]
    },
    {
     "name": "stdout",
     "output_type": "stream",
     "text": [
      "Ergebnis für Bild ADE_train_00001984.jpg gespeichert: results/sd/ADE_train_00001984.jpg\n"
     ]
    },
    {
     "name": "stderr",
     "output_type": "stream",
     "text": [
      "100%|██████████| 25/25 [00:00<00:00, 88.82it/s]\n",
      "100%|██████████| 100/100 [00:06<00:00, 15.35it/s]\n"
     ]
    },
    {
     "name": "stdout",
     "output_type": "stream",
     "text": [
      "Ergebnis für Bild ADE_train_00006408.jpg gespeichert: results/sd/ADE_train_00006408.jpg\n"
     ]
    },
    {
     "name": "stderr",
     "output_type": "stream",
     "text": [
      "100%|██████████| 25/25 [00:00<00:00, 72.47it/s]\n",
      "100%|██████████| 100/100 [00:07<00:00, 14.09it/s]\n"
     ]
    },
    {
     "name": "stdout",
     "output_type": "stream",
     "text": [
      "Ergebnis für Bild ADE_train_00019510.jpg gespeichert: results/sd/ADE_train_00019510.jpg\n"
     ]
    },
    {
     "name": "stderr",
     "output_type": "stream",
     "text": [
      "100%|██████████| 25/25 [00:00<00:00, 76.67it/s]\n",
      "100%|██████████| 100/100 [00:07<00:00, 13.90it/s]\n"
     ]
    },
    {
     "name": "stdout",
     "output_type": "stream",
     "text": [
      "Ergebnis für Bild ADE_train_00002280.jpg gespeichert: results/sd/ADE_train_00002280.jpg\n"
     ]
    },
    {
     "name": "stderr",
     "output_type": "stream",
     "text": [
      "100%|██████████| 25/25 [00:00<00:00, 73.97it/s]\n",
      "100%|██████████| 100/100 [00:07<00:00, 14.00it/s]\n"
     ]
    },
    {
     "name": "stdout",
     "output_type": "stream",
     "text": [
      "Ergebnis für Bild ADE_train_00001648.jpg gespeichert: results/sd/ADE_train_00001648.jpg\n"
     ]
    },
    {
     "name": "stderr",
     "output_type": "stream",
     "text": [
      "100%|██████████| 25/25 [00:00<00:00, 78.04it/s]\n",
      "100%|██████████| 100/100 [00:07<00:00, 13.98it/s]\n"
     ]
    },
    {
     "name": "stdout",
     "output_type": "stream",
     "text": [
      "Ergebnis für Bild ADE_train_00005330.jpg gespeichert: results/sd/ADE_train_00005330.jpg\n"
     ]
    },
    {
     "name": "stderr",
     "output_type": "stream",
     "text": [
      "100%|██████████| 25/25 [00:00<00:00, 77.24it/s]\n",
      "100%|██████████| 100/100 [00:06<00:00, 14.57it/s]\n"
     ]
    },
    {
     "name": "stdout",
     "output_type": "stream",
     "text": [
      "Ergebnis für Bild ADE_train_00021168.jpg gespeichert: results/sd/ADE_train_00021168.jpg\n"
     ]
    },
    {
     "name": "stderr",
     "output_type": "stream",
     "text": [
      "100%|██████████| 25/25 [00:00<00:00, 75.30it/s]\n",
      "100%|██████████| 100/100 [00:07<00:00, 14.11it/s]\n"
     ]
    },
    {
     "name": "stdout",
     "output_type": "stream",
     "text": [
      "Ergebnis für Bild ADE_train_00000659.jpg gespeichert: results/sd/ADE_train_00000659.jpg\n"
     ]
    },
    {
     "name": "stderr",
     "output_type": "stream",
     "text": [
      "100%|██████████| 25/25 [00:00<00:00, 82.47it/s]\n",
      "100%|██████████| 100/100 [00:07<00:00, 14.20it/s]\n"
     ]
    },
    {
     "name": "stdout",
     "output_type": "stream",
     "text": [
      "Ergebnis für Bild ADE_train_00002046.jpg gespeichert: results/sd/ADE_train_00002046.jpg\n"
     ]
    },
    {
     "name": "stderr",
     "output_type": "stream",
     "text": [
      "100%|██████████| 25/25 [00:00<00:00, 72.13it/s]\n",
      "100%|██████████| 100/100 [00:07<00:00, 14.22it/s]\n"
     ]
    },
    {
     "name": "stdout",
     "output_type": "stream",
     "text": [
      "Ergebnis für Bild ADE_train_00012244.jpg gespeichert: results/sd/ADE_train_00012244.jpg\n"
     ]
    },
    {
     "name": "stderr",
     "output_type": "stream",
     "text": [
      "100%|██████████| 25/25 [00:00<00:00, 80.23it/s]\n",
      "100%|██████████| 100/100 [00:06<00:00, 14.32it/s]\n"
     ]
    },
    {
     "name": "stdout",
     "output_type": "stream",
     "text": [
      "Ergebnis für Bild ADE_train_00002336.jpg gespeichert: results/sd/ADE_train_00002336.jpg\n"
     ]
    },
    {
     "name": "stderr",
     "output_type": "stream",
     "text": [
      "100%|██████████| 25/25 [00:00<00:00, 79.90it/s]\n",
      "100%|██████████| 100/100 [00:07<00:00, 13.84it/s]\n"
     ]
    },
    {
     "name": "stdout",
     "output_type": "stream",
     "text": [
      "Ergebnis für Bild ADE_train_00002047.jpg gespeichert: results/sd/ADE_train_00002047.jpg\n"
     ]
    },
    {
     "name": "stderr",
     "output_type": "stream",
     "text": [
      "100%|██████████| 25/25 [00:00<00:00, 71.88it/s]\n",
      "100%|██████████| 100/100 [00:07<00:00, 14.14it/s]\n"
     ]
    },
    {
     "name": "stdout",
     "output_type": "stream",
     "text": [
      "Ergebnis für Bild ADE_train_00001783.jpg gespeichert: results/sd/ADE_train_00001783.jpg\n"
     ]
    },
    {
     "name": "stderr",
     "output_type": "stream",
     "text": [
      "100%|██████████| 25/25 [00:00<00:00, 76.30it/s]\n",
      "100%|██████████| 100/100 [00:07<00:00, 13.22it/s]\n"
     ]
    },
    {
     "name": "stdout",
     "output_type": "stream",
     "text": [
      "Ergebnis für Bild ADE_train_00024478.jpg gespeichert: results/sd/ADE_train_00024478.jpg\n"
     ]
    },
    {
     "name": "stderr",
     "output_type": "stream",
     "text": [
      "100%|██████████| 25/25 [00:00<00:00, 82.15it/s]\n",
      "100%|██████████| 100/100 [00:07<00:00, 14.02it/s]\n"
     ]
    },
    {
     "name": "stdout",
     "output_type": "stream",
     "text": [
      "Ergebnis für Bild ADE_train_00023734.jpg gespeichert: results/sd/ADE_train_00023734.jpg\n"
     ]
    },
    {
     "name": "stderr",
     "output_type": "stream",
     "text": [
      "100%|██████████| 25/25 [00:00<00:00, 85.37it/s]\n",
      "100%|██████████| 100/100 [00:06<00:00, 14.50it/s]\n"
     ]
    },
    {
     "name": "stdout",
     "output_type": "stream",
     "text": [
      "Ergebnis für Bild ADE_train_00010977.jpg gespeichert: results/sd/ADE_train_00010977.jpg\n"
     ]
    },
    {
     "name": "stderr",
     "output_type": "stream",
     "text": [
      "100%|██████████| 25/25 [00:00<00:00, 86.75it/s] \n",
      "100%|██████████| 100/100 [00:07<00:00, 14.21it/s]\n"
     ]
    },
    {
     "name": "stdout",
     "output_type": "stream",
     "text": [
      "Ergebnis für Bild ADE_train_00012239.jpg gespeichert: results/sd/ADE_train_00012239.jpg\n"
     ]
    },
    {
     "name": "stderr",
     "output_type": "stream",
     "text": [
      "100%|██████████| 25/25 [00:00<00:00, 71.23it/s]\n",
      "100%|██████████| 100/100 [00:06<00:00, 14.39it/s]\n"
     ]
    },
    {
     "name": "stdout",
     "output_type": "stream",
     "text": [
      "Ergebnis für Bild ADE_train_00020444.jpg gespeichert: results/sd/ADE_train_00020444.jpg\n"
     ]
    },
    {
     "name": "stderr",
     "output_type": "stream",
     "text": [
      "100%|██████████| 25/25 [00:00<00:00, 79.27it/s]\n",
      "100%|██████████| 100/100 [00:07<00:00, 13.54it/s]\n"
     ]
    },
    {
     "name": "stdout",
     "output_type": "stream",
     "text": [
      "Ergebnis für Bild ADE_train_00004386.jpg gespeichert: results/sd/ADE_train_00004386.jpg\n"
     ]
    },
    {
     "name": "stderr",
     "output_type": "stream",
     "text": [
      "100%|██████████| 25/25 [00:00<00:00, 74.25it/s]\n",
      "100%|██████████| 100/100 [00:07<00:00, 13.80it/s]\n"
     ]
    },
    {
     "name": "stdout",
     "output_type": "stream",
     "text": [
      "Ergebnis für Bild ADE_train_00000657.jpg gespeichert: results/sd/ADE_train_00000657.jpg\n"
     ]
    },
    {
     "name": "stderr",
     "output_type": "stream",
     "text": [
      "100%|██████████| 25/25 [00:00<00:00, 83.35it/s]\n",
      "100%|██████████| 100/100 [00:07<00:00, 14.11it/s]\n"
     ]
    },
    {
     "name": "stdout",
     "output_type": "stream",
     "text": [
      "Ergebnis für Bild ADE_train_00001491.jpg gespeichert: results/sd/ADE_train_00001491.jpg\n"
     ]
    },
    {
     "name": "stderr",
     "output_type": "stream",
     "text": [
      "100%|██████████| 25/25 [00:00<00:00, 72.10it/s]\n",
      "100%|██████████| 100/100 [00:07<00:00, 13.65it/s]\n"
     ]
    },
    {
     "name": "stdout",
     "output_type": "stream",
     "text": [
      "Ergebnis für Bild ADE_train_00016054.jpg gespeichert: results/sd/ADE_train_00016054.jpg\n"
     ]
    },
    {
     "name": "stderr",
     "output_type": "stream",
     "text": [
      "100%|██████████| 25/25 [00:00<00:00, 78.60it/s]\n",
      "100%|██████████| 100/100 [00:07<00:00, 14.27it/s]\n"
     ]
    },
    {
     "name": "stdout",
     "output_type": "stream",
     "text": [
      "Ergebnis für Bild ADE_train_00002427.jpg gespeichert: results/sd/ADE_train_00002427.jpg\n"
     ]
    },
    {
     "name": "stderr",
     "output_type": "stream",
     "text": [
      "100%|██████████| 25/25 [00:00<00:00, 71.21it/s]\n",
      "100%|██████████| 100/100 [00:07<00:00, 13.56it/s]\n"
     ]
    },
    {
     "name": "stdout",
     "output_type": "stream",
     "text": [
      "Ergebnis für Bild ADE_train_00001654.jpg gespeichert: results/sd/ADE_train_00001654.jpg\n"
     ]
    },
    {
     "name": "stderr",
     "output_type": "stream",
     "text": [
      "100%|██████████| 25/25 [00:00<00:00, 79.47it/s]\n",
      "100%|██████████| 100/100 [00:07<00:00, 13.80it/s]\n"
     ]
    },
    {
     "name": "stdout",
     "output_type": "stream",
     "text": [
      "Ergebnis für Bild ADE_train_00011669.jpg gespeichert: results/sd/ADE_train_00011669.jpg\n"
     ]
    },
    {
     "name": "stderr",
     "output_type": "stream",
     "text": [
      "100%|██████████| 25/25 [00:00<00:00, 65.79it/s]\n",
      "100%|██████████| 100/100 [00:06<00:00, 14.44it/s]\n"
     ]
    },
    {
     "name": "stdout",
     "output_type": "stream",
     "text": [
      "Ergebnis für Bild ADE_train_00020278.jpg gespeichert: results/sd/ADE_train_00020278.jpg\n"
     ]
    },
    {
     "name": "stderr",
     "output_type": "stream",
     "text": [
      "100%|██████████| 25/25 [00:00<00:00, 80.00it/s]\n",
      "100%|██████████| 100/100 [00:06<00:00, 14.49it/s]\n"
     ]
    },
    {
     "name": "stdout",
     "output_type": "stream",
     "text": [
      "Ergebnis für Bild ADE_train_00025155.jpg gespeichert: results/sd/ADE_train_00025155.jpg\n"
     ]
    },
    {
     "name": "stderr",
     "output_type": "stream",
     "text": [
      "100%|██████████| 25/25 [00:00<00:00, 81.62it/s]\n",
      "100%|██████████| 100/100 [00:07<00:00, 14.02it/s]\n"
     ]
    },
    {
     "name": "stdout",
     "output_type": "stream",
     "text": [
      "Ergebnis für Bild ADE_train_00007696.jpg gespeichert: results/sd/ADE_train_00007696.jpg\n"
     ]
    },
    {
     "name": "stderr",
     "output_type": "stream",
     "text": [
      "100%|██████████| 25/25 [00:00<00:00, 75.92it/s]\n",
      "100%|██████████| 100/100 [00:07<00:00, 14.16it/s]\n"
     ]
    },
    {
     "name": "stdout",
     "output_type": "stream",
     "text": [
      "Ergebnis für Bild ADE_train_00001686.jpg gespeichert: results/sd/ADE_train_00001686.jpg\n"
     ]
    },
    {
     "name": "stderr",
     "output_type": "stream",
     "text": [
      "100%|██████████| 25/25 [00:00<00:00, 89.89it/s]\n",
      "100%|██████████| 100/100 [00:07<00:00, 13.74it/s]\n"
     ]
    },
    {
     "name": "stdout",
     "output_type": "stream",
     "text": [
      "Ergebnis für Bild ADE_frame_00000026.jpg gespeichert: results/sd/ADE_frame_00000026.jpg\n"
     ]
    },
    {
     "name": "stderr",
     "output_type": "stream",
     "text": [
      "100%|██████████| 25/25 [00:00<00:00, 77.11it/s]\n",
      "100%|██████████| 100/100 [00:07<00:00, 13.98it/s]\n"
     ]
    },
    {
     "name": "stdout",
     "output_type": "stream",
     "text": [
      "Ergebnis für Bild ADE_train_00023924.jpg gespeichert: results/sd/ADE_train_00023924.jpg\n"
     ]
    },
    {
     "name": "stderr",
     "output_type": "stream",
     "text": [
      "100%|██████████| 25/25 [00:00<00:00, 84.81it/s]\n",
      "100%|██████████| 100/100 [00:06<00:00, 14.34it/s]\n"
     ]
    },
    {
     "name": "stdout",
     "output_type": "stream",
     "text": [
      "Ergebnis für Bild ADE_train_00014336.jpg gespeichert: results/sd/ADE_train_00014336.jpg\n"
     ]
    },
    {
     "name": "stderr",
     "output_type": "stream",
     "text": [
      "100%|██████████| 25/25 [00:00<00:00, 74.42it/s]\n",
      "100%|██████████| 100/100 [00:06<00:00, 14.35it/s]\n"
     ]
    },
    {
     "name": "stdout",
     "output_type": "stream",
     "text": [
      "Ergebnis für Bild ADE_train_00016349.jpg gespeichert: results/sd/ADE_train_00016349.jpg\n"
     ]
    },
    {
     "name": "stderr",
     "output_type": "stream",
     "text": [
      "100%|██████████| 25/25 [00:00<00:00, 82.09it/s]\n",
      "100%|██████████| 100/100 [00:07<00:00, 14.26it/s]\n"
     ]
    },
    {
     "name": "stdout",
     "output_type": "stream",
     "text": [
      "Ergebnis für Bild ADE_train_00002181.jpg gespeichert: results/sd/ADE_train_00002181.jpg\n"
     ]
    },
    {
     "name": "stderr",
     "output_type": "stream",
     "text": [
      "100%|██████████| 25/25 [00:00<00:00, 88.54it/s]\n",
      "100%|██████████| 100/100 [00:06<00:00, 14.70it/s]\n"
     ]
    },
    {
     "name": "stdout",
     "output_type": "stream",
     "text": [
      "Ergebnis für Bild ADE_train_00001769.jpg gespeichert: results/sd/ADE_train_00001769.jpg\n"
     ]
    },
    {
     "name": "stderr",
     "output_type": "stream",
     "text": [
      "100%|██████████| 25/25 [00:00<00:00, 89.56it/s]\n",
      "100%|██████████| 100/100 [00:07<00:00, 14.06it/s]\n"
     ]
    },
    {
     "name": "stdout",
     "output_type": "stream",
     "text": [
      "Ergebnis für Bild ADE_frame_00000166.jpg gespeichert: results/sd/ADE_frame_00000166.jpg\n"
     ]
    },
    {
     "name": "stderr",
     "output_type": "stream",
     "text": [
      "100%|██████████| 25/25 [00:00<00:00, 87.25it/s]\n",
      "100%|██████████| 100/100 [00:06<00:00, 14.40it/s]\n"
     ]
    },
    {
     "name": "stdout",
     "output_type": "stream",
     "text": [
      "Ergebnis für Bild ADE_train_00001644.jpg gespeichert: results/sd/ADE_train_00001644.jpg\n"
     ]
    },
    {
     "name": "stderr",
     "output_type": "stream",
     "text": [
      "100%|██████████| 25/25 [00:00<00:00, 85.55it/s]\n",
      "100%|██████████| 100/100 [00:06<00:00, 14.91it/s]\n"
     ]
    },
    {
     "name": "stdout",
     "output_type": "stream",
     "text": [
      "Ergebnis für Bild ADE_train_00003191.jpg gespeichert: results/sd/ADE_train_00003191.jpg\n"
     ]
    },
    {
     "name": "stderr",
     "output_type": "stream",
     "text": [
      "100%|██████████| 25/25 [00:00<00:00, 74.41it/s]\n",
      "100%|██████████| 100/100 [00:06<00:00, 14.48it/s]\n"
     ]
    },
    {
     "name": "stdout",
     "output_type": "stream",
     "text": [
      "Ergebnis für Bild ADE_train_00001501.jpg gespeichert: results/sd/ADE_train_00001501.jpg\n"
     ]
    },
    {
     "name": "stderr",
     "output_type": "stream",
     "text": [
      "100%|██████████| 25/25 [00:00<00:00, 71.17it/s]\n",
      "100%|██████████| 100/100 [00:06<00:00, 14.62it/s]\n"
     ]
    },
    {
     "name": "stdout",
     "output_type": "stream",
     "text": [
      "Ergebnis für Bild ADE_train_00002186.jpg gespeichert: results/sd/ADE_train_00002186.jpg\n"
     ]
    },
    {
     "name": "stderr",
     "output_type": "stream",
     "text": [
      "100%|██████████| 25/25 [00:00<00:00, 78.81it/s]\n",
      "100%|██████████| 100/100 [00:07<00:00, 13.79it/s]\n"
     ]
    },
    {
     "name": "stdout",
     "output_type": "stream",
     "text": [
      "Ergebnis für Bild ADE_train_00002429.jpg gespeichert: results/sd/ADE_train_00002429.jpg\n"
     ]
    },
    {
     "name": "stderr",
     "output_type": "stream",
     "text": [
      "100%|██████████| 25/25 [00:00<00:00, 80.21it/s]\n",
      "100%|██████████| 100/100 [00:06<00:00, 14.51it/s]\n"
     ]
    },
    {
     "name": "stdout",
     "output_type": "stream",
     "text": [
      "Ergebnis für Bild ADE_train_00001551.jpg gespeichert: results/sd/ADE_train_00001551.jpg\n"
     ]
    },
    {
     "name": "stderr",
     "output_type": "stream",
     "text": [
      "100%|██████████| 25/25 [00:00<00:00, 78.88it/s]\n",
      "100%|██████████| 100/100 [00:06<00:00, 14.58it/s]\n"
     ]
    },
    {
     "name": "stdout",
     "output_type": "stream",
     "text": [
      "Ergebnis für Bild ADE_train_00022742.jpg gespeichert: results/sd/ADE_train_00022742.jpg\n"
     ]
    },
    {
     "name": "stderr",
     "output_type": "stream",
     "text": [
      "100%|██████████| 25/25 [00:00<00:00, 78.85it/s]\n",
      "100%|██████████| 100/100 [00:06<00:00, 14.48it/s]\n"
     ]
    },
    {
     "name": "stdout",
     "output_type": "stream",
     "text": [
      "Ergebnis für Bild ADE_train_00001749.jpg gespeichert: results/sd/ADE_train_00001749.jpg\n"
     ]
    },
    {
     "name": "stderr",
     "output_type": "stream",
     "text": [
      "100%|██████████| 25/25 [00:00<00:00, 75.73it/s]\n",
      "100%|██████████| 100/100 [00:07<00:00, 14.08it/s]\n"
     ]
    },
    {
     "name": "stdout",
     "output_type": "stream",
     "text": [
      "Ergebnis für Bild ADE_train_00012275.jpg gespeichert: results/sd/ADE_train_00012275.jpg\n"
     ]
    },
    {
     "name": "stderr",
     "output_type": "stream",
     "text": [
      "100%|██████████| 25/25 [00:00<00:00, 69.24it/s]\n",
      "100%|██████████| 100/100 [00:07<00:00, 14.26it/s]\n"
     ]
    },
    {
     "name": "stdout",
     "output_type": "stream",
     "text": [
      "Ergebnis für Bild ADE_train_00002421.jpg gespeichert: results/sd/ADE_train_00002421.jpg\n"
     ]
    },
    {
     "name": "stderr",
     "output_type": "stream",
     "text": [
      "100%|██████████| 25/25 [00:00<00:00, 78.97it/s]\n",
      "100%|██████████| 100/100 [00:07<00:00, 13.97it/s]\n"
     ]
    },
    {
     "name": "stdout",
     "output_type": "stream",
     "text": [
      "Ergebnis für Bild ADE_frame_00000029.jpg gespeichert: results/sd/ADE_frame_00000029.jpg\n"
     ]
    },
    {
     "name": "stderr",
     "output_type": "stream",
     "text": [
      "100%|██████████| 25/25 [00:00<00:00, 86.78it/s]\n",
      "100%|██████████| 100/100 [00:07<00:00, 13.69it/s]\n"
     ]
    },
    {
     "name": "stdout",
     "output_type": "stream",
     "text": [
      "Ergebnis für Bild ADE_train_00001690.jpg gespeichert: results/sd/ADE_train_00001690.jpg\n"
     ]
    },
    {
     "name": "stderr",
     "output_type": "stream",
     "text": [
      "100%|██████████| 25/25 [00:00<00:00, 85.38it/s]\n",
      "100%|██████████| 100/100 [00:06<00:00, 14.80it/s]\n"
     ]
    },
    {
     "name": "stdout",
     "output_type": "stream",
     "text": [
      "Ergebnis für Bild ADE_train_00011863.jpg gespeichert: results/sd/ADE_train_00011863.jpg\n"
     ]
    },
    {
     "name": "stderr",
     "output_type": "stream",
     "text": [
      "100%|██████████| 25/25 [00:00<00:00, 74.10it/s]\n",
      "100%|██████████| 100/100 [00:07<00:00, 14.23it/s]\n"
     ]
    },
    {
     "name": "stdout",
     "output_type": "stream",
     "text": [
      "Ergebnis für Bild ADE_train_00003174.jpg gespeichert: results/sd/ADE_train_00003174.jpg\n"
     ]
    },
    {
     "name": "stderr",
     "output_type": "stream",
     "text": [
      "100%|██████████| 25/25 [00:00<00:00, 85.70it/s] \n",
      "100%|██████████| 100/100 [00:06<00:00, 14.70it/s]\n"
     ]
    },
    {
     "name": "stdout",
     "output_type": "stream",
     "text": [
      "Ergebnis für Bild ADE_train_00019105.jpg gespeichert: results/sd/ADE_train_00019105.jpg\n"
     ]
    },
    {
     "name": "stderr",
     "output_type": "stream",
     "text": [
      "100%|██████████| 25/25 [00:00<00:00, 103.53it/s]\n",
      "100%|██████████| 100/100 [00:07<00:00, 14.10it/s]\n"
     ]
    },
    {
     "name": "stdout",
     "output_type": "stream",
     "text": [
      "Ergebnis für Bild ADE_train_00001674.jpg gespeichert: results/sd/ADE_train_00001674.jpg\n"
     ]
    },
    {
     "name": "stderr",
     "output_type": "stream",
     "text": [
      "100%|██████████| 25/25 [00:00<00:00, 86.56it/s]\n",
      "100%|██████████| 100/100 [00:07<00:00, 14.23it/s]\n"
     ]
    },
    {
     "name": "stdout",
     "output_type": "stream",
     "text": [
      "Ergebnis für Bild ADE_train_00001900.jpg gespeichert: results/sd/ADE_train_00001900.jpg\n"
     ]
    },
    {
     "name": "stderr",
     "output_type": "stream",
     "text": [
      "100%|██████████| 25/25 [00:00<00:00, 67.79it/s]\n",
      "100%|██████████| 100/100 [00:07<00:00, 14.17it/s]\n"
     ]
    },
    {
     "name": "stdout",
     "output_type": "stream",
     "text": [
      "Ergebnis für Bild ADE_train_00001677.jpg gespeichert: results/sd/ADE_train_00001677.jpg\n"
     ]
    },
    {
     "name": "stderr",
     "output_type": "stream",
     "text": [
      "100%|██████████| 25/25 [00:00<00:00, 87.81it/s]\n",
      "100%|██████████| 100/100 [00:07<00:00, 13.91it/s]\n"
     ]
    },
    {
     "name": "stdout",
     "output_type": "stream",
     "text": [
      "Ergebnis für Bild ADE_train_00001636.jpg gespeichert: results/sd/ADE_train_00001636.jpg\n"
     ]
    },
    {
     "name": "stderr",
     "output_type": "stream",
     "text": [
      "100%|██████████| 25/25 [00:00<00:00, 77.88it/s]\n",
      "100%|██████████| 100/100 [00:07<00:00, 13.89it/s]\n"
     ]
    },
    {
     "name": "stdout",
     "output_type": "stream",
     "text": [
      "Ergebnis für Bild ADE_train_00022733.jpg gespeichert: results/sd/ADE_train_00022733.jpg\n"
     ]
    },
    {
     "name": "stderr",
     "output_type": "stream",
     "text": [
      "100%|██████████| 25/25 [00:00<00:00, 84.21it/s]\n",
      "100%|██████████| 100/100 [00:07<00:00, 13.83it/s]\n"
     ]
    },
    {
     "name": "stdout",
     "output_type": "stream",
     "text": [
      "Ergebnis für Bild ADE_train_00001669.jpg gespeichert: results/sd/ADE_train_00001669.jpg\n"
     ]
    },
    {
     "name": "stderr",
     "output_type": "stream",
     "text": [
      "100%|██████████| 25/25 [00:00<00:00, 91.02it/s]\n",
      "100%|██████████| 100/100 [00:07<00:00, 14.20it/s]\n"
     ]
    },
    {
     "name": "stdout",
     "output_type": "stream",
     "text": [
      "Ergebnis für Bild ADE_train_00024827.jpg gespeichert: results/sd/ADE_train_00024827.jpg\n"
     ]
    },
    {
     "name": "stderr",
     "output_type": "stream",
     "text": [
      "100%|██████████| 25/25 [00:00<00:00, 84.99it/s]\n",
      "100%|██████████| 100/100 [00:06<00:00, 14.65it/s]\n"
     ]
    },
    {
     "name": "stdout",
     "output_type": "stream",
     "text": [
      "Ergebnis für Bild ADE_train_00002424.jpg gespeichert: results/sd/ADE_train_00002424.jpg\n"
     ]
    },
    {
     "name": "stderr",
     "output_type": "stream",
     "text": [
      "100%|██████████| 25/25 [00:00<00:00, 79.32it/s]\n",
      "100%|██████████| 100/100 [00:07<00:00, 14.07it/s]\n"
     ]
    },
    {
     "name": "stdout",
     "output_type": "stream",
     "text": [
      "Ergebnis für Bild ADE_train_00019601.jpg gespeichert: results/sd/ADE_train_00019601.jpg\n"
     ]
    },
    {
     "name": "stderr",
     "output_type": "stream",
     "text": [
      "100%|██████████| 25/25 [00:00<00:00, 73.13it/s]\n",
      "100%|██████████| 100/100 [00:06<00:00, 14.50it/s]\n"
     ]
    },
    {
     "name": "stdout",
     "output_type": "stream",
     "text": [
      "Ergebnis für Bild ADE_train_00010925.jpg gespeichert: results/sd/ADE_train_00010925.jpg\n"
     ]
    },
    {
     "name": "stderr",
     "output_type": "stream",
     "text": [
      "100%|██████████| 25/25 [00:00<00:00, 83.25it/s]\n",
      "100%|██████████| 100/100 [00:06<00:00, 14.30it/s]\n"
     ]
    },
    {
     "name": "stdout",
     "output_type": "stream",
     "text": [
      "Ergebnis für Bild ADE_train_00001782.jpg gespeichert: results/sd/ADE_train_00001782.jpg\n"
     ]
    },
    {
     "name": "stderr",
     "output_type": "stream",
     "text": [
      "100%|██████████| 25/25 [00:00<00:00, 82.17it/s]\n",
      "100%|██████████| 100/100 [00:06<00:00, 14.42it/s]\n"
     ]
    },
    {
     "name": "stdout",
     "output_type": "stream",
     "text": [
      "Ergebnis für Bild ADE_train_00001708.jpg gespeichert: results/sd/ADE_train_00001708.jpg\n"
     ]
    },
    {
     "name": "stderr",
     "output_type": "stream",
     "text": [
      "100%|██████████| 25/25 [00:00<00:00, 71.99it/s]\n",
      "100%|██████████| 100/100 [00:06<00:00, 14.54it/s]\n"
     ]
    },
    {
     "name": "stdout",
     "output_type": "stream",
     "text": [
      "Ergebnis für Bild ADE_train_00001656.jpg gespeichert: results/sd/ADE_train_00001656.jpg\n"
     ]
    },
    {
     "name": "stderr",
     "output_type": "stream",
     "text": [
      "100%|██████████| 25/25 [00:00<00:00, 83.12it/s]\n",
      "100%|██████████| 100/100 [00:07<00:00, 13.63it/s]\n"
     ]
    },
    {
     "name": "stdout",
     "output_type": "stream",
     "text": [
      "Ergebnis für Bild ADE_train_00001639.jpg gespeichert: results/sd/ADE_train_00001639.jpg\n"
     ]
    },
    {
     "name": "stderr",
     "output_type": "stream",
     "text": [
      "100%|██████████| 25/25 [00:00<00:00, 81.65it/s]\n",
      "100%|██████████| 100/100 [00:07<00:00, 14.28it/s]\n"
     ]
    },
    {
     "name": "stdout",
     "output_type": "stream",
     "text": [
      "Ergebnis für Bild ADE_train_00011599.jpg gespeichert: results/sd/ADE_train_00011599.jpg\n"
     ]
    },
    {
     "name": "stderr",
     "output_type": "stream",
     "text": [
      "100%|██████████| 25/25 [00:00<00:00, 74.06it/s]\n",
      "100%|██████████| 100/100 [00:06<00:00, 14.54it/s]\n"
     ]
    },
    {
     "name": "stdout",
     "output_type": "stream",
     "text": [
      "Ergebnis für Bild ADE_train_00002420.jpg gespeichert: results/sd/ADE_train_00002420.jpg\n"
     ]
    },
    {
     "name": "stderr",
     "output_type": "stream",
     "text": [
      "100%|██████████| 25/25 [00:00<00:00, 88.40it/s]\n",
      "100%|██████████| 100/100 [00:06<00:00, 14.39it/s]\n"
     ]
    },
    {
     "name": "stdout",
     "output_type": "stream",
     "text": [
      "Ergebnis für Bild ADE_train_00001725.jpg gespeichert: results/sd/ADE_train_00001725.jpg\n"
     ]
    },
    {
     "name": "stderr",
     "output_type": "stream",
     "text": [
      "100%|██████████| 25/25 [00:00<00:00, 109.22it/s]\n",
      "100%|██████████| 100/100 [00:07<00:00, 14.16it/s]\n"
     ]
    },
    {
     "name": "stdout",
     "output_type": "stream",
     "text": [
      "Ergebnis für Bild ADE_train_00001658.jpg gespeichert: results/sd/ADE_train_00001658.jpg\n"
     ]
    },
    {
     "name": "stderr",
     "output_type": "stream",
     "text": [
      "100%|██████████| 25/25 [00:00<00:00, 115.45it/s]\n",
      "100%|██████████| 100/100 [00:07<00:00, 14.26it/s]\n"
     ]
    },
    {
     "name": "stdout",
     "output_type": "stream",
     "text": [
      "Ergebnis für Bild ADE_train_00001801.jpg gespeichert: results/sd/ADE_train_00001801.jpg\n"
     ]
    },
    {
     "name": "stderr",
     "output_type": "stream",
     "text": [
      "100%|██████████| 25/25 [00:00<00:00, 99.39it/s] \n",
      "100%|██████████| 100/100 [00:06<00:00, 15.32it/s]\n"
     ]
    },
    {
     "name": "stdout",
     "output_type": "stream",
     "text": [
      "Ergebnis für Bild ADE_frame_00000016.jpg gespeichert: results/sd/ADE_frame_00000016.jpg\n"
     ]
    },
    {
     "name": "stderr",
     "output_type": "stream",
     "text": [
      "100%|██████████| 25/25 [00:00<00:00, 114.05it/s]\n",
      "100%|██████████| 100/100 [00:06<00:00, 14.46it/s]\n"
     ]
    },
    {
     "name": "stdout",
     "output_type": "stream",
     "text": [
      "Ergebnis für Bild ADE_train_00021743.jpg gespeichert: results/sd/ADE_train_00021743.jpg\n"
     ]
    },
    {
     "name": "stderr",
     "output_type": "stream",
     "text": [
      "100%|██████████| 25/25 [00:00<00:00, 104.95it/s]\n",
      "100%|██████████| 100/100 [00:06<00:00, 15.01it/s]\n"
     ]
    },
    {
     "name": "stdout",
     "output_type": "stream",
     "text": [
      "Ergebnis für Bild ADE_frame_00000051.jpg gespeichert: results/sd/ADE_frame_00000051.jpg\n"
     ]
    },
    {
     "name": "stderr",
     "output_type": "stream",
     "text": [
      "100%|██████████| 25/25 [00:00<00:00, 102.59it/s]\n",
      "100%|██████████| 100/100 [00:07<00:00, 13.91it/s]\n"
     ]
    },
    {
     "name": "stdout",
     "output_type": "stream",
     "text": [
      "Ergebnis für Bild ADE_train_00021492.jpg gespeichert: results/sd/ADE_train_00021492.jpg\n"
     ]
    },
    {
     "name": "stderr",
     "output_type": "stream",
     "text": [
      "100%|██████████| 25/25 [00:00<00:00, 105.60it/s]\n",
      "100%|██████████| 100/100 [00:07<00:00, 14.02it/s]\n"
     ]
    },
    {
     "name": "stdout",
     "output_type": "stream",
     "text": [
      "Ergebnis für Bild ADE_train_00022710.jpg gespeichert: results/sd/ADE_train_00022710.jpg\n"
     ]
    },
    {
     "name": "stderr",
     "output_type": "stream",
     "text": [
      "100%|██████████| 25/25 [00:00<00:00, 112.85it/s]\n",
      "100%|██████████| 100/100 [00:07<00:00, 14.25it/s]\n"
     ]
    },
    {
     "name": "stdout",
     "output_type": "stream",
     "text": [
      "Ergebnis für Bild ADE_train_00001890.jpg gespeichert: results/sd/ADE_train_00001890.jpg\n"
     ]
    },
    {
     "name": "stderr",
     "output_type": "stream",
     "text": [
      "100%|██████████| 25/25 [00:00<00:00, 99.03it/s] \n",
      "100%|██████████| 100/100 [00:07<00:00, 14.00it/s]\n"
     ]
    },
    {
     "name": "stdout",
     "output_type": "stream",
     "text": [
      "Ergebnis für Bild ADE_train_00015458.jpg gespeichert: results/sd/ADE_train_00015458.jpg\n"
     ]
    },
    {
     "name": "stderr",
     "output_type": "stream",
     "text": [
      "100%|██████████| 25/25 [00:00<00:00, 106.44it/s]\n",
      "100%|██████████| 100/100 [00:06<00:00, 14.51it/s]\n"
     ]
    },
    {
     "name": "stdout",
     "output_type": "stream",
     "text": [
      "Ergebnis für Bild ADE_train_00016350.jpg gespeichert: results/sd/ADE_train_00016350.jpg\n"
     ]
    },
    {
     "name": "stderr",
     "output_type": "stream",
     "text": [
      "100%|██████████| 25/25 [00:00<00:00, 110.72it/s]\n",
      "100%|██████████| 100/100 [00:07<00:00, 14.17it/s]\n"
     ]
    },
    {
     "name": "stdout",
     "output_type": "stream",
     "text": [
      "Ergebnis für Bild ADE_train_00006409.jpg gespeichert: results/sd/ADE_train_00006409.jpg\n"
     ]
    },
    {
     "name": "stderr",
     "output_type": "stream",
     "text": [
      "100%|██████████| 25/25 [00:00<00:00, 111.86it/s]\n",
      "100%|██████████| 100/100 [00:06<00:00, 14.59it/s]\n"
     ]
    },
    {
     "name": "stdout",
     "output_type": "stream",
     "text": [
      "Ergebnis für Bild ADE_train_00002285.jpg gespeichert: results/sd/ADE_train_00002285.jpg\n"
     ]
    },
    {
     "name": "stderr",
     "output_type": "stream",
     "text": [
      "100%|██████████| 25/25 [00:00<00:00, 99.13it/s] \n",
      "100%|██████████| 100/100 [00:07<00:00, 13.64it/s]\n"
     ]
    },
    {
     "name": "stdout",
     "output_type": "stream",
     "text": [
      "Ergebnis für Bild ADE_train_00002053.jpg gespeichert: results/sd/ADE_train_00002053.jpg\n"
     ]
    },
    {
     "name": "stderr",
     "output_type": "stream",
     "text": [
      "100%|██████████| 25/25 [00:00<00:00, 104.29it/s]\n",
      "100%|██████████| 100/100 [00:07<00:00, 14.18it/s]\n"
     ]
    },
    {
     "name": "stdout",
     "output_type": "stream",
     "text": [
      "Ergebnis für Bild ADE_train_00007691.jpg gespeichert: results/sd/ADE_train_00007691.jpg\n"
     ]
    },
    {
     "name": "stderr",
     "output_type": "stream",
     "text": [
      "100%|██████████| 25/25 [00:00<00:00, 103.28it/s]\n",
      "100%|██████████| 100/100 [00:07<00:00, 14.16it/s]\n"
     ]
    },
    {
     "name": "stdout",
     "output_type": "stream",
     "text": [
      "Ergebnis für Bild ADE_train_00012184.jpg gespeichert: results/sd/ADE_train_00012184.jpg\n"
     ]
    },
    {
     "name": "stderr",
     "output_type": "stream",
     "text": [
      "100%|██████████| 25/25 [00:00<00:00, 114.34it/s]\n",
      "100%|██████████| 100/100 [00:06<00:00, 14.74it/s]\n"
     ]
    },
    {
     "name": "stdout",
     "output_type": "stream",
     "text": [
      "Ergebnis für Bild ADE_train_00007688.jpg gespeichert: results/sd/ADE_train_00007688.jpg\n"
     ]
    },
    {
     "name": "stderr",
     "output_type": "stream",
     "text": [
      "100%|██████████| 25/25 [00:00<00:00, 108.23it/s]\n",
      "100%|██████████| 100/100 [00:06<00:00, 14.93it/s]\n"
     ]
    },
    {
     "name": "stdout",
     "output_type": "stream",
     "text": [
      "Ergebnis für Bild ADE_train_00000660.jpg gespeichert: results/sd/ADE_train_00000660.jpg\n"
     ]
    },
    {
     "name": "stderr",
     "output_type": "stream",
     "text": [
      "100%|██████████| 25/25 [00:00<00:00, 97.07it/s]\n",
      "100%|██████████| 100/100 [00:06<00:00, 14.50it/s]\n"
     ]
    },
    {
     "name": "stdout",
     "output_type": "stream",
     "text": [
      "Ergebnis für Bild ADE_train_00001334.jpg gespeichert: results/sd/ADE_train_00001334.jpg\n"
     ]
    },
    {
     "name": "stderr",
     "output_type": "stream",
     "text": [
      "100%|██████████| 25/25 [00:00<00:00, 107.71it/s]\n",
      "100%|██████████| 100/100 [00:06<00:00, 15.20it/s]\n"
     ]
    },
    {
     "name": "stdout",
     "output_type": "stream",
     "text": [
      "Ergebnis für Bild ADE_train_00015463.jpg gespeichert: results/sd/ADE_train_00015463.jpg\n"
     ]
    },
    {
     "name": "stderr",
     "output_type": "stream",
     "text": [
      "100%|██████████| 25/25 [00:00<00:00, 105.63it/s]\n",
      "100%|██████████| 100/100 [00:06<00:00, 14.36it/s]\n"
     ]
    },
    {
     "name": "stdout",
     "output_type": "stream",
     "text": [
      "Ergebnis für Bild ADE_train_00010767.jpg gespeichert: results/sd/ADE_train_00010767.jpg\n"
     ]
    },
    {
     "name": "stderr",
     "output_type": "stream",
     "text": [
      "100%|██████████| 25/25 [00:00<00:00, 114.93it/s]\n",
      "100%|██████████| 100/100 [00:06<00:00, 15.39it/s]\n"
     ]
    },
    {
     "name": "stdout",
     "output_type": "stream",
     "text": [
      "Ergebnis für Bild ADE_train_00008818.jpg gespeichert: results/sd/ADE_train_00008818.jpg\n"
     ]
    },
    {
     "name": "stderr",
     "output_type": "stream",
     "text": [
      "100%|██████████| 25/25 [00:00<00:00, 115.95it/s]\n",
      "100%|██████████| 100/100 [00:06<00:00, 14.59it/s]\n"
     ]
    },
    {
     "name": "stdout",
     "output_type": "stream",
     "text": [
      "Ergebnis für Bild ADE_train_00001971.jpg gespeichert: results/sd/ADE_train_00001971.jpg\n"
     ]
    },
    {
     "name": "stderr",
     "output_type": "stream",
     "text": [
      "100%|██████████| 25/25 [00:00<00:00, 119.23it/s]\n",
      "100%|██████████| 100/100 [00:06<00:00, 14.29it/s]\n"
     ]
    },
    {
     "name": "stdout",
     "output_type": "stream",
     "text": [
      "Ergebnis für Bild ADE_train_00001906.jpg gespeichert: results/sd/ADE_train_00001906.jpg\n"
     ]
    },
    {
     "name": "stderr",
     "output_type": "stream",
     "text": [
      "100%|██████████| 25/25 [00:00<00:00, 111.57it/s]\n",
      "100%|██████████| 100/100 [00:06<00:00, 14.86it/s]\n"
     ]
    },
    {
     "name": "stdout",
     "output_type": "stream",
     "text": [
      "Ergebnis für Bild ADE_train_00016151.jpg gespeichert: results/sd/ADE_train_00016151.jpg\n"
     ]
    },
    {
     "name": "stderr",
     "output_type": "stream",
     "text": [
      "100%|██████████| 25/25 [00:00<00:00, 106.20it/s]\n",
      "100%|██████████| 100/100 [00:06<00:00, 14.77it/s]\n"
     ]
    },
    {
     "name": "stdout",
     "output_type": "stream",
     "text": [
      "Ergebnis für Bild ADE_train_00002340.jpg gespeichert: results/sd/ADE_train_00002340.jpg\n"
     ]
    },
    {
     "name": "stderr",
     "output_type": "stream",
     "text": [
      "100%|██████████| 25/25 [00:00<00:00, 112.53it/s]\n",
      "100%|██████████| 100/100 [00:06<00:00, 14.50it/s]\n"
     ]
    },
    {
     "name": "stdout",
     "output_type": "stream",
     "text": [
      "Ergebnis für Bild ADE_frame_00000107.jpg gespeichert: results/sd/ADE_frame_00000107.jpg\n"
     ]
    },
    {
     "name": "stderr",
     "output_type": "stream",
     "text": [
      "100%|██████████| 25/25 [00:00<00:00, 97.81it/s]\n",
      "100%|██████████| 100/100 [00:07<00:00, 14.14it/s]\n"
     ]
    },
    {
     "name": "stdout",
     "output_type": "stream",
     "text": [
      "Ergebnis für Bild ADE_train_00003172.jpg gespeichert: results/sd/ADE_train_00003172.jpg\n"
     ]
    },
    {
     "name": "stderr",
     "output_type": "stream",
     "text": [
      "100%|██████████| 25/25 [00:00<00:00, 111.90it/s]\n",
      "100%|██████████| 100/100 [00:06<00:00, 14.88it/s]\n"
     ]
    },
    {
     "name": "stdout",
     "output_type": "stream",
     "text": [
      "Ergebnis für Bild ADE_train_00022743.jpg gespeichert: results/sd/ADE_train_00022743.jpg\n"
     ]
    },
    {
     "name": "stderr",
     "output_type": "stream",
     "text": [
      "100%|██████████| 25/25 [00:00<00:00, 112.69it/s]\n",
      "100%|██████████| 100/100 [00:06<00:00, 14.34it/s]\n"
     ]
    },
    {
     "name": "stdout",
     "output_type": "stream",
     "text": [
      "Ergebnis für Bild ADE_train_00012232.jpg gespeichert: results/sd/ADE_train_00012232.jpg\n"
     ]
    },
    {
     "name": "stderr",
     "output_type": "stream",
     "text": [
      "100%|██████████| 25/25 [00:00<00:00, 107.40it/s]\n",
      "100%|██████████| 100/100 [00:06<00:00, 14.42it/s]\n"
     ]
    },
    {
     "name": "stdout",
     "output_type": "stream",
     "text": [
      "Ergebnis für Bild ADE_train_00020863.jpg gespeichert: results/sd/ADE_train_00020863.jpg\n"
     ]
    },
    {
     "name": "stderr",
     "output_type": "stream",
     "text": [
      "100%|██████████| 25/25 [00:00<00:00, 100.91it/s]\n",
      "100%|██████████| 100/100 [00:06<00:00, 14.48it/s]\n"
     ]
    },
    {
     "name": "stdout",
     "output_type": "stream",
     "text": [
      "Ergebnis für Bild ADE_train_00009499.jpg gespeichert: results/sd/ADE_train_00009499.jpg\n"
     ]
    }
   ],
   "source": [
    "real_images = []\n",
    "sd_images = []\n",
    "\n",
    "# Schleife durch alle Bilder und Masken\n",
    "\n",
    "image_gen = image_mask_generator(images_dir, masks_dir, image_files)\n",
    "for fname, image, mask in image_gen:\n",
    "\n",
    "    result = sd_inpaint(image, mask) # Infill mit sd und neuer maske\n",
    "\n",
    "    real_images.append(image)\n",
    "    sd_images.append(result)\n",
    "\n",
    "    # Append and save result\n",
    "    save_result(image, result, fname, 'sd')"
   ]
  },
  {
   "cell_type": "code",
   "execution_count": 20,
   "id": "b479783f-2932-4596-bbf2-0b0e43156e75",
   "metadata": {},
   "outputs": [
    {
     "name": "stdout",
     "output_type": "stream",
     "text": [
      "Setting up [LPIPS] perceptual loss: trunk [alex], v[0.1], spatial [off]\n",
      "Loading model from: /home/ludo/.conda/envs/lama/lib/python3.10/site-packages/lpips/weights/v0.1/alex.pth\n",
      "FID: 49.47455978393555\n",
      "LPIPS: 0.14442600309848785\n"
     ]
    }
   ],
   "source": [
    "# Preprocess the images (resize and convert to tensors)\n",
    "real_images_tensor = preprocess_images(real_images, target_size)\n",
    "sd_images_tensor = preprocess_images(sd_images, target_size)\n",
    "\n",
    "fid_score = calculate_fid(real_images_tensor, sd_images_tensor)\n",
    "\n",
    "lpips_score = calculate_lpips(real_images_tensor, sd_images_tensor)\n",
    "\n",
    "print(f\"FID: {fid_score}\")\n",
    "print(f\"LPIPS: {lpips_score}\")"
   ]
  }
 ],
 "metadata": {
  "kernelspec": {
   "display_name": "lama-simple-kernel",
   "language": "python",
   "name": "lama-simple-kernel"
  },
  "language_info": {
   "codemirror_mode": {
    "name": "ipython",
    "version": 3
   },
   "file_extension": ".py",
   "mimetype": "text/x-python",
   "name": "python",
   "nbconvert_exporter": "python",
   "pygments_lexer": "ipython3",
   "version": "3.10.16"
  }
 },
 "nbformat": 4,
 "nbformat_minor": 5
}
