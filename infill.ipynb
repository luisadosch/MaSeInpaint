{
 "cells": [
  {
   "cell_type": "code",
   "execution_count": 1,
   "id": "98773f81-b57f-4df9-bd25-d26e3b804605",
   "metadata": {},
   "outputs": [
    {
     "name": "stderr",
     "output_type": "stream",
     "text": [
      "/home/ludo/.local/lib/python3.10/site-packages/tqdm/auto.py:21: TqdmWarning: IProgress not found. Please update jupyter and ipywidgets. See https://ipywidgets.readthedocs.io/en/stable/user_install.html\n",
      "  from .autonotebook import tqdm as notebook_tqdm\n"
     ]
    }
   ],
   "source": [
    "from simple_lama_inpainting import SimpleLama\n",
    "from PIL import Image, ImageChops, ImageDraw\n",
    "import numpy as np\n",
    "import cv2\n",
    "import os\n",
    "from torchmetrics.image.fid import FrechetInceptionDistance\n",
    "import torch\n",
    "from diffusers import AutoPipelineForInpainting\n",
    "from diffusers.utils import load_image, make_image_grid\n",
    "from PIL import Image\n",
    "import numpy as np\n"
   ]
  },
  {
   "cell_type": "code",
   "execution_count": 2,
   "id": "f3c94963-5e5b-4abb-9c8d-7dbc540ef35b",
   "metadata": {},
   "outputs": [],
   "source": [
    "# 1. Lama"
   ]
  },
  {
   "cell_type": "code",
   "execution_count": 3,
   "id": "6b9c044a-9e70-4def-b63d-5c326e043084",
   "metadata": {},
   "outputs": [],
   "source": [
    "# Iterationen für Maskenmanipulation\n",
    "ITERATIONS = 10\n",
    "\n",
    "# Funktion, um die Maske zu erweitern (Dilation)\n",
    "def expand_mask(mask, iterations=ITERATIONS):\n",
    "    mask_array = np.array(mask)\n",
    "    kernel = np.ones((3, 3), np.uint8)\n",
    "    expanded_mask = mask_array\n",
    "    for _ in range(iterations):\n",
    "        expanded_mask = cv2.dilate(expanded_mask, kernel, iterations=1)\n",
    "    return Image.fromarray(expanded_mask)"
   ]
  },
  {
   "cell_type": "code",
   "execution_count": 4,
   "id": "84811d0d-d005-4501-8c1f-a7869ffdddd3",
   "metadata": {},
   "outputs": [
    {
     "name": "stdout",
     "output_type": "stream",
     "text": [
      "Found 603 images\n"
     ]
    }
   ],
   "source": [
    "\n",
    "# Directories\n",
    "images_dir = './Dataset_new/images'\n",
    "masks_dir = './Dataset_new/masks'\n",
    "\n",
    "# Initialize output\n",
    "image_files = {}\n",
    "\n",
    "# List all files in images and masks directories\n",
    "image_files = [f for f in os.listdir(images_dir) if f.endswith('.jpg') and f in os.listdir(masks_dir)]\n",
    "\n",
    "print(f'Found {len(image_files)} images')\n"
   ]
  },
  {
   "cell_type": "code",
   "execution_count": 5,
   "id": "3a725d5f-01d3-4e7a-8a4b-221c1a8a95f0",
   "metadata": {},
   "outputs": [],
   "source": [
    "# Initialisiere SimpleLama\n",
    "simple_lama = SimpleLama()"
   ]
  },
  {
   "cell_type": "code",
   "execution_count": 6,
   "id": "64eebae8-2c57-4e24-99b9-c8a0983607b1",
   "metadata": {},
   "outputs": [],
   "source": [
    "def image_mask_generator(images_dir, masks_dir, image_files):\n",
    "    \"\"\"\n",
    "    Generator to read images and their corresponding masks.\n",
    "\n",
    "    Args:\n",
    "    - images_dir (str): Directory containing the images.\n",
    "    - masks_dir (str): Directory containing the masks.\n",
    "    - image_files (list): List of filenames (same for both images and masks).\n",
    "\n",
    "    Yields:\n",
    "    - tuple: A tuple containing a PIL image and a corresponding mask (PIL image).\n",
    "    \"\"\"\n",
    "    for fname in image_files:\n",
    "        image_path = os.path.join(images_dir, fname)  # Full path to the image\n",
    "        mask_path = os.path.join(masks_dir, fname)  # Full path to the mask\n",
    "        \n",
    "        # Load image and mask\n",
    "        try:\n",
    "            image = Image.open(image_path).convert('RGB')  # Convert image to RGB\n",
    "            mask = Image.open(mask_path).convert('L')  # Convert mask to grayscale (L)\n",
    "\n",
    "            mask = expand_mask(mask) # Expand mask \n",
    "            \n",
    "            # Yield image and mask\n",
    "            yield fname, image, mask\n",
    "        except Exception as e:\n",
    "            print(f\"Error loading {fname}: {e}\")"
   ]
  },
  {
   "cell_type": "code",
   "execution_count": 7,
   "id": "d08c78e8-e28f-48af-9e8b-81f342350977",
   "metadata": {},
   "outputs": [],
   "source": [
    "import os\n",
    "\n",
    "def save_result(image, result, fname, results_folder):\n",
    "    \"\"\"\n",
    "    Save the result to a directory.\n",
    "    \n",
    "    Args:\n",
    "    - image (PIL.Image): The input image.\n",
    "    - result (PIL.Image): The result of the inpainting or processing.\n",
    "    - fname (str): The filename of the current image.\n",
    "    - results_folder (str): Folder where results will be saved.\n",
    "    \n",
    "    Returns:\n",
    "    - None\n",
    "    \"\"\"\n",
    "\n",
    "    results_dir = f'results/{results_folder}'\n",
    "    \n",
    "    # Ensure the result directory exists\n",
    "    os.makedirs(results_dir, exist_ok=True)\n",
    "    \n",
    "    \n",
    "    # Create the result path for saving the image\n",
    "    result_path = os.path.join(results_dir, fname)\n",
    "    \n",
    "    # Save the result\n",
    "    result.save(result_path)\n",
    "    \n",
    "    # Print the success message\n",
    "    print(f\"Ergebnis für Bild {fname} gespeichert: {result_path}\")\n",
    "\n",
    "\n",
    "\n"
   ]
  },
  {
   "cell_type": "code",
   "execution_count": 8,
   "id": "1f575b53-98e5-4c93-961f-7cb775a0e640",
   "metadata": {},
   "outputs": [],
   "source": [
    "import torch\n",
    "from torchvision.transforms import ToTensor, Resize, Compose\n",
    "from torchmetrics.image.fid import FrechetInceptionDistance\n",
    "import lpips\n",
    "\n",
    "# Define a fixed image size\n",
    "target_size = (256, 256)  # Resize all images to this size\n",
    "\n",
    "# Preprocessing function to resize and convert images to tensors\n",
    "def preprocess_images(images, target_size=(256, 256)):\n",
    "    \"\"\"\n",
    "    Preprocess images by resizing them to the target size and converting to tensors.\n",
    "\n",
    "    Args:\n",
    "    - images (list of PIL Images): The list of images to preprocess.\n",
    "    - target_size (tuple): The target size to resize images to (default is 256x256).\n",
    "\n",
    "    Returns:\n",
    "    - torch.Tensor: A tensor containing all preprocessed images, stacked in a batch.\n",
    "    \"\"\"\n",
    "    transform = Compose([\n",
    "        Resize(target_size),  # Resize the images to the target size\n",
    "        ToTensor(),  # Convert the images to tensor\n",
    "    ])\n",
    "\n",
    "    # Apply the transformation to each image in the list\n",
    "    image_tensors = [transform(image) for image in images]\n",
    "\n",
    "    # Stack the tensors into a single batch\n",
    "    stacked_tensor = torch.stack(image_tensors)\n",
    "    \n",
    "    return stacked_tensor\n",
    "\n",
    "\n",
    "# Error calculation function to compute the FID score\n",
    "def calculate_fid(real_images_tensor, infilled_images_tensor):\n",
    "    \"\"\"\n",
    "    Calculate the Fréchet Inception Distance (FID) between real and Lama generated images.\n",
    "\n",
    "    Args:\n",
    "    - real_images_tensor (tensor): The tensor of real images.\n",
    "    - infilled_images_tensor (list of PIL Images): The tensor of infilled images.\n",
    "\n",
    "    Returns:\n",
    "    - float: The FID score.\n",
    "    \"\"\"\n",
    "    # Initialize the FID metric\n",
    "    fid = FrechetInceptionDistance(normalize=True)\n",
    "\n",
    "    # Update the FID with the preprocessed images\n",
    "    fid.update(real_images_tensor, real=True)\n",
    "    fid.update(infilled_images_tensor, real=False)\n",
    "\n",
    "    # Calculate and return the FID score\n",
    "    return float(fid.compute())\n",
    "\n",
    "\n",
    "# LPIPS calculation function to compute the LPIPS score\n",
    "def calculate_lpips(real_images_tensor, infilled_images_tensor):\n",
    "    \"\"\"\n",
    "    Calculate the Learned Perceptual Image Patch Similarity (LPIPS) between real and Lama generated images.\n",
    "\n",
    "    Args:\n",
    "    - real_images_tensor (tensor): The tensor of real images.\n",
    "    - infilled_images_tensor (list of PIL Images): The tensor of infilled images.\n",
    "\n",
    "    Returns:\n",
    "    - float: The LPIPS score.\n",
    "    \"\"\"\n",
    "\n",
    "    # Load the LPIPS model\n",
    "    loss_fn = lpips.LPIPS(net='alex')  # Using AlexNet architecture for LPIPS\n",
    "\n",
    "\n",
    "    # Compute the LPIPS score\n",
    "    lpips_score = loss_fn(real_images_tensor, infilled_images_tensor)\n",
    "\n",
    "    # Return the average LPIPS score\n",
    "    return lpips_score.mean().item()\n",
    "\n"
   ]
  },
  {
   "cell_type": "code",
   "execution_count": 9,
   "id": "2052f419-cbe7-4512-aaf6-73de47bdb4d4",
   "metadata": {},
   "outputs": [
    {
     "name": "stdout",
     "output_type": "stream",
     "text": [
      "Ergebnis für Bild ADE_train_00001504.jpg gespeichert: results/lama/ADE_train_00001504.jpg\n",
      "Ergebnis für Bild ADE_train_00012219.jpg gespeichert: results/lama/ADE_train_00012219.jpg\n",
      "Ergebnis für Bild ADE_train_00001716.jpg gespeichert: results/lama/ADE_train_00001716.jpg\n",
      "Ergebnis für Bild ADE_train_00001758.jpg gespeichert: results/lama/ADE_train_00001758.jpg\n",
      "Ergebnis für Bild ADE_train_00001561.jpg gespeichert: results/lama/ADE_train_00001561.jpg\n",
      "Ergebnis für Bild ADE_train_00012246.jpg gespeichert: results/lama/ADE_train_00012246.jpg\n",
      "Ergebnis für Bild ADE_train_00001522.jpg gespeichert: results/lama/ADE_train_00001522.jpg\n",
      "Ergebnis für Bild ADE_train_00005280.jpg gespeichert: results/lama/ADE_train_00005280.jpg\n",
      "Ergebnis für Bild ADE_train_00001763.jpg gespeichert: results/lama/ADE_train_00001763.jpg\n",
      "Ergebnis für Bild ADE_train_00012220.jpg gespeichert: results/lama/ADE_train_00012220.jpg\n",
      "Ergebnis für Bild ADE_train_00003093.jpg gespeichert: results/lama/ADE_train_00003093.jpg\n",
      "Ergebnis für Bild ADE_train_00001850.jpg gespeichert: results/lama/ADE_train_00001850.jpg\n",
      "Ergebnis für Bild ADE_train_00001635.jpg gespeichert: results/lama/ADE_train_00001635.jpg\n",
      "Ergebnis für Bild ADE_train_00008819.jpg gespeichert: results/lama/ADE_train_00008819.jpg\n",
      "Ergebnis für Bild ADE_train_00012185.jpg gespeichert: results/lama/ADE_train_00012185.jpg\n",
      "Ergebnis für Bild ADE_train_00022681.jpg gespeichert: results/lama/ADE_train_00022681.jpg\n",
      "Ergebnis für Bild ADE_train_00022684.jpg gespeichert: results/lama/ADE_train_00022684.jpg\n",
      "Ergebnis für Bild ADE_train_00001222.jpg gespeichert: results/lama/ADE_train_00001222.jpg\n",
      "Ergebnis für Bild ADE_train_00008798.jpg gespeichert: results/lama/ADE_train_00008798.jpg\n",
      "Ergebnis für Bild ADE_train_00001746.jpg gespeichert: results/lama/ADE_train_00001746.jpg\n",
      "Ergebnis für Bild ADE_train_00025047.jpg gespeichert: results/lama/ADE_train_00025047.jpg\n",
      "Ergebnis für Bild ADE_train_00002031.jpg gespeichert: results/lama/ADE_train_00002031.jpg\n",
      "Ergebnis für Bild ADE_train_00001240.jpg gespeichert: results/lama/ADE_train_00001240.jpg\n",
      "Ergebnis für Bild ADE_train_00022698.jpg gespeichert: results/lama/ADE_train_00022698.jpg\n",
      "Ergebnis für Bild ADE_train_00001735.jpg gespeichert: results/lama/ADE_train_00001735.jpg\n",
      "Ergebnis für Bild ADE_train_00005350.jpg gespeichert: results/lama/ADE_train_00005350.jpg\n",
      "Ergebnis für Bild ADE_train_00001726.jpg gespeichert: results/lama/ADE_train_00001726.jpg\n",
      "Ergebnis für Bild ADE_train_00022999.jpg gespeichert: results/lama/ADE_train_00022999.jpg\n",
      "Ergebnis für Bild ADE_train_00001720.jpg gespeichert: results/lama/ADE_train_00001720.jpg\n",
      "Ergebnis für Bild ADE_train_00001346.jpg gespeichert: results/lama/ADE_train_00001346.jpg\n",
      "Ergebnis für Bild ADE_train_00001787.jpg gespeichert: results/lama/ADE_train_00001787.jpg\n",
      "Ergebnis für Bild ADE_train_00004842.jpg gespeichert: results/lama/ADE_train_00004842.jpg\n",
      "Ergebnis für Bild ADE_train_00022695.jpg gespeichert: results/lama/ADE_train_00022695.jpg\n",
      "Ergebnis für Bild ADE_frame_00000015.jpg gespeichert: results/lama/ADE_frame_00000015.jpg\n",
      "Ergebnis für Bild ADE_train_00004251.jpg gespeichert: results/lama/ADE_train_00004251.jpg\n",
      "Ergebnis für Bild ADE_train_00022700.jpg gespeichert: results/lama/ADE_train_00022700.jpg\n",
      "Ergebnis für Bild ADE_train_00001713.jpg gespeichert: results/lama/ADE_train_00001713.jpg\n",
      "Ergebnis für Bild ADE_train_00001554.jpg gespeichert: results/lama/ADE_train_00001554.jpg\n",
      "Ergebnis für Bild ADE_train_00009972.jpg gespeichert: results/lama/ADE_train_00009972.jpg\n",
      "Ergebnis für Bild ADE_train_00001822.jpg gespeichert: results/lama/ADE_train_00001822.jpg\n",
      "Ergebnis für Bild ADE_train_00012289.jpg gespeichert: results/lama/ADE_train_00012289.jpg\n",
      "Ergebnis für Bild ADE_train_00002279.jpg gespeichert: results/lama/ADE_train_00002279.jpg\n",
      "Ergebnis für Bild ADE_train_00019283.jpg gespeichert: results/lama/ADE_train_00019283.jpg\n",
      "Ergebnis für Bild ADE_train_00001759.jpg gespeichert: results/lama/ADE_train_00001759.jpg\n",
      "Ergebnis für Bild ADE_train_00001552.jpg gespeichert: results/lama/ADE_train_00001552.jpg\n",
      "Ergebnis für Bild ADE_train_00008815.jpg gespeichert: results/lama/ADE_train_00008815.jpg\n",
      "Ergebnis für Bild ADE_train_00003088.jpg gespeichert: results/lama/ADE_train_00003088.jpg\n",
      "Ergebnis für Bild ADE_train_00001649.jpg gespeichert: results/lama/ADE_train_00001649.jpg\n",
      "Ergebnis für Bild ADE_train_00001633.jpg gespeichert: results/lama/ADE_train_00001633.jpg\n",
      "Ergebnis für Bild ADE_train_00016147.jpg gespeichert: results/lama/ADE_train_00016147.jpg\n",
      "Ergebnis für Bild ADE_train_00001728.jpg gespeichert: results/lama/ADE_train_00001728.jpg\n",
      "Ergebnis für Bild ADE_train_00012248.jpg gespeichert: results/lama/ADE_train_00012248.jpg\n",
      "Ergebnis für Bild ADE_train_00010068.jpg gespeichert: results/lama/ADE_train_00010068.jpg\n",
      "Ergebnis für Bild ADE_train_00001562.jpg gespeichert: results/lama/ADE_train_00001562.jpg\n",
      "Ergebnis für Bild ADE_train_00002461.jpg gespeichert: results/lama/ADE_train_00002461.jpg\n",
      "Ergebnis für Bild ADE_train_00003089.jpg gespeichert: results/lama/ADE_train_00003089.jpg\n",
      "Ergebnis für Bild ADE_train_00010766.jpg gespeichert: results/lama/ADE_train_00010766.jpg\n",
      "Ergebnis für Bild ADE_train_00001502.jpg gespeichert: results/lama/ADE_train_00001502.jpg\n",
      "Ergebnis für Bild ADE_train_00010062.jpg gespeichert: results/lama/ADE_train_00010062.jpg\n",
      "Ergebnis für Bild ADE_train_00001663.jpg gespeichert: results/lama/ADE_train_00001663.jpg\n",
      "Ergebnis für Bild ADE_train_00002296.jpg gespeichert: results/lama/ADE_train_00002296.jpg\n",
      "Ergebnis für Bild ADE_train_00001727.jpg gespeichert: results/lama/ADE_train_00001727.jpg\n",
      "Ergebnis für Bild ADE_train_00001750.jpg gespeichert: results/lama/ADE_train_00001750.jpg\n",
      "Ergebnis für Bild ADE_train_00002287.jpg gespeichert: results/lama/ADE_train_00002287.jpg\n",
      "Ergebnis für Bild ADE_train_00022701.jpg gespeichert: results/lama/ADE_train_00022701.jpg\n",
      "Ergebnis für Bild ADE_train_00002351.jpg gespeichert: results/lama/ADE_train_00002351.jpg\n",
      "Ergebnis für Bild ADE_train_00001765.jpg gespeichert: results/lama/ADE_train_00001765.jpg\n",
      "Ergebnis für Bild ADE_train_00001490.jpg gespeichert: results/lama/ADE_train_00001490.jpg\n",
      "Ergebnis für Bild ADE_train_00019290.jpg gespeichert: results/lama/ADE_train_00019290.jpg\n",
      "Ergebnis für Bild ADE_train_00012270.jpg gespeichert: results/lama/ADE_train_00012270.jpg\n",
      "Ergebnis für Bild ADE_train_00001753.jpg gespeichert: results/lama/ADE_train_00001753.jpg\n",
      "Ergebnis für Bild ADE_train_00001773.jpg gespeichert: results/lama/ADE_train_00001773.jpg\n",
      "Ergebnis für Bild ADE_train_00001788.jpg gespeichert: results/lama/ADE_train_00001788.jpg\n",
      "Ergebnis für Bild ADE_train_00001761.jpg gespeichert: results/lama/ADE_train_00001761.jpg\n",
      "Ergebnis für Bild ADE_train_00001689.jpg gespeichert: results/lama/ADE_train_00001689.jpg\n",
      "Ergebnis für Bild ADE_train_00001657.jpg gespeichert: results/lama/ADE_train_00001657.jpg\n",
      "Ergebnis für Bild ADE_train_00000651.jpg gespeichert: results/lama/ADE_train_00000651.jpg\n",
      "Ergebnis für Bild ADE_train_00002293.jpg gespeichert: results/lama/ADE_train_00002293.jpg\n",
      "Ergebnis für Bild ADE_train_00020241.jpg gespeichert: results/lama/ADE_train_00020241.jpg\n",
      "Ergebnis für Bild ADE_train_00008801.jpg gespeichert: results/lama/ADE_train_00008801.jpg\n",
      "Ergebnis für Bild ADE_train_00002281.jpg gespeichert: results/lama/ADE_train_00002281.jpg\n",
      "Ergebnis für Bild ADE_train_00001499.jpg gespeichert: results/lama/ADE_train_00001499.jpg\n",
      "Ergebnis für Bild ADE_train_00002140.jpg gespeichert: results/lama/ADE_train_00002140.jpg\n",
      "Ergebnis für Bild ADE_train_00003094.jpg gespeichert: results/lama/ADE_train_00003094.jpg\n",
      "Ergebnis für Bild ADE_train_00001667.jpg gespeichert: results/lama/ADE_train_00001667.jpg\n",
      "Ergebnis für Bild ADE_train_00000663.jpg gespeichert: results/lama/ADE_train_00000663.jpg\n",
      "Ergebnis für Bild ADE_train_00002291.jpg gespeichert: results/lama/ADE_train_00002291.jpg\n",
      "Ergebnis für Bild ADE_train_00001760.jpg gespeichert: results/lama/ADE_train_00001760.jpg\n",
      "Ergebnis für Bild ADE_train_00022685.jpg gespeichert: results/lama/ADE_train_00022685.jpg\n",
      "Ergebnis für Bild ADE_train_00022678.jpg gespeichert: results/lama/ADE_train_00022678.jpg\n",
      "Ergebnis für Bild ADE_train_00024113.jpg gespeichert: results/lama/ADE_train_00024113.jpg\n",
      "Ergebnis für Bild ADE_train_00000555.jpg gespeichert: results/lama/ADE_train_00000555.jpg\n",
      "Ergebnis für Bild ADE_train_00001767.jpg gespeichert: results/lama/ADE_train_00001767.jpg\n",
      "Ergebnis für Bild ADE_train_00019294.jpg gespeichert: results/lama/ADE_train_00019294.jpg\n",
      "Ergebnis für Bild ADE_train_00021742.jpg gespeichert: results/lama/ADE_train_00021742.jpg\n",
      "Ergebnis für Bild ADE_train_00011671.jpg gespeichert: results/lama/ADE_train_00011671.jpg\n",
      "Ergebnis für Bild ADE_train_00001500.jpg gespeichert: results/lama/ADE_train_00001500.jpg\n",
      "Ergebnis für Bild ADE_train_00001802.jpg gespeichert: results/lama/ADE_train_00001802.jpg\n",
      "Ergebnis für Bild ADE_train_00012247.jpg gespeichert: results/lama/ADE_train_00012247.jpg\n",
      "Ergebnis für Bild ADE_train_00011663.jpg gespeichert: results/lama/ADE_train_00011663.jpg\n",
      "Ergebnis für Bild ADE_train_00012228.jpg gespeichert: results/lama/ADE_train_00012228.jpg\n",
      "Ergebnis für Bild ADE_train_00001757.jpg gespeichert: results/lama/ADE_train_00001757.jpg\n",
      "Ergebnis für Bild ADE_train_00004955.jpg gespeichert: results/lama/ADE_train_00004955.jpg\n",
      "Ergebnis für Bild ADE_train_00022697.jpg gespeichert: results/lama/ADE_train_00022697.jpg\n",
      "Ergebnis für Bild ADE_train_00001741.jpg gespeichert: results/lama/ADE_train_00001741.jpg\n",
      "Ergebnis für Bild ADE_train_00022987.jpg gespeichert: results/lama/ADE_train_00022987.jpg\n",
      "Ergebnis für Bild ADE_train_00001698.jpg gespeichert: results/lama/ADE_train_00001698.jpg\n",
      "Ergebnis für Bild ADE_train_00001711.jpg gespeichert: results/lama/ADE_train_00001711.jpg\n",
      "Ergebnis für Bild ADE_train_00022635.jpg gespeichert: results/lama/ADE_train_00022635.jpg\n",
      "Ergebnis für Bild ADE_train_00000664.jpg gespeichert: results/lama/ADE_train_00000664.jpg\n",
      "Ergebnis für Bild ADE_train_00004951.jpg gespeichert: results/lama/ADE_train_00004951.jpg\n",
      "Ergebnis für Bild ADE_train_00002462.jpg gespeichert: results/lama/ADE_train_00002462.jpg\n",
      "Ergebnis für Bild ADE_train_00001694.jpg gespeichert: results/lama/ADE_train_00001694.jpg\n",
      "Ergebnis für Bild ADE_train_00002301.jpg gespeichert: results/lama/ADE_train_00002301.jpg\n",
      "Ergebnis für Bild ADE_train_00022683.jpg gespeichert: results/lama/ADE_train_00022683.jpg\n",
      "Ergebnis für Bild ADE_train_00004950.jpg gespeichert: results/lama/ADE_train_00004950.jpg\n",
      "Ergebnis für Bild ADE_train_00000656.jpg gespeichert: results/lama/ADE_train_00000656.jpg\n",
      "Ergebnis für Bild ADE_train_00012216.jpg gespeichert: results/lama/ADE_train_00012216.jpg\n",
      "Ergebnis für Bild ADE_train_00012223.jpg gespeichert: results/lama/ADE_train_00012223.jpg\n",
      "Ergebnis für Bild ADE_train_00000667.jpg gespeichert: results/lama/ADE_train_00000667.jpg\n",
      "Ergebnis für Bild ADE_train_00001688.jpg gespeichert: results/lama/ADE_train_00001688.jpg\n",
      "Ergebnis für Bild ADE_train_00001762.jpg gespeichert: results/lama/ADE_train_00001762.jpg\n",
      "Ergebnis für Bild ADE_train_00019281.jpg gespeichert: results/lama/ADE_train_00019281.jpg\n",
      "Ergebnis für Bild ADE_train_00002298.jpg gespeichert: results/lama/ADE_train_00002298.jpg\n",
      "Ergebnis für Bild ADE_train_00003095.jpg gespeichert: results/lama/ADE_train_00003095.jpg\n",
      "Ergebnis für Bild ADE_train_00022692.jpg gespeichert: results/lama/ADE_train_00022692.jpg\n",
      "Ergebnis für Bild ADE_train_00022703.jpg gespeichert: results/lama/ADE_train_00022703.jpg\n",
      "Ergebnis für Bild ADE_train_00023137.jpg gespeichert: results/lama/ADE_train_00023137.jpg\n",
      "Ergebnis für Bild ADE_train_00005345.jpg gespeichert: results/lama/ADE_train_00005345.jpg\n",
      "Ergebnis für Bild ADE_train_00001550.jpg gespeichert: results/lama/ADE_train_00001550.jpg\n",
      "Ergebnis für Bild ADE_train_00004952.jpg gespeichert: results/lama/ADE_train_00004952.jpg\n",
      "Ergebnis für Bild ADE_train_00011664.jpg gespeichert: results/lama/ADE_train_00011664.jpg\n",
      "Ergebnis für Bild ADE_train_00020475.jpg gespeichert: results/lama/ADE_train_00020475.jpg\n",
      "Ergebnis für Bild ADE_train_00022682.jpg gespeichert: results/lama/ADE_train_00022682.jpg\n",
      "Ergebnis für Bild ADE_train_00007484.jpg gespeichert: results/lama/ADE_train_00007484.jpg\n",
      "Ergebnis für Bild ADE_train_00003083.jpg gespeichert: results/lama/ADE_train_00003083.jpg\n",
      "Ergebnis für Bild ADE_train_00001704.jpg gespeichert: results/lama/ADE_train_00001704.jpg\n",
      "Ergebnis für Bild ADE_train_00001336.jpg gespeichert: results/lama/ADE_train_00001336.jpg\n",
      "Ergebnis für Bild ADE_train_00001774.jpg gespeichert: results/lama/ADE_train_00001774.jpg\n",
      "Ergebnis für Bild ADE_train_00001697.jpg gespeichert: results/lama/ADE_train_00001697.jpg\n",
      "Ergebnis für Bild ADE_train_00003161.jpg gespeichert: results/lama/ADE_train_00003161.jpg\n",
      "Ergebnis für Bild ADE_train_00012243.jpg gespeichert: results/lama/ADE_train_00012243.jpg\n",
      "Ergebnis für Bild ADE_train_00005328.jpg gespeichert: results/lama/ADE_train_00005328.jpg\n",
      "Ergebnis für Bild ADE_train_00020247.jpg gespeichert: results/lama/ADE_train_00020247.jpg\n",
      "Ergebnis für Bild ADE_train_00001489.jpg gespeichert: results/lama/ADE_train_00001489.jpg\n",
      "Ergebnis für Bild ADE_frame_00000061.jpg gespeichert: results/lama/ADE_frame_00000061.jpg\n",
      "Ergebnis für Bild ADE_train_00022727.jpg gespeichert: results/lama/ADE_train_00022727.jpg\n",
      "Ergebnis für Bild ADE_train_00024577.jpg gespeichert: results/lama/ADE_train_00024577.jpg\n",
      "Ergebnis für Bild ADE_train_00001701.jpg gespeichert: results/lama/ADE_train_00001701.jpg\n",
      "Ergebnis für Bild ADE_train_00001498.jpg gespeichert: results/lama/ADE_train_00001498.jpg\n",
      "Ergebnis für Bild ADE_train_00008812.jpg gespeichert: results/lama/ADE_train_00008812.jpg\n",
      "Ergebnis für Bild ADE_train_00022686.jpg gespeichert: results/lama/ADE_train_00022686.jpg\n",
      "Ergebnis für Bild ADE_train_00019286.jpg gespeichert: results/lama/ADE_train_00019286.jpg\n",
      "Ergebnis für Bild ADE_train_00008803.jpg gespeichert: results/lama/ADE_train_00008803.jpg\n",
      "Ergebnis für Bild ADE_train_00019291.jpg gespeichert: results/lama/ADE_train_00019291.jpg\n",
      "Ergebnis für Bild ADE_train_00019004.jpg gespeichert: results/lama/ADE_train_00019004.jpg\n",
      "Ergebnis für Bild ADE_train_00003079.jpg gespeichert: results/lama/ADE_train_00003079.jpg\n",
      "Ergebnis für Bild ADE_train_00016855.jpg gespeichert: results/lama/ADE_train_00016855.jpg\n",
      "Ergebnis für Bild ADE_train_00006150.jpg gespeichert: results/lama/ADE_train_00006150.jpg\n",
      "Ergebnis für Bild ADE_train_00001747.jpg gespeichert: results/lama/ADE_train_00001747.jpg\n",
      "Ergebnis für Bild ADE_train_00025118.jpg gespeichert: results/lama/ADE_train_00025118.jpg\n",
      "Ergebnis für Bild ADE_train_00003104.jpg gespeichert: results/lama/ADE_train_00003104.jpg\n",
      "Ergebnis für Bild ADE_train_00003078.jpg gespeichert: results/lama/ADE_train_00003078.jpg\n",
      "Ergebnis für Bild ADE_train_00022762.jpg gespeichert: results/lama/ADE_train_00022762.jpg\n",
      "Ergebnis für Bild ADE_train_00001717.jpg gespeichert: results/lama/ADE_train_00001717.jpg\n",
      "Ergebnis für Bild ADE_train_00012214.jpg gespeichert: results/lama/ADE_train_00012214.jpg\n",
      "Ergebnis für Bild ADE_train_00008808.jpg gespeichert: results/lama/ADE_train_00008808.jpg\n",
      "Ergebnis für Bild ADE_train_00005327.jpg gespeichert: results/lama/ADE_train_00005327.jpg\n",
      "Ergebnis für Bild ADE_train_00019288.jpg gespeichert: results/lama/ADE_train_00019288.jpg\n",
      "Ergebnis für Bild ADE_train_00024362.jpg gespeichert: results/lama/ADE_train_00024362.jpg\n",
      "Ergebnis für Bild ADE_train_00009990.jpg gespeichert: results/lama/ADE_train_00009990.jpg\n",
      "Ergebnis für Bild ADE_train_00003077.jpg gespeichert: results/lama/ADE_train_00003077.jpg\n",
      "Ergebnis für Bild ADE_train_00002274.jpg gespeichert: results/lama/ADE_train_00002274.jpg\n",
      "Ergebnis für Bild ADE_train_00005419.jpg gespeichert: results/lama/ADE_train_00005419.jpg\n",
      "Ergebnis für Bild ADE_train_00001797.jpg gespeichert: results/lama/ADE_train_00001797.jpg\n",
      "Ergebnis für Bild ADE_train_00022699.jpg gespeichert: results/lama/ADE_train_00022699.jpg\n",
      "Ergebnis für Bild ADE_train_00012241.jpg gespeichert: results/lama/ADE_train_00012241.jpg\n",
      "Ergebnis für Bild ADE_train_00022758.jpg gespeichert: results/lama/ADE_train_00022758.jpg\n",
      "Ergebnis für Bild ADE_train_00013811.jpg gespeichert: results/lama/ADE_train_00013811.jpg\n",
      "Ergebnis für Bild ADE_train_00001755.jpg gespeichert: results/lama/ADE_train_00001755.jpg\n",
      "Ergebnis für Bild ADE_train_00001805.jpg gespeichert: results/lama/ADE_train_00001805.jpg\n",
      "Ergebnis für Bild ADE_train_00001974.jpg gespeichert: results/lama/ADE_train_00001974.jpg\n",
      "Ergebnis für Bild ADE_train_00020471.jpg gespeichert: results/lama/ADE_train_00020471.jpg\n",
      "Ergebnis für Bild ADE_frame_00000005.jpg gespeichert: results/lama/ADE_frame_00000005.jpg\n",
      "Ergebnis für Bild ADE_train_00001565.jpg gespeichert: results/lama/ADE_train_00001565.jpg\n",
      "Ergebnis für Bild ADE_train_00012236.jpg gespeichert: results/lama/ADE_train_00012236.jpg\n",
      "Ergebnis für Bild ADE_train_00003169.jpg gespeichert: results/lama/ADE_train_00003169.jpg\n",
      "Ergebnis für Bild ADE_train_00012187.jpg gespeichert: results/lama/ADE_train_00012187.jpg\n",
      "Ergebnis für Bild ADE_train_00022761.jpg gespeichert: results/lama/ADE_train_00022761.jpg\n",
      "Ergebnis für Bild ADE_train_00008217.jpg gespeichert: results/lama/ADE_train_00008217.jpg\n",
      "Ergebnis für Bild ADE_train_00001699.jpg gespeichert: results/lama/ADE_train_00001699.jpg\n",
      "Ergebnis für Bild ADE_train_00002270.jpg gespeichert: results/lama/ADE_train_00002270.jpg\n",
      "Ergebnis für Bild ADE_train_00003082.jpg gespeichert: results/lama/ADE_train_00003082.jpg\n",
      "Ergebnis für Bild ADE_train_00001714.jpg gespeichert: results/lama/ADE_train_00001714.jpg\n",
      "Ergebnis für Bild ADE_train_00001497.jpg gespeichert: results/lama/ADE_train_00001497.jpg\n",
      "Ergebnis für Bild ADE_train_00003091.jpg gespeichert: results/lama/ADE_train_00003091.jpg\n",
      "Ergebnis für Bild ADE_train_00003084.jpg gespeichert: results/lama/ADE_train_00003084.jpg\n",
      "Ergebnis für Bild ADE_train_00002289.jpg gespeichert: results/lama/ADE_train_00002289.jpg\n",
      "Ergebnis für Bild ADE_train_00001237.jpg gespeichert: results/lama/ADE_train_00001237.jpg\n",
      "Ergebnis für Bild ADE_train_00001811.jpg gespeichert: results/lama/ADE_train_00001811.jpg\n",
      "Ergebnis für Bild ADE_frame_00000293.jpg gespeichert: results/lama/ADE_frame_00000293.jpg\n",
      "Ergebnis für Bild ADE_train_00005172.jpg gespeichert: results/lama/ADE_train_00005172.jpg\n",
      "Ergebnis für Bild ADE_train_00008810.jpg gespeichert: results/lama/ADE_train_00008810.jpg\n",
      "Ergebnis für Bild ADE_train_00020279.jpg gespeichert: results/lama/ADE_train_00020279.jpg\n",
      "Ergebnis für Bild ADE_train_00022706.jpg gespeichert: results/lama/ADE_train_00022706.jpg\n",
      "Ergebnis für Bild ADE_train_00001640.jpg gespeichert: results/lama/ADE_train_00001640.jpg\n",
      "Ergebnis für Bild ADE_train_00000653.jpg gespeichert: results/lama/ADE_train_00000653.jpg\n",
      "Ergebnis für Bild ADE_train_00001495.jpg gespeichert: results/lama/ADE_train_00001495.jpg\n",
      "Ergebnis für Bild ADE_train_00001703.jpg gespeichert: results/lama/ADE_train_00001703.jpg\n",
      "Ergebnis für Bild ADE_train_00020192.jpg gespeichert: results/lama/ADE_train_00020192.jpg\n",
      "Ergebnis für Bild ADE_train_00009992.jpg gespeichert: results/lama/ADE_train_00009992.jpg\n",
      "Ergebnis für Bild ADE_train_00012233.jpg gespeichert: results/lama/ADE_train_00012233.jpg\n",
      "Ergebnis für Bild ADE_train_00016149.jpg gespeichert: results/lama/ADE_train_00016149.jpg\n",
      "Ergebnis für Bild ADE_train_00002143.jpg gespeichert: results/lama/ADE_train_00002143.jpg\n",
      "Ergebnis für Bild ADE_train_00002295.jpg gespeichert: results/lama/ADE_train_00002295.jpg\n",
      "Ergebnis für Bild ADE_train_00008214.jpg gespeichert: results/lama/ADE_train_00008214.jpg\n",
      "Ergebnis für Bild ADE_train_00001496.jpg gespeichert: results/lama/ADE_train_00001496.jpg\n",
      "Ergebnis für Bild ADE_train_00001570.jpg gespeichert: results/lama/ADE_train_00001570.jpg\n",
      "Ergebnis für Bild ADE_train_00006148.jpg gespeichert: results/lama/ADE_train_00006148.jpg\n",
      "Ergebnis für Bild ADE_train_00020244.jpg gespeichert: results/lama/ADE_train_00020244.jpg\n",
      "Ergebnis für Bild ADE_train_00001721.jpg gespeichert: results/lama/ADE_train_00001721.jpg\n",
      "Ergebnis für Bild ADE_train_00001668.jpg gespeichert: results/lama/ADE_train_00001668.jpg\n",
      "Ergebnis für Bild ADE_train_00002271.jpg gespeichert: results/lama/ADE_train_00002271.jpg\n",
      "Ergebnis für Bild ADE_train_00021745.jpg gespeichert: results/lama/ADE_train_00021745.jpg\n",
      "Ergebnis für Bild ADE_train_00001756.jpg gespeichert: results/lama/ADE_train_00001756.jpg\n",
      "Ergebnis für Bild ADE_train_00011666.jpg gespeichert: results/lama/ADE_train_00011666.jpg\n",
      "Ergebnis für Bild ADE_train_00023487.jpg gespeichert: results/lama/ADE_train_00023487.jpg\n",
      "Ergebnis für Bild ADE_train_00002302.jpg gespeichert: results/lama/ADE_train_00002302.jpg\n",
      "Ergebnis für Bild ADE_train_00001776.jpg gespeichert: results/lama/ADE_train_00001776.jpg\n",
      "Ergebnis für Bild ADE_train_00001786.jpg gespeichert: results/lama/ADE_train_00001786.jpg\n",
      "Ergebnis für Bild ADE_train_00011904.jpg gespeichert: results/lama/ADE_train_00011904.jpg\n",
      "Ergebnis für Bild ADE_train_00000674.jpg gespeichert: results/lama/ADE_train_00000674.jpg\n",
      "Ergebnis für Bild ADE_train_00000655.jpg gespeichert: results/lama/ADE_train_00000655.jpg\n",
      "Ergebnis für Bild ADE_train_00019298.jpg gespeichert: results/lama/ADE_train_00019298.jpg\n",
      "Ergebnis für Bild ADE_train_00025115.jpg gespeichert: results/lama/ADE_train_00025115.jpg\n",
      "Ergebnis für Bild ADE_train_00022708.jpg gespeichert: results/lama/ADE_train_00022708.jpg\n",
      "Ergebnis für Bild ADE_train_00022663.jpg gespeichert: results/lama/ADE_train_00022663.jpg\n",
      "Ergebnis für Bild ADE_train_00002286.jpg gespeichert: results/lama/ADE_train_00002286.jpg\n",
      "Ergebnis für Bild ADE_train_00003090.jpg gespeichert: results/lama/ADE_train_00003090.jpg\n",
      "Ergebnis für Bild ADE_train_00005334.jpg gespeichert: results/lama/ADE_train_00005334.jpg\n",
      "Ergebnis für Bild ADE_frame_00000152.jpg gespeichert: results/lama/ADE_frame_00000152.jpg\n",
      "Ergebnis für Bild ADE_train_00002141.jpg gespeichert: results/lama/ADE_train_00002141.jpg\n",
      "Ergebnis für Bild ADE_train_00000668.jpg gespeichert: results/lama/ADE_train_00000668.jpg\n",
      "Ergebnis für Bild ADE_train_00008799.jpg gespeichert: results/lama/ADE_train_00008799.jpg\n",
      "Ergebnis für Bild ADE_train_00023640.jpg gespeichert: results/lama/ADE_train_00023640.jpg\n",
      "Ergebnis für Bild ADE_frame_00000219.jpg gespeichert: results/lama/ADE_frame_00000219.jpg\n",
      "Ergebnis für Bild ADE_train_00008805.jpg gespeichert: results/lama/ADE_train_00008805.jpg\n",
      "Ergebnis für Bild ADE_train_00022690.jpg gespeichert: results/lama/ADE_train_00022690.jpg\n",
      "Ergebnis für Bild ADE_train_00001637.jpg gespeichert: results/lama/ADE_train_00001637.jpg\n",
      "Ergebnis für Bild ADE_train_00019289.jpg gespeichert: results/lama/ADE_train_00019289.jpg\n",
      "Ergebnis für Bild ADE_train_00001638.jpg gespeichert: results/lama/ADE_train_00001638.jpg\n",
      "Ergebnis für Bild ADE_train_00008806.jpg gespeichert: results/lama/ADE_train_00008806.jpg\n",
      "Ergebnis für Bild ADE_train_00001653.jpg gespeichert: results/lama/ADE_train_00001653.jpg\n",
      "Ergebnis für Bild ADE_train_00001751.jpg gespeichert: results/lama/ADE_train_00001751.jpg\n",
      "Ergebnis für Bild ADE_train_00011668.jpg gespeichert: results/lama/ADE_train_00011668.jpg\n",
      "Ergebnis für Bild ADE_train_00021740.jpg gespeichert: results/lama/ADE_train_00021740.jpg\n",
      "Ergebnis für Bild ADE_frame_00000007.jpg gespeichert: results/lama/ADE_frame_00000007.jpg\n",
      "Ergebnis für Bild ADE_train_00015623.jpg gespeichert: results/lama/ADE_train_00015623.jpg\n",
      "Ergebnis für Bild ADE_train_00003114.jpg gespeichert: results/lama/ADE_train_00003114.jpg\n",
      "Ergebnis für Bild ADE_train_00015288.jpg gespeichert: results/lama/ADE_train_00015288.jpg\n",
      "Ergebnis für Bild ADE_train_00005348.jpg gespeichert: results/lama/ADE_train_00005348.jpg\n",
      "Ergebnis für Bild ADE_train_00010000.jpg gespeichert: results/lama/ADE_train_00010000.jpg\n",
      "Ergebnis für Bild ADE_train_00021747.jpg gespeichert: results/lama/ADE_train_00021747.jpg\n",
      "Ergebnis für Bild ADE_train_00002345.jpg gespeichert: results/lama/ADE_train_00002345.jpg\n",
      "Ergebnis für Bild ADE_train_00001778.jpg gespeichert: results/lama/ADE_train_00001778.jpg\n",
      "Ergebnis für Bild ADE_train_00003098.jpg gespeichert: results/lama/ADE_train_00003098.jpg\n",
      "Ergebnis für Bild ADE_train_00005326.jpg gespeichert: results/lama/ADE_train_00005326.jpg\n",
      "Ergebnis für Bild ADE_train_00003081.jpg gespeichert: results/lama/ADE_train_00003081.jpg\n",
      "Ergebnis für Bild ADE_train_00020078.jpg gespeichert: results/lama/ADE_train_00020078.jpg\n",
      "Ergebnis für Bild ADE_train_00022694.jpg gespeichert: results/lama/ADE_train_00022694.jpg\n",
      "Ergebnis für Bild ADE_train_00000670.jpg gespeichert: results/lama/ADE_train_00000670.jpg\n",
      "Ergebnis für Bild ADE_train_00020473.jpg gespeichert: results/lama/ADE_train_00020473.jpg\n",
      "Ergebnis für Bild ADE_train_00002284.jpg gespeichert: results/lama/ADE_train_00002284.jpg\n",
      "Ergebnis für Bild ADE_train_00006616.jpg gespeichert: results/lama/ADE_train_00006616.jpg\n",
      "Ergebnis für Bild ADE_train_00001670.jpg gespeichert: results/lama/ADE_train_00001670.jpg\n",
      "Ergebnis für Bild ADE_train_00002300.jpg gespeichert: results/lama/ADE_train_00002300.jpg\n",
      "Ergebnis für Bild ADE_train_00013808.jpg gespeichert: results/lama/ADE_train_00013808.jpg\n",
      "Ergebnis für Bild ADE_train_00001754.jpg gespeichert: results/lama/ADE_train_00001754.jpg\n",
      "Ergebnis für Bild ADE_train_00012218.jpg gespeichert: results/lama/ADE_train_00012218.jpg\n",
      "Ergebnis für Bild ADE_train_00006405.jpg gespeichert: results/lama/ADE_train_00006405.jpg\n",
      "Ergebnis für Bild ADE_train_00002463.jpg gespeichert: results/lama/ADE_train_00002463.jpg\n",
      "Ergebnis für Bild ADE_train_00008807.jpg gespeichert: results/lama/ADE_train_00008807.jpg\n",
      "Ergebnis für Bild ADE_train_00011662.jpg gespeichert: results/lama/ADE_train_00011662.jpg\n",
      "Ergebnis für Bild ADE_train_00022680.jpg gespeichert: results/lama/ADE_train_00022680.jpg\n",
      "Ergebnis für Bild ADE_frame_00000071.jpg gespeichert: results/lama/ADE_frame_00000071.jpg\n",
      "Ergebnis für Bild ADE_train_00001702.jpg gespeichert: results/lama/ADE_train_00001702.jpg\n",
      "Ergebnis für Bild ADE_train_00008673.jpg gespeichert: results/lama/ADE_train_00008673.jpg\n",
      "Ergebnis für Bild ADE_train_00002146.jpg gespeichert: results/lama/ADE_train_00002146.jpg\n",
      "Ergebnis für Bild ADE_train_00002000.jpg gespeichert: results/lama/ADE_train_00002000.jpg\n",
      "Ergebnis für Bild ADE_train_00024787.jpg gespeichert: results/lama/ADE_train_00024787.jpg\n",
      "Ergebnis für Bild ADE_train_00001558.jpg gespeichert: results/lama/ADE_train_00001558.jpg\n",
      "Ergebnis für Bild ADE_train_00023133.jpg gespeichert: results/lama/ADE_train_00023133.jpg\n",
      "Ergebnis für Bild ADE_train_00001709.jpg gespeichert: results/lama/ADE_train_00001709.jpg\n",
      "Ergebnis für Bild ADE_train_00005349.jpg gespeichert: results/lama/ADE_train_00005349.jpg\n",
      "Ergebnis für Bild ADE_train_00000665.jpg gespeichert: results/lama/ADE_train_00000665.jpg\n",
      "Ergebnis für Bild ADE_train_00000654.jpg gespeichert: results/lama/ADE_train_00000654.jpg\n",
      "Ergebnis für Bild ADE_train_00001571.jpg gespeichert: results/lama/ADE_train_00001571.jpg\n",
      "Ergebnis für Bild ADE_train_00011667.jpg gespeichert: results/lama/ADE_train_00011667.jpg\n",
      "Ergebnis für Bild ADE_frame_00000094.jpg gespeichert: results/lama/ADE_frame_00000094.jpg\n",
      "Ergebnis für Bild ADE_train_00003087.jpg gespeichert: results/lama/ADE_train_00003087.jpg\n",
      "Ergebnis für Bild ADE_train_00012234.jpg gespeichert: results/lama/ADE_train_00012234.jpg\n",
      "Ergebnis für Bild ADE_train_00013813.jpg gespeichert: results/lama/ADE_train_00013813.jpg\n",
      "Ergebnis für Bild ADE_train_00001800.jpg gespeichert: results/lama/ADE_train_00001800.jpg\n",
      "Ergebnis für Bild ADE_train_00001691.jpg gespeichert: results/lama/ADE_train_00001691.jpg\n",
      "Ergebnis für Bild ADE_train_00001744.jpg gespeichert: results/lama/ADE_train_00001744.jpg\n",
      "Ergebnis für Bild ADE_train_00015702.jpg gespeichert: results/lama/ADE_train_00015702.jpg\n",
      "Ergebnis für Bild ADE_train_00005392.jpg gespeichert: results/lama/ADE_train_00005392.jpg\n",
      "Ergebnis für Bild ADE_train_00001779.jpg gespeichert: results/lama/ADE_train_00001779.jpg\n",
      "Ergebnis für Bild ADE_train_00001743.jpg gespeichert: results/lama/ADE_train_00001743.jpg\n",
      "Ergebnis für Bild ADE_train_00001718.jpg gespeichert: results/lama/ADE_train_00001718.jpg\n",
      "Ergebnis für Bild ADE_train_00000662.jpg gespeichert: results/lama/ADE_train_00000662.jpg\n",
      "Ergebnis für Bild ADE_train_00001559.jpg gespeichert: results/lama/ADE_train_00001559.jpg\n",
      "Ergebnis für Bild ADE_frame_00000255.jpg gespeichert: results/lama/ADE_frame_00000255.jpg\n",
      "Ergebnis für Bild ADE_train_00001659.jpg gespeichert: results/lama/ADE_train_00001659.jpg\n",
      "Ergebnis für Bild ADE_train_00009995.jpg gespeichert: results/lama/ADE_train_00009995.jpg\n",
      "Ergebnis für Bild ADE_train_00001736.jpg gespeichert: results/lama/ADE_train_00001736.jpg\n",
      "Ergebnis für Bild ADE_train_00003085.jpg gespeichert: results/lama/ADE_train_00003085.jpg\n",
      "Ergebnis für Bild ADE_train_00022527.jpg gespeichert: results/lama/ADE_train_00022527.jpg\n",
      "Ergebnis für Bild ADE_frame_00000153.jpg gespeichert: results/lama/ADE_frame_00000153.jpg\n",
      "Ergebnis für Bild ADE_train_00001560.jpg gespeichert: results/lama/ADE_train_00001560.jpg\n",
      "Ergebnis für Bild ADE_train_00019282.jpg gespeichert: results/lama/ADE_train_00019282.jpg\n",
      "Ergebnis für Bild ADE_train_00009977.jpg gespeichert: results/lama/ADE_train_00009977.jpg\n",
      "Ergebnis für Bild ADE_train_00022759.jpg gespeichert: results/lama/ADE_train_00022759.jpg\n",
      "Ergebnis für Bild ADE_train_00000669.jpg gespeichert: results/lama/ADE_train_00000669.jpg\n",
      "Ergebnis für Bild ADE_train_00020469.jpg gespeichert: results/lama/ADE_train_00020469.jpg\n",
      "Ergebnis für Bild ADE_train_00002299.jpg gespeichert: results/lama/ADE_train_00002299.jpg\n",
      "Ergebnis für Bild ADE_train_00001732.jpg gespeichert: results/lama/ADE_train_00001732.jpg\n",
      "Ergebnis für Bild ADE_train_00000003.jpg gespeichert: results/lama/ADE_train_00000003.jpg\n",
      "Ergebnis für Bild ADE_train_00022636.jpg gespeichert: results/lama/ADE_train_00022636.jpg\n",
      "Ergebnis für Bild ADE_train_00005393.jpg gespeichert: results/lama/ADE_train_00005393.jpg\n",
      "Ergebnis für Bild ADE_train_00022632.jpg gespeichert: results/lama/ADE_train_00022632.jpg\n",
      "Ergebnis für Bild ADE_train_00000671.jpg gespeichert: results/lama/ADE_train_00000671.jpg\n",
      "Ergebnis für Bild ADE_train_00001661.jpg gespeichert: results/lama/ADE_train_00001661.jpg\n",
      "Ergebnis für Bild ADE_train_00019005.jpg gespeichert: results/lama/ADE_train_00019005.jpg\n",
      "Ergebnis für Bild ADE_train_00008811.jpg gespeichert: results/lama/ADE_train_00008811.jpg\n",
      "Ergebnis für Bild ADE_train_00000652.jpg gespeichert: results/lama/ADE_train_00000652.jpg\n",
      "Ergebnis für Bild ADE_train_00001792.jpg gespeichert: results/lama/ADE_train_00001792.jpg\n",
      "Ergebnis für Bild ADE_train_00022689.jpg gespeichert: results/lama/ADE_train_00022689.jpg\n",
      "Ergebnis für Bild ADE_train_00022760.jpg gespeichert: results/lama/ADE_train_00022760.jpg\n",
      "Ergebnis für Bild ADE_train_00001768.jpg gespeichert: results/lama/ADE_train_00001768.jpg\n",
      "Ergebnis für Bild ADE_train_00001719.jpg gespeichert: results/lama/ADE_train_00001719.jpg\n",
      "Ergebnis für Bild ADE_train_00001647.jpg gespeichert: results/lama/ADE_train_00001647.jpg\n",
      "Ergebnis für Bild ADE_train_00008814.jpg gespeichert: results/lama/ADE_train_00008814.jpg\n",
      "Ergebnis für Bild ADE_train_00001770.jpg gespeichert: results/lama/ADE_train_00001770.jpg\n",
      "Ergebnis für Bild ADE_train_00001777.jpg gespeichert: results/lama/ADE_train_00001777.jpg\n",
      "Ergebnis für Bild ADE_train_00008809.jpg gespeichert: results/lama/ADE_train_00008809.jpg\n",
      "Ergebnis für Bild ADE_train_00004252.jpg gespeichert: results/lama/ADE_train_00004252.jpg\n",
      "Ergebnis für Bild ADE_train_00020233.jpg gespeichert: results/lama/ADE_train_00020233.jpg\n",
      "Ergebnis für Bild ADE_frame_00000021.jpg gespeichert: results/lama/ADE_frame_00000021.jpg\n",
      "Ergebnis für Bild ADE_train_00008813.jpg gespeichert: results/lama/ADE_train_00008813.jpg\n",
      "Ergebnis für Bild ADE_train_00008800.jpg gespeichert: results/lama/ADE_train_00008800.jpg\n",
      "Ergebnis für Bild ADE_train_00005346.jpg gespeichert: results/lama/ADE_train_00005346.jpg\n",
      "Ergebnis für Bild ADE_train_00003080.jpg gespeichert: results/lama/ADE_train_00003080.jpg\n",
      "Ergebnis für Bild ADE_train_00024363.jpg gespeichert: results/lama/ADE_train_00024363.jpg\n",
      "Ergebnis für Bild ADE_train_00022687.jpg gespeichert: results/lama/ADE_train_00022687.jpg\n",
      "Ergebnis für Bild ADE_train_00022985.jpg gespeichert: results/lama/ADE_train_00022985.jpg\n",
      "Ergebnis für Bild ADE_train_00001723.jpg gespeichert: results/lama/ADE_train_00001723.jpg\n",
      "Ergebnis für Bild ADE_train_00001734.jpg gespeichert: results/lama/ADE_train_00001734.jpg\n",
      "Ergebnis für Bild ADE_train_00004956.jpg gespeichert: results/lama/ADE_train_00004956.jpg\n",
      "Ergebnis für Bild ADE_train_00000584.jpg gespeichert: results/lama/ADE_train_00000584.jpg\n",
      "Ergebnis für Bild ADE_train_00002343.jpg gespeichert: results/lama/ADE_train_00002343.jpg\n",
      "Ergebnis für Bild ADE_train_00013812.jpg gespeichert: results/lama/ADE_train_00013812.jpg\n",
      "Ergebnis für Bild ADE_train_00001641.jpg gespeichert: results/lama/ADE_train_00001641.jpg\n",
      "Ergebnis für Bild ADE_train_00001672.jpg gespeichert: results/lama/ADE_train_00001672.jpg\n",
      "Ergebnis für Bild ADE_train_00002282.jpg gespeichert: results/lama/ADE_train_00002282.jpg\n",
      "Ergebnis für Bild ADE_train_00008816.jpg gespeichert: results/lama/ADE_train_00008816.jpg\n",
      "Ergebnis für Bild ADE_train_00010765.jpg gespeichert: results/lama/ADE_train_00010765.jpg\n",
      "Ergebnis für Bild ADE_train_00020470.jpg gespeichert: results/lama/ADE_train_00020470.jpg\n",
      "Ergebnis für Bild ADE_train_00023926.jpg gespeichert: results/lama/ADE_train_00023926.jpg\n",
      "Ergebnis für Bild ADE_train_00002148.jpg gespeichert: results/lama/ADE_train_00002148.jpg\n",
      "Ergebnis für Bild ADE_train_00005418.jpg gespeichert: results/lama/ADE_train_00005418.jpg\n",
      "Ergebnis für Bild ADE_train_00001682.jpg gespeichert: results/lama/ADE_train_00001682.jpg\n",
      "Ergebnis für Bild ADE_train_00001715.jpg gespeichert: results/lama/ADE_train_00001715.jpg\n",
      "Ergebnis für Bild ADE_train_00001766.jpg gespeichert: results/lama/ADE_train_00001766.jpg\n",
      "Ergebnis für Bild ADE_train_00003092.jpg gespeichert: results/lama/ADE_train_00003092.jpg\n",
      "Ergebnis für Bild ADE_train_00001849.jpg gespeichert: results/lama/ADE_train_00001849.jpg\n",
      "Ergebnis für Bild ADE_train_00001646.jpg gespeichert: results/lama/ADE_train_00001646.jpg\n",
      "Ergebnis für Bild ADE_train_00011914.jpg gespeichert: results/lama/ADE_train_00011914.jpg\n",
      "Ergebnis für Bild ADE_train_00010978.jpg gespeichert: results/lama/ADE_train_00010978.jpg\n",
      "Ergebnis für Bild ADE_train_00022713.jpg gespeichert: results/lama/ADE_train_00022713.jpg\n",
      "Ergebnis für Bild ADE_frame_00000043.jpg gespeichert: results/lama/ADE_frame_00000043.jpg\n",
      "Ergebnis für Bild ADE_train_00012253.jpg gespeichert: results/lama/ADE_train_00012253.jpg\n",
      "Ergebnis für Bild ADE_train_00001705.jpg gespeichert: results/lama/ADE_train_00001705.jpg\n",
      "Ergebnis für Bild ADE_train_00019300.jpg gespeichert: results/lama/ADE_train_00019300.jpg\n",
      "Ergebnis für Bild ADE_frame_00000045.jpg gespeichert: results/lama/ADE_frame_00000045.jpg\n",
      "Ergebnis für Bild ADE_train_00005167.jpg gespeichert: results/lama/ADE_train_00005167.jpg\n",
      "Ergebnis für Bild ADE_train_00011670.jpg gespeichert: results/lama/ADE_train_00011670.jpg\n",
      "Ergebnis für Bild ADE_train_00019293.jpg gespeichert: results/lama/ADE_train_00019293.jpg\n",
      "Ergebnis für Bild ADE_train_00002269.jpg gespeichert: results/lama/ADE_train_00002269.jpg\n",
      "Ergebnis für Bild ADE_train_00001592.jpg gespeichert: results/lama/ADE_train_00001592.jpg\n",
      "Ergebnis für Bild ADE_train_00001666.jpg gespeichert: results/lama/ADE_train_00001666.jpg\n",
      "Ergebnis für Bild ADE_train_00006612.jpg gespeichert: results/lama/ADE_train_00006612.jpg\n",
      "Ergebnis für Bild ADE_train_00004948.jpg gespeichert: results/lama/ADE_train_00004948.jpg\n",
      "Ergebnis für Bild ADE_train_00001995.jpg gespeichert: results/lama/ADE_train_00001995.jpg\n",
      "Ergebnis für Bild ADE_train_00022764.jpg gespeichert: results/lama/ADE_train_00022764.jpg\n",
      "Ergebnis für Bild ADE_train_00005329.jpg gespeichert: results/lama/ADE_train_00005329.jpg\n",
      "Ergebnis für Bild ADE_train_00022702.jpg gespeichert: results/lama/ADE_train_00022702.jpg\n",
      "Ergebnis für Bild ADE_train_00019296.jpg gespeichert: results/lama/ADE_train_00019296.jpg\n",
      "Ergebnis für Bild ADE_train_00001851.jpg gespeichert: results/lama/ADE_train_00001851.jpg\n",
      "Ergebnis für Bild ADE_train_00001696.jpg gespeichert: results/lama/ADE_train_00001696.jpg\n",
      "Ergebnis für Bild ADE_train_00020236.jpg gespeichert: results/lama/ADE_train_00020236.jpg\n",
      "Ergebnis für Bild ADE_train_00000673.jpg gespeichert: results/lama/ADE_train_00000673.jpg\n",
      "Ergebnis für Bild ADE_train_00002277.jpg gespeichert: results/lama/ADE_train_00002277.jpg\n",
      "Ergebnis für Bild ADE_train_00002350.jpg gespeichert: results/lama/ADE_train_00002350.jpg\n",
      "Ergebnis für Bild ADE_frame_00000105.jpg gespeichert: results/lama/ADE_frame_00000105.jpg\n",
      "Ergebnis für Bild ADE_train_00004253.jpg gespeichert: results/lama/ADE_train_00004253.jpg\n",
      "Ergebnis für Bild ADE_train_00022765.jpg gespeichert: results/lama/ADE_train_00022765.jpg\n",
      "Ergebnis für Bild ADE_train_00024074.jpg gespeichert: results/lama/ADE_train_00024074.jpg\n",
      "Ergebnis für Bild ADE_train_00001494.jpg gespeichert: results/lama/ADE_train_00001494.jpg\n",
      "Ergebnis für Bild ADE_frame_00000041.jpg gespeichert: results/lama/ADE_frame_00000041.jpg\n",
      "Ergebnis für Bild ADE_train_00001710.jpg gespeichert: results/lama/ADE_train_00001710.jpg\n",
      "Ergebnis für Bild ADE_frame_00000025.jpg gespeichert: results/lama/ADE_frame_00000025.jpg\n",
      "Ergebnis für Bild ADE_train_00019292.jpg gespeichert: results/lama/ADE_train_00019292.jpg\n",
      "Ergebnis für Bild ADE_train_00002268.jpg gespeichert: results/lama/ADE_train_00002268.jpg\n",
      "Ergebnis für Bild ADE_train_00019285.jpg gespeichert: results/lama/ADE_train_00019285.jpg\n",
      "Ergebnis für Bild ADE_train_00005338.jpg gespeichert: results/lama/ADE_train_00005338.jpg\n",
      "Ergebnis für Bild ADE_train_00020474.jpg gespeichert: results/lama/ADE_train_00020474.jpg\n",
      "Ergebnis für Bild ADE_train_00023925.jpg gespeichert: results/lama/ADE_train_00023925.jpg\n",
      "Ergebnis für Bild ADE_train_00001591.jpg gespeichert: results/lama/ADE_train_00001591.jpg\n",
      "Ergebnis für Bild ADE_train_00001733.jpg gespeichert: results/lama/ADE_train_00001733.jpg\n",
      "Ergebnis für Bild ADE_train_00008817.jpg gespeichert: results/lama/ADE_train_00008817.jpg\n",
      "Ergebnis für Bild ADE_train_00011665.jpg gespeichert: results/lama/ADE_train_00011665.jpg\n",
      "Ergebnis für Bild ADE_train_00022648.jpg gespeichert: results/lama/ADE_train_00022648.jpg\n",
      "Ergebnis für Bild ADE_train_00002283.jpg gespeichert: results/lama/ADE_train_00002283.jpg\n",
      "Ergebnis für Bild ADE_train_00001692.jpg gespeichert: results/lama/ADE_train_00001692.jpg\n",
      "Ergebnis für Bild ADE_train_00002147.jpg gespeichert: results/lama/ADE_train_00002147.jpg\n",
      "Ergebnis für Bild ADE_train_00001752.jpg gespeichert: results/lama/ADE_train_00001752.jpg\n",
      "Ergebnis für Bild ADE_train_00001742.jpg gespeichert: results/lama/ADE_train_00001742.jpg\n",
      "Ergebnis für Bild ADE_train_00001729.jpg gespeichert: results/lama/ADE_train_00001729.jpg\n",
      "Ergebnis für Bild ADE_train_00008299.jpg gespeichert: results/lama/ADE_train_00008299.jpg\n",
      "Ergebnis für Bild ADE_train_00010763.jpg gespeichert: results/lama/ADE_train_00010763.jpg\n",
      "Ergebnis für Bild ADE_train_00002142.jpg gespeichert: results/lama/ADE_train_00002142.jpg\n",
      "Ergebnis für Bild ADE_train_00005414.jpg gespeichert: results/lama/ADE_train_00005414.jpg\n",
      "Ergebnis für Bild ADE_train_00025023.jpg gespeichert: results/lama/ADE_train_00025023.jpg\n",
      "Ergebnis für Bild ADE_train_00002278.jpg gespeichert: results/lama/ADE_train_00002278.jpg\n",
      "Ergebnis für Bild ADE_train_00019295.jpg gespeichert: results/lama/ADE_train_00019295.jpg\n",
      "Ergebnis für Bild ADE_train_00001684.jpg gespeichert: results/lama/ADE_train_00001684.jpg\n",
      "Ergebnis für Bild ADE_train_00001764.jpg gespeichert: results/lama/ADE_train_00001764.jpg\n",
      "Ergebnis für Bild ADE_train_00014180.jpg gespeichert: results/lama/ADE_train_00014180.jpg\n",
      "Ergebnis für Bild ADE_train_00001731.jpg gespeichert: results/lama/ADE_train_00001731.jpg\n",
      "Ergebnis für Bild ADE_train_00001853.jpg gespeichert: results/lama/ADE_train_00001853.jpg\n",
      "Ergebnis für Bild ADE_train_00001335.jpg gespeichert: results/lama/ADE_train_00001335.jpg\n",
      "Ergebnis für Bild ADE_train_00001671.jpg gespeichert: results/lama/ADE_train_00001671.jpg\n",
      "Ergebnis für Bild ADE_train_00009997.jpg gespeichert: results/lama/ADE_train_00009997.jpg\n",
      "Ergebnis für Bild ADE_train_00001564.jpg gespeichert: results/lama/ADE_train_00001564.jpg\n",
      "Ergebnis für Bild ADE_train_00019279.jpg gespeichert: results/lama/ADE_train_00019279.jpg\n",
      "Ergebnis für Bild ADE_train_00001737.jpg gespeichert: results/lama/ADE_train_00001737.jpg\n",
      "Ergebnis für Bild ADE_train_00005331.jpg gespeichert: results/lama/ADE_train_00005331.jpg\n",
      "Ergebnis für Bild ADE_train_00000666.jpg gespeichert: results/lama/ADE_train_00000666.jpg\n",
      "Ergebnis für Bild ADE_train_00001796.jpg gespeichert: results/lama/ADE_train_00001796.jpg\n",
      "Ergebnis für Bild ADE_train_00001799.jpg gespeichert: results/lama/ADE_train_00001799.jpg\n",
      "Ergebnis für Bild ADE_train_00002144.jpg gespeichert: results/lama/ADE_train_00002144.jpg\n",
      "Ergebnis für Bild ADE_train_00001848.jpg gespeichert: results/lama/ADE_train_00001848.jpg\n",
      "Ergebnis für Bild ADE_train_00002292.jpg gespeichert: results/lama/ADE_train_00002292.jpg\n",
      "Ergebnis für Bild ADE_train_00012230.jpg gespeichert: results/lama/ADE_train_00012230.jpg\n",
      "Ergebnis für Bild ADE_train_00001664.jpg gespeichert: results/lama/ADE_train_00001664.jpg\n",
      "Ergebnis für Bild ADE_train_00001607.jpg gespeichert: results/lama/ADE_train_00001607.jpg\n",
      "Ergebnis für Bild ADE_train_00002294.jpg gespeichert: results/lama/ADE_train_00002294.jpg\n",
      "Ergebnis für Bild ADE_train_00008802.jpg gespeichert: results/lama/ADE_train_00008802.jpg\n",
      "Ergebnis für Bild ADE_train_00012221.jpg gespeichert: results/lama/ADE_train_00012221.jpg\n",
      "Ergebnis für Bild ADE_train_00001678.jpg gespeichert: results/lama/ADE_train_00001678.jpg\n",
      "Ergebnis für Bild ADE_train_00001730.jpg gespeichert: results/lama/ADE_train_00001730.jpg\n",
      "Ergebnis für Bild ADE_train_00012288.jpg gespeichert: results/lama/ADE_train_00012288.jpg\n",
      "Ergebnis für Bild ADE_train_00001634.jpg gespeichert: results/lama/ADE_train_00001634.jpg\n",
      "Ergebnis für Bild ADE_train_00019501.jpg gespeichert: results/lama/ADE_train_00019501.jpg\n",
      "Ergebnis für Bild ADE_train_00001712.jpg gespeichert: results/lama/ADE_train_00001712.jpg\n",
      "Ergebnis für Bild ADE_train_00004247.jpg gespeichert: results/lama/ADE_train_00004247.jpg\n",
      "Ergebnis für Bild ADE_train_00022679.jpg gespeichert: results/lama/ADE_train_00022679.jpg\n",
      "Ergebnis für Bild ADE_train_00008804.jpg gespeichert: results/lama/ADE_train_00008804.jpg\n",
      "Ergebnis für Bild ADE_train_00001700.jpg gespeichert: results/lama/ADE_train_00001700.jpg\n",
      "Ergebnis für Bild ADE_train_00001650.jpg gespeichert: results/lama/ADE_train_00001650.jpg\n",
      "Ergebnis für Bild ADE_train_00001745.jpg gespeichert: results/lama/ADE_train_00001745.jpg\n",
      "Ergebnis für Bild ADE_train_00022691.jpg gespeichert: results/lama/ADE_train_00022691.jpg\n",
      "Ergebnis für Bild ADE_train_00001722.jpg gespeichert: results/lama/ADE_train_00001722.jpg\n",
      "Ergebnis für Bild ADE_train_00022676.jpg gespeichert: results/lama/ADE_train_00022676.jpg\n",
      "Ergebnis für Bild ADE_train_00000661.jpg gespeichert: results/lama/ADE_train_00000661.jpg\n",
      "Ergebnis für Bild ADE_train_00004953.jpg gespeichert: results/lama/ADE_train_00004953.jpg\n",
      "Ergebnis für Bild ADE_train_00003097.jpg gespeichert: results/lama/ADE_train_00003097.jpg\n",
      "Ergebnis für Bild ADE_train_00001707.jpg gespeichert: results/lama/ADE_train_00001707.jpg\n",
      "Ergebnis für Bild ADE_train_00020588.jpg gespeichert: results/lama/ADE_train_00020588.jpg\n",
      "Ergebnis für Bild ADE_train_00001685.jpg gespeichert: results/lama/ADE_train_00001685.jpg\n",
      "Ergebnis für Bild ADE_train_00024078.jpg gespeichert: results/lama/ADE_train_00024078.jpg\n",
      "Ergebnis für Bild ADE_train_00001740.jpg gespeichert: results/lama/ADE_train_00001740.jpg\n",
      "Ergebnis für Bild ADE_train_00001772.jpg gespeichert: results/lama/ADE_train_00001772.jpg\n",
      "Ergebnis für Bild ADE_train_00004949.jpg gespeichert: results/lama/ADE_train_00004949.jpg\n",
      "Ergebnis für Bild ADE_train_00002275.jpg gespeichert: results/lama/ADE_train_00002275.jpg\n",
      "Ergebnis für Bild ADE_train_00002290.jpg gespeichert: results/lama/ADE_train_00002290.jpg\n",
      "Ergebnis für Bild ADE_train_00002276.jpg gespeichert: results/lama/ADE_train_00002276.jpg\n",
      "Ergebnis für Bild ADE_train_00022693.jpg gespeichert: results/lama/ADE_train_00022693.jpg\n",
      "Ergebnis für Bild ADE_train_00005417.jpg gespeichert: results/lama/ADE_train_00005417.jpg\n",
      "Ergebnis für Bild ADE_train_00001803.jpg gespeichert: results/lama/ADE_train_00001803.jpg\n",
      "Ergebnis für Bild ADE_train_00019297.jpg gespeichert: results/lama/ADE_train_00019297.jpg\n",
      "Ergebnis für Bild ADE_train_00000658.jpg gespeichert: results/lama/ADE_train_00000658.jpg\n",
      "Ergebnis für Bild ADE_train_00019280.jpg gespeichert: results/lama/ADE_train_00019280.jpg\n",
      "Ergebnis für Bild ADE_train_00009686.jpg gespeichert: results/lama/ADE_train_00009686.jpg\n",
      "Ergebnis für Bild ADE_train_00022704.jpg gespeichert: results/lama/ADE_train_00022704.jpg\n",
      "Ergebnis für Bild ADE_train_00005344.jpg gespeichert: results/lama/ADE_train_00005344.jpg\n",
      "Ergebnis für Bild ADE_train_00019299.jpg gespeichert: results/lama/ADE_train_00019299.jpg\n",
      "Ergebnis für Bild ADE_train_00012186.jpg gespeichert: results/lama/ADE_train_00012186.jpg\n",
      "Ergebnis für Bild ADE_train_00002145.jpg gespeichert: results/lama/ADE_train_00002145.jpg\n",
      "Ergebnis für Bild ADE_train_00005347.jpg gespeichert: results/lama/ADE_train_00005347.jpg\n",
      "Ergebnis für Bild ADE_train_00016148.jpg gespeichert: results/lama/ADE_train_00016148.jpg\n",
      "Ergebnis für Bild ADE_train_00012224.jpg gespeichert: results/lama/ADE_train_00012224.jpg\n",
      "Ergebnis für Bild ADE_train_00022986.jpg gespeichert: results/lama/ADE_train_00022986.jpg\n",
      "Ergebnis für Bild ADE_train_00003066.jpg gespeichert: results/lama/ADE_train_00003066.jpg\n",
      "Ergebnis für Bild ADE_train_00001693.jpg gespeichert: results/lama/ADE_train_00001693.jpg\n",
      "Ergebnis für Bild ADE_train_00012226.jpg gespeichert: results/lama/ADE_train_00012226.jpg\n",
      "Ergebnis für Bild ADE_train_00002288.jpg gespeichert: results/lama/ADE_train_00002288.jpg\n",
      "Ergebnis für Bild ADE_train_00005324.jpg gespeichert: results/lama/ADE_train_00005324.jpg\n",
      "Ergebnis für Bild ADE_frame_00000066.jpg gespeichert: results/lama/ADE_frame_00000066.jpg\n",
      "Ergebnis für Bild ADE_train_00022763.jpg gespeichert: results/lama/ADE_train_00022763.jpg\n",
      "Ergebnis für Bild ADE_train_00019287.jpg gespeichert: results/lama/ADE_train_00019287.jpg\n",
      "Ergebnis für Bild ADE_train_00020276.jpg gespeichert: results/lama/ADE_train_00020276.jpg\n",
      "Ergebnis für Bild ADE_train_00001493.jpg gespeichert: results/lama/ADE_train_00001493.jpg\n",
      "Ergebnis für Bild ADE_train_00024361.jpg gespeichert: results/lama/ADE_train_00024361.jpg\n",
      "Ergebnis für Bild ADE_train_00004840.jpg gespeichert: results/lama/ADE_train_00004840.jpg\n",
      "Ergebnis für Bild ADE_train_00003086.jpg gespeichert: results/lama/ADE_train_00003086.jpg\n",
      "Ergebnis für Bild ADE_train_00001652.jpg gespeichert: results/lama/ADE_train_00001652.jpg\n",
      "Ergebnis für Bild ADE_train_00001706.jpg gespeichert: results/lama/ADE_train_00001706.jpg\n",
      "Ergebnis für Bild ADE_train_00022677.jpg gespeichert: results/lama/ADE_train_00022677.jpg\n",
      "Ergebnis für Bild ADE_train_00001724.jpg gespeichert: results/lama/ADE_train_00001724.jpg\n",
      "Ergebnis für Bild ADE_train_00019284.jpg gespeichert: results/lama/ADE_train_00019284.jpg\n",
      "Ergebnis für Bild ADE_frame_00000042.jpg gespeichert: results/lama/ADE_frame_00000042.jpg\n",
      "Ergebnis für Bild ADE_train_00024076.jpg gespeichert: results/lama/ADE_train_00024076.jpg\n",
      "Ergebnis für Bild ADE_train_00012250.jpg gespeichert: results/lama/ADE_train_00012250.jpg\n",
      "Ergebnis für Bild ADE_train_00001492.jpg gespeichert: results/lama/ADE_train_00001492.jpg\n",
      "Ergebnis für Bild ADE_frame_00000299.jpg gespeichert: results/lama/ADE_frame_00000299.jpg\n",
      "Ergebnis für Bild ADE_train_00001798.jpg gespeichert: results/lama/ADE_train_00001798.jpg\n",
      "Ergebnis für Bild ADE_train_00001645.jpg gespeichert: results/lama/ADE_train_00001645.jpg\n",
      "Ergebnis für Bild ADE_train_00001807.jpg gespeichert: results/lama/ADE_train_00001807.jpg\n",
      "Ergebnis für Bild ADE_train_00001739.jpg gespeichert: results/lama/ADE_train_00001739.jpg\n",
      "Ergebnis für Bild ADE_train_00001665.jpg gespeichert: results/lama/ADE_train_00001665.jpg\n",
      "Ergebnis für Bild ADE_train_00022649.jpg gespeichert: results/lama/ADE_train_00022649.jpg\n",
      "Ergebnis für Bild ADE_train_00001503.jpg gespeichert: results/lama/ADE_train_00001503.jpg\n",
      "Ergebnis für Bild ADE_frame_00000154.jpg gespeichert: results/lama/ADE_frame_00000154.jpg\n",
      "Ergebnis für Bild ADE_train_00004954.jpg gespeichert: results/lama/ADE_train_00004954.jpg\n",
      "Ergebnis für Bild ADE_train_00012229.jpg gespeichert: results/lama/ADE_train_00012229.jpg\n",
      "Ergebnis für Bild ADE_train_00002273.jpg gespeichert: results/lama/ADE_train_00002273.jpg\n",
      "Ergebnis für Bild ADE_train_00005281.jpg gespeichert: results/lama/ADE_train_00005281.jpg\n",
      "Ergebnis für Bild ADE_train_00013809.jpg gespeichert: results/lama/ADE_train_00013809.jpg\n",
      "Ergebnis für Bild ADE_train_00001643.jpg gespeichert: results/lama/ADE_train_00001643.jpg\n",
      "Ergebnis für Bild ADE_train_00001738.jpg gespeichert: results/lama/ADE_train_00001738.jpg\n",
      "Ergebnis für Bild ADE_train_00004249.jpg gespeichert: results/lama/ADE_train_00004249.jpg\n",
      "Ergebnis für Bild ADE_train_00000672.jpg gespeichert: results/lama/ADE_train_00000672.jpg\n",
      "Ergebnis für Bild ADE_train_00001780.jpg gespeichert: results/lama/ADE_train_00001780.jpg\n",
      "Ergebnis für Bild ADE_train_00001984.jpg gespeichert: results/lama/ADE_train_00001984.jpg\n",
      "Ergebnis für Bild ADE_train_00000191.jpg gespeichert: results/lama/ADE_train_00000191.jpg\n",
      "Ergebnis für Bild ADE_train_00002280.jpg gespeichert: results/lama/ADE_train_00002280.jpg\n",
      "Ergebnis für Bild ADE_train_00001648.jpg gespeichert: results/lama/ADE_train_00001648.jpg\n",
      "Ergebnis für Bild ADE_train_00005330.jpg gespeichert: results/lama/ADE_train_00005330.jpg\n",
      "Ergebnis für Bild ADE_train_00021168.jpg gespeichert: results/lama/ADE_train_00021168.jpg\n",
      "Ergebnis für Bild ADE_train_00000659.jpg gespeichert: results/lama/ADE_train_00000659.jpg\n",
      "Ergebnis für Bild ADE_train_00002297.jpg gespeichert: results/lama/ADE_train_00002297.jpg\n",
      "Ergebnis für Bild ADE_train_00010977.jpg gespeichert: results/lama/ADE_train_00010977.jpg\n",
      "Ergebnis für Bild ADE_train_00001852.jpg gespeichert: results/lama/ADE_train_00001852.jpg\n",
      "Ergebnis für Bild ADE_train_00012239.jpg gespeichert: results/lama/ADE_train_00012239.jpg\n",
      "Ergebnis für Bild ADE_train_00020444.jpg gespeichert: results/lama/ADE_train_00020444.jpg\n",
      "Ergebnis für Bild ADE_train_00000657.jpg gespeichert: results/lama/ADE_train_00000657.jpg\n",
      "Ergebnis für Bild ADE_train_00001491.jpg gespeichert: results/lama/ADE_train_00001491.jpg\n",
      "Ergebnis für Bild ADE_train_00016054.jpg gespeichert: results/lama/ADE_train_00016054.jpg\n",
      "Ergebnis für Bild ADE_train_00001654.jpg gespeichert: results/lama/ADE_train_00001654.jpg\n",
      "Ergebnis für Bild ADE_train_00011669.jpg gespeichert: results/lama/ADE_train_00011669.jpg\n",
      "Ergebnis für Bild ADE_train_00019006.jpg gespeichert: results/lama/ADE_train_00019006.jpg\n",
      "Ergebnis für Bild ADE_train_00000675.jpg gespeichert: results/lama/ADE_train_00000675.jpg\n",
      "Ergebnis für Bild ADE_frame_00000026.jpg gespeichert: results/lama/ADE_frame_00000026.jpg\n",
      "Ergebnis für Bild ADE_train_00023924.jpg gespeichert: results/lama/ADE_train_00023924.jpg\n",
      "Ergebnis für Bild ADE_train_00014336.jpg gespeichert: results/lama/ADE_train_00014336.jpg\n",
      "Ergebnis für Bild ADE_train_00001769.jpg gespeichert: results/lama/ADE_train_00001769.jpg\n",
      "Ergebnis für Bild ADE_frame_00000166.jpg gespeichert: results/lama/ADE_frame_00000166.jpg\n",
      "Ergebnis für Bild ADE_train_00001644.jpg gespeichert: results/lama/ADE_train_00001644.jpg\n",
      "Ergebnis für Bild ADE_train_00001501.jpg gespeichert: results/lama/ADE_train_00001501.jpg\n",
      "Ergebnis für Bild ADE_train_00001551.jpg gespeichert: results/lama/ADE_train_00001551.jpg\n",
      "Ergebnis für Bild ADE_train_00001749.jpg gespeichert: results/lama/ADE_train_00001749.jpg\n",
      "Ergebnis für Bild ADE_train_00012275.jpg gespeichert: results/lama/ADE_train_00012275.jpg\n",
      "Ergebnis für Bild ADE_train_00001690.jpg gespeichert: results/lama/ADE_train_00001690.jpg\n",
      "Ergebnis für Bild ADE_train_00011863.jpg gespeichert: results/lama/ADE_train_00011863.jpg\n",
      "Ergebnis für Bild ADE_train_00001677.jpg gespeichert: results/lama/ADE_train_00001677.jpg\n",
      "Ergebnis für Bild ADE_train_00001636.jpg gespeichert: results/lama/ADE_train_00001636.jpg\n",
      "Ergebnis für Bild ADE_frame_00000044.jpg gespeichert: results/lama/ADE_frame_00000044.jpg\n",
      "Ergebnis für Bild ADE_train_00001669.jpg gespeichert: results/lama/ADE_train_00001669.jpg\n",
      "Ergebnis für Bild ADE_train_00003096.jpg gespeichert: results/lama/ADE_train_00003096.jpg\n",
      "Ergebnis für Bild ADE_train_00001708.jpg gespeichert: results/lama/ADE_train_00001708.jpg\n",
      "Ergebnis für Bild ADE_train_00001656.jpg gespeichert: results/lama/ADE_train_00001656.jpg\n",
      "Ergebnis für Bild ADE_train_00001639.jpg gespeichert: results/lama/ADE_train_00001639.jpg\n",
      "Ergebnis für Bild ADE_train_00001725.jpg gespeichert: results/lama/ADE_train_00001725.jpg\n",
      "Ergebnis für Bild ADE_train_00001658.jpg gespeichert: results/lama/ADE_train_00001658.jpg\n",
      "Ergebnis für Bild ADE_train_00005416.jpg gespeichert: results/lama/ADE_train_00005416.jpg\n",
      "Ergebnis für Bild ADE_train_00001801.jpg gespeichert: results/lama/ADE_train_00001801.jpg\n",
      "Ergebnis für Bild ADE_frame_00000016.jpg gespeichert: results/lama/ADE_frame_00000016.jpg\n",
      "Ergebnis für Bild ADE_train_00005415.jpg gespeichert: results/lama/ADE_train_00005415.jpg\n",
      "Ergebnis für Bild ADE_train_00022710.jpg gespeichert: results/lama/ADE_train_00022710.jpg\n",
      "Ergebnis für Bild ADE_train_00006409.jpg gespeichert: results/lama/ADE_train_00006409.jpg\n",
      "Ergebnis für Bild ADE_train_00002285.jpg gespeichert: results/lama/ADE_train_00002285.jpg\n",
      "Ergebnis für Bild ADE_train_00002272.jpg gespeichert: results/lama/ADE_train_00002272.jpg\n",
      "Ergebnis für Bild ADE_train_00012184.jpg gespeichert: results/lama/ADE_train_00012184.jpg\n",
      "Ergebnis für Bild ADE_train_00000660.jpg gespeichert: results/lama/ADE_train_00000660.jpg\n",
      "Ergebnis für Bild ADE_train_00001334.jpg gespeichert: results/lama/ADE_train_00001334.jpg\n",
      "Ergebnis für Bild ADE_train_00010767.jpg gespeichert: results/lama/ADE_train_00010767.jpg\n",
      "Ergebnis für Bild ADE_train_00008818.jpg gespeichert: results/lama/ADE_train_00008818.jpg\n",
      "Ergebnis für Bild ADE_train_00003099.jpg gespeichert: results/lama/ADE_train_00003099.jpg\n",
      "Ergebnis für Bild ADE_train_00012232.jpg gespeichert: results/lama/ADE_train_00012232.jpg\n",
      "Ergebnis für Bild ADE_train_00020863.jpg gespeichert: results/lama/ADE_train_00020863.jpg\n",
      "Ergebnis für Bild ADE_train_00009499.jpg gespeichert: results/lama/ADE_train_00009499.jpg\n"
     ]
    }
   ],
   "source": [
    "real_images = []\n",
    "lama_images = []\n",
    "\n",
    "# Schleife durch alle Bilder und Masken\n",
    "\n",
    "image_gen = image_mask_generator(images_dir, masks_dir, image_files)\n",
    "for fname, image, mask in image_gen:\n",
    "\n",
    "    result = simple_lama(image, mask) # Infill mit Lama und der neuen Maske\n",
    "\n",
    "    real_images.append(image)\n",
    "    lama_images.append(result)\n",
    "\n",
    "    # Append and save result\n",
    "    save_result(image, result, fname, 'lama')\n",
    "    "
   ]
  },
  {
   "cell_type": "code",
   "execution_count": 10,
   "id": "3988f83e-390b-4664-bc1a-1b0dcd52307b",
   "metadata": {},
   "outputs": [
    {
     "name": "stdout",
     "output_type": "stream",
     "text": [
      "Setting up [LPIPS] perceptual loss: trunk [alex], v[0.1], spatial [off]\n"
     ]
    },
    {
     "name": "stderr",
     "output_type": "stream",
     "text": [
      "/home/ludo/.conda/envs/lama/lib/python3.10/site-packages/torchvision/models/_utils.py:208: UserWarning: The parameter 'pretrained' is deprecated since 0.13 and may be removed in the future, please use 'weights' instead.\n",
      "  warnings.warn(\n",
      "/home/ludo/.conda/envs/lama/lib/python3.10/site-packages/torchvision/models/_utils.py:223: UserWarning: Arguments other than a weight enum or `None` for 'weights' are deprecated since 0.13 and may be removed in the future. The current behavior is equivalent to passing `weights=AlexNet_Weights.IMAGENET1K_V1`. You can also use `weights=AlexNet_Weights.DEFAULT` to get the most up-to-date weights.\n",
      "  warnings.warn(msg)\n"
     ]
    },
    {
     "name": "stdout",
     "output_type": "stream",
     "text": [
      "Loading model from: /home/ludo/.conda/envs/lama/lib/python3.10/site-packages/lpips/weights/v0.1/alex.pth\n"
     ]
    },
    {
     "name": "stderr",
     "output_type": "stream",
     "text": [
      "/home/ludo/.conda/envs/lama/lib/python3.10/site-packages/lpips/lpips.py:107: FutureWarning: You are using `torch.load` with `weights_only=False` (the current default value), which uses the default pickle module implicitly. It is possible to construct malicious pickle data which will execute arbitrary code during unpickling (See https://github.com/pytorch/pytorch/blob/main/SECURITY.md#untrusted-models for more details). In a future release, the default value for `weights_only` will be flipped to `True`. This limits the functions that could be executed during unpickling. Arbitrary objects will no longer be allowed to be loaded via this mode unless they are explicitly allowlisted by the user via `torch.serialization.add_safe_globals`. We recommend you start setting `weights_only=True` for any use case where you don't have full control of the loaded file. Please open an issue on GitHub for any issues related to this experimental feature.\n",
      "  self.load_state_dict(torch.load(model_path, map_location='cpu'), strict=False)\n"
     ]
    },
    {
     "name": "stdout",
     "output_type": "stream",
     "text": [
      "FID: 44.794776916503906\n",
      "LPIPS: 0.1575961709022522\n"
     ]
    }
   ],
   "source": [
    "# Preprocess the images (resize and convert to tensors)\n",
    "real_images_tensor = preprocess_images(real_images, target_size)\n",
    "lama_images_tensor = preprocess_images(lama_images, target_size)\n",
    "\n",
    "fid_score = calculate_fid(real_images_tensor, lama_images_tensor)\n",
    "\n",
    "lpips_score = calculate_lpips(real_images_tensor, lama_images_tensor)\n",
    "\n",
    "print(f\"FID: {fid_score}\")\n",
    "print(f\"LPIPS: {lpips_score}\")"
   ]
  },
  {
   "cell_type": "code",
   "execution_count": 18,
   "id": "50f80a0a-1343-4f82-b7b4-dd4a40fae5c8",
   "metadata": {},
   "outputs": [],
   "source": [
    "# Baseline - Opencv"
   ]
  },
  {
   "cell_type": "code",
   "execution_count": 15,
   "id": "f83028f1-3266-4aa2-85ab-2a4caa54a52b",
   "metadata": {},
   "outputs": [],
   "source": [
    "def image_mask_generator_opencv(images_dir, masks_dir, image_files):\n",
    "    \"\"\"\n",
    "    Generator to read images and their corresponding masks.\n",
    "\n",
    "    Args:\n",
    "    - images_dir (str): Directory containing the images.\n",
    "    - masks_dir (str): Directory containing the masks.\n",
    "    - image_files (list): List of filenames (same for both images and masks).\n",
    "\n",
    "    Yields:\n",
    "    - tuple: A tuple containing a PIL image and a corresponding mask (PIL image).\n",
    "    \"\"\"\n",
    "    for fname in image_files:\n",
    "        image_path = os.path.join(images_dir, fname)  # Full path to the image\n",
    "        mask_path = os.path.join(masks_dir, fname)  # Full path to the mask\n",
    "        \n",
    "        # Load image and mask\n",
    "        try:\n",
    "            image = Image.open(image_path) \n",
    "            mask = Image.open(mask_path).convert('L')  \n",
    "\n",
    "            mask = expand_mask(mask) # Expand mask \n",
    "            \n",
    "            # Yield image and mask\n",
    "            yield fname, image, mask\n",
    "        except Exception as e:\n",
    "            print(f\"Error loading {fname}: {e}\")"
   ]
  },
  {
   "cell_type": "code",
   "execution_count": 16,
   "id": "08071c35-c33c-4b45-8400-5b55dc90fcc3",
   "metadata": {},
   "outputs": [],
   "source": [
    "def inpaint_with_opencv(image, mask, inpaint_radius=3, method=cv2.INPAINT_TELEA):\n",
    "    \"\"\"\n",
    "    Perform inpainting using OpenCV, ensuring correct color conversions.\n",
    "\n",
    "    Args:\n",
    "    - image (PIL.Image): The input image.\n",
    "    - mask (PIL.Image): The binary mask (grayscale).\n",
    "    - inpaint_radius (int): Radius of the inpainting.\n",
    "    - method: Inpainting method (cv2.INPAINT_TELEA or cv2.INPAINT_NS).\n",
    "\n",
    "    Returns:\n",
    "    - PIL.Image: The inpainted image with correct colors.\n",
    "    \"\"\"\n",
    "    # Convert PIL image to OpenCV format (RGB -> BGR)\n",
    "    image_array = cv2.cvtColor(np.array(image), cv2.COLOR_RGB2BGR)\n",
    "    mask_array = np.array(mask)\n",
    "\n",
    "    # Ensure mask is binary (0 and 255)\n",
    "    _, mask_array = cv2.threshold(mask_array, 1, 255, cv2.THRESH_BINARY)\n",
    "\n",
    "    # Perform inpainting\n",
    "    inpainted_image = cv2.inpaint(image_array, mask_array, inpaint_radius, method)\n",
    "\n",
    "    # Convert back to PIL format (BGR -> RGB)\n",
    "    inpainted_image = cv2.cvtColor(inpainted_image, cv2.COLOR_BGR2RGB)\n",
    "    return Image.fromarray(inpainted_image)\n"
   ]
  },
  {
   "cell_type": "code",
   "execution_count": 17,
   "id": "e8d47d3d-cc4f-4f54-b7cf-c69d1408fd47",
   "metadata": {},
   "outputs": [
    {
     "name": "stdout",
     "output_type": "stream",
     "text": [
      "Ergebnis für Bild ADE_train_00001504.jpg gespeichert: results/opencv/ADE_train_00001504.jpg\n",
      "Ergebnis für Bild ADE_train_00012219.jpg gespeichert: results/opencv/ADE_train_00012219.jpg\n",
      "Ergebnis für Bild ADE_train_00001716.jpg gespeichert: results/opencv/ADE_train_00001716.jpg\n",
      "Ergebnis für Bild ADE_train_00001758.jpg gespeichert: results/opencv/ADE_train_00001758.jpg\n",
      "Ergebnis für Bild ADE_train_00001561.jpg gespeichert: results/opencv/ADE_train_00001561.jpg\n",
      "Ergebnis für Bild ADE_train_00012246.jpg gespeichert: results/opencv/ADE_train_00012246.jpg\n",
      "Ergebnis für Bild ADE_train_00001522.jpg gespeichert: results/opencv/ADE_train_00001522.jpg\n",
      "Ergebnis für Bild ADE_train_00005280.jpg gespeichert: results/opencv/ADE_train_00005280.jpg\n",
      "Ergebnis für Bild ADE_train_00001763.jpg gespeichert: results/opencv/ADE_train_00001763.jpg\n",
      "Ergebnis für Bild ADE_train_00012220.jpg gespeichert: results/opencv/ADE_train_00012220.jpg\n",
      "Ergebnis für Bild ADE_train_00003093.jpg gespeichert: results/opencv/ADE_train_00003093.jpg\n",
      "Ergebnis für Bild ADE_train_00001850.jpg gespeichert: results/opencv/ADE_train_00001850.jpg\n",
      "Ergebnis für Bild ADE_train_00001635.jpg gespeichert: results/opencv/ADE_train_00001635.jpg\n",
      "Ergebnis für Bild ADE_train_00008819.jpg gespeichert: results/opencv/ADE_train_00008819.jpg\n",
      "Ergebnis für Bild ADE_train_00012185.jpg gespeichert: results/opencv/ADE_train_00012185.jpg\n",
      "Ergebnis für Bild ADE_train_00022681.jpg gespeichert: results/opencv/ADE_train_00022681.jpg\n",
      "Ergebnis für Bild ADE_train_00022684.jpg gespeichert: results/opencv/ADE_train_00022684.jpg\n",
      "Ergebnis für Bild ADE_train_00001222.jpg gespeichert: results/opencv/ADE_train_00001222.jpg\n",
      "Ergebnis für Bild ADE_train_00008798.jpg gespeichert: results/opencv/ADE_train_00008798.jpg\n",
      "Ergebnis für Bild ADE_train_00001746.jpg gespeichert: results/opencv/ADE_train_00001746.jpg\n",
      "Ergebnis für Bild ADE_train_00025047.jpg gespeichert: results/opencv/ADE_train_00025047.jpg\n",
      "Ergebnis für Bild ADE_train_00002031.jpg gespeichert: results/opencv/ADE_train_00002031.jpg\n",
      "Ergebnis für Bild ADE_train_00001240.jpg gespeichert: results/opencv/ADE_train_00001240.jpg\n",
      "Ergebnis für Bild ADE_train_00022698.jpg gespeichert: results/opencv/ADE_train_00022698.jpg\n",
      "Ergebnis für Bild ADE_train_00001735.jpg gespeichert: results/opencv/ADE_train_00001735.jpg\n",
      "Ergebnis für Bild ADE_train_00005350.jpg gespeichert: results/opencv/ADE_train_00005350.jpg\n",
      "Ergebnis für Bild ADE_train_00001726.jpg gespeichert: results/opencv/ADE_train_00001726.jpg\n",
      "Ergebnis für Bild ADE_train_00022999.jpg gespeichert: results/opencv/ADE_train_00022999.jpg\n",
      "Ergebnis für Bild ADE_train_00001720.jpg gespeichert: results/opencv/ADE_train_00001720.jpg\n",
      "Ergebnis für Bild ADE_train_00001346.jpg gespeichert: results/opencv/ADE_train_00001346.jpg\n",
      "Ergebnis für Bild ADE_train_00001787.jpg gespeichert: results/opencv/ADE_train_00001787.jpg\n",
      "Ergebnis für Bild ADE_train_00004842.jpg gespeichert: results/opencv/ADE_train_00004842.jpg\n",
      "Ergebnis für Bild ADE_train_00022695.jpg gespeichert: results/opencv/ADE_train_00022695.jpg\n",
      "Ergebnis für Bild ADE_frame_00000015.jpg gespeichert: results/opencv/ADE_frame_00000015.jpg\n",
      "Ergebnis für Bild ADE_train_00004251.jpg gespeichert: results/opencv/ADE_train_00004251.jpg\n",
      "Ergebnis für Bild ADE_train_00022700.jpg gespeichert: results/opencv/ADE_train_00022700.jpg\n",
      "Ergebnis für Bild ADE_train_00001713.jpg gespeichert: results/opencv/ADE_train_00001713.jpg\n",
      "Ergebnis für Bild ADE_train_00001554.jpg gespeichert: results/opencv/ADE_train_00001554.jpg\n",
      "Ergebnis für Bild ADE_train_00009972.jpg gespeichert: results/opencv/ADE_train_00009972.jpg\n",
      "Ergebnis für Bild ADE_train_00001822.jpg gespeichert: results/opencv/ADE_train_00001822.jpg\n",
      "Ergebnis für Bild ADE_train_00012289.jpg gespeichert: results/opencv/ADE_train_00012289.jpg\n",
      "Ergebnis für Bild ADE_train_00002279.jpg gespeichert: results/opencv/ADE_train_00002279.jpg\n",
      "Ergebnis für Bild ADE_train_00019283.jpg gespeichert: results/opencv/ADE_train_00019283.jpg\n",
      "Ergebnis für Bild ADE_train_00001759.jpg gespeichert: results/opencv/ADE_train_00001759.jpg\n",
      "Ergebnis für Bild ADE_train_00001552.jpg gespeichert: results/opencv/ADE_train_00001552.jpg\n",
      "Ergebnis für Bild ADE_train_00008815.jpg gespeichert: results/opencv/ADE_train_00008815.jpg\n",
      "Ergebnis für Bild ADE_train_00003088.jpg gespeichert: results/opencv/ADE_train_00003088.jpg\n",
      "Ergebnis für Bild ADE_train_00001649.jpg gespeichert: results/opencv/ADE_train_00001649.jpg\n",
      "Ergebnis für Bild ADE_train_00001633.jpg gespeichert: results/opencv/ADE_train_00001633.jpg\n",
      "Ergebnis für Bild ADE_train_00016147.jpg gespeichert: results/opencv/ADE_train_00016147.jpg\n",
      "Ergebnis für Bild ADE_train_00001728.jpg gespeichert: results/opencv/ADE_train_00001728.jpg\n",
      "Ergebnis für Bild ADE_train_00012248.jpg gespeichert: results/opencv/ADE_train_00012248.jpg\n",
      "Ergebnis für Bild ADE_train_00010068.jpg gespeichert: results/opencv/ADE_train_00010068.jpg\n",
      "Ergebnis für Bild ADE_train_00001562.jpg gespeichert: results/opencv/ADE_train_00001562.jpg\n",
      "Ergebnis für Bild ADE_train_00002461.jpg gespeichert: results/opencv/ADE_train_00002461.jpg\n",
      "Ergebnis für Bild ADE_train_00003089.jpg gespeichert: results/opencv/ADE_train_00003089.jpg\n",
      "Ergebnis für Bild ADE_train_00010766.jpg gespeichert: results/opencv/ADE_train_00010766.jpg\n",
      "Ergebnis für Bild ADE_train_00001502.jpg gespeichert: results/opencv/ADE_train_00001502.jpg\n",
      "Ergebnis für Bild ADE_train_00010062.jpg gespeichert: results/opencv/ADE_train_00010062.jpg\n",
      "Ergebnis für Bild ADE_train_00001663.jpg gespeichert: results/opencv/ADE_train_00001663.jpg\n",
      "Ergebnis für Bild ADE_train_00002296.jpg gespeichert: results/opencv/ADE_train_00002296.jpg\n",
      "Ergebnis für Bild ADE_train_00001727.jpg gespeichert: results/opencv/ADE_train_00001727.jpg\n",
      "Ergebnis für Bild ADE_train_00001750.jpg gespeichert: results/opencv/ADE_train_00001750.jpg\n",
      "Ergebnis für Bild ADE_train_00002287.jpg gespeichert: results/opencv/ADE_train_00002287.jpg\n",
      "Ergebnis für Bild ADE_train_00022701.jpg gespeichert: results/opencv/ADE_train_00022701.jpg\n",
      "Ergebnis für Bild ADE_train_00002351.jpg gespeichert: results/opencv/ADE_train_00002351.jpg\n",
      "Ergebnis für Bild ADE_train_00001765.jpg gespeichert: results/opencv/ADE_train_00001765.jpg\n",
      "Ergebnis für Bild ADE_train_00001490.jpg gespeichert: results/opencv/ADE_train_00001490.jpg\n",
      "Ergebnis für Bild ADE_train_00019290.jpg gespeichert: results/opencv/ADE_train_00019290.jpg\n",
      "Ergebnis für Bild ADE_train_00012270.jpg gespeichert: results/opencv/ADE_train_00012270.jpg\n",
      "Ergebnis für Bild ADE_train_00001753.jpg gespeichert: results/opencv/ADE_train_00001753.jpg\n",
      "Ergebnis für Bild ADE_train_00001773.jpg gespeichert: results/opencv/ADE_train_00001773.jpg\n",
      "Ergebnis für Bild ADE_train_00001788.jpg gespeichert: results/opencv/ADE_train_00001788.jpg\n",
      "Ergebnis für Bild ADE_train_00001761.jpg gespeichert: results/opencv/ADE_train_00001761.jpg\n",
      "Ergebnis für Bild ADE_train_00001689.jpg gespeichert: results/opencv/ADE_train_00001689.jpg\n",
      "Ergebnis für Bild ADE_train_00001657.jpg gespeichert: results/opencv/ADE_train_00001657.jpg\n",
      "Ergebnis für Bild ADE_train_00000651.jpg gespeichert: results/opencv/ADE_train_00000651.jpg\n",
      "Ergebnis für Bild ADE_train_00002293.jpg gespeichert: results/opencv/ADE_train_00002293.jpg\n",
      "Ergebnis für Bild ADE_train_00020241.jpg gespeichert: results/opencv/ADE_train_00020241.jpg\n",
      "Ergebnis für Bild ADE_train_00008801.jpg gespeichert: results/opencv/ADE_train_00008801.jpg\n",
      "Ergebnis für Bild ADE_train_00002281.jpg gespeichert: results/opencv/ADE_train_00002281.jpg\n",
      "Ergebnis für Bild ADE_train_00001499.jpg gespeichert: results/opencv/ADE_train_00001499.jpg\n",
      "Ergebnis für Bild ADE_train_00002140.jpg gespeichert: results/opencv/ADE_train_00002140.jpg\n",
      "Ergebnis für Bild ADE_train_00003094.jpg gespeichert: results/opencv/ADE_train_00003094.jpg\n",
      "Ergebnis für Bild ADE_train_00001667.jpg gespeichert: results/opencv/ADE_train_00001667.jpg\n",
      "Ergebnis für Bild ADE_train_00000663.jpg gespeichert: results/opencv/ADE_train_00000663.jpg\n",
      "Ergebnis für Bild ADE_train_00002291.jpg gespeichert: results/opencv/ADE_train_00002291.jpg\n",
      "Ergebnis für Bild ADE_train_00001760.jpg gespeichert: results/opencv/ADE_train_00001760.jpg\n",
      "Ergebnis für Bild ADE_train_00022685.jpg gespeichert: results/opencv/ADE_train_00022685.jpg\n",
      "Ergebnis für Bild ADE_train_00022678.jpg gespeichert: results/opencv/ADE_train_00022678.jpg\n",
      "Ergebnis für Bild ADE_train_00024113.jpg gespeichert: results/opencv/ADE_train_00024113.jpg\n",
      "Ergebnis für Bild ADE_train_00000555.jpg gespeichert: results/opencv/ADE_train_00000555.jpg\n",
      "Ergebnis für Bild ADE_train_00001767.jpg gespeichert: results/opencv/ADE_train_00001767.jpg\n",
      "Ergebnis für Bild ADE_train_00019294.jpg gespeichert: results/opencv/ADE_train_00019294.jpg\n",
      "Ergebnis für Bild ADE_train_00021742.jpg gespeichert: results/opencv/ADE_train_00021742.jpg\n",
      "Ergebnis für Bild ADE_train_00011671.jpg gespeichert: results/opencv/ADE_train_00011671.jpg\n",
      "Ergebnis für Bild ADE_train_00001500.jpg gespeichert: results/opencv/ADE_train_00001500.jpg\n",
      "Ergebnis für Bild ADE_train_00001802.jpg gespeichert: results/opencv/ADE_train_00001802.jpg\n",
      "Ergebnis für Bild ADE_train_00012247.jpg gespeichert: results/opencv/ADE_train_00012247.jpg\n",
      "Ergebnis für Bild ADE_train_00011663.jpg gespeichert: results/opencv/ADE_train_00011663.jpg\n",
      "Ergebnis für Bild ADE_train_00012228.jpg gespeichert: results/opencv/ADE_train_00012228.jpg\n",
      "Ergebnis für Bild ADE_train_00001757.jpg gespeichert: results/opencv/ADE_train_00001757.jpg\n",
      "Ergebnis für Bild ADE_train_00004955.jpg gespeichert: results/opencv/ADE_train_00004955.jpg\n",
      "Ergebnis für Bild ADE_train_00022697.jpg gespeichert: results/opencv/ADE_train_00022697.jpg\n",
      "Ergebnis für Bild ADE_train_00001741.jpg gespeichert: results/opencv/ADE_train_00001741.jpg\n",
      "Ergebnis für Bild ADE_train_00022987.jpg gespeichert: results/opencv/ADE_train_00022987.jpg\n",
      "Ergebnis für Bild ADE_train_00001698.jpg gespeichert: results/opencv/ADE_train_00001698.jpg\n",
      "Ergebnis für Bild ADE_train_00001711.jpg gespeichert: results/opencv/ADE_train_00001711.jpg\n",
      "Ergebnis für Bild ADE_train_00022635.jpg gespeichert: results/opencv/ADE_train_00022635.jpg\n",
      "Ergebnis für Bild ADE_train_00000664.jpg gespeichert: results/opencv/ADE_train_00000664.jpg\n",
      "Ergebnis für Bild ADE_train_00004951.jpg gespeichert: results/opencv/ADE_train_00004951.jpg\n",
      "Ergebnis für Bild ADE_train_00002462.jpg gespeichert: results/opencv/ADE_train_00002462.jpg\n",
      "Ergebnis für Bild ADE_train_00001694.jpg gespeichert: results/opencv/ADE_train_00001694.jpg\n",
      "Ergebnis für Bild ADE_train_00002301.jpg gespeichert: results/opencv/ADE_train_00002301.jpg\n",
      "Ergebnis für Bild ADE_train_00022683.jpg gespeichert: results/opencv/ADE_train_00022683.jpg\n",
      "Ergebnis für Bild ADE_train_00004950.jpg gespeichert: results/opencv/ADE_train_00004950.jpg\n",
      "Ergebnis für Bild ADE_train_00000656.jpg gespeichert: results/opencv/ADE_train_00000656.jpg\n",
      "Ergebnis für Bild ADE_train_00012216.jpg gespeichert: results/opencv/ADE_train_00012216.jpg\n",
      "Ergebnis für Bild ADE_train_00012223.jpg gespeichert: results/opencv/ADE_train_00012223.jpg\n",
      "Ergebnis für Bild ADE_train_00000667.jpg gespeichert: results/opencv/ADE_train_00000667.jpg\n",
      "Ergebnis für Bild ADE_train_00001688.jpg gespeichert: results/opencv/ADE_train_00001688.jpg\n",
      "Ergebnis für Bild ADE_train_00001762.jpg gespeichert: results/opencv/ADE_train_00001762.jpg\n",
      "Ergebnis für Bild ADE_train_00019281.jpg gespeichert: results/opencv/ADE_train_00019281.jpg\n",
      "Ergebnis für Bild ADE_train_00002298.jpg gespeichert: results/opencv/ADE_train_00002298.jpg\n",
      "Ergebnis für Bild ADE_train_00003095.jpg gespeichert: results/opencv/ADE_train_00003095.jpg\n",
      "Ergebnis für Bild ADE_train_00022692.jpg gespeichert: results/opencv/ADE_train_00022692.jpg\n",
      "Ergebnis für Bild ADE_train_00022703.jpg gespeichert: results/opencv/ADE_train_00022703.jpg\n",
      "Ergebnis für Bild ADE_train_00023137.jpg gespeichert: results/opencv/ADE_train_00023137.jpg\n",
      "Ergebnis für Bild ADE_train_00005345.jpg gespeichert: results/opencv/ADE_train_00005345.jpg\n",
      "Ergebnis für Bild ADE_train_00001550.jpg gespeichert: results/opencv/ADE_train_00001550.jpg\n",
      "Ergebnis für Bild ADE_train_00004952.jpg gespeichert: results/opencv/ADE_train_00004952.jpg\n",
      "Ergebnis für Bild ADE_train_00011664.jpg gespeichert: results/opencv/ADE_train_00011664.jpg\n",
      "Ergebnis für Bild ADE_train_00020475.jpg gespeichert: results/opencv/ADE_train_00020475.jpg\n",
      "Ergebnis für Bild ADE_train_00022682.jpg gespeichert: results/opencv/ADE_train_00022682.jpg\n",
      "Ergebnis für Bild ADE_train_00007484.jpg gespeichert: results/opencv/ADE_train_00007484.jpg\n",
      "Ergebnis für Bild ADE_train_00003083.jpg gespeichert: results/opencv/ADE_train_00003083.jpg\n",
      "Ergebnis für Bild ADE_train_00001704.jpg gespeichert: results/opencv/ADE_train_00001704.jpg\n",
      "Ergebnis für Bild ADE_train_00001336.jpg gespeichert: results/opencv/ADE_train_00001336.jpg\n",
      "Ergebnis für Bild ADE_train_00001774.jpg gespeichert: results/opencv/ADE_train_00001774.jpg\n",
      "Ergebnis für Bild ADE_train_00001697.jpg gespeichert: results/opencv/ADE_train_00001697.jpg\n",
      "Ergebnis für Bild ADE_train_00003161.jpg gespeichert: results/opencv/ADE_train_00003161.jpg\n",
      "Ergebnis für Bild ADE_train_00012243.jpg gespeichert: results/opencv/ADE_train_00012243.jpg\n",
      "Ergebnis für Bild ADE_train_00005328.jpg gespeichert: results/opencv/ADE_train_00005328.jpg\n",
      "Ergebnis für Bild ADE_train_00020247.jpg gespeichert: results/opencv/ADE_train_00020247.jpg\n",
      "Ergebnis für Bild ADE_train_00001489.jpg gespeichert: results/opencv/ADE_train_00001489.jpg\n",
      "Ergebnis für Bild ADE_frame_00000061.jpg gespeichert: results/opencv/ADE_frame_00000061.jpg\n",
      "Ergebnis für Bild ADE_train_00022727.jpg gespeichert: results/opencv/ADE_train_00022727.jpg\n",
      "Ergebnis für Bild ADE_train_00024577.jpg gespeichert: results/opencv/ADE_train_00024577.jpg\n",
      "Ergebnis für Bild ADE_train_00001701.jpg gespeichert: results/opencv/ADE_train_00001701.jpg\n",
      "Ergebnis für Bild ADE_train_00001498.jpg gespeichert: results/opencv/ADE_train_00001498.jpg\n",
      "Ergebnis für Bild ADE_train_00008812.jpg gespeichert: results/opencv/ADE_train_00008812.jpg\n",
      "Ergebnis für Bild ADE_train_00022686.jpg gespeichert: results/opencv/ADE_train_00022686.jpg\n",
      "Ergebnis für Bild ADE_train_00019286.jpg gespeichert: results/opencv/ADE_train_00019286.jpg\n",
      "Ergebnis für Bild ADE_train_00008803.jpg gespeichert: results/opencv/ADE_train_00008803.jpg\n",
      "Ergebnis für Bild ADE_train_00019291.jpg gespeichert: results/opencv/ADE_train_00019291.jpg\n",
      "Ergebnis für Bild ADE_train_00019004.jpg gespeichert: results/opencv/ADE_train_00019004.jpg\n",
      "Ergebnis für Bild ADE_train_00003079.jpg gespeichert: results/opencv/ADE_train_00003079.jpg\n",
      "Ergebnis für Bild ADE_train_00016855.jpg gespeichert: results/opencv/ADE_train_00016855.jpg\n",
      "Ergebnis für Bild ADE_train_00006150.jpg gespeichert: results/opencv/ADE_train_00006150.jpg\n",
      "Ergebnis für Bild ADE_train_00001747.jpg gespeichert: results/opencv/ADE_train_00001747.jpg\n",
      "Ergebnis für Bild ADE_train_00025118.jpg gespeichert: results/opencv/ADE_train_00025118.jpg\n",
      "Ergebnis für Bild ADE_train_00003104.jpg gespeichert: results/opencv/ADE_train_00003104.jpg\n",
      "Ergebnis für Bild ADE_train_00003078.jpg gespeichert: results/opencv/ADE_train_00003078.jpg\n",
      "Ergebnis für Bild ADE_train_00022762.jpg gespeichert: results/opencv/ADE_train_00022762.jpg\n",
      "Ergebnis für Bild ADE_train_00001717.jpg gespeichert: results/opencv/ADE_train_00001717.jpg\n",
      "Ergebnis für Bild ADE_train_00012214.jpg gespeichert: results/opencv/ADE_train_00012214.jpg\n",
      "Ergebnis für Bild ADE_train_00008808.jpg gespeichert: results/opencv/ADE_train_00008808.jpg\n",
      "Ergebnis für Bild ADE_train_00005327.jpg gespeichert: results/opencv/ADE_train_00005327.jpg\n",
      "Ergebnis für Bild ADE_train_00019288.jpg gespeichert: results/opencv/ADE_train_00019288.jpg\n",
      "Ergebnis für Bild ADE_train_00024362.jpg gespeichert: results/opencv/ADE_train_00024362.jpg\n",
      "Ergebnis für Bild ADE_train_00009990.jpg gespeichert: results/opencv/ADE_train_00009990.jpg\n",
      "Ergebnis für Bild ADE_train_00003077.jpg gespeichert: results/opencv/ADE_train_00003077.jpg\n",
      "Ergebnis für Bild ADE_train_00002274.jpg gespeichert: results/opencv/ADE_train_00002274.jpg\n",
      "Ergebnis für Bild ADE_train_00005419.jpg gespeichert: results/opencv/ADE_train_00005419.jpg\n",
      "Ergebnis für Bild ADE_train_00001797.jpg gespeichert: results/opencv/ADE_train_00001797.jpg\n",
      "Ergebnis für Bild ADE_train_00022699.jpg gespeichert: results/opencv/ADE_train_00022699.jpg\n",
      "Ergebnis für Bild ADE_train_00012241.jpg gespeichert: results/opencv/ADE_train_00012241.jpg\n",
      "Ergebnis für Bild ADE_train_00022758.jpg gespeichert: results/opencv/ADE_train_00022758.jpg\n",
      "Ergebnis für Bild ADE_train_00013811.jpg gespeichert: results/opencv/ADE_train_00013811.jpg\n",
      "Ergebnis für Bild ADE_train_00001755.jpg gespeichert: results/opencv/ADE_train_00001755.jpg\n",
      "Ergebnis für Bild ADE_train_00001805.jpg gespeichert: results/opencv/ADE_train_00001805.jpg\n",
      "Ergebnis für Bild ADE_train_00001974.jpg gespeichert: results/opencv/ADE_train_00001974.jpg\n",
      "Ergebnis für Bild ADE_train_00020471.jpg gespeichert: results/opencv/ADE_train_00020471.jpg\n",
      "Ergebnis für Bild ADE_frame_00000005.jpg gespeichert: results/opencv/ADE_frame_00000005.jpg\n",
      "Ergebnis für Bild ADE_train_00001565.jpg gespeichert: results/opencv/ADE_train_00001565.jpg\n",
      "Ergebnis für Bild ADE_train_00012236.jpg gespeichert: results/opencv/ADE_train_00012236.jpg\n",
      "Ergebnis für Bild ADE_train_00003169.jpg gespeichert: results/opencv/ADE_train_00003169.jpg\n",
      "Ergebnis für Bild ADE_train_00012187.jpg gespeichert: results/opencv/ADE_train_00012187.jpg\n",
      "Ergebnis für Bild ADE_train_00022761.jpg gespeichert: results/opencv/ADE_train_00022761.jpg\n",
      "Ergebnis für Bild ADE_train_00008217.jpg gespeichert: results/opencv/ADE_train_00008217.jpg\n",
      "Ergebnis für Bild ADE_train_00001699.jpg gespeichert: results/opencv/ADE_train_00001699.jpg\n",
      "Ergebnis für Bild ADE_train_00002270.jpg gespeichert: results/opencv/ADE_train_00002270.jpg\n",
      "Ergebnis für Bild ADE_train_00003082.jpg gespeichert: results/opencv/ADE_train_00003082.jpg\n",
      "Ergebnis für Bild ADE_train_00001714.jpg gespeichert: results/opencv/ADE_train_00001714.jpg\n",
      "Ergebnis für Bild ADE_train_00001497.jpg gespeichert: results/opencv/ADE_train_00001497.jpg\n",
      "Ergebnis für Bild ADE_train_00003091.jpg gespeichert: results/opencv/ADE_train_00003091.jpg\n",
      "Ergebnis für Bild ADE_train_00003084.jpg gespeichert: results/opencv/ADE_train_00003084.jpg\n",
      "Ergebnis für Bild ADE_train_00002289.jpg gespeichert: results/opencv/ADE_train_00002289.jpg\n",
      "Ergebnis für Bild ADE_train_00001237.jpg gespeichert: results/opencv/ADE_train_00001237.jpg\n",
      "Ergebnis für Bild ADE_train_00001811.jpg gespeichert: results/opencv/ADE_train_00001811.jpg\n",
      "Ergebnis für Bild ADE_frame_00000293.jpg gespeichert: results/opencv/ADE_frame_00000293.jpg\n",
      "Ergebnis für Bild ADE_train_00005172.jpg gespeichert: results/opencv/ADE_train_00005172.jpg\n",
      "Ergebnis für Bild ADE_train_00008810.jpg gespeichert: results/opencv/ADE_train_00008810.jpg\n",
      "Ergebnis für Bild ADE_train_00020279.jpg gespeichert: results/opencv/ADE_train_00020279.jpg\n",
      "Ergebnis für Bild ADE_train_00022706.jpg gespeichert: results/opencv/ADE_train_00022706.jpg\n",
      "Ergebnis für Bild ADE_train_00001640.jpg gespeichert: results/opencv/ADE_train_00001640.jpg\n",
      "Ergebnis für Bild ADE_train_00000653.jpg gespeichert: results/opencv/ADE_train_00000653.jpg\n",
      "Ergebnis für Bild ADE_train_00001495.jpg gespeichert: results/opencv/ADE_train_00001495.jpg\n",
      "Ergebnis für Bild ADE_train_00001703.jpg gespeichert: results/opencv/ADE_train_00001703.jpg\n",
      "Ergebnis für Bild ADE_train_00020192.jpg gespeichert: results/opencv/ADE_train_00020192.jpg\n",
      "Ergebnis für Bild ADE_train_00009992.jpg gespeichert: results/opencv/ADE_train_00009992.jpg\n",
      "Ergebnis für Bild ADE_train_00012233.jpg gespeichert: results/opencv/ADE_train_00012233.jpg\n",
      "Ergebnis für Bild ADE_train_00016149.jpg gespeichert: results/opencv/ADE_train_00016149.jpg\n",
      "Ergebnis für Bild ADE_train_00002143.jpg gespeichert: results/opencv/ADE_train_00002143.jpg\n",
      "Ergebnis für Bild ADE_train_00002295.jpg gespeichert: results/opencv/ADE_train_00002295.jpg\n",
      "Ergebnis für Bild ADE_train_00008214.jpg gespeichert: results/opencv/ADE_train_00008214.jpg\n",
      "Ergebnis für Bild ADE_train_00001496.jpg gespeichert: results/opencv/ADE_train_00001496.jpg\n",
      "Ergebnis für Bild ADE_train_00001570.jpg gespeichert: results/opencv/ADE_train_00001570.jpg\n",
      "Ergebnis für Bild ADE_train_00006148.jpg gespeichert: results/opencv/ADE_train_00006148.jpg\n",
      "Ergebnis für Bild ADE_train_00020244.jpg gespeichert: results/opencv/ADE_train_00020244.jpg\n",
      "Ergebnis für Bild ADE_train_00001721.jpg gespeichert: results/opencv/ADE_train_00001721.jpg\n",
      "Ergebnis für Bild ADE_train_00001668.jpg gespeichert: results/opencv/ADE_train_00001668.jpg\n",
      "Ergebnis für Bild ADE_train_00002271.jpg gespeichert: results/opencv/ADE_train_00002271.jpg\n",
      "Ergebnis für Bild ADE_train_00021745.jpg gespeichert: results/opencv/ADE_train_00021745.jpg\n",
      "Ergebnis für Bild ADE_train_00001756.jpg gespeichert: results/opencv/ADE_train_00001756.jpg\n",
      "Ergebnis für Bild ADE_train_00011666.jpg gespeichert: results/opencv/ADE_train_00011666.jpg\n",
      "Ergebnis für Bild ADE_train_00023487.jpg gespeichert: results/opencv/ADE_train_00023487.jpg\n",
      "Ergebnis für Bild ADE_train_00002302.jpg gespeichert: results/opencv/ADE_train_00002302.jpg\n",
      "Ergebnis für Bild ADE_train_00001776.jpg gespeichert: results/opencv/ADE_train_00001776.jpg\n",
      "Ergebnis für Bild ADE_train_00001786.jpg gespeichert: results/opencv/ADE_train_00001786.jpg\n",
      "Ergebnis für Bild ADE_train_00011904.jpg gespeichert: results/opencv/ADE_train_00011904.jpg\n",
      "Ergebnis für Bild ADE_train_00000674.jpg gespeichert: results/opencv/ADE_train_00000674.jpg\n",
      "Ergebnis für Bild ADE_train_00000655.jpg gespeichert: results/opencv/ADE_train_00000655.jpg\n",
      "Ergebnis für Bild ADE_train_00019298.jpg gespeichert: results/opencv/ADE_train_00019298.jpg\n",
      "Ergebnis für Bild ADE_train_00025115.jpg gespeichert: results/opencv/ADE_train_00025115.jpg\n",
      "Ergebnis für Bild ADE_train_00022708.jpg gespeichert: results/opencv/ADE_train_00022708.jpg\n",
      "Ergebnis für Bild ADE_train_00022663.jpg gespeichert: results/opencv/ADE_train_00022663.jpg\n",
      "Ergebnis für Bild ADE_train_00002286.jpg gespeichert: results/opencv/ADE_train_00002286.jpg\n",
      "Ergebnis für Bild ADE_train_00003090.jpg gespeichert: results/opencv/ADE_train_00003090.jpg\n",
      "Ergebnis für Bild ADE_train_00005334.jpg gespeichert: results/opencv/ADE_train_00005334.jpg\n",
      "Ergebnis für Bild ADE_frame_00000152.jpg gespeichert: results/opencv/ADE_frame_00000152.jpg\n",
      "Ergebnis für Bild ADE_train_00002141.jpg gespeichert: results/opencv/ADE_train_00002141.jpg\n",
      "Ergebnis für Bild ADE_train_00000668.jpg gespeichert: results/opencv/ADE_train_00000668.jpg\n",
      "Ergebnis für Bild ADE_train_00008799.jpg gespeichert: results/opencv/ADE_train_00008799.jpg\n",
      "Ergebnis für Bild ADE_train_00023640.jpg gespeichert: results/opencv/ADE_train_00023640.jpg\n",
      "Ergebnis für Bild ADE_frame_00000219.jpg gespeichert: results/opencv/ADE_frame_00000219.jpg\n",
      "Ergebnis für Bild ADE_train_00008805.jpg gespeichert: results/opencv/ADE_train_00008805.jpg\n",
      "Ergebnis für Bild ADE_train_00022690.jpg gespeichert: results/opencv/ADE_train_00022690.jpg\n",
      "Ergebnis für Bild ADE_train_00001637.jpg gespeichert: results/opencv/ADE_train_00001637.jpg\n",
      "Ergebnis für Bild ADE_train_00019289.jpg gespeichert: results/opencv/ADE_train_00019289.jpg\n",
      "Ergebnis für Bild ADE_train_00001638.jpg gespeichert: results/opencv/ADE_train_00001638.jpg\n",
      "Ergebnis für Bild ADE_train_00008806.jpg gespeichert: results/opencv/ADE_train_00008806.jpg\n",
      "Ergebnis für Bild ADE_train_00001653.jpg gespeichert: results/opencv/ADE_train_00001653.jpg\n",
      "Ergebnis für Bild ADE_train_00001751.jpg gespeichert: results/opencv/ADE_train_00001751.jpg\n",
      "Ergebnis für Bild ADE_train_00011668.jpg gespeichert: results/opencv/ADE_train_00011668.jpg\n",
      "Ergebnis für Bild ADE_train_00021740.jpg gespeichert: results/opencv/ADE_train_00021740.jpg\n",
      "Ergebnis für Bild ADE_frame_00000007.jpg gespeichert: results/opencv/ADE_frame_00000007.jpg\n",
      "Ergebnis für Bild ADE_train_00015623.jpg gespeichert: results/opencv/ADE_train_00015623.jpg\n",
      "Ergebnis für Bild ADE_train_00003114.jpg gespeichert: results/opencv/ADE_train_00003114.jpg\n",
      "Ergebnis für Bild ADE_train_00015288.jpg gespeichert: results/opencv/ADE_train_00015288.jpg\n",
      "Ergebnis für Bild ADE_train_00005348.jpg gespeichert: results/opencv/ADE_train_00005348.jpg\n",
      "Ergebnis für Bild ADE_train_00010000.jpg gespeichert: results/opencv/ADE_train_00010000.jpg\n",
      "Ergebnis für Bild ADE_train_00021747.jpg gespeichert: results/opencv/ADE_train_00021747.jpg\n",
      "Ergebnis für Bild ADE_train_00002345.jpg gespeichert: results/opencv/ADE_train_00002345.jpg\n",
      "Ergebnis für Bild ADE_train_00001778.jpg gespeichert: results/opencv/ADE_train_00001778.jpg\n",
      "Ergebnis für Bild ADE_train_00003098.jpg gespeichert: results/opencv/ADE_train_00003098.jpg\n",
      "Ergebnis für Bild ADE_train_00005326.jpg gespeichert: results/opencv/ADE_train_00005326.jpg\n",
      "Ergebnis für Bild ADE_train_00003081.jpg gespeichert: results/opencv/ADE_train_00003081.jpg\n",
      "Ergebnis für Bild ADE_train_00020078.jpg gespeichert: results/opencv/ADE_train_00020078.jpg\n",
      "Ergebnis für Bild ADE_train_00022694.jpg gespeichert: results/opencv/ADE_train_00022694.jpg\n",
      "Ergebnis für Bild ADE_train_00000670.jpg gespeichert: results/opencv/ADE_train_00000670.jpg\n",
      "Ergebnis für Bild ADE_train_00020473.jpg gespeichert: results/opencv/ADE_train_00020473.jpg\n",
      "Ergebnis für Bild ADE_train_00002284.jpg gespeichert: results/opencv/ADE_train_00002284.jpg\n",
      "Ergebnis für Bild ADE_train_00006616.jpg gespeichert: results/opencv/ADE_train_00006616.jpg\n",
      "Ergebnis für Bild ADE_train_00001670.jpg gespeichert: results/opencv/ADE_train_00001670.jpg\n",
      "Ergebnis für Bild ADE_train_00002300.jpg gespeichert: results/opencv/ADE_train_00002300.jpg\n",
      "Ergebnis für Bild ADE_train_00013808.jpg gespeichert: results/opencv/ADE_train_00013808.jpg\n",
      "Ergebnis für Bild ADE_train_00001754.jpg gespeichert: results/opencv/ADE_train_00001754.jpg\n",
      "Ergebnis für Bild ADE_train_00012218.jpg gespeichert: results/opencv/ADE_train_00012218.jpg\n",
      "Ergebnis für Bild ADE_train_00006405.jpg gespeichert: results/opencv/ADE_train_00006405.jpg\n",
      "Ergebnis für Bild ADE_train_00002463.jpg gespeichert: results/opencv/ADE_train_00002463.jpg\n",
      "Ergebnis für Bild ADE_train_00008807.jpg gespeichert: results/opencv/ADE_train_00008807.jpg\n",
      "Ergebnis für Bild ADE_train_00011662.jpg gespeichert: results/opencv/ADE_train_00011662.jpg\n",
      "Ergebnis für Bild ADE_train_00022680.jpg gespeichert: results/opencv/ADE_train_00022680.jpg\n",
      "Ergebnis für Bild ADE_frame_00000071.jpg gespeichert: results/opencv/ADE_frame_00000071.jpg\n",
      "Ergebnis für Bild ADE_train_00001702.jpg gespeichert: results/opencv/ADE_train_00001702.jpg\n",
      "Ergebnis für Bild ADE_train_00008673.jpg gespeichert: results/opencv/ADE_train_00008673.jpg\n",
      "Ergebnis für Bild ADE_train_00002146.jpg gespeichert: results/opencv/ADE_train_00002146.jpg\n",
      "Ergebnis für Bild ADE_train_00002000.jpg gespeichert: results/opencv/ADE_train_00002000.jpg\n",
      "Ergebnis für Bild ADE_train_00024787.jpg gespeichert: results/opencv/ADE_train_00024787.jpg\n",
      "Ergebnis für Bild ADE_train_00001558.jpg gespeichert: results/opencv/ADE_train_00001558.jpg\n",
      "Ergebnis für Bild ADE_train_00023133.jpg gespeichert: results/opencv/ADE_train_00023133.jpg\n",
      "Ergebnis für Bild ADE_train_00001709.jpg gespeichert: results/opencv/ADE_train_00001709.jpg\n",
      "Ergebnis für Bild ADE_train_00005349.jpg gespeichert: results/opencv/ADE_train_00005349.jpg\n",
      "Ergebnis für Bild ADE_train_00000665.jpg gespeichert: results/opencv/ADE_train_00000665.jpg\n",
      "Ergebnis für Bild ADE_train_00000654.jpg gespeichert: results/opencv/ADE_train_00000654.jpg\n",
      "Ergebnis für Bild ADE_train_00001571.jpg gespeichert: results/opencv/ADE_train_00001571.jpg\n",
      "Ergebnis für Bild ADE_train_00011667.jpg gespeichert: results/opencv/ADE_train_00011667.jpg\n",
      "Ergebnis für Bild ADE_frame_00000094.jpg gespeichert: results/opencv/ADE_frame_00000094.jpg\n",
      "Ergebnis für Bild ADE_train_00003087.jpg gespeichert: results/opencv/ADE_train_00003087.jpg\n",
      "Ergebnis für Bild ADE_train_00012234.jpg gespeichert: results/opencv/ADE_train_00012234.jpg\n",
      "Ergebnis für Bild ADE_train_00013813.jpg gespeichert: results/opencv/ADE_train_00013813.jpg\n",
      "Ergebnis für Bild ADE_train_00001800.jpg gespeichert: results/opencv/ADE_train_00001800.jpg\n",
      "Ergebnis für Bild ADE_train_00001691.jpg gespeichert: results/opencv/ADE_train_00001691.jpg\n",
      "Ergebnis für Bild ADE_train_00001744.jpg gespeichert: results/opencv/ADE_train_00001744.jpg\n",
      "Ergebnis für Bild ADE_train_00015702.jpg gespeichert: results/opencv/ADE_train_00015702.jpg\n",
      "Ergebnis für Bild ADE_train_00005392.jpg gespeichert: results/opencv/ADE_train_00005392.jpg\n",
      "Ergebnis für Bild ADE_train_00001779.jpg gespeichert: results/opencv/ADE_train_00001779.jpg\n",
      "Ergebnis für Bild ADE_train_00001743.jpg gespeichert: results/opencv/ADE_train_00001743.jpg\n",
      "Ergebnis für Bild ADE_train_00001718.jpg gespeichert: results/opencv/ADE_train_00001718.jpg\n",
      "Ergebnis für Bild ADE_train_00000662.jpg gespeichert: results/opencv/ADE_train_00000662.jpg\n",
      "Ergebnis für Bild ADE_train_00001559.jpg gespeichert: results/opencv/ADE_train_00001559.jpg\n",
      "Ergebnis für Bild ADE_frame_00000255.jpg gespeichert: results/opencv/ADE_frame_00000255.jpg\n",
      "Ergebnis für Bild ADE_train_00001659.jpg gespeichert: results/opencv/ADE_train_00001659.jpg\n",
      "Ergebnis für Bild ADE_train_00009995.jpg gespeichert: results/opencv/ADE_train_00009995.jpg\n",
      "Ergebnis für Bild ADE_train_00001736.jpg gespeichert: results/opencv/ADE_train_00001736.jpg\n",
      "Ergebnis für Bild ADE_train_00003085.jpg gespeichert: results/opencv/ADE_train_00003085.jpg\n",
      "Ergebnis für Bild ADE_train_00022527.jpg gespeichert: results/opencv/ADE_train_00022527.jpg\n",
      "Ergebnis für Bild ADE_frame_00000153.jpg gespeichert: results/opencv/ADE_frame_00000153.jpg\n",
      "Ergebnis für Bild ADE_train_00001560.jpg gespeichert: results/opencv/ADE_train_00001560.jpg\n",
      "Ergebnis für Bild ADE_train_00019282.jpg gespeichert: results/opencv/ADE_train_00019282.jpg\n",
      "Ergebnis für Bild ADE_train_00009977.jpg gespeichert: results/opencv/ADE_train_00009977.jpg\n",
      "Ergebnis für Bild ADE_train_00022759.jpg gespeichert: results/opencv/ADE_train_00022759.jpg\n",
      "Ergebnis für Bild ADE_train_00000669.jpg gespeichert: results/opencv/ADE_train_00000669.jpg\n",
      "Ergebnis für Bild ADE_train_00020469.jpg gespeichert: results/opencv/ADE_train_00020469.jpg\n",
      "Ergebnis für Bild ADE_train_00002299.jpg gespeichert: results/opencv/ADE_train_00002299.jpg\n",
      "Ergebnis für Bild ADE_train_00001732.jpg gespeichert: results/opencv/ADE_train_00001732.jpg\n",
      "Ergebnis für Bild ADE_train_00000003.jpg gespeichert: results/opencv/ADE_train_00000003.jpg\n",
      "Ergebnis für Bild ADE_train_00022636.jpg gespeichert: results/opencv/ADE_train_00022636.jpg\n",
      "Ergebnis für Bild ADE_train_00005393.jpg gespeichert: results/opencv/ADE_train_00005393.jpg\n",
      "Ergebnis für Bild ADE_train_00022632.jpg gespeichert: results/opencv/ADE_train_00022632.jpg\n",
      "Ergebnis für Bild ADE_train_00000671.jpg gespeichert: results/opencv/ADE_train_00000671.jpg\n",
      "Ergebnis für Bild ADE_train_00001661.jpg gespeichert: results/opencv/ADE_train_00001661.jpg\n",
      "Ergebnis für Bild ADE_train_00019005.jpg gespeichert: results/opencv/ADE_train_00019005.jpg\n",
      "Ergebnis für Bild ADE_train_00008811.jpg gespeichert: results/opencv/ADE_train_00008811.jpg\n",
      "Ergebnis für Bild ADE_train_00000652.jpg gespeichert: results/opencv/ADE_train_00000652.jpg\n",
      "Ergebnis für Bild ADE_train_00001792.jpg gespeichert: results/opencv/ADE_train_00001792.jpg\n",
      "Ergebnis für Bild ADE_train_00022689.jpg gespeichert: results/opencv/ADE_train_00022689.jpg\n",
      "Ergebnis für Bild ADE_train_00022760.jpg gespeichert: results/opencv/ADE_train_00022760.jpg\n",
      "Ergebnis für Bild ADE_train_00001768.jpg gespeichert: results/opencv/ADE_train_00001768.jpg\n",
      "Ergebnis für Bild ADE_train_00001719.jpg gespeichert: results/opencv/ADE_train_00001719.jpg\n",
      "Ergebnis für Bild ADE_train_00001647.jpg gespeichert: results/opencv/ADE_train_00001647.jpg\n",
      "Ergebnis für Bild ADE_train_00008814.jpg gespeichert: results/opencv/ADE_train_00008814.jpg\n",
      "Ergebnis für Bild ADE_train_00001770.jpg gespeichert: results/opencv/ADE_train_00001770.jpg\n",
      "Ergebnis für Bild ADE_train_00001777.jpg gespeichert: results/opencv/ADE_train_00001777.jpg\n",
      "Ergebnis für Bild ADE_train_00008809.jpg gespeichert: results/opencv/ADE_train_00008809.jpg\n",
      "Ergebnis für Bild ADE_train_00004252.jpg gespeichert: results/opencv/ADE_train_00004252.jpg\n",
      "Ergebnis für Bild ADE_train_00020233.jpg gespeichert: results/opencv/ADE_train_00020233.jpg\n",
      "Ergebnis für Bild ADE_frame_00000021.jpg gespeichert: results/opencv/ADE_frame_00000021.jpg\n",
      "Ergebnis für Bild ADE_train_00008813.jpg gespeichert: results/opencv/ADE_train_00008813.jpg\n",
      "Ergebnis für Bild ADE_train_00008800.jpg gespeichert: results/opencv/ADE_train_00008800.jpg\n",
      "Ergebnis für Bild ADE_train_00005346.jpg gespeichert: results/opencv/ADE_train_00005346.jpg\n",
      "Ergebnis für Bild ADE_train_00003080.jpg gespeichert: results/opencv/ADE_train_00003080.jpg\n",
      "Ergebnis für Bild ADE_train_00024363.jpg gespeichert: results/opencv/ADE_train_00024363.jpg\n",
      "Ergebnis für Bild ADE_train_00022687.jpg gespeichert: results/opencv/ADE_train_00022687.jpg\n",
      "Ergebnis für Bild ADE_train_00022985.jpg gespeichert: results/opencv/ADE_train_00022985.jpg\n",
      "Ergebnis für Bild ADE_train_00001723.jpg gespeichert: results/opencv/ADE_train_00001723.jpg\n",
      "Ergebnis für Bild ADE_train_00001734.jpg gespeichert: results/opencv/ADE_train_00001734.jpg\n",
      "Ergebnis für Bild ADE_train_00004956.jpg gespeichert: results/opencv/ADE_train_00004956.jpg\n",
      "Ergebnis für Bild ADE_train_00000584.jpg gespeichert: results/opencv/ADE_train_00000584.jpg\n",
      "Ergebnis für Bild ADE_train_00002343.jpg gespeichert: results/opencv/ADE_train_00002343.jpg\n",
      "Ergebnis für Bild ADE_train_00013812.jpg gespeichert: results/opencv/ADE_train_00013812.jpg\n",
      "Ergebnis für Bild ADE_train_00001641.jpg gespeichert: results/opencv/ADE_train_00001641.jpg\n",
      "Ergebnis für Bild ADE_train_00001672.jpg gespeichert: results/opencv/ADE_train_00001672.jpg\n",
      "Ergebnis für Bild ADE_train_00002282.jpg gespeichert: results/opencv/ADE_train_00002282.jpg\n",
      "Ergebnis für Bild ADE_train_00008816.jpg gespeichert: results/opencv/ADE_train_00008816.jpg\n",
      "Ergebnis für Bild ADE_train_00010765.jpg gespeichert: results/opencv/ADE_train_00010765.jpg\n",
      "Ergebnis für Bild ADE_train_00020470.jpg gespeichert: results/opencv/ADE_train_00020470.jpg\n",
      "Ergebnis für Bild ADE_train_00023926.jpg gespeichert: results/opencv/ADE_train_00023926.jpg\n",
      "Ergebnis für Bild ADE_train_00002148.jpg gespeichert: results/opencv/ADE_train_00002148.jpg\n",
      "Ergebnis für Bild ADE_train_00005418.jpg gespeichert: results/opencv/ADE_train_00005418.jpg\n",
      "Ergebnis für Bild ADE_train_00001682.jpg gespeichert: results/opencv/ADE_train_00001682.jpg\n",
      "Ergebnis für Bild ADE_train_00001715.jpg gespeichert: results/opencv/ADE_train_00001715.jpg\n",
      "Ergebnis für Bild ADE_train_00001766.jpg gespeichert: results/opencv/ADE_train_00001766.jpg\n",
      "Ergebnis für Bild ADE_train_00003092.jpg gespeichert: results/opencv/ADE_train_00003092.jpg\n",
      "Ergebnis für Bild ADE_train_00001849.jpg gespeichert: results/opencv/ADE_train_00001849.jpg\n",
      "Ergebnis für Bild ADE_train_00001646.jpg gespeichert: results/opencv/ADE_train_00001646.jpg\n",
      "Ergebnis für Bild ADE_train_00011914.jpg gespeichert: results/opencv/ADE_train_00011914.jpg\n",
      "Ergebnis für Bild ADE_train_00010978.jpg gespeichert: results/opencv/ADE_train_00010978.jpg\n",
      "Ergebnis für Bild ADE_train_00022713.jpg gespeichert: results/opencv/ADE_train_00022713.jpg\n",
      "Ergebnis für Bild ADE_frame_00000043.jpg gespeichert: results/opencv/ADE_frame_00000043.jpg\n",
      "Ergebnis für Bild ADE_train_00012253.jpg gespeichert: results/opencv/ADE_train_00012253.jpg\n",
      "Ergebnis für Bild ADE_train_00001705.jpg gespeichert: results/opencv/ADE_train_00001705.jpg\n",
      "Ergebnis für Bild ADE_train_00019300.jpg gespeichert: results/opencv/ADE_train_00019300.jpg\n",
      "Ergebnis für Bild ADE_frame_00000045.jpg gespeichert: results/opencv/ADE_frame_00000045.jpg\n",
      "Ergebnis für Bild ADE_train_00005167.jpg gespeichert: results/opencv/ADE_train_00005167.jpg\n",
      "Ergebnis für Bild ADE_train_00011670.jpg gespeichert: results/opencv/ADE_train_00011670.jpg\n",
      "Ergebnis für Bild ADE_train_00019293.jpg gespeichert: results/opencv/ADE_train_00019293.jpg\n",
      "Ergebnis für Bild ADE_train_00002269.jpg gespeichert: results/opencv/ADE_train_00002269.jpg\n",
      "Ergebnis für Bild ADE_train_00001592.jpg gespeichert: results/opencv/ADE_train_00001592.jpg\n",
      "Ergebnis für Bild ADE_train_00001666.jpg gespeichert: results/opencv/ADE_train_00001666.jpg\n",
      "Ergebnis für Bild ADE_train_00006612.jpg gespeichert: results/opencv/ADE_train_00006612.jpg\n",
      "Ergebnis für Bild ADE_train_00004948.jpg gespeichert: results/opencv/ADE_train_00004948.jpg\n",
      "Ergebnis für Bild ADE_train_00001995.jpg gespeichert: results/opencv/ADE_train_00001995.jpg\n",
      "Ergebnis für Bild ADE_train_00022764.jpg gespeichert: results/opencv/ADE_train_00022764.jpg\n",
      "Ergebnis für Bild ADE_train_00005329.jpg gespeichert: results/opencv/ADE_train_00005329.jpg\n",
      "Ergebnis für Bild ADE_train_00022702.jpg gespeichert: results/opencv/ADE_train_00022702.jpg\n",
      "Ergebnis für Bild ADE_train_00019296.jpg gespeichert: results/opencv/ADE_train_00019296.jpg\n",
      "Ergebnis für Bild ADE_train_00001851.jpg gespeichert: results/opencv/ADE_train_00001851.jpg\n",
      "Ergebnis für Bild ADE_train_00001696.jpg gespeichert: results/opencv/ADE_train_00001696.jpg\n",
      "Ergebnis für Bild ADE_train_00020236.jpg gespeichert: results/opencv/ADE_train_00020236.jpg\n",
      "Ergebnis für Bild ADE_train_00000673.jpg gespeichert: results/opencv/ADE_train_00000673.jpg\n",
      "Ergebnis für Bild ADE_train_00002277.jpg gespeichert: results/opencv/ADE_train_00002277.jpg\n",
      "Ergebnis für Bild ADE_train_00002350.jpg gespeichert: results/opencv/ADE_train_00002350.jpg\n",
      "Ergebnis für Bild ADE_frame_00000105.jpg gespeichert: results/opencv/ADE_frame_00000105.jpg\n",
      "Ergebnis für Bild ADE_train_00004253.jpg gespeichert: results/opencv/ADE_train_00004253.jpg\n",
      "Ergebnis für Bild ADE_train_00022765.jpg gespeichert: results/opencv/ADE_train_00022765.jpg\n",
      "Ergebnis für Bild ADE_train_00024074.jpg gespeichert: results/opencv/ADE_train_00024074.jpg\n",
      "Ergebnis für Bild ADE_train_00001494.jpg gespeichert: results/opencv/ADE_train_00001494.jpg\n",
      "Ergebnis für Bild ADE_frame_00000041.jpg gespeichert: results/opencv/ADE_frame_00000041.jpg\n",
      "Ergebnis für Bild ADE_train_00001710.jpg gespeichert: results/opencv/ADE_train_00001710.jpg\n",
      "Ergebnis für Bild ADE_frame_00000025.jpg gespeichert: results/opencv/ADE_frame_00000025.jpg\n",
      "Ergebnis für Bild ADE_train_00019292.jpg gespeichert: results/opencv/ADE_train_00019292.jpg\n",
      "Ergebnis für Bild ADE_train_00002268.jpg gespeichert: results/opencv/ADE_train_00002268.jpg\n",
      "Ergebnis für Bild ADE_train_00019285.jpg gespeichert: results/opencv/ADE_train_00019285.jpg\n",
      "Ergebnis für Bild ADE_train_00005338.jpg gespeichert: results/opencv/ADE_train_00005338.jpg\n",
      "Ergebnis für Bild ADE_train_00020474.jpg gespeichert: results/opencv/ADE_train_00020474.jpg\n",
      "Ergebnis für Bild ADE_train_00023925.jpg gespeichert: results/opencv/ADE_train_00023925.jpg\n",
      "Ergebnis für Bild ADE_train_00001591.jpg gespeichert: results/opencv/ADE_train_00001591.jpg\n",
      "Ergebnis für Bild ADE_train_00001733.jpg gespeichert: results/opencv/ADE_train_00001733.jpg\n",
      "Ergebnis für Bild ADE_train_00008817.jpg gespeichert: results/opencv/ADE_train_00008817.jpg\n",
      "Ergebnis für Bild ADE_train_00011665.jpg gespeichert: results/opencv/ADE_train_00011665.jpg\n",
      "Ergebnis für Bild ADE_train_00022648.jpg gespeichert: results/opencv/ADE_train_00022648.jpg\n",
      "Ergebnis für Bild ADE_train_00002283.jpg gespeichert: results/opencv/ADE_train_00002283.jpg\n",
      "Ergebnis für Bild ADE_train_00001692.jpg gespeichert: results/opencv/ADE_train_00001692.jpg\n",
      "Ergebnis für Bild ADE_train_00002147.jpg gespeichert: results/opencv/ADE_train_00002147.jpg\n",
      "Ergebnis für Bild ADE_train_00001752.jpg gespeichert: results/opencv/ADE_train_00001752.jpg\n",
      "Ergebnis für Bild ADE_train_00001742.jpg gespeichert: results/opencv/ADE_train_00001742.jpg\n",
      "Ergebnis für Bild ADE_train_00001729.jpg gespeichert: results/opencv/ADE_train_00001729.jpg\n",
      "Ergebnis für Bild ADE_train_00008299.jpg gespeichert: results/opencv/ADE_train_00008299.jpg\n",
      "Ergebnis für Bild ADE_train_00010763.jpg gespeichert: results/opencv/ADE_train_00010763.jpg\n",
      "Ergebnis für Bild ADE_train_00002142.jpg gespeichert: results/opencv/ADE_train_00002142.jpg\n",
      "Ergebnis für Bild ADE_train_00005414.jpg gespeichert: results/opencv/ADE_train_00005414.jpg\n",
      "Ergebnis für Bild ADE_train_00025023.jpg gespeichert: results/opencv/ADE_train_00025023.jpg\n",
      "Ergebnis für Bild ADE_train_00002278.jpg gespeichert: results/opencv/ADE_train_00002278.jpg\n",
      "Ergebnis für Bild ADE_train_00019295.jpg gespeichert: results/opencv/ADE_train_00019295.jpg\n",
      "Ergebnis für Bild ADE_train_00001684.jpg gespeichert: results/opencv/ADE_train_00001684.jpg\n",
      "Ergebnis für Bild ADE_train_00001764.jpg gespeichert: results/opencv/ADE_train_00001764.jpg\n",
      "Ergebnis für Bild ADE_train_00014180.jpg gespeichert: results/opencv/ADE_train_00014180.jpg\n",
      "Ergebnis für Bild ADE_train_00001731.jpg gespeichert: results/opencv/ADE_train_00001731.jpg\n",
      "Ergebnis für Bild ADE_train_00001853.jpg gespeichert: results/opencv/ADE_train_00001853.jpg\n",
      "Ergebnis für Bild ADE_train_00001335.jpg gespeichert: results/opencv/ADE_train_00001335.jpg\n",
      "Ergebnis für Bild ADE_train_00001671.jpg gespeichert: results/opencv/ADE_train_00001671.jpg\n",
      "Ergebnis für Bild ADE_train_00009997.jpg gespeichert: results/opencv/ADE_train_00009997.jpg\n",
      "Ergebnis für Bild ADE_train_00001564.jpg gespeichert: results/opencv/ADE_train_00001564.jpg\n",
      "Ergebnis für Bild ADE_train_00019279.jpg gespeichert: results/opencv/ADE_train_00019279.jpg\n",
      "Ergebnis für Bild ADE_train_00001737.jpg gespeichert: results/opencv/ADE_train_00001737.jpg\n",
      "Ergebnis für Bild ADE_train_00005331.jpg gespeichert: results/opencv/ADE_train_00005331.jpg\n",
      "Ergebnis für Bild ADE_train_00000666.jpg gespeichert: results/opencv/ADE_train_00000666.jpg\n",
      "Ergebnis für Bild ADE_train_00001796.jpg gespeichert: results/opencv/ADE_train_00001796.jpg\n",
      "Ergebnis für Bild ADE_train_00001799.jpg gespeichert: results/opencv/ADE_train_00001799.jpg\n",
      "Ergebnis für Bild ADE_train_00002144.jpg gespeichert: results/opencv/ADE_train_00002144.jpg\n",
      "Ergebnis für Bild ADE_train_00001848.jpg gespeichert: results/opencv/ADE_train_00001848.jpg\n",
      "Ergebnis für Bild ADE_train_00002292.jpg gespeichert: results/opencv/ADE_train_00002292.jpg\n",
      "Ergebnis für Bild ADE_train_00012230.jpg gespeichert: results/opencv/ADE_train_00012230.jpg\n",
      "Ergebnis für Bild ADE_train_00001664.jpg gespeichert: results/opencv/ADE_train_00001664.jpg\n",
      "Ergebnis für Bild ADE_train_00001607.jpg gespeichert: results/opencv/ADE_train_00001607.jpg\n",
      "Ergebnis für Bild ADE_train_00002294.jpg gespeichert: results/opencv/ADE_train_00002294.jpg\n",
      "Ergebnis für Bild ADE_train_00008802.jpg gespeichert: results/opencv/ADE_train_00008802.jpg\n",
      "Ergebnis für Bild ADE_train_00012221.jpg gespeichert: results/opencv/ADE_train_00012221.jpg\n",
      "Ergebnis für Bild ADE_train_00001678.jpg gespeichert: results/opencv/ADE_train_00001678.jpg\n",
      "Ergebnis für Bild ADE_train_00001730.jpg gespeichert: results/opencv/ADE_train_00001730.jpg\n",
      "Ergebnis für Bild ADE_train_00012288.jpg gespeichert: results/opencv/ADE_train_00012288.jpg\n",
      "Ergebnis für Bild ADE_train_00001634.jpg gespeichert: results/opencv/ADE_train_00001634.jpg\n",
      "Ergebnis für Bild ADE_train_00019501.jpg gespeichert: results/opencv/ADE_train_00019501.jpg\n",
      "Ergebnis für Bild ADE_train_00001712.jpg gespeichert: results/opencv/ADE_train_00001712.jpg\n",
      "Ergebnis für Bild ADE_train_00004247.jpg gespeichert: results/opencv/ADE_train_00004247.jpg\n",
      "Ergebnis für Bild ADE_train_00022679.jpg gespeichert: results/opencv/ADE_train_00022679.jpg\n",
      "Ergebnis für Bild ADE_train_00008804.jpg gespeichert: results/opencv/ADE_train_00008804.jpg\n",
      "Ergebnis für Bild ADE_train_00001700.jpg gespeichert: results/opencv/ADE_train_00001700.jpg\n",
      "Ergebnis für Bild ADE_train_00001650.jpg gespeichert: results/opencv/ADE_train_00001650.jpg\n",
      "Ergebnis für Bild ADE_train_00001745.jpg gespeichert: results/opencv/ADE_train_00001745.jpg\n",
      "Ergebnis für Bild ADE_train_00022691.jpg gespeichert: results/opencv/ADE_train_00022691.jpg\n",
      "Ergebnis für Bild ADE_train_00001722.jpg gespeichert: results/opencv/ADE_train_00001722.jpg\n",
      "Ergebnis für Bild ADE_train_00022676.jpg gespeichert: results/opencv/ADE_train_00022676.jpg\n",
      "Ergebnis für Bild ADE_train_00000661.jpg gespeichert: results/opencv/ADE_train_00000661.jpg\n",
      "Ergebnis für Bild ADE_train_00004953.jpg gespeichert: results/opencv/ADE_train_00004953.jpg\n",
      "Ergebnis für Bild ADE_train_00003097.jpg gespeichert: results/opencv/ADE_train_00003097.jpg\n",
      "Ergebnis für Bild ADE_train_00001707.jpg gespeichert: results/opencv/ADE_train_00001707.jpg\n",
      "Ergebnis für Bild ADE_train_00020588.jpg gespeichert: results/opencv/ADE_train_00020588.jpg\n",
      "Ergebnis für Bild ADE_train_00001685.jpg gespeichert: results/opencv/ADE_train_00001685.jpg\n",
      "Ergebnis für Bild ADE_train_00024078.jpg gespeichert: results/opencv/ADE_train_00024078.jpg\n",
      "Ergebnis für Bild ADE_train_00001740.jpg gespeichert: results/opencv/ADE_train_00001740.jpg\n",
      "Ergebnis für Bild ADE_train_00001772.jpg gespeichert: results/opencv/ADE_train_00001772.jpg\n",
      "Ergebnis für Bild ADE_train_00004949.jpg gespeichert: results/opencv/ADE_train_00004949.jpg\n",
      "Ergebnis für Bild ADE_train_00002275.jpg gespeichert: results/opencv/ADE_train_00002275.jpg\n",
      "Ergebnis für Bild ADE_train_00002290.jpg gespeichert: results/opencv/ADE_train_00002290.jpg\n",
      "Ergebnis für Bild ADE_train_00002276.jpg gespeichert: results/opencv/ADE_train_00002276.jpg\n",
      "Ergebnis für Bild ADE_train_00022693.jpg gespeichert: results/opencv/ADE_train_00022693.jpg\n",
      "Ergebnis für Bild ADE_train_00005417.jpg gespeichert: results/opencv/ADE_train_00005417.jpg\n",
      "Ergebnis für Bild ADE_train_00001803.jpg gespeichert: results/opencv/ADE_train_00001803.jpg\n",
      "Ergebnis für Bild ADE_train_00019297.jpg gespeichert: results/opencv/ADE_train_00019297.jpg\n",
      "Ergebnis für Bild ADE_train_00000658.jpg gespeichert: results/opencv/ADE_train_00000658.jpg\n",
      "Ergebnis für Bild ADE_train_00019280.jpg gespeichert: results/opencv/ADE_train_00019280.jpg\n",
      "Ergebnis für Bild ADE_train_00009686.jpg gespeichert: results/opencv/ADE_train_00009686.jpg\n",
      "Ergebnis für Bild ADE_train_00022704.jpg gespeichert: results/opencv/ADE_train_00022704.jpg\n",
      "Ergebnis für Bild ADE_train_00005344.jpg gespeichert: results/opencv/ADE_train_00005344.jpg\n",
      "Ergebnis für Bild ADE_train_00019299.jpg gespeichert: results/opencv/ADE_train_00019299.jpg\n",
      "Ergebnis für Bild ADE_train_00012186.jpg gespeichert: results/opencv/ADE_train_00012186.jpg\n",
      "Ergebnis für Bild ADE_train_00002145.jpg gespeichert: results/opencv/ADE_train_00002145.jpg\n",
      "Ergebnis für Bild ADE_train_00005347.jpg gespeichert: results/opencv/ADE_train_00005347.jpg\n",
      "Ergebnis für Bild ADE_train_00016148.jpg gespeichert: results/opencv/ADE_train_00016148.jpg\n",
      "Ergebnis für Bild ADE_train_00012224.jpg gespeichert: results/opencv/ADE_train_00012224.jpg\n",
      "Ergebnis für Bild ADE_train_00022986.jpg gespeichert: results/opencv/ADE_train_00022986.jpg\n",
      "Ergebnis für Bild ADE_train_00003066.jpg gespeichert: results/opencv/ADE_train_00003066.jpg\n",
      "Ergebnis für Bild ADE_train_00001693.jpg gespeichert: results/opencv/ADE_train_00001693.jpg\n",
      "Ergebnis für Bild ADE_train_00012226.jpg gespeichert: results/opencv/ADE_train_00012226.jpg\n",
      "Ergebnis für Bild ADE_train_00002288.jpg gespeichert: results/opencv/ADE_train_00002288.jpg\n",
      "Ergebnis für Bild ADE_train_00005324.jpg gespeichert: results/opencv/ADE_train_00005324.jpg\n",
      "Ergebnis für Bild ADE_frame_00000066.jpg gespeichert: results/opencv/ADE_frame_00000066.jpg\n",
      "Ergebnis für Bild ADE_train_00022763.jpg gespeichert: results/opencv/ADE_train_00022763.jpg\n",
      "Ergebnis für Bild ADE_train_00019287.jpg gespeichert: results/opencv/ADE_train_00019287.jpg\n",
      "Ergebnis für Bild ADE_train_00020276.jpg gespeichert: results/opencv/ADE_train_00020276.jpg\n",
      "Ergebnis für Bild ADE_train_00001493.jpg gespeichert: results/opencv/ADE_train_00001493.jpg\n",
      "Ergebnis für Bild ADE_train_00024361.jpg gespeichert: results/opencv/ADE_train_00024361.jpg\n",
      "Ergebnis für Bild ADE_train_00004840.jpg gespeichert: results/opencv/ADE_train_00004840.jpg\n",
      "Ergebnis für Bild ADE_train_00003086.jpg gespeichert: results/opencv/ADE_train_00003086.jpg\n",
      "Ergebnis für Bild ADE_train_00001652.jpg gespeichert: results/opencv/ADE_train_00001652.jpg\n",
      "Ergebnis für Bild ADE_train_00001706.jpg gespeichert: results/opencv/ADE_train_00001706.jpg\n",
      "Ergebnis für Bild ADE_train_00022677.jpg gespeichert: results/opencv/ADE_train_00022677.jpg\n",
      "Ergebnis für Bild ADE_train_00001724.jpg gespeichert: results/opencv/ADE_train_00001724.jpg\n",
      "Ergebnis für Bild ADE_train_00019284.jpg gespeichert: results/opencv/ADE_train_00019284.jpg\n",
      "Ergebnis für Bild ADE_frame_00000042.jpg gespeichert: results/opencv/ADE_frame_00000042.jpg\n",
      "Ergebnis für Bild ADE_train_00024076.jpg gespeichert: results/opencv/ADE_train_00024076.jpg\n",
      "Ergebnis für Bild ADE_train_00012250.jpg gespeichert: results/opencv/ADE_train_00012250.jpg\n",
      "Ergebnis für Bild ADE_train_00001492.jpg gespeichert: results/opencv/ADE_train_00001492.jpg\n",
      "Ergebnis für Bild ADE_frame_00000299.jpg gespeichert: results/opencv/ADE_frame_00000299.jpg\n",
      "Ergebnis für Bild ADE_train_00001798.jpg gespeichert: results/opencv/ADE_train_00001798.jpg\n",
      "Ergebnis für Bild ADE_train_00001645.jpg gespeichert: results/opencv/ADE_train_00001645.jpg\n",
      "Ergebnis für Bild ADE_train_00001807.jpg gespeichert: results/opencv/ADE_train_00001807.jpg\n",
      "Ergebnis für Bild ADE_train_00001739.jpg gespeichert: results/opencv/ADE_train_00001739.jpg\n",
      "Ergebnis für Bild ADE_train_00001665.jpg gespeichert: results/opencv/ADE_train_00001665.jpg\n",
      "Ergebnis für Bild ADE_train_00022649.jpg gespeichert: results/opencv/ADE_train_00022649.jpg\n",
      "Ergebnis für Bild ADE_train_00001503.jpg gespeichert: results/opencv/ADE_train_00001503.jpg\n",
      "Ergebnis für Bild ADE_frame_00000154.jpg gespeichert: results/opencv/ADE_frame_00000154.jpg\n",
      "Ergebnis für Bild ADE_train_00004954.jpg gespeichert: results/opencv/ADE_train_00004954.jpg\n",
      "Ergebnis für Bild ADE_train_00012229.jpg gespeichert: results/opencv/ADE_train_00012229.jpg\n",
      "Ergebnis für Bild ADE_train_00002273.jpg gespeichert: results/opencv/ADE_train_00002273.jpg\n",
      "Ergebnis für Bild ADE_train_00005281.jpg gespeichert: results/opencv/ADE_train_00005281.jpg\n",
      "Ergebnis für Bild ADE_train_00013809.jpg gespeichert: results/opencv/ADE_train_00013809.jpg\n",
      "Ergebnis für Bild ADE_train_00001643.jpg gespeichert: results/opencv/ADE_train_00001643.jpg\n",
      "Ergebnis für Bild ADE_train_00001738.jpg gespeichert: results/opencv/ADE_train_00001738.jpg\n",
      "Ergebnis für Bild ADE_train_00004249.jpg gespeichert: results/opencv/ADE_train_00004249.jpg\n",
      "Ergebnis für Bild ADE_train_00000672.jpg gespeichert: results/opencv/ADE_train_00000672.jpg\n",
      "Ergebnis für Bild ADE_train_00001780.jpg gespeichert: results/opencv/ADE_train_00001780.jpg\n",
      "Ergebnis für Bild ADE_train_00001984.jpg gespeichert: results/opencv/ADE_train_00001984.jpg\n",
      "Ergebnis für Bild ADE_train_00000191.jpg gespeichert: results/opencv/ADE_train_00000191.jpg\n",
      "Ergebnis für Bild ADE_train_00002280.jpg gespeichert: results/opencv/ADE_train_00002280.jpg\n",
      "Ergebnis für Bild ADE_train_00001648.jpg gespeichert: results/opencv/ADE_train_00001648.jpg\n",
      "Ergebnis für Bild ADE_train_00005330.jpg gespeichert: results/opencv/ADE_train_00005330.jpg\n",
      "Ergebnis für Bild ADE_train_00021168.jpg gespeichert: results/opencv/ADE_train_00021168.jpg\n",
      "Ergebnis für Bild ADE_train_00000659.jpg gespeichert: results/opencv/ADE_train_00000659.jpg\n",
      "Ergebnis für Bild ADE_train_00002297.jpg gespeichert: results/opencv/ADE_train_00002297.jpg\n",
      "Ergebnis für Bild ADE_train_00010977.jpg gespeichert: results/opencv/ADE_train_00010977.jpg\n",
      "Ergebnis für Bild ADE_train_00001852.jpg gespeichert: results/opencv/ADE_train_00001852.jpg\n",
      "Ergebnis für Bild ADE_train_00012239.jpg gespeichert: results/opencv/ADE_train_00012239.jpg\n",
      "Ergebnis für Bild ADE_train_00020444.jpg gespeichert: results/opencv/ADE_train_00020444.jpg\n",
      "Ergebnis für Bild ADE_train_00000657.jpg gespeichert: results/opencv/ADE_train_00000657.jpg\n",
      "Ergebnis für Bild ADE_train_00001491.jpg gespeichert: results/opencv/ADE_train_00001491.jpg\n",
      "Ergebnis für Bild ADE_train_00016054.jpg gespeichert: results/opencv/ADE_train_00016054.jpg\n",
      "Ergebnis für Bild ADE_train_00001654.jpg gespeichert: results/opencv/ADE_train_00001654.jpg\n",
      "Ergebnis für Bild ADE_train_00011669.jpg gespeichert: results/opencv/ADE_train_00011669.jpg\n",
      "Ergebnis für Bild ADE_train_00019006.jpg gespeichert: results/opencv/ADE_train_00019006.jpg\n",
      "Ergebnis für Bild ADE_train_00000675.jpg gespeichert: results/opencv/ADE_train_00000675.jpg\n",
      "Ergebnis für Bild ADE_frame_00000026.jpg gespeichert: results/opencv/ADE_frame_00000026.jpg\n",
      "Ergebnis für Bild ADE_train_00023924.jpg gespeichert: results/opencv/ADE_train_00023924.jpg\n",
      "Ergebnis für Bild ADE_train_00014336.jpg gespeichert: results/opencv/ADE_train_00014336.jpg\n",
      "Ergebnis für Bild ADE_train_00001769.jpg gespeichert: results/opencv/ADE_train_00001769.jpg\n",
      "Ergebnis für Bild ADE_frame_00000166.jpg gespeichert: results/opencv/ADE_frame_00000166.jpg\n",
      "Ergebnis für Bild ADE_train_00001644.jpg gespeichert: results/opencv/ADE_train_00001644.jpg\n",
      "Ergebnis für Bild ADE_train_00001501.jpg gespeichert: results/opencv/ADE_train_00001501.jpg\n",
      "Ergebnis für Bild ADE_train_00001551.jpg gespeichert: results/opencv/ADE_train_00001551.jpg\n",
      "Ergebnis für Bild ADE_train_00001749.jpg gespeichert: results/opencv/ADE_train_00001749.jpg\n",
      "Ergebnis für Bild ADE_train_00012275.jpg gespeichert: results/opencv/ADE_train_00012275.jpg\n",
      "Ergebnis für Bild ADE_train_00001690.jpg gespeichert: results/opencv/ADE_train_00001690.jpg\n",
      "Ergebnis für Bild ADE_train_00011863.jpg gespeichert: results/opencv/ADE_train_00011863.jpg\n",
      "Ergebnis für Bild ADE_train_00001677.jpg gespeichert: results/opencv/ADE_train_00001677.jpg\n",
      "Ergebnis für Bild ADE_train_00001636.jpg gespeichert: results/opencv/ADE_train_00001636.jpg\n",
      "Ergebnis für Bild ADE_frame_00000044.jpg gespeichert: results/opencv/ADE_frame_00000044.jpg\n",
      "Ergebnis für Bild ADE_train_00001669.jpg gespeichert: results/opencv/ADE_train_00001669.jpg\n",
      "Ergebnis für Bild ADE_train_00003096.jpg gespeichert: results/opencv/ADE_train_00003096.jpg\n",
      "Ergebnis für Bild ADE_train_00001708.jpg gespeichert: results/opencv/ADE_train_00001708.jpg\n",
      "Ergebnis für Bild ADE_train_00001656.jpg gespeichert: results/opencv/ADE_train_00001656.jpg\n",
      "Ergebnis für Bild ADE_train_00001639.jpg gespeichert: results/opencv/ADE_train_00001639.jpg\n",
      "Ergebnis für Bild ADE_train_00001725.jpg gespeichert: results/opencv/ADE_train_00001725.jpg\n",
      "Ergebnis für Bild ADE_train_00001658.jpg gespeichert: results/opencv/ADE_train_00001658.jpg\n",
      "Ergebnis für Bild ADE_train_00005416.jpg gespeichert: results/opencv/ADE_train_00005416.jpg\n",
      "Ergebnis für Bild ADE_train_00001801.jpg gespeichert: results/opencv/ADE_train_00001801.jpg\n",
      "Ergebnis für Bild ADE_frame_00000016.jpg gespeichert: results/opencv/ADE_frame_00000016.jpg\n",
      "Ergebnis für Bild ADE_train_00005415.jpg gespeichert: results/opencv/ADE_train_00005415.jpg\n",
      "Ergebnis für Bild ADE_train_00022710.jpg gespeichert: results/opencv/ADE_train_00022710.jpg\n",
      "Ergebnis für Bild ADE_train_00006409.jpg gespeichert: results/opencv/ADE_train_00006409.jpg\n",
      "Ergebnis für Bild ADE_train_00002285.jpg gespeichert: results/opencv/ADE_train_00002285.jpg\n",
      "Ergebnis für Bild ADE_train_00002272.jpg gespeichert: results/opencv/ADE_train_00002272.jpg\n",
      "Ergebnis für Bild ADE_train_00012184.jpg gespeichert: results/opencv/ADE_train_00012184.jpg\n",
      "Ergebnis für Bild ADE_train_00000660.jpg gespeichert: results/opencv/ADE_train_00000660.jpg\n",
      "Ergebnis für Bild ADE_train_00001334.jpg gespeichert: results/opencv/ADE_train_00001334.jpg\n",
      "Ergebnis für Bild ADE_train_00010767.jpg gespeichert: results/opencv/ADE_train_00010767.jpg\n",
      "Ergebnis für Bild ADE_train_00008818.jpg gespeichert: results/opencv/ADE_train_00008818.jpg\n",
      "Ergebnis für Bild ADE_train_00003099.jpg gespeichert: results/opencv/ADE_train_00003099.jpg\n",
      "Ergebnis für Bild ADE_train_00012232.jpg gespeichert: results/opencv/ADE_train_00012232.jpg\n",
      "Ergebnis für Bild ADE_train_00020863.jpg gespeichert: results/opencv/ADE_train_00020863.jpg\n",
      "Ergebnis für Bild ADE_train_00009499.jpg gespeichert: results/opencv/ADE_train_00009499.jpg\n"
     ]
    }
   ],
   "source": [
    "real_images = []\n",
    "opencv_images = []\n",
    "\n",
    "# Schleife durch alle Bilder und Masken\n",
    "\n",
    "image_gen = image_mask_generator_opencv(images_dir, masks_dir, image_files)\n",
    "for fname, image, mask in image_gen:\n",
    "\n",
    "    result = inpaint_with_opencv(image, mask) # Infill mit Lama und der neuen Maske\n",
    "\n",
    "    real_images.append(image)\n",
    "    opencv_images.append(result)\n",
    "\n",
    "    # Append and save result\n",
    "    save_result(image, result, fname, 'opencv')"
   ]
  },
  {
   "cell_type": "code",
   "execution_count": 18,
   "id": "e6ec5aeb-fa66-46bf-be7a-d3a8dfbc0468",
   "metadata": {},
   "outputs": [
    {
     "name": "stdout",
     "output_type": "stream",
     "text": [
      "Setting up [LPIPS] perceptual loss: trunk [alex], v[0.1], spatial [off]\n",
      "Loading model from: /home/ludo/.conda/envs/lama/lib/python3.10/site-packages/lpips/weights/v0.1/alex.pth\n",
      "FID: 57.37362289428711\n",
      "LPIPS: 0.16203530132770538\n"
     ]
    }
   ],
   "source": [
    "# Preprocess the images (resize and convert to tensors)\n",
    "real_images_tensor = preprocess_images(real_images, target_size)\n",
    "opencv_images_tensor = preprocess_images(opencv_images, target_size)\n",
    "\n",
    "fid_score = calculate_fid(real_images_tensor, opencv_images_tensor)\n",
    "\n",
    "lpips_score = calculate_lpips(real_images_tensor, opencv_images_tensor)\n",
    "\n",
    "print(f\"FID: {fid_score}\")\n",
    "print(f\"LPIPS: {lpips_score}\")"
   ]
  },
  {
   "cell_type": "code",
   "execution_count": 16,
   "id": "e4f61e52-9003-462c-beda-44bfdd384ff3",
   "metadata": {},
   "outputs": [],
   "source": [
    "## Stable Diffusion"
   ]
  },
  {
   "cell_type": "code",
   "execution_count": 17,
   "id": "8e9f0837-038d-4c22-8d53-b255ce0541a4",
   "metadata": {},
   "outputs": [
    {
     "name": "stderr",
     "output_type": "stream",
     "text": [
      "Loading pipeline components...: 100%|██████████| 3/3 [00:00<00:00,  5.14it/s]\n",
      "Loading pipeline components...: 100%|██████████| 6/6 [00:00<00:00,  6.46it/s]\n",
      "It seems like you have activated model offloading by calling `enable_model_cpu_offload`, but are now manually moving the pipeline to GPU. It is strongly recommended against doing so as memory gains from offloading are likely to be lost. Offloading automatically takes care of moving the individual components unet, scheduler, movq, prior_prior, prior_image_encoder, prior_text_encoder, prior_tokenizer, prior_scheduler, prior_image_processor to GPU when needed. To make sure offloading works as expected, you should consider moving the pipeline back to CPU: `pipeline.to('cpu')` or removing the move altogether if you use offloading.\n"
     ]
    },
    {
     "data": {
      "text/plain": [
       "KandinskyV22InpaintCombinedPipeline {\n",
       "  \"_class_name\": \"KandinskyV22InpaintCombinedPipeline\",\n",
       "  \"_diffusers_version\": \"0.32.2\",\n",
       "  \"_name_or_path\": \"kandinsky-community/kandinsky-2-2-decoder-inpaint\",\n",
       "  \"movq\": [\n",
       "    \"diffusers\",\n",
       "    \"VQModel\"\n",
       "  ],\n",
       "  \"prior_image_encoder\": [\n",
       "    \"transformers\",\n",
       "    \"CLIPVisionModelWithProjection\"\n",
       "  ],\n",
       "  \"prior_image_processor\": [\n",
       "    \"transformers\",\n",
       "    \"CLIPImageProcessor\"\n",
       "  ],\n",
       "  \"prior_prior\": [\n",
       "    \"diffusers\",\n",
       "    \"PriorTransformer\"\n",
       "  ],\n",
       "  \"prior_scheduler\": [\n",
       "    \"diffusers\",\n",
       "    \"UnCLIPScheduler\"\n",
       "  ],\n",
       "  \"prior_text_encoder\": [\n",
       "    \"transformers\",\n",
       "    \"CLIPTextModelWithProjection\"\n",
       "  ],\n",
       "  \"prior_tokenizer\": [\n",
       "    \"transformers\",\n",
       "    \"CLIPTokenizer\"\n",
       "  ],\n",
       "  \"scheduler\": [\n",
       "    \"diffusers\",\n",
       "    \"DDPMScheduler\"\n",
       "  ],\n",
       "  \"unet\": [\n",
       "    \"diffusers\",\n",
       "    \"UNet2DConditionModel\"\n",
       "  ]\n",
       "}"
      ]
     },
     "execution_count": 17,
     "metadata": {},
     "output_type": "execute_result"
    }
   ],
   "source": [
    "import torch\n",
    "from diffusers import AutoPipelineForInpainting\n",
    "from diffusers.utils import load_image, make_image_grid\n",
    "from PIL import Image\n",
    "import numpy as np\n",
    "\n",
    "# Pipeline initialisieren\n",
    "pipeline = AutoPipelineForInpainting.from_pretrained(\n",
    "    \"kandinsky-community/kandinsky-2-2-decoder-inpaint\", torch_dtype=torch.float16\n",
    ")\n",
    "pipeline.enable_model_cpu_offload()\n",
    "\n",
    "pipeline.to(\"cuda\")\n",
    "\n",
    "\n"
   ]
  },
  {
   "cell_type": "code",
   "execution_count": 18,
   "id": "1e862e37-3c21-4e1e-aff1-da9396e7d6a0",
   "metadata": {},
   "outputs": [],
   "source": [
    "from torchvision import transforms\n",
    "\n",
    "\n",
    "def sd_inpaint(image, mask):\n",
    "\n",
    "    # Generator mit festem Seed für reproduzierbare Ergebnisse\n",
    "    generator = torch.Generator(\"cuda\").manual_seed(92)\n",
    "\n",
    "    # Define a transformation to convert PIL.Image to a PyTorch tensor\n",
    "    transform = transforms.ToTensor()\n",
    "    \n",
    "    # Convert image and mask to tensors\n",
    "    image_tensor = transform(image).unsqueeze(0)  # Add batch dimension\n",
    "    mask_tensor = transform(mask).unsqueeze(0)\n",
    "    \n",
    "    # Move tensors to the GPU\n",
    "    image_tensor = image_tensor.to(\"cuda\")\n",
    "    mask_tensor = mask_tensor.to(\"cuda\")\n",
    "\n",
    "    \n",
    "    # Inpainting mit Stable Diffusion\n",
    "    result = pipeline(\n",
    "        prompt='background',\n",
    "        image=image,\n",
    "        mask_image=mask,\n",
    "        generator=generator\n",
    "    ).images[0]\n",
    "\n",
    "    return result\n",
    "\n",
    "    "
   ]
  },
  {
   "cell_type": "code",
   "execution_count": 19,
   "id": "4eb9d9a4-70a1-48c8-a5f2-a8ea6527de4a",
   "metadata": {},
   "outputs": [
    {
     "name": "stderr",
     "output_type": "stream",
     "text": [
      "100%|██████████| 25/25 [00:00<00:00, 141.16it/s]\n",
      "100%|██████████| 100/100 [00:05<00:00, 17.47it/s]\n"
     ]
    },
    {
     "name": "stdout",
     "output_type": "stream",
     "text": [
      "Ergebnis für Bild ADE_train_00001504.jpg gespeichert: results/sd/ADE_train_00001504.jpg\n"
     ]
    },
    {
     "name": "stderr",
     "output_type": "stream",
     "text": [
      "100%|██████████| 25/25 [00:00<00:00, 147.77it/s]\n",
      "100%|██████████| 100/100 [00:05<00:00, 17.95it/s]\n"
     ]
    },
    {
     "name": "stdout",
     "output_type": "stream",
     "text": [
      "Ergebnis für Bild ADE_train_00012219.jpg gespeichert: results/sd/ADE_train_00012219.jpg\n"
     ]
    },
    {
     "name": "stderr",
     "output_type": "stream",
     "text": [
      "100%|██████████| 25/25 [00:00<00:00, 148.17it/s]\n",
      "100%|██████████| 100/100 [00:04<00:00, 21.59it/s]\n"
     ]
    },
    {
     "name": "stdout",
     "output_type": "stream",
     "text": [
      "Ergebnis für Bild ADE_train_00001716.jpg gespeichert: results/sd/ADE_train_00001716.jpg\n"
     ]
    },
    {
     "name": "stderr",
     "output_type": "stream",
     "text": [
      "100%|██████████| 25/25 [00:00<00:00, 148.44it/s]\n",
      "100%|██████████| 100/100 [00:04<00:00, 20.48it/s]\n"
     ]
    },
    {
     "name": "stdout",
     "output_type": "stream",
     "text": [
      "Ergebnis für Bild ADE_train_00001758.jpg gespeichert: results/sd/ADE_train_00001758.jpg\n"
     ]
    },
    {
     "name": "stderr",
     "output_type": "stream",
     "text": [
      "100%|██████████| 25/25 [00:00<00:00, 147.92it/s]\n",
      "100%|██████████| 100/100 [00:04<00:00, 21.66it/s]\n"
     ]
    },
    {
     "name": "stdout",
     "output_type": "stream",
     "text": [
      "Ergebnis für Bild ADE_train_00001561.jpg gespeichert: results/sd/ADE_train_00001561.jpg\n"
     ]
    },
    {
     "name": "stderr",
     "output_type": "stream",
     "text": [
      "100%|██████████| 25/25 [00:00<00:00, 145.80it/s]\n",
      "100%|██████████| 100/100 [00:04<00:00, 20.58it/s]\n"
     ]
    },
    {
     "name": "stdout",
     "output_type": "stream",
     "text": [
      "Ergebnis für Bild ADE_train_00012246.jpg gespeichert: results/sd/ADE_train_00012246.jpg\n"
     ]
    },
    {
     "name": "stderr",
     "output_type": "stream",
     "text": [
      "100%|██████████| 25/25 [00:00<00:00, 147.92it/s]\n",
      "100%|██████████| 100/100 [00:04<00:00, 21.41it/s]\n"
     ]
    },
    {
     "name": "stdout",
     "output_type": "stream",
     "text": [
      "Ergebnis für Bild ADE_train_00001522.jpg gespeichert: results/sd/ADE_train_00001522.jpg\n"
     ]
    },
    {
     "name": "stderr",
     "output_type": "stream",
     "text": [
      "100%|██████████| 25/25 [00:00<00:00, 148.54it/s]\n",
      "100%|██████████| 100/100 [00:04<00:00, 21.19it/s]\n"
     ]
    },
    {
     "name": "stdout",
     "output_type": "stream",
     "text": [
      "Ergebnis für Bild ADE_train_00005280.jpg gespeichert: results/sd/ADE_train_00005280.jpg\n"
     ]
    },
    {
     "name": "stderr",
     "output_type": "stream",
     "text": [
      "100%|██████████| 25/25 [00:00<00:00, 148.93it/s]\n",
      "100%|██████████| 100/100 [00:04<00:00, 21.64it/s]\n"
     ]
    },
    {
     "name": "stdout",
     "output_type": "stream",
     "text": [
      "Ergebnis für Bild ADE_train_00001763.jpg gespeichert: results/sd/ADE_train_00001763.jpg\n"
     ]
    },
    {
     "name": "stderr",
     "output_type": "stream",
     "text": [
      "100%|██████████| 25/25 [00:00<00:00, 147.90it/s]\n",
      "100%|██████████| 100/100 [00:04<00:00, 20.41it/s]\n"
     ]
    },
    {
     "name": "stdout",
     "output_type": "stream",
     "text": [
      "Ergebnis für Bild ADE_train_00012220.jpg gespeichert: results/sd/ADE_train_00012220.jpg\n"
     ]
    },
    {
     "name": "stderr",
     "output_type": "stream",
     "text": [
      "100%|██████████| 25/25 [00:00<00:00, 148.19it/s]\n",
      "100%|██████████| 100/100 [00:04<00:00, 21.69it/s]\n"
     ]
    },
    {
     "name": "stdout",
     "output_type": "stream",
     "text": [
      "Ergebnis für Bild ADE_train_00003093.jpg gespeichert: results/sd/ADE_train_00003093.jpg\n"
     ]
    },
    {
     "name": "stderr",
     "output_type": "stream",
     "text": [
      "100%|██████████| 25/25 [00:00<00:00, 148.58it/s]\n",
      "100%|██████████| 100/100 [00:04<00:00, 20.89it/s]\n"
     ]
    },
    {
     "name": "stdout",
     "output_type": "stream",
     "text": [
      "Ergebnis für Bild ADE_train_00001850.jpg gespeichert: results/sd/ADE_train_00001850.jpg\n"
     ]
    },
    {
     "name": "stderr",
     "output_type": "stream",
     "text": [
      "100%|██████████| 25/25 [00:00<00:00, 148.24it/s]\n",
      "100%|██████████| 100/100 [00:04<00:00, 21.07it/s]\n"
     ]
    },
    {
     "name": "stdout",
     "output_type": "stream",
     "text": [
      "Ergebnis für Bild ADE_train_00001635.jpg gespeichert: results/sd/ADE_train_00001635.jpg\n"
     ]
    },
    {
     "name": "stderr",
     "output_type": "stream",
     "text": [
      "100%|██████████| 25/25 [00:00<00:00, 147.91it/s]\n",
      "100%|██████████| 100/100 [00:04<00:00, 21.35it/s]\n"
     ]
    },
    {
     "name": "stdout",
     "output_type": "stream",
     "text": [
      "Ergebnis für Bild ADE_train_00008819.jpg gespeichert: results/sd/ADE_train_00008819.jpg\n"
     ]
    },
    {
     "name": "stderr",
     "output_type": "stream",
     "text": [
      "100%|██████████| 25/25 [00:00<00:00, 147.86it/s]\n",
      "100%|██████████| 100/100 [00:04<00:00, 21.59it/s]\n"
     ]
    },
    {
     "name": "stdout",
     "output_type": "stream",
     "text": [
      "Ergebnis für Bild ADE_train_00012185.jpg gespeichert: results/sd/ADE_train_00012185.jpg\n"
     ]
    },
    {
     "name": "stderr",
     "output_type": "stream",
     "text": [
      "100%|██████████| 25/25 [00:00<00:00, 148.08it/s]\n",
      "100%|██████████| 100/100 [00:04<00:00, 21.40it/s]\n"
     ]
    },
    {
     "name": "stdout",
     "output_type": "stream",
     "text": [
      "Ergebnis für Bild ADE_train_00022681.jpg gespeichert: results/sd/ADE_train_00022681.jpg\n"
     ]
    },
    {
     "name": "stderr",
     "output_type": "stream",
     "text": [
      "100%|██████████| 25/25 [00:00<00:00, 148.11it/s]\n",
      "100%|██████████| 100/100 [00:04<00:00, 21.22it/s]\n"
     ]
    },
    {
     "name": "stdout",
     "output_type": "stream",
     "text": [
      "Ergebnis für Bild ADE_train_00022684.jpg gespeichert: results/sd/ADE_train_00022684.jpg\n"
     ]
    },
    {
     "name": "stderr",
     "output_type": "stream",
     "text": [
      "100%|██████████| 25/25 [00:00<00:00, 148.44it/s]\n",
      "100%|██████████| 100/100 [00:04<00:00, 21.68it/s]\n"
     ]
    },
    {
     "name": "stdout",
     "output_type": "stream",
     "text": [
      "Ergebnis für Bild ADE_train_00001222.jpg gespeichert: results/sd/ADE_train_00001222.jpg\n"
     ]
    },
    {
     "name": "stderr",
     "output_type": "stream",
     "text": [
      "100%|██████████| 25/25 [00:00<00:00, 148.24it/s]\n",
      "100%|██████████| 100/100 [00:04<00:00, 21.64it/s]\n"
     ]
    },
    {
     "name": "stdout",
     "output_type": "stream",
     "text": [
      "Ergebnis für Bild ADE_train_00008798.jpg gespeichert: results/sd/ADE_train_00008798.jpg\n"
     ]
    },
    {
     "name": "stderr",
     "output_type": "stream",
     "text": [
      "100%|██████████| 25/25 [00:00<00:00, 149.22it/s]\n",
      "100%|██████████| 100/100 [00:04<00:00, 21.80it/s]\n"
     ]
    },
    {
     "name": "stdout",
     "output_type": "stream",
     "text": [
      "Ergebnis für Bild ADE_train_00001746.jpg gespeichert: results/sd/ADE_train_00001746.jpg\n"
     ]
    },
    {
     "name": "stderr",
     "output_type": "stream",
     "text": [
      "100%|██████████| 25/25 [00:00<00:00, 148.03it/s]\n",
      "100%|██████████| 100/100 [00:04<00:00, 21.60it/s]\n"
     ]
    },
    {
     "name": "stdout",
     "output_type": "stream",
     "text": [
      "Ergebnis für Bild ADE_train_00025047.jpg gespeichert: results/sd/ADE_train_00025047.jpg\n"
     ]
    },
    {
     "name": "stderr",
     "output_type": "stream",
     "text": [
      "100%|██████████| 25/25 [00:00<00:00, 147.70it/s]\n",
      "100%|██████████| 100/100 [00:04<00:00, 21.77it/s]\n"
     ]
    },
    {
     "name": "stdout",
     "output_type": "stream",
     "text": [
      "Ergebnis für Bild ADE_train_00002031.jpg gespeichert: results/sd/ADE_train_00002031.jpg\n"
     ]
    },
    {
     "name": "stderr",
     "output_type": "stream",
     "text": [
      "100%|██████████| 25/25 [00:00<00:00, 148.65it/s]\n",
      "100%|██████████| 100/100 [00:04<00:00, 21.79it/s]\n"
     ]
    },
    {
     "name": "stdout",
     "output_type": "stream",
     "text": [
      "Ergebnis für Bild ADE_train_00001240.jpg gespeichert: results/sd/ADE_train_00001240.jpg\n"
     ]
    },
    {
     "name": "stderr",
     "output_type": "stream",
     "text": [
      "100%|██████████| 25/25 [00:00<00:00, 148.37it/s]\n",
      "100%|██████████| 100/100 [00:04<00:00, 21.79it/s]\n"
     ]
    },
    {
     "name": "stdout",
     "output_type": "stream",
     "text": [
      "Ergebnis für Bild ADE_train_00022698.jpg gespeichert: results/sd/ADE_train_00022698.jpg\n"
     ]
    },
    {
     "name": "stderr",
     "output_type": "stream",
     "text": [
      "100%|██████████| 25/25 [00:00<00:00, 148.24it/s]\n",
      "100%|██████████| 100/100 [00:04<00:00, 21.76it/s]\n"
     ]
    },
    {
     "name": "stdout",
     "output_type": "stream",
     "text": [
      "Ergebnis für Bild ADE_train_00001735.jpg gespeichert: results/sd/ADE_train_00001735.jpg\n"
     ]
    },
    {
     "name": "stderr",
     "output_type": "stream",
     "text": [
      "100%|██████████| 25/25 [00:00<00:00, 148.36it/s]\n",
      "100%|██████████| 100/100 [00:04<00:00, 21.77it/s]\n"
     ]
    },
    {
     "name": "stdout",
     "output_type": "stream",
     "text": [
      "Ergebnis für Bild ADE_train_00005350.jpg gespeichert: results/sd/ADE_train_00005350.jpg\n"
     ]
    },
    {
     "name": "stderr",
     "output_type": "stream",
     "text": [
      "100%|██████████| 25/25 [00:00<00:00, 147.53it/s]\n",
      "100%|██████████| 100/100 [00:04<00:00, 21.40it/s]\n"
     ]
    },
    {
     "name": "stdout",
     "output_type": "stream",
     "text": [
      "Ergebnis für Bild ADE_train_00001726.jpg gespeichert: results/sd/ADE_train_00001726.jpg\n"
     ]
    },
    {
     "name": "stderr",
     "output_type": "stream",
     "text": [
      "100%|██████████| 25/25 [00:00<00:00, 147.80it/s]\n",
      "100%|██████████| 100/100 [00:04<00:00, 21.84it/s]\n"
     ]
    },
    {
     "name": "stdout",
     "output_type": "stream",
     "text": [
      "Ergebnis für Bild ADE_train_00022999.jpg gespeichert: results/sd/ADE_train_00022999.jpg\n"
     ]
    },
    {
     "name": "stderr",
     "output_type": "stream",
     "text": [
      "100%|██████████| 25/25 [00:00<00:00, 148.56it/s]\n",
      "100%|██████████| 100/100 [00:04<00:00, 21.27it/s]\n"
     ]
    },
    {
     "name": "stdout",
     "output_type": "stream",
     "text": [
      "Ergebnis für Bild ADE_train_00001720.jpg gespeichert: results/sd/ADE_train_00001720.jpg\n"
     ]
    },
    {
     "name": "stderr",
     "output_type": "stream",
     "text": [
      "100%|██████████| 25/25 [00:00<00:00, 148.37it/s]\n",
      "100%|██████████| 100/100 [00:04<00:00, 21.76it/s]\n"
     ]
    },
    {
     "name": "stdout",
     "output_type": "stream",
     "text": [
      "Ergebnis für Bild ADE_train_00001346.jpg gespeichert: results/sd/ADE_train_00001346.jpg\n"
     ]
    },
    {
     "name": "stderr",
     "output_type": "stream",
     "text": [
      "100%|██████████| 25/25 [00:00<00:00, 148.18it/s]\n",
      "100%|██████████| 100/100 [00:04<00:00, 21.77it/s]\n"
     ]
    },
    {
     "name": "stdout",
     "output_type": "stream",
     "text": [
      "Ergebnis für Bild ADE_train_00001787.jpg gespeichert: results/sd/ADE_train_00001787.jpg\n"
     ]
    },
    {
     "name": "stderr",
     "output_type": "stream",
     "text": [
      "100%|██████████| 25/25 [00:00<00:00, 148.56it/s]\n",
      "100%|██████████| 100/100 [00:04<00:00, 21.07it/s]\n"
     ]
    },
    {
     "name": "stdout",
     "output_type": "stream",
     "text": [
      "Ergebnis für Bild ADE_train_00004842.jpg gespeichert: results/sd/ADE_train_00004842.jpg\n"
     ]
    },
    {
     "name": "stderr",
     "output_type": "stream",
     "text": [
      "100%|██████████| 25/25 [00:00<00:00, 148.31it/s]\n",
      "100%|██████████| 100/100 [00:04<00:00, 21.88it/s]\n"
     ]
    },
    {
     "name": "stdout",
     "output_type": "stream",
     "text": [
      "Ergebnis für Bild ADE_train_00022695.jpg gespeichert: results/sd/ADE_train_00022695.jpg\n"
     ]
    },
    {
     "name": "stderr",
     "output_type": "stream",
     "text": [
      "100%|██████████| 25/25 [00:00<00:00, 147.50it/s]\n",
      "100%|██████████| 100/100 [00:04<00:00, 21.05it/s]\n"
     ]
    },
    {
     "name": "stdout",
     "output_type": "stream",
     "text": [
      "Ergebnis für Bild ADE_frame_00000015.jpg gespeichert: results/sd/ADE_frame_00000015.jpg\n"
     ]
    },
    {
     "name": "stderr",
     "output_type": "stream",
     "text": [
      "100%|██████████| 25/25 [00:00<00:00, 148.41it/s]\n",
      "100%|██████████| 100/100 [00:04<00:00, 21.69it/s]\n"
     ]
    },
    {
     "name": "stdout",
     "output_type": "stream",
     "text": [
      "Ergebnis für Bild ADE_train_00004251.jpg gespeichert: results/sd/ADE_train_00004251.jpg\n"
     ]
    },
    {
     "name": "stderr",
     "output_type": "stream",
     "text": [
      "100%|██████████| 25/25 [00:00<00:00, 147.61it/s]\n",
      "100%|██████████| 100/100 [00:04<00:00, 21.31it/s]\n"
     ]
    },
    {
     "name": "stdout",
     "output_type": "stream",
     "text": [
      "Ergebnis für Bild ADE_train_00022700.jpg gespeichert: results/sd/ADE_train_00022700.jpg\n"
     ]
    },
    {
     "name": "stderr",
     "output_type": "stream",
     "text": [
      "100%|██████████| 25/25 [00:00<00:00, 147.96it/s]\n",
      "100%|██████████| 100/100 [00:04<00:00, 21.68it/s]\n"
     ]
    },
    {
     "name": "stdout",
     "output_type": "stream",
     "text": [
      "Ergebnis für Bild ADE_train_00001713.jpg gespeichert: results/sd/ADE_train_00001713.jpg\n"
     ]
    },
    {
     "name": "stderr",
     "output_type": "stream",
     "text": [
      "100%|██████████| 25/25 [00:00<00:00, 147.96it/s]\n",
      "100%|██████████| 100/100 [00:04<00:00, 21.49it/s]\n"
     ]
    },
    {
     "name": "stdout",
     "output_type": "stream",
     "text": [
      "Ergebnis für Bild ADE_train_00001554.jpg gespeichert: results/sd/ADE_train_00001554.jpg\n"
     ]
    },
    {
     "name": "stderr",
     "output_type": "stream",
     "text": [
      "100%|██████████| 25/25 [00:00<00:00, 148.86it/s]\n",
      "100%|██████████| 100/100 [00:04<00:00, 21.71it/s]\n"
     ]
    },
    {
     "name": "stdout",
     "output_type": "stream",
     "text": [
      "Ergebnis für Bild ADE_train_00009972.jpg gespeichert: results/sd/ADE_train_00009972.jpg\n"
     ]
    },
    {
     "name": "stderr",
     "output_type": "stream",
     "text": [
      "100%|██████████| 25/25 [00:00<00:00, 148.13it/s]\n",
      "100%|██████████| 100/100 [00:04<00:00, 21.78it/s]\n"
     ]
    },
    {
     "name": "stdout",
     "output_type": "stream",
     "text": [
      "Ergebnis für Bild ADE_train_00001822.jpg gespeichert: results/sd/ADE_train_00001822.jpg\n"
     ]
    },
    {
     "name": "stderr",
     "output_type": "stream",
     "text": [
      "100%|██████████| 25/25 [00:00<00:00, 149.15it/s]\n",
      "100%|██████████| 100/100 [00:04<00:00, 21.78it/s]\n"
     ]
    },
    {
     "name": "stdout",
     "output_type": "stream",
     "text": [
      "Ergebnis für Bild ADE_train_00012289.jpg gespeichert: results/sd/ADE_train_00012289.jpg\n"
     ]
    },
    {
     "name": "stderr",
     "output_type": "stream",
     "text": [
      "100%|██████████| 25/25 [00:00<00:00, 148.53it/s]\n",
      "100%|██████████| 100/100 [00:04<00:00, 21.50it/s]\n"
     ]
    },
    {
     "name": "stdout",
     "output_type": "stream",
     "text": [
      "Ergebnis für Bild ADE_train_00002279.jpg gespeichert: results/sd/ADE_train_00002279.jpg\n"
     ]
    },
    {
     "name": "stderr",
     "output_type": "stream",
     "text": [
      "100%|██████████| 25/25 [00:00<00:00, 148.45it/s]\n",
      "100%|██████████| 100/100 [00:04<00:00, 20.51it/s]\n"
     ]
    },
    {
     "name": "stdout",
     "output_type": "stream",
     "text": [
      "Ergebnis für Bild ADE_train_00019283.jpg gespeichert: results/sd/ADE_train_00019283.jpg\n"
     ]
    },
    {
     "name": "stderr",
     "output_type": "stream",
     "text": [
      "100%|██████████| 25/25 [00:00<00:00, 149.34it/s]\n",
      "100%|██████████| 100/100 [00:04<00:00, 21.79it/s]\n"
     ]
    },
    {
     "name": "stdout",
     "output_type": "stream",
     "text": [
      "Ergebnis für Bild ADE_train_00001759.jpg gespeichert: results/sd/ADE_train_00001759.jpg\n"
     ]
    },
    {
     "name": "stderr",
     "output_type": "stream",
     "text": [
      "100%|██████████| 25/25 [00:00<00:00, 148.32it/s]\n",
      "100%|██████████| 100/100 [00:04<00:00, 21.13it/s]\n"
     ]
    },
    {
     "name": "stdout",
     "output_type": "stream",
     "text": [
      "Ergebnis für Bild ADE_train_00001552.jpg gespeichert: results/sd/ADE_train_00001552.jpg\n"
     ]
    },
    {
     "name": "stderr",
     "output_type": "stream",
     "text": [
      "100%|██████████| 25/25 [00:00<00:00, 147.60it/s]\n",
      "100%|██████████| 100/100 [00:04<00:00, 21.15it/s]\n"
     ]
    },
    {
     "name": "stdout",
     "output_type": "stream",
     "text": [
      "Ergebnis für Bild ADE_train_00008815.jpg gespeichert: results/sd/ADE_train_00008815.jpg\n"
     ]
    },
    {
     "name": "stderr",
     "output_type": "stream",
     "text": [
      "100%|██████████| 25/25 [00:00<00:00, 148.03it/s]\n",
      "100%|██████████| 100/100 [00:04<00:00, 21.47it/s]\n"
     ]
    },
    {
     "name": "stdout",
     "output_type": "stream",
     "text": [
      "Ergebnis für Bild ADE_train_00003088.jpg gespeichert: results/sd/ADE_train_00003088.jpg\n"
     ]
    },
    {
     "name": "stderr",
     "output_type": "stream",
     "text": [
      "100%|██████████| 25/25 [00:00<00:00, 147.82it/s]\n",
      "100%|██████████| 100/100 [00:04<00:00, 21.86it/s]\n"
     ]
    },
    {
     "name": "stdout",
     "output_type": "stream",
     "text": [
      "Ergebnis für Bild ADE_train_00001649.jpg gespeichert: results/sd/ADE_train_00001649.jpg\n"
     ]
    },
    {
     "name": "stderr",
     "output_type": "stream",
     "text": [
      "100%|██████████| 25/25 [00:00<00:00, 147.90it/s]\n",
      "100%|██████████| 100/100 [00:04<00:00, 21.89it/s]\n"
     ]
    },
    {
     "name": "stdout",
     "output_type": "stream",
     "text": [
      "Ergebnis für Bild ADE_train_00001633.jpg gespeichert: results/sd/ADE_train_00001633.jpg\n"
     ]
    },
    {
     "name": "stderr",
     "output_type": "stream",
     "text": [
      "100%|██████████| 25/25 [00:00<00:00, 148.55it/s]\n",
      "100%|██████████| 100/100 [00:04<00:00, 21.32it/s]\n"
     ]
    },
    {
     "name": "stdout",
     "output_type": "stream",
     "text": [
      "Ergebnis für Bild ADE_train_00016147.jpg gespeichert: results/sd/ADE_train_00016147.jpg\n"
     ]
    },
    {
     "name": "stderr",
     "output_type": "stream",
     "text": [
      "100%|██████████| 25/25 [00:00<00:00, 148.14it/s]\n",
      "100%|██████████| 100/100 [00:04<00:00, 21.42it/s]\n"
     ]
    },
    {
     "name": "stdout",
     "output_type": "stream",
     "text": [
      "Ergebnis für Bild ADE_train_00001728.jpg gespeichert: results/sd/ADE_train_00001728.jpg\n"
     ]
    },
    {
     "name": "stderr",
     "output_type": "stream",
     "text": [
      "100%|██████████| 25/25 [00:00<00:00, 148.18it/s]\n",
      "100%|██████████| 100/100 [00:04<00:00, 21.28it/s]\n"
     ]
    },
    {
     "name": "stdout",
     "output_type": "stream",
     "text": [
      "Ergebnis für Bild ADE_train_00012248.jpg gespeichert: results/sd/ADE_train_00012248.jpg\n"
     ]
    },
    {
     "name": "stderr",
     "output_type": "stream",
     "text": [
      "100%|██████████| 25/25 [00:00<00:00, 148.27it/s]\n",
      "100%|██████████| 100/100 [00:04<00:00, 21.72it/s]\n"
     ]
    },
    {
     "name": "stdout",
     "output_type": "stream",
     "text": [
      "Ergebnis für Bild ADE_train_00010068.jpg gespeichert: results/sd/ADE_train_00010068.jpg\n"
     ]
    },
    {
     "name": "stderr",
     "output_type": "stream",
     "text": [
      "100%|██████████| 25/25 [00:00<00:00, 148.30it/s]\n",
      "100%|██████████| 100/100 [00:04<00:00, 21.56it/s]\n"
     ]
    },
    {
     "name": "stdout",
     "output_type": "stream",
     "text": [
      "Ergebnis für Bild ADE_train_00001562.jpg gespeichert: results/sd/ADE_train_00001562.jpg\n"
     ]
    },
    {
     "name": "stderr",
     "output_type": "stream",
     "text": [
      "100%|██████████| 25/25 [00:00<00:00, 147.86it/s]\n",
      "100%|██████████| 100/100 [00:04<00:00, 21.64it/s]\n"
     ]
    },
    {
     "name": "stdout",
     "output_type": "stream",
     "text": [
      "Ergebnis für Bild ADE_train_00002461.jpg gespeichert: results/sd/ADE_train_00002461.jpg\n"
     ]
    },
    {
     "name": "stderr",
     "output_type": "stream",
     "text": [
      "100%|██████████| 25/25 [00:00<00:00, 147.48it/s]\n",
      "100%|██████████| 100/100 [00:04<00:00, 21.29it/s]\n"
     ]
    },
    {
     "name": "stdout",
     "output_type": "stream",
     "text": [
      "Ergebnis für Bild ADE_train_00003089.jpg gespeichert: results/sd/ADE_train_00003089.jpg\n"
     ]
    },
    {
     "name": "stderr",
     "output_type": "stream",
     "text": [
      "100%|██████████| 25/25 [00:00<00:00, 148.70it/s]\n",
      "100%|██████████| 100/100 [00:04<00:00, 21.66it/s]\n"
     ]
    },
    {
     "name": "stdout",
     "output_type": "stream",
     "text": [
      "Ergebnis für Bild ADE_train_00010766.jpg gespeichert: results/sd/ADE_train_00010766.jpg\n"
     ]
    },
    {
     "name": "stderr",
     "output_type": "stream",
     "text": [
      "100%|██████████| 25/25 [00:00<00:00, 148.18it/s]\n",
      "100%|██████████| 100/100 [00:04<00:00, 21.36it/s]\n"
     ]
    },
    {
     "name": "stdout",
     "output_type": "stream",
     "text": [
      "Ergebnis für Bild ADE_train_00001502.jpg gespeichert: results/sd/ADE_train_00001502.jpg\n"
     ]
    },
    {
     "name": "stderr",
     "output_type": "stream",
     "text": [
      "100%|██████████| 25/25 [00:00<00:00, 147.76it/s]\n",
      "100%|██████████| 100/100 [00:04<00:00, 21.40it/s]\n"
     ]
    },
    {
     "name": "stdout",
     "output_type": "stream",
     "text": [
      "Ergebnis für Bild ADE_train_00010062.jpg gespeichert: results/sd/ADE_train_00010062.jpg\n"
     ]
    },
    {
     "name": "stderr",
     "output_type": "stream",
     "text": [
      "100%|██████████| 25/25 [00:00<00:00, 148.90it/s]\n",
      "100%|██████████| 100/100 [00:04<00:00, 21.52it/s]\n"
     ]
    },
    {
     "name": "stdout",
     "output_type": "stream",
     "text": [
      "Ergebnis für Bild ADE_train_00001663.jpg gespeichert: results/sd/ADE_train_00001663.jpg\n"
     ]
    },
    {
     "name": "stderr",
     "output_type": "stream",
     "text": [
      "100%|██████████| 25/25 [00:00<00:00, 148.77it/s]\n",
      "100%|██████████| 100/100 [00:04<00:00, 21.48it/s]\n"
     ]
    },
    {
     "name": "stdout",
     "output_type": "stream",
     "text": [
      "Ergebnis für Bild ADE_train_00002296.jpg gespeichert: results/sd/ADE_train_00002296.jpg\n"
     ]
    },
    {
     "name": "stderr",
     "output_type": "stream",
     "text": [
      "100%|██████████| 25/25 [00:00<00:00, 148.14it/s]\n",
      "100%|██████████| 100/100 [00:04<00:00, 21.66it/s]\n"
     ]
    },
    {
     "name": "stdout",
     "output_type": "stream",
     "text": [
      "Ergebnis für Bild ADE_train_00001727.jpg gespeichert: results/sd/ADE_train_00001727.jpg\n"
     ]
    },
    {
     "name": "stderr",
     "output_type": "stream",
     "text": [
      "100%|██████████| 25/25 [00:00<00:00, 148.42it/s]\n",
      "100%|██████████| 100/100 [00:04<00:00, 21.57it/s]\n"
     ]
    },
    {
     "name": "stdout",
     "output_type": "stream",
     "text": [
      "Ergebnis für Bild ADE_train_00001750.jpg gespeichert: results/sd/ADE_train_00001750.jpg\n"
     ]
    },
    {
     "name": "stderr",
     "output_type": "stream",
     "text": [
      "100%|██████████| 25/25 [00:00<00:00, 148.95it/s]\n",
      "100%|██████████| 100/100 [00:04<00:00, 21.34it/s]\n"
     ]
    },
    {
     "name": "stdout",
     "output_type": "stream",
     "text": [
      "Ergebnis für Bild ADE_train_00002287.jpg gespeichert: results/sd/ADE_train_00002287.jpg\n"
     ]
    },
    {
     "name": "stderr",
     "output_type": "stream",
     "text": [
      "100%|██████████| 25/25 [00:00<00:00, 147.83it/s]\n",
      "100%|██████████| 100/100 [00:04<00:00, 21.45it/s]\n"
     ]
    },
    {
     "name": "stdout",
     "output_type": "stream",
     "text": [
      "Ergebnis für Bild ADE_train_00022701.jpg gespeichert: results/sd/ADE_train_00022701.jpg\n"
     ]
    },
    {
     "name": "stderr",
     "output_type": "stream",
     "text": [
      "100%|██████████| 25/25 [00:00<00:00, 148.38it/s]\n",
      "100%|██████████| 100/100 [00:04<00:00, 21.64it/s]\n"
     ]
    },
    {
     "name": "stdout",
     "output_type": "stream",
     "text": [
      "Ergebnis für Bild ADE_train_00002351.jpg gespeichert: results/sd/ADE_train_00002351.jpg\n"
     ]
    },
    {
     "name": "stderr",
     "output_type": "stream",
     "text": [
      "100%|██████████| 25/25 [00:00<00:00, 149.10it/s]\n",
      "100%|██████████| 100/100 [00:04<00:00, 21.66it/s]\n"
     ]
    },
    {
     "name": "stdout",
     "output_type": "stream",
     "text": [
      "Ergebnis für Bild ADE_train_00001765.jpg gespeichert: results/sd/ADE_train_00001765.jpg\n"
     ]
    },
    {
     "name": "stderr",
     "output_type": "stream",
     "text": [
      "100%|██████████| 25/25 [00:00<00:00, 148.47it/s]\n",
      "100%|██████████| 100/100 [00:04<00:00, 21.15it/s]\n"
     ]
    },
    {
     "name": "stdout",
     "output_type": "stream",
     "text": [
      "Ergebnis für Bild ADE_train_00001490.jpg gespeichert: results/sd/ADE_train_00001490.jpg\n"
     ]
    },
    {
     "name": "stderr",
     "output_type": "stream",
     "text": [
      "100%|██████████| 25/25 [00:00<00:00, 148.48it/s]\n",
      "100%|██████████| 100/100 [00:04<00:00, 21.19it/s]\n"
     ]
    },
    {
     "name": "stdout",
     "output_type": "stream",
     "text": [
      "Ergebnis für Bild ADE_train_00019290.jpg gespeichert: results/sd/ADE_train_00019290.jpg\n"
     ]
    },
    {
     "name": "stderr",
     "output_type": "stream",
     "text": [
      "100%|██████████| 25/25 [00:00<00:00, 148.58it/s]\n",
      "100%|██████████| 100/100 [00:04<00:00, 21.10it/s]\n"
     ]
    },
    {
     "name": "stdout",
     "output_type": "stream",
     "text": [
      "Ergebnis für Bild ADE_train_00012270.jpg gespeichert: results/sd/ADE_train_00012270.jpg\n"
     ]
    },
    {
     "name": "stderr",
     "output_type": "stream",
     "text": [
      "100%|██████████| 25/25 [00:00<00:00, 147.92it/s]\n",
      "100%|██████████| 100/100 [00:04<00:00, 21.73it/s]\n"
     ]
    },
    {
     "name": "stdout",
     "output_type": "stream",
     "text": [
      "Ergebnis für Bild ADE_train_00001753.jpg gespeichert: results/sd/ADE_train_00001753.jpg\n"
     ]
    },
    {
     "name": "stderr",
     "output_type": "stream",
     "text": [
      "100%|██████████| 25/25 [00:00<00:00, 148.46it/s]\n",
      "100%|██████████| 100/100 [00:04<00:00, 21.04it/s]\n"
     ]
    },
    {
     "name": "stdout",
     "output_type": "stream",
     "text": [
      "Ergebnis für Bild ADE_train_00001773.jpg gespeichert: results/sd/ADE_train_00001773.jpg\n"
     ]
    },
    {
     "name": "stderr",
     "output_type": "stream",
     "text": [
      "100%|██████████| 25/25 [00:00<00:00, 149.12it/s]\n",
      "100%|██████████| 100/100 [00:04<00:00, 21.62it/s]\n"
     ]
    },
    {
     "name": "stdout",
     "output_type": "stream",
     "text": [
      "Ergebnis für Bild ADE_train_00001788.jpg gespeichert: results/sd/ADE_train_00001788.jpg\n"
     ]
    },
    {
     "name": "stderr",
     "output_type": "stream",
     "text": [
      "100%|██████████| 25/25 [00:00<00:00, 148.69it/s]\n",
      "100%|██████████| 100/100 [00:04<00:00, 20.68it/s]\n"
     ]
    },
    {
     "name": "stdout",
     "output_type": "stream",
     "text": [
      "Ergebnis für Bild ADE_train_00001761.jpg gespeichert: results/sd/ADE_train_00001761.jpg\n"
     ]
    },
    {
     "name": "stderr",
     "output_type": "stream",
     "text": [
      "100%|██████████| 25/25 [00:00<00:00, 149.11it/s]\n",
      "100%|██████████| 100/100 [00:04<00:00, 21.80it/s]\n"
     ]
    },
    {
     "name": "stdout",
     "output_type": "stream",
     "text": [
      "Ergebnis für Bild ADE_train_00001689.jpg gespeichert: results/sd/ADE_train_00001689.jpg\n"
     ]
    },
    {
     "name": "stderr",
     "output_type": "stream",
     "text": [
      "100%|██████████| 25/25 [00:00<00:00, 149.07it/s]\n",
      "100%|██████████| 100/100 [00:04<00:00, 20.77it/s]\n"
     ]
    },
    {
     "name": "stdout",
     "output_type": "stream",
     "text": [
      "Ergebnis für Bild ADE_train_00001657.jpg gespeichert: results/sd/ADE_train_00001657.jpg\n"
     ]
    },
    {
     "name": "stderr",
     "output_type": "stream",
     "text": [
      "100%|██████████| 25/25 [00:00<00:00, 147.63it/s]\n",
      "100%|██████████| 100/100 [00:04<00:00, 21.79it/s]\n"
     ]
    },
    {
     "name": "stdout",
     "output_type": "stream",
     "text": [
      "Ergebnis für Bild ADE_train_00000651.jpg gespeichert: results/sd/ADE_train_00000651.jpg\n"
     ]
    },
    {
     "name": "stderr",
     "output_type": "stream",
     "text": [
      "100%|██████████| 25/25 [00:00<00:00, 148.32it/s]\n",
      "100%|██████████| 100/100 [00:04<00:00, 21.76it/s]\n"
     ]
    },
    {
     "name": "stdout",
     "output_type": "stream",
     "text": [
      "Ergebnis für Bild ADE_train_00002293.jpg gespeichert: results/sd/ADE_train_00002293.jpg\n"
     ]
    },
    {
     "name": "stderr",
     "output_type": "stream",
     "text": [
      "100%|██████████| 25/25 [00:00<00:00, 147.63it/s]\n",
      "100%|██████████| 100/100 [00:04<00:00, 21.55it/s]\n"
     ]
    },
    {
     "name": "stdout",
     "output_type": "stream",
     "text": [
      "Ergebnis für Bild ADE_train_00020241.jpg gespeichert: results/sd/ADE_train_00020241.jpg\n"
     ]
    },
    {
     "name": "stderr",
     "output_type": "stream",
     "text": [
      "100%|██████████| 25/25 [00:00<00:00, 147.91it/s]\n",
      "100%|██████████| 100/100 [00:04<00:00, 21.34it/s]\n"
     ]
    },
    {
     "name": "stdout",
     "output_type": "stream",
     "text": [
      "Ergebnis für Bild ADE_train_00008801.jpg gespeichert: results/sd/ADE_train_00008801.jpg\n"
     ]
    },
    {
     "name": "stderr",
     "output_type": "stream",
     "text": [
      "100%|██████████| 25/25 [00:00<00:00, 149.19it/s]\n",
      "100%|██████████| 100/100 [00:04<00:00, 21.70it/s]\n"
     ]
    },
    {
     "name": "stdout",
     "output_type": "stream",
     "text": [
      "Ergebnis für Bild ADE_train_00002281.jpg gespeichert: results/sd/ADE_train_00002281.jpg\n"
     ]
    },
    {
     "name": "stderr",
     "output_type": "stream",
     "text": [
      "100%|██████████| 25/25 [00:00<00:00, 148.08it/s]\n",
      "100%|██████████| 100/100 [00:04<00:00, 21.44it/s]\n"
     ]
    },
    {
     "name": "stdout",
     "output_type": "stream",
     "text": [
      "Ergebnis für Bild ADE_train_00001499.jpg gespeichert: results/sd/ADE_train_00001499.jpg\n"
     ]
    },
    {
     "name": "stderr",
     "output_type": "stream",
     "text": [
      "100%|██████████| 25/25 [00:00<00:00, 148.80it/s]\n",
      "100%|██████████| 100/100 [00:04<00:00, 21.72it/s]\n"
     ]
    },
    {
     "name": "stdout",
     "output_type": "stream",
     "text": [
      "Ergebnis für Bild ADE_train_00002140.jpg gespeichert: results/sd/ADE_train_00002140.jpg\n"
     ]
    },
    {
     "name": "stderr",
     "output_type": "stream",
     "text": [
      "100%|██████████| 25/25 [00:00<00:00, 148.63it/s]\n",
      "100%|██████████| 100/100 [00:04<00:00, 21.54it/s]\n"
     ]
    },
    {
     "name": "stdout",
     "output_type": "stream",
     "text": [
      "Ergebnis für Bild ADE_train_00003094.jpg gespeichert: results/sd/ADE_train_00003094.jpg\n"
     ]
    },
    {
     "name": "stderr",
     "output_type": "stream",
     "text": [
      "100%|██████████| 25/25 [00:00<00:00, 149.46it/s]\n",
      "100%|██████████| 100/100 [00:04<00:00, 21.89it/s]\n"
     ]
    },
    {
     "name": "stdout",
     "output_type": "stream",
     "text": [
      "Ergebnis für Bild ADE_train_00001667.jpg gespeichert: results/sd/ADE_train_00001667.jpg\n"
     ]
    },
    {
     "name": "stderr",
     "output_type": "stream",
     "text": [
      "100%|██████████| 25/25 [00:00<00:00, 147.63it/s]\n",
      "100%|██████████| 100/100 [00:04<00:00, 21.82it/s]\n"
     ]
    },
    {
     "name": "stdout",
     "output_type": "stream",
     "text": [
      "Ergebnis für Bild ADE_train_00000663.jpg gespeichert: results/sd/ADE_train_00000663.jpg\n"
     ]
    },
    {
     "name": "stderr",
     "output_type": "stream",
     "text": [
      "100%|██████████| 25/25 [00:00<00:00, 147.50it/s]\n",
      "100%|██████████| 100/100 [00:04<00:00, 21.84it/s]\n"
     ]
    },
    {
     "name": "stdout",
     "output_type": "stream",
     "text": [
      "Ergebnis für Bild ADE_train_00002291.jpg gespeichert: results/sd/ADE_train_00002291.jpg\n"
     ]
    },
    {
     "name": "stderr",
     "output_type": "stream",
     "text": [
      "100%|██████████| 25/25 [00:00<00:00, 148.92it/s]\n",
      "100%|██████████| 100/100 [00:04<00:00, 21.75it/s]\n"
     ]
    },
    {
     "name": "stdout",
     "output_type": "stream",
     "text": [
      "Ergebnis für Bild ADE_train_00001760.jpg gespeichert: results/sd/ADE_train_00001760.jpg\n"
     ]
    },
    {
     "name": "stderr",
     "output_type": "stream",
     "text": [
      "100%|██████████| 25/25 [00:00<00:00, 149.08it/s]\n",
      "100%|██████████| 100/100 [00:04<00:00, 21.83it/s]\n"
     ]
    },
    {
     "name": "stdout",
     "output_type": "stream",
     "text": [
      "Ergebnis für Bild ADE_train_00022685.jpg gespeichert: results/sd/ADE_train_00022685.jpg\n"
     ]
    },
    {
     "name": "stderr",
     "output_type": "stream",
     "text": [
      "100%|██████████| 25/25 [00:00<00:00, 147.95it/s]\n",
      "100%|██████████| 100/100 [00:04<00:00, 21.45it/s]\n"
     ]
    },
    {
     "name": "stdout",
     "output_type": "stream",
     "text": [
      "Ergebnis für Bild ADE_train_00022678.jpg gespeichert: results/sd/ADE_train_00022678.jpg\n"
     ]
    },
    {
     "name": "stderr",
     "output_type": "stream",
     "text": [
      "100%|██████████| 25/25 [00:00<00:00, 148.45it/s]\n",
      "100%|██████████| 100/100 [00:04<00:00, 21.68it/s]\n"
     ]
    },
    {
     "name": "stdout",
     "output_type": "stream",
     "text": [
      "Ergebnis für Bild ADE_train_00024113.jpg gespeichert: results/sd/ADE_train_00024113.jpg\n"
     ]
    },
    {
     "name": "stderr",
     "output_type": "stream",
     "text": [
      "100%|██████████| 25/25 [00:00<00:00, 146.62it/s]\n",
      "100%|██████████| 100/100 [00:04<00:00, 21.69it/s]\n"
     ]
    },
    {
     "name": "stdout",
     "output_type": "stream",
     "text": [
      "Ergebnis für Bild ADE_train_00000555.jpg gespeichert: results/sd/ADE_train_00000555.jpg\n"
     ]
    },
    {
     "name": "stderr",
     "output_type": "stream",
     "text": [
      "100%|██████████| 25/25 [00:00<00:00, 149.09it/s]\n",
      "100%|██████████| 100/100 [00:04<00:00, 21.70it/s]\n"
     ]
    },
    {
     "name": "stdout",
     "output_type": "stream",
     "text": [
      "Ergebnis für Bild ADE_train_00001767.jpg gespeichert: results/sd/ADE_train_00001767.jpg\n"
     ]
    },
    {
     "name": "stderr",
     "output_type": "stream",
     "text": [
      "100%|██████████| 25/25 [00:00<00:00, 148.77it/s]\n",
      "100%|██████████| 100/100 [00:04<00:00, 21.81it/s]\n"
     ]
    },
    {
     "name": "stdout",
     "output_type": "stream",
     "text": [
      "Ergebnis für Bild ADE_train_00019294.jpg gespeichert: results/sd/ADE_train_00019294.jpg\n"
     ]
    },
    {
     "name": "stderr",
     "output_type": "stream",
     "text": [
      "100%|██████████| 25/25 [00:00<00:00, 149.20it/s]\n",
      "100%|██████████| 100/100 [00:04<00:00, 21.92it/s]\n"
     ]
    },
    {
     "name": "stdout",
     "output_type": "stream",
     "text": [
      "Ergebnis für Bild ADE_train_00021742.jpg gespeichert: results/sd/ADE_train_00021742.jpg\n"
     ]
    },
    {
     "name": "stderr",
     "output_type": "stream",
     "text": [
      "100%|██████████| 25/25 [00:00<00:00, 148.42it/s]\n",
      "100%|██████████| 100/100 [00:04<00:00, 21.57it/s]\n"
     ]
    },
    {
     "name": "stdout",
     "output_type": "stream",
     "text": [
      "Ergebnis für Bild ADE_train_00011671.jpg gespeichert: results/sd/ADE_train_00011671.jpg\n"
     ]
    },
    {
     "name": "stderr",
     "output_type": "stream",
     "text": [
      "100%|██████████| 25/25 [00:00<00:00, 148.11it/s]\n",
      "100%|██████████| 100/100 [00:04<00:00, 21.47it/s]\n"
     ]
    },
    {
     "name": "stdout",
     "output_type": "stream",
     "text": [
      "Ergebnis für Bild ADE_train_00001500.jpg gespeichert: results/sd/ADE_train_00001500.jpg\n"
     ]
    },
    {
     "name": "stderr",
     "output_type": "stream",
     "text": [
      "100%|██████████| 25/25 [00:00<00:00, 148.39it/s]\n",
      "100%|██████████| 100/100 [00:04<00:00, 21.31it/s]\n"
     ]
    },
    {
     "name": "stdout",
     "output_type": "stream",
     "text": [
      "Ergebnis für Bild ADE_train_00001802.jpg gespeichert: results/sd/ADE_train_00001802.jpg\n"
     ]
    },
    {
     "name": "stderr",
     "output_type": "stream",
     "text": [
      "100%|██████████| 25/25 [00:00<00:00, 148.57it/s]\n",
      "100%|██████████| 100/100 [00:04<00:00, 21.74it/s]\n"
     ]
    },
    {
     "name": "stdout",
     "output_type": "stream",
     "text": [
      "Ergebnis für Bild ADE_train_00012247.jpg gespeichert: results/sd/ADE_train_00012247.jpg\n"
     ]
    },
    {
     "name": "stderr",
     "output_type": "stream",
     "text": [
      "100%|██████████| 25/25 [00:00<00:00, 148.43it/s]\n",
      "100%|██████████| 100/100 [00:04<00:00, 21.73it/s]\n"
     ]
    },
    {
     "name": "stdout",
     "output_type": "stream",
     "text": [
      "Ergebnis für Bild ADE_train_00011663.jpg gespeichert: results/sd/ADE_train_00011663.jpg\n"
     ]
    },
    {
     "name": "stderr",
     "output_type": "stream",
     "text": [
      "100%|██████████| 25/25 [00:00<00:00, 149.28it/s]\n",
      "100%|██████████| 100/100 [00:04<00:00, 21.76it/s]\n"
     ]
    },
    {
     "name": "stdout",
     "output_type": "stream",
     "text": [
      "Ergebnis für Bild ADE_train_00012228.jpg gespeichert: results/sd/ADE_train_00012228.jpg\n"
     ]
    },
    {
     "name": "stderr",
     "output_type": "stream",
     "text": [
      "100%|██████████| 25/25 [00:00<00:00, 149.07it/s]\n",
      "100%|██████████| 100/100 [00:04<00:00, 21.68it/s]\n"
     ]
    },
    {
     "name": "stdout",
     "output_type": "stream",
     "text": [
      "Ergebnis für Bild ADE_train_00001757.jpg gespeichert: results/sd/ADE_train_00001757.jpg\n"
     ]
    },
    {
     "name": "stderr",
     "output_type": "stream",
     "text": [
      "100%|██████████| 25/25 [00:00<00:00, 148.49it/s]\n",
      "100%|██████████| 100/100 [00:04<00:00, 21.78it/s]\n"
     ]
    },
    {
     "name": "stdout",
     "output_type": "stream",
     "text": [
      "Ergebnis für Bild ADE_train_00004955.jpg gespeichert: results/sd/ADE_train_00004955.jpg\n"
     ]
    },
    {
     "name": "stderr",
     "output_type": "stream",
     "text": [
      "100%|██████████| 25/25 [00:00<00:00, 148.90it/s]\n",
      "100%|██████████| 100/100 [00:04<00:00, 21.16it/s]\n"
     ]
    },
    {
     "name": "stdout",
     "output_type": "stream",
     "text": [
      "Ergebnis für Bild ADE_train_00022697.jpg gespeichert: results/sd/ADE_train_00022697.jpg\n"
     ]
    },
    {
     "name": "stderr",
     "output_type": "stream",
     "text": [
      "100%|██████████| 25/25 [00:00<00:00, 147.96it/s]\n",
      "100%|██████████| 100/100 [00:04<00:00, 21.75it/s]\n"
     ]
    },
    {
     "name": "stdout",
     "output_type": "stream",
     "text": [
      "Ergebnis für Bild ADE_train_00001741.jpg gespeichert: results/sd/ADE_train_00001741.jpg\n"
     ]
    },
    {
     "name": "stderr",
     "output_type": "stream",
     "text": [
      "100%|██████████| 25/25 [00:00<00:00, 148.27it/s]\n",
      "100%|██████████| 100/100 [00:04<00:00, 21.46it/s]\n"
     ]
    },
    {
     "name": "stdout",
     "output_type": "stream",
     "text": [
      "Ergebnis für Bild ADE_train_00022987.jpg gespeichert: results/sd/ADE_train_00022987.jpg\n"
     ]
    },
    {
     "name": "stderr",
     "output_type": "stream",
     "text": [
      "100%|██████████| 25/25 [00:00<00:00, 149.32it/s]\n",
      "100%|██████████| 100/100 [00:04<00:00, 21.63it/s]\n"
     ]
    },
    {
     "name": "stdout",
     "output_type": "stream",
     "text": [
      "Ergebnis für Bild ADE_train_00001698.jpg gespeichert: results/sd/ADE_train_00001698.jpg\n"
     ]
    },
    {
     "name": "stderr",
     "output_type": "stream",
     "text": [
      "100%|██████████| 25/25 [00:00<00:00, 148.78it/s]\n",
      "100%|██████████| 100/100 [00:04<00:00, 21.41it/s]\n"
     ]
    },
    {
     "name": "stdout",
     "output_type": "stream",
     "text": [
      "Ergebnis für Bild ADE_train_00001711.jpg gespeichert: results/sd/ADE_train_00001711.jpg\n"
     ]
    },
    {
     "name": "stderr",
     "output_type": "stream",
     "text": [
      "100%|██████████| 25/25 [00:00<00:00, 149.14it/s]\n",
      "100%|██████████| 100/100 [00:04<00:00, 21.83it/s]\n"
     ]
    },
    {
     "name": "stdout",
     "output_type": "stream",
     "text": [
      "Ergebnis für Bild ADE_train_00022635.jpg gespeichert: results/sd/ADE_train_00022635.jpg\n"
     ]
    },
    {
     "name": "stderr",
     "output_type": "stream",
     "text": [
      "100%|██████████| 25/25 [00:00<00:00, 148.50it/s]\n",
      "100%|██████████| 100/100 [00:04<00:00, 21.77it/s]\n"
     ]
    },
    {
     "name": "stdout",
     "output_type": "stream",
     "text": [
      "Ergebnis für Bild ADE_train_00000664.jpg gespeichert: results/sd/ADE_train_00000664.jpg\n"
     ]
    },
    {
     "name": "stderr",
     "output_type": "stream",
     "text": [
      "100%|██████████| 25/25 [00:00<00:00, 149.58it/s]\n",
      "100%|██████████| 100/100 [00:04<00:00, 21.70it/s]\n"
     ]
    },
    {
     "name": "stdout",
     "output_type": "stream",
     "text": [
      "Ergebnis für Bild ADE_train_00004951.jpg gespeichert: results/sd/ADE_train_00004951.jpg\n"
     ]
    },
    {
     "name": "stderr",
     "output_type": "stream",
     "text": [
      "100%|██████████| 25/25 [00:00<00:00, 148.72it/s]\n",
      "100%|██████████| 100/100 [00:04<00:00, 21.64it/s]\n"
     ]
    },
    {
     "name": "stdout",
     "output_type": "stream",
     "text": [
      "Ergebnis für Bild ADE_train_00002462.jpg gespeichert: results/sd/ADE_train_00002462.jpg\n"
     ]
    },
    {
     "name": "stderr",
     "output_type": "stream",
     "text": [
      "100%|██████████| 25/25 [00:00<00:00, 148.74it/s]\n",
      "100%|██████████| 100/100 [00:04<00:00, 21.79it/s]\n"
     ]
    },
    {
     "name": "stdout",
     "output_type": "stream",
     "text": [
      "Ergebnis für Bild ADE_train_00001694.jpg gespeichert: results/sd/ADE_train_00001694.jpg\n"
     ]
    },
    {
     "name": "stderr",
     "output_type": "stream",
     "text": [
      "100%|██████████| 25/25 [00:00<00:00, 149.04it/s]\n",
      "100%|██████████| 100/100 [00:04<00:00, 21.53it/s]\n"
     ]
    },
    {
     "name": "stdout",
     "output_type": "stream",
     "text": [
      "Ergebnis für Bild ADE_train_00002301.jpg gespeichert: results/sd/ADE_train_00002301.jpg\n"
     ]
    },
    {
     "name": "stderr",
     "output_type": "stream",
     "text": [
      "100%|██████████| 25/25 [00:00<00:00, 148.88it/s]\n",
      "100%|██████████| 100/100 [00:04<00:00, 21.79it/s]\n"
     ]
    },
    {
     "name": "stdout",
     "output_type": "stream",
     "text": [
      "Ergebnis für Bild ADE_train_00022683.jpg gespeichert: results/sd/ADE_train_00022683.jpg\n"
     ]
    },
    {
     "name": "stderr",
     "output_type": "stream",
     "text": [
      "100%|██████████| 25/25 [00:00<00:00, 148.68it/s]\n",
      "100%|██████████| 100/100 [00:04<00:00, 21.69it/s]\n"
     ]
    },
    {
     "name": "stdout",
     "output_type": "stream",
     "text": [
      "Ergebnis für Bild ADE_train_00004950.jpg gespeichert: results/sd/ADE_train_00004950.jpg\n"
     ]
    },
    {
     "name": "stderr",
     "output_type": "stream",
     "text": [
      "100%|██████████| 25/25 [00:00<00:00, 148.52it/s]\n",
      "100%|██████████| 100/100 [00:04<00:00, 21.65it/s]\n"
     ]
    },
    {
     "name": "stdout",
     "output_type": "stream",
     "text": [
      "Ergebnis für Bild ADE_train_00000656.jpg gespeichert: results/sd/ADE_train_00000656.jpg\n"
     ]
    },
    {
     "name": "stderr",
     "output_type": "stream",
     "text": [
      "100%|██████████| 25/25 [00:00<00:00, 148.22it/s]\n",
      "100%|██████████| 100/100 [00:04<00:00, 21.56it/s]\n"
     ]
    },
    {
     "name": "stdout",
     "output_type": "stream",
     "text": [
      "Ergebnis für Bild ADE_train_00012216.jpg gespeichert: results/sd/ADE_train_00012216.jpg\n"
     ]
    },
    {
     "name": "stderr",
     "output_type": "stream",
     "text": [
      "100%|██████████| 25/25 [00:00<00:00, 148.53it/s]\n",
      "100%|██████████| 100/100 [00:04<00:00, 21.75it/s]\n"
     ]
    },
    {
     "name": "stdout",
     "output_type": "stream",
     "text": [
      "Ergebnis für Bild ADE_train_00012223.jpg gespeichert: results/sd/ADE_train_00012223.jpg\n"
     ]
    },
    {
     "name": "stderr",
     "output_type": "stream",
     "text": [
      "100%|██████████| 25/25 [00:00<00:00, 147.43it/s]\n",
      "100%|██████████| 100/100 [00:04<00:00, 21.43it/s]\n"
     ]
    },
    {
     "name": "stdout",
     "output_type": "stream",
     "text": [
      "Ergebnis für Bild ADE_train_00000667.jpg gespeichert: results/sd/ADE_train_00000667.jpg\n"
     ]
    },
    {
     "name": "stderr",
     "output_type": "stream",
     "text": [
      "100%|██████████| 25/25 [00:00<00:00, 148.04it/s]\n",
      "100%|██████████| 100/100 [00:04<00:00, 21.74it/s]\n"
     ]
    },
    {
     "name": "stdout",
     "output_type": "stream",
     "text": [
      "Ergebnis für Bild ADE_train_00001688.jpg gespeichert: results/sd/ADE_train_00001688.jpg\n"
     ]
    },
    {
     "name": "stderr",
     "output_type": "stream",
     "text": [
      "100%|██████████| 25/25 [00:00<00:00, 147.97it/s]\n",
      "100%|██████████| 100/100 [00:04<00:00, 21.34it/s]\n"
     ]
    },
    {
     "name": "stdout",
     "output_type": "stream",
     "text": [
      "Ergebnis für Bild ADE_train_00001762.jpg gespeichert: results/sd/ADE_train_00001762.jpg\n"
     ]
    },
    {
     "name": "stderr",
     "output_type": "stream",
     "text": [
      "100%|██████████| 25/25 [00:00<00:00, 148.49it/s]\n",
      "100%|██████████| 100/100 [00:04<00:00, 21.82it/s]\n"
     ]
    },
    {
     "name": "stdout",
     "output_type": "stream",
     "text": [
      "Ergebnis für Bild ADE_train_00019281.jpg gespeichert: results/sd/ADE_train_00019281.jpg\n"
     ]
    },
    {
     "name": "stderr",
     "output_type": "stream",
     "text": [
      "100%|██████████| 25/25 [00:00<00:00, 148.79it/s]\n",
      "100%|██████████| 100/100 [00:04<00:00, 21.76it/s]\n"
     ]
    },
    {
     "name": "stdout",
     "output_type": "stream",
     "text": [
      "Ergebnis für Bild ADE_train_00002298.jpg gespeichert: results/sd/ADE_train_00002298.jpg\n"
     ]
    },
    {
     "name": "stderr",
     "output_type": "stream",
     "text": [
      "100%|██████████| 25/25 [00:00<00:00, 149.65it/s]\n",
      "100%|██████████| 100/100 [00:04<00:00, 21.73it/s]\n"
     ]
    },
    {
     "name": "stdout",
     "output_type": "stream",
     "text": [
      "Ergebnis für Bild ADE_train_00003095.jpg gespeichert: results/sd/ADE_train_00003095.jpg\n"
     ]
    },
    {
     "name": "stderr",
     "output_type": "stream",
     "text": [
      "100%|██████████| 25/25 [00:00<00:00, 148.60it/s]\n",
      "100%|██████████| 100/100 [00:04<00:00, 21.78it/s]\n"
     ]
    },
    {
     "name": "stdout",
     "output_type": "stream",
     "text": [
      "Ergebnis für Bild ADE_train_00022692.jpg gespeichert: results/sd/ADE_train_00022692.jpg\n"
     ]
    },
    {
     "name": "stderr",
     "output_type": "stream",
     "text": [
      "100%|██████████| 25/25 [00:00<00:00, 149.77it/s]\n",
      "100%|██████████| 100/100 [00:04<00:00, 21.73it/s]\n"
     ]
    },
    {
     "name": "stdout",
     "output_type": "stream",
     "text": [
      "Ergebnis für Bild ADE_train_00022703.jpg gespeichert: results/sd/ADE_train_00022703.jpg\n"
     ]
    },
    {
     "name": "stderr",
     "output_type": "stream",
     "text": [
      "100%|██████████| 25/25 [00:00<00:00, 148.80it/s]\n",
      "100%|██████████| 100/100 [00:04<00:00, 21.44it/s]\n"
     ]
    },
    {
     "name": "stdout",
     "output_type": "stream",
     "text": [
      "Ergebnis für Bild ADE_train_00023137.jpg gespeichert: results/sd/ADE_train_00023137.jpg\n"
     ]
    },
    {
     "name": "stderr",
     "output_type": "stream",
     "text": [
      "100%|██████████| 25/25 [00:00<00:00, 149.34it/s]\n",
      "100%|██████████| 100/100 [00:04<00:00, 21.76it/s]\n"
     ]
    },
    {
     "name": "stdout",
     "output_type": "stream",
     "text": [
      "Ergebnis für Bild ADE_train_00005345.jpg gespeichert: results/sd/ADE_train_00005345.jpg\n"
     ]
    },
    {
     "name": "stderr",
     "output_type": "stream",
     "text": [
      "100%|██████████| 25/25 [00:00<00:00, 149.33it/s]\n",
      "100%|██████████| 100/100 [00:04<00:00, 21.63it/s]\n"
     ]
    },
    {
     "name": "stdout",
     "output_type": "stream",
     "text": [
      "Ergebnis für Bild ADE_train_00001550.jpg gespeichert: results/sd/ADE_train_00001550.jpg\n"
     ]
    },
    {
     "name": "stderr",
     "output_type": "stream",
     "text": [
      "100%|██████████| 25/25 [00:00<00:00, 149.12it/s]\n",
      "100%|██████████| 100/100 [00:04<00:00, 21.72it/s]\n"
     ]
    },
    {
     "name": "stdout",
     "output_type": "stream",
     "text": [
      "Ergebnis für Bild ADE_train_00004952.jpg gespeichert: results/sd/ADE_train_00004952.jpg\n"
     ]
    },
    {
     "name": "stderr",
     "output_type": "stream",
     "text": [
      "100%|██████████| 25/25 [00:00<00:00, 148.96it/s]\n",
      "100%|██████████| 100/100 [00:04<00:00, 21.48it/s]\n"
     ]
    },
    {
     "name": "stdout",
     "output_type": "stream",
     "text": [
      "Ergebnis für Bild ADE_train_00011664.jpg gespeichert: results/sd/ADE_train_00011664.jpg\n"
     ]
    },
    {
     "name": "stderr",
     "output_type": "stream",
     "text": [
      "100%|██████████| 25/25 [00:00<00:00, 149.08it/s]\n",
      "100%|██████████| 100/100 [00:04<00:00, 20.66it/s]\n"
     ]
    },
    {
     "name": "stdout",
     "output_type": "stream",
     "text": [
      "Ergebnis für Bild ADE_train_00020475.jpg gespeichert: results/sd/ADE_train_00020475.jpg\n"
     ]
    },
    {
     "name": "stderr",
     "output_type": "stream",
     "text": [
      "100%|██████████| 25/25 [00:00<00:00, 150.07it/s]\n",
      "100%|██████████| 100/100 [00:04<00:00, 21.41it/s]\n"
     ]
    },
    {
     "name": "stdout",
     "output_type": "stream",
     "text": [
      "Ergebnis für Bild ADE_train_00022682.jpg gespeichert: results/sd/ADE_train_00022682.jpg\n"
     ]
    },
    {
     "name": "stderr",
     "output_type": "stream",
     "text": [
      "100%|██████████| 25/25 [00:00<00:00, 148.92it/s]\n",
      "100%|██████████| 100/100 [00:04<00:00, 21.72it/s]\n"
     ]
    },
    {
     "name": "stdout",
     "output_type": "stream",
     "text": [
      "Ergebnis für Bild ADE_train_00007484.jpg gespeichert: results/sd/ADE_train_00007484.jpg\n"
     ]
    },
    {
     "name": "stderr",
     "output_type": "stream",
     "text": [
      "100%|██████████| 25/25 [00:00<00:00, 149.59it/s]\n",
      "100%|██████████| 100/100 [00:04<00:00, 21.76it/s]\n"
     ]
    },
    {
     "name": "stdout",
     "output_type": "stream",
     "text": [
      "Ergebnis für Bild ADE_train_00003083.jpg gespeichert: results/sd/ADE_train_00003083.jpg\n"
     ]
    },
    {
     "name": "stderr",
     "output_type": "stream",
     "text": [
      "100%|██████████| 25/25 [00:00<00:00, 149.66it/s]\n",
      "100%|██████████| 100/100 [00:04<00:00, 21.73it/s]\n"
     ]
    },
    {
     "name": "stdout",
     "output_type": "stream",
     "text": [
      "Ergebnis für Bild ADE_train_00001704.jpg gespeichert: results/sd/ADE_train_00001704.jpg\n"
     ]
    },
    {
     "name": "stderr",
     "output_type": "stream",
     "text": [
      "100%|██████████| 25/25 [00:00<00:00, 149.05it/s]\n",
      "100%|██████████| 100/100 [00:04<00:00, 21.66it/s]\n"
     ]
    },
    {
     "name": "stdout",
     "output_type": "stream",
     "text": [
      "Ergebnis für Bild ADE_train_00001336.jpg gespeichert: results/sd/ADE_train_00001336.jpg\n"
     ]
    },
    {
     "name": "stderr",
     "output_type": "stream",
     "text": [
      "100%|██████████| 25/25 [00:00<00:00, 149.58it/s]\n",
      "100%|██████████| 100/100 [00:04<00:00, 21.64it/s]\n"
     ]
    },
    {
     "name": "stdout",
     "output_type": "stream",
     "text": [
      "Ergebnis für Bild ADE_train_00001774.jpg gespeichert: results/sd/ADE_train_00001774.jpg\n"
     ]
    },
    {
     "name": "stderr",
     "output_type": "stream",
     "text": [
      "100%|██████████| 25/25 [00:00<00:00, 149.58it/s]\n",
      "100%|██████████| 100/100 [00:04<00:00, 21.73it/s]\n"
     ]
    },
    {
     "name": "stdout",
     "output_type": "stream",
     "text": [
      "Ergebnis für Bild ADE_train_00001697.jpg gespeichert: results/sd/ADE_train_00001697.jpg\n"
     ]
    },
    {
     "name": "stderr",
     "output_type": "stream",
     "text": [
      "100%|██████████| 25/25 [00:00<00:00, 149.49it/s]\n",
      "100%|██████████| 100/100 [00:04<00:00, 21.77it/s]\n"
     ]
    },
    {
     "name": "stdout",
     "output_type": "stream",
     "text": [
      "Ergebnis für Bild ADE_train_00003161.jpg gespeichert: results/sd/ADE_train_00003161.jpg\n"
     ]
    },
    {
     "name": "stderr",
     "output_type": "stream",
     "text": [
      "100%|██████████| 25/25 [00:00<00:00, 148.96it/s]\n",
      "100%|██████████| 100/100 [00:04<00:00, 21.86it/s]\n"
     ]
    },
    {
     "name": "stdout",
     "output_type": "stream",
     "text": [
      "Ergebnis für Bild ADE_train_00012243.jpg gespeichert: results/sd/ADE_train_00012243.jpg\n"
     ]
    },
    {
     "name": "stderr",
     "output_type": "stream",
     "text": [
      "100%|██████████| 25/25 [00:00<00:00, 149.61it/s]\n",
      "100%|██████████| 100/100 [00:04<00:00, 21.75it/s]\n"
     ]
    },
    {
     "name": "stdout",
     "output_type": "stream",
     "text": [
      "Ergebnis für Bild ADE_train_00005328.jpg gespeichert: results/sd/ADE_train_00005328.jpg\n"
     ]
    },
    {
     "name": "stderr",
     "output_type": "stream",
     "text": [
      "100%|██████████| 25/25 [00:00<00:00, 148.31it/s]\n",
      "100%|██████████| 100/100 [00:04<00:00, 21.68it/s]\n"
     ]
    },
    {
     "name": "stdout",
     "output_type": "stream",
     "text": [
      "Ergebnis für Bild ADE_train_00020247.jpg gespeichert: results/sd/ADE_train_00020247.jpg\n"
     ]
    },
    {
     "name": "stderr",
     "output_type": "stream",
     "text": [
      "100%|██████████| 25/25 [00:00<00:00, 149.59it/s]\n",
      "100%|██████████| 100/100 [00:04<00:00, 21.66it/s]\n"
     ]
    },
    {
     "name": "stdout",
     "output_type": "stream",
     "text": [
      "Ergebnis für Bild ADE_train_00001489.jpg gespeichert: results/sd/ADE_train_00001489.jpg\n"
     ]
    },
    {
     "name": "stderr",
     "output_type": "stream",
     "text": [
      "100%|██████████| 25/25 [00:00<00:00, 149.67it/s]\n",
      "100%|██████████| 100/100 [00:04<00:00, 21.38it/s]\n"
     ]
    },
    {
     "name": "stdout",
     "output_type": "stream",
     "text": [
      "Ergebnis für Bild ADE_frame_00000061.jpg gespeichert: results/sd/ADE_frame_00000061.jpg\n"
     ]
    },
    {
     "name": "stderr",
     "output_type": "stream",
     "text": [
      "100%|██████████| 25/25 [00:00<00:00, 149.59it/s]\n",
      "100%|██████████| 100/100 [00:04<00:00, 21.75it/s]\n"
     ]
    },
    {
     "name": "stdout",
     "output_type": "stream",
     "text": [
      "Ergebnis für Bild ADE_train_00022727.jpg gespeichert: results/sd/ADE_train_00022727.jpg\n"
     ]
    },
    {
     "name": "stderr",
     "output_type": "stream",
     "text": [
      "100%|██████████| 25/25 [00:00<00:00, 149.10it/s]\n",
      "100%|██████████| 100/100 [00:04<00:00, 21.64it/s]\n"
     ]
    },
    {
     "name": "stdout",
     "output_type": "stream",
     "text": [
      "Ergebnis für Bild ADE_train_00024577.jpg gespeichert: results/sd/ADE_train_00024577.jpg\n"
     ]
    },
    {
     "name": "stderr",
     "output_type": "stream",
     "text": [
      "100%|██████████| 25/25 [00:00<00:00, 149.45it/s]\n",
      "100%|██████████| 100/100 [00:04<00:00, 21.66it/s]\n"
     ]
    },
    {
     "name": "stdout",
     "output_type": "stream",
     "text": [
      "Ergebnis für Bild ADE_train_00001701.jpg gespeichert: results/sd/ADE_train_00001701.jpg\n"
     ]
    },
    {
     "name": "stderr",
     "output_type": "stream",
     "text": [
      "100%|██████████| 25/25 [00:00<00:00, 149.02it/s]\n",
      "100%|██████████| 100/100 [00:04<00:00, 21.62it/s]\n"
     ]
    },
    {
     "name": "stdout",
     "output_type": "stream",
     "text": [
      "Ergebnis für Bild ADE_train_00001498.jpg gespeichert: results/sd/ADE_train_00001498.jpg\n"
     ]
    },
    {
     "name": "stderr",
     "output_type": "stream",
     "text": [
      "100%|██████████| 25/25 [00:00<00:00, 149.33it/s]\n",
      "100%|██████████| 100/100 [00:04<00:00, 21.68it/s]\n"
     ]
    },
    {
     "name": "stdout",
     "output_type": "stream",
     "text": [
      "Ergebnis für Bild ADE_train_00008812.jpg gespeichert: results/sd/ADE_train_00008812.jpg\n"
     ]
    },
    {
     "name": "stderr",
     "output_type": "stream",
     "text": [
      "100%|██████████| 25/25 [00:00<00:00, 148.82it/s]\n",
      "100%|██████████| 100/100 [00:04<00:00, 21.54it/s]\n"
     ]
    },
    {
     "name": "stdout",
     "output_type": "stream",
     "text": [
      "Ergebnis für Bild ADE_train_00022686.jpg gespeichert: results/sd/ADE_train_00022686.jpg\n"
     ]
    },
    {
     "name": "stderr",
     "output_type": "stream",
     "text": [
      "100%|██████████| 25/25 [00:00<00:00, 147.33it/s]\n",
      "100%|██████████| 100/100 [00:04<00:00, 21.54it/s]\n"
     ]
    },
    {
     "name": "stdout",
     "output_type": "stream",
     "text": [
      "Ergebnis für Bild ADE_train_00019286.jpg gespeichert: results/sd/ADE_train_00019286.jpg\n"
     ]
    },
    {
     "name": "stderr",
     "output_type": "stream",
     "text": [
      "100%|██████████| 25/25 [00:00<00:00, 149.24it/s]\n",
      "100%|██████████| 100/100 [00:04<00:00, 21.44it/s]\n"
     ]
    },
    {
     "name": "stdout",
     "output_type": "stream",
     "text": [
      "Ergebnis für Bild ADE_train_00008803.jpg gespeichert: results/sd/ADE_train_00008803.jpg\n"
     ]
    },
    {
     "name": "stderr",
     "output_type": "stream",
     "text": [
      "100%|██████████| 25/25 [00:00<00:00, 148.55it/s]\n",
      "100%|██████████| 100/100 [00:04<00:00, 21.69it/s]\n"
     ]
    },
    {
     "name": "stdout",
     "output_type": "stream",
     "text": [
      "Ergebnis für Bild ADE_train_00019291.jpg gespeichert: results/sd/ADE_train_00019291.jpg\n"
     ]
    },
    {
     "name": "stderr",
     "output_type": "stream",
     "text": [
      "100%|██████████| 25/25 [00:00<00:00, 148.42it/s]\n",
      "100%|██████████| 100/100 [00:04<00:00, 21.37it/s]\n"
     ]
    },
    {
     "name": "stdout",
     "output_type": "stream",
     "text": [
      "Ergebnis für Bild ADE_train_00019004.jpg gespeichert: results/sd/ADE_train_00019004.jpg\n"
     ]
    },
    {
     "name": "stderr",
     "output_type": "stream",
     "text": [
      "100%|██████████| 25/25 [00:00<00:00, 148.45it/s]\n",
      "100%|██████████| 100/100 [00:04<00:00, 21.55it/s]\n"
     ]
    },
    {
     "name": "stdout",
     "output_type": "stream",
     "text": [
      "Ergebnis für Bild ADE_train_00003079.jpg gespeichert: results/sd/ADE_train_00003079.jpg\n"
     ]
    },
    {
     "name": "stderr",
     "output_type": "stream",
     "text": [
      "100%|██████████| 25/25 [00:00<00:00, 148.67it/s]\n",
      "100%|██████████| 100/100 [00:04<00:00, 21.46it/s]\n"
     ]
    },
    {
     "name": "stdout",
     "output_type": "stream",
     "text": [
      "Ergebnis für Bild ADE_train_00016855.jpg gespeichert: results/sd/ADE_train_00016855.jpg\n"
     ]
    },
    {
     "name": "stderr",
     "output_type": "stream",
     "text": [
      "100%|██████████| 25/25 [00:00<00:00, 147.77it/s]\n",
      "100%|██████████| 100/100 [00:04<00:00, 21.62it/s]\n"
     ]
    },
    {
     "name": "stdout",
     "output_type": "stream",
     "text": [
      "Ergebnis für Bild ADE_train_00006150.jpg gespeichert: results/sd/ADE_train_00006150.jpg\n"
     ]
    },
    {
     "name": "stderr",
     "output_type": "stream",
     "text": [
      "100%|██████████| 25/25 [00:00<00:00, 148.93it/s]\n",
      "100%|██████████| 100/100 [00:04<00:00, 21.24it/s]\n"
     ]
    },
    {
     "name": "stdout",
     "output_type": "stream",
     "text": [
      "Ergebnis für Bild ADE_train_00001747.jpg gespeichert: results/sd/ADE_train_00001747.jpg\n"
     ]
    },
    {
     "name": "stderr",
     "output_type": "stream",
     "text": [
      "100%|██████████| 25/25 [00:00<00:00, 148.22it/s]\n",
      "100%|██████████| 100/100 [00:04<00:00, 21.62it/s]\n"
     ]
    },
    {
     "name": "stdout",
     "output_type": "stream",
     "text": [
      "Ergebnis für Bild ADE_train_00025118.jpg gespeichert: results/sd/ADE_train_00025118.jpg\n"
     ]
    },
    {
     "name": "stderr",
     "output_type": "stream",
     "text": [
      "100%|██████████| 25/25 [00:00<00:00, 148.76it/s]\n",
      "100%|██████████| 100/100 [00:04<00:00, 21.52it/s]\n"
     ]
    },
    {
     "name": "stdout",
     "output_type": "stream",
     "text": [
      "Ergebnis für Bild ADE_train_00003104.jpg gespeichert: results/sd/ADE_train_00003104.jpg\n"
     ]
    },
    {
     "name": "stderr",
     "output_type": "stream",
     "text": [
      "100%|██████████| 25/25 [00:00<00:00, 148.16it/s]\n",
      "100%|██████████| 100/100 [00:04<00:00, 21.39it/s]\n"
     ]
    },
    {
     "name": "stdout",
     "output_type": "stream",
     "text": [
      "Ergebnis für Bild ADE_train_00003078.jpg gespeichert: results/sd/ADE_train_00003078.jpg\n"
     ]
    },
    {
     "name": "stderr",
     "output_type": "stream",
     "text": [
      "100%|██████████| 25/25 [00:00<00:00, 147.55it/s]\n",
      "100%|██████████| 100/100 [00:04<00:00, 21.55it/s]\n"
     ]
    },
    {
     "name": "stdout",
     "output_type": "stream",
     "text": [
      "Ergebnis für Bild ADE_train_00022762.jpg gespeichert: results/sd/ADE_train_00022762.jpg\n"
     ]
    },
    {
     "name": "stderr",
     "output_type": "stream",
     "text": [
      "100%|██████████| 25/25 [00:00<00:00, 148.82it/s]\n",
      "100%|██████████| 100/100 [00:04<00:00, 21.53it/s]\n"
     ]
    },
    {
     "name": "stdout",
     "output_type": "stream",
     "text": [
      "Ergebnis für Bild ADE_train_00001717.jpg gespeichert: results/sd/ADE_train_00001717.jpg\n"
     ]
    },
    {
     "name": "stderr",
     "output_type": "stream",
     "text": [
      "100%|██████████| 25/25 [00:00<00:00, 147.97it/s]\n",
      "100%|██████████| 100/100 [00:04<00:00, 21.51it/s]\n"
     ]
    },
    {
     "name": "stdout",
     "output_type": "stream",
     "text": [
      "Ergebnis für Bild ADE_train_00012214.jpg gespeichert: results/sd/ADE_train_00012214.jpg\n"
     ]
    },
    {
     "name": "stderr",
     "output_type": "stream",
     "text": [
      "100%|██████████| 25/25 [00:00<00:00, 149.50it/s]\n",
      "100%|██████████| 100/100 [00:04<00:00, 21.60it/s]\n"
     ]
    },
    {
     "name": "stdout",
     "output_type": "stream",
     "text": [
      "Ergebnis für Bild ADE_train_00008808.jpg gespeichert: results/sd/ADE_train_00008808.jpg\n"
     ]
    },
    {
     "name": "stderr",
     "output_type": "stream",
     "text": [
      "100%|██████████| 25/25 [00:00<00:00, 148.77it/s]\n",
      "100%|██████████| 100/100 [00:04<00:00, 21.38it/s]\n"
     ]
    },
    {
     "name": "stdout",
     "output_type": "stream",
     "text": [
      "Ergebnis für Bild ADE_train_00005327.jpg gespeichert: results/sd/ADE_train_00005327.jpg\n"
     ]
    },
    {
     "name": "stderr",
     "output_type": "stream",
     "text": [
      "100%|██████████| 25/25 [00:00<00:00, 148.73it/s]\n",
      "100%|██████████| 100/100 [00:04<00:00, 21.64it/s]\n"
     ]
    },
    {
     "name": "stdout",
     "output_type": "stream",
     "text": [
      "Ergebnis für Bild ADE_train_00019288.jpg gespeichert: results/sd/ADE_train_00019288.jpg\n"
     ]
    },
    {
     "name": "stderr",
     "output_type": "stream",
     "text": [
      "100%|██████████| 25/25 [00:00<00:00, 148.54it/s]\n",
      "100%|██████████| 100/100 [00:04<00:00, 21.40it/s]\n"
     ]
    },
    {
     "name": "stdout",
     "output_type": "stream",
     "text": [
      "Ergebnis für Bild ADE_train_00024362.jpg gespeichert: results/sd/ADE_train_00024362.jpg\n"
     ]
    },
    {
     "name": "stderr",
     "output_type": "stream",
     "text": [
      "100%|██████████| 25/25 [00:00<00:00, 144.77it/s]\n",
      "100%|██████████| 100/100 [00:04<00:00, 21.56it/s]\n"
     ]
    },
    {
     "name": "stdout",
     "output_type": "stream",
     "text": [
      "Ergebnis für Bild ADE_train_00009990.jpg gespeichert: results/sd/ADE_train_00009990.jpg\n"
     ]
    },
    {
     "name": "stderr",
     "output_type": "stream",
     "text": [
      "100%|██████████| 25/25 [00:00<00:00, 149.35it/s]\n",
      "100%|██████████| 100/100 [00:04<00:00, 21.39it/s]\n"
     ]
    },
    {
     "name": "stdout",
     "output_type": "stream",
     "text": [
      "Ergebnis für Bild ADE_train_00003077.jpg gespeichert: results/sd/ADE_train_00003077.jpg\n"
     ]
    },
    {
     "name": "stderr",
     "output_type": "stream",
     "text": [
      "100%|██████████| 25/25 [00:00<00:00, 149.05it/s]\n",
      "100%|██████████| 100/100 [00:04<00:00, 21.67it/s]\n"
     ]
    },
    {
     "name": "stdout",
     "output_type": "stream",
     "text": [
      "Ergebnis für Bild ADE_train_00002274.jpg gespeichert: results/sd/ADE_train_00002274.jpg\n"
     ]
    },
    {
     "name": "stderr",
     "output_type": "stream",
     "text": [
      "100%|██████████| 25/25 [00:00<00:00, 148.94it/s]\n",
      "100%|██████████| 100/100 [00:04<00:00, 21.71it/s]\n"
     ]
    },
    {
     "name": "stdout",
     "output_type": "stream",
     "text": [
      "Ergebnis für Bild ADE_train_00005419.jpg gespeichert: results/sd/ADE_train_00005419.jpg\n"
     ]
    },
    {
     "name": "stderr",
     "output_type": "stream",
     "text": [
      "100%|██████████| 25/25 [00:00<00:00, 149.01it/s]\n",
      "100%|██████████| 100/100 [00:04<00:00, 21.71it/s]\n"
     ]
    },
    {
     "name": "stdout",
     "output_type": "stream",
     "text": [
      "Ergebnis für Bild ADE_train_00001797.jpg gespeichert: results/sd/ADE_train_00001797.jpg\n"
     ]
    },
    {
     "name": "stderr",
     "output_type": "stream",
     "text": [
      "100%|██████████| 25/25 [00:00<00:00, 149.36it/s]\n",
      "100%|██████████| 100/100 [00:04<00:00, 21.36it/s]\n"
     ]
    },
    {
     "name": "stdout",
     "output_type": "stream",
     "text": [
      "Ergebnis für Bild ADE_train_00022699.jpg gespeichert: results/sd/ADE_train_00022699.jpg\n"
     ]
    },
    {
     "name": "stderr",
     "output_type": "stream",
     "text": [
      "100%|██████████| 25/25 [00:00<00:00, 149.55it/s]\n",
      "100%|██████████| 100/100 [00:04<00:00, 21.61it/s]\n"
     ]
    },
    {
     "name": "stdout",
     "output_type": "stream",
     "text": [
      "Ergebnis für Bild ADE_train_00012241.jpg gespeichert: results/sd/ADE_train_00012241.jpg\n"
     ]
    },
    {
     "name": "stderr",
     "output_type": "stream",
     "text": [
      "100%|██████████| 25/25 [00:00<00:00, 149.33it/s]\n",
      "100%|██████████| 100/100 [00:04<00:00, 21.31it/s]\n"
     ]
    },
    {
     "name": "stdout",
     "output_type": "stream",
     "text": [
      "Ergebnis für Bild ADE_train_00022758.jpg gespeichert: results/sd/ADE_train_00022758.jpg\n"
     ]
    },
    {
     "name": "stderr",
     "output_type": "stream",
     "text": [
      "100%|██████████| 25/25 [00:00<00:00, 149.11it/s]\n",
      "100%|██████████| 100/100 [00:04<00:00, 21.55it/s]\n"
     ]
    },
    {
     "name": "stdout",
     "output_type": "stream",
     "text": [
      "Ergebnis für Bild ADE_train_00013811.jpg gespeichert: results/sd/ADE_train_00013811.jpg\n"
     ]
    },
    {
     "name": "stderr",
     "output_type": "stream",
     "text": [
      "100%|██████████| 25/25 [00:00<00:00, 149.96it/s]\n",
      "100%|██████████| 100/100 [00:04<00:00, 21.33it/s]\n"
     ]
    },
    {
     "name": "stdout",
     "output_type": "stream",
     "text": [
      "Ergebnis für Bild ADE_train_00001755.jpg gespeichert: results/sd/ADE_train_00001755.jpg\n"
     ]
    },
    {
     "name": "stderr",
     "output_type": "stream",
     "text": [
      "100%|██████████| 25/25 [00:00<00:00, 149.52it/s]\n",
      "100%|██████████| 100/100 [00:04<00:00, 21.75it/s]\n"
     ]
    },
    {
     "name": "stdout",
     "output_type": "stream",
     "text": [
      "Ergebnis für Bild ADE_train_00001805.jpg gespeichert: results/sd/ADE_train_00001805.jpg\n"
     ]
    },
    {
     "name": "stderr",
     "output_type": "stream",
     "text": [
      "100%|██████████| 25/25 [00:00<00:00, 148.45it/s]\n",
      "100%|██████████| 100/100 [00:04<00:00, 21.31it/s]\n"
     ]
    },
    {
     "name": "stdout",
     "output_type": "stream",
     "text": [
      "Ergebnis für Bild ADE_train_00001974.jpg gespeichert: results/sd/ADE_train_00001974.jpg\n"
     ]
    },
    {
     "name": "stderr",
     "output_type": "stream",
     "text": [
      "100%|██████████| 25/25 [00:00<00:00, 148.99it/s]\n",
      "100%|██████████| 100/100 [00:04<00:00, 21.55it/s]\n"
     ]
    },
    {
     "name": "stdout",
     "output_type": "stream",
     "text": [
      "Ergebnis für Bild ADE_train_00020471.jpg gespeichert: results/sd/ADE_train_00020471.jpg\n"
     ]
    },
    {
     "name": "stderr",
     "output_type": "stream",
     "text": [
      "100%|██████████| 25/25 [00:00<00:00, 148.93it/s]\n",
      "100%|██████████| 100/100 [00:04<00:00, 21.19it/s]\n"
     ]
    },
    {
     "name": "stdout",
     "output_type": "stream",
     "text": [
      "Ergebnis für Bild ADE_frame_00000005.jpg gespeichert: results/sd/ADE_frame_00000005.jpg\n"
     ]
    },
    {
     "name": "stderr",
     "output_type": "stream",
     "text": [
      "100%|██████████| 25/25 [00:00<00:00, 149.04it/s]\n",
      "100%|██████████| 100/100 [00:04<00:00, 21.73it/s]\n"
     ]
    },
    {
     "name": "stdout",
     "output_type": "stream",
     "text": [
      "Ergebnis für Bild ADE_train_00001565.jpg gespeichert: results/sd/ADE_train_00001565.jpg\n"
     ]
    },
    {
     "name": "stderr",
     "output_type": "stream",
     "text": [
      "100%|██████████| 25/25 [00:00<00:00, 149.63it/s]\n",
      "100%|██████████| 100/100 [00:04<00:00, 21.59it/s]\n"
     ]
    },
    {
     "name": "stdout",
     "output_type": "stream",
     "text": [
      "Ergebnis für Bild ADE_train_00012236.jpg gespeichert: results/sd/ADE_train_00012236.jpg\n"
     ]
    },
    {
     "name": "stderr",
     "output_type": "stream",
     "text": [
      "100%|██████████| 25/25 [00:00<00:00, 149.51it/s]\n",
      "100%|██████████| 100/100 [00:04<00:00, 21.63it/s]\n"
     ]
    },
    {
     "name": "stdout",
     "output_type": "stream",
     "text": [
      "Ergebnis für Bild ADE_train_00003169.jpg gespeichert: results/sd/ADE_train_00003169.jpg\n"
     ]
    },
    {
     "name": "stderr",
     "output_type": "stream",
     "text": [
      "100%|██████████| 25/25 [00:00<00:00, 149.39it/s]\n",
      "100%|██████████| 100/100 [00:04<00:00, 21.50it/s]\n"
     ]
    },
    {
     "name": "stdout",
     "output_type": "stream",
     "text": [
      "Ergebnis für Bild ADE_train_00012187.jpg gespeichert: results/sd/ADE_train_00012187.jpg\n"
     ]
    },
    {
     "name": "stderr",
     "output_type": "stream",
     "text": [
      "100%|██████████| 25/25 [00:00<00:00, 149.02it/s]\n",
      "100%|██████████| 100/100 [00:04<00:00, 21.75it/s]\n"
     ]
    },
    {
     "name": "stdout",
     "output_type": "stream",
     "text": [
      "Ergebnis für Bild ADE_train_00022761.jpg gespeichert: results/sd/ADE_train_00022761.jpg\n"
     ]
    },
    {
     "name": "stderr",
     "output_type": "stream",
     "text": [
      "100%|██████████| 25/25 [00:00<00:00, 149.42it/s]\n",
      "100%|██████████| 100/100 [00:04<00:00, 21.67it/s]\n"
     ]
    },
    {
     "name": "stdout",
     "output_type": "stream",
     "text": [
      "Ergebnis für Bild ADE_train_00008217.jpg gespeichert: results/sd/ADE_train_00008217.jpg\n"
     ]
    },
    {
     "name": "stderr",
     "output_type": "stream",
     "text": [
      "100%|██████████| 25/25 [00:00<00:00, 148.98it/s]\n",
      "100%|██████████| 100/100 [00:04<00:00, 21.86it/s]\n"
     ]
    },
    {
     "name": "stdout",
     "output_type": "stream",
     "text": [
      "Ergebnis für Bild ADE_train_00001699.jpg gespeichert: results/sd/ADE_train_00001699.jpg\n"
     ]
    },
    {
     "name": "stderr",
     "output_type": "stream",
     "text": [
      "100%|██████████| 25/25 [00:00<00:00, 149.37it/s]\n",
      "100%|██████████| 100/100 [00:04<00:00, 21.69it/s]\n"
     ]
    },
    {
     "name": "stdout",
     "output_type": "stream",
     "text": [
      "Ergebnis für Bild ADE_train_00002270.jpg gespeichert: results/sd/ADE_train_00002270.jpg\n"
     ]
    },
    {
     "name": "stderr",
     "output_type": "stream",
     "text": [
      "100%|██████████| 25/25 [00:00<00:00, 148.98it/s]\n",
      "100%|██████████| 100/100 [00:04<00:00, 21.57it/s]\n"
     ]
    },
    {
     "name": "stdout",
     "output_type": "stream",
     "text": [
      "Ergebnis für Bild ADE_train_00003082.jpg gespeichert: results/sd/ADE_train_00003082.jpg\n"
     ]
    },
    {
     "name": "stderr",
     "output_type": "stream",
     "text": [
      "100%|██████████| 25/25 [00:00<00:00, 150.14it/s]\n",
      "100%|██████████| 100/100 [00:04<00:00, 21.57it/s]\n"
     ]
    },
    {
     "name": "stdout",
     "output_type": "stream",
     "text": [
      "Ergebnis für Bild ADE_train_00001714.jpg gespeichert: results/sd/ADE_train_00001714.jpg\n"
     ]
    },
    {
     "name": "stderr",
     "output_type": "stream",
     "text": [
      "100%|██████████| 25/25 [00:00<00:00, 149.45it/s]\n",
      "100%|██████████| 100/100 [00:05<00:00, 19.45it/s]\n"
     ]
    },
    {
     "name": "stdout",
     "output_type": "stream",
     "text": [
      "Ergebnis für Bild ADE_train_00001497.jpg gespeichert: results/sd/ADE_train_00001497.jpg\n"
     ]
    },
    {
     "name": "stderr",
     "output_type": "stream",
     "text": [
      "100%|██████████| 25/25 [00:00<00:00, 147.72it/s]\n",
      "100%|██████████| 100/100 [00:04<00:00, 20.92it/s]\n"
     ]
    },
    {
     "name": "stdout",
     "output_type": "stream",
     "text": [
      "Ergebnis für Bild ADE_train_00003091.jpg gespeichert: results/sd/ADE_train_00003091.jpg\n"
     ]
    },
    {
     "name": "stderr",
     "output_type": "stream",
     "text": [
      "100%|██████████| 25/25 [00:00<00:00, 132.36it/s]\n",
      "100%|██████████| 100/100 [00:04<00:00, 20.64it/s]\n"
     ]
    },
    {
     "name": "stdout",
     "output_type": "stream",
     "text": [
      "Ergebnis für Bild ADE_train_00003084.jpg gespeichert: results/sd/ADE_train_00003084.jpg\n"
     ]
    },
    {
     "name": "stderr",
     "output_type": "stream",
     "text": [
      "100%|██████████| 25/25 [00:00<00:00, 148.74it/s]\n",
      "100%|██████████| 100/100 [00:04<00:00, 21.67it/s]\n"
     ]
    },
    {
     "name": "stdout",
     "output_type": "stream",
     "text": [
      "Ergebnis für Bild ADE_train_00002289.jpg gespeichert: results/sd/ADE_train_00002289.jpg\n"
     ]
    },
    {
     "name": "stderr",
     "output_type": "stream",
     "text": [
      "100%|██████████| 25/25 [00:00<00:00, 148.96it/s]\n",
      "100%|██████████| 100/100 [00:04<00:00, 20.04it/s]\n"
     ]
    },
    {
     "name": "stdout",
     "output_type": "stream",
     "text": [
      "Ergebnis für Bild ADE_train_00001237.jpg gespeichert: results/sd/ADE_train_00001237.jpg\n"
     ]
    },
    {
     "name": "stderr",
     "output_type": "stream",
     "text": [
      "100%|██████████| 25/25 [00:00<00:00, 128.87it/s]\n",
      "100%|██████████| 100/100 [00:05<00:00, 19.10it/s]\n"
     ]
    },
    {
     "name": "stdout",
     "output_type": "stream",
     "text": [
      "Ergebnis für Bild ADE_train_00001811.jpg gespeichert: results/sd/ADE_train_00001811.jpg\n"
     ]
    },
    {
     "name": "stderr",
     "output_type": "stream",
     "text": [
      "100%|██████████| 25/25 [00:00<00:00, 131.63it/s]\n",
      "100%|██████████| 100/100 [00:04<00:00, 21.71it/s]\n"
     ]
    },
    {
     "name": "stdout",
     "output_type": "stream",
     "text": [
      "Ergebnis für Bild ADE_frame_00000293.jpg gespeichert: results/sd/ADE_frame_00000293.jpg\n"
     ]
    },
    {
     "name": "stderr",
     "output_type": "stream",
     "text": [
      "100%|██████████| 25/25 [00:00<00:00, 149.49it/s]\n",
      "100%|██████████| 100/100 [00:05<00:00, 19.12it/s]\n"
     ]
    },
    {
     "name": "stdout",
     "output_type": "stream",
     "text": [
      "Ergebnis für Bild ADE_train_00005172.jpg gespeichert: results/sd/ADE_train_00005172.jpg\n"
     ]
    },
    {
     "name": "stderr",
     "output_type": "stream",
     "text": [
      "100%|██████████| 25/25 [00:00<00:00, 126.85it/s]\n",
      "100%|██████████| 100/100 [00:04<00:00, 20.64it/s]\n"
     ]
    },
    {
     "name": "stdout",
     "output_type": "stream",
     "text": [
      "Ergebnis für Bild ADE_train_00008810.jpg gespeichert: results/sd/ADE_train_00008810.jpg\n"
     ]
    },
    {
     "name": "stderr",
     "output_type": "stream",
     "text": [
      "100%|██████████| 25/25 [00:00<00:00, 149.32it/s]\n",
      "100%|██████████| 100/100 [00:04<00:00, 21.62it/s]\n"
     ]
    },
    {
     "name": "stdout",
     "output_type": "stream",
     "text": [
      "Ergebnis für Bild ADE_train_00020279.jpg gespeichert: results/sd/ADE_train_00020279.jpg\n"
     ]
    },
    {
     "name": "stderr",
     "output_type": "stream",
     "text": [
      "100%|██████████| 25/25 [00:00<00:00, 127.11it/s]\n",
      "100%|██████████| 100/100 [00:05<00:00, 19.66it/s]\n"
     ]
    },
    {
     "name": "stdout",
     "output_type": "stream",
     "text": [
      "Ergebnis für Bild ADE_train_00022706.jpg gespeichert: results/sd/ADE_train_00022706.jpg\n"
     ]
    },
    {
     "name": "stderr",
     "output_type": "stream",
     "text": [
      "100%|██████████| 25/25 [00:00<00:00, 130.26it/s]\n",
      "100%|██████████| 100/100 [00:04<00:00, 21.48it/s]\n"
     ]
    },
    {
     "name": "stdout",
     "output_type": "stream",
     "text": [
      "Ergebnis für Bild ADE_train_00001640.jpg gespeichert: results/sd/ADE_train_00001640.jpg\n"
     ]
    },
    {
     "name": "stderr",
     "output_type": "stream",
     "text": [
      "100%|██████████| 25/25 [00:00<00:00, 148.63it/s]\n",
      "100%|██████████| 100/100 [00:04<00:00, 20.01it/s]\n"
     ]
    },
    {
     "name": "stdout",
     "output_type": "stream",
     "text": [
      "Ergebnis für Bild ADE_train_00000653.jpg gespeichert: results/sd/ADE_train_00000653.jpg\n"
     ]
    },
    {
     "name": "stderr",
     "output_type": "stream",
     "text": [
      "100%|██████████| 25/25 [00:00<00:00, 127.44it/s]\n",
      "100%|██████████| 100/100 [00:04<00:00, 20.79it/s]\n"
     ]
    },
    {
     "name": "stdout",
     "output_type": "stream",
     "text": [
      "Ergebnis für Bild ADE_train_00001495.jpg gespeichert: results/sd/ADE_train_00001495.jpg\n"
     ]
    },
    {
     "name": "stderr",
     "output_type": "stream",
     "text": [
      "100%|██████████| 25/25 [00:00<00:00, 149.69it/s]\n",
      "100%|██████████| 100/100 [00:04<00:00, 20.41it/s]\n"
     ]
    },
    {
     "name": "stdout",
     "output_type": "stream",
     "text": [
      "Ergebnis für Bild ADE_train_00001703.jpg gespeichert: results/sd/ADE_train_00001703.jpg\n"
     ]
    },
    {
     "name": "stderr",
     "output_type": "stream",
     "text": [
      "100%|██████████| 25/25 [00:00<00:00, 128.93it/s]\n",
      "100%|██████████| 100/100 [00:05<00:00, 19.56it/s]\n"
     ]
    },
    {
     "name": "stdout",
     "output_type": "stream",
     "text": [
      "Ergebnis für Bild ADE_train_00020192.jpg gespeichert: results/sd/ADE_train_00020192.jpg\n"
     ]
    },
    {
     "name": "stderr",
     "output_type": "stream",
     "text": [
      "100%|██████████| 25/25 [00:00<00:00, 149.52it/s]\n",
      "100%|██████████| 100/100 [00:04<00:00, 21.55it/s]\n"
     ]
    },
    {
     "name": "stdout",
     "output_type": "stream",
     "text": [
      "Ergebnis für Bild ADE_train_00009992.jpg gespeichert: results/sd/ADE_train_00009992.jpg\n"
     ]
    },
    {
     "name": "stderr",
     "output_type": "stream",
     "text": [
      "100%|██████████| 25/25 [00:00<00:00, 149.03it/s]\n",
      "100%|██████████| 100/100 [00:04<00:00, 21.21it/s]\n"
     ]
    },
    {
     "name": "stdout",
     "output_type": "stream",
     "text": [
      "Ergebnis für Bild ADE_train_00012233.jpg gespeichert: results/sd/ADE_train_00012233.jpg\n"
     ]
    },
    {
     "name": "stderr",
     "output_type": "stream",
     "text": [
      "100%|██████████| 25/25 [00:00<00:00, 148.97it/s]\n",
      "100%|██████████| 100/100 [00:04<00:00, 21.62it/s]\n"
     ]
    },
    {
     "name": "stdout",
     "output_type": "stream",
     "text": [
      "Ergebnis für Bild ADE_train_00016149.jpg gespeichert: results/sd/ADE_train_00016149.jpg\n"
     ]
    },
    {
     "name": "stderr",
     "output_type": "stream",
     "text": [
      "100%|██████████| 25/25 [00:00<00:00, 149.25it/s]\n",
      "100%|██████████| 100/100 [00:04<00:00, 21.40it/s]\n"
     ]
    },
    {
     "name": "stdout",
     "output_type": "stream",
     "text": [
      "Ergebnis für Bild ADE_train_00002143.jpg gespeichert: results/sd/ADE_train_00002143.jpg\n"
     ]
    },
    {
     "name": "stderr",
     "output_type": "stream",
     "text": [
      "100%|██████████| 25/25 [00:00<00:00, 148.87it/s]\n",
      "100%|██████████| 100/100 [00:04<00:00, 21.67it/s]\n"
     ]
    },
    {
     "name": "stdout",
     "output_type": "stream",
     "text": [
      "Ergebnis für Bild ADE_train_00002295.jpg gespeichert: results/sd/ADE_train_00002295.jpg\n"
     ]
    },
    {
     "name": "stderr",
     "output_type": "stream",
     "text": [
      "100%|██████████| 25/25 [00:00<00:00, 149.54it/s]\n",
      "100%|██████████| 100/100 [00:04<00:00, 21.22it/s]\n"
     ]
    },
    {
     "name": "stdout",
     "output_type": "stream",
     "text": [
      "Ergebnis für Bild ADE_train_00008214.jpg gespeichert: results/sd/ADE_train_00008214.jpg\n"
     ]
    },
    {
     "name": "stderr",
     "output_type": "stream",
     "text": [
      "100%|██████████| 25/25 [00:00<00:00, 148.10it/s]\n",
      "100%|██████████| 100/100 [00:04<00:00, 21.67it/s]\n"
     ]
    },
    {
     "name": "stdout",
     "output_type": "stream",
     "text": [
      "Ergebnis für Bild ADE_train_00001496.jpg gespeichert: results/sd/ADE_train_00001496.jpg\n"
     ]
    },
    {
     "name": "stderr",
     "output_type": "stream",
     "text": [
      "100%|██████████| 25/25 [00:00<00:00, 148.59it/s]\n",
      "100%|██████████| 100/100 [00:04<00:00, 21.34it/s]\n"
     ]
    },
    {
     "name": "stdout",
     "output_type": "stream",
     "text": [
      "Ergebnis für Bild ADE_train_00001570.jpg gespeichert: results/sd/ADE_train_00001570.jpg\n"
     ]
    },
    {
     "name": "stderr",
     "output_type": "stream",
     "text": [
      "100%|██████████| 25/25 [00:00<00:00, 148.95it/s]\n",
      "100%|██████████| 100/100 [00:04<00:00, 21.18it/s]\n"
     ]
    },
    {
     "name": "stdout",
     "output_type": "stream",
     "text": [
      "Ergebnis für Bild ADE_train_00006148.jpg gespeichert: results/sd/ADE_train_00006148.jpg\n"
     ]
    },
    {
     "name": "stderr",
     "output_type": "stream",
     "text": [
      "100%|██████████| 25/25 [00:00<00:00, 149.22it/s]\n",
      "100%|██████████| 100/100 [00:04<00:00, 21.66it/s]\n"
     ]
    },
    {
     "name": "stdout",
     "output_type": "stream",
     "text": [
      "Ergebnis für Bild ADE_train_00020244.jpg gespeichert: results/sd/ADE_train_00020244.jpg\n"
     ]
    },
    {
     "name": "stderr",
     "output_type": "stream",
     "text": [
      "100%|██████████| 25/25 [00:00<00:00, 149.63it/s]\n",
      "100%|██████████| 100/100 [00:04<00:00, 20.35it/s]\n"
     ]
    },
    {
     "name": "stdout",
     "output_type": "stream",
     "text": [
      "Ergebnis für Bild ADE_train_00001721.jpg gespeichert: results/sd/ADE_train_00001721.jpg\n"
     ]
    },
    {
     "name": "stderr",
     "output_type": "stream",
     "text": [
      "100%|██████████| 25/25 [00:00<00:00, 149.24it/s]\n",
      "100%|██████████| 100/100 [00:04<00:00, 21.22it/s]\n"
     ]
    },
    {
     "name": "stdout",
     "output_type": "stream",
     "text": [
      "Ergebnis für Bild ADE_train_00001668.jpg gespeichert: results/sd/ADE_train_00001668.jpg\n"
     ]
    },
    {
     "name": "stderr",
     "output_type": "stream",
     "text": [
      "100%|██████████| 25/25 [00:00<00:00, 148.95it/s]\n",
      "100%|██████████| 100/100 [00:04<00:00, 21.62it/s]\n"
     ]
    },
    {
     "name": "stdout",
     "output_type": "stream",
     "text": [
      "Ergebnis für Bild ADE_train_00002271.jpg gespeichert: results/sd/ADE_train_00002271.jpg\n"
     ]
    },
    {
     "name": "stderr",
     "output_type": "stream",
     "text": [
      "100%|██████████| 25/25 [00:00<00:00, 148.79it/s]\n",
      "100%|██████████| 100/100 [00:04<00:00, 21.50it/s]\n"
     ]
    },
    {
     "name": "stdout",
     "output_type": "stream",
     "text": [
      "Ergebnis für Bild ADE_train_00021745.jpg gespeichert: results/sd/ADE_train_00021745.jpg\n"
     ]
    },
    {
     "name": "stderr",
     "output_type": "stream",
     "text": [
      "100%|██████████| 25/25 [00:00<00:00, 149.11it/s]\n",
      "100%|██████████| 100/100 [00:04<00:00, 21.42it/s]\n"
     ]
    },
    {
     "name": "stdout",
     "output_type": "stream",
     "text": [
      "Ergebnis für Bild ADE_train_00001756.jpg gespeichert: results/sd/ADE_train_00001756.jpg\n"
     ]
    },
    {
     "name": "stderr",
     "output_type": "stream",
     "text": [
      "100%|██████████| 25/25 [00:00<00:00, 148.58it/s]\n",
      "100%|██████████| 100/100 [00:04<00:00, 21.31it/s]\n"
     ]
    },
    {
     "name": "stdout",
     "output_type": "stream",
     "text": [
      "Ergebnis für Bild ADE_train_00011666.jpg gespeichert: results/sd/ADE_train_00011666.jpg\n"
     ]
    },
    {
     "name": "stderr",
     "output_type": "stream",
     "text": [
      "100%|██████████| 25/25 [00:00<00:00, 148.94it/s]\n",
      "100%|██████████| 100/100 [00:04<00:00, 21.54it/s]\n"
     ]
    },
    {
     "name": "stdout",
     "output_type": "stream",
     "text": [
      "Ergebnis für Bild ADE_train_00023487.jpg gespeichert: results/sd/ADE_train_00023487.jpg\n"
     ]
    },
    {
     "name": "stderr",
     "output_type": "stream",
     "text": [
      "100%|██████████| 25/25 [00:00<00:00, 149.16it/s]\n",
      "100%|██████████| 100/100 [00:04<00:00, 21.47it/s]\n"
     ]
    },
    {
     "name": "stdout",
     "output_type": "stream",
     "text": [
      "Ergebnis für Bild ADE_train_00002302.jpg gespeichert: results/sd/ADE_train_00002302.jpg\n"
     ]
    },
    {
     "name": "stderr",
     "output_type": "stream",
     "text": [
      "100%|██████████| 25/25 [00:00<00:00, 148.91it/s]\n",
      "100%|██████████| 100/100 [00:04<00:00, 21.62it/s]\n"
     ]
    },
    {
     "name": "stdout",
     "output_type": "stream",
     "text": [
      "Ergebnis für Bild ADE_train_00001776.jpg gespeichert: results/sd/ADE_train_00001776.jpg\n"
     ]
    },
    {
     "name": "stderr",
     "output_type": "stream",
     "text": [
      "100%|██████████| 25/25 [00:00<00:00, 149.12it/s]\n",
      "100%|██████████| 100/100 [00:04<00:00, 21.33it/s]\n"
     ]
    },
    {
     "name": "stdout",
     "output_type": "stream",
     "text": [
      "Ergebnis für Bild ADE_train_00001786.jpg gespeichert: results/sd/ADE_train_00001786.jpg\n"
     ]
    },
    {
     "name": "stderr",
     "output_type": "stream",
     "text": [
      "100%|██████████| 25/25 [00:00<00:00, 148.84it/s]\n",
      "100%|██████████| 100/100 [00:04<00:00, 21.48it/s]\n"
     ]
    },
    {
     "name": "stdout",
     "output_type": "stream",
     "text": [
      "Ergebnis für Bild ADE_train_00011904.jpg gespeichert: results/sd/ADE_train_00011904.jpg\n"
     ]
    },
    {
     "name": "stderr",
     "output_type": "stream",
     "text": [
      "100%|██████████| 25/25 [00:00<00:00, 149.02it/s]\n",
      "100%|██████████| 100/100 [00:04<00:00, 21.29it/s]\n"
     ]
    },
    {
     "name": "stdout",
     "output_type": "stream",
     "text": [
      "Ergebnis für Bild ADE_train_00000674.jpg gespeichert: results/sd/ADE_train_00000674.jpg\n"
     ]
    },
    {
     "name": "stderr",
     "output_type": "stream",
     "text": [
      "100%|██████████| 25/25 [00:00<00:00, 148.82it/s]\n",
      "100%|██████████| 100/100 [00:04<00:00, 21.56it/s]\n"
     ]
    },
    {
     "name": "stdout",
     "output_type": "stream",
     "text": [
      "Ergebnis für Bild ADE_train_00000655.jpg gespeichert: results/sd/ADE_train_00000655.jpg\n"
     ]
    },
    {
     "name": "stderr",
     "output_type": "stream",
     "text": [
      "100%|██████████| 25/25 [00:00<00:00, 149.49it/s]\n",
      "100%|██████████| 100/100 [00:04<00:00, 21.28it/s]\n"
     ]
    },
    {
     "name": "stdout",
     "output_type": "stream",
     "text": [
      "Ergebnis für Bild ADE_train_00019298.jpg gespeichert: results/sd/ADE_train_00019298.jpg\n"
     ]
    },
    {
     "name": "stderr",
     "output_type": "stream",
     "text": [
      "100%|██████████| 25/25 [00:00<00:00, 149.13it/s]\n",
      "100%|██████████| 100/100 [00:04<00:00, 21.48it/s]\n"
     ]
    },
    {
     "name": "stdout",
     "output_type": "stream",
     "text": [
      "Ergebnis für Bild ADE_train_00025115.jpg gespeichert: results/sd/ADE_train_00025115.jpg\n"
     ]
    },
    {
     "name": "stderr",
     "output_type": "stream",
     "text": [
      "100%|██████████| 25/25 [00:00<00:00, 148.69it/s]\n",
      "100%|██████████| 100/100 [00:04<00:00, 21.12it/s]\n"
     ]
    },
    {
     "name": "stdout",
     "output_type": "stream",
     "text": [
      "Ergebnis für Bild ADE_train_00022708.jpg gespeichert: results/sd/ADE_train_00022708.jpg\n"
     ]
    },
    {
     "name": "stderr",
     "output_type": "stream",
     "text": [
      "100%|██████████| 25/25 [00:00<00:00, 148.73it/s]\n",
      "100%|██████████| 100/100 [00:04<00:00, 21.50it/s]\n"
     ]
    },
    {
     "name": "stdout",
     "output_type": "stream",
     "text": [
      "Ergebnis für Bild ADE_train_00022663.jpg gespeichert: results/sd/ADE_train_00022663.jpg\n"
     ]
    },
    {
     "name": "stderr",
     "output_type": "stream",
     "text": [
      "100%|██████████| 25/25 [00:00<00:00, 148.91it/s]\n",
      "100%|██████████| 100/100 [00:04<00:00, 21.15it/s]\n"
     ]
    },
    {
     "name": "stdout",
     "output_type": "stream",
     "text": [
      "Ergebnis für Bild ADE_train_00002286.jpg gespeichert: results/sd/ADE_train_00002286.jpg\n"
     ]
    },
    {
     "name": "stderr",
     "output_type": "stream",
     "text": [
      "100%|██████████| 25/25 [00:00<00:00, 149.30it/s]\n",
      "100%|██████████| 100/100 [00:04<00:00, 21.47it/s]\n"
     ]
    },
    {
     "name": "stdout",
     "output_type": "stream",
     "text": [
      "Ergebnis für Bild ADE_train_00003090.jpg gespeichert: results/sd/ADE_train_00003090.jpg\n"
     ]
    },
    {
     "name": "stderr",
     "output_type": "stream",
     "text": [
      "100%|██████████| 25/25 [00:00<00:00, 149.17it/s]\n",
      "100%|██████████| 100/100 [00:04<00:00, 20.93it/s]\n"
     ]
    },
    {
     "name": "stdout",
     "output_type": "stream",
     "text": [
      "Ergebnis für Bild ADE_train_00005334.jpg gespeichert: results/sd/ADE_train_00005334.jpg\n"
     ]
    },
    {
     "name": "stderr",
     "output_type": "stream",
     "text": [
      "100%|██████████| 25/25 [00:00<00:00, 149.46it/s]\n",
      "100%|██████████| 100/100 [00:04<00:00, 21.33it/s]\n"
     ]
    },
    {
     "name": "stdout",
     "output_type": "stream",
     "text": [
      "Ergebnis für Bild ADE_frame_00000152.jpg gespeichert: results/sd/ADE_frame_00000152.jpg\n"
     ]
    },
    {
     "name": "stderr",
     "output_type": "stream",
     "text": [
      "100%|██████████| 25/25 [00:00<00:00, 148.59it/s]\n",
      "100%|██████████| 100/100 [00:04<00:00, 20.93it/s]\n"
     ]
    },
    {
     "name": "stdout",
     "output_type": "stream",
     "text": [
      "Ergebnis für Bild ADE_train_00002141.jpg gespeichert: results/sd/ADE_train_00002141.jpg\n"
     ]
    },
    {
     "name": "stderr",
     "output_type": "stream",
     "text": [
      "100%|██████████| 25/25 [00:00<00:00, 148.49it/s]\n",
      "100%|██████████| 100/100 [00:04<00:00, 21.57it/s]\n"
     ]
    },
    {
     "name": "stdout",
     "output_type": "stream",
     "text": [
      "Ergebnis für Bild ADE_train_00000668.jpg gespeichert: results/sd/ADE_train_00000668.jpg\n"
     ]
    },
    {
     "name": "stderr",
     "output_type": "stream",
     "text": [
      "100%|██████████| 25/25 [00:00<00:00, 148.62it/s]\n",
      "100%|██████████| 100/100 [00:04<00:00, 21.08it/s]\n"
     ]
    },
    {
     "name": "stdout",
     "output_type": "stream",
     "text": [
      "Ergebnis für Bild ADE_train_00008799.jpg gespeichert: results/sd/ADE_train_00008799.jpg\n"
     ]
    },
    {
     "name": "stderr",
     "output_type": "stream",
     "text": [
      "100%|██████████| 25/25 [00:00<00:00, 148.82it/s]\n",
      "100%|██████████| 100/100 [00:04<00:00, 21.58it/s]\n"
     ]
    },
    {
     "name": "stdout",
     "output_type": "stream",
     "text": [
      "Ergebnis für Bild ADE_train_00023640.jpg gespeichert: results/sd/ADE_train_00023640.jpg\n"
     ]
    },
    {
     "name": "stderr",
     "output_type": "stream",
     "text": [
      "100%|██████████| 25/25 [00:00<00:00, 148.07it/s]\n",
      "100%|██████████| 100/100 [00:04<00:00, 21.17it/s]\n"
     ]
    },
    {
     "name": "stdout",
     "output_type": "stream",
     "text": [
      "Ergebnis für Bild ADE_frame_00000219.jpg gespeichert: results/sd/ADE_frame_00000219.jpg\n"
     ]
    },
    {
     "name": "stderr",
     "output_type": "stream",
     "text": [
      "100%|██████████| 25/25 [00:00<00:00, 148.65it/s]\n",
      "100%|██████████| 100/100 [00:04<00:00, 21.21it/s]\n"
     ]
    },
    {
     "name": "stdout",
     "output_type": "stream",
     "text": [
      "Ergebnis für Bild ADE_train_00008805.jpg gespeichert: results/sd/ADE_train_00008805.jpg\n"
     ]
    },
    {
     "name": "stderr",
     "output_type": "stream",
     "text": [
      "100%|██████████| 25/25 [00:00<00:00, 148.93it/s]\n",
      "100%|██████████| 100/100 [00:04<00:00, 20.99it/s]\n"
     ]
    },
    {
     "name": "stdout",
     "output_type": "stream",
     "text": [
      "Ergebnis für Bild ADE_train_00022690.jpg gespeichert: results/sd/ADE_train_00022690.jpg\n"
     ]
    },
    {
     "name": "stderr",
     "output_type": "stream",
     "text": [
      "100%|██████████| 25/25 [00:00<00:00, 149.25it/s]\n",
      "100%|██████████| 100/100 [00:04<00:00, 21.32it/s]\n"
     ]
    },
    {
     "name": "stdout",
     "output_type": "stream",
     "text": [
      "Ergebnis für Bild ADE_train_00001637.jpg gespeichert: results/sd/ADE_train_00001637.jpg\n"
     ]
    },
    {
     "name": "stderr",
     "output_type": "stream",
     "text": [
      "100%|██████████| 25/25 [00:00<00:00, 148.67it/s]\n",
      "100%|██████████| 100/100 [00:04<00:00, 20.88it/s]\n"
     ]
    },
    {
     "name": "stdout",
     "output_type": "stream",
     "text": [
      "Ergebnis für Bild ADE_train_00019289.jpg gespeichert: results/sd/ADE_train_00019289.jpg\n"
     ]
    },
    {
     "name": "stderr",
     "output_type": "stream",
     "text": [
      "100%|██████████| 25/25 [00:00<00:00, 149.82it/s]\n",
      "100%|██████████| 100/100 [00:04<00:00, 21.41it/s]\n"
     ]
    },
    {
     "name": "stdout",
     "output_type": "stream",
     "text": [
      "Ergebnis für Bild ADE_train_00001638.jpg gespeichert: results/sd/ADE_train_00001638.jpg\n"
     ]
    },
    {
     "name": "stderr",
     "output_type": "stream",
     "text": [
      "100%|██████████| 25/25 [00:00<00:00, 148.35it/s]\n",
      "100%|██████████| 100/100 [00:04<00:00, 21.09it/s]\n"
     ]
    },
    {
     "name": "stdout",
     "output_type": "stream",
     "text": [
      "Ergebnis für Bild ADE_train_00008806.jpg gespeichert: results/sd/ADE_train_00008806.jpg\n"
     ]
    },
    {
     "name": "stderr",
     "output_type": "stream",
     "text": [
      "100%|██████████| 25/25 [00:00<00:00, 148.64it/s]\n",
      "100%|██████████| 100/100 [00:04<00:00, 21.56it/s]\n"
     ]
    },
    {
     "name": "stdout",
     "output_type": "stream",
     "text": [
      "Ergebnis für Bild ADE_train_00001653.jpg gespeichert: results/sd/ADE_train_00001653.jpg\n"
     ]
    },
    {
     "name": "stderr",
     "output_type": "stream",
     "text": [
      "100%|██████████| 25/25 [00:00<00:00, 148.93it/s]\n",
      "100%|██████████| 100/100 [00:04<00:00, 20.87it/s]\n"
     ]
    },
    {
     "name": "stdout",
     "output_type": "stream",
     "text": [
      "Ergebnis für Bild ADE_train_00001751.jpg gespeichert: results/sd/ADE_train_00001751.jpg\n"
     ]
    },
    {
     "name": "stderr",
     "output_type": "stream",
     "text": [
      "100%|██████████| 25/25 [00:00<00:00, 148.83it/s]\n",
      "100%|██████████| 100/100 [00:04<00:00, 21.49it/s]\n"
     ]
    },
    {
     "name": "stdout",
     "output_type": "stream",
     "text": [
      "Ergebnis für Bild ADE_train_00011668.jpg gespeichert: results/sd/ADE_train_00011668.jpg\n"
     ]
    },
    {
     "name": "stderr",
     "output_type": "stream",
     "text": [
      "100%|██████████| 25/25 [00:00<00:00, 149.01it/s]\n",
      "100%|██████████| 100/100 [00:04<00:00, 20.83it/s]\n"
     ]
    },
    {
     "name": "stdout",
     "output_type": "stream",
     "text": [
      "Ergebnis für Bild ADE_train_00021740.jpg gespeichert: results/sd/ADE_train_00021740.jpg\n"
     ]
    },
    {
     "name": "stderr",
     "output_type": "stream",
     "text": [
      "100%|██████████| 25/25 [00:00<00:00, 149.81it/s]\n",
      "100%|██████████| 100/100 [00:04<00:00, 21.53it/s]\n"
     ]
    },
    {
     "name": "stdout",
     "output_type": "stream",
     "text": [
      "Ergebnis für Bild ADE_frame_00000007.jpg gespeichert: results/sd/ADE_frame_00000007.jpg\n"
     ]
    },
    {
     "name": "stderr",
     "output_type": "stream",
     "text": [
      "100%|██████████| 25/25 [00:00<00:00, 149.82it/s]\n",
      "100%|██████████| 100/100 [00:04<00:00, 20.98it/s]\n"
     ]
    },
    {
     "name": "stdout",
     "output_type": "stream",
     "text": [
      "Ergebnis für Bild ADE_train_00015623.jpg gespeichert: results/sd/ADE_train_00015623.jpg\n"
     ]
    },
    {
     "name": "stderr",
     "output_type": "stream",
     "text": [
      "100%|██████████| 25/25 [00:00<00:00, 148.14it/s]\n",
      "100%|██████████| 100/100 [00:04<00:00, 21.26it/s]\n"
     ]
    },
    {
     "name": "stdout",
     "output_type": "stream",
     "text": [
      "Ergebnis für Bild ADE_train_00003114.jpg gespeichert: results/sd/ADE_train_00003114.jpg\n"
     ]
    },
    {
     "name": "stderr",
     "output_type": "stream",
     "text": [
      "100%|██████████| 25/25 [00:00<00:00, 148.77it/s]\n",
      "100%|██████████| 100/100 [00:04<00:00, 21.15it/s]\n"
     ]
    },
    {
     "name": "stdout",
     "output_type": "stream",
     "text": [
      "Ergebnis für Bild ADE_train_00015288.jpg gespeichert: results/sd/ADE_train_00015288.jpg\n"
     ]
    },
    {
     "name": "stderr",
     "output_type": "stream",
     "text": [
      "100%|██████████| 25/25 [00:00<00:00, 149.51it/s]\n",
      "100%|██████████| 100/100 [00:04<00:00, 21.51it/s]\n"
     ]
    },
    {
     "name": "stdout",
     "output_type": "stream",
     "text": [
      "Ergebnis für Bild ADE_train_00005348.jpg gespeichert: results/sd/ADE_train_00005348.jpg\n"
     ]
    },
    {
     "name": "stderr",
     "output_type": "stream",
     "text": [
      "100%|██████████| 25/25 [00:00<00:00, 149.33it/s]\n",
      "100%|██████████| 100/100 [00:04<00:00, 20.97it/s]\n"
     ]
    },
    {
     "name": "stdout",
     "output_type": "stream",
     "text": [
      "Ergebnis für Bild ADE_train_00010000.jpg gespeichert: results/sd/ADE_train_00010000.jpg\n"
     ]
    },
    {
     "name": "stderr",
     "output_type": "stream",
     "text": [
      "100%|██████████| 25/25 [00:00<00:00, 148.72it/s]\n",
      "100%|██████████| 100/100 [00:04<00:00, 21.65it/s]\n"
     ]
    },
    {
     "name": "stdout",
     "output_type": "stream",
     "text": [
      "Ergebnis für Bild ADE_train_00021747.jpg gespeichert: results/sd/ADE_train_00021747.jpg\n"
     ]
    },
    {
     "name": "stderr",
     "output_type": "stream",
     "text": [
      "100%|██████████| 25/25 [00:00<00:00, 148.58it/s]\n",
      "100%|██████████| 100/100 [00:04<00:00, 21.16it/s]\n"
     ]
    },
    {
     "name": "stdout",
     "output_type": "stream",
     "text": [
      "Ergebnis für Bild ADE_train_00002345.jpg gespeichert: results/sd/ADE_train_00002345.jpg\n"
     ]
    },
    {
     "name": "stderr",
     "output_type": "stream",
     "text": [
      "100%|██████████| 25/25 [00:00<00:00, 149.42it/s]\n",
      "100%|██████████| 100/100 [00:04<00:00, 21.36it/s]\n"
     ]
    },
    {
     "name": "stdout",
     "output_type": "stream",
     "text": [
      "Ergebnis für Bild ADE_train_00001778.jpg gespeichert: results/sd/ADE_train_00001778.jpg\n"
     ]
    },
    {
     "name": "stderr",
     "output_type": "stream",
     "text": [
      "100%|██████████| 25/25 [00:00<00:00, 148.22it/s]\n",
      "100%|██████████| 100/100 [00:04<00:00, 21.04it/s]\n"
     ]
    },
    {
     "name": "stdout",
     "output_type": "stream",
     "text": [
      "Ergebnis für Bild ADE_train_00003098.jpg gespeichert: results/sd/ADE_train_00003098.jpg\n"
     ]
    },
    {
     "name": "stderr",
     "output_type": "stream",
     "text": [
      "100%|██████████| 25/25 [00:00<00:00, 149.22it/s]\n",
      "100%|██████████| 100/100 [00:04<00:00, 21.42it/s]\n"
     ]
    },
    {
     "name": "stdout",
     "output_type": "stream",
     "text": [
      "Ergebnis für Bild ADE_train_00005326.jpg gespeichert: results/sd/ADE_train_00005326.jpg\n"
     ]
    },
    {
     "name": "stderr",
     "output_type": "stream",
     "text": [
      "100%|██████████| 25/25 [00:00<00:00, 148.66it/s]\n",
      "100%|██████████| 100/100 [00:04<00:00, 21.19it/s]\n"
     ]
    },
    {
     "name": "stdout",
     "output_type": "stream",
     "text": [
      "Ergebnis für Bild ADE_train_00003081.jpg gespeichert: results/sd/ADE_train_00003081.jpg\n"
     ]
    },
    {
     "name": "stderr",
     "output_type": "stream",
     "text": [
      "100%|██████████| 25/25 [00:00<00:00, 148.85it/s]\n",
      "100%|██████████| 100/100 [00:04<00:00, 21.58it/s]\n"
     ]
    },
    {
     "name": "stdout",
     "output_type": "stream",
     "text": [
      "Ergebnis für Bild ADE_train_00020078.jpg gespeichert: results/sd/ADE_train_00020078.jpg\n"
     ]
    },
    {
     "name": "stderr",
     "output_type": "stream",
     "text": [
      "100%|██████████| 25/25 [00:00<00:00, 149.29it/s]\n",
      "100%|██████████| 100/100 [00:04<00:00, 21.05it/s]\n"
     ]
    },
    {
     "name": "stdout",
     "output_type": "stream",
     "text": [
      "Ergebnis für Bild ADE_train_00022694.jpg gespeichert: results/sd/ADE_train_00022694.jpg\n"
     ]
    },
    {
     "name": "stderr",
     "output_type": "stream",
     "text": [
      "100%|██████████| 25/25 [00:00<00:00, 149.14it/s]\n",
      "100%|██████████| 100/100 [00:04<00:00, 21.17it/s]\n"
     ]
    },
    {
     "name": "stdout",
     "output_type": "stream",
     "text": [
      "Ergebnis für Bild ADE_train_00000670.jpg gespeichert: results/sd/ADE_train_00000670.jpg\n"
     ]
    },
    {
     "name": "stderr",
     "output_type": "stream",
     "text": [
      "100%|██████████| 25/25 [00:00<00:00, 149.38it/s]\n",
      "100%|██████████| 100/100 [00:04<00:00, 21.12it/s]\n"
     ]
    },
    {
     "name": "stdout",
     "output_type": "stream",
     "text": [
      "Ergebnis für Bild ADE_train_00020473.jpg gespeichert: results/sd/ADE_train_00020473.jpg\n"
     ]
    },
    {
     "name": "stderr",
     "output_type": "stream",
     "text": [
      "100%|██████████| 25/25 [00:00<00:00, 148.58it/s]\n",
      "100%|██████████| 100/100 [00:04<00:00, 21.58it/s]\n"
     ]
    },
    {
     "name": "stdout",
     "output_type": "stream",
     "text": [
      "Ergebnis für Bild ADE_train_00002284.jpg gespeichert: results/sd/ADE_train_00002284.jpg\n"
     ]
    },
    {
     "name": "stderr",
     "output_type": "stream",
     "text": [
      "100%|██████████| 25/25 [00:00<00:00, 148.60it/s]\n",
      "100%|██████████| 100/100 [00:04<00:00, 21.13it/s]\n"
     ]
    },
    {
     "name": "stdout",
     "output_type": "stream",
     "text": [
      "Ergebnis für Bild ADE_train_00006616.jpg gespeichert: results/sd/ADE_train_00006616.jpg\n"
     ]
    },
    {
     "name": "stderr",
     "output_type": "stream",
     "text": [
      "100%|██████████| 25/25 [00:00<00:00, 148.80it/s]\n",
      "100%|██████████| 100/100 [00:04<00:00, 21.21it/s]\n"
     ]
    },
    {
     "name": "stdout",
     "output_type": "stream",
     "text": [
      "Ergebnis für Bild ADE_train_00001670.jpg gespeichert: results/sd/ADE_train_00001670.jpg\n"
     ]
    },
    {
     "name": "stderr",
     "output_type": "stream",
     "text": [
      "100%|██████████| 25/25 [00:00<00:00, 148.84it/s]\n",
      "100%|██████████| 100/100 [00:04<00:00, 21.19it/s]\n"
     ]
    },
    {
     "name": "stdout",
     "output_type": "stream",
     "text": [
      "Ergebnis für Bild ADE_train_00002300.jpg gespeichert: results/sd/ADE_train_00002300.jpg\n"
     ]
    },
    {
     "name": "stderr",
     "output_type": "stream",
     "text": [
      "100%|██████████| 25/25 [00:00<00:00, 148.93it/s]\n",
      "100%|██████████| 100/100 [00:04<00:00, 21.19it/s]\n"
     ]
    },
    {
     "name": "stdout",
     "output_type": "stream",
     "text": [
      "Ergebnis für Bild ADE_train_00013808.jpg gespeichert: results/sd/ADE_train_00013808.jpg\n"
     ]
    },
    {
     "name": "stderr",
     "output_type": "stream",
     "text": [
      "100%|██████████| 25/25 [00:00<00:00, 148.23it/s]\n",
      "100%|██████████| 100/100 [00:04<00:00, 21.17it/s]\n"
     ]
    },
    {
     "name": "stdout",
     "output_type": "stream",
     "text": [
      "Ergebnis für Bild ADE_train_00001754.jpg gespeichert: results/sd/ADE_train_00001754.jpg\n"
     ]
    },
    {
     "name": "stderr",
     "output_type": "stream",
     "text": [
      "100%|██████████| 25/25 [00:00<00:00, 148.43it/s]\n",
      "100%|██████████| 100/100 [00:04<00:00, 21.59it/s]\n"
     ]
    },
    {
     "name": "stdout",
     "output_type": "stream",
     "text": [
      "Ergebnis für Bild ADE_train_00012218.jpg gespeichert: results/sd/ADE_train_00012218.jpg\n"
     ]
    },
    {
     "name": "stderr",
     "output_type": "stream",
     "text": [
      "100%|██████████| 25/25 [00:00<00:00, 147.98it/s]\n",
      "100%|██████████| 100/100 [00:04<00:00, 21.56it/s]\n"
     ]
    },
    {
     "name": "stdout",
     "output_type": "stream",
     "text": [
      "Ergebnis für Bild ADE_train_00006405.jpg gespeichert: results/sd/ADE_train_00006405.jpg\n"
     ]
    },
    {
     "name": "stderr",
     "output_type": "stream",
     "text": [
      "100%|██████████| 25/25 [00:00<00:00, 148.36it/s]\n",
      "100%|██████████| 100/100 [00:04<00:00, 21.28it/s]\n"
     ]
    },
    {
     "name": "stdout",
     "output_type": "stream",
     "text": [
      "Ergebnis für Bild ADE_train_00002463.jpg gespeichert: results/sd/ADE_train_00002463.jpg\n"
     ]
    },
    {
     "name": "stderr",
     "output_type": "stream",
     "text": [
      "100%|██████████| 25/25 [00:00<00:00, 149.34it/s]\n",
      "100%|██████████| 100/100 [00:04<00:00, 21.34it/s]\n"
     ]
    },
    {
     "name": "stdout",
     "output_type": "stream",
     "text": [
      "Ergebnis für Bild ADE_train_00008807.jpg gespeichert: results/sd/ADE_train_00008807.jpg\n"
     ]
    },
    {
     "name": "stderr",
     "output_type": "stream",
     "text": [
      "100%|██████████| 25/25 [00:00<00:00, 148.78it/s]\n",
      "100%|██████████| 100/100 [00:04<00:00, 21.09it/s]\n"
     ]
    },
    {
     "name": "stdout",
     "output_type": "stream",
     "text": [
      "Ergebnis für Bild ADE_train_00011662.jpg gespeichert: results/sd/ADE_train_00011662.jpg\n"
     ]
    },
    {
     "name": "stderr",
     "output_type": "stream",
     "text": [
      "100%|██████████| 25/25 [00:00<00:00, 148.75it/s]\n",
      "100%|██████████| 100/100 [00:04<00:00, 21.15it/s]\n"
     ]
    },
    {
     "name": "stdout",
     "output_type": "stream",
     "text": [
      "Ergebnis für Bild ADE_train_00022680.jpg gespeichert: results/sd/ADE_train_00022680.jpg\n"
     ]
    },
    {
     "name": "stderr",
     "output_type": "stream",
     "text": [
      "100%|██████████| 25/25 [00:00<00:00, 148.63it/s]\n",
      "100%|██████████| 100/100 [00:04<00:00, 21.17it/s]\n"
     ]
    },
    {
     "name": "stdout",
     "output_type": "stream",
     "text": [
      "Ergebnis für Bild ADE_frame_00000071.jpg gespeichert: results/sd/ADE_frame_00000071.jpg\n"
     ]
    },
    {
     "name": "stderr",
     "output_type": "stream",
     "text": [
      "100%|██████████| 25/25 [00:00<00:00, 148.66it/s]\n",
      "100%|██████████| 100/100 [00:04<00:00, 21.07it/s]\n"
     ]
    },
    {
     "name": "stdout",
     "output_type": "stream",
     "text": [
      "Ergebnis für Bild ADE_train_00001702.jpg gespeichert: results/sd/ADE_train_00001702.jpg\n"
     ]
    },
    {
     "name": "stderr",
     "output_type": "stream",
     "text": [
      "100%|██████████| 25/25 [00:00<00:00, 148.27it/s]\n",
      "100%|██████████| 100/100 [00:04<00:00, 21.43it/s]\n"
     ]
    },
    {
     "name": "stdout",
     "output_type": "stream",
     "text": [
      "Ergebnis für Bild ADE_train_00008673.jpg gespeichert: results/sd/ADE_train_00008673.jpg\n"
     ]
    },
    {
     "name": "stderr",
     "output_type": "stream",
     "text": [
      "100%|██████████| 25/25 [00:00<00:00, 149.00it/s]\n",
      "100%|██████████| 100/100 [00:04<00:00, 21.19it/s]\n"
     ]
    },
    {
     "name": "stdout",
     "output_type": "stream",
     "text": [
      "Ergebnis für Bild ADE_train_00002146.jpg gespeichert: results/sd/ADE_train_00002146.jpg\n"
     ]
    },
    {
     "name": "stderr",
     "output_type": "stream",
     "text": [
      "100%|██████████| 25/25 [00:00<00:00, 148.87it/s]\n",
      "100%|██████████| 100/100 [00:04<00:00, 21.47it/s]\n"
     ]
    },
    {
     "name": "stdout",
     "output_type": "stream",
     "text": [
      "Ergebnis für Bild ADE_train_00002000.jpg gespeichert: results/sd/ADE_train_00002000.jpg\n"
     ]
    },
    {
     "name": "stderr",
     "output_type": "stream",
     "text": [
      "100%|██████████| 25/25 [00:00<00:00, 148.59it/s]\n",
      "100%|██████████| 100/100 [00:04<00:00, 21.18it/s]\n"
     ]
    },
    {
     "name": "stdout",
     "output_type": "stream",
     "text": [
      "Ergebnis für Bild ADE_train_00024787.jpg gespeichert: results/sd/ADE_train_00024787.jpg\n"
     ]
    },
    {
     "name": "stderr",
     "output_type": "stream",
     "text": [
      "100%|██████████| 25/25 [00:00<00:00, 149.88it/s]\n",
      "100%|██████████| 100/100 [00:04<00:00, 21.44it/s]\n"
     ]
    },
    {
     "name": "stdout",
     "output_type": "stream",
     "text": [
      "Ergebnis für Bild ADE_train_00001558.jpg gespeichert: results/sd/ADE_train_00001558.jpg\n"
     ]
    },
    {
     "name": "stderr",
     "output_type": "stream",
     "text": [
      "100%|██████████| 25/25 [00:00<00:00, 149.17it/s]\n",
      "100%|██████████| 100/100 [00:04<00:00, 21.30it/s]\n"
     ]
    },
    {
     "name": "stdout",
     "output_type": "stream",
     "text": [
      "Ergebnis für Bild ADE_train_00023133.jpg gespeichert: results/sd/ADE_train_00023133.jpg\n"
     ]
    },
    {
     "name": "stderr",
     "output_type": "stream",
     "text": [
      "100%|██████████| 25/25 [00:00<00:00, 149.68it/s]\n",
      "100%|██████████| 100/100 [00:04<00:00, 21.26it/s]\n"
     ]
    },
    {
     "name": "stdout",
     "output_type": "stream",
     "text": [
      "Ergebnis für Bild ADE_train_00001709.jpg gespeichert: results/sd/ADE_train_00001709.jpg\n"
     ]
    },
    {
     "name": "stderr",
     "output_type": "stream",
     "text": [
      "100%|██████████| 25/25 [00:00<00:00, 149.46it/s]\n",
      "100%|██████████| 100/100 [00:04<00:00, 21.46it/s]\n"
     ]
    },
    {
     "name": "stdout",
     "output_type": "stream",
     "text": [
      "Ergebnis für Bild ADE_train_00005349.jpg gespeichert: results/sd/ADE_train_00005349.jpg\n"
     ]
    },
    {
     "name": "stderr",
     "output_type": "stream",
     "text": [
      "100%|██████████| 25/25 [00:00<00:00, 149.30it/s]\n",
      "100%|██████████| 100/100 [00:04<00:00, 21.39it/s]\n"
     ]
    },
    {
     "name": "stdout",
     "output_type": "stream",
     "text": [
      "Ergebnis für Bild ADE_train_00000665.jpg gespeichert: results/sd/ADE_train_00000665.jpg\n"
     ]
    },
    {
     "name": "stderr",
     "output_type": "stream",
     "text": [
      "100%|██████████| 25/25 [00:00<00:00, 148.62it/s]\n",
      "100%|██████████| 100/100 [00:04<00:00, 21.34it/s]\n"
     ]
    },
    {
     "name": "stdout",
     "output_type": "stream",
     "text": [
      "Ergebnis für Bild ADE_train_00000654.jpg gespeichert: results/sd/ADE_train_00000654.jpg\n"
     ]
    },
    {
     "name": "stderr",
     "output_type": "stream",
     "text": [
      "100%|██████████| 25/25 [00:00<00:00, 149.27it/s]\n",
      "100%|██████████| 100/100 [00:04<00:00, 21.20it/s]\n"
     ]
    },
    {
     "name": "stdout",
     "output_type": "stream",
     "text": [
      "Ergebnis für Bild ADE_train_00001571.jpg gespeichert: results/sd/ADE_train_00001571.jpg\n"
     ]
    },
    {
     "name": "stderr",
     "output_type": "stream",
     "text": [
      "100%|██████████| 25/25 [00:00<00:00, 149.27it/s]\n",
      "100%|██████████| 100/100 [00:04<00:00, 21.16it/s]\n"
     ]
    },
    {
     "name": "stdout",
     "output_type": "stream",
     "text": [
      "Ergebnis für Bild ADE_train_00011667.jpg gespeichert: results/sd/ADE_train_00011667.jpg\n"
     ]
    },
    {
     "name": "stderr",
     "output_type": "stream",
     "text": [
      "100%|██████████| 25/25 [00:00<00:00, 149.12it/s]\n",
      "100%|██████████| 100/100 [00:04<00:00, 21.15it/s]\n"
     ]
    },
    {
     "name": "stdout",
     "output_type": "stream",
     "text": [
      "Ergebnis für Bild ADE_frame_00000094.jpg gespeichert: results/sd/ADE_frame_00000094.jpg\n"
     ]
    },
    {
     "name": "stderr",
     "output_type": "stream",
     "text": [
      "100%|██████████| 25/25 [00:00<00:00, 148.57it/s]\n",
      "100%|██████████| 100/100 [00:04<00:00, 21.27it/s]\n"
     ]
    },
    {
     "name": "stdout",
     "output_type": "stream",
     "text": [
      "Ergebnis für Bild ADE_train_00003087.jpg gespeichert: results/sd/ADE_train_00003087.jpg\n"
     ]
    },
    {
     "name": "stderr",
     "output_type": "stream",
     "text": [
      "100%|██████████| 25/25 [00:00<00:00, 148.75it/s]\n",
      "100%|██████████| 100/100 [00:04<00:00, 21.58it/s]\n"
     ]
    },
    {
     "name": "stdout",
     "output_type": "stream",
     "text": [
      "Ergebnis für Bild ADE_train_00012234.jpg gespeichert: results/sd/ADE_train_00012234.jpg\n"
     ]
    },
    {
     "name": "stderr",
     "output_type": "stream",
     "text": [
      "100%|██████████| 25/25 [00:00<00:00, 148.22it/s]\n",
      "100%|██████████| 100/100 [00:04<00:00, 21.19it/s]\n"
     ]
    },
    {
     "name": "stdout",
     "output_type": "stream",
     "text": [
      "Ergebnis für Bild ADE_train_00013813.jpg gespeichert: results/sd/ADE_train_00013813.jpg\n"
     ]
    },
    {
     "name": "stderr",
     "output_type": "stream",
     "text": [
      "100%|██████████| 25/25 [00:00<00:00, 148.21it/s]\n",
      "100%|██████████| 100/100 [00:04<00:00, 21.22it/s]\n"
     ]
    },
    {
     "name": "stdout",
     "output_type": "stream",
     "text": [
      "Ergebnis für Bild ADE_train_00001800.jpg gespeichert: results/sd/ADE_train_00001800.jpg\n"
     ]
    },
    {
     "name": "stderr",
     "output_type": "stream",
     "text": [
      "100%|██████████| 25/25 [00:00<00:00, 149.21it/s]\n",
      "100%|██████████| 100/100 [00:04<00:00, 21.17it/s]\n"
     ]
    },
    {
     "name": "stdout",
     "output_type": "stream",
     "text": [
      "Ergebnis für Bild ADE_train_00001691.jpg gespeichert: results/sd/ADE_train_00001691.jpg\n"
     ]
    },
    {
     "name": "stderr",
     "output_type": "stream",
     "text": [
      "100%|██████████| 25/25 [00:00<00:00, 148.91it/s]\n",
      "100%|██████████| 100/100 [00:04<00:00, 21.49it/s]\n"
     ]
    },
    {
     "name": "stdout",
     "output_type": "stream",
     "text": [
      "Ergebnis für Bild ADE_train_00001744.jpg gespeichert: results/sd/ADE_train_00001744.jpg\n"
     ]
    },
    {
     "name": "stderr",
     "output_type": "stream",
     "text": [
      "100%|██████████| 25/25 [00:00<00:00, 148.95it/s]\n",
      "100%|██████████| 100/100 [00:04<00:00, 20.99it/s]\n"
     ]
    },
    {
     "name": "stdout",
     "output_type": "stream",
     "text": [
      "Ergebnis für Bild ADE_train_00015702.jpg gespeichert: results/sd/ADE_train_00015702.jpg\n"
     ]
    },
    {
     "name": "stderr",
     "output_type": "stream",
     "text": [
      "100%|██████████| 25/25 [00:00<00:00, 149.08it/s]\n",
      "100%|██████████| 100/100 [00:04<00:00, 21.26it/s]\n"
     ]
    },
    {
     "name": "stdout",
     "output_type": "stream",
     "text": [
      "Ergebnis für Bild ADE_train_00005392.jpg gespeichert: results/sd/ADE_train_00005392.jpg\n"
     ]
    },
    {
     "name": "stderr",
     "output_type": "stream",
     "text": [
      "100%|██████████| 25/25 [00:00<00:00, 148.76it/s]\n",
      "100%|██████████| 100/100 [00:04<00:00, 21.22it/s]\n"
     ]
    },
    {
     "name": "stdout",
     "output_type": "stream",
     "text": [
      "Ergebnis für Bild ADE_train_00001779.jpg gespeichert: results/sd/ADE_train_00001779.jpg\n"
     ]
    },
    {
     "name": "stderr",
     "output_type": "stream",
     "text": [
      "100%|██████████| 25/25 [00:00<00:00, 149.59it/s]\n",
      "100%|██████████| 100/100 [00:04<00:00, 21.53it/s]\n"
     ]
    },
    {
     "name": "stdout",
     "output_type": "stream",
     "text": [
      "Ergebnis für Bild ADE_train_00001743.jpg gespeichert: results/sd/ADE_train_00001743.jpg\n"
     ]
    },
    {
     "name": "stderr",
     "output_type": "stream",
     "text": [
      "100%|██████████| 25/25 [00:00<00:00, 149.34it/s]\n",
      "100%|██████████| 100/100 [00:04<00:00, 21.21it/s]\n"
     ]
    },
    {
     "name": "stdout",
     "output_type": "stream",
     "text": [
      "Ergebnis für Bild ADE_train_00001718.jpg gespeichert: results/sd/ADE_train_00001718.jpg\n"
     ]
    },
    {
     "name": "stderr",
     "output_type": "stream",
     "text": [
      "100%|██████████| 25/25 [00:00<00:00, 148.92it/s]\n",
      "100%|██████████| 100/100 [00:04<00:00, 21.39it/s]\n"
     ]
    },
    {
     "name": "stdout",
     "output_type": "stream",
     "text": [
      "Ergebnis für Bild ADE_train_00000662.jpg gespeichert: results/sd/ADE_train_00000662.jpg\n"
     ]
    },
    {
     "name": "stderr",
     "output_type": "stream",
     "text": [
      "100%|██████████| 25/25 [00:00<00:00, 149.39it/s]\n",
      "100%|██████████| 100/100 [00:04<00:00, 21.25it/s]\n"
     ]
    },
    {
     "name": "stdout",
     "output_type": "stream",
     "text": [
      "Ergebnis für Bild ADE_train_00001559.jpg gespeichert: results/sd/ADE_train_00001559.jpg\n"
     ]
    },
    {
     "name": "stderr",
     "output_type": "stream",
     "text": [
      "100%|██████████| 25/25 [00:00<00:00, 148.17it/s]\n",
      "100%|██████████| 100/100 [00:04<00:00, 21.41it/s]\n"
     ]
    },
    {
     "name": "stdout",
     "output_type": "stream",
     "text": [
      "Ergebnis für Bild ADE_frame_00000255.jpg gespeichert: results/sd/ADE_frame_00000255.jpg\n"
     ]
    },
    {
     "name": "stderr",
     "output_type": "stream",
     "text": [
      "100%|██████████| 25/25 [00:00<00:00, 148.24it/s]\n",
      "100%|██████████| 100/100 [00:04<00:00, 21.17it/s]\n"
     ]
    },
    {
     "name": "stdout",
     "output_type": "stream",
     "text": [
      "Ergebnis für Bild ADE_train_00001659.jpg gespeichert: results/sd/ADE_train_00001659.jpg\n"
     ]
    },
    {
     "name": "stderr",
     "output_type": "stream",
     "text": [
      "100%|██████████| 25/25 [00:00<00:00, 148.63it/s]\n",
      "100%|██████████| 100/100 [00:04<00:00, 21.37it/s]\n"
     ]
    },
    {
     "name": "stdout",
     "output_type": "stream",
     "text": [
      "Ergebnis für Bild ADE_train_00009995.jpg gespeichert: results/sd/ADE_train_00009995.jpg\n"
     ]
    },
    {
     "name": "stderr",
     "output_type": "stream",
     "text": [
      "100%|██████████| 25/25 [00:00<00:00, 148.47it/s]\n",
      "100%|██████████| 100/100 [00:04<00:00, 20.94it/s]\n"
     ]
    },
    {
     "name": "stdout",
     "output_type": "stream",
     "text": [
      "Ergebnis für Bild ADE_train_00001736.jpg gespeichert: results/sd/ADE_train_00001736.jpg\n"
     ]
    },
    {
     "name": "stderr",
     "output_type": "stream",
     "text": [
      "100%|██████████| 25/25 [00:00<00:00, 147.99it/s]\n",
      "100%|██████████| 100/100 [00:04<00:00, 21.14it/s]\n"
     ]
    },
    {
     "name": "stdout",
     "output_type": "stream",
     "text": [
      "Ergebnis für Bild ADE_train_00003085.jpg gespeichert: results/sd/ADE_train_00003085.jpg\n"
     ]
    },
    {
     "name": "stderr",
     "output_type": "stream",
     "text": [
      "100%|██████████| 25/25 [00:00<00:00, 138.07it/s]\n",
      "100%|██████████| 100/100 [00:04<00:00, 20.34it/s]\n"
     ]
    },
    {
     "name": "stdout",
     "output_type": "stream",
     "text": [
      "Ergebnis für Bild ADE_train_00022527.jpg gespeichert: results/sd/ADE_train_00022527.jpg\n"
     ]
    },
    {
     "name": "stderr",
     "output_type": "stream",
     "text": [
      "100%|██████████| 25/25 [00:00<00:00, 144.77it/s]\n",
      "100%|██████████| 100/100 [00:04<00:00, 20.70it/s]\n"
     ]
    },
    {
     "name": "stdout",
     "output_type": "stream",
     "text": [
      "Ergebnis für Bild ADE_frame_00000153.jpg gespeichert: results/sd/ADE_frame_00000153.jpg\n"
     ]
    },
    {
     "name": "stderr",
     "output_type": "stream",
     "text": [
      "100%|██████████| 25/25 [00:00<00:00, 149.58it/s]\n",
      "100%|██████████| 100/100 [00:04<00:00, 20.77it/s]\n"
     ]
    },
    {
     "name": "stdout",
     "output_type": "stream",
     "text": [
      "Ergebnis für Bild ADE_train_00001560.jpg gespeichert: results/sd/ADE_train_00001560.jpg\n"
     ]
    },
    {
     "name": "stderr",
     "output_type": "stream",
     "text": [
      "100%|██████████| 25/25 [00:00<00:00, 147.72it/s]\n",
      "100%|██████████| 100/100 [00:04<00:00, 20.43it/s]\n"
     ]
    },
    {
     "name": "stdout",
     "output_type": "stream",
     "text": [
      "Ergebnis für Bild ADE_train_00019282.jpg gespeichert: results/sd/ADE_train_00019282.jpg\n"
     ]
    },
    {
     "name": "stderr",
     "output_type": "stream",
     "text": [
      "100%|██████████| 25/25 [00:00<00:00, 142.91it/s]\n",
      "100%|██████████| 100/100 [00:04<00:00, 20.34it/s]\n"
     ]
    },
    {
     "name": "stdout",
     "output_type": "stream",
     "text": [
      "Ergebnis für Bild ADE_train_00009977.jpg gespeichert: results/sd/ADE_train_00009977.jpg\n"
     ]
    },
    {
     "name": "stderr",
     "output_type": "stream",
     "text": [
      "100%|██████████| 25/25 [00:00<00:00, 148.33it/s]\n",
      "100%|██████████| 100/100 [00:04<00:00, 20.97it/s]\n"
     ]
    },
    {
     "name": "stdout",
     "output_type": "stream",
     "text": [
      "Ergebnis für Bild ADE_train_00022759.jpg gespeichert: results/sd/ADE_train_00022759.jpg\n"
     ]
    },
    {
     "name": "stderr",
     "output_type": "stream",
     "text": [
      "100%|██████████| 25/25 [00:00<00:00, 135.35it/s]\n",
      "100%|██████████| 100/100 [00:05<00:00, 19.76it/s]\n"
     ]
    },
    {
     "name": "stdout",
     "output_type": "stream",
     "text": [
      "Ergebnis für Bild ADE_train_00000669.jpg gespeichert: results/sd/ADE_train_00000669.jpg\n"
     ]
    },
    {
     "name": "stderr",
     "output_type": "stream",
     "text": [
      "100%|██████████| 25/25 [00:00<00:00, 137.58it/s]\n",
      "100%|██████████| 100/100 [00:05<00:00, 19.64it/s]\n"
     ]
    },
    {
     "name": "stdout",
     "output_type": "stream",
     "text": [
      "Ergebnis für Bild ADE_train_00020469.jpg gespeichert: results/sd/ADE_train_00020469.jpg\n"
     ]
    },
    {
     "name": "stderr",
     "output_type": "stream",
     "text": [
      "100%|██████████| 25/25 [00:00<00:00, 133.78it/s]\n",
      "100%|██████████| 100/100 [00:05<00:00, 19.41it/s]\n"
     ]
    },
    {
     "name": "stdout",
     "output_type": "stream",
     "text": [
      "Ergebnis für Bild ADE_train_00002299.jpg gespeichert: results/sd/ADE_train_00002299.jpg\n"
     ]
    },
    {
     "name": "stderr",
     "output_type": "stream",
     "text": [
      "100%|██████████| 25/25 [00:00<00:00, 147.33it/s]\n",
      "100%|██████████| 100/100 [00:04<00:00, 21.06it/s]\n"
     ]
    },
    {
     "name": "stdout",
     "output_type": "stream",
     "text": [
      "Ergebnis für Bild ADE_train_00001732.jpg gespeichert: results/sd/ADE_train_00001732.jpg\n"
     ]
    },
    {
     "name": "stderr",
     "output_type": "stream",
     "text": [
      "100%|██████████| 25/25 [00:00<00:00, 140.00it/s]\n",
      "100%|██████████| 100/100 [00:04<00:00, 20.38it/s]\n"
     ]
    },
    {
     "name": "stdout",
     "output_type": "stream",
     "text": [
      "Ergebnis für Bild ADE_train_00000003.jpg gespeichert: results/sd/ADE_train_00000003.jpg\n"
     ]
    },
    {
     "name": "stderr",
     "output_type": "stream",
     "text": [
      "100%|██████████| 25/25 [00:00<00:00, 132.98it/s]\n",
      "100%|██████████| 100/100 [00:05<00:00, 19.48it/s]\n"
     ]
    },
    {
     "name": "stdout",
     "output_type": "stream",
     "text": [
      "Ergebnis für Bild ADE_train_00022636.jpg gespeichert: results/sd/ADE_train_00022636.jpg\n"
     ]
    },
    {
     "name": "stderr",
     "output_type": "stream",
     "text": [
      "100%|██████████| 25/25 [00:00<00:00, 137.04it/s]\n",
      "100%|██████████| 100/100 [00:05<00:00, 19.69it/s]\n"
     ]
    },
    {
     "name": "stdout",
     "output_type": "stream",
     "text": [
      "Ergebnis für Bild ADE_train_00005393.jpg gespeichert: results/sd/ADE_train_00005393.jpg\n"
     ]
    },
    {
     "name": "stderr",
     "output_type": "stream",
     "text": [
      "100%|██████████| 25/25 [00:00<00:00, 145.55it/s]\n",
      "100%|██████████| 100/100 [00:04<00:00, 21.09it/s]\n"
     ]
    },
    {
     "name": "stdout",
     "output_type": "stream",
     "text": [
      "Ergebnis für Bild ADE_train_00022632.jpg gespeichert: results/sd/ADE_train_00022632.jpg\n"
     ]
    },
    {
     "name": "stderr",
     "output_type": "stream",
     "text": [
      "100%|██████████| 25/25 [00:00<00:00, 149.22it/s]\n",
      "100%|██████████| 100/100 [00:04<00:00, 21.01it/s]\n"
     ]
    },
    {
     "name": "stdout",
     "output_type": "stream",
     "text": [
      "Ergebnis für Bild ADE_train_00000671.jpg gespeichert: results/sd/ADE_train_00000671.jpg\n"
     ]
    },
    {
     "name": "stderr",
     "output_type": "stream",
     "text": [
      "100%|██████████| 25/25 [00:00<00:00, 147.88it/s]\n",
      "100%|██████████| 100/100 [00:04<00:00, 21.62it/s]\n"
     ]
    },
    {
     "name": "stdout",
     "output_type": "stream",
     "text": [
      "Ergebnis für Bild ADE_train_00001661.jpg gespeichert: results/sd/ADE_train_00001661.jpg\n"
     ]
    },
    {
     "name": "stderr",
     "output_type": "stream",
     "text": [
      "100%|██████████| 25/25 [00:00<00:00, 146.76it/s]\n",
      "100%|██████████| 100/100 [00:04<00:00, 21.37it/s]\n"
     ]
    },
    {
     "name": "stdout",
     "output_type": "stream",
     "text": [
      "Ergebnis für Bild ADE_train_00019005.jpg gespeichert: results/sd/ADE_train_00019005.jpg\n"
     ]
    },
    {
     "name": "stderr",
     "output_type": "stream",
     "text": [
      "100%|██████████| 25/25 [00:00<00:00, 148.77it/s]\n",
      "100%|██████████| 100/100 [00:04<00:00, 21.60it/s]\n"
     ]
    },
    {
     "name": "stdout",
     "output_type": "stream",
     "text": [
      "Ergebnis für Bild ADE_train_00008811.jpg gespeichert: results/sd/ADE_train_00008811.jpg\n"
     ]
    },
    {
     "name": "stderr",
     "output_type": "stream",
     "text": [
      "100%|██████████| 25/25 [00:00<00:00, 148.21it/s]\n",
      "100%|██████████| 100/100 [00:04<00:00, 21.06it/s]\n"
     ]
    },
    {
     "name": "stdout",
     "output_type": "stream",
     "text": [
      "Ergebnis für Bild ADE_train_00000652.jpg gespeichert: results/sd/ADE_train_00000652.jpg\n"
     ]
    },
    {
     "name": "stderr",
     "output_type": "stream",
     "text": [
      "100%|██████████| 25/25 [00:00<00:00, 148.75it/s]\n",
      "100%|██████████| 100/100 [00:04<00:00, 21.65it/s]\n"
     ]
    },
    {
     "name": "stdout",
     "output_type": "stream",
     "text": [
      "Ergebnis für Bild ADE_train_00001792.jpg gespeichert: results/sd/ADE_train_00001792.jpg\n"
     ]
    },
    {
     "name": "stderr",
     "output_type": "stream",
     "text": [
      "100%|██████████| 25/25 [00:00<00:00, 149.15it/s]\n",
      "100%|██████████| 100/100 [00:04<00:00, 21.13it/s]\n"
     ]
    },
    {
     "name": "stdout",
     "output_type": "stream",
     "text": [
      "Ergebnis für Bild ADE_train_00022689.jpg gespeichert: results/sd/ADE_train_00022689.jpg\n"
     ]
    },
    {
     "name": "stderr",
     "output_type": "stream",
     "text": [
      "100%|██████████| 25/25 [00:00<00:00, 148.62it/s]\n",
      "100%|██████████| 100/100 [00:04<00:00, 21.21it/s]\n"
     ]
    },
    {
     "name": "stdout",
     "output_type": "stream",
     "text": [
      "Ergebnis für Bild ADE_train_00022760.jpg gespeichert: results/sd/ADE_train_00022760.jpg\n"
     ]
    },
    {
     "name": "stderr",
     "output_type": "stream",
     "text": [
      "100%|██████████| 25/25 [00:00<00:00, 148.64it/s]\n",
      "100%|██████████| 100/100 [00:04<00:00, 21.03it/s]\n"
     ]
    },
    {
     "name": "stdout",
     "output_type": "stream",
     "text": [
      "Ergebnis für Bild ADE_train_00001768.jpg gespeichert: results/sd/ADE_train_00001768.jpg\n"
     ]
    },
    {
     "name": "stderr",
     "output_type": "stream",
     "text": [
      "100%|██████████| 25/25 [00:00<00:00, 149.56it/s]\n",
      "100%|██████████| 100/100 [00:04<00:00, 20.96it/s]\n"
     ]
    },
    {
     "name": "stdout",
     "output_type": "stream",
     "text": [
      "Ergebnis für Bild ADE_train_00001719.jpg gespeichert: results/sd/ADE_train_00001719.jpg\n"
     ]
    },
    {
     "name": "stderr",
     "output_type": "stream",
     "text": [
      "100%|██████████| 25/25 [00:00<00:00, 148.72it/s]\n",
      "100%|██████████| 100/100 [00:04<00:00, 20.75it/s]\n"
     ]
    },
    {
     "name": "stdout",
     "output_type": "stream",
     "text": [
      "Ergebnis für Bild ADE_train_00001647.jpg gespeichert: results/sd/ADE_train_00001647.jpg\n"
     ]
    },
    {
     "name": "stderr",
     "output_type": "stream",
     "text": [
      "100%|██████████| 25/25 [00:00<00:00, 148.64it/s]\n",
      "100%|██████████| 100/100 [00:04<00:00, 21.61it/s]\n"
     ]
    },
    {
     "name": "stdout",
     "output_type": "stream",
     "text": [
      "Ergebnis für Bild ADE_train_00008814.jpg gespeichert: results/sd/ADE_train_00008814.jpg\n"
     ]
    },
    {
     "name": "stderr",
     "output_type": "stream",
     "text": [
      "100%|██████████| 25/25 [00:00<00:00, 148.97it/s]\n",
      "100%|██████████| 100/100 [00:04<00:00, 21.63it/s]\n"
     ]
    },
    {
     "name": "stdout",
     "output_type": "stream",
     "text": [
      "Ergebnis für Bild ADE_train_00001770.jpg gespeichert: results/sd/ADE_train_00001770.jpg\n"
     ]
    },
    {
     "name": "stderr",
     "output_type": "stream",
     "text": [
      "100%|██████████| 25/25 [00:00<00:00, 148.80it/s]\n",
      "100%|██████████| 100/100 [00:04<00:00, 21.63it/s]\n"
     ]
    },
    {
     "name": "stdout",
     "output_type": "stream",
     "text": [
      "Ergebnis für Bild ADE_train_00001777.jpg gespeichert: results/sd/ADE_train_00001777.jpg\n"
     ]
    },
    {
     "name": "stderr",
     "output_type": "stream",
     "text": [
      "100%|██████████| 25/25 [00:00<00:00, 148.64it/s]\n",
      "100%|██████████| 100/100 [00:04<00:00, 21.29it/s]\n"
     ]
    },
    {
     "name": "stdout",
     "output_type": "stream",
     "text": [
      "Ergebnis für Bild ADE_train_00008809.jpg gespeichert: results/sd/ADE_train_00008809.jpg\n"
     ]
    },
    {
     "name": "stderr",
     "output_type": "stream",
     "text": [
      "100%|██████████| 25/25 [00:00<00:00, 148.25it/s]\n",
      "100%|██████████| 100/100 [00:04<00:00, 21.38it/s]\n"
     ]
    },
    {
     "name": "stdout",
     "output_type": "stream",
     "text": [
      "Ergebnis für Bild ADE_train_00004252.jpg gespeichert: results/sd/ADE_train_00004252.jpg\n"
     ]
    },
    {
     "name": "stderr",
     "output_type": "stream",
     "text": [
      "100%|██████████| 25/25 [00:00<00:00, 138.90it/s]\n",
      "100%|██████████| 100/100 [00:04<00:00, 20.07it/s]\n"
     ]
    },
    {
     "name": "stdout",
     "output_type": "stream",
     "text": [
      "Ergebnis für Bild ADE_train_00020233.jpg gespeichert: results/sd/ADE_train_00020233.jpg\n"
     ]
    },
    {
     "name": "stderr",
     "output_type": "stream",
     "text": [
      "100%|██████████| 25/25 [00:00<00:00, 138.26it/s]\n",
      "100%|██████████| 100/100 [00:04<00:00, 20.95it/s]\n"
     ]
    },
    {
     "name": "stdout",
     "output_type": "stream",
     "text": [
      "Ergebnis für Bild ADE_frame_00000021.jpg gespeichert: results/sd/ADE_frame_00000021.jpg\n"
     ]
    },
    {
     "name": "stderr",
     "output_type": "stream",
     "text": [
      "100%|██████████| 25/25 [00:00<00:00, 148.19it/s]\n",
      "100%|██████████| 100/100 [00:04<00:00, 20.72it/s]\n"
     ]
    },
    {
     "name": "stdout",
     "output_type": "stream",
     "text": [
      "Ergebnis für Bild ADE_train_00008813.jpg gespeichert: results/sd/ADE_train_00008813.jpg\n"
     ]
    },
    {
     "name": "stderr",
     "output_type": "stream",
     "text": [
      "100%|██████████| 25/25 [00:00<00:00, 148.88it/s]\n",
      "100%|██████████| 100/100 [00:04<00:00, 20.94it/s]\n"
     ]
    },
    {
     "name": "stdout",
     "output_type": "stream",
     "text": [
      "Ergebnis für Bild ADE_train_00008800.jpg gespeichert: results/sd/ADE_train_00008800.jpg\n"
     ]
    },
    {
     "name": "stderr",
     "output_type": "stream",
     "text": [
      "100%|██████████| 25/25 [00:00<00:00, 149.00it/s]\n",
      "100%|██████████| 100/100 [00:04<00:00, 21.00it/s]\n"
     ]
    },
    {
     "name": "stdout",
     "output_type": "stream",
     "text": [
      "Ergebnis für Bild ADE_train_00005346.jpg gespeichert: results/sd/ADE_train_00005346.jpg\n"
     ]
    },
    {
     "name": "stderr",
     "output_type": "stream",
     "text": [
      "100%|██████████| 25/25 [00:00<00:00, 145.56it/s]\n",
      "100%|██████████| 100/100 [00:04<00:00, 21.17it/s]\n"
     ]
    },
    {
     "name": "stdout",
     "output_type": "stream",
     "text": [
      "Ergebnis für Bild ADE_train_00003080.jpg gespeichert: results/sd/ADE_train_00003080.jpg\n"
     ]
    },
    {
     "name": "stderr",
     "output_type": "stream",
     "text": [
      "100%|██████████| 25/25 [00:00<00:00, 149.31it/s]\n",
      "100%|██████████| 100/100 [00:04<00:00, 20.82it/s]\n"
     ]
    },
    {
     "name": "stdout",
     "output_type": "stream",
     "text": [
      "Ergebnis für Bild ADE_train_00024363.jpg gespeichert: results/sd/ADE_train_00024363.jpg\n"
     ]
    },
    {
     "name": "stderr",
     "output_type": "stream",
     "text": [
      "100%|██████████| 25/25 [00:00<00:00, 144.53it/s]\n",
      "100%|██████████| 100/100 [00:04<00:00, 21.05it/s]\n"
     ]
    },
    {
     "name": "stdout",
     "output_type": "stream",
     "text": [
      "Ergebnis für Bild ADE_train_00022687.jpg gespeichert: results/sd/ADE_train_00022687.jpg\n"
     ]
    },
    {
     "name": "stderr",
     "output_type": "stream",
     "text": [
      "100%|██████████| 25/25 [00:00<00:00, 144.50it/s]\n",
      "100%|██████████| 100/100 [00:04<00:00, 21.03it/s]\n"
     ]
    },
    {
     "name": "stdout",
     "output_type": "stream",
     "text": [
      "Ergebnis für Bild ADE_train_00022985.jpg gespeichert: results/sd/ADE_train_00022985.jpg\n"
     ]
    },
    {
     "name": "stderr",
     "output_type": "stream",
     "text": [
      "100%|██████████| 25/25 [00:00<00:00, 145.32it/s]\n",
      "100%|██████████| 100/100 [00:04<00:00, 21.11it/s]\n"
     ]
    },
    {
     "name": "stdout",
     "output_type": "stream",
     "text": [
      "Ergebnis für Bild ADE_train_00001723.jpg gespeichert: results/sd/ADE_train_00001723.jpg\n"
     ]
    },
    {
     "name": "stderr",
     "output_type": "stream",
     "text": [
      "100%|██████████| 25/25 [00:00<00:00, 144.38it/s]\n",
      "100%|██████████| 100/100 [00:04<00:00, 21.02it/s]\n"
     ]
    },
    {
     "name": "stdout",
     "output_type": "stream",
     "text": [
      "Ergebnis für Bild ADE_train_00001734.jpg gespeichert: results/sd/ADE_train_00001734.jpg\n"
     ]
    },
    {
     "name": "stderr",
     "output_type": "stream",
     "text": [
      "100%|██████████| 25/25 [00:00<00:00, 144.82it/s]\n",
      "100%|██████████| 100/100 [00:04<00:00, 21.18it/s]\n"
     ]
    },
    {
     "name": "stdout",
     "output_type": "stream",
     "text": [
      "Ergebnis für Bild ADE_train_00004956.jpg gespeichert: results/sd/ADE_train_00004956.jpg\n"
     ]
    },
    {
     "name": "stderr",
     "output_type": "stream",
     "text": [
      "100%|██████████| 25/25 [00:00<00:00, 143.79it/s]\n",
      "100%|██████████| 100/100 [00:04<00:00, 20.76it/s]\n"
     ]
    },
    {
     "name": "stdout",
     "output_type": "stream",
     "text": [
      "Ergebnis für Bild ADE_train_00000584.jpg gespeichert: results/sd/ADE_train_00000584.jpg\n"
     ]
    },
    {
     "name": "stderr",
     "output_type": "stream",
     "text": [
      "100%|██████████| 25/25 [00:00<00:00, 144.08it/s]\n",
      "100%|██████████| 100/100 [00:04<00:00, 20.90it/s]\n"
     ]
    },
    {
     "name": "stdout",
     "output_type": "stream",
     "text": [
      "Ergebnis für Bild ADE_train_00002343.jpg gespeichert: results/sd/ADE_train_00002343.jpg\n"
     ]
    },
    {
     "name": "stderr",
     "output_type": "stream",
     "text": [
      "100%|██████████| 25/25 [00:00<00:00, 139.99it/s]\n",
      "100%|██████████| 100/100 [00:04<00:00, 20.46it/s]\n"
     ]
    },
    {
     "name": "stdout",
     "output_type": "stream",
     "text": [
      "Ergebnis für Bild ADE_train_00013812.jpg gespeichert: results/sd/ADE_train_00013812.jpg\n"
     ]
    },
    {
     "name": "stderr",
     "output_type": "stream",
     "text": [
      "100%|██████████| 25/25 [00:00<00:00, 145.40it/s]\n",
      "100%|██████████| 100/100 [00:04<00:00, 20.60it/s]\n"
     ]
    },
    {
     "name": "stdout",
     "output_type": "stream",
     "text": [
      "Ergebnis für Bild ADE_train_00001641.jpg gespeichert: results/sd/ADE_train_00001641.jpg\n"
     ]
    },
    {
     "name": "stderr",
     "output_type": "stream",
     "text": [
      "100%|██████████| 25/25 [00:00<00:00, 144.53it/s]\n",
      "100%|██████████| 100/100 [00:04<00:00, 21.07it/s]\n"
     ]
    },
    {
     "name": "stdout",
     "output_type": "stream",
     "text": [
      "Ergebnis für Bild ADE_train_00001672.jpg gespeichert: results/sd/ADE_train_00001672.jpg\n"
     ]
    },
    {
     "name": "stderr",
     "output_type": "stream",
     "text": [
      "100%|██████████| 25/25 [00:00<00:00, 146.38it/s]\n",
      "100%|██████████| 100/100 [00:04<00:00, 21.03it/s]\n"
     ]
    },
    {
     "name": "stdout",
     "output_type": "stream",
     "text": [
      "Ergebnis für Bild ADE_train_00002282.jpg gespeichert: results/sd/ADE_train_00002282.jpg\n"
     ]
    },
    {
     "name": "stderr",
     "output_type": "stream",
     "text": [
      "100%|██████████| 25/25 [00:00<00:00, 140.33it/s]\n",
      "100%|██████████| 100/100 [00:04<00:00, 20.86it/s]\n"
     ]
    },
    {
     "name": "stdout",
     "output_type": "stream",
     "text": [
      "Ergebnis für Bild ADE_train_00008816.jpg gespeichert: results/sd/ADE_train_00008816.jpg\n"
     ]
    },
    {
     "name": "stderr",
     "output_type": "stream",
     "text": [
      "100%|██████████| 25/25 [00:00<00:00, 133.71it/s]\n",
      "100%|██████████| 100/100 [00:04<00:00, 21.13it/s]\n"
     ]
    },
    {
     "name": "stdout",
     "output_type": "stream",
     "text": [
      "Ergebnis für Bild ADE_train_00010765.jpg gespeichert: results/sd/ADE_train_00010765.jpg\n"
     ]
    },
    {
     "name": "stderr",
     "output_type": "stream",
     "text": [
      "100%|██████████| 25/25 [00:00<00:00, 143.62it/s]\n",
      "100%|██████████| 100/100 [00:04<00:00, 20.99it/s]\n"
     ]
    },
    {
     "name": "stdout",
     "output_type": "stream",
     "text": [
      "Ergebnis für Bild ADE_train_00020470.jpg gespeichert: results/sd/ADE_train_00020470.jpg\n"
     ]
    },
    {
     "name": "stderr",
     "output_type": "stream",
     "text": [
      "100%|██████████| 25/25 [00:00<00:00, 142.85it/s]\n",
      "100%|██████████| 100/100 [00:04<00:00, 21.19it/s]\n"
     ]
    },
    {
     "name": "stdout",
     "output_type": "stream",
     "text": [
      "Ergebnis für Bild ADE_train_00023926.jpg gespeichert: results/sd/ADE_train_00023926.jpg\n"
     ]
    },
    {
     "name": "stderr",
     "output_type": "stream",
     "text": [
      "100%|██████████| 25/25 [00:00<00:00, 144.94it/s]\n",
      "100%|██████████| 100/100 [00:04<00:00, 21.01it/s]\n"
     ]
    },
    {
     "name": "stdout",
     "output_type": "stream",
     "text": [
      "Ergebnis für Bild ADE_train_00002148.jpg gespeichert: results/sd/ADE_train_00002148.jpg\n"
     ]
    },
    {
     "name": "stderr",
     "output_type": "stream",
     "text": [
      "100%|██████████| 25/25 [00:00<00:00, 144.93it/s]\n",
      "100%|██████████| 100/100 [00:04<00:00, 21.15it/s]\n"
     ]
    },
    {
     "name": "stdout",
     "output_type": "stream",
     "text": [
      "Ergebnis für Bild ADE_train_00005418.jpg gespeichert: results/sd/ADE_train_00005418.jpg\n"
     ]
    },
    {
     "name": "stderr",
     "output_type": "stream",
     "text": [
      "100%|██████████| 25/25 [00:00<00:00, 143.71it/s]\n",
      "100%|██████████| 100/100 [00:04<00:00, 20.90it/s]\n"
     ]
    },
    {
     "name": "stdout",
     "output_type": "stream",
     "text": [
      "Ergebnis für Bild ADE_train_00001682.jpg gespeichert: results/sd/ADE_train_00001682.jpg\n"
     ]
    },
    {
     "name": "stderr",
     "output_type": "stream",
     "text": [
      "100%|██████████| 25/25 [00:00<00:00, 142.65it/s]\n",
      "100%|██████████| 100/100 [00:04<00:00, 21.03it/s]\n"
     ]
    },
    {
     "name": "stdout",
     "output_type": "stream",
     "text": [
      "Ergebnis für Bild ADE_train_00001715.jpg gespeichert: results/sd/ADE_train_00001715.jpg\n"
     ]
    },
    {
     "name": "stderr",
     "output_type": "stream",
     "text": [
      "100%|██████████| 25/25 [00:00<00:00, 144.64it/s]\n",
      "100%|██████████| 100/100 [00:04<00:00, 20.96it/s]\n"
     ]
    },
    {
     "name": "stdout",
     "output_type": "stream",
     "text": [
      "Ergebnis für Bild ADE_train_00001766.jpg gespeichert: results/sd/ADE_train_00001766.jpg\n"
     ]
    },
    {
     "name": "stderr",
     "output_type": "stream",
     "text": [
      "100%|██████████| 25/25 [00:00<00:00, 143.96it/s]\n",
      "100%|██████████| 100/100 [00:04<00:00, 21.07it/s]\n"
     ]
    },
    {
     "name": "stdout",
     "output_type": "stream",
     "text": [
      "Ergebnis für Bild ADE_train_00003092.jpg gespeichert: results/sd/ADE_train_00003092.jpg\n"
     ]
    },
    {
     "name": "stderr",
     "output_type": "stream",
     "text": [
      "100%|██████████| 25/25 [00:00<00:00, 144.12it/s]\n",
      "100%|██████████| 100/100 [00:04<00:00, 21.01it/s]\n"
     ]
    },
    {
     "name": "stdout",
     "output_type": "stream",
     "text": [
      "Ergebnis für Bild ADE_train_00001849.jpg gespeichert: results/sd/ADE_train_00001849.jpg\n"
     ]
    },
    {
     "name": "stderr",
     "output_type": "stream",
     "text": [
      "100%|██████████| 25/25 [00:00<00:00, 143.86it/s]\n",
      "100%|██████████| 100/100 [00:04<00:00, 21.16it/s]\n"
     ]
    },
    {
     "name": "stdout",
     "output_type": "stream",
     "text": [
      "Ergebnis für Bild ADE_train_00001646.jpg gespeichert: results/sd/ADE_train_00001646.jpg\n"
     ]
    },
    {
     "name": "stderr",
     "output_type": "stream",
     "text": [
      "100%|██████████| 25/25 [00:00<00:00, 143.83it/s]\n",
      "100%|██████████| 100/100 [00:04<00:00, 20.79it/s]\n"
     ]
    },
    {
     "name": "stdout",
     "output_type": "stream",
     "text": [
      "Ergebnis für Bild ADE_train_00011914.jpg gespeichert: results/sd/ADE_train_00011914.jpg\n"
     ]
    },
    {
     "name": "stderr",
     "output_type": "stream",
     "text": [
      "100%|██████████| 25/25 [00:00<00:00, 143.93it/s]\n",
      "100%|██████████| 100/100 [00:04<00:00, 20.93it/s]\n"
     ]
    },
    {
     "name": "stdout",
     "output_type": "stream",
     "text": [
      "Ergebnis für Bild ADE_train_00010978.jpg gespeichert: results/sd/ADE_train_00010978.jpg\n"
     ]
    },
    {
     "name": "stderr",
     "output_type": "stream",
     "text": [
      "100%|██████████| 25/25 [00:00<00:00, 145.00it/s]\n",
      "100%|██████████| 100/100 [00:04<00:00, 20.86it/s]\n"
     ]
    },
    {
     "name": "stdout",
     "output_type": "stream",
     "text": [
      "Ergebnis für Bild ADE_train_00022713.jpg gespeichert: results/sd/ADE_train_00022713.jpg\n"
     ]
    },
    {
     "name": "stderr",
     "output_type": "stream",
     "text": [
      "100%|██████████| 25/25 [00:00<00:00, 146.49it/s]\n",
      "100%|██████████| 100/100 [00:04<00:00, 21.18it/s]\n"
     ]
    },
    {
     "name": "stdout",
     "output_type": "stream",
     "text": [
      "Ergebnis für Bild ADE_frame_00000043.jpg gespeichert: results/sd/ADE_frame_00000043.jpg\n"
     ]
    },
    {
     "name": "stderr",
     "output_type": "stream",
     "text": [
      "100%|██████████| 25/25 [00:00<00:00, 144.48it/s]\n",
      "100%|██████████| 100/100 [00:04<00:00, 20.83it/s]\n"
     ]
    },
    {
     "name": "stdout",
     "output_type": "stream",
     "text": [
      "Ergebnis für Bild ADE_train_00012253.jpg gespeichert: results/sd/ADE_train_00012253.jpg\n"
     ]
    },
    {
     "name": "stderr",
     "output_type": "stream",
     "text": [
      "100%|██████████| 25/25 [00:00<00:00, 144.70it/s]\n",
      "100%|██████████| 100/100 [00:04<00:00, 21.03it/s]\n"
     ]
    },
    {
     "name": "stdout",
     "output_type": "stream",
     "text": [
      "Ergebnis für Bild ADE_train_00001705.jpg gespeichert: results/sd/ADE_train_00001705.jpg\n"
     ]
    },
    {
     "name": "stderr",
     "output_type": "stream",
     "text": [
      "100%|██████████| 25/25 [00:00<00:00, 144.35it/s]\n",
      "100%|██████████| 100/100 [00:04<00:00, 20.97it/s]\n"
     ]
    },
    {
     "name": "stdout",
     "output_type": "stream",
     "text": [
      "Ergebnis für Bild ADE_train_00019300.jpg gespeichert: results/sd/ADE_train_00019300.jpg\n"
     ]
    },
    {
     "name": "stderr",
     "output_type": "stream",
     "text": [
      "100%|██████████| 25/25 [00:00<00:00, 144.07it/s]\n",
      "100%|██████████| 100/100 [00:04<00:00, 20.75it/s]\n"
     ]
    },
    {
     "name": "stdout",
     "output_type": "stream",
     "text": [
      "Ergebnis für Bild ADE_frame_00000045.jpg gespeichert: results/sd/ADE_frame_00000045.jpg\n"
     ]
    },
    {
     "name": "stderr",
     "output_type": "stream",
     "text": [
      "100%|██████████| 25/25 [00:00<00:00, 145.55it/s]\n",
      "100%|██████████| 100/100 [00:04<00:00, 21.12it/s]\n"
     ]
    },
    {
     "name": "stdout",
     "output_type": "stream",
     "text": [
      "Ergebnis für Bild ADE_train_00005167.jpg gespeichert: results/sd/ADE_train_00005167.jpg\n"
     ]
    },
    {
     "name": "stderr",
     "output_type": "stream",
     "text": [
      "100%|██████████| 25/25 [00:00<00:00, 144.34it/s]\n",
      "100%|██████████| 100/100 [00:04<00:00, 20.82it/s]\n"
     ]
    },
    {
     "name": "stdout",
     "output_type": "stream",
     "text": [
      "Ergebnis für Bild ADE_train_00011670.jpg gespeichert: results/sd/ADE_train_00011670.jpg\n"
     ]
    },
    {
     "name": "stderr",
     "output_type": "stream",
     "text": [
      "100%|██████████| 25/25 [00:00<00:00, 144.62it/s]\n",
      "100%|██████████| 100/100 [00:04<00:00, 21.15it/s]\n"
     ]
    },
    {
     "name": "stdout",
     "output_type": "stream",
     "text": [
      "Ergebnis für Bild ADE_train_00019293.jpg gespeichert: results/sd/ADE_train_00019293.jpg\n"
     ]
    },
    {
     "name": "stderr",
     "output_type": "stream",
     "text": [
      "100%|██████████| 25/25 [00:00<00:00, 144.98it/s]\n",
      "100%|██████████| 100/100 [00:04<00:00, 21.02it/s]\n"
     ]
    },
    {
     "name": "stdout",
     "output_type": "stream",
     "text": [
      "Ergebnis für Bild ADE_train_00002269.jpg gespeichert: results/sd/ADE_train_00002269.jpg\n"
     ]
    },
    {
     "name": "stderr",
     "output_type": "stream",
     "text": [
      "100%|██████████| 25/25 [00:00<00:00, 143.70it/s]\n",
      "100%|██████████| 100/100 [00:04<00:00, 20.74it/s]\n"
     ]
    },
    {
     "name": "stdout",
     "output_type": "stream",
     "text": [
      "Ergebnis für Bild ADE_train_00001592.jpg gespeichert: results/sd/ADE_train_00001592.jpg\n"
     ]
    },
    {
     "name": "stderr",
     "output_type": "stream",
     "text": [
      "100%|██████████| 25/25 [00:00<00:00, 144.57it/s]\n",
      "100%|██████████| 100/100 [00:04<00:00, 21.08it/s]\n"
     ]
    },
    {
     "name": "stdout",
     "output_type": "stream",
     "text": [
      "Ergebnis für Bild ADE_train_00001666.jpg gespeichert: results/sd/ADE_train_00001666.jpg\n"
     ]
    },
    {
     "name": "stderr",
     "output_type": "stream",
     "text": [
      "100%|██████████| 25/25 [00:00<00:00, 145.12it/s]\n",
      "100%|██████████| 100/100 [00:05<00:00, 19.39it/s]\n"
     ]
    },
    {
     "name": "stdout",
     "output_type": "stream",
     "text": [
      "Ergebnis für Bild ADE_train_00006612.jpg gespeichert: results/sd/ADE_train_00006612.jpg\n"
     ]
    },
    {
     "name": "stderr",
     "output_type": "stream",
     "text": [
      "100%|██████████| 25/25 [00:00<00:00, 144.67it/s]\n",
      "100%|██████████| 100/100 [00:04<00:00, 21.05it/s]\n"
     ]
    },
    {
     "name": "stdout",
     "output_type": "stream",
     "text": [
      "Ergebnis für Bild ADE_train_00004948.jpg gespeichert: results/sd/ADE_train_00004948.jpg\n"
     ]
    },
    {
     "name": "stderr",
     "output_type": "stream",
     "text": [
      "100%|██████████| 25/25 [00:00<00:00, 144.82it/s]\n",
      "100%|██████████| 100/100 [00:04<00:00, 21.20it/s]\n"
     ]
    },
    {
     "name": "stdout",
     "output_type": "stream",
     "text": [
      "Ergebnis für Bild ADE_train_00001995.jpg gespeichert: results/sd/ADE_train_00001995.jpg\n"
     ]
    },
    {
     "name": "stderr",
     "output_type": "stream",
     "text": [
      "100%|██████████| 25/25 [00:00<00:00, 144.41it/s]\n",
      "100%|██████████| 100/100 [00:04<00:00, 21.17it/s]\n"
     ]
    },
    {
     "name": "stdout",
     "output_type": "stream",
     "text": [
      "Ergebnis für Bild ADE_train_00022764.jpg gespeichert: results/sd/ADE_train_00022764.jpg\n"
     ]
    },
    {
     "name": "stderr",
     "output_type": "stream",
     "text": [
      "100%|██████████| 25/25 [00:00<00:00, 146.35it/s]\n",
      "100%|██████████| 100/100 [00:04<00:00, 20.99it/s]\n"
     ]
    },
    {
     "name": "stdout",
     "output_type": "stream",
     "text": [
      "Ergebnis für Bild ADE_train_00005329.jpg gespeichert: results/sd/ADE_train_00005329.jpg\n"
     ]
    },
    {
     "name": "stderr",
     "output_type": "stream",
     "text": [
      "100%|██████████| 25/25 [00:00<00:00, 144.54it/s]\n",
      "100%|██████████| 100/100 [00:04<00:00, 20.87it/s]\n"
     ]
    },
    {
     "name": "stdout",
     "output_type": "stream",
     "text": [
      "Ergebnis für Bild ADE_train_00022702.jpg gespeichert: results/sd/ADE_train_00022702.jpg\n"
     ]
    },
    {
     "name": "stderr",
     "output_type": "stream",
     "text": [
      "100%|██████████| 25/25 [00:00<00:00, 145.55it/s]\n",
      "100%|██████████| 100/100 [00:04<00:00, 21.09it/s]\n"
     ]
    },
    {
     "name": "stdout",
     "output_type": "stream",
     "text": [
      "Ergebnis für Bild ADE_train_00019296.jpg gespeichert: results/sd/ADE_train_00019296.jpg\n"
     ]
    },
    {
     "name": "stderr",
     "output_type": "stream",
     "text": [
      "100%|██████████| 25/25 [00:00<00:00, 145.21it/s]\n",
      "100%|██████████| 100/100 [00:04<00:00, 21.23it/s]\n"
     ]
    },
    {
     "name": "stdout",
     "output_type": "stream",
     "text": [
      "Ergebnis für Bild ADE_train_00001851.jpg gespeichert: results/sd/ADE_train_00001851.jpg\n"
     ]
    },
    {
     "name": "stderr",
     "output_type": "stream",
     "text": [
      "100%|██████████| 25/25 [00:00<00:00, 145.21it/s]\n",
      "100%|██████████| 100/100 [00:04<00:00, 20.93it/s]\n"
     ]
    },
    {
     "name": "stdout",
     "output_type": "stream",
     "text": [
      "Ergebnis für Bild ADE_train_00001696.jpg gespeichert: results/sd/ADE_train_00001696.jpg\n"
     ]
    },
    {
     "name": "stderr",
     "output_type": "stream",
     "text": [
      "100%|██████████| 25/25 [00:00<00:00, 145.38it/s]\n",
      "100%|██████████| 100/100 [00:04<00:00, 21.07it/s]\n"
     ]
    },
    {
     "name": "stdout",
     "output_type": "stream",
     "text": [
      "Ergebnis für Bild ADE_train_00020236.jpg gespeichert: results/sd/ADE_train_00020236.jpg\n"
     ]
    },
    {
     "name": "stderr",
     "output_type": "stream",
     "text": [
      "100%|██████████| 25/25 [00:00<00:00, 143.11it/s]\n",
      "100%|██████████| 100/100 [00:04<00:00, 21.12it/s]\n"
     ]
    },
    {
     "name": "stdout",
     "output_type": "stream",
     "text": [
      "Ergebnis für Bild ADE_train_00000673.jpg gespeichert: results/sd/ADE_train_00000673.jpg\n"
     ]
    },
    {
     "name": "stderr",
     "output_type": "stream",
     "text": [
      "100%|██████████| 25/25 [00:00<00:00, 143.81it/s]\n",
      "100%|██████████| 100/100 [00:04<00:00, 20.61it/s]\n"
     ]
    },
    {
     "name": "stdout",
     "output_type": "stream",
     "text": [
      "Ergebnis für Bild ADE_train_00002277.jpg gespeichert: results/sd/ADE_train_00002277.jpg\n"
     ]
    },
    {
     "name": "stderr",
     "output_type": "stream",
     "text": [
      "100%|██████████| 25/25 [00:00<00:00, 144.49it/s]\n",
      "100%|██████████| 100/100 [00:04<00:00, 20.71it/s]\n"
     ]
    },
    {
     "name": "stdout",
     "output_type": "stream",
     "text": [
      "Ergebnis für Bild ADE_train_00002350.jpg gespeichert: results/sd/ADE_train_00002350.jpg\n"
     ]
    },
    {
     "name": "stderr",
     "output_type": "stream",
     "text": [
      "100%|██████████| 25/25 [00:00<00:00, 143.59it/s]\n",
      "100%|██████████| 100/100 [00:04<00:00, 20.69it/s]\n"
     ]
    },
    {
     "name": "stdout",
     "output_type": "stream",
     "text": [
      "Ergebnis für Bild ADE_frame_00000105.jpg gespeichert: results/sd/ADE_frame_00000105.jpg\n"
     ]
    },
    {
     "name": "stderr",
     "output_type": "stream",
     "text": [
      "100%|██████████| 25/25 [00:00<00:00, 144.60it/s]\n",
      "100%|██████████| 100/100 [00:04<00:00, 20.61it/s]\n"
     ]
    },
    {
     "name": "stdout",
     "output_type": "stream",
     "text": [
      "Ergebnis für Bild ADE_train_00004253.jpg gespeichert: results/sd/ADE_train_00004253.jpg\n"
     ]
    },
    {
     "name": "stderr",
     "output_type": "stream",
     "text": [
      "100%|██████████| 25/25 [00:00<00:00, 143.92it/s]\n",
      "100%|██████████| 100/100 [00:04<00:00, 21.18it/s]\n"
     ]
    },
    {
     "name": "stdout",
     "output_type": "stream",
     "text": [
      "Ergebnis für Bild ADE_train_00022765.jpg gespeichert: results/sd/ADE_train_00022765.jpg\n"
     ]
    },
    {
     "name": "stderr",
     "output_type": "stream",
     "text": [
      "100%|██████████| 25/25 [00:00<00:00, 144.95it/s]\n",
      "100%|██████████| 100/100 [00:04<00:00, 20.87it/s]\n"
     ]
    },
    {
     "name": "stdout",
     "output_type": "stream",
     "text": [
      "Ergebnis für Bild ADE_train_00024074.jpg gespeichert: results/sd/ADE_train_00024074.jpg\n"
     ]
    },
    {
     "name": "stderr",
     "output_type": "stream",
     "text": [
      "100%|██████████| 25/25 [00:00<00:00, 144.28it/s]\n",
      "100%|██████████| 100/100 [00:04<00:00, 21.34it/s]\n"
     ]
    },
    {
     "name": "stdout",
     "output_type": "stream",
     "text": [
      "Ergebnis für Bild ADE_train_00001494.jpg gespeichert: results/sd/ADE_train_00001494.jpg\n"
     ]
    },
    {
     "name": "stderr",
     "output_type": "stream",
     "text": [
      "100%|██████████| 25/25 [00:00<00:00, 144.04it/s]\n",
      "100%|██████████| 100/100 [00:04<00:00, 20.92it/s]\n"
     ]
    },
    {
     "name": "stdout",
     "output_type": "stream",
     "text": [
      "Ergebnis für Bild ADE_frame_00000041.jpg gespeichert: results/sd/ADE_frame_00000041.jpg\n"
     ]
    },
    {
     "name": "stderr",
     "output_type": "stream",
     "text": [
      "100%|██████████| 25/25 [00:00<00:00, 145.05it/s]\n",
      "100%|██████████| 100/100 [00:04<00:00, 20.75it/s]\n"
     ]
    },
    {
     "name": "stdout",
     "output_type": "stream",
     "text": [
      "Ergebnis für Bild ADE_train_00001710.jpg gespeichert: results/sd/ADE_train_00001710.jpg\n"
     ]
    },
    {
     "name": "stderr",
     "output_type": "stream",
     "text": [
      "100%|██████████| 25/25 [00:00<00:00, 144.65it/s]\n",
      "100%|██████████| 100/100 [00:04<00:00, 21.04it/s]\n"
     ]
    },
    {
     "name": "stdout",
     "output_type": "stream",
     "text": [
      "Ergebnis für Bild ADE_frame_00000025.jpg gespeichert: results/sd/ADE_frame_00000025.jpg\n"
     ]
    },
    {
     "name": "stderr",
     "output_type": "stream",
     "text": [
      "100%|██████████| 25/25 [00:00<00:00, 147.41it/s]\n",
      "100%|██████████| 100/100 [00:04<00:00, 20.98it/s]\n"
     ]
    },
    {
     "name": "stdout",
     "output_type": "stream",
     "text": [
      "Ergebnis für Bild ADE_train_00019292.jpg gespeichert: results/sd/ADE_train_00019292.jpg\n"
     ]
    },
    {
     "name": "stderr",
     "output_type": "stream",
     "text": [
      "100%|██████████| 25/25 [00:00<00:00, 145.07it/s]\n",
      "100%|██████████| 100/100 [00:04<00:00, 20.97it/s]\n"
     ]
    },
    {
     "name": "stdout",
     "output_type": "stream",
     "text": [
      "Ergebnis für Bild ADE_train_00002268.jpg gespeichert: results/sd/ADE_train_00002268.jpg\n"
     ]
    },
    {
     "name": "stderr",
     "output_type": "stream",
     "text": [
      "100%|██████████| 25/25 [00:00<00:00, 145.49it/s]\n",
      "100%|██████████| 100/100 [00:04<00:00, 20.85it/s]\n"
     ]
    },
    {
     "name": "stdout",
     "output_type": "stream",
     "text": [
      "Ergebnis für Bild ADE_train_00019285.jpg gespeichert: results/sd/ADE_train_00019285.jpg\n"
     ]
    },
    {
     "name": "stderr",
     "output_type": "stream",
     "text": [
      "100%|██████████| 25/25 [00:00<00:00, 144.96it/s]\n",
      "100%|██████████| 100/100 [00:04<00:00, 21.27it/s]\n"
     ]
    },
    {
     "name": "stdout",
     "output_type": "stream",
     "text": [
      "Ergebnis für Bild ADE_train_00005338.jpg gespeichert: results/sd/ADE_train_00005338.jpg\n"
     ]
    },
    {
     "name": "stderr",
     "output_type": "stream",
     "text": [
      "100%|██████████| 25/25 [00:00<00:00, 145.69it/s]\n",
      "100%|██████████| 100/100 [00:04<00:00, 20.82it/s]\n"
     ]
    },
    {
     "name": "stdout",
     "output_type": "stream",
     "text": [
      "Ergebnis für Bild ADE_train_00020474.jpg gespeichert: results/sd/ADE_train_00020474.jpg\n"
     ]
    },
    {
     "name": "stderr",
     "output_type": "stream",
     "text": [
      "100%|██████████| 25/25 [00:00<00:00, 144.75it/s]\n",
      "100%|██████████| 100/100 [00:04<00:00, 21.06it/s]\n"
     ]
    },
    {
     "name": "stdout",
     "output_type": "stream",
     "text": [
      "Ergebnis für Bild ADE_train_00023925.jpg gespeichert: results/sd/ADE_train_00023925.jpg\n"
     ]
    },
    {
     "name": "stderr",
     "output_type": "stream",
     "text": [
      "100%|██████████| 25/25 [00:00<00:00, 144.59it/s]\n",
      "100%|██████████| 100/100 [00:04<00:00, 21.15it/s]\n"
     ]
    },
    {
     "name": "stdout",
     "output_type": "stream",
     "text": [
      "Ergebnis für Bild ADE_train_00001591.jpg gespeichert: results/sd/ADE_train_00001591.jpg\n"
     ]
    },
    {
     "name": "stderr",
     "output_type": "stream",
     "text": [
      "100%|██████████| 25/25 [00:00<00:00, 145.24it/s]\n",
      "100%|██████████| 100/100 [00:04<00:00, 20.83it/s]\n"
     ]
    },
    {
     "name": "stdout",
     "output_type": "stream",
     "text": [
      "Ergebnis für Bild ADE_train_00001733.jpg gespeichert: results/sd/ADE_train_00001733.jpg\n"
     ]
    },
    {
     "name": "stderr",
     "output_type": "stream",
     "text": [
      "100%|██████████| 25/25 [00:00<00:00, 144.37it/s]\n",
      "100%|██████████| 100/100 [00:04<00:00, 20.91it/s]\n"
     ]
    },
    {
     "name": "stdout",
     "output_type": "stream",
     "text": [
      "Ergebnis für Bild ADE_train_00008817.jpg gespeichert: results/sd/ADE_train_00008817.jpg\n"
     ]
    },
    {
     "name": "stderr",
     "output_type": "stream",
     "text": [
      "100%|██████████| 25/25 [00:00<00:00, 146.58it/s]\n",
      "100%|██████████| 100/100 [00:04<00:00, 20.85it/s]\n"
     ]
    },
    {
     "name": "stdout",
     "output_type": "stream",
     "text": [
      "Ergebnis für Bild ADE_train_00011665.jpg gespeichert: results/sd/ADE_train_00011665.jpg\n"
     ]
    },
    {
     "name": "stderr",
     "output_type": "stream",
     "text": [
      "100%|██████████| 25/25 [00:00<00:00, 145.43it/s]\n",
      "100%|██████████| 100/100 [00:04<00:00, 21.15it/s]\n"
     ]
    },
    {
     "name": "stdout",
     "output_type": "stream",
     "text": [
      "Ergebnis für Bild ADE_train_00022648.jpg gespeichert: results/sd/ADE_train_00022648.jpg\n"
     ]
    },
    {
     "name": "stderr",
     "output_type": "stream",
     "text": [
      "100%|██████████| 25/25 [00:00<00:00, 145.28it/s]\n",
      "100%|██████████| 100/100 [00:04<00:00, 20.93it/s]\n"
     ]
    },
    {
     "name": "stdout",
     "output_type": "stream",
     "text": [
      "Ergebnis für Bild ADE_train_00002283.jpg gespeichert: results/sd/ADE_train_00002283.jpg\n"
     ]
    },
    {
     "name": "stderr",
     "output_type": "stream",
     "text": [
      "100%|██████████| 25/25 [00:00<00:00, 145.11it/s]\n",
      "100%|██████████| 100/100 [00:04<00:00, 21.29it/s]\n"
     ]
    },
    {
     "name": "stdout",
     "output_type": "stream",
     "text": [
      "Ergebnis für Bild ADE_train_00001692.jpg gespeichert: results/sd/ADE_train_00001692.jpg\n"
     ]
    },
    {
     "name": "stderr",
     "output_type": "stream",
     "text": [
      "100%|██████████| 25/25 [00:00<00:00, 144.96it/s]\n",
      "100%|██████████| 100/100 [00:04<00:00, 20.95it/s]\n"
     ]
    },
    {
     "name": "stdout",
     "output_type": "stream",
     "text": [
      "Ergebnis für Bild ADE_train_00002147.jpg gespeichert: results/sd/ADE_train_00002147.jpg\n"
     ]
    },
    {
     "name": "stderr",
     "output_type": "stream",
     "text": [
      "100%|██████████| 25/25 [00:00<00:00, 145.35it/s]\n",
      "100%|██████████| 100/100 [00:04<00:00, 21.18it/s]\n"
     ]
    },
    {
     "name": "stdout",
     "output_type": "stream",
     "text": [
      "Ergebnis für Bild ADE_train_00001752.jpg gespeichert: results/sd/ADE_train_00001752.jpg\n"
     ]
    },
    {
     "name": "stderr",
     "output_type": "stream",
     "text": [
      "100%|██████████| 25/25 [00:00<00:00, 145.52it/s]\n",
      "100%|██████████| 100/100 [00:04<00:00, 20.90it/s]\n"
     ]
    },
    {
     "name": "stdout",
     "output_type": "stream",
     "text": [
      "Ergebnis für Bild ADE_train_00001742.jpg gespeichert: results/sd/ADE_train_00001742.jpg\n"
     ]
    },
    {
     "name": "stderr",
     "output_type": "stream",
     "text": [
      "100%|██████████| 25/25 [00:00<00:00, 145.55it/s]\n",
      "100%|██████████| 100/100 [00:04<00:00, 21.16it/s]\n"
     ]
    },
    {
     "name": "stdout",
     "output_type": "stream",
     "text": [
      "Ergebnis für Bild ADE_train_00001729.jpg gespeichert: results/sd/ADE_train_00001729.jpg\n"
     ]
    },
    {
     "name": "stderr",
     "output_type": "stream",
     "text": [
      "100%|██████████| 25/25 [00:00<00:00, 144.64it/s]\n",
      "100%|██████████| 100/100 [00:04<00:00, 21.10it/s]\n"
     ]
    },
    {
     "name": "stdout",
     "output_type": "stream",
     "text": [
      "Ergebnis für Bild ADE_train_00008299.jpg gespeichert: results/sd/ADE_train_00008299.jpg\n"
     ]
    },
    {
     "name": "stderr",
     "output_type": "stream",
     "text": [
      "100%|██████████| 25/25 [00:00<00:00, 145.26it/s]\n",
      "100%|██████████| 100/100 [00:04<00:00, 21.09it/s]\n"
     ]
    },
    {
     "name": "stdout",
     "output_type": "stream",
     "text": [
      "Ergebnis für Bild ADE_train_00010763.jpg gespeichert: results/sd/ADE_train_00010763.jpg\n"
     ]
    },
    {
     "name": "stderr",
     "output_type": "stream",
     "text": [
      "100%|██████████| 25/25 [00:00<00:00, 144.62it/s]\n",
      "100%|██████████| 100/100 [00:04<00:00, 21.05it/s]\n"
     ]
    },
    {
     "name": "stdout",
     "output_type": "stream",
     "text": [
      "Ergebnis für Bild ADE_train_00002142.jpg gespeichert: results/sd/ADE_train_00002142.jpg\n"
     ]
    },
    {
     "name": "stderr",
     "output_type": "stream",
     "text": [
      "100%|██████████| 25/25 [00:00<00:00, 144.71it/s]\n",
      "100%|██████████| 100/100 [00:04<00:00, 21.29it/s]\n"
     ]
    },
    {
     "name": "stdout",
     "output_type": "stream",
     "text": [
      "Ergebnis für Bild ADE_train_00005414.jpg gespeichert: results/sd/ADE_train_00005414.jpg\n"
     ]
    },
    {
     "name": "stderr",
     "output_type": "stream",
     "text": [
      "100%|██████████| 25/25 [00:00<00:00, 144.18it/s]\n",
      "100%|██████████| 100/100 [00:04<00:00, 21.29it/s]\n"
     ]
    },
    {
     "name": "stdout",
     "output_type": "stream",
     "text": [
      "Ergebnis für Bild ADE_train_00025023.jpg gespeichert: results/sd/ADE_train_00025023.jpg\n"
     ]
    },
    {
     "name": "stderr",
     "output_type": "stream",
     "text": [
      "100%|██████████| 25/25 [00:00<00:00, 144.80it/s]\n",
      "100%|██████████| 100/100 [00:04<00:00, 20.58it/s]\n"
     ]
    },
    {
     "name": "stdout",
     "output_type": "stream",
     "text": [
      "Ergebnis für Bild ADE_train_00002278.jpg gespeichert: results/sd/ADE_train_00002278.jpg\n"
     ]
    },
    {
     "name": "stderr",
     "output_type": "stream",
     "text": [
      "100%|██████████| 25/25 [00:00<00:00, 130.57it/s]\n",
      "100%|██████████| 100/100 [00:04<00:00, 21.25it/s]\n"
     ]
    },
    {
     "name": "stdout",
     "output_type": "stream",
     "text": [
      "Ergebnis für Bild ADE_train_00019295.jpg gespeichert: results/sd/ADE_train_00019295.jpg\n"
     ]
    },
    {
     "name": "stderr",
     "output_type": "stream",
     "text": [
      "100%|██████████| 25/25 [00:00<00:00, 144.16it/s]\n",
      "100%|██████████| 100/100 [00:04<00:00, 21.09it/s]\n"
     ]
    },
    {
     "name": "stdout",
     "output_type": "stream",
     "text": [
      "Ergebnis für Bild ADE_train_00001684.jpg gespeichert: results/sd/ADE_train_00001684.jpg\n"
     ]
    },
    {
     "name": "stderr",
     "output_type": "stream",
     "text": [
      "100%|██████████| 25/25 [00:00<00:00, 144.38it/s]\n",
      "100%|██████████| 100/100 [00:04<00:00, 21.30it/s]\n"
     ]
    },
    {
     "name": "stdout",
     "output_type": "stream",
     "text": [
      "Ergebnis für Bild ADE_train_00001764.jpg gespeichert: results/sd/ADE_train_00001764.jpg\n"
     ]
    },
    {
     "name": "stderr",
     "output_type": "stream",
     "text": [
      "100%|██████████| 25/25 [00:00<00:00, 145.33it/s]\n",
      "100%|██████████| 100/100 [00:04<00:00, 21.28it/s]\n"
     ]
    },
    {
     "name": "stdout",
     "output_type": "stream",
     "text": [
      "Ergebnis für Bild ADE_train_00014180.jpg gespeichert: results/sd/ADE_train_00014180.jpg\n"
     ]
    },
    {
     "name": "stderr",
     "output_type": "stream",
     "text": [
      "100%|██████████| 25/25 [00:00<00:00, 146.08it/s]\n",
      "100%|██████████| 100/100 [00:04<00:00, 21.16it/s]\n"
     ]
    },
    {
     "name": "stdout",
     "output_type": "stream",
     "text": [
      "Ergebnis für Bild ADE_train_00001731.jpg gespeichert: results/sd/ADE_train_00001731.jpg\n"
     ]
    },
    {
     "name": "stderr",
     "output_type": "stream",
     "text": [
      "100%|██████████| 25/25 [00:00<00:00, 145.74it/s]\n",
      "100%|██████████| 100/100 [00:04<00:00, 21.17it/s]\n"
     ]
    },
    {
     "name": "stdout",
     "output_type": "stream",
     "text": [
      "Ergebnis für Bild ADE_train_00001853.jpg gespeichert: results/sd/ADE_train_00001853.jpg\n"
     ]
    },
    {
     "name": "stderr",
     "output_type": "stream",
     "text": [
      "100%|██████████| 25/25 [00:00<00:00, 144.96it/s]\n",
      "100%|██████████| 100/100 [00:04<00:00, 21.28it/s]\n"
     ]
    },
    {
     "name": "stdout",
     "output_type": "stream",
     "text": [
      "Ergebnis für Bild ADE_train_00001335.jpg gespeichert: results/sd/ADE_train_00001335.jpg\n"
     ]
    },
    {
     "name": "stderr",
     "output_type": "stream",
     "text": [
      "100%|██████████| 25/25 [00:00<00:00, 144.30it/s]\n",
      "100%|██████████| 100/100 [00:04<00:00, 21.31it/s]\n"
     ]
    },
    {
     "name": "stdout",
     "output_type": "stream",
     "text": [
      "Ergebnis für Bild ADE_train_00001671.jpg gespeichert: results/sd/ADE_train_00001671.jpg\n"
     ]
    },
    {
     "name": "stderr",
     "output_type": "stream",
     "text": [
      "100%|██████████| 25/25 [00:00<00:00, 145.29it/s]\n",
      "100%|██████████| 100/100 [00:04<00:00, 21.20it/s]\n"
     ]
    },
    {
     "name": "stdout",
     "output_type": "stream",
     "text": [
      "Ergebnis für Bild ADE_train_00009997.jpg gespeichert: results/sd/ADE_train_00009997.jpg\n"
     ]
    },
    {
     "name": "stderr",
     "output_type": "stream",
     "text": [
      "100%|██████████| 25/25 [00:00<00:00, 145.09it/s]\n",
      "100%|██████████| 100/100 [00:04<00:00, 20.91it/s]\n"
     ]
    },
    {
     "name": "stdout",
     "output_type": "stream",
     "text": [
      "Ergebnis für Bild ADE_train_00001564.jpg gespeichert: results/sd/ADE_train_00001564.jpg\n"
     ]
    },
    {
     "name": "stderr",
     "output_type": "stream",
     "text": [
      "100%|██████████| 25/25 [00:00<00:00, 144.18it/s]\n",
      "100%|██████████| 100/100 [00:04<00:00, 21.36it/s]\n"
     ]
    },
    {
     "name": "stdout",
     "output_type": "stream",
     "text": [
      "Ergebnis für Bild ADE_train_00019279.jpg gespeichert: results/sd/ADE_train_00019279.jpg\n"
     ]
    },
    {
     "name": "stderr",
     "output_type": "stream",
     "text": [
      "100%|██████████| 25/25 [00:00<00:00, 145.21it/s]\n",
      "100%|██████████| 100/100 [00:04<00:00, 21.03it/s]\n"
     ]
    },
    {
     "name": "stdout",
     "output_type": "stream",
     "text": [
      "Ergebnis für Bild ADE_train_00001737.jpg gespeichert: results/sd/ADE_train_00001737.jpg\n"
     ]
    },
    {
     "name": "stderr",
     "output_type": "stream",
     "text": [
      "100%|██████████| 25/25 [00:00<00:00, 144.60it/s]\n",
      "100%|██████████| 100/100 [00:04<00:00, 21.03it/s]\n"
     ]
    },
    {
     "name": "stdout",
     "output_type": "stream",
     "text": [
      "Ergebnis für Bild ADE_train_00005331.jpg gespeichert: results/sd/ADE_train_00005331.jpg\n"
     ]
    },
    {
     "name": "stderr",
     "output_type": "stream",
     "text": [
      "100%|██████████| 25/25 [00:00<00:00, 144.07it/s]\n",
      "100%|██████████| 100/100 [00:04<00:00, 21.04it/s]\n"
     ]
    },
    {
     "name": "stdout",
     "output_type": "stream",
     "text": [
      "Ergebnis für Bild ADE_train_00000666.jpg gespeichert: results/sd/ADE_train_00000666.jpg\n"
     ]
    },
    {
     "name": "stderr",
     "output_type": "stream",
     "text": [
      "100%|██████████| 25/25 [00:00<00:00, 127.04it/s]\n",
      "100%|██████████| 100/100 [00:05<00:00, 19.77it/s]\n"
     ]
    },
    {
     "name": "stdout",
     "output_type": "stream",
     "text": [
      "Ergebnis für Bild ADE_train_00001796.jpg gespeichert: results/sd/ADE_train_00001796.jpg\n"
     ]
    },
    {
     "name": "stderr",
     "output_type": "stream",
     "text": [
      "100%|██████████| 25/25 [00:00<00:00, 143.03it/s]\n",
      "100%|██████████| 100/100 [00:04<00:00, 21.03it/s]\n"
     ]
    },
    {
     "name": "stdout",
     "output_type": "stream",
     "text": [
      "Ergebnis für Bild ADE_train_00001799.jpg gespeichert: results/sd/ADE_train_00001799.jpg\n"
     ]
    },
    {
     "name": "stderr",
     "output_type": "stream",
     "text": [
      "100%|██████████| 25/25 [00:00<00:00, 144.64it/s]\n",
      "100%|██████████| 100/100 [00:04<00:00, 21.23it/s]\n"
     ]
    },
    {
     "name": "stdout",
     "output_type": "stream",
     "text": [
      "Ergebnis für Bild ADE_train_00002144.jpg gespeichert: results/sd/ADE_train_00002144.jpg\n"
     ]
    },
    {
     "name": "stderr",
     "output_type": "stream",
     "text": [
      "100%|██████████| 25/25 [00:00<00:00, 145.02it/s]\n",
      "100%|██████████| 100/100 [00:04<00:00, 21.24it/s]\n"
     ]
    },
    {
     "name": "stdout",
     "output_type": "stream",
     "text": [
      "Ergebnis für Bild ADE_train_00001848.jpg gespeichert: results/sd/ADE_train_00001848.jpg\n"
     ]
    },
    {
     "name": "stderr",
     "output_type": "stream",
     "text": [
      "100%|██████████| 25/25 [00:00<00:00, 144.17it/s]\n",
      "100%|██████████| 100/100 [00:04<00:00, 21.10it/s]\n"
     ]
    },
    {
     "name": "stdout",
     "output_type": "stream",
     "text": [
      "Ergebnis für Bild ADE_train_00002292.jpg gespeichert: results/sd/ADE_train_00002292.jpg\n"
     ]
    },
    {
     "name": "stderr",
     "output_type": "stream",
     "text": [
      "100%|██████████| 25/25 [00:00<00:00, 144.23it/s]\n",
      "100%|██████████| 100/100 [00:04<00:00, 21.17it/s]\n"
     ]
    },
    {
     "name": "stdout",
     "output_type": "stream",
     "text": [
      "Ergebnis für Bild ADE_train_00012230.jpg gespeichert: results/sd/ADE_train_00012230.jpg\n"
     ]
    },
    {
     "name": "stderr",
     "output_type": "stream",
     "text": [
      "100%|██████████| 25/25 [00:00<00:00, 144.71it/s]\n",
      "100%|██████████| 100/100 [00:04<00:00, 21.19it/s]\n"
     ]
    },
    {
     "name": "stdout",
     "output_type": "stream",
     "text": [
      "Ergebnis für Bild ADE_train_00001664.jpg gespeichert: results/sd/ADE_train_00001664.jpg\n"
     ]
    },
    {
     "name": "stderr",
     "output_type": "stream",
     "text": [
      "100%|██████████| 25/25 [00:00<00:00, 144.67it/s]\n",
      "100%|██████████| 100/100 [00:04<00:00, 21.15it/s]\n"
     ]
    },
    {
     "name": "stdout",
     "output_type": "stream",
     "text": [
      "Ergebnis für Bild ADE_train_00001607.jpg gespeichert: results/sd/ADE_train_00001607.jpg\n"
     ]
    },
    {
     "name": "stderr",
     "output_type": "stream",
     "text": [
      "100%|██████████| 25/25 [00:00<00:00, 145.07it/s]\n",
      "100%|██████████| 100/100 [00:04<00:00, 21.11it/s]\n"
     ]
    },
    {
     "name": "stdout",
     "output_type": "stream",
     "text": [
      "Ergebnis für Bild ADE_train_00002294.jpg gespeichert: results/sd/ADE_train_00002294.jpg\n"
     ]
    },
    {
     "name": "stderr",
     "output_type": "stream",
     "text": [
      "100%|██████████| 25/25 [00:00<00:00, 145.26it/s]\n",
      "100%|██████████| 100/100 [00:04<00:00, 21.15it/s]\n"
     ]
    },
    {
     "name": "stdout",
     "output_type": "stream",
     "text": [
      "Ergebnis für Bild ADE_train_00008802.jpg gespeichert: results/sd/ADE_train_00008802.jpg\n"
     ]
    },
    {
     "name": "stderr",
     "output_type": "stream",
     "text": [
      "100%|██████████| 25/25 [00:00<00:00, 145.23it/s]\n",
      "100%|██████████| 100/100 [00:04<00:00, 21.08it/s]\n"
     ]
    },
    {
     "name": "stdout",
     "output_type": "stream",
     "text": [
      "Ergebnis für Bild ADE_train_00012221.jpg gespeichert: results/sd/ADE_train_00012221.jpg\n"
     ]
    },
    {
     "name": "stderr",
     "output_type": "stream",
     "text": [
      "100%|██████████| 25/25 [00:00<00:00, 143.36it/s]\n",
      "100%|██████████| 100/100 [00:04<00:00, 21.31it/s]\n"
     ]
    },
    {
     "name": "stdout",
     "output_type": "stream",
     "text": [
      "Ergebnis für Bild ADE_train_00001678.jpg gespeichert: results/sd/ADE_train_00001678.jpg\n"
     ]
    },
    {
     "name": "stderr",
     "output_type": "stream",
     "text": [
      "100%|██████████| 25/25 [00:00<00:00, 144.14it/s]\n",
      "100%|██████████| 100/100 [00:04<00:00, 21.08it/s]\n"
     ]
    },
    {
     "name": "stdout",
     "output_type": "stream",
     "text": [
      "Ergebnis für Bild ADE_train_00001730.jpg gespeichert: results/sd/ADE_train_00001730.jpg\n"
     ]
    },
    {
     "name": "stderr",
     "output_type": "stream",
     "text": [
      "100%|██████████| 25/25 [00:00<00:00, 144.65it/s]\n",
      "100%|██████████| 100/100 [00:04<00:00, 21.18it/s]\n"
     ]
    },
    {
     "name": "stdout",
     "output_type": "stream",
     "text": [
      "Ergebnis für Bild ADE_train_00012288.jpg gespeichert: results/sd/ADE_train_00012288.jpg\n"
     ]
    },
    {
     "name": "stderr",
     "output_type": "stream",
     "text": [
      "100%|██████████| 25/25 [00:00<00:00, 144.88it/s]\n",
      "100%|██████████| 100/100 [00:04<00:00, 20.97it/s]\n"
     ]
    },
    {
     "name": "stdout",
     "output_type": "stream",
     "text": [
      "Ergebnis für Bild ADE_train_00001634.jpg gespeichert: results/sd/ADE_train_00001634.jpg\n"
     ]
    },
    {
     "name": "stderr",
     "output_type": "stream",
     "text": [
      "100%|██████████| 25/25 [00:00<00:00, 143.93it/s]\n",
      "100%|██████████| 100/100 [00:04<00:00, 21.13it/s]\n"
     ]
    },
    {
     "name": "stdout",
     "output_type": "stream",
     "text": [
      "Ergebnis für Bild ADE_train_00019501.jpg gespeichert: results/sd/ADE_train_00019501.jpg\n"
     ]
    },
    {
     "name": "stderr",
     "output_type": "stream",
     "text": [
      "100%|██████████| 25/25 [00:00<00:00, 143.43it/s]\n",
      "100%|██████████| 100/100 [00:04<00:00, 21.31it/s]\n"
     ]
    },
    {
     "name": "stdout",
     "output_type": "stream",
     "text": [
      "Ergebnis für Bild ADE_train_00001712.jpg gespeichert: results/sd/ADE_train_00001712.jpg\n"
     ]
    },
    {
     "name": "stderr",
     "output_type": "stream",
     "text": [
      "100%|██████████| 25/25 [00:00<00:00, 144.16it/s]\n",
      "100%|██████████| 100/100 [00:04<00:00, 21.28it/s]\n"
     ]
    },
    {
     "name": "stdout",
     "output_type": "stream",
     "text": [
      "Ergebnis für Bild ADE_train_00004247.jpg gespeichert: results/sd/ADE_train_00004247.jpg\n"
     ]
    },
    {
     "name": "stderr",
     "output_type": "stream",
     "text": [
      "100%|██████████| 25/25 [00:00<00:00, 147.37it/s]\n",
      "100%|██████████| 100/100 [00:04<00:00, 21.26it/s]\n"
     ]
    },
    {
     "name": "stdout",
     "output_type": "stream",
     "text": [
      "Ergebnis für Bild ADE_train_00022679.jpg gespeichert: results/sd/ADE_train_00022679.jpg\n"
     ]
    },
    {
     "name": "stderr",
     "output_type": "stream",
     "text": [
      "100%|██████████| 25/25 [00:00<00:00, 144.52it/s]\n",
      "100%|██████████| 100/100 [00:04<00:00, 21.13it/s]\n"
     ]
    },
    {
     "name": "stdout",
     "output_type": "stream",
     "text": [
      "Ergebnis für Bild ADE_train_00008804.jpg gespeichert: results/sd/ADE_train_00008804.jpg\n"
     ]
    },
    {
     "name": "stderr",
     "output_type": "stream",
     "text": [
      "100%|██████████| 25/25 [00:00<00:00, 143.70it/s]\n",
      "100%|██████████| 100/100 [00:04<00:00, 21.21it/s]\n"
     ]
    },
    {
     "name": "stdout",
     "output_type": "stream",
     "text": [
      "Ergebnis für Bild ADE_train_00001700.jpg gespeichert: results/sd/ADE_train_00001700.jpg\n"
     ]
    },
    {
     "name": "stderr",
     "output_type": "stream",
     "text": [
      "100%|██████████| 25/25 [00:00<00:00, 143.72it/s]\n",
      "100%|██████████| 100/100 [00:04<00:00, 21.15it/s]\n"
     ]
    },
    {
     "name": "stdout",
     "output_type": "stream",
     "text": [
      "Ergebnis für Bild ADE_train_00001650.jpg gespeichert: results/sd/ADE_train_00001650.jpg\n"
     ]
    },
    {
     "name": "stderr",
     "output_type": "stream",
     "text": [
      "100%|██████████| 25/25 [00:00<00:00, 144.24it/s]\n",
      "100%|██████████| 100/100 [00:04<00:00, 21.03it/s]\n"
     ]
    },
    {
     "name": "stdout",
     "output_type": "stream",
     "text": [
      "Ergebnis für Bild ADE_train_00001745.jpg gespeichert: results/sd/ADE_train_00001745.jpg\n"
     ]
    },
    {
     "name": "stderr",
     "output_type": "stream",
     "text": [
      "100%|██████████| 25/25 [00:00<00:00, 144.26it/s]\n",
      "100%|██████████| 100/100 [00:04<00:00, 21.28it/s]\n"
     ]
    },
    {
     "name": "stdout",
     "output_type": "stream",
     "text": [
      "Ergebnis für Bild ADE_train_00022691.jpg gespeichert: results/sd/ADE_train_00022691.jpg\n"
     ]
    },
    {
     "name": "stderr",
     "output_type": "stream",
     "text": [
      "100%|██████████| 25/25 [00:00<00:00, 144.83it/s]\n",
      "100%|██████████| 100/100 [00:04<00:00, 21.31it/s]\n"
     ]
    },
    {
     "name": "stdout",
     "output_type": "stream",
     "text": [
      "Ergebnis für Bild ADE_train_00001722.jpg gespeichert: results/sd/ADE_train_00001722.jpg\n"
     ]
    },
    {
     "name": "stderr",
     "output_type": "stream",
     "text": [
      "100%|██████████| 25/25 [00:00<00:00, 145.18it/s]\n",
      "100%|██████████| 100/100 [00:04<00:00, 21.21it/s]\n"
     ]
    },
    {
     "name": "stdout",
     "output_type": "stream",
     "text": [
      "Ergebnis für Bild ADE_train_00022676.jpg gespeichert: results/sd/ADE_train_00022676.jpg\n"
     ]
    },
    {
     "name": "stderr",
     "output_type": "stream",
     "text": [
      "100%|██████████| 25/25 [00:00<00:00, 143.65it/s]\n",
      "100%|██████████| 100/100 [00:04<00:00, 21.34it/s]\n"
     ]
    },
    {
     "name": "stdout",
     "output_type": "stream",
     "text": [
      "Ergebnis für Bild ADE_train_00000661.jpg gespeichert: results/sd/ADE_train_00000661.jpg\n"
     ]
    },
    {
     "name": "stderr",
     "output_type": "stream",
     "text": [
      "100%|██████████| 25/25 [00:00<00:00, 144.48it/s]\n",
      "100%|██████████| 100/100 [00:05<00:00, 19.91it/s]\n"
     ]
    },
    {
     "name": "stdout",
     "output_type": "stream",
     "text": [
      "Ergebnis für Bild ADE_train_00004953.jpg gespeichert: results/sd/ADE_train_00004953.jpg\n"
     ]
    },
    {
     "name": "stderr",
     "output_type": "stream",
     "text": [
      "100%|██████████| 25/25 [00:00<00:00, 145.13it/s]\n",
      "100%|██████████| 100/100 [00:04<00:00, 21.16it/s]\n"
     ]
    },
    {
     "name": "stdout",
     "output_type": "stream",
     "text": [
      "Ergebnis für Bild ADE_train_00003097.jpg gespeichert: results/sd/ADE_train_00003097.jpg\n"
     ]
    },
    {
     "name": "stderr",
     "output_type": "stream",
     "text": [
      "100%|██████████| 25/25 [00:00<00:00, 146.02it/s]\n",
      "100%|██████████| 100/100 [00:04<00:00, 21.32it/s]\n"
     ]
    },
    {
     "name": "stdout",
     "output_type": "stream",
     "text": [
      "Ergebnis für Bild ADE_train_00001707.jpg gespeichert: results/sd/ADE_train_00001707.jpg\n"
     ]
    },
    {
     "name": "stderr",
     "output_type": "stream",
     "text": [
      "100%|██████████| 25/25 [00:00<00:00, 144.60it/s]\n",
      "100%|██████████| 100/100 [00:04<00:00, 20.73it/s]\n"
     ]
    },
    {
     "name": "stdout",
     "output_type": "stream",
     "text": [
      "Ergebnis für Bild ADE_train_00020588.jpg gespeichert: results/sd/ADE_train_00020588.jpg\n"
     ]
    },
    {
     "name": "stderr",
     "output_type": "stream",
     "text": [
      "100%|██████████| 25/25 [00:00<00:00, 144.78it/s]\n",
      "100%|██████████| 100/100 [00:04<00:00, 20.77it/s]\n"
     ]
    },
    {
     "name": "stdout",
     "output_type": "stream",
     "text": [
      "Ergebnis für Bild ADE_train_00001685.jpg gespeichert: results/sd/ADE_train_00001685.jpg\n"
     ]
    },
    {
     "name": "stderr",
     "output_type": "stream",
     "text": [
      "100%|██████████| 25/25 [00:00<00:00, 145.50it/s]\n",
      "100%|██████████| 100/100 [00:04<00:00, 21.31it/s]\n"
     ]
    },
    {
     "name": "stdout",
     "output_type": "stream",
     "text": [
      "Ergebnis für Bild ADE_train_00024078.jpg gespeichert: results/sd/ADE_train_00024078.jpg\n"
     ]
    },
    {
     "name": "stderr",
     "output_type": "stream",
     "text": [
      "100%|██████████| 25/25 [00:00<00:00, 144.09it/s]\n",
      "100%|██████████| 100/100 [00:04<00:00, 21.49it/s]\n"
     ]
    },
    {
     "name": "stdout",
     "output_type": "stream",
     "text": [
      "Ergebnis für Bild ADE_train_00001740.jpg gespeichert: results/sd/ADE_train_00001740.jpg\n"
     ]
    },
    {
     "name": "stderr",
     "output_type": "stream",
     "text": [
      "100%|██████████| 25/25 [00:00<00:00, 145.27it/s]\n",
      "100%|██████████| 100/100 [00:04<00:00, 21.17it/s]\n"
     ]
    },
    {
     "name": "stdout",
     "output_type": "stream",
     "text": [
      "Ergebnis für Bild ADE_train_00001772.jpg gespeichert: results/sd/ADE_train_00001772.jpg\n"
     ]
    },
    {
     "name": "stderr",
     "output_type": "stream",
     "text": [
      "100%|██████████| 25/25 [00:00<00:00, 145.19it/s]\n",
      "100%|██████████| 100/100 [00:04<00:00, 21.42it/s]\n"
     ]
    },
    {
     "name": "stdout",
     "output_type": "stream",
     "text": [
      "Ergebnis für Bild ADE_train_00004949.jpg gespeichert: results/sd/ADE_train_00004949.jpg\n"
     ]
    },
    {
     "name": "stderr",
     "output_type": "stream",
     "text": [
      "100%|██████████| 25/25 [00:00<00:00, 146.62it/s]\n",
      "100%|██████████| 100/100 [00:04<00:00, 20.98it/s]\n"
     ]
    },
    {
     "name": "stdout",
     "output_type": "stream",
     "text": [
      "Ergebnis für Bild ADE_train_00002275.jpg gespeichert: results/sd/ADE_train_00002275.jpg\n"
     ]
    },
    {
     "name": "stderr",
     "output_type": "stream",
     "text": [
      "100%|██████████| 25/25 [00:00<00:00, 144.33it/s]\n",
      "100%|██████████| 100/100 [00:04<00:00, 21.38it/s]\n"
     ]
    },
    {
     "name": "stdout",
     "output_type": "stream",
     "text": [
      "Ergebnis für Bild ADE_train_00002290.jpg gespeichert: results/sd/ADE_train_00002290.jpg\n"
     ]
    },
    {
     "name": "stderr",
     "output_type": "stream",
     "text": [
      "100%|██████████| 25/25 [00:00<00:00, 145.31it/s]\n",
      "100%|██████████| 100/100 [00:04<00:00, 21.25it/s]\n"
     ]
    },
    {
     "name": "stdout",
     "output_type": "stream",
     "text": [
      "Ergebnis für Bild ADE_train_00002276.jpg gespeichert: results/sd/ADE_train_00002276.jpg\n"
     ]
    },
    {
     "name": "stderr",
     "output_type": "stream",
     "text": [
      "100%|██████████| 25/25 [00:00<00:00, 143.68it/s]\n",
      "100%|██████████| 100/100 [00:04<00:00, 21.34it/s]\n"
     ]
    },
    {
     "name": "stdout",
     "output_type": "stream",
     "text": [
      "Ergebnis für Bild ADE_train_00022693.jpg gespeichert: results/sd/ADE_train_00022693.jpg\n"
     ]
    },
    {
     "name": "stderr",
     "output_type": "stream",
     "text": [
      "100%|██████████| 25/25 [00:00<00:00, 143.78it/s]\n",
      "100%|██████████| 100/100 [00:04<00:00, 20.97it/s]\n"
     ]
    },
    {
     "name": "stdout",
     "output_type": "stream",
     "text": [
      "Ergebnis für Bild ADE_train_00005417.jpg gespeichert: results/sd/ADE_train_00005417.jpg\n"
     ]
    },
    {
     "name": "stderr",
     "output_type": "stream",
     "text": [
      "100%|██████████| 25/25 [00:00<00:00, 145.64it/s]\n",
      "100%|██████████| 100/100 [00:04<00:00, 21.34it/s]\n"
     ]
    },
    {
     "name": "stdout",
     "output_type": "stream",
     "text": [
      "Ergebnis für Bild ADE_train_00001803.jpg gespeichert: results/sd/ADE_train_00001803.jpg\n"
     ]
    },
    {
     "name": "stderr",
     "output_type": "stream",
     "text": [
      "100%|██████████| 25/25 [00:00<00:00, 144.64it/s]\n",
      "100%|██████████| 100/100 [00:04<00:00, 21.30it/s]\n"
     ]
    },
    {
     "name": "stdout",
     "output_type": "stream",
     "text": [
      "Ergebnis für Bild ADE_train_00019297.jpg gespeichert: results/sd/ADE_train_00019297.jpg\n"
     ]
    },
    {
     "name": "stderr",
     "output_type": "stream",
     "text": [
      "100%|██████████| 25/25 [00:00<00:00, 144.23it/s]\n",
      "100%|██████████| 100/100 [00:04<00:00, 21.36it/s]\n"
     ]
    },
    {
     "name": "stdout",
     "output_type": "stream",
     "text": [
      "Ergebnis für Bild ADE_train_00000658.jpg gespeichert: results/sd/ADE_train_00000658.jpg\n"
     ]
    },
    {
     "name": "stderr",
     "output_type": "stream",
     "text": [
      "100%|██████████| 25/25 [00:00<00:00, 111.18it/s]\n",
      "100%|██████████| 100/100 [00:04<00:00, 20.85it/s]\n"
     ]
    },
    {
     "name": "stdout",
     "output_type": "stream",
     "text": [
      "Ergebnis für Bild ADE_train_00019280.jpg gespeichert: results/sd/ADE_train_00019280.jpg\n"
     ]
    },
    {
     "name": "stderr",
     "output_type": "stream",
     "text": [
      "100%|██████████| 25/25 [00:00<00:00, 144.61it/s]\n",
      "100%|██████████| 100/100 [00:04<00:00, 21.07it/s]\n"
     ]
    },
    {
     "name": "stdout",
     "output_type": "stream",
     "text": [
      "Ergebnis für Bild ADE_train_00009686.jpg gespeichert: results/sd/ADE_train_00009686.jpg\n"
     ]
    },
    {
     "name": "stderr",
     "output_type": "stream",
     "text": [
      "100%|██████████| 25/25 [00:00<00:00, 144.46it/s]\n",
      "100%|██████████| 100/100 [00:04<00:00, 21.12it/s]\n"
     ]
    },
    {
     "name": "stdout",
     "output_type": "stream",
     "text": [
      "Ergebnis für Bild ADE_train_00022704.jpg gespeichert: results/sd/ADE_train_00022704.jpg\n"
     ]
    },
    {
     "name": "stderr",
     "output_type": "stream",
     "text": [
      "100%|██████████| 25/25 [00:00<00:00, 144.34it/s]\n",
      "100%|██████████| 100/100 [00:04<00:00, 21.35it/s]\n"
     ]
    },
    {
     "name": "stdout",
     "output_type": "stream",
     "text": [
      "Ergebnis für Bild ADE_train_00005344.jpg gespeichert: results/sd/ADE_train_00005344.jpg\n"
     ]
    },
    {
     "name": "stderr",
     "output_type": "stream",
     "text": [
      "100%|██████████| 25/25 [00:00<00:00, 145.47it/s]\n",
      "100%|██████████| 100/100 [00:04<00:00, 20.56it/s]\n"
     ]
    },
    {
     "name": "stdout",
     "output_type": "stream",
     "text": [
      "Ergebnis für Bild ADE_train_00019299.jpg gespeichert: results/sd/ADE_train_00019299.jpg\n"
     ]
    },
    {
     "name": "stderr",
     "output_type": "stream",
     "text": [
      "100%|██████████| 25/25 [00:00<00:00, 145.18it/s]\n",
      "100%|██████████| 100/100 [00:04<00:00, 21.34it/s]\n"
     ]
    },
    {
     "name": "stdout",
     "output_type": "stream",
     "text": [
      "Ergebnis für Bild ADE_train_00012186.jpg gespeichert: results/sd/ADE_train_00012186.jpg\n"
     ]
    },
    {
     "name": "stderr",
     "output_type": "stream",
     "text": [
      "100%|██████████| 25/25 [00:00<00:00, 144.46it/s]\n",
      "100%|██████████| 100/100 [00:04<00:00, 20.89it/s]\n"
     ]
    },
    {
     "name": "stdout",
     "output_type": "stream",
     "text": [
      "Ergebnis für Bild ADE_train_00002145.jpg gespeichert: results/sd/ADE_train_00002145.jpg\n"
     ]
    },
    {
     "name": "stderr",
     "output_type": "stream",
     "text": [
      "100%|██████████| 25/25 [00:00<00:00, 144.93it/s]\n",
      "100%|██████████| 100/100 [00:04<00:00, 21.48it/s]\n"
     ]
    },
    {
     "name": "stdout",
     "output_type": "stream",
     "text": [
      "Ergebnis für Bild ADE_train_00005347.jpg gespeichert: results/sd/ADE_train_00005347.jpg\n"
     ]
    },
    {
     "name": "stderr",
     "output_type": "stream",
     "text": [
      "100%|██████████| 25/25 [00:00<00:00, 148.56it/s]\n",
      "100%|██████████| 100/100 [00:04<00:00, 21.19it/s]\n"
     ]
    },
    {
     "name": "stdout",
     "output_type": "stream",
     "text": [
      "Ergebnis für Bild ADE_train_00016148.jpg gespeichert: results/sd/ADE_train_00016148.jpg\n"
     ]
    },
    {
     "name": "stderr",
     "output_type": "stream",
     "text": [
      "100%|██████████| 25/25 [00:00<00:00, 144.77it/s]\n",
      "100%|██████████| 100/100 [00:04<00:00, 21.40it/s]\n"
     ]
    },
    {
     "name": "stdout",
     "output_type": "stream",
     "text": [
      "Ergebnis für Bild ADE_train_00012224.jpg gespeichert: results/sd/ADE_train_00012224.jpg\n"
     ]
    },
    {
     "name": "stderr",
     "output_type": "stream",
     "text": [
      "100%|██████████| 25/25 [00:00<00:00, 145.53it/s]\n",
      "100%|██████████| 100/100 [00:04<00:00, 21.24it/s]\n"
     ]
    },
    {
     "name": "stdout",
     "output_type": "stream",
     "text": [
      "Ergebnis für Bild ADE_train_00022986.jpg gespeichert: results/sd/ADE_train_00022986.jpg\n"
     ]
    },
    {
     "name": "stderr",
     "output_type": "stream",
     "text": [
      "100%|██████████| 25/25 [00:00<00:00, 148.06it/s]\n",
      "100%|██████████| 100/100 [00:04<00:00, 21.50it/s]\n"
     ]
    },
    {
     "name": "stdout",
     "output_type": "stream",
     "text": [
      "Ergebnis für Bild ADE_train_00003066.jpg gespeichert: results/sd/ADE_train_00003066.jpg\n"
     ]
    },
    {
     "name": "stderr",
     "output_type": "stream",
     "text": [
      "100%|██████████| 25/25 [00:00<00:00, 145.44it/s]\n",
      "100%|██████████| 100/100 [00:04<00:00, 21.05it/s]\n"
     ]
    },
    {
     "name": "stdout",
     "output_type": "stream",
     "text": [
      "Ergebnis für Bild ADE_train_00001693.jpg gespeichert: results/sd/ADE_train_00001693.jpg\n"
     ]
    },
    {
     "name": "stderr",
     "output_type": "stream",
     "text": [
      "100%|██████████| 25/25 [00:00<00:00, 145.80it/s]\n",
      "100%|██████████| 100/100 [00:04<00:00, 21.45it/s]\n"
     ]
    },
    {
     "name": "stdout",
     "output_type": "stream",
     "text": [
      "Ergebnis für Bild ADE_train_00012226.jpg gespeichert: results/sd/ADE_train_00012226.jpg\n"
     ]
    },
    {
     "name": "stderr",
     "output_type": "stream",
     "text": [
      "100%|██████████| 25/25 [00:00<00:00, 141.13it/s]\n",
      "100%|██████████| 100/100 [00:04<00:00, 21.22it/s]\n"
     ]
    },
    {
     "name": "stdout",
     "output_type": "stream",
     "text": [
      "Ergebnis für Bild ADE_train_00002288.jpg gespeichert: results/sd/ADE_train_00002288.jpg\n"
     ]
    },
    {
     "name": "stderr",
     "output_type": "stream",
     "text": [
      "100%|██████████| 25/25 [00:00<00:00, 145.32it/s]\n",
      "100%|██████████| 100/100 [00:04<00:00, 21.38it/s]\n"
     ]
    },
    {
     "name": "stdout",
     "output_type": "stream",
     "text": [
      "Ergebnis für Bild ADE_train_00005324.jpg gespeichert: results/sd/ADE_train_00005324.jpg\n"
     ]
    },
    {
     "name": "stderr",
     "output_type": "stream",
     "text": [
      "100%|██████████| 25/25 [00:00<00:00, 144.66it/s]\n",
      "100%|██████████| 100/100 [00:04<00:00, 21.04it/s]\n"
     ]
    },
    {
     "name": "stdout",
     "output_type": "stream",
     "text": [
      "Ergebnis für Bild ADE_frame_00000066.jpg gespeichert: results/sd/ADE_frame_00000066.jpg\n"
     ]
    },
    {
     "name": "stderr",
     "output_type": "stream",
     "text": [
      "100%|██████████| 25/25 [00:00<00:00, 145.38it/s]\n",
      "100%|██████████| 100/100 [00:04<00:00, 21.50it/s]\n"
     ]
    },
    {
     "name": "stdout",
     "output_type": "stream",
     "text": [
      "Ergebnis für Bild ADE_train_00022763.jpg gespeichert: results/sd/ADE_train_00022763.jpg\n"
     ]
    },
    {
     "name": "stderr",
     "output_type": "stream",
     "text": [
      "100%|██████████| 25/25 [00:00<00:00, 145.07it/s]\n",
      "100%|██████████| 100/100 [00:04<00:00, 21.31it/s]\n"
     ]
    },
    {
     "name": "stdout",
     "output_type": "stream",
     "text": [
      "Ergebnis für Bild ADE_train_00019287.jpg gespeichert: results/sd/ADE_train_00019287.jpg\n"
     ]
    },
    {
     "name": "stderr",
     "output_type": "stream",
     "text": [
      "100%|██████████| 25/25 [00:00<00:00, 143.99it/s]\n",
      "100%|██████████| 100/100 [00:04<00:00, 21.47it/s]\n"
     ]
    },
    {
     "name": "stdout",
     "output_type": "stream",
     "text": [
      "Ergebnis für Bild ADE_train_00020276.jpg gespeichert: results/sd/ADE_train_00020276.jpg\n"
     ]
    },
    {
     "name": "stderr",
     "output_type": "stream",
     "text": [
      "100%|██████████| 25/25 [00:00<00:00, 145.44it/s]\n",
      "100%|██████████| 100/100 [00:04<00:00, 21.45it/s]\n"
     ]
    },
    {
     "name": "stdout",
     "output_type": "stream",
     "text": [
      "Ergebnis für Bild ADE_train_00001493.jpg gespeichert: results/sd/ADE_train_00001493.jpg\n"
     ]
    },
    {
     "name": "stderr",
     "output_type": "stream",
     "text": [
      "100%|██████████| 25/25 [00:00<00:00, 142.23it/s]\n",
      "100%|██████████| 100/100 [00:04<00:00, 21.43it/s]\n"
     ]
    },
    {
     "name": "stdout",
     "output_type": "stream",
     "text": [
      "Ergebnis für Bild ADE_train_00024361.jpg gespeichert: results/sd/ADE_train_00024361.jpg\n"
     ]
    },
    {
     "name": "stderr",
     "output_type": "stream",
     "text": [
      "100%|██████████| 25/25 [00:00<00:00, 145.15it/s]\n",
      "100%|██████████| 100/100 [00:04<00:00, 20.98it/s]\n"
     ]
    },
    {
     "name": "stdout",
     "output_type": "stream",
     "text": [
      "Ergebnis für Bild ADE_train_00004840.jpg gespeichert: results/sd/ADE_train_00004840.jpg\n"
     ]
    },
    {
     "name": "stderr",
     "output_type": "stream",
     "text": [
      "100%|██████████| 25/25 [00:00<00:00, 147.88it/s]\n",
      "100%|██████████| 100/100 [00:04<00:00, 21.32it/s]\n"
     ]
    },
    {
     "name": "stdout",
     "output_type": "stream",
     "text": [
      "Ergebnis für Bild ADE_train_00003086.jpg gespeichert: results/sd/ADE_train_00003086.jpg\n"
     ]
    },
    {
     "name": "stderr",
     "output_type": "stream",
     "text": [
      "100%|██████████| 25/25 [00:00<00:00, 144.21it/s]\n",
      "100%|██████████| 100/100 [00:04<00:00, 21.14it/s]\n"
     ]
    },
    {
     "name": "stdout",
     "output_type": "stream",
     "text": [
      "Ergebnis für Bild ADE_train_00001652.jpg gespeichert: results/sd/ADE_train_00001652.jpg\n"
     ]
    },
    {
     "name": "stderr",
     "output_type": "stream",
     "text": [
      "100%|██████████| 25/25 [00:00<00:00, 144.15it/s]\n",
      "100%|██████████| 100/100 [00:04<00:00, 21.34it/s]\n"
     ]
    },
    {
     "name": "stdout",
     "output_type": "stream",
     "text": [
      "Ergebnis für Bild ADE_train_00001706.jpg gespeichert: results/sd/ADE_train_00001706.jpg\n"
     ]
    },
    {
     "name": "stderr",
     "output_type": "stream",
     "text": [
      "100%|██████████| 25/25 [00:00<00:00, 144.11it/s]\n",
      "100%|██████████| 100/100 [00:04<00:00, 20.78it/s]\n"
     ]
    },
    {
     "name": "stdout",
     "output_type": "stream",
     "text": [
      "Ergebnis für Bild ADE_train_00022677.jpg gespeichert: results/sd/ADE_train_00022677.jpg\n"
     ]
    },
    {
     "name": "stderr",
     "output_type": "stream",
     "text": [
      "100%|██████████| 25/25 [00:00<00:00, 144.79it/s]\n",
      "100%|██████████| 100/100 [00:04<00:00, 21.38it/s]\n"
     ]
    },
    {
     "name": "stdout",
     "output_type": "stream",
     "text": [
      "Ergebnis für Bild ADE_train_00001724.jpg gespeichert: results/sd/ADE_train_00001724.jpg\n"
     ]
    },
    {
     "name": "stderr",
     "output_type": "stream",
     "text": [
      "100%|██████████| 25/25 [00:00<00:00, 146.24it/s]\n",
      "100%|██████████| 100/100 [00:04<00:00, 21.01it/s]\n"
     ]
    },
    {
     "name": "stdout",
     "output_type": "stream",
     "text": [
      "Ergebnis für Bild ADE_train_00019284.jpg gespeichert: results/sd/ADE_train_00019284.jpg\n"
     ]
    },
    {
     "name": "stderr",
     "output_type": "stream",
     "text": [
      "100%|██████████| 25/25 [00:00<00:00, 145.17it/s]\n",
      "100%|██████████| 100/100 [00:04<00:00, 21.34it/s]\n"
     ]
    },
    {
     "name": "stdout",
     "output_type": "stream",
     "text": [
      "Ergebnis für Bild ADE_frame_00000042.jpg gespeichert: results/sd/ADE_frame_00000042.jpg\n"
     ]
    },
    {
     "name": "stderr",
     "output_type": "stream",
     "text": [
      "100%|██████████| 25/25 [00:00<00:00, 143.97it/s]\n",
      "100%|██████████| 100/100 [00:04<00:00, 21.09it/s]\n"
     ]
    },
    {
     "name": "stdout",
     "output_type": "stream",
     "text": [
      "Ergebnis für Bild ADE_train_00024076.jpg gespeichert: results/sd/ADE_train_00024076.jpg\n"
     ]
    },
    {
     "name": "stderr",
     "output_type": "stream",
     "text": [
      "100%|██████████| 25/25 [00:00<00:00, 145.73it/s]\n",
      "100%|██████████| 100/100 [00:04<00:00, 21.39it/s]\n"
     ]
    },
    {
     "name": "stdout",
     "output_type": "stream",
     "text": [
      "Ergebnis für Bild ADE_train_00012250.jpg gespeichert: results/sd/ADE_train_00012250.jpg\n"
     ]
    },
    {
     "name": "stderr",
     "output_type": "stream",
     "text": [
      "100%|██████████| 25/25 [00:00<00:00, 145.44it/s]\n",
      "100%|██████████| 100/100 [00:04<00:00, 20.84it/s]\n"
     ]
    },
    {
     "name": "stdout",
     "output_type": "stream",
     "text": [
      "Ergebnis für Bild ADE_train_00001492.jpg gespeichert: results/sd/ADE_train_00001492.jpg\n"
     ]
    },
    {
     "name": "stderr",
     "output_type": "stream",
     "text": [
      "100%|██████████| 25/25 [00:00<00:00, 144.53it/s]\n",
      "100%|██████████| 100/100 [00:04<00:00, 21.39it/s]\n"
     ]
    },
    {
     "name": "stdout",
     "output_type": "stream",
     "text": [
      "Ergebnis für Bild ADE_frame_00000299.jpg gespeichert: results/sd/ADE_frame_00000299.jpg\n"
     ]
    },
    {
     "name": "stderr",
     "output_type": "stream",
     "text": [
      "100%|██████████| 25/25 [00:00<00:00, 145.15it/s]\n",
      "100%|██████████| 100/100 [00:04<00:00, 20.93it/s]\n"
     ]
    },
    {
     "name": "stdout",
     "output_type": "stream",
     "text": [
      "Ergebnis für Bild ADE_train_00001798.jpg gespeichert: results/sd/ADE_train_00001798.jpg\n"
     ]
    },
    {
     "name": "stderr",
     "output_type": "stream",
     "text": [
      "100%|██████████| 25/25 [00:00<00:00, 144.44it/s]\n",
      "100%|██████████| 100/100 [00:04<00:00, 21.44it/s]\n"
     ]
    },
    {
     "name": "stdout",
     "output_type": "stream",
     "text": [
      "Ergebnis für Bild ADE_train_00001645.jpg gespeichert: results/sd/ADE_train_00001645.jpg\n"
     ]
    },
    {
     "name": "stderr",
     "output_type": "stream",
     "text": [
      "100%|██████████| 25/25 [00:00<00:00, 145.36it/s]\n",
      "100%|██████████| 100/100 [00:04<00:00, 20.99it/s]\n"
     ]
    },
    {
     "name": "stdout",
     "output_type": "stream",
     "text": [
      "Ergebnis für Bild ADE_train_00001807.jpg gespeichert: results/sd/ADE_train_00001807.jpg\n"
     ]
    },
    {
     "name": "stderr",
     "output_type": "stream",
     "text": [
      "100%|██████████| 25/25 [00:00<00:00, 145.03it/s]\n",
      "100%|██████████| 100/100 [00:04<00:00, 21.29it/s]\n"
     ]
    },
    {
     "name": "stdout",
     "output_type": "stream",
     "text": [
      "Ergebnis für Bild ADE_train_00001739.jpg gespeichert: results/sd/ADE_train_00001739.jpg\n"
     ]
    },
    {
     "name": "stderr",
     "output_type": "stream",
     "text": [
      "100%|██████████| 25/25 [00:00<00:00, 144.72it/s]\n",
      "100%|██████████| 100/100 [00:04<00:00, 21.29it/s]\n"
     ]
    },
    {
     "name": "stdout",
     "output_type": "stream",
     "text": [
      "Ergebnis für Bild ADE_train_00001665.jpg gespeichert: results/sd/ADE_train_00001665.jpg\n"
     ]
    },
    {
     "name": "stderr",
     "output_type": "stream",
     "text": [
      "100%|██████████| 25/25 [00:00<00:00, 145.46it/s]\n",
      "100%|██████████| 100/100 [00:04<00:00, 21.43it/s]\n"
     ]
    },
    {
     "name": "stdout",
     "output_type": "stream",
     "text": [
      "Ergebnis für Bild ADE_train_00022649.jpg gespeichert: results/sd/ADE_train_00022649.jpg\n"
     ]
    },
    {
     "name": "stderr",
     "output_type": "stream",
     "text": [
      "100%|██████████| 25/25 [00:00<00:00, 145.29it/s]\n",
      "100%|██████████| 100/100 [00:04<00:00, 21.17it/s]\n"
     ]
    },
    {
     "name": "stdout",
     "output_type": "stream",
     "text": [
      "Ergebnis für Bild ADE_train_00001503.jpg gespeichert: results/sd/ADE_train_00001503.jpg\n"
     ]
    },
    {
     "name": "stderr",
     "output_type": "stream",
     "text": [
      "100%|██████████| 25/25 [00:00<00:00, 144.89it/s]\n",
      "100%|██████████| 100/100 [00:04<00:00, 21.49it/s]\n"
     ]
    },
    {
     "name": "stdout",
     "output_type": "stream",
     "text": [
      "Ergebnis für Bild ADE_frame_00000154.jpg gespeichert: results/sd/ADE_frame_00000154.jpg\n"
     ]
    },
    {
     "name": "stderr",
     "output_type": "stream",
     "text": [
      "100%|██████████| 25/25 [00:00<00:00, 145.51it/s]\n",
      "100%|██████████| 100/100 [00:04<00:00, 21.44it/s]\n"
     ]
    },
    {
     "name": "stdout",
     "output_type": "stream",
     "text": [
      "Ergebnis für Bild ADE_train_00004954.jpg gespeichert: results/sd/ADE_train_00004954.jpg\n"
     ]
    },
    {
     "name": "stderr",
     "output_type": "stream",
     "text": [
      "100%|██████████| 25/25 [00:00<00:00, 145.54it/s]\n",
      "100%|██████████| 100/100 [00:04<00:00, 21.36it/s]\n"
     ]
    },
    {
     "name": "stdout",
     "output_type": "stream",
     "text": [
      "Ergebnis für Bild ADE_train_00012229.jpg gespeichert: results/sd/ADE_train_00012229.jpg\n"
     ]
    },
    {
     "name": "stderr",
     "output_type": "stream",
     "text": [
      "100%|██████████| 25/25 [00:00<00:00, 144.45it/s]\n",
      "100%|██████████| 100/100 [00:04<00:00, 21.13it/s]\n"
     ]
    },
    {
     "name": "stdout",
     "output_type": "stream",
     "text": [
      "Ergebnis für Bild ADE_train_00002273.jpg gespeichert: results/sd/ADE_train_00002273.jpg\n"
     ]
    },
    {
     "name": "stderr",
     "output_type": "stream",
     "text": [
      "100%|██████████| 25/25 [00:00<00:00, 145.75it/s]\n",
      "100%|██████████| 100/100 [00:04<00:00, 21.40it/s]\n"
     ]
    },
    {
     "name": "stdout",
     "output_type": "stream",
     "text": [
      "Ergebnis für Bild ADE_train_00005281.jpg gespeichert: results/sd/ADE_train_00005281.jpg\n"
     ]
    },
    {
     "name": "stderr",
     "output_type": "stream",
     "text": [
      "100%|██████████| 25/25 [00:00<00:00, 144.04it/s]\n",
      "100%|██████████| 100/100 [00:04<00:00, 21.39it/s]\n"
     ]
    },
    {
     "name": "stdout",
     "output_type": "stream",
     "text": [
      "Ergebnis für Bild ADE_train_00013809.jpg gespeichert: results/sd/ADE_train_00013809.jpg\n"
     ]
    },
    {
     "name": "stderr",
     "output_type": "stream",
     "text": [
      "100%|██████████| 25/25 [00:00<00:00, 144.81it/s]\n",
      "100%|██████████| 100/100 [00:04<00:00, 21.53it/s]\n"
     ]
    },
    {
     "name": "stdout",
     "output_type": "stream",
     "text": [
      "Ergebnis für Bild ADE_train_00001643.jpg gespeichert: results/sd/ADE_train_00001643.jpg\n"
     ]
    },
    {
     "name": "stderr",
     "output_type": "stream",
     "text": [
      "100%|██████████| 25/25 [00:00<00:00, 144.87it/s]\n",
      "100%|██████████| 100/100 [00:04<00:00, 21.48it/s]\n"
     ]
    },
    {
     "name": "stdout",
     "output_type": "stream",
     "text": [
      "Ergebnis für Bild ADE_train_00001738.jpg gespeichert: results/sd/ADE_train_00001738.jpg\n"
     ]
    },
    {
     "name": "stderr",
     "output_type": "stream",
     "text": [
      "100%|██████████| 25/25 [00:00<00:00, 145.33it/s]\n",
      "100%|██████████| 100/100 [00:04<00:00, 21.38it/s]\n"
     ]
    },
    {
     "name": "stdout",
     "output_type": "stream",
     "text": [
      "Ergebnis für Bild ADE_train_00004249.jpg gespeichert: results/sd/ADE_train_00004249.jpg\n"
     ]
    },
    {
     "name": "stderr",
     "output_type": "stream",
     "text": [
      "100%|██████████| 25/25 [00:00<00:00, 145.09it/s]\n",
      "100%|██████████| 100/100 [00:04<00:00, 21.30it/s]\n"
     ]
    },
    {
     "name": "stdout",
     "output_type": "stream",
     "text": [
      "Ergebnis für Bild ADE_train_00000672.jpg gespeichert: results/sd/ADE_train_00000672.jpg\n"
     ]
    },
    {
     "name": "stderr",
     "output_type": "stream",
     "text": [
      "100%|██████████| 25/25 [00:00<00:00, 145.02it/s]\n",
      "100%|██████████| 100/100 [00:04<00:00, 21.35it/s]\n"
     ]
    },
    {
     "name": "stdout",
     "output_type": "stream",
     "text": [
      "Ergebnis für Bild ADE_train_00001780.jpg gespeichert: results/sd/ADE_train_00001780.jpg\n"
     ]
    },
    {
     "name": "stderr",
     "output_type": "stream",
     "text": [
      "100%|██████████| 25/25 [00:00<00:00, 144.25it/s]\n",
      "100%|██████████| 100/100 [00:04<00:00, 21.33it/s]\n"
     ]
    },
    {
     "name": "stdout",
     "output_type": "stream",
     "text": [
      "Ergebnis für Bild ADE_train_00001984.jpg gespeichert: results/sd/ADE_train_00001984.jpg\n"
     ]
    },
    {
     "name": "stderr",
     "output_type": "stream",
     "text": [
      "100%|██████████| 25/25 [00:00<00:00, 144.74it/s]\n",
      "100%|██████████| 100/100 [00:04<00:00, 21.31it/s]\n"
     ]
    },
    {
     "name": "stdout",
     "output_type": "stream",
     "text": [
      "Ergebnis für Bild ADE_train_00000191.jpg gespeichert: results/sd/ADE_train_00000191.jpg\n"
     ]
    },
    {
     "name": "stderr",
     "output_type": "stream",
     "text": [
      "100%|██████████| 25/25 [00:00<00:00, 144.69it/s]\n",
      "100%|██████████| 100/100 [00:04<00:00, 21.05it/s]\n"
     ]
    },
    {
     "name": "stdout",
     "output_type": "stream",
     "text": [
      "Ergebnis für Bild ADE_train_00002280.jpg gespeichert: results/sd/ADE_train_00002280.jpg\n"
     ]
    },
    {
     "name": "stderr",
     "output_type": "stream",
     "text": [
      "100%|██████████| 25/25 [00:00<00:00, 144.86it/s]\n",
      "100%|██████████| 100/100 [00:04<00:00, 21.47it/s]\n"
     ]
    },
    {
     "name": "stdout",
     "output_type": "stream",
     "text": [
      "Ergebnis für Bild ADE_train_00001648.jpg gespeichert: results/sd/ADE_train_00001648.jpg\n"
     ]
    },
    {
     "name": "stderr",
     "output_type": "stream",
     "text": [
      "100%|██████████| 25/25 [00:00<00:00, 142.37it/s]\n",
      "100%|██████████| 100/100 [00:04<00:00, 21.41it/s]\n"
     ]
    },
    {
     "name": "stdout",
     "output_type": "stream",
     "text": [
      "Ergebnis für Bild ADE_train_00005330.jpg gespeichert: results/sd/ADE_train_00005330.jpg\n"
     ]
    },
    {
     "name": "stderr",
     "output_type": "stream",
     "text": [
      "100%|██████████| 25/25 [00:00<00:00, 144.27it/s]\n",
      "100%|██████████| 100/100 [00:04<00:00, 21.38it/s]\n"
     ]
    },
    {
     "name": "stdout",
     "output_type": "stream",
     "text": [
      "Ergebnis für Bild ADE_train_00021168.jpg gespeichert: results/sd/ADE_train_00021168.jpg\n"
     ]
    },
    {
     "name": "stderr",
     "output_type": "stream",
     "text": [
      "100%|██████████| 25/25 [00:00<00:00, 145.57it/s]\n",
      "100%|██████████| 100/100 [00:04<00:00, 20.93it/s]\n"
     ]
    },
    {
     "name": "stdout",
     "output_type": "stream",
     "text": [
      "Ergebnis für Bild ADE_train_00000659.jpg gespeichert: results/sd/ADE_train_00000659.jpg\n"
     ]
    },
    {
     "name": "stderr",
     "output_type": "stream",
     "text": [
      "100%|██████████| 25/25 [00:00<00:00, 145.71it/s]\n",
      "100%|██████████| 100/100 [00:04<00:00, 21.37it/s]\n"
     ]
    },
    {
     "name": "stdout",
     "output_type": "stream",
     "text": [
      "Ergebnis für Bild ADE_train_00002297.jpg gespeichert: results/sd/ADE_train_00002297.jpg\n"
     ]
    },
    {
     "name": "stderr",
     "output_type": "stream",
     "text": [
      "100%|██████████| 25/25 [00:00<00:00, 143.86it/s]\n",
      "100%|██████████| 100/100 [00:04<00:00, 21.10it/s]\n"
     ]
    },
    {
     "name": "stdout",
     "output_type": "stream",
     "text": [
      "Ergebnis für Bild ADE_train_00010977.jpg gespeichert: results/sd/ADE_train_00010977.jpg\n"
     ]
    },
    {
     "name": "stderr",
     "output_type": "stream",
     "text": [
      "100%|██████████| 25/25 [00:00<00:00, 144.80it/s]\n",
      "100%|██████████| 100/100 [00:04<00:00, 21.36it/s]\n"
     ]
    },
    {
     "name": "stdout",
     "output_type": "stream",
     "text": [
      "Ergebnis für Bild ADE_train_00001852.jpg gespeichert: results/sd/ADE_train_00001852.jpg\n"
     ]
    },
    {
     "name": "stderr",
     "output_type": "stream",
     "text": [
      "100%|██████████| 25/25 [00:00<00:00, 145.03it/s]\n",
      "100%|██████████| 100/100 [00:04<00:00, 20.96it/s]\n"
     ]
    },
    {
     "name": "stdout",
     "output_type": "stream",
     "text": [
      "Ergebnis für Bild ADE_train_00012239.jpg gespeichert: results/sd/ADE_train_00012239.jpg\n"
     ]
    },
    {
     "name": "stderr",
     "output_type": "stream",
     "text": [
      "100%|██████████| 25/25 [00:00<00:00, 144.70it/s]\n",
      "100%|██████████| 100/100 [00:04<00:00, 21.45it/s]\n"
     ]
    },
    {
     "name": "stdout",
     "output_type": "stream",
     "text": [
      "Ergebnis für Bild ADE_train_00020444.jpg gespeichert: results/sd/ADE_train_00020444.jpg\n"
     ]
    },
    {
     "name": "stderr",
     "output_type": "stream",
     "text": [
      "100%|██████████| 25/25 [00:00<00:00, 146.70it/s]\n",
      "100%|██████████| 100/100 [00:04<00:00, 20.86it/s]\n"
     ]
    },
    {
     "name": "stdout",
     "output_type": "stream",
     "text": [
      "Ergebnis für Bild ADE_train_00000657.jpg gespeichert: results/sd/ADE_train_00000657.jpg\n"
     ]
    },
    {
     "name": "stderr",
     "output_type": "stream",
     "text": [
      "100%|██████████| 25/25 [00:00<00:00, 144.75it/s]\n",
      "100%|██████████| 100/100 [00:04<00:00, 21.41it/s]\n"
     ]
    },
    {
     "name": "stdout",
     "output_type": "stream",
     "text": [
      "Ergebnis für Bild ADE_train_00001491.jpg gespeichert: results/sd/ADE_train_00001491.jpg\n"
     ]
    },
    {
     "name": "stderr",
     "output_type": "stream",
     "text": [
      "100%|██████████| 25/25 [00:00<00:00, 145.18it/s]\n",
      "100%|██████████| 100/100 [00:04<00:00, 21.30it/s]\n"
     ]
    },
    {
     "name": "stdout",
     "output_type": "stream",
     "text": [
      "Ergebnis für Bild ADE_train_00016054.jpg gespeichert: results/sd/ADE_train_00016054.jpg\n"
     ]
    },
    {
     "name": "stderr",
     "output_type": "stream",
     "text": [
      "100%|██████████| 25/25 [00:00<00:00, 145.79it/s]\n",
      "100%|██████████| 100/100 [00:04<00:00, 21.45it/s]\n"
     ]
    },
    {
     "name": "stdout",
     "output_type": "stream",
     "text": [
      "Ergebnis für Bild ADE_train_00001654.jpg gespeichert: results/sd/ADE_train_00001654.jpg\n"
     ]
    },
    {
     "name": "stderr",
     "output_type": "stream",
     "text": [
      "100%|██████████| 25/25 [00:00<00:00, 145.79it/s]\n",
      "100%|██████████| 100/100 [00:04<00:00, 20.91it/s]\n"
     ]
    },
    {
     "name": "stdout",
     "output_type": "stream",
     "text": [
      "Ergebnis für Bild ADE_train_00011669.jpg gespeichert: results/sd/ADE_train_00011669.jpg\n"
     ]
    },
    {
     "name": "stderr",
     "output_type": "stream",
     "text": [
      "100%|██████████| 25/25 [00:00<00:00, 142.16it/s]\n",
      "100%|██████████| 100/100 [00:04<00:00, 21.40it/s]\n"
     ]
    },
    {
     "name": "stdout",
     "output_type": "stream",
     "text": [
      "Ergebnis für Bild ADE_train_00019006.jpg gespeichert: results/sd/ADE_train_00019006.jpg\n"
     ]
    },
    {
     "name": "stderr",
     "output_type": "stream",
     "text": [
      "100%|██████████| 25/25 [00:00<00:00, 148.77it/s]\n",
      "100%|██████████| 100/100 [00:04<00:00, 21.11it/s]\n"
     ]
    },
    {
     "name": "stdout",
     "output_type": "stream",
     "text": [
      "Ergebnis für Bild ADE_train_00000675.jpg gespeichert: results/sd/ADE_train_00000675.jpg\n"
     ]
    },
    {
     "name": "stderr",
     "output_type": "stream",
     "text": [
      "100%|██████████| 25/25 [00:00<00:00, 144.68it/s]\n",
      "100%|██████████| 100/100 [00:05<00:00, 19.95it/s]\n"
     ]
    },
    {
     "name": "stdout",
     "output_type": "stream",
     "text": [
      "Ergebnis für Bild ADE_frame_00000026.jpg gespeichert: results/sd/ADE_frame_00000026.jpg\n"
     ]
    },
    {
     "name": "stderr",
     "output_type": "stream",
     "text": [
      "100%|██████████| 25/25 [00:00<00:00, 144.78it/s]\n",
      "100%|██████████| 100/100 [00:04<00:00, 21.07it/s]\n"
     ]
    },
    {
     "name": "stdout",
     "output_type": "stream",
     "text": [
      "Ergebnis für Bild ADE_train_00023924.jpg gespeichert: results/sd/ADE_train_00023924.jpg\n"
     ]
    },
    {
     "name": "stderr",
     "output_type": "stream",
     "text": [
      "100%|██████████| 25/25 [00:00<00:00, 145.12it/s]\n",
      "100%|██████████| 100/100 [00:04<00:00, 21.53it/s]\n"
     ]
    },
    {
     "name": "stdout",
     "output_type": "stream",
     "text": [
      "Ergebnis für Bild ADE_train_00014336.jpg gespeichert: results/sd/ADE_train_00014336.jpg\n"
     ]
    },
    {
     "name": "stderr",
     "output_type": "stream",
     "text": [
      "100%|██████████| 25/25 [00:00<00:00, 144.72it/s]\n",
      "100%|██████████| 100/100 [00:04<00:00, 21.59it/s]\n"
     ]
    },
    {
     "name": "stdout",
     "output_type": "stream",
     "text": [
      "Ergebnis für Bild ADE_train_00001769.jpg gespeichert: results/sd/ADE_train_00001769.jpg\n"
     ]
    },
    {
     "name": "stderr",
     "output_type": "stream",
     "text": [
      "100%|██████████| 25/25 [00:00<00:00, 144.78it/s]\n",
      "100%|██████████| 100/100 [00:04<00:00, 21.54it/s]\n"
     ]
    },
    {
     "name": "stdout",
     "output_type": "stream",
     "text": [
      "Ergebnis für Bild ADE_frame_00000166.jpg gespeichert: results/sd/ADE_frame_00000166.jpg\n"
     ]
    },
    {
     "name": "stderr",
     "output_type": "stream",
     "text": [
      "100%|██████████| 25/25 [00:00<00:00, 144.57it/s]\n",
      "100%|██████████| 100/100 [00:04<00:00, 21.56it/s]\n"
     ]
    },
    {
     "name": "stdout",
     "output_type": "stream",
     "text": [
      "Ergebnis für Bild ADE_train_00001644.jpg gespeichert: results/sd/ADE_train_00001644.jpg\n"
     ]
    },
    {
     "name": "stderr",
     "output_type": "stream",
     "text": [
      "100%|██████████| 25/25 [00:00<00:00, 142.60it/s]\n",
      "100%|██████████| 100/100 [00:04<00:00, 20.05it/s]\n"
     ]
    },
    {
     "name": "stdout",
     "output_type": "stream",
     "text": [
      "Ergebnis für Bild ADE_train_00001501.jpg gespeichert: results/sd/ADE_train_00001501.jpg\n"
     ]
    },
    {
     "name": "stderr",
     "output_type": "stream",
     "text": [
      "100%|██████████| 25/25 [00:00<00:00, 130.46it/s]\n",
      "100%|██████████| 100/100 [00:04<00:00, 20.05it/s]\n"
     ]
    },
    {
     "name": "stdout",
     "output_type": "stream",
     "text": [
      "Ergebnis für Bild ADE_train_00001551.jpg gespeichert: results/sd/ADE_train_00001551.jpg\n"
     ]
    },
    {
     "name": "stderr",
     "output_type": "stream",
     "text": [
      "100%|██████████| 25/25 [00:00<00:00, 126.87it/s]\n",
      "100%|██████████| 100/100 [00:04<00:00, 20.03it/s]\n"
     ]
    },
    {
     "name": "stdout",
     "output_type": "stream",
     "text": [
      "Ergebnis für Bild ADE_train_00001749.jpg gespeichert: results/sd/ADE_train_00001749.jpg\n"
     ]
    },
    {
     "name": "stderr",
     "output_type": "stream",
     "text": [
      "100%|██████████| 25/25 [00:00<00:00, 131.81it/s]\n",
      "100%|██████████| 100/100 [00:04<00:00, 21.03it/s]\n"
     ]
    },
    {
     "name": "stdout",
     "output_type": "stream",
     "text": [
      "Ergebnis für Bild ADE_train_00012275.jpg gespeichert: results/sd/ADE_train_00012275.jpg\n"
     ]
    },
    {
     "name": "stderr",
     "output_type": "stream",
     "text": [
      "100%|██████████| 25/25 [00:00<00:00, 145.83it/s]\n",
      "100%|██████████| 100/100 [00:04<00:00, 21.51it/s]\n"
     ]
    },
    {
     "name": "stdout",
     "output_type": "stream",
     "text": [
      "Ergebnis für Bild ADE_train_00001690.jpg gespeichert: results/sd/ADE_train_00001690.jpg\n"
     ]
    },
    {
     "name": "stderr",
     "output_type": "stream",
     "text": [
      "100%|██████████| 25/25 [00:00<00:00, 129.07it/s]\n",
      "100%|██████████| 100/100 [00:04<00:00, 20.63it/s]\n"
     ]
    },
    {
     "name": "stdout",
     "output_type": "stream",
     "text": [
      "Ergebnis für Bild ADE_train_00011863.jpg gespeichert: results/sd/ADE_train_00011863.jpg\n"
     ]
    },
    {
     "name": "stderr",
     "output_type": "stream",
     "text": [
      "100%|██████████| 25/25 [00:00<00:00, 145.74it/s]\n",
      "100%|██████████| 100/100 [00:04<00:00, 21.53it/s]\n"
     ]
    },
    {
     "name": "stdout",
     "output_type": "stream",
     "text": [
      "Ergebnis für Bild ADE_train_00001677.jpg gespeichert: results/sd/ADE_train_00001677.jpg\n"
     ]
    },
    {
     "name": "stderr",
     "output_type": "stream",
     "text": [
      "100%|██████████| 25/25 [00:00<00:00, 145.04it/s]\n",
      "100%|██████████| 100/100 [00:04<00:00, 21.34it/s]\n"
     ]
    },
    {
     "name": "stdout",
     "output_type": "stream",
     "text": [
      "Ergebnis für Bild ADE_train_00001636.jpg gespeichert: results/sd/ADE_train_00001636.jpg\n"
     ]
    },
    {
     "name": "stderr",
     "output_type": "stream",
     "text": [
      "100%|██████████| 25/25 [00:00<00:00, 146.17it/s]\n",
      "100%|██████████| 100/100 [00:04<00:00, 21.52it/s]\n"
     ]
    },
    {
     "name": "stdout",
     "output_type": "stream",
     "text": [
      "Ergebnis für Bild ADE_frame_00000044.jpg gespeichert: results/sd/ADE_frame_00000044.jpg\n"
     ]
    },
    {
     "name": "stderr",
     "output_type": "stream",
     "text": [
      "100%|██████████| 25/25 [00:00<00:00, 149.16it/s]\n",
      "100%|██████████| 100/100 [00:04<00:00, 21.37it/s]\n"
     ]
    },
    {
     "name": "stdout",
     "output_type": "stream",
     "text": [
      "Ergebnis für Bild ADE_train_00001669.jpg gespeichert: results/sd/ADE_train_00001669.jpg\n"
     ]
    },
    {
     "name": "stderr",
     "output_type": "stream",
     "text": [
      "100%|██████████| 25/25 [00:00<00:00, 145.26it/s]\n",
      "100%|██████████| 100/100 [00:04<00:00, 21.39it/s]\n"
     ]
    },
    {
     "name": "stdout",
     "output_type": "stream",
     "text": [
      "Ergebnis für Bild ADE_train_00003096.jpg gespeichert: results/sd/ADE_train_00003096.jpg\n"
     ]
    },
    {
     "name": "stderr",
     "output_type": "stream",
     "text": [
      "100%|██████████| 25/25 [00:00<00:00, 144.36it/s]\n",
      "100%|██████████| 100/100 [00:04<00:00, 21.40it/s]\n"
     ]
    },
    {
     "name": "stdout",
     "output_type": "stream",
     "text": [
      "Ergebnis für Bild ADE_train_00001708.jpg gespeichert: results/sd/ADE_train_00001708.jpg\n"
     ]
    },
    {
     "name": "stderr",
     "output_type": "stream",
     "text": [
      "100%|██████████| 25/25 [00:00<00:00, 145.38it/s]\n",
      "100%|██████████| 100/100 [00:04<00:00, 21.48it/s]\n"
     ]
    },
    {
     "name": "stdout",
     "output_type": "stream",
     "text": [
      "Ergebnis für Bild ADE_train_00001656.jpg gespeichert: results/sd/ADE_train_00001656.jpg\n"
     ]
    },
    {
     "name": "stderr",
     "output_type": "stream",
     "text": [
      "100%|██████████| 25/25 [00:00<00:00, 145.19it/s]\n",
      "100%|██████████| 100/100 [00:04<00:00, 21.26it/s]\n"
     ]
    },
    {
     "name": "stdout",
     "output_type": "stream",
     "text": [
      "Ergebnis für Bild ADE_train_00001639.jpg gespeichert: results/sd/ADE_train_00001639.jpg\n"
     ]
    },
    {
     "name": "stderr",
     "output_type": "stream",
     "text": [
      "100%|██████████| 25/25 [00:00<00:00, 145.14it/s]\n",
      "100%|██████████| 100/100 [00:04<00:00, 21.30it/s]\n"
     ]
    },
    {
     "name": "stdout",
     "output_type": "stream",
     "text": [
      "Ergebnis für Bild ADE_train_00001725.jpg gespeichert: results/sd/ADE_train_00001725.jpg\n"
     ]
    },
    {
     "name": "stderr",
     "output_type": "stream",
     "text": [
      "100%|██████████| 25/25 [00:00<00:00, 144.93it/s]\n",
      "100%|██████████| 100/100 [00:04<00:00, 21.22it/s]\n"
     ]
    },
    {
     "name": "stdout",
     "output_type": "stream",
     "text": [
      "Ergebnis für Bild ADE_train_00001658.jpg gespeichert: results/sd/ADE_train_00001658.jpg\n"
     ]
    },
    {
     "name": "stderr",
     "output_type": "stream",
     "text": [
      "100%|██████████| 25/25 [00:00<00:00, 144.17it/s]\n",
      "100%|██████████| 100/100 [00:04<00:00, 21.54it/s]\n"
     ]
    },
    {
     "name": "stdout",
     "output_type": "stream",
     "text": [
      "Ergebnis für Bild ADE_train_00005416.jpg gespeichert: results/sd/ADE_train_00005416.jpg\n"
     ]
    },
    {
     "name": "stderr",
     "output_type": "stream",
     "text": [
      "100%|██████████| 25/25 [00:00<00:00, 145.37it/s]\n",
      "100%|██████████| 100/100 [00:04<00:00, 21.62it/s]\n"
     ]
    },
    {
     "name": "stdout",
     "output_type": "stream",
     "text": [
      "Ergebnis für Bild ADE_train_00001801.jpg gespeichert: results/sd/ADE_train_00001801.jpg\n"
     ]
    },
    {
     "name": "stderr",
     "output_type": "stream",
     "text": [
      "100%|██████████| 25/25 [00:00<00:00, 128.74it/s]\n",
      "100%|██████████| 100/100 [00:04<00:00, 21.48it/s]\n"
     ]
    },
    {
     "name": "stdout",
     "output_type": "stream",
     "text": [
      "Ergebnis für Bild ADE_frame_00000016.jpg gespeichert: results/sd/ADE_frame_00000016.jpg\n"
     ]
    },
    {
     "name": "stderr",
     "output_type": "stream",
     "text": [
      "100%|██████████| 25/25 [00:00<00:00, 145.11it/s]\n",
      "100%|██████████| 100/100 [00:04<00:00, 21.49it/s]\n"
     ]
    },
    {
     "name": "stdout",
     "output_type": "stream",
     "text": [
      "Ergebnis für Bild ADE_train_00005415.jpg gespeichert: results/sd/ADE_train_00005415.jpg\n"
     ]
    },
    {
     "name": "stderr",
     "output_type": "stream",
     "text": [
      "100%|██████████| 25/25 [00:00<00:00, 141.70it/s]\n",
      "100%|██████████| 100/100 [00:04<00:00, 21.38it/s]\n"
     ]
    },
    {
     "name": "stdout",
     "output_type": "stream",
     "text": [
      "Ergebnis für Bild ADE_train_00022710.jpg gespeichert: results/sd/ADE_train_00022710.jpg\n"
     ]
    },
    {
     "name": "stderr",
     "output_type": "stream",
     "text": [
      "100%|██████████| 25/25 [00:00<00:00, 144.88it/s]\n",
      "100%|██████████| 100/100 [00:04<00:00, 21.11it/s]\n"
     ]
    },
    {
     "name": "stdout",
     "output_type": "stream",
     "text": [
      "Ergebnis für Bild ADE_train_00006409.jpg gespeichert: results/sd/ADE_train_00006409.jpg\n"
     ]
    },
    {
     "name": "stderr",
     "output_type": "stream",
     "text": [
      "100%|██████████| 25/25 [00:00<00:00, 145.29it/s]\n",
      "100%|██████████| 100/100 [00:04<00:00, 21.44it/s]\n"
     ]
    },
    {
     "name": "stdout",
     "output_type": "stream",
     "text": [
      "Ergebnis für Bild ADE_train_00002285.jpg gespeichert: results/sd/ADE_train_00002285.jpg\n"
     ]
    },
    {
     "name": "stderr",
     "output_type": "stream",
     "text": [
      "100%|██████████| 25/25 [00:00<00:00, 143.98it/s]\n",
      "100%|██████████| 100/100 [00:04<00:00, 21.24it/s]\n"
     ]
    },
    {
     "name": "stdout",
     "output_type": "stream",
     "text": [
      "Ergebnis für Bild ADE_train_00002272.jpg gespeichert: results/sd/ADE_train_00002272.jpg\n"
     ]
    },
    {
     "name": "stderr",
     "output_type": "stream",
     "text": [
      "100%|██████████| 25/25 [00:00<00:00, 144.36it/s]\n",
      "100%|██████████| 100/100 [00:04<00:00, 21.37it/s]\n"
     ]
    },
    {
     "name": "stdout",
     "output_type": "stream",
     "text": [
      "Ergebnis für Bild ADE_train_00012184.jpg gespeichert: results/sd/ADE_train_00012184.jpg\n"
     ]
    },
    {
     "name": "stderr",
     "output_type": "stream",
     "text": [
      "100%|██████████| 25/25 [00:00<00:00, 144.69it/s]\n",
      "100%|██████████| 100/100 [00:04<00:00, 21.43it/s]\n"
     ]
    },
    {
     "name": "stdout",
     "output_type": "stream",
     "text": [
      "Ergebnis für Bild ADE_train_00000660.jpg gespeichert: results/sd/ADE_train_00000660.jpg\n"
     ]
    },
    {
     "name": "stderr",
     "output_type": "stream",
     "text": [
      "100%|██████████| 25/25 [00:00<00:00, 144.48it/s]\n",
      "100%|██████████| 100/100 [00:04<00:00, 21.48it/s]\n"
     ]
    },
    {
     "name": "stdout",
     "output_type": "stream",
     "text": [
      "Ergebnis für Bild ADE_train_00001334.jpg gespeichert: results/sd/ADE_train_00001334.jpg\n"
     ]
    },
    {
     "name": "stderr",
     "output_type": "stream",
     "text": [
      "100%|██████████| 25/25 [00:00<00:00, 144.87it/s]\n",
      "100%|██████████| 100/100 [00:04<00:00, 21.49it/s]\n"
     ]
    },
    {
     "name": "stdout",
     "output_type": "stream",
     "text": [
      "Ergebnis für Bild ADE_train_00010767.jpg gespeichert: results/sd/ADE_train_00010767.jpg\n"
     ]
    },
    {
     "name": "stderr",
     "output_type": "stream",
     "text": [
      "100%|██████████| 25/25 [00:00<00:00, 145.95it/s]\n",
      "100%|██████████| 100/100 [00:04<00:00, 21.36it/s]\n"
     ]
    },
    {
     "name": "stdout",
     "output_type": "stream",
     "text": [
      "Ergebnis für Bild ADE_train_00008818.jpg gespeichert: results/sd/ADE_train_00008818.jpg\n"
     ]
    },
    {
     "name": "stderr",
     "output_type": "stream",
     "text": [
      "100%|██████████| 25/25 [00:00<00:00, 144.77it/s]\n",
      "100%|██████████| 100/100 [00:04<00:00, 21.30it/s]\n"
     ]
    },
    {
     "name": "stdout",
     "output_type": "stream",
     "text": [
      "Ergebnis für Bild ADE_train_00003099.jpg gespeichert: results/sd/ADE_train_00003099.jpg\n"
     ]
    },
    {
     "name": "stderr",
     "output_type": "stream",
     "text": [
      "100%|██████████| 25/25 [00:00<00:00, 146.12it/s]\n",
      "100%|██████████| 100/100 [00:04<00:00, 21.39it/s]\n"
     ]
    },
    {
     "name": "stdout",
     "output_type": "stream",
     "text": [
      "Ergebnis für Bild ADE_train_00012232.jpg gespeichert: results/sd/ADE_train_00012232.jpg\n"
     ]
    },
    {
     "name": "stderr",
     "output_type": "stream",
     "text": [
      "100%|██████████| 25/25 [00:00<00:00, 148.15it/s]\n",
      "100%|██████████| 100/100 [00:04<00:00, 21.22it/s]\n"
     ]
    },
    {
     "name": "stdout",
     "output_type": "stream",
     "text": [
      "Ergebnis für Bild ADE_train_00020863.jpg gespeichert: results/sd/ADE_train_00020863.jpg\n"
     ]
    },
    {
     "name": "stderr",
     "output_type": "stream",
     "text": [
      "100%|██████████| 25/25 [00:00<00:00, 144.56it/s]\n",
      "100%|██████████| 100/100 [00:04<00:00, 21.40it/s]\n"
     ]
    },
    {
     "name": "stdout",
     "output_type": "stream",
     "text": [
      "Ergebnis für Bild ADE_train_00009499.jpg gespeichert: results/sd/ADE_train_00009499.jpg\n"
     ]
    }
   ],
   "source": [
    "real_images = []\n",
    "sd_images = []\n",
    "\n",
    "# Schleife durch alle Bilder und Masken\n",
    "\n",
    "image_gen = image_mask_generator(images_dir, masks_dir, image_files)\n",
    "for fname, image, mask in image_gen:\n",
    "\n",
    "    result = sd_inpaint(image, mask) # Infill mit sd und neuer maske\n",
    "\n",
    "    real_images.append(image)\n",
    "    sd_images.append(result)\n",
    "\n",
    "    # Append and save result\n",
    "    save_result(image, result, fname, 'sd')"
   ]
  },
  {
   "cell_type": "code",
   "execution_count": 20,
   "id": "b479783f-2932-4596-bbf2-0b0e43156e75",
   "metadata": {},
   "outputs": [
    {
     "name": "stdout",
     "output_type": "stream",
     "text": [
      "Setting up [LPIPS] perceptual loss: trunk [alex], v[0.1], spatial [off]\n",
      "Loading model from: /home/ludo/.conda/envs/lama/lib/python3.10/site-packages/lpips/weights/v0.1/alex.pth\n",
      "FID: 74.0543441772461\n",
      "LPIPS: 0.1777137964963913\n"
     ]
    }
   ],
   "source": [
    "# Preprocess the images (resize and convert to tensors)\n",
    "real_images_tensor = preprocess_images(real_images, target_size)\n",
    "sd_images_tensor = preprocess_images(sd_images, target_size)\n",
    "\n",
    "fid_score = calculate_fid(real_images_tensor, sd_images_tensor)\n",
    "\n",
    "lpips_score = calculate_lpips(real_images_tensor, sd_images_tensor)\n",
    "\n",
    "print(f\"FID: {fid_score}\")\n",
    "print(f\"LPIPS: {lpips_score}\")"
   ]
  },
  {
   "cell_type": "code",
   "execution_count": null,
   "id": "b0f4db5b-f979-4230-8176-bb2b2c4c98c9",
   "metadata": {},
   "outputs": [],
   "source": []
  }
 ],
 "metadata": {
  "kernelspec": {
   "display_name": "lama-simple-kernel",
   "language": "python",
   "name": "lama-simple-kernel"
  },
  "language_info": {
   "codemirror_mode": {
    "name": "ipython",
    "version": 3
   },
   "file_extension": ".py",
   "mimetype": "text/x-python",
   "name": "python",
   "nbconvert_exporter": "python",
   "pygments_lexer": "ipython3",
   "version": "3.10.16"
  }
 },
 "nbformat": 4,
 "nbformat_minor": 5
}
