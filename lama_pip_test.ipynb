{
 "cells": [
  {
   "cell_type": "code",
   "execution_count": 60,
   "id": "9ac90967-b247-4622-8b21-fba738f26b08",
   "metadata": {},
   "outputs": [],
   "source": [
    "from simple_lama_inpainting import SimpleLama\n",
    "from PIL import Image, ImageChops, ImageDraw\n",
    "import numpy as np\n",
    "import cv2\n",
    "import os"
   ]
  },
  {
   "cell_type": "code",
   "execution_count": 69,
   "id": "f3c94963-5e5b-4abb-9c8d-7dbc540ef35b",
   "metadata": {},
   "outputs": [],
   "source": [
    "# 1. Lama"
   ]
  },
  {
   "cell_type": "code",
   "execution_count": 65,
   "id": "430387fd-ab51-423a-bb23-d9a0960f0a8f",
   "metadata": {},
   "outputs": [],
   "source": [
    "def narrow_mask(mask, iterations=1):\n",
    "    mask_array = np.array(mask)\n",
    "    kernel = np.ones((3, 3), np.uint8)\n",
    "    narrowed_mask = mask_array\n",
    "    for _ in range(iterations):\n",
    "        narrowed_mask = cv2.erode(narrowed_mask, kernel, iterations=1)\n",
    "    return Image.fromarray(narrowed_mask)\n",
    "\n",
    "# Funktion, um die Maske zu erweitern (Dilation)\n",
    "def expand_mask(mask, iterations=1):\n",
    "    mask_array = np.array(mask)\n",
    "    kernel = np.ones((3, 3), np.uint8)\n",
    "    expanded_mask = mask_array\n",
    "    for _ in range(iterations):\n",
    "        expanded_mask = cv2.dilate(expanded_mask, kernel, iterations=1)\n",
    "    return Image.fromarray(expanded_mask)"
   ]
  },
  {
   "cell_type": "code",
   "execution_count": 66,
   "id": "84811d0d-d005-4501-8c1f-a7869ffdddd3",
   "metadata": {},
   "outputs": [],
   "source": [
    "\n",
    "# Liste von Bild- und Masken-Pfaden\n",
    "image_paths = [\n",
    "    \"images/ADE_00432_aquarium.jpg\",\n",
    "    \"images/ADE_train_00022632.jpg\",\n",
    "    \"images/ADE_train_00001495.jpg\",\n",
    "    \"images/ADE_train_00022636.jpg\",\n",
    "    \"images/ADE_train_00022635.jpg\",\n",
    "    \"images/ADE_frame_00000079.jpg\"\n",
    "]\n",
    "\n",
    "mask_paths = [\n",
    "    \"images/ADE_000432_aquarium_mask.png\",\n",
    "    \"images/instance_001_ADE_train_00022632.png\",\n",
    "    \"images/instance_001_ADE_train_00001495.png\",\n",
    "    \"images/instance_001_ADE_train_00022636.png\",\n",
    "    \"images/instance_007_ADE_train_00022635.png\",\n",
    "    \"images/instance_016_ADE_frame_00000079.png\"\n",
    "]"
   ]
  },
  {
   "cell_type": "code",
   "execution_count": 67,
   "id": "3a725d5f-01d3-4e7a-8a4b-221c1a8a95f0",
   "metadata": {},
   "outputs": [],
   "source": [
    "# Initialisiere SimpleLama\n",
    "simple_lama = SimpleLama()"
   ]
  },
  {
   "cell_type": "code",
   "execution_count": 68,
   "id": "2052f419-cbe7-4512-aaf6-73de47bdb4d4",
   "metadata": {},
   "outputs": [
    {
     "name": "stdout",
     "output_type": "stream",
     "text": [
      "Ergebnis für Bild 1 gespeichert: results/expandandnarrowmask_inpainted_progressive_1_3.png\n",
      "Ergebnis für Bild 2 gespeichert: results/expandandnarrowmask_inpainted_progressive_2_3.png\n",
      "Ergebnis für Bild 3 gespeichert: results/expandandnarrowmask_inpainted_progressive_3_3.png\n",
      "Ergebnis für Bild 4 gespeichert: results/expandandnarrowmask_inpainted_progressive_4_3.png\n",
      "Ergebnis für Bild 5 gespeichert: results/expandandnarrowmask_inpainted_progressive_5_3.png\n",
      "Ergebnis für Bild 6 gespeichert: results/expandandnarrowmask_inpainted_progressive_6_3.png\n"
     ]
    }
   ],
   "source": [
    "# Iterationen für Maskenmanipulation\n",
    "ITERATIONS = 3\n",
    "\n",
    "# Schleife durch alle Bilder und Masken\n",
    "for i in range(len(image_paths)):\n",
    "    # Lade Bild und Maske\n",
    "    image = Image.open(image_paths[i])\n",
    "    mask = Image.open(mask_paths[i]).convert('L')\n",
    "\n",
    "    # Schritt 1: Verenge die Maske (shrink the inpainting region)\n",
    "    mask = narrow_mask(mask, iterations=ITERATIONS)  # Maske verengen\n",
    "\n",
    "    # Schritt 2: Progressive Inpainting durch schrittweise Erweiterung der Maske\n",
    "    for step in range(ITERATIONS + 1):  # Anzahl der progressiven Schritte\n",
    "        result = simple_lama(image, mask)\n",
    "        mask = expand_mask(mask, iterations=1)  # Maske schrittweise erweitern\n",
    "        image = result  # Das Ergebnis als Eingabe für den nächsten Schritt\n",
    "\n",
    "    # Speichere das finale Ergebnis\n",
    "    result_path = f\"results/expandandnarrowmask_inpainted_progressive_{i+1}_{ITERATIONS}.png\"\n",
    "    result.save(result_path)\n",
    "    print(f\"Ergebnis für Bild {i+1} gespeichert: {result_path}\")"
   ]
  },
  {
   "cell_type": "code",
   "execution_count": 37,
   "id": "91ff8565-59da-4853-8023-22fdbc5d2ec2",
   "metadata": {},
   "outputs": [],
   "source": [
    "'''\n",
    "# Old code\n",
    "from simple_lama_inpainting import SimpleLama\n",
    "from PIL import Image, ImageChops, ImageDraw\n",
    "import numpy as np\n",
    "import cv2\n",
    "\n",
    "# Function to narrow the mask (erosion)\n",
    "def narrow_mask(mask, iterations=1):\n",
    "    mask_array = np.array(mask)\n",
    "    kernel = np.ones((3, 3), np.uint8)\n",
    "    narrowed_mask = mask_array\n",
    "    for _ in range(iterations):\n",
    "        narrowed_mask = cv2.erode(narrowed_mask, kernel, iterations=1)\n",
    "    return Image.fromarray(narrowed_mask)\n",
    "\n",
    "# Function to expand the mask (dilation)\n",
    "def expand_mask(mask, iterations=1):\n",
    "    mask_array = np.array(mask)\n",
    "    kernel = np.ones((3, 3), np.uint8)\n",
    "    expanded_mask = mask_array\n",
    "    for _ in range(iterations):\n",
    "        expanded_mask = cv2.dilate(expanded_mask, kernel, iterations=1)\n",
    "    return Image.fromarray(expanded_mask)\n",
    "\n",
    "# Initialize SimpleLama\n",
    "simple_lama = SimpleLama()\n",
    "\n",
    "# Load image and initial mask\n",
    "img_path = \"images/image.png\"\n",
    "mask_path = \"images/mask.png\"\n",
    "\n",
    "image = Image.open(img_path)\n",
    "mask = Image.open(mask_path).convert('L')\n",
    "\n",
    "ITERATIONS = 3\n",
    "\n",
    "# Step 1: Narrow the mask (shrink the inpainting region)\n",
    "mask = narrow_mask(mask, iterations=ITERATIONS)  # Narrow the mask\n",
    "\n",
    "# Step 2: Progressive inpainting by expanding the mask\n",
    "for step in range(ITERATIONS +1):  # Number of progressive steps\n",
    "    result = simple_lama(image, mask)\n",
    "    mask = expand_mask(mask, iterations=1)  # Expand mask gradually\n",
    "    image = result  # Use the result as input for the next step\n",
    "\n",
    "# Save the final result\n",
    "result.save(f\"results/inpainted_progressive_{ITERATIONS}.png\")\n",
    "'''"
   ]
  },
  {
   "cell_type": "code",
   "execution_count": 74,
   "id": "e7ddbcee-08cf-421a-9fa7-c9e2b3a14bd2",
   "metadata": {},
   "outputs": [],
   "source": [
    "# Funktion, um OpenCV-Inpainting durchzuführen\n",
    "def inpaint_with_opencv(image, mask, inpaint_radius=3, method=cv2.INPAINT_TELEA):\n",
    "    # Konvertiere das PIL-Image zu einem OpenCV-kompatiblen NumPy-Array\n",
    "    image_array = np.array(image)\n",
    "    mask_array = np.array(mask)\n",
    "\n",
    "    # Sicherstellen, dass Maske binär ist (0 und 255)\n",
    "    _, mask_array = cv2.threshold(mask_array, 1, 255, cv2.THRESH_BINARY)\n",
    "\n",
    "    # OpenCV-Inpainting\n",
    "    inpainted_image = cv2.inpaint(image_array, mask_array, inpaint_radius, method)\n",
    "\n",
    "    return Image.fromarray(cv2.cvtColor(inpainted_image, cv2.COLOR_BGR2RGB))"
   ]
  },
  {
   "cell_type": "code",
   "execution_count": 79,
   "id": "50f80a0a-1343-4f82-b7b4-dd4a40fae5c8",
   "metadata": {},
   "outputs": [
    {
     "name": "stdout",
     "output_type": "stream",
     "text": [
      "Defaulting to user installation because normal site-packages is not writeable\n",
      "Requirement already satisfied: pyparsing in /usr/lib/python3/dist-packages (2.4.7)\n"
     ]
    }
   ],
   "source": [
    "# Baseline - Opencv"
   ]
  },
  {
   "cell_type": "code",
   "execution_count": 84,
   "id": "8703ed07-d5ce-409c-9593-4c33da0f7dd4",
   "metadata": {},
   "outputs": [
    {
     "name": "stdout",
     "output_type": "stream",
     "text": [
      "OpenCV-Inpainting-Ergebnis für Bild 1 gespeichert: results/opencv/expandenmask_opencv_inpainted_1.png\n",
      "OpenCV-Inpainting-Ergebnis für Bild 2 gespeichert: results/opencv/expandenmask_opencv_inpainted_2.png\n",
      "OpenCV-Inpainting-Ergebnis für Bild 3 gespeichert: results/opencv/expandenmask_opencv_inpainted_3.png\n",
      "OpenCV-Inpainting-Ergebnis für Bild 4 gespeichert: results/opencv/expandenmask_opencv_inpainted_4.png\n",
      "OpenCV-Inpainting-Ergebnis für Bild 5 gespeichert: results/opencv/expandenmask_opencv_inpainted_5.png\n",
      "OpenCV-Inpainting-Ergebnis für Bild 6 gespeichert: results/opencv/expandenmask_opencv_inpainted_6.png\n"
     ]
    }
   ],
   "source": [
    "from PIL import Image\n",
    "import os\n",
    "\n",
    "# Iterationen für Maskenmanipulation\n",
    "ITERATIONS = 5\n",
    "\n",
    "# Schleife durch alle Bilder und Masken\n",
    "for i in range(len(image_paths)):\n",
    "    # Lade Bild und Maske\n",
    "    image = Image.open(image_paths[i])\n",
    "    mask = Image.open(mask_paths[i]).convert('L')\n",
    "    #mask = expand_mask(mask, iterations=1)\n",
    "\n",
    "    # OpenCV-Inpainting durchführen\n",
    "    opencv_result = inpaint_with_opencv(image, mask)\n",
    "\n",
    "    # Ergebnis speichern\n",
    "    opencv_result_path = f\"results/opencv/opencv_inpainted_{i+1}.png\"\n",
    "    opencv_result.save(opencv_result_path)\n",
    "    print(f\"OpenCV-Inpainting-Ergebnis für Bild {i+1} gespeichert: {opencv_result_path}\")\n"
   ]
  },
  {
   "cell_type": "code",
   "execution_count": null,
   "id": "e4f61e52-9003-462c-beda-44bfdd384ff3",
   "metadata": {},
   "outputs": [],
   "source": [
    "## Stable Diffusion"
   ]
  },
  {
   "cell_type": "code",
   "execution_count": 92,
   "id": "8e9f0837-038d-4c22-8d53-b255ce0541a4",
   "metadata": {},
   "outputs": [
    {
     "name": "stderr",
     "output_type": "stream",
     "text": [
      "Loading pipeline components...: 100%|██████████| 3/3 [00:00<00:00,  8.55it/s]\n",
      "Loading pipeline components...: 100%|██████████| 6/6 [00:00<00:00,  6.23it/s]\n"
     ]
    }
   ],
   "source": [
    "import torch\n",
    "from diffusers import AutoPipelineForInpainting\n",
    "from diffusers.utils import load_image, make_image_grid\n",
    "from PIL import Image\n",
    "import numpy as np\n",
    "\n",
    "# Pipeline initialisieren\n",
    "pipeline = AutoPipelineForInpainting.from_pretrained(\n",
    "    \"kandinsky-community/kandinsky-2-2-decoder-inpaint\", torch_dtype=torch.float16\n",
    ")\n",
    "pipeline.enable_model_cpu_offload()\n",
    "\n",
    "# Generator mit festem Seed für reproduzierbare Ergebnisse\n",
    "generator = torch.Generator(\"cuda\").manual_seed(92)"
   ]
  },
  {
   "cell_type": "code",
   "execution_count": 95,
   "id": "08ab475f-dff7-423a-ac6f-a69956d62130",
   "metadata": {},
   "outputs": [
    {
     "name": "stderr",
     "output_type": "stream",
     "text": [
      "100%|██████████| 25/25 [00:00<00:00, 134.80it/s]\n",
      "100%|██████████| 100/100 [00:05<00:00, 19.46it/s]\n"
     ]
    },
    {
     "name": "stdout",
     "output_type": "stream",
     "text": [
      "Stable Diffusion Ergebnis gespeichert: results_kandinsky/with_expand_kandinsky_inpainted_1.png\n"
     ]
    },
    {
     "name": "stderr",
     "output_type": "stream",
     "text": [
      "/bin/xdg-open: 882: www-browser: not found\n",
      "/bin/xdg-open: 882: links2: not found\n",
      "/bin/xdg-open: 882: elinks: not found\n",
      "/bin/xdg-open: 882: links: not found\n",
      "/bin/xdg-open: 882: lynx: not found\n",
      "/bin/xdg-open: 882: w3m: not found\n",
      "xdg-open: no method available for opening '/tmp/tmpv2y8r0sj.PNG'\n",
      "100%|██████████| 25/25 [00:00<00:00, 130.66it/s]\n",
      "100%|██████████| 100/100 [00:05<00:00, 18.87it/s]\n"
     ]
    },
    {
     "name": "stdout",
     "output_type": "stream",
     "text": [
      "Stable Diffusion Ergebnis gespeichert: results_kandinsky/with_expand_kandinsky_inpainted_2.png\n"
     ]
    },
    {
     "name": "stderr",
     "output_type": "stream",
     "text": [
      "/bin/xdg-open: 882: www-browser: not found\n",
      "/bin/xdg-open: 882: links2: not found\n",
      "/bin/xdg-open: 882: elinks: not found\n",
      "/bin/xdg-open: 882: links: not found\n",
      "/bin/xdg-open: 882: lynx: not found\n",
      "/bin/xdg-open: 882: w3m: not found\n",
      "xdg-open: no method available for opening '/tmp/tmpg5ufmx_d.PNG'\n",
      "100%|██████████| 25/25 [00:00<00:00, 134.50it/s]\n",
      "100%|██████████| 100/100 [00:05<00:00, 19.15it/s]\n"
     ]
    },
    {
     "name": "stdout",
     "output_type": "stream",
     "text": [
      "Stable Diffusion Ergebnis gespeichert: results_kandinsky/with_expand_kandinsky_inpainted_3.png\n"
     ]
    },
    {
     "name": "stderr",
     "output_type": "stream",
     "text": [
      "/bin/xdg-open: 882: www-browser: not found\n",
      "/bin/xdg-open: 882: links2: not found\n",
      "/bin/xdg-open: 882: elinks: not found\n",
      "/bin/xdg-open: 882: links: not found\n",
      "/bin/xdg-open: 882: lynx: not found\n",
      "/bin/xdg-open: 882: w3m: not found\n",
      "xdg-open: no method available for opening '/tmp/tmpb3jn3cil.PNG'\n",
      "100%|██████████| 25/25 [00:00<00:00, 129.63it/s]\n",
      "100%|██████████| 100/100 [00:05<00:00, 19.00it/s]\n"
     ]
    },
    {
     "name": "stdout",
     "output_type": "stream",
     "text": [
      "Stable Diffusion Ergebnis gespeichert: results_kandinsky/with_expand_kandinsky_inpainted_4.png\n"
     ]
    },
    {
     "name": "stderr",
     "output_type": "stream",
     "text": [
      "/bin/xdg-open: 882: www-browser: not found\n",
      "/bin/xdg-open: 882: links2: not found\n",
      "/bin/xdg-open: 882: elinks: not found\n",
      "/bin/xdg-open: 882: links: not found\n",
      "/bin/xdg-open: 882: lynx: not found\n",
      "/bin/xdg-open: 882: w3m: not found\n",
      "xdg-open: no method available for opening '/tmp/tmpqp3z9ru0.PNG'\n",
      "100%|██████████| 25/25 [00:00<00:00, 132.64it/s]\n",
      "100%|██████████| 100/100 [00:05<00:00, 19.57it/s]\n"
     ]
    },
    {
     "name": "stdout",
     "output_type": "stream",
     "text": [
      "Stable Diffusion Ergebnis gespeichert: results_kandinsky/with_expand_kandinsky_inpainted_5.png\n"
     ]
    },
    {
     "name": "stderr",
     "output_type": "stream",
     "text": [
      "/bin/xdg-open: 882: www-browser: not found\n",
      "/bin/xdg-open: 882: links2: not found\n",
      "/bin/xdg-open: 882: elinks: not found\n",
      "/bin/xdg-open: 882: links: not found\n",
      "/bin/xdg-open: 882: lynx: not found\n",
      "/bin/xdg-open: 882: w3m: not found\n",
      "xdg-open: no method available for opening '/tmp/tmpddvvfbkj.PNG'\n",
      "100%|██████████| 25/25 [00:00<00:00, 106.97it/s]\n",
      "100%|██████████| 100/100 [00:05<00:00, 19.97it/s]\n"
     ]
    },
    {
     "name": "stdout",
     "output_type": "stream",
     "text": [
      "Stable Diffusion Ergebnis gespeichert: results_kandinsky/with_expand_kandinsky_inpainted_6.png\n"
     ]
    },
    {
     "name": "stderr",
     "output_type": "stream",
     "text": [
      "/bin/xdg-open: 882: www-browser: not found\n",
      "/bin/xdg-open: 882: links2: not found\n",
      "/bin/xdg-open: 882: elinks: not found\n",
      "/bin/xdg-open: 882: links: not found\n",
      "/bin/xdg-open: 882: lynx: not found\n",
      "/bin/xdg-open: 882: w3m: not found\n",
      "xdg-open: no method available for opening '/tmp/tmpgn_30i3y.PNG'\n"
     ]
    }
   ],
   "source": [
    "# Prompt für das Inpainting\n",
    "prompt = \"empty\"\n",
    "\n",
    "# Ergebnisordner erstellen\n",
    "result_dir = \"results_kandinsky\"\n",
    "os.makedirs(result_dir, exist_ok=True)\n",
    "\n",
    "# Schleife für Bilder und Masken\n",
    "for i, (image_path, mask_path) in enumerate(zip(image_paths, mask_paths)):\n",
    "    # Originalbild und Maske laden\n",
    "    image_original = load_image(image_path)\n",
    "    mask_image = load_image(mask_path).convert('L')  # Maske in Graustufen\n",
    "\n",
    "    #mask_image = expand_mask(mask_image, iterations=1)\n",
    "\n",
    " \n",
    "    # Inpainting mit Stable Diffusion\n",
    "    result = pipeline(\n",
    "        prompt=prompt,\n",
    "        image=image_original,\n",
    "        mask_image=blurred_mask,\n",
    "        generator=generator\n",
    "    ).images[0]\n",
    "\n",
    "    # Ergebnis speichern\n",
    "    result_path = f\"{result_dir}/kandinsky_inpainted_{i+1}.png\"\n",
    "    result.save(result_path)\n",
    "    print(f\"Stable Diffusion Ergebnis gespeichert: {result_path}\")\n",
    "\n",
    "    # Ergebnisse als Gitter anzeigen (optional)\n",
    "    grid = make_image_grid([image_original, blurred_mask, result], rows=1, cols=3)\n",
    "    grid.show()"
   ]
  }
 ],
 "metadata": {
  "kernelspec": {
   "display_name": "lama-simple-kernel",
   "language": "python",
   "name": "lama-simple-kernel"
  },
  "language_info": {
   "codemirror_mode": {
    "name": "ipython",
    "version": 3
   },
   "file_extension": ".py",
   "mimetype": "text/x-python",
   "name": "python",
   "nbconvert_exporter": "python",
   "pygments_lexer": "ipython3",
   "version": "3.10.16"
  }
 },
 "nbformat": 4,
 "nbformat_minor": 5
}
